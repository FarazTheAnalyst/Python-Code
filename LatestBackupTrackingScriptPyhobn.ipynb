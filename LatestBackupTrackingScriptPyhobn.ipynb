{
 "cells": [
  {
   "cell_type": "code",
   "execution_count": 3,
   "metadata": {},
   "outputs": [
    {
     "name": "stdout",
     "output_type": "stream",
     "text": [
      "Folder: CheckBackStatus\n",
      "Latest backup file: D:/CheckBackStatus\\adv_workdw_fullbak19_20241114.bak\n",
      "Last modified: 2024-11-14 10:24:11.081335\n",
      "\n",
      "Folder: FarazGill\n",
      "Latest backup file: D:/FarazGill\\adv_work_fullbak19_20241114.bak\n",
      "Last modified: 2024-11-14 10:26:31.986824\n",
      "\n"
     ]
    }
   ],
   "source": [
    "import os\n",
    "from glob import glob\n",
    "from datetime import datetime\n",
    "\n",
    "main_directory = 'D:/'\n",
    "\n",
    "latest_files = {}\n",
    "\n",
    "for folder in os.listdir(main_directory):\n",
    "    folder_path = os.path.join(main_directory, folder)\n",
    "    \n",
    "    if os.path.isdir(folder_path):\n",
    "        files = glob(os.path.join(folder_path, '*.bak'))  \n",
    "\n",
    "        if files:\n",
    "            latest_file = max(files, key=os.path.getmtime)\n",
    "            latest_files[folder] = latest_file\n",
    "\n",
    "for folder, latest_file in latest_files.items():\n",
    "    modified_time = datetime.fromtimestamp(os.path.getmtime(latest_file))\n",
    "    print(f\"Folder: {folder}\")\n",
    "    print(f\"Latest backup file: {latest_file}\")\n",
    "    print(f\"Last modified: {modified_time}\\n\")\n"
   ]
  },
  {
   "cell_type": "code",
   "execution_count": null,
   "metadata": {},
   "outputs": [],
   "source": []
  }
 ],
 "metadata": {
  "kernelspec": {
   "display_name": "base",
   "language": "python",
   "name": "python3"
  },
  "language_info": {
   "codemirror_mode": {
    "name": "ipython",
    "version": 3
   },
   "file_extension": ".py",
   "mimetype": "text/x-python",
   "name": "python",
   "nbconvert_exporter": "python",
   "pygments_lexer": "ipython3",
   "version": "3.12.3"
  }
 },
 "nbformat": 4,
 "nbformat_minor": 2
}
