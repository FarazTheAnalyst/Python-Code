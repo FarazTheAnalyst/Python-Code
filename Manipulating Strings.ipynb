{
 "cells": [
  {
   "cell_type": "code",
   "execution_count": 1,
   "id": "38b8cae2",
   "metadata": {},
   "outputs": [],
   "source": [
    "# Double Quotes\n",
    "bam = \"That is Alice's cat\" # with double quotes you can write a string that can have a single quote character in it."
   ]
  },
  {
   "cell_type": "code",
   "execution_count": 4,
   "id": "2e583674",
   "metadata": {},
   "outputs": [],
   "source": [
    "# escape Characters\n",
    "bam = 'say hi to Azlan\\'s mother.' #using a backslach (\\) it is not a single quote meant to end the string valuew."
   ]
  },
  {
   "cell_type": "code",
   "execution_count": 5,
   "id": "616ab762",
   "metadata": {},
   "outputs": [
    {
     "data": {
      "text/plain": [
       "\"say hi to Azlan's mother.\""
      ]
     },
     "execution_count": 5,
     "metadata": {},
     "output_type": "execute_result"
    }
   ],
   "source": [
    "bam"
   ]
  },
  {
   "cell_type": "code",
   "execution_count": 6,
   "id": "f90290a8",
   "metadata": {},
   "outputs": [
    {
     "name": "stdout",
     "output_type": "stream",
     "text": [
      "hello there!\n",
      "How are you ?\n",
      "I'M doing fine.\n"
     ]
    }
   ],
   "source": [
    "print(\"hello there!\\nHow are you ?\\nI\\'M doing fine.\")"
   ]
  },
  {
   "cell_type": "code",
   "execution_count": 7,
   "id": "da896045",
   "metadata": {},
   "outputs": [
    {
     "name": "stdout",
     "output_type": "stream",
     "text": [
      "That is carol\\'s cat.\n"
     ]
    },
    {
     "data": {
      "text/plain": [
       "'C:\\\\Users\\\\Al\\\\Desktop'"
      ]
     },
     "execution_count": 7,
     "metadata": {},
     "output_type": "execute_result"
    }
   ],
   "source": [
    "# Raw Strings\n",
    "print(r'That is carol\\'s cat.') # raw stirn completely ignores all escape characters and prints any backslash that apperas in the string\n",
    "r'C:\\Users\\Al\\Desktop'  #its help for such kind of stings\n"
   ]
  },
  {
   "cell_type": "code",
   "execution_count": 17,
   "id": "5da8a332",
   "metadata": {},
   "outputs": [
    {
     "name": "stdout",
     "output_type": "stream",
     "text": [
      "Dear Arham,\n",
      "Urwa's cat has been arrested for catnapping, cat burglary, and extortion.\n",
      "Sincelrely,\n",
      "Akhtar\n",
      "Dear Arham,\n",
      "\n",
      "Urwa's cat has been arrested for catnapping, cat burglary, and extortion.\n",
      "\n",
      "Sincerely,\n",
      "Bob\n"
     ]
    }
   ],
   "source": [
    "# Multiline Strings with Triple Quotes\n",
    "print('''Dear Arham,\n",
    "Urwa's cat has been arrested for catnapping, cat burglary, and extortion.\n",
    "Sincelrely,\n",
    "Akhtar''')  # The single quote character in Urwa's does not need to be escaped\n",
    "\n",
    "\n"
   ]
  },
  {
   "cell_type": "code",
   "execution_count": 18,
   "id": "724fcd2b",
   "metadata": {},
   "outputs": [
    {
     "name": "stdout",
     "output_type": "stream",
     "text": [
      "Dear Arham,\n",
      "\n",
      "Urwa's cat has been arrested for catnapping, cat burglary, and extortion.\n",
      "\n",
      "Sincerely,\n",
      "Bob\n"
     ]
    }
   ],
   "source": [
    "# This line has identical result, to the last one.\n",
    "print('Dear Arham,\\n\\nUrwa\\'s cat has been arrested for catnapping, cat burglary, and extortion.\\n\\nSincerely,\\nBob')\n"
   ]
  },
  {
   "cell_type": "code",
   "execution_count": 21,
   "id": "75ae652d",
   "metadata": {},
   "outputs": [
    {
     "data": {
      "text/plain": [
       "'This is the 75th independence day of Pakistan.\\n\\npakistanis are celebriting it today'"
      ]
     },
     "execution_count": 21,
     "metadata": {},
     "output_type": "execute_result"
    }
   ],
   "source": [
    "# Multiline Comments\n",
    "\"\"\"This is the 75th independence day of Pakistan.\n",
    "\n",
    "pakistanis are celebriting it today\"\"\"\n",
    "\n"
   ]
  },
  {
   "cell_type": "code",
   "execution_count": 35,
   "id": "4169ae10",
   "metadata": {},
   "outputs": [
    {
     "name": "stdout",
     "output_type": "stream",
     "text": [
      "Hello!\n"
     ]
    }
   ],
   "source": [
    "def spam(name):\n",
    "    \"\"\"This is a multiline comment to help\n",
    "    explain what the spam() function does.\"\"\"\n",
    "\n",
    "print('Hello!')"
   ]
  },
  {
   "cell_type": "code",
   "execution_count": 56,
   "id": "40429147",
   "metadata": {},
   "outputs": [],
   "source": [
    "# Indexing and Slicing Strings\n",
    "spam = 'Hello, world!'"
   ]
  },
  {
   "cell_type": "code",
   "execution_count": 57,
   "id": "38e093c9",
   "metadata": {},
   "outputs": [
    {
     "data": {
      "text/plain": [
       "'H'"
      ]
     },
     "execution_count": 57,
     "metadata": {},
     "output_type": "execute_result"
    }
   ],
   "source": [
    "spam[0]"
   ]
  },
  {
   "cell_type": "code",
   "execution_count": 58,
   "id": "86877cb7",
   "metadata": {},
   "outputs": [
    {
     "data": {
      "text/plain": [
       "'o'"
      ]
     },
     "execution_count": 58,
     "metadata": {},
     "output_type": "execute_result"
    }
   ],
   "source": [
    "spam[4]"
   ]
  },
  {
   "cell_type": "code",
   "execution_count": 59,
   "id": "65e34e90",
   "metadata": {},
   "outputs": [
    {
     "data": {
      "text/plain": [
       "'!'"
      ]
     },
     "execution_count": 59,
     "metadata": {},
     "output_type": "execute_result"
    }
   ],
   "source": [
    "spam[-1]"
   ]
  },
  {
   "cell_type": "code",
   "execution_count": 60,
   "id": "e7224238",
   "metadata": {},
   "outputs": [
    {
     "data": {
      "text/plain": [
       "'Hello'"
      ]
     },
     "execution_count": 60,
     "metadata": {},
     "output_type": "execute_result"
    }
   ],
   "source": [
    "spam[0:5]"
   ]
  },
  {
   "cell_type": "code",
   "execution_count": 61,
   "id": "cc6f8e06",
   "metadata": {},
   "outputs": [
    {
     "data": {
      "text/plain": [
       "'Hello'"
      ]
     },
     "execution_count": 61,
     "metadata": {},
     "output_type": "execute_result"
    }
   ],
   "source": [
    "spam[:5]"
   ]
  },
  {
   "cell_type": "code",
   "execution_count": 62,
   "id": "25a6e30f",
   "metadata": {},
   "outputs": [
    {
     "data": {
      "text/plain": [
       "'world!'"
      ]
     },
     "execution_count": 62,
     "metadata": {},
     "output_type": "execute_result"
    }
   ],
   "source": [
    "spam[7:]"
   ]
  },
  {
   "cell_type": "code",
   "execution_count": 63,
   "id": "597b895e",
   "metadata": {},
   "outputs": [],
   "source": [
    "spam= 'Hello, world!'  #slicing does not modify the original string\n",
    "fizz = spam[0:5]"
   ]
  },
  {
   "cell_type": "code",
   "execution_count": 64,
   "id": "d79e9655",
   "metadata": {},
   "outputs": [
    {
     "data": {
      "text/plain": [
       "'Hello'"
      ]
     },
     "execution_count": 64,
     "metadata": {},
     "output_type": "execute_result"
    }
   ],
   "source": [
    "fizz"
   ]
  },
  {
   "cell_type": "code",
   "execution_count": 65,
   "id": "a2450199",
   "metadata": {},
   "outputs": [
    {
     "data": {
      "text/plain": [
       "'Hello, world!'"
      ]
     },
     "execution_count": 65,
     "metadata": {},
     "output_type": "execute_result"
    }
   ],
   "source": [
    "spam"
   ]
  },
  {
   "cell_type": "code",
   "execution_count": 66,
   "id": "b434927c",
   "metadata": {},
   "outputs": [
    {
     "data": {
      "text/plain": [
       "True"
      ]
     },
     "execution_count": 66,
     "metadata": {},
     "output_type": "execute_result"
    }
   ],
   "source": [
    "# The in and not in Operators with Strings\n",
    "'Hello' in 'Hello, world'"
   ]
  },
  {
   "cell_type": "code",
   "execution_count": 67,
   "id": "8d917bed",
   "metadata": {},
   "outputs": [
    {
     "data": {
      "text/plain": [
       "True"
      ]
     },
     "execution_count": 67,
     "metadata": {},
     "output_type": "execute_result"
    }
   ],
   "source": [
    "'Hello' in 'Hello'"
   ]
  },
  {
   "cell_type": "code",
   "execution_count": 68,
   "id": "3acb2e44",
   "metadata": {},
   "outputs": [
    {
     "data": {
      "text/plain": [
       "False"
      ]
     },
     "execution_count": 68,
     "metadata": {},
     "output_type": "execute_result"
    }
   ],
   "source": [
    "'hello' in 'Hello, World'"
   ]
  },
  {
   "cell_type": "code",
   "execution_count": 69,
   "id": "1a223513",
   "metadata": {},
   "outputs": [
    {
     "data": {
      "text/plain": [
       "True"
      ]
     },
     "execution_count": 69,
     "metadata": {},
     "output_type": "execute_result"
    }
   ],
   "source": [
    "'' in 'spam'"
   ]
  },
  {
   "cell_type": "code",
   "execution_count": 70,
   "id": "ac700f37",
   "metadata": {},
   "outputs": [
    {
     "data": {
      "text/plain": [
       "True"
      ]
     },
     "execution_count": 70,
     "metadata": {},
     "output_type": "execute_result"
    }
   ],
   "source": [
    "'' in 'faraz'"
   ]
  },
  {
   "cell_type": "code",
   "execution_count": 71,
   "id": "2f786f70",
   "metadata": {},
   "outputs": [
    {
     "data": {
      "text/plain": [
       "False"
      ]
     },
     "execution_count": 71,
     "metadata": {},
     "output_type": "execute_result"
    }
   ],
   "source": [
    "'world' not in 'Hello, world'"
   ]
  },
  {
   "cell_type": "code",
   "execution_count": 72,
   "id": "5fec3d62",
   "metadata": {},
   "outputs": [
    {
     "data": {
      "text/plain": [
       "False"
      ]
     },
     "execution_count": 72,
     "metadata": {},
     "output_type": "execute_result"
    }
   ],
   "source": [
    "'cats' not in 'cats and dogs'"
   ]
  },
  {
   "cell_type": "code",
   "execution_count": 79,
   "id": "058aeb1e",
   "metadata": {},
   "outputs": [
    {
     "data": {
      "text/plain": [
       "'Hello, my name is FA. I am 6000 years old.'"
      ]
     },
     "execution_count": 79,
     "metadata": {},
     "output_type": "execute_result"
    }
   ],
   "source": [
    "# Putting Strings Inside Other Strings\n",
    "name = 'FA'\n",
    "age = 6000\n",
    "'Hello, my name is ' + name + '. I am ' + str(age) + ' years old.'"
   ]
  },
  {
   "cell_type": "code",
   "execution_count": 80,
   "id": "fbd6f893",
   "metadata": {},
   "outputs": [
    {
     "data": {
      "text/plain": [
       "'Hello, my name is FA. I am 6000 years old.'"
      ]
     },
     "execution_count": 80,
     "metadata": {},
     "output_type": "execute_result"
    }
   ],
   "source": [
    "name  = 'FA'  #interpolation  %s.\n",
    "age = 6000\n",
    "'Hello, my name is %s. I am %s years old.' % (name, age)"
   ]
  },
  {
   "cell_type": "code",
   "execution_count": 83,
   "id": "9c914c37",
   "metadata": {},
   "outputs": [
    {
     "data": {
      "text/plain": [
       "'Hello, my name is FA. Next year I wil be 6001.'"
      ]
     },
     "execution_count": 83,
     "metadata": {},
     "output_type": "execute_result"
    }
   ],
   "source": [
    "name = 'FA' # f-stirngs \n",
    "age = 6000\n",
    "f'Hello, my name is {name}. Next year I wil be {age + 1}.'"
   ]
  },
  {
   "cell_type": "code",
   "execution_count": 84,
   "id": "30db721c",
   "metadata": {},
   "outputs": [
    {
     "data": {
      "text/plain": [
       "'Hello, my name is {name}. Next year I wil be {age + 1}.'"
      ]
     },
     "execution_count": 84,
     "metadata": {},
     "output_type": "execute_result"
    }
   ],
   "source": [
    "#remember to include the f prefix;  otherwise, the braces and their contents will be a part of the sting value.\n",
    "name = 'FA'\n",
    "age = 6000\n",
    "'Hello, my name is {name}. Next year I wil be {age + 1}.'"
   ]
  },
  {
   "cell_type": "code",
   "execution_count": 85,
   "id": "904bcf4b",
   "metadata": {},
   "outputs": [],
   "source": [
    "# Useful String Methods\n",
    "#The upper(), lower(), isupper(), and islower() Methods.\n",
    "spam = 'Hello world!'\n"
   ]
  },
  {
   "cell_type": "code",
   "execution_count": 88,
   "id": "5f600f72",
   "metadata": {},
   "outputs": [
    {
     "data": {
      "text/plain": [
       "'hello world!'"
      ]
     },
     "execution_count": 88,
     "metadata": {},
     "output_type": "execute_result"
    }
   ],
   "source": [
    "spam.lower() #does not change the orignal spam string to lower."
   ]
  },
  {
   "cell_type": "code",
   "execution_count": 89,
   "id": "78c1eaf0",
   "metadata": {},
   "outputs": [
    {
     "data": {
      "text/plain": [
       "'Hello world!'"
      ]
     },
     "execution_count": 89,
     "metadata": {},
     "output_type": "execute_result"
    }
   ],
   "source": [
    "spam"
   ]
  },
  {
   "cell_type": "code",
   "execution_count": 90,
   "id": "7d820f80",
   "metadata": {},
   "outputs": [],
   "source": [
    "# if you want to change a orignal spam string.\n",
    "spam = spam.lower()"
   ]
  },
  {
   "cell_type": "code",
   "execution_count": 92,
   "id": "7f051b6e",
   "metadata": {},
   "outputs": [
    {
     "data": {
      "text/plain": [
       "'hello world!'"
      ]
     },
     "execution_count": 92,
     "metadata": {},
     "output_type": "execute_result"
    }
   ],
   "source": [
    "spam  # orignal spam variable changed."
   ]
  },
  {
   "cell_type": "code",
   "execution_count": 93,
   "id": "395c2e5f",
   "metadata": {},
   "outputs": [],
   "source": [
    "spam = 'Hello world!'"
   ]
  },
  {
   "cell_type": "code",
   "execution_count": 94,
   "id": "94f9ca5e",
   "metadata": {},
   "outputs": [
    {
     "data": {
      "text/plain": [
       "'HELLO WORLD!'"
      ]
     },
     "execution_count": 94,
     "metadata": {},
     "output_type": "execute_result"
    }
   ],
   "source": [
    "spam.upper()"
   ]
  },
  {
   "cell_type": "code",
   "execution_count": 95,
   "id": "1cc6caa2",
   "metadata": {},
   "outputs": [
    {
     "data": {
      "text/plain": [
       "'Hello world!'"
      ]
     },
     "execution_count": 95,
     "metadata": {},
     "output_type": "execute_result"
    }
   ],
   "source": [
    "spam"
   ]
  },
  {
   "cell_type": "code",
   "execution_count": 98,
   "id": "8fee9cb1",
   "metadata": {},
   "outputs": [
    {
     "name": "stdout",
     "output_type": "stream",
     "text": [
      "How are you?\n",
      "HOW\n",
      "I hope the rest of your day is good.\n"
     ]
    }
   ],
   "source": [
    "# Program\n",
    "print('How are you?')\n",
    "feeling = input()\n",
    "if feeling.lower() == 'great':\n",
    "    print('I feel great too.')\n",
    "else:\n",
    "    print('I hope the rest of your day is good.')"
   ]
  },
  {
   "cell_type": "code",
   "execution_count": 99,
   "id": "592521d5",
   "metadata": {},
   "outputs": [],
   "source": [
    "# The isupper() and islower() Method returns Boolean True value\n",
    "spam = 'Hello, world!'"
   ]
  },
  {
   "cell_type": "code",
   "execution_count": 100,
   "id": "abcc4e80",
   "metadata": {},
   "outputs": [
    {
     "data": {
      "text/plain": [
       "False"
      ]
     },
     "execution_count": 100,
     "metadata": {},
     "output_type": "execute_result"
    }
   ],
   "source": [
    "spam.islower()"
   ]
  },
  {
   "cell_type": "code",
   "execution_count": 101,
   "id": "4281ac12",
   "metadata": {},
   "outputs": [
    {
     "data": {
      "text/plain": [
       "False"
      ]
     },
     "execution_count": 101,
     "metadata": {},
     "output_type": "execute_result"
    }
   ],
   "source": [
    "spam.isupper()"
   ]
  },
  {
   "cell_type": "code",
   "execution_count": 102,
   "id": "00257efd",
   "metadata": {},
   "outputs": [
    {
     "data": {
      "text/plain": [
       "True"
      ]
     },
     "execution_count": 102,
     "metadata": {},
     "output_type": "execute_result"
    }
   ],
   "source": [
    "'HELLO'.isupper()"
   ]
  },
  {
   "cell_type": "code",
   "execution_count": 103,
   "id": "af27a513",
   "metadata": {},
   "outputs": [
    {
     "data": {
      "text/plain": [
       "True"
      ]
     },
     "execution_count": 103,
     "metadata": {},
     "output_type": "execute_result"
    }
   ],
   "source": [
    "'abc12345'.islower()"
   ]
  },
  {
   "cell_type": "code",
   "execution_count": 104,
   "id": "505ff082",
   "metadata": {},
   "outputs": [
    {
     "data": {
      "text/plain": [
       "False"
      ]
     },
     "execution_count": 104,
     "metadata": {},
     "output_type": "execute_result"
    }
   ],
   "source": [
    "'12345'.islower()"
   ]
  },
  {
   "cell_type": "code",
   "execution_count": 105,
   "id": "bfcd9bff",
   "metadata": {},
   "outputs": [
    {
     "data": {
      "text/plain": [
       "False"
      ]
     },
     "execution_count": 105,
     "metadata": {},
     "output_type": "execute_result"
    }
   ],
   "source": [
    "'12345'.isupper()"
   ]
  },
  {
   "cell_type": "code",
   "execution_count": 107,
   "id": "8a6501e5",
   "metadata": {},
   "outputs": [
    {
     "data": {
      "text/plain": [
       "'HELLO'"
      ]
     },
     "execution_count": 107,
     "metadata": {},
     "output_type": "execute_result"
    }
   ],
   "source": [
    "'Hello'.upper()"
   ]
  },
  {
   "cell_type": "code",
   "execution_count": 108,
   "id": "1e4489e8",
   "metadata": {},
   "outputs": [
    {
     "data": {
      "text/plain": [
       "'hello'"
      ]
     },
     "execution_count": 108,
     "metadata": {},
     "output_type": "execute_result"
    }
   ],
   "source": [
    "'Hello'.upper().lower()"
   ]
  },
  {
   "cell_type": "code",
   "execution_count": 109,
   "id": "e5a8c782",
   "metadata": {},
   "outputs": [
    {
     "data": {
      "text/plain": [
       "'hello'"
      ]
     },
     "execution_count": 109,
     "metadata": {},
     "output_type": "execute_result"
    }
   ],
   "source": [
    "'HELLO'.lower()"
   ]
  },
  {
   "cell_type": "code",
   "execution_count": 110,
   "id": "85b2e522",
   "metadata": {},
   "outputs": [
    {
     "data": {
      "text/plain": [
       "True"
      ]
     },
     "execution_count": 110,
     "metadata": {},
     "output_type": "execute_result"
    }
   ],
   "source": [
    "'HELLO'.lower().islower()"
   ]
  },
  {
   "cell_type": "code",
   "execution_count": 112,
   "id": "6ef33f86",
   "metadata": {},
   "outputs": [
    {
     "data": {
      "text/plain": [
       "False"
      ]
     },
     "execution_count": 112,
     "metadata": {},
     "output_type": "execute_result"
    }
   ],
   "source": [
    "# The isX() Methods\n",
    "'hello'.isalpha()"
   ]
  },
  {
   "cell_type": "code",
   "execution_count": 113,
   "id": "e20e9326",
   "metadata": {},
   "outputs": [
    {
     "data": {
      "text/plain": [
       "False"
      ]
     },
     "execution_count": 113,
     "metadata": {},
     "output_type": "execute_result"
    }
   ],
   "source": [
    "'hello123'.isalpha()"
   ]
  },
  {
   "cell_type": "code",
   "execution_count": 114,
   "id": "719ca2f5",
   "metadata": {},
   "outputs": [
    {
     "data": {
      "text/plain": [
       "True"
      ]
     },
     "execution_count": 114,
     "metadata": {},
     "output_type": "execute_result"
    }
   ],
   "source": [
    "'hello124'.isalnum()"
   ]
  },
  {
   "cell_type": "code",
   "execution_count": 115,
   "id": "430ea5d8",
   "metadata": {},
   "outputs": [
    {
     "data": {
      "text/plain": [
       "True"
      ]
     },
     "execution_count": 115,
     "metadata": {},
     "output_type": "execute_result"
    }
   ],
   "source": [
    "'hello'.isalnum()"
   ]
  },
  {
   "cell_type": "code",
   "execution_count": 116,
   "id": "c6aa9594",
   "metadata": {},
   "outputs": [
    {
     "data": {
      "text/plain": [
       "True"
      ]
     },
     "execution_count": 116,
     "metadata": {},
     "output_type": "execute_result"
    }
   ],
   "source": [
    "'123'.isalnum()"
   ]
  },
  {
   "cell_type": "code",
   "execution_count": 117,
   "id": "ff8c2178",
   "metadata": {},
   "outputs": [
    {
     "data": {
      "text/plain": [
       "True"
      ]
     },
     "execution_count": 117,
     "metadata": {},
     "output_type": "execute_result"
    }
   ],
   "source": [
    "'123'.isdecimal()"
   ]
  },
  {
   "cell_type": "code",
   "execution_count": 118,
   "id": "f1446c4a",
   "metadata": {},
   "outputs": [
    {
     "data": {
      "text/plain": [
       "True"
      ]
     },
     "execution_count": 118,
     "metadata": {},
     "output_type": "execute_result"
    }
   ],
   "source": [
    "'  '.isspace()"
   ]
  },
  {
   "cell_type": "code",
   "execution_count": 119,
   "id": "0906c43e",
   "metadata": {},
   "outputs": [
    {
     "data": {
      "text/plain": [
       "True"
      ]
     },
     "execution_count": 119,
     "metadata": {},
     "output_type": "execute_result"
    }
   ],
   "source": [
    "'This Is Title Case'.istitle()"
   ]
  },
  {
   "cell_type": "code",
   "execution_count": 120,
   "id": "565143c8",
   "metadata": {},
   "outputs": [
    {
     "data": {
      "text/plain": [
       "True"
      ]
     },
     "execution_count": 120,
     "metadata": {},
     "output_type": "execute_result"
    }
   ],
   "source": [
    "'This Is Title Case 123'. istitle()"
   ]
  },
  {
   "cell_type": "code",
   "execution_count": 121,
   "id": "54b53eb7",
   "metadata": {},
   "outputs": [
    {
     "data": {
      "text/plain": [
       "False"
      ]
     },
     "execution_count": 121,
     "metadata": {},
     "output_type": "execute_result"
    }
   ],
   "source": [
    "'This Is not Ttile Case'.istitle()"
   ]
  },
  {
   "cell_type": "code",
   "execution_count": 122,
   "id": "63ccaf74",
   "metadata": {},
   "outputs": [
    {
     "data": {
      "text/plain": [
       "False"
      ]
     },
     "execution_count": 122,
     "metadata": {},
     "output_type": "execute_result"
    }
   ],
   "source": [
    "'This is NOT Title Case Either'.istitle()"
   ]
  },
  {
   "cell_type": "code",
   "execution_count": 126,
   "id": "0cf4c5bb",
   "metadata": {},
   "outputs": [
    {
     "name": "stdout",
     "output_type": "stream",
     "text": [
      "Enter your age.\n",
      "5t5\n",
      "Please enter a number for your age.\n",
      "Enter your age.\n",
      "jk5*\n",
      "Please enter a number for your age.\n",
      "Enter your age.\n",
      "7jh\n",
      "Please enter a number for your age.\n",
      "Enter your age.\n",
      "455\n",
      "Select a new password (letters and number only.):\n",
      "jghjg5#\n",
      "Passwords can only have letters and numbers.\n",
      "Select a new password (letters and number only.):\n",
      "hhg66\n"
     ]
    }
   ],
   "source": [
    "# Program\n",
    "while True:\n",
    "    print('Enter your age.')\n",
    "    age = input()\n",
    "    if age.isdecimal():\n",
    "        break\n",
    "    print('Please enter a number for your age.')\n",
    "    \n",
    "while True:\n",
    "    print('Select a new password (letters and number only.):')\n",
    "    password = input()\n",
    "    if password.isalnum():\n",
    "        break\n",
    "    print('Passwords can only have letters and numbers.')"
   ]
  },
  {
   "cell_type": "code",
   "execution_count": 127,
   "id": "40d86bca",
   "metadata": {},
   "outputs": [
    {
     "data": {
      "text/plain": [
       "True"
      ]
     },
     "execution_count": 127,
     "metadata": {},
     "output_type": "execute_result"
    }
   ],
   "source": [
    "# The startswith(), and endswith() Methods\n",
    "'Hello, world!'.startswith('Hello')"
   ]
  },
  {
   "cell_type": "code",
   "execution_count": 128,
   "id": "37d6c964",
   "metadata": {},
   "outputs": [
    {
     "data": {
      "text/plain": [
       "True"
      ]
     },
     "execution_count": 128,
     "metadata": {},
     "output_type": "execute_result"
    }
   ],
   "source": [
    "'Hello, world!'.endswith('world!')"
   ]
  },
  {
   "cell_type": "code",
   "execution_count": 131,
   "id": "a1113a12",
   "metadata": {},
   "outputs": [
    {
     "data": {
      "text/plain": [
       "False"
      ]
     },
     "execution_count": 131,
     "metadata": {},
     "output_type": "execute_result"
    }
   ],
   "source": [
    "'abc123'.startswith('abcdef')"
   ]
  },
  {
   "cell_type": "code",
   "execution_count": 132,
   "id": "496ed6bc",
   "metadata": {},
   "outputs": [
    {
     "data": {
      "text/plain": [
       "False"
      ]
     },
     "execution_count": 132,
     "metadata": {},
     "output_type": "execute_result"
    }
   ],
   "source": [
    "'abc123'.endswith('12')"
   ]
  },
  {
   "cell_type": "code",
   "execution_count": 133,
   "id": "d959cb35",
   "metadata": {},
   "outputs": [
    {
     "data": {
      "text/plain": [
       "True"
      ]
     },
     "execution_count": 133,
     "metadata": {},
     "output_type": "execute_result"
    }
   ],
   "source": [
    "'Hello, world!'.startswith('Hello, world!')"
   ]
  },
  {
   "cell_type": "code",
   "execution_count": 134,
   "id": "9852a5f8",
   "metadata": {},
   "outputs": [
    {
     "data": {
      "text/plain": [
       "True"
      ]
     },
     "execution_count": 134,
     "metadata": {},
     "output_type": "execute_result"
    }
   ],
   "source": [
    "'Hello, world!'.endswith('Hello, world!')"
   ]
  },
  {
   "cell_type": "code",
   "execution_count": 137,
   "id": "1c27c421",
   "metadata": {},
   "outputs": [
    {
     "data": {
      "text/plain": [
       "'cats, rats, crow'"
      ]
     },
     "execution_count": 137,
     "metadata": {},
     "output_type": "execute_result"
    }
   ],
   "source": [
    "# The join() and split() Methods\n",
    "', '.join(['cats', 'rats', 'crow'])"
   ]
  },
  {
   "cell_type": "code",
   "execution_count": 138,
   "id": "bb5c9a46",
   "metadata": {},
   "outputs": [
    {
     "data": {
      "text/plain": [
       "'My name is Faraz'"
      ]
     },
     "execution_count": 138,
     "metadata": {},
     "output_type": "execute_result"
    }
   ],
   "source": [
    "' '.join(['My', 'name', 'is', 'Faraz'])"
   ]
  },
  {
   "cell_type": "code",
   "execution_count": 140,
   "id": "b7c94ad0",
   "metadata": {},
   "outputs": [
    {
     "data": {
      "text/plain": [
       "'MyXYZnameXYZisXYZFaraz'"
      ]
     },
     "execution_count": 140,
     "metadata": {},
     "output_type": "execute_result"
    }
   ],
   "source": [
    "'XYZ'.join(['My', 'name', 'is', 'Faraz'])"
   ]
  },
  {
   "cell_type": "code",
   "execution_count": 141,
   "id": "6db52d3b",
   "metadata": {},
   "outputs": [
    {
     "data": {
      "text/plain": [
       "['My', 'name', 'is', 'Faraz']"
      ]
     },
     "execution_count": 141,
     "metadata": {},
     "output_type": "execute_result"
    }
   ],
   "source": [
    "'My name is Faraz'.split()"
   ]
  },
  {
   "cell_type": "code",
   "execution_count": 145,
   "id": "3af5e469",
   "metadata": {},
   "outputs": [
    {
     "data": {
      "text/plain": [
       "['My', 'name', 'is', 'Faraz']"
      ]
     },
     "execution_count": 145,
     "metadata": {},
     "output_type": "execute_result"
    }
   ],
   "source": [
    "'MyABCnameABCisABCFaraz'.split('ABC') # you can pass delimiter string to the split()"
   ]
  },
  {
   "cell_type": "code",
   "execution_count": 146,
   "id": "33f3b84c",
   "metadata": {},
   "outputs": [
    {
     "data": {
      "text/plain": [
       "['My n', 'me is F', 'r', 'z']"
      ]
     },
     "execution_count": 146,
     "metadata": {},
     "output_type": "execute_result"
    }
   ],
   "source": [
    "'My name is Faraz'.split('a')"
   ]
  },
  {
   "cell_type": "code",
   "execution_count": 151,
   "id": "87d92da2",
   "metadata": {},
   "outputs": [],
   "source": [
    "spam = '''Dear Alice,\n",
    "How have you been? I am fine.\n",
    "There is a character in the fridge \n",
    "that is labeled \"Milk Experiment.\"\n",
    "\n",
    "Please do not drink it.\n",
    "Sincerely,\n",
    "Bob'''"
   ]
  },
  {
   "cell_type": "code",
   "execution_count": 152,
   "id": "820f708d",
   "metadata": {},
   "outputs": [
    {
     "data": {
      "text/plain": [
       "['Dear Alice,',\n",
       " 'How have you been? I am fine.',\n",
       " 'There is a character in the fridge ',\n",
       " 'that is labeled \"Milk Experiment.\"',\n",
       " '',\n",
       " 'Please do not drink it.',\n",
       " 'Sincerely,',\n",
       " 'Bob']"
      ]
     },
     "execution_count": 152,
     "metadata": {},
     "output_type": "execute_result"
    }
   ],
   "source": [
    "spam.split('\\n')"
   ]
  },
  {
   "cell_type": "code",
   "execution_count": 153,
   "id": "c276606c",
   "metadata": {},
   "outputs": [
    {
     "data": {
      "text/plain": [
       "('Hello, ', 'w', 'orld1')"
      ]
     },
     "execution_count": 153,
     "metadata": {},
     "output_type": "execute_result"
    }
   ],
   "source": [
    "# Splitting Stirngs with the partition()Method\n",
    "'Hello, world1'.partition('w')"
   ]
  },
  {
   "cell_type": "code",
   "execution_count": 154,
   "id": "a2c6c8ac",
   "metadata": {},
   "outputs": [
    {
     "data": {
      "text/plain": [
       "('Hello, ', 'world', '!')"
      ]
     },
     "execution_count": 154,
     "metadata": {},
     "output_type": "execute_result"
    }
   ],
   "source": [
    "'Hello, world!'.partition('world')"
   ]
  },
  {
   "cell_type": "code",
   "execution_count": 155,
   "id": "4d7fcd47",
   "metadata": {},
   "outputs": [
    {
     "data": {
      "text/plain": [
       "('He', 'llo', ', world!')"
      ]
     },
     "execution_count": 155,
     "metadata": {},
     "output_type": "execute_result"
    }
   ],
   "source": [
    "'Hello, world!'.partition('llo')"
   ]
  },
  {
   "cell_type": "code",
   "execution_count": 157,
   "id": "abb431b3",
   "metadata": {},
   "outputs": [
    {
     "data": {
      "text/plain": [
       "('Hello, world!', '', '')"
      ]
     },
     "execution_count": 157,
     "metadata": {},
     "output_type": "execute_result"
    }
   ],
   "source": [
    "''' if the separator string can't be found, the first string returned in the tuple will be the entire string.\n",
    "the other two strings will be empty'''\n",
    "'Hello, world!'.partition('XYZ')\n"
   ]
  },
  {
   "cell_type": "code",
   "execution_count": 158,
   "id": "91f46faa",
   "metadata": {},
   "outputs": [
    {
     "data": {
      "text/plain": [
       "('Hell', 'o', ', world!')"
      ]
     },
     "execution_count": 158,
     "metadata": {},
     "output_type": "execute_result"
    }
   ],
   "source": [
    "''' if the separator string you pass to partition() occurs multiple times in the string taht partition()calls, \n",
    "the method splits the string only on the first occurrence'''\n",
    "'Hello, world!'.partition('o')"
   ]
  },
  {
   "cell_type": "code",
   "execution_count": 159,
   "id": "cd3b6656",
   "metadata": {},
   "outputs": [],
   "source": [
    "# you can use the multiple assignment trick to assign the three returned strings to three vriables\n",
    "before, sep, after ='Hello, world!'.partition(' ')"
   ]
  },
  {
   "cell_type": "code",
   "execution_count": 160,
   "id": "9068239e",
   "metadata": {},
   "outputs": [
    {
     "data": {
      "text/plain": [
       "'Hello,'"
      ]
     },
     "execution_count": 160,
     "metadata": {},
     "output_type": "execute_result"
    }
   ],
   "source": [
    "before"
   ]
  },
  {
   "cell_type": "code",
   "execution_count": 161,
   "id": "cf12f060",
   "metadata": {},
   "outputs": [
    {
     "data": {
      "text/plain": [
       "' '"
      ]
     },
     "execution_count": 161,
     "metadata": {},
     "output_type": "execute_result"
    }
   ],
   "source": [
    "sep"
   ]
  },
  {
   "cell_type": "code",
   "execution_count": 162,
   "id": "201ea2b0",
   "metadata": {},
   "outputs": [
    {
     "data": {
      "text/plain": [
       "'world!'"
      ]
     },
     "execution_count": 162,
     "metadata": {},
     "output_type": "execute_result"
    }
   ],
   "source": [
    "after"
   ]
  },
  {
   "cell_type": "code",
   "execution_count": 164,
   "id": "1198ae52",
   "metadata": {},
   "outputs": [
    {
     "data": {
      "text/plain": [
       "'     Hello'"
      ]
     },
     "execution_count": 164,
     "metadata": {},
     "output_type": "execute_result"
    }
   ],
   "source": [
    "# justifying Text with the rjust(), ljust(), and center() Methods\n",
    "'Hello'.rjust(10)"
   ]
  },
  {
   "cell_type": "code",
   "execution_count": 165,
   "id": "0e927348",
   "metadata": {},
   "outputs": [
    {
     "data": {
      "text/plain": [
       "'               Hello'"
      ]
     },
     "execution_count": 165,
     "metadata": {},
     "output_type": "execute_result"
    }
   ],
   "source": [
    "'Hello'.rjust(20)"
   ]
  },
  {
   "cell_type": "code",
   "execution_count": 166,
   "id": "b0cd4666",
   "metadata": {},
   "outputs": [
    {
     "data": {
      "text/plain": [
       "'        Hello, world'"
      ]
     },
     "execution_count": 166,
     "metadata": {},
     "output_type": "execute_result"
    }
   ],
   "source": [
    "'Hello, world'.rjust(20)"
   ]
  },
  {
   "cell_type": "code",
   "execution_count": 168,
   "id": "3ec0c6fb",
   "metadata": {},
   "outputs": [
    {
     "data": {
      "text/plain": [
       "'Hello     '"
      ]
     },
     "execution_count": 168,
     "metadata": {},
     "output_type": "execute_result"
    }
   ],
   "source": [
    "'Hello'.ljust(10)"
   ]
  },
  {
   "cell_type": "code",
   "execution_count": 169,
   "id": "a179970e",
   "metadata": {},
   "outputs": [
    {
     "data": {
      "text/plain": [
       "'Hello, world!       '"
      ]
     },
     "execution_count": 169,
     "metadata": {},
     "output_type": "execute_result"
    }
   ],
   "source": [
    "'Hello, world!'.ljust(20)"
   ]
  },
  {
   "cell_type": "code",
   "execution_count": 171,
   "id": "7af1ae25",
   "metadata": {},
   "outputs": [
    {
     "data": {
      "text/plain": [
       "'***************Hello'"
      ]
     },
     "execution_count": 171,
     "metadata": {},
     "output_type": "execute_result"
    }
   ],
   "source": [
    "'Hello'.rjust(20, '*')"
   ]
  },
  {
   "cell_type": "code",
   "execution_count": 172,
   "id": "4d296094",
   "metadata": {},
   "outputs": [
    {
     "data": {
      "text/plain": [
       "'Hello---------------'"
      ]
     },
     "execution_count": 172,
     "metadata": {},
     "output_type": "execute_result"
    }
   ],
   "source": [
    "'Hello'.ljust(20, '-')"
   ]
  },
  {
   "cell_type": "code",
   "execution_count": 173,
   "id": "694b1d10",
   "metadata": {},
   "outputs": [
    {
     "data": {
      "text/plain": [
       "'       Hello        '"
      ]
     },
     "execution_count": 173,
     "metadata": {},
     "output_type": "execute_result"
    }
   ],
   "source": [
    "'Hello'.center(20)"
   ]
  },
  {
   "cell_type": "code",
   "execution_count": 174,
   "id": "f83ffc4e",
   "metadata": {},
   "outputs": [
    {
     "data": {
      "text/plain": [
       "'=======Hello========'"
      ]
     },
     "execution_count": 174,
     "metadata": {},
     "output_type": "execute_result"
    }
   ],
   "source": [
    "'Hello'.center(20, '=')"
   ]
  },
  {
   "cell_type": "code",
   "execution_count": 9,
   "id": "0229c949",
   "metadata": {},
   "outputs": [
    {
     "name": "stdout",
     "output_type": "stream",
     "text": [
      "---PICNIC ITEMS--\n",
      "sandwiches..    4\n",
      "apples......   12\n",
      "cups........    4\n",
      "cookies..... 8000\n",
      "-------PICNIC ITEMS-------\n",
      "sandwiches..........     4\n",
      "apples..............    12\n",
      "cups................     4\n",
      "cookies.............  8000\n"
     ]
    }
   ],
   "source": [
    "# Program\n",
    "def printPicnic(itemsDict, leftWidth, rightWidth):\n",
    "    print('PICNIC ITEMS'.center(leftWidth + rightWidth, '-'))\n",
    "    for k, v in itemsDict.items():\n",
    "        print(k.ljust(leftWidth, '.') + str(v).rjust(rightWidth))\n",
    "        \n",
    "picnicItems = {'sandwiches': 4, 'apples': 12, 'cups': 4, 'cookies': 8000}\n",
    "printPicnic(picnicItems, 12, 5)\n",
    "printPicnic(picnicItems, 20, 6)"
   ]
  },
  {
   "cell_type": "code",
   "execution_count": 10,
   "id": "b8b4738f",
   "metadata": {},
   "outputs": [],
   "source": [
    "# Removing Whitespace with the strip(), rstrip(), and lstrip() Methods\n",
    "spam = '      Hello, world      '"
   ]
  },
  {
   "cell_type": "code",
   "execution_count": 11,
   "id": "307fd30a",
   "metadata": {},
   "outputs": [
    {
     "data": {
      "text/plain": [
       "'Hello, world'"
      ]
     },
     "execution_count": 11,
     "metadata": {},
     "output_type": "execute_result"
    }
   ],
   "source": [
    "spam.strip()"
   ]
  },
  {
   "cell_type": "code",
   "execution_count": 12,
   "id": "124a1802",
   "metadata": {},
   "outputs": [
    {
     "data": {
      "text/plain": [
       "'Hello, world      '"
      ]
     },
     "execution_count": 12,
     "metadata": {},
     "output_type": "execute_result"
    }
   ],
   "source": [
    "spam.lstrip()"
   ]
  },
  {
   "cell_type": "code",
   "execution_count": 13,
   "id": "efccf083",
   "metadata": {},
   "outputs": [
    {
     "data": {
      "text/plain": [
       "'      Hello, world'"
      ]
     },
     "execution_count": 13,
     "metadata": {},
     "output_type": "execute_result"
    }
   ],
   "source": [
    "spam.rstrip()"
   ]
  },
  {
   "cell_type": "code",
   "execution_count": 14,
   "id": "139240f1",
   "metadata": {},
   "outputs": [],
   "source": [
    "spam = 'SpamSpamBaconSpamEggsSpamSpam'"
   ]
  },
  {
   "cell_type": "code",
   "execution_count": 15,
   "id": "59c10b03",
   "metadata": {},
   "outputs": [
    {
     "data": {
      "text/plain": [
       "'BaconSpamEggs'"
      ]
     },
     "execution_count": 15,
     "metadata": {},
     "output_type": "execute_result"
    }
   ],
   "source": [
    "spam.strip('Samp')  # the order of the character in the string  passed to strip() does not matter"
   ]
  },
  {
   "cell_type": "code",
   "execution_count": 16,
   "id": "584a991f",
   "metadata": {},
   "outputs": [
    {
     "data": {
      "text/plain": [
       "'BaconSpamEggs'"
      ]
     },
     "execution_count": 16,
     "metadata": {},
     "output_type": "execute_result"
    }
   ],
   "source": [
    "spam.strip('Spam')"
   ]
  },
  {
   "cell_type": "code",
   "execution_count": 17,
   "id": "c3e69002",
   "metadata": {},
   "outputs": [
    {
     "data": {
      "text/plain": [
       "'BaconSpamEggs'"
      ]
     },
     "execution_count": 17,
     "metadata": {},
     "output_type": "execute_result"
    }
   ],
   "source": [
    "spam.strip('mapS')"
   ]
  },
  {
   "cell_type": "code",
   "execution_count": 20,
   "id": "c9ac18a4",
   "metadata": {},
   "outputs": [
    {
     "data": {
      "text/plain": [
       "65"
      ]
     },
     "execution_count": 20,
     "metadata": {},
     "output_type": "execute_result"
    }
   ],
   "source": [
    "# Numeric Values of Character with the ord() and chr() Functions\n",
    "ord('A')"
   ]
  },
  {
   "cell_type": "code",
   "execution_count": 22,
   "id": "9401a7ad",
   "metadata": {},
   "outputs": [
    {
     "data": {
      "text/plain": [
       "52"
      ]
     },
     "execution_count": 22,
     "metadata": {},
     "output_type": "execute_result"
    }
   ],
   "source": [
    "ord('4')"
   ]
  },
  {
   "cell_type": "code",
   "execution_count": 23,
   "id": "b1f51265",
   "metadata": {},
   "outputs": [
    {
     "data": {
      "text/plain": [
       "33"
      ]
     },
     "execution_count": 23,
     "metadata": {},
     "output_type": "execute_result"
    }
   ],
   "source": [
    "ord('!')"
   ]
  },
  {
   "cell_type": "code",
   "execution_count": 24,
   "id": "9b886eae",
   "metadata": {},
   "outputs": [
    {
     "data": {
      "text/plain": [
       "'A'"
      ]
     },
     "execution_count": 24,
     "metadata": {},
     "output_type": "execute_result"
    }
   ],
   "source": [
    "chr(65)"
   ]
  },
  {
   "cell_type": "code",
   "execution_count": 26,
   "id": "094939ed",
   "metadata": {},
   "outputs": [
    {
     "data": {
      "text/plain": [
       "'A'"
      ]
     },
     "execution_count": 26,
     "metadata": {},
     "output_type": "execute_result"
    }
   ],
   "source": [
    "chr(65)"
   ]
  },
  {
   "cell_type": "code",
   "execution_count": 27,
   "id": "7f7000be",
   "metadata": {},
   "outputs": [
    {
     "data": {
      "text/plain": [
       "66"
      ]
     },
     "execution_count": 27,
     "metadata": {},
     "output_type": "execute_result"
    }
   ],
   "source": [
    "ord('B')"
   ]
  },
  {
   "cell_type": "code",
   "execution_count": 28,
   "id": "95f46287",
   "metadata": {},
   "outputs": [
    {
     "data": {
      "text/plain": [
       "True"
      ]
     },
     "execution_count": 28,
     "metadata": {},
     "output_type": "execute_result"
    }
   ],
   "source": [
    "ord('A') < ord('B')"
   ]
  },
  {
   "cell_type": "code",
   "execution_count": 29,
   "id": "7010f109",
   "metadata": {},
   "outputs": [
    {
     "data": {
      "text/plain": [
       "'A'"
      ]
     },
     "execution_count": 29,
     "metadata": {},
     "output_type": "execute_result"
    }
   ],
   "source": [
    "chr(ord('A'))"
   ]
  },
  {
   "cell_type": "code",
   "execution_count": 30,
   "id": "6d76bbf0",
   "metadata": {},
   "outputs": [
    {
     "data": {
      "text/plain": [
       "'B'"
      ]
     },
     "execution_count": 30,
     "metadata": {},
     "output_type": "execute_result"
    }
   ],
   "source": [
    "chr(ord('A') + 1)"
   ]
  },
  {
   "cell_type": "code",
   "execution_count": null,
   "id": "1db4baa7",
   "metadata": {},
   "outputs": [],
   "source": [
    "# A Short Program: Pig Latin\n",
    "'''Pig latin is a silly made-up language that alters English words. if a word begns with a vowel, the word yay is added to the end of it . if a word begins with  a constant or consonant cluster(like ch or gr), that consonant or cluster is moved to the end of the word followed by ay'''\n",
    "\n",
    "# English to pig Latin\n",
    "print('Enter the English message to translate into  Pig Latin:')\n",
    "message = input()\n",
    "\n",
    "VOWELS = ('a', 'e', 'i', 'o', 'u', 'y')\n",
    "pigLatin = [] # A List of the words in pig Latin.\n",
    "for word in  message.split():\n",
    "    # Separate the non-letters at the start of this word:\n",
    "    prefixNonLetters = ''\n",
    "    while len(word) > 0 and not word[0].isalpha():\n",
    "        prefixNonLetters += word[0]\n",
    "        word = word[1:]\n",
    "        \n",
    "        if len(word) == 0 :\n",
    "            pigLatin.append(prefixNonLetters)\n",
    "            continue\n",
    "            \n",
    "        # Separate the non-letters at the end of this word:\n",
    "        suffixNonLetters = ''\n",
    "        while not word[-1].isalpha():\n",
    "            suffixNonLetters += word[-1]\n",
    "            word = word[-1]\n",
    "            \n",
    "        # Remember if the word was in uppercase or title case.\n",
    "        wasUpper = word.isupper()\n",
    "        wasTitle = word.istitle()\n",
    "        \n",
    "        word = word.lower() # Make the word lowercase for translation.\n",
    "        \n",
    "        # Separate the consonants at the start of this word:\n",
    "        prefixConsonants = ''\n",
    "        while len(word) > 0 and not word[0] in VOWELS:\n",
    "            prefixConsonants += word[0]\n",
    "            word = word[1:]\n",
    "            # Add the pig Latin ending to the word:\n",
    "            if prefixConsonents != '':\n",
    "                word += prefixConsonants + 'ay'\n",
    "            else:\n",
    "                word += 'yay'\n",
    "                \n",
    "            # Set the word back to uppercase or title case:\n",
    "            if wasUpper:\n",
    "                word = word.upper()\n",
    "            if wasTile:\n",
    "                word = word.title()\n",
    "                \n",
    "            #add the non-letters back to the start of end of the word.\n",
    "            pigLatin.append(prefixNonLetters + word + suffixNonLetters)\n",
    "            \n",
    "            # Join all the words back togeteher into a single string:\n",
    "            print(' '. join(pigLatin))"
   ]
  },
  {
   "cell_type": "code",
   "execution_count": 5,
   "id": "e95a56c2",
   "metadata": {},
   "outputs": [
    {
     "name": "stdout",
     "output_type": "stream",
     "text": [
      "Phone number found: 415-555-1011\n",
      "Phone number found: 415-555-9999\n",
      "Done\n"
     ]
    }
   ],
   "source": [
    "# Finding Patterns of Text Without Regular Expressions\n",
    "\n",
    "def isPhoneNumber(text):\n",
    "    if len(text) != 12:\n",
    "        return False\n",
    "    for i in range(0, 3):\n",
    "        if not text[i].isdecimal():\n",
    "            return False\n",
    "    if text[3] != '-':\n",
    "        return False\n",
    "    for i in range(4, 7):\n",
    "        if not text[i].isdecimal():\n",
    "            return False\n",
    "    if text[7] != '-':\n",
    "        return False\n",
    "    for i in range(8, 12):\n",
    "        if not text[i].isdecimal():\n",
    "            return False\n",
    "    return True\n",
    "# print('Is 415-55-4242 a phone number?')\n",
    "# print(isPhoneNumber('415-555-4242'))\n",
    "# print('Is Moshi moshi a phone number?')\n",
    "# print(isPhoneNumber('Moshi moshi'))\n",
    "\n",
    "message = 'Call me at  415-555-1011 tomorrow. 415-555-9999 is my office.'\n",
    "for i in  range(len(message)):\n",
    "    chunk = message[i:i+12]\n",
    "    if isPhoneNumber(chunk):\n",
    "        print('Phone number found: '+ chunk)\n",
    "print('Done')"
   ]
  },
  {
   "cell_type": "code",
   "execution_count": null,
   "id": "b203445c",
   "metadata": {},
   "outputs": [],
   "source": []
  }
 ],
 "metadata": {
  "kernelspec": {
   "display_name": "Python 3 (ipykernel)",
   "language": "python",
   "name": "python3"
  },
  "language_info": {
   "codemirror_mode": {
    "name": "ipython",
    "version": 3
   },
   "file_extension": ".py",
   "mimetype": "text/x-python",
   "name": "python",
   "nbconvert_exporter": "python",
   "pygments_lexer": "ipython3",
   "version": "3.9.12"
  }
 },
 "nbformat": 4,
 "nbformat_minor": 5
}
