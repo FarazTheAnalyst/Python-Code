{
 "cells": [
  {
   "cell_type": "code",
   "execution_count": 2,
   "id": "7076783c",
   "metadata": {},
   "outputs": [
    {
     "data": {
      "text/plain": [
       "WindowsPath('spam/bacon/eggs')"
      ]
     },
     "execution_count": 2,
     "metadata": {},
     "output_type": "execute_result"
    }
   ],
   "source": [
    "# Backslash on Widows and Forward Slash on macOS and Linux\n",
    "from pathlib import Path\n",
    "Path('spam', 'bacon', 'eggs')"
   ]
  },
  {
   "cell_type": "code",
   "execution_count": 3,
   "id": "a3d3400e",
   "metadata": {},
   "outputs": [
    {
     "data": {
      "text/plain": [
       "'spam\\\\bacon\\\\eggs'"
      ]
     },
     "execution_count": 3,
     "metadata": {},
     "output_type": "execute_result"
    }
   ],
   "source": [
    "str(Path('spam', 'bacon', 'eggs'))"
   ]
  },
  {
   "cell_type": "code",
   "execution_count": 10,
   "id": "ce3e2ce5",
   "metadata": {},
   "outputs": [
    {
     "name": "stdout",
     "output_type": "stream",
     "text": [
      "C:\\Users\\Dell\\accounts.txt\n",
      "C:\\Users\\Dell\\details.csv\n",
      "C:\\Users\\Dell\\invite.docx\n"
     ]
    }
   ],
   "source": [
    "from pathlib import Path\n",
    "myFiles = ['accounts.txt', 'details.csv', 'invite.docx']\n",
    "for filename in myFiles:\n",
    "    print(Path(r'C:\\Users\\Dell', filename))"
   ]
  },
  {
   "cell_type": "code",
   "execution_count": 11,
   "id": "e7f78721",
   "metadata": {},
   "outputs": [
    {
     "data": {
      "text/plain": [
       "WindowsPath('spam/bacon/eggs')"
      ]
     },
     "execution_count": 11,
     "metadata": {},
     "output_type": "execute_result"
    }
   ],
   "source": [
    "# Using the / Operator to join Paths\n",
    "from pathlib import Path\n",
    "Path('spam') / 'bacon' / 'eggs'"
   ]
  },
  {
   "cell_type": "code",
   "execution_count": 12,
   "id": "76ccc678",
   "metadata": {},
   "outputs": [
    {
     "data": {
      "text/plain": [
       "WindowsPath('spam/bacon/eggs')"
      ]
     },
     "execution_count": 12,
     "metadata": {},
     "output_type": "execute_result"
    }
   ],
   "source": [
    "Path('spam') / Path('bacon/eggs')"
   ]
  },
  {
   "cell_type": "code",
   "execution_count": 13,
   "id": "15264c49",
   "metadata": {},
   "outputs": [
    {
     "data": {
      "text/plain": [
       "WindowsPath('spam/bacon/eggs')"
      ]
     },
     "execution_count": 13,
     "metadata": {},
     "output_type": "execute_result"
    }
   ],
   "source": [
    "Path('spam') / Path('bacon', 'eggs')"
   ]
  },
  {
   "cell_type": "code",
   "execution_count": 15,
   "id": "3c497f86",
   "metadata": {},
   "outputs": [
    {
     "data": {
      "text/plain": [
       "'C:\\\\Users\\\\Dell\\\\spam'"
      ]
     },
     "execution_count": 15,
     "metadata": {},
     "output_type": "execute_result"
    }
   ],
   "source": [
    "homeFolder = r'C:\\Users\\Dell' \n",
    "subFolder = 'spam'\n",
    "homeFolder + '\\\\' + subFolder\n"
   ]
  },
  {
   "cell_type": "code",
   "execution_count": 16,
   "id": "f1f82fa5",
   "metadata": {},
   "outputs": [
    {
     "data": {
      "text/plain": [
       "'C:\\\\Users\\\\Dell\\\\spam'"
      ]
     },
     "execution_count": 16,
     "metadata": {},
     "output_type": "execute_result"
    }
   ],
   "source": [
    "'\\\\'.join([homeFolder, subFolder])"
   ]
  },
  {
   "cell_type": "code",
   "execution_count": 17,
   "id": "94fef1e1",
   "metadata": {},
   "outputs": [
    {
     "data": {
      "text/plain": [
       "WindowsPath('C:/Users/Dell/spam')"
      ]
     },
     "execution_count": 17,
     "metadata": {},
     "output_type": "execute_result"
    }
   ],
   "source": [
    "homeFolder = Path('C:/Users/Dell')\n",
    "subFolder = Path('spam')\n",
    "homeFolder / subFolder"
   ]
  },
  {
   "cell_type": "code",
   "execution_count": 18,
   "id": "222fedc7",
   "metadata": {
    "scrolled": true
   },
   "outputs": [
    {
     "data": {
      "text/plain": [
       "'C:\\\\Users\\\\Dell\\\\spam'"
      ]
     },
     "execution_count": 18,
     "metadata": {},
     "output_type": "execute_result"
    }
   ],
   "source": [
    "str(homeFolder / subFolder)"
   ]
  },
  {
   "cell_type": "code",
   "execution_count": 22,
   "id": "70536a29",
   "metadata": {},
   "outputs": [
    {
     "data": {
      "text/plain": [
       "WindowsPath('C:/Users/DELL')"
      ]
     },
     "execution_count": 22,
     "metadata": {},
     "output_type": "execute_result"
    }
   ],
   "source": [
    "# The Current Working Directory\n",
    "from pathlib import Path\n",
    "import os\n",
    "Path.cwd()"
   ]
  },
  {
   "cell_type": "code",
   "execution_count": 26,
   "id": "e238f7fc",
   "metadata": {},
   "outputs": [],
   "source": [
    "os.chdir('C:\\\\Users\\\\DELL\\\\Documents\\\\Python Scripts')"
   ]
  },
  {
   "cell_type": "code",
   "execution_count": 27,
   "id": "1cf3a649",
   "metadata": {},
   "outputs": [
    {
     "data": {
      "text/plain": [
       "WindowsPath('C:/Users/DELL/Documents/Python Scripts')"
      ]
     },
     "execution_count": 27,
     "metadata": {},
     "output_type": "execute_result"
    }
   ],
   "source": [
    "Path.cwd()"
   ]
  },
  {
   "cell_type": "code",
   "execution_count": 28,
   "id": "b84b5149",
   "metadata": {},
   "outputs": [
    {
     "data": {
      "text/plain": [
       "'C:\\\\Users\\\\DELL\\\\Documents\\\\Python Scripts'"
      ]
     },
     "execution_count": 28,
     "metadata": {},
     "output_type": "execute_result"
    }
   ],
   "source": [
    "os.getcwd()  # older way of getting the current working directory as stirng"
   ]
  },
  {
   "cell_type": "code",
   "execution_count": 30,
   "id": "4878a8b6",
   "metadata": {},
   "outputs": [
    {
     "data": {
      "text/plain": [
       "WindowsPath('C:/Users/DELL')"
      ]
     },
     "execution_count": 30,
     "metadata": {},
     "output_type": "execute_result"
    }
   ],
   "source": [
    "# The Home Directory\n",
    "Path.home()"
   ]
  },
  {
   "cell_type": "code",
   "execution_count": 31,
   "id": "fb5137d4",
   "metadata": {},
   "outputs": [],
   "source": [
    "# Creating New Folders Using the os.makedirs() Function\n",
    "import os\n",
    "os.makedirs('C:\\\\delicious\\\\walnut\\\\waffles')"
   ]
  },
  {
   "cell_type": "code",
   "execution_count": 35,
   "id": "47e89141",
   "metadata": {},
   "outputs": [],
   "source": [
    "from pathlib import Path\n",
    "Path(r'C:\\Users\\DELL\\Documents\\Python scripts\\gava').mkdir()"
   ]
  },
  {
   "cell_type": "code",
   "execution_count": 1,
   "id": "f2dd485c",
   "metadata": {},
   "outputs": [
    {
     "data": {
      "text/plain": [
       "WindowsPath('C:/Users/DELL')"
      ]
     },
     "execution_count": 1,
     "metadata": {},
     "output_type": "execute_result"
    }
   ],
   "source": [
    "# Handling Abslute and Relative Paths\n",
    "from pathlib import Path\n",
    "import os\n",
    "Path.cwd()"
   ]
  },
  {
   "cell_type": "code",
   "execution_count": 2,
   "id": "2d859fa4",
   "metadata": {},
   "outputs": [
    {
     "data": {
      "text/plain": [
       "True"
      ]
     },
     "execution_count": 2,
     "metadata": {},
     "output_type": "execute_result"
    }
   ],
   "source": [
    "Path.cwd().is_absolute()"
   ]
  },
  {
   "cell_type": "code",
   "execution_count": 3,
   "id": "91bf4490",
   "metadata": {},
   "outputs": [
    {
     "data": {
      "text/plain": [
       "False"
      ]
     },
     "execution_count": 3,
     "metadata": {},
     "output_type": "execute_result"
    }
   ],
   "source": [
    "Path('spam/bacon/eggs').is_absolute()"
   ]
  },
  {
   "cell_type": "code",
   "execution_count": 4,
   "id": "842d6ee0",
   "metadata": {},
   "outputs": [
    {
     "data": {
      "text/plain": [
       "WindowsPath('my/relative/path')"
      ]
     },
     "execution_count": 4,
     "metadata": {},
     "output_type": "execute_result"
    }
   ],
   "source": [
    "Path('my/relative/path')"
   ]
  },
  {
   "cell_type": "code",
   "execution_count": 5,
   "id": "a68de68a",
   "metadata": {},
   "outputs": [
    {
     "data": {
      "text/plain": [
       "WindowsPath('C:/Users/DELL/my/relative/path')"
      ]
     },
     "execution_count": 5,
     "metadata": {},
     "output_type": "execute_result"
    }
   ],
   "source": [
    "Path.cwd() / Path('my/relative/path')"
   ]
  },
  {
   "cell_type": "code",
   "execution_count": 6,
   "id": "b5a71668",
   "metadata": {},
   "outputs": [
    {
     "data": {
      "text/plain": [
       "WindowsPath('C:/Users/DELL/my/relative/path')"
      ]
     },
     "execution_count": 6,
     "metadata": {},
     "output_type": "execute_result"
    }
   ],
   "source": [
    "Path.home() / Path('my/relative/path')"
   ]
  },
  {
   "cell_type": "code",
   "execution_count": 7,
   "id": "f08f0875",
   "metadata": {},
   "outputs": [
    {
     "data": {
      "text/plain": [
       "'C:\\\\Users\\\\DELL'"
      ]
     },
     "execution_count": 7,
     "metadata": {},
     "output_type": "execute_result"
    }
   ],
   "source": [
    "os.path.abspath('.')"
   ]
  },
  {
   "cell_type": "code",
   "execution_count": 8,
   "id": "1934be80",
   "metadata": {},
   "outputs": [
    {
     "data": {
      "text/plain": [
       "'C:\\\\Users\\\\DELL\\\\Scripts'"
      ]
     },
     "execution_count": 8,
     "metadata": {},
     "output_type": "execute_result"
    }
   ],
   "source": [
    "os.path.abspath('.\\\\Scripts')"
   ]
  },
  {
   "cell_type": "code",
   "execution_count": 9,
   "id": "40b1549d",
   "metadata": {},
   "outputs": [
    {
     "data": {
      "text/plain": [
       "False"
      ]
     },
     "execution_count": 9,
     "metadata": {},
     "output_type": "execute_result"
    }
   ],
   "source": [
    "os.path.isabs('.')"
   ]
  },
  {
   "cell_type": "code",
   "execution_count": 11,
   "id": "26b8cbf6",
   "metadata": {},
   "outputs": [
    {
     "data": {
      "text/plain": [
       "True"
      ]
     },
     "execution_count": 11,
     "metadata": {},
     "output_type": "execute_result"
    }
   ],
   "source": [
    "os.path.isabs(os.path.abspath('.'))"
   ]
  },
  {
   "cell_type": "code",
   "execution_count": 13,
   "id": "ada78380",
   "metadata": {},
   "outputs": [
    {
     "data": {
      "text/plain": [
       "'windows'"
      ]
     },
     "execution_count": 13,
     "metadata": {},
     "output_type": "execute_result"
    }
   ],
   "source": [
    "os.path.relpath('C:\\\\windows', 'C:\\\\')"
   ]
  },
  {
   "cell_type": "code",
   "execution_count": 15,
   "id": "55ec7446",
   "metadata": {},
   "outputs": [
    {
     "data": {
      "text/plain": [
       "'..\\\\..\\\\windows'"
      ]
     },
     "execution_count": 15,
     "metadata": {},
     "output_type": "execute_result"
    }
   ],
   "source": [
    "os.path.relpath('C:\\\\windows', 'C:\\\\spam\\\\eggs')"
   ]
  },
  {
   "cell_type": "code",
   "execution_count": 16,
   "id": "4876e9d5",
   "metadata": {},
   "outputs": [
    {
     "data": {
      "text/plain": [
       "'C:\\\\'"
      ]
     },
     "execution_count": 16,
     "metadata": {},
     "output_type": "execute_result"
    }
   ],
   "source": [
    "# Getting the Parts of a File Path\n",
    "p = Path('C:/Users/Al/spam.txt')\n",
    "p.anchor"
   ]
  },
  {
   "cell_type": "code",
   "execution_count": 17,
   "id": "838d1b90",
   "metadata": {},
   "outputs": [
    {
     "data": {
      "text/plain": [
       "WindowsPath('C:/Users/Al')"
      ]
     },
     "execution_count": 17,
     "metadata": {},
     "output_type": "execute_result"
    }
   ],
   "source": [
    "p.parent # This is path object, not a string."
   ]
  },
  {
   "cell_type": "code",
   "execution_count": 18,
   "id": "d0c56a7a",
   "metadata": {},
   "outputs": [
    {
     "data": {
      "text/plain": [
       "'spam.txt'"
      ]
     },
     "execution_count": 18,
     "metadata": {},
     "output_type": "execute_result"
    }
   ],
   "source": [
    "p.name # file name"
   ]
  },
  {
   "cell_type": "code",
   "execution_count": 19,
   "id": "b1397f27",
   "metadata": {},
   "outputs": [
    {
     "data": {
      "text/plain": [
       "'spam'"
      ]
     },
     "execution_count": 19,
     "metadata": {},
     "output_type": "execute_result"
    }
   ],
   "source": [
    "p.stem # base name"
   ]
  },
  {
   "cell_type": "code",
   "execution_count": 20,
   "id": "1bfa7c59",
   "metadata": {},
   "outputs": [
    {
     "data": {
      "text/plain": [
       "'.txt'"
      ]
     },
     "execution_count": 20,
     "metadata": {},
     "output_type": "execute_result"
    }
   ],
   "source": [
    "p.suffix # extention"
   ]
  },
  {
   "cell_type": "code",
   "execution_count": 22,
   "id": "a113c395",
   "metadata": {},
   "outputs": [
    {
     "data": {
      "text/plain": [
       "WindowsPath('C:/Users/DELL')"
      ]
     },
     "execution_count": 22,
     "metadata": {},
     "output_type": "execute_result"
    }
   ],
   "source": [
    "Path.cwd()"
   ]
  },
  {
   "cell_type": "code",
   "execution_count": 23,
   "id": "05d175e9",
   "metadata": {},
   "outputs": [
    {
     "data": {
      "text/plain": [
       "WindowsPath('C:/Users')"
      ]
     },
     "execution_count": 23,
     "metadata": {},
     "output_type": "execute_result"
    }
   ],
   "source": [
    "Path.cwd().parents[0]"
   ]
  },
  {
   "cell_type": "code",
   "execution_count": 24,
   "id": "c64cc99a",
   "metadata": {},
   "outputs": [
    {
     "data": {
      "text/plain": [
       "WindowsPath('C:/')"
      ]
     },
     "execution_count": 24,
     "metadata": {},
     "output_type": "execute_result"
    }
   ],
   "source": [
    "Path.cwd().parents[1]"
   ]
  },
  {
   "cell_type": "code",
   "execution_count": 26,
   "id": "13b873f6",
   "metadata": {},
   "outputs": [],
   "source": [
    "# older os.path module\n",
    "calcFilePath = 'C:\\\\Windows\\\\System32\\\\calc.exe'"
   ]
  },
  {
   "cell_type": "code",
   "execution_count": 27,
   "id": "98472c08",
   "metadata": {},
   "outputs": [
    {
     "data": {
      "text/plain": [
       "'calc.exe'"
      ]
     },
     "execution_count": 27,
     "metadata": {},
     "output_type": "execute_result"
    }
   ],
   "source": [
    "os.path.basename(calcFilePath)"
   ]
  },
  {
   "cell_type": "code",
   "execution_count": 28,
   "id": "44f90e04",
   "metadata": {},
   "outputs": [
    {
     "data": {
      "text/plain": [
       "'C:\\\\Windows\\\\System32'"
      ]
     },
     "execution_count": 28,
     "metadata": {},
     "output_type": "execute_result"
    }
   ],
   "source": [
    "os.path.dirname(calcFilePath)"
   ]
  },
  {
   "cell_type": "code",
   "execution_count": 29,
   "id": "cd16de95",
   "metadata": {},
   "outputs": [],
   "source": [
    "# if you need  a path's dir name and base name togather, you can just call os.path.split()\n",
    "calcFilePath = 'C:\\\\Windows\\\\System32\\\\calc.exe'"
   ]
  },
  {
   "cell_type": "code",
   "execution_count": 30,
   "id": "638e4e84",
   "metadata": {},
   "outputs": [
    {
     "data": {
      "text/plain": [
       "('C:\\\\Windows\\\\System32', 'calc.exe')"
      ]
     },
     "execution_count": 30,
     "metadata": {},
     "output_type": "execute_result"
    }
   ],
   "source": [
    "os.path.split(calcFilePath)"
   ]
  },
  {
   "cell_type": "code",
   "execution_count": 31,
   "id": "76b7a0fe",
   "metadata": {},
   "outputs": [
    {
     "data": {
      "text/plain": [
       "('C:\\\\Windows\\\\System32', 'calc.exe')"
      ]
     },
     "execution_count": 31,
     "metadata": {},
     "output_type": "execute_result"
    }
   ],
   "source": [
    "# we can create a  the tuple by calling os.path.dirname() and os.path.basename()\n",
    "(os.path.dirname(calcFilePath), os.path.basename(calcFilePath))"
   ]
  },
  {
   "cell_type": "code",
   "execution_count": 32,
   "id": "c3ffd709",
   "metadata": {},
   "outputs": [
    {
     "data": {
      "text/plain": [
       "['C:', 'Windows', 'System32', 'calc.exe']"
      ]
     },
     "execution_count": 32,
     "metadata": {},
     "output_type": "execute_result"
    }
   ],
   "source": [
    "calcFilePath.split(os.sep)"
   ]
  },
  {
   "cell_type": "code",
   "execution_count": 34,
   "id": "a5e45593",
   "metadata": {},
   "outputs": [
    {
     "data": {
      "text/plain": [
       "27648"
      ]
     },
     "execution_count": 34,
     "metadata": {},
     "output_type": "execute_result"
    }
   ],
   "source": [
    "# Finding File Sizes and folder Contents\n",
    "os.path.getsize('C:\\\\Windows\\\\System32\\\\calc.exe')"
   ]
  },
  {
   "cell_type": "code",
   "execution_count": 35,
   "id": "4ebb7a30",
   "metadata": {},
   "outputs": [
    {
     "data": {
      "text/plain": [
       "['0409',\n",
       " '1033',\n",
       " '@AudioToastIcon.png',\n",
       " '@BackgroundAccessToastIcon.png',\n",
       " '@bitlockertoastimage.png',\n",
       " '@edptoastimage.png',\n",
       " '@EnrollmentToastIcon.png',\n",
       " '@language_notification_icon.png',\n",
       " '@NotifierToastIcon.png',\n",
       " '@optionalfeatures.png',\n",
       " '@VpnToastIcon.png',\n",
       " '@WiFiNotificationIcon.png',\n",
       " '@WindowsHelloFaceToastIcon.png',\n",
       " '@WindowsUpdateToastIcon.png',\n",
       " '@WwanNotificationIcon.png',\n",
       " '@WwanSimLockIcon.png',\n",
       " 'aadauthhelper.dll',\n",
       " 'aadcloudap.dll',\n",
       " 'aadjcsp.dll',\n",
       " 'aadtb.dll',\n",
       " 'AboveLockAppHost.dll',\n",
       " 'accessibilitycpl.dll',\n",
       " 'accountaccessor.dll',\n",
       " 'AccountsRt.dll',\n",
       " 'ACCTRES.dll',\n",
       " 'acledit.dll',\n",
       " 'aclui.dll',\n",
       " 'acmigration.dll',\n",
       " 'ACPBackgroundManagerPolicy.dll',\n",
       " 'acppage.dll',\n",
       " 'acproxy.dll',\n",
       " 'ActionCenter.dll',\n",
       " 'ActionCenterCPL.dll',\n",
       " 'ActionQueue.dll',\n",
       " 'ActivationClient.dll',\n",
       " 'ActivationManager.dll',\n",
       " 'activeds.dll',\n",
       " 'activeds.tlb',\n",
       " 'ActiveSyncCsp.dll',\n",
       " 'ActiveSyncProvider.dll',\n",
       " 'actxprxy.dll',\n",
       " 'acu.exe',\n",
       " 'adal.dll',\n",
       " 'AddressParser.dll',\n",
       " 'adhapi.dll',\n",
       " 'adhsvc.dll',\n",
       " 'AdmTmpl.dll',\n",
       " 'adprovider.dll',\n",
       " 'adrclient.dll',\n",
       " 'adsldp.dll',\n",
       " 'adsldpc.dll',\n",
       " 'adsmsext.dll',\n",
       " 'adsnt.dll',\n",
       " 'adtschema.dll',\n",
       " 'AdvancedInstallers',\n",
       " 'advapi32.dll',\n",
       " 'advapi32res.dll',\n",
       " 'advpack.dll',\n",
       " 'aeevts.dll',\n",
       " 'aeinv.dll',\n",
       " 'aepic.dll',\n",
       " 'AgentService.exe',\n",
       " 'aitstatic.exe',\n",
       " 'AJRouter.dll',\n",
       " 'alg.exe',\n",
       " 'altspace.dll',\n",
       " 'amcompat.tlb',\n",
       " 'amsi.dll',\n",
       " 'amsiproxy.dll',\n",
       " 'amstream.dll',\n",
       " 'ApCoInstaller.dll',\n",
       " 'apds.dll',\n",
       " 'APHostClient.dll',\n",
       " 'APHostRes.dll',\n",
       " 'APHostService.dll',\n",
       " 'apisetschema.dll',\n",
       " 'ApnDatabase.xml',\n",
       " 'AppCapture.dll',\n",
       " 'AppContracts.dll',\n",
       " 'AppExtension.dll',\n",
       " 'apphelp.dll',\n",
       " 'Apphlpdm.dll',\n",
       " 'AppHostRegistrationVerifier.exe',\n",
       " 'appidapi.dll',\n",
       " 'appidcertstorecheck.exe',\n",
       " 'appidpolicyconverter.exe',\n",
       " 'AppIdPolicyEngineApi.dll',\n",
       " 'appidsvc.dll',\n",
       " 'appidtel.exe',\n",
       " 'appinfo.dll',\n",
       " 'appinfoext.dll',\n",
       " 'ApplicationFrame.dll',\n",
       " 'ApplicationFrameHost.exe',\n",
       " 'AppLocker',\n",
       " 'AppLockerCSP.dll',\n",
       " 'ApplySettingsTemplateCatalog.exe',\n",
       " 'AppManagementConfiguration.dll',\n",
       " 'appmgmt',\n",
       " 'appmgmts.dll',\n",
       " 'appmgr.dll',\n",
       " 'AppMon.dll',\n",
       " 'AppointmentActivation.dll',\n",
       " 'AppointmentApis.dll',\n",
       " 'appraiser',\n",
       " 'appraiser.dll',\n",
       " 'AppReadiness.dll',\n",
       " 'apprepapi.dll',\n",
       " 'AppResolver.dll',\n",
       " 'ApproveChildRequest.exe',\n",
       " 'appsruprov.dll',\n",
       " 'AppV',\n",
       " 'AppVCatalog.dll',\n",
       " 'AppVClient.exe',\n",
       " 'AppvClientEventLog.dll',\n",
       " 'AppVClientPS.dll',\n",
       " 'AppVDllSurrogate.exe',\n",
       " 'AppVEntStreamingManager.dll',\n",
       " 'AppVEntSubsystemController.dll',\n",
       " 'AppVEntSubsystems64.dll',\n",
       " 'AppVEntVirtualization.dll',\n",
       " 'appvetwclientres.dll',\n",
       " 'appvetwsharedperformance.dll',\n",
       " 'appvetwstreamingux.dll',\n",
       " 'AppVFileSystemMetadata.dll',\n",
       " 'AppVIntegration.dll',\n",
       " 'AppVManifest.dll',\n",
       " 'AppVNice.exe',\n",
       " 'AppVOrchestration.dll',\n",
       " 'AppVPolicy.dll',\n",
       " 'AppVPublishing.dll',\n",
       " 'AppVReporting.dll',\n",
       " 'AppVScripting.dll',\n",
       " 'AppVSentinel.dll',\n",
       " 'AppVShNotify.exe',\n",
       " 'AppVStreamingUX.dll',\n",
       " 'AppVStreamMap.dll',\n",
       " 'AppVTerminator.dll',\n",
       " 'appwiz.cpl',\n",
       " 'AppxAllUserStore.dll',\n",
       " 'AppXApplicabilityBlob.dll',\n",
       " 'AppxApplicabilityEngine.dll',\n",
       " 'AppXDeploymentClient.dll',\n",
       " 'AppXDeploymentExtensions.desktop.dll',\n",
       " 'AppXDeploymentExtensions.onecore.dll',\n",
       " 'AppXDeploymentServer.dll',\n",
       " 'AppxPackaging.dll',\n",
       " 'AppxProvisioning.xml',\n",
       " 'AppxSip.dll',\n",
       " 'AppxStreamingDataSourcePS.dll',\n",
       " 'AppxSysprep.dll',\n",
       " 'ar-SA',\n",
       " 'ARP.EXE',\n",
       " 'asferror.dll',\n",
       " 'aspnet_counters.dll',\n",
       " 'AssignedAccessCsp.dll',\n",
       " 'asycfilt.dll',\n",
       " 'at.exe',\n",
       " 'AtBroker.exe',\n",
       " 'atl.dll',\n",
       " 'atl100.dll',\n",
       " 'atlthunk.dll',\n",
       " 'atmfd.dll',\n",
       " 'atmlib.dll',\n",
       " 'attrib.exe',\n",
       " 'audiodg.exe',\n",
       " 'AudioEndpointBuilder.dll',\n",
       " 'AudioEng.dll',\n",
       " 'AUDIOKSE.dll',\n",
       " 'AudioSes.dll',\n",
       " 'audiosrv.dll',\n",
       " 'AudioSrvPolicyManager.dll',\n",
       " 'auditcse.dll',\n",
       " 'AuditNativeSnapIn.dll',\n",
       " 'auditpol.exe',\n",
       " 'auditpolcore.dll',\n",
       " 'AuditPolicyGPInterop.dll',\n",
       " 'auditpolmsg.dll',\n",
       " 'AuthBroker.dll',\n",
       " 'AuthBrokerUI.dll',\n",
       " 'AuthExt.dll',\n",
       " 'authfwcfg.dll',\n",
       " 'AuthFWGP.dll',\n",
       " 'AuthFWSnapin.dll',\n",
       " 'AuthFWWizFwk.dll',\n",
       " 'AuthHost.exe',\n",
       " 'AuthHostProxy.dll',\n",
       " 'authui.dll',\n",
       " 'authz.dll',\n",
       " 'autochk.exe',\n",
       " 'autoconv.exe',\n",
       " 'autofmt.exe',\n",
       " 'autoplay.dll',\n",
       " 'AverageRoom.bin',\n",
       " 'avicap32.dll',\n",
       " 'avifil32.dll',\n",
       " 'avrt.dll',\n",
       " 'AxInstSv.dll',\n",
       " 'AxInstUI.exe',\n",
       " 'azman.msc',\n",
       " 'azroles.dll',\n",
       " 'azroleui.dll',\n",
       " 'AzSqlExt.dll',\n",
       " 'AzureSettingSyncProvider.dll',\n",
       " 'baaupdate.exe',\n",
       " 'BackgroundMediaPolicy.dll',\n",
       " 'backgroundTaskHost.exe',\n",
       " 'BackgroundTransferHost.exe',\n",
       " 'BamSettingsClient.dll',\n",
       " 'BarcodeProvisioningPlugin.dll',\n",
       " 'basecsp.dll',\n",
       " 'basesrv.dll',\n",
       " 'batmeter.dll',\n",
       " 'bcastdvr.exe',\n",
       " 'bcastdvr.proxy.dll',\n",
       " 'BcastDVRBroker.dll',\n",
       " 'BcastDVRClient.dll',\n",
       " 'BcastDVRCommon.dll',\n",
       " 'bcd.dll',\n",
       " 'bcdboot.exe',\n",
       " 'bcdedit.exe',\n",
       " 'bcdprov.dll',\n",
       " 'bcdsrv.dll',\n",
       " 'BCP47Langs.dll',\n",
       " 'bcrypt.dll',\n",
       " 'bcryptprimitives.dll',\n",
       " 'bdaplgin.ax',\n",
       " 'bdechangepin.exe',\n",
       " 'BdeHdCfg.exe',\n",
       " 'BdeHdCfgLib.dll',\n",
       " 'bderepair.dll',\n",
       " 'bdesvc.dll',\n",
       " 'BdeSysprep.dll',\n",
       " 'bdeui.dll',\n",
       " 'BdeUISrv.exe',\n",
       " 'bdeunlock.exe',\n",
       " 'BFE.DLL',\n",
       " 'bg-BG',\n",
       " 'bi.dll',\n",
       " 'bidispl.dll',\n",
       " 'BingASDS.dll',\n",
       " 'BingFilterDS.dll',\n",
       " 'BingMaps.dll',\n",
       " 'BingOnlineServices.dll',\n",
       " 'BioCredProv.dll',\n",
       " 'BioIso.exe',\n",
       " 'bisrv.dll',\n",
       " 'BitLockerCsp.dll',\n",
       " 'BitLockerDeviceEncryption.exe',\n",
       " 'BitLockerWizard.exe',\n",
       " 'BitLockerWizardElev.exe',\n",
       " 'bitsadmin.exe',\n",
       " 'bitsigd.dll',\n",
       " 'bitsperf.dll',\n",
       " 'BitsProxy.dll',\n",
       " 'biwinrt.dll',\n",
       " 'BlbEvents.dll',\n",
       " 'blbres.dll',\n",
       " 'blb_ps.dll',\n",
       " 'BluetoothApis.dll',\n",
       " 'BluetoothDesktopHandlers.dll',\n",
       " 'bnmanager.dll',\n",
       " 'Boot',\n",
       " 'boot.sdi',\n",
       " 'bootcfg.exe',\n",
       " 'bootim.exe',\n",
       " 'BootMenuUX.dll',\n",
       " 'bootsect.exe',\n",
       " 'bootstr.dll',\n",
       " 'bootux.dll',\n",
       " 'BOOTVID.DLL',\n",
       " 'bopomofo.uce',\n",
       " 'bridgeres.dll',\n",
       " 'bridgeunattend.exe',\n",
       " 'BrokerLib.dll',\n",
       " 'browcli.dll',\n",
       " 'browser.dll',\n",
       " 'browserbroker.dll',\n",
       " 'browserexport.exe',\n",
       " 'BrowserSettingSync.dll',\n",
       " 'browser_broker.exe',\n",
       " 'browseui.dll',\n",
       " 'bthci.dll',\n",
       " 'BthHFSrv.dll',\n",
       " 'BthMtpContextHandler.dll',\n",
       " 'bthpanapi.dll',\n",
       " 'BthpanContextHandler.dll',\n",
       " 'Bthprops',\n",
       " 'bthprops.cpl',\n",
       " 'BthRadioMedia.dll',\n",
       " 'bthserv.dll',\n",
       " 'BthTelemetry.dll',\n",
       " 'bthudtask.exe',\n",
       " 'btpanui.dll',\n",
       " 'Bubbles.scr',\n",
       " 'BWContextHandler.dll',\n",
       " 'ByteCodeGenerator.exe',\n",
       " 'cabapi.dll',\n",
       " 'cabinet.dll',\n",
       " 'cabview.dll',\n",
       " 'cacls.exe',\n",
       " 'calc.exe',\n",
       " 'CallButtons.dll',\n",
       " 'CallButtons.ProxyStub.dll',\n",
       " 'CallHistoryClient.dll',\n",
       " 'CameraCaptureUI.dll',\n",
       " 'CameraSettingsUIHost.exe',\n",
       " 'canonurl.dll',\n",
       " 'capauthz.dll',\n",
       " 'capiprovider.dll',\n",
       " 'capisp.dll',\n",
       " 'CaptureBrackets.hcp',\n",
       " 'CaptureCountdown.hcp',\n",
       " 'CaptureToast.hcp',\n",
       " 'CastingShellExt.dll',\n",
       " 'CastLaunch.dll',\n",
       " 'CastSrv.exe',\n",
       " 'CatRoot',\n",
       " 'catroot2',\n",
       " 'catsrv.dll',\n",
       " 'catsrvps.dll',\n",
       " 'catsrvut.dll',\n",
       " 'CbtBackgroundManagerPolicy.dll',\n",
       " 'cca.dll',\n",
       " 'cdd.dll',\n",
       " 'cdosys.dll',\n",
       " 'cdp.dll',\n",
       " 'cdprt.dll',\n",
       " 'cdpsvc.dll',\n",
       " 'cdpusersvc.dll',\n",
       " 'CellularAPI.dll',\n",
       " 'cemapi.dll',\n",
       " 'cero.rs',\n",
       " 'certca.dll',\n",
       " 'certcli.dll',\n",
       " 'certCredProvider.dll',\n",
       " 'certenc.dll',\n",
       " 'CertEnroll.dll',\n",
       " 'CertEnrollCtrl.exe',\n",
       " 'CertEnrollUI.dll',\n",
       " 'certlm.msc',\n",
       " 'certmgr.dll',\n",
       " 'certmgr.msc',\n",
       " 'CertPKICmdlet.dll',\n",
       " 'CertPolEng.dll',\n",
       " 'certprop.dll',\n",
       " 'certreq.exe',\n",
       " 'certutil.exe',\n",
       " 'cewmdm.dll',\n",
       " 'cfgbkend.dll',\n",
       " 'cfgmgr32.dll',\n",
       " 'CfgSPCellular.dll',\n",
       " 'CfgSPPolicy.dll',\n",
       " 'cfmifs.dll',\n",
       " 'cfmifsproxy.dll',\n",
       " 'Chakra.dll',\n",
       " 'Chakradiag.dll',\n",
       " 'Chakrathunk.dll',\n",
       " 'change.exe',\n",
       " 'changepk.exe',\n",
       " 'charmap.exe',\n",
       " 'chartv.dll',\n",
       " 'ChatApis.dll',\n",
       " 'chcp.com',\n",
       " 'CheckNetIsolation.exe',\n",
       " 'chglogon.exe',\n",
       " 'chgport.exe',\n",
       " 'chgusr.exe',\n",
       " 'chkdsk.exe',\n",
       " 'chkntfs.exe',\n",
       " 'chkwudrv.dll',\n",
       " 'choice.exe',\n",
       " 'ChsStrokeDS.dll',\n",
       " 'chs_singlechar_pinyin.dat',\n",
       " 'ChtBopomofoDS.dll',\n",
       " 'ChtCangjieDS.dll',\n",
       " 'ChtHkStrokeDS.dll',\n",
       " 'ChtQuickDS.dll',\n",
       " 'ChxAPDS.dll',\n",
       " 'ChxDecoder.dll',\n",
       " 'ChxHAPDS.dll',\n",
       " 'chxinputrouter.dll',\n",
       " 'chxranker.dll',\n",
       " 'CHxReadingStringIME.dll',\n",
       " 'ci.dll',\n",
       " 'cic.dll',\n",
       " 'cipher.exe',\n",
       " 'CIRCoInst.dll',\n",
       " 'CIWmi.dll',\n",
       " 'clb.dll',\n",
       " 'clbcatq.dll',\n",
       " 'cldapi.dll',\n",
       " 'cleanmgr.exe',\n",
       " 'CleanPCCSP.dll',\n",
       " 'clfsw32.dll',\n",
       " 'cliconfg.dll',\n",
       " 'cliconfg.exe',\n",
       " 'cliconfg.rll',\n",
       " 'clip.exe',\n",
       " 'ClipboardServer.dll',\n",
       " 'Clipc.dll',\n",
       " 'ClipRenew.exe',\n",
       " 'ClipSVC.dll',\n",
       " 'ClipUp.exe',\n",
       " 'cloudAP.dll',\n",
       " 'CloudBackupSettings.dll',\n",
       " 'CloudDomainJoinAUG.dll',\n",
       " 'CloudDomainJoinDataModelServer.dll',\n",
       " 'CloudExperienceHost.dll',\n",
       " 'CloudExperienceHostBroker.dll',\n",
       " 'CloudExperienceHostBroker.exe',\n",
       " 'CloudExperienceHostCommon.dll',\n",
       " 'CloudExperienceHostUser.dll',\n",
       " 'CloudNotifications.exe',\n",
       " 'CloudStorageWizard.exe',\n",
       " 'clrhost.dll',\n",
       " 'clusapi.dll',\n",
       " 'cmcfg32.dll',\n",
       " 'cmd.exe',\n",
       " 'cmdext.dll',\n",
       " 'cmdial32.dll',\n",
       " 'cmdkey.exe',\n",
       " 'cmdl32.exe',\n",
       " 'cmgrcspps.dll',\n",
       " 'cmifw.dll',\n",
       " 'cmintegrator.dll',\n",
       " 'cmlua.dll',\n",
       " 'cmmon32.exe',\n",
       " 'cmpbk32.dll',\n",
       " 'cmstp.exe',\n",
       " 'cmstplua.dll',\n",
       " 'cmutil.dll',\n",
       " 'cngcredui.dll',\n",
       " 'cngprovider.dll',\n",
       " 'cnvfat.dll',\n",
       " 'cob-au.rs',\n",
       " 'CodeIntegrity',\n",
       " 'cofire.exe',\n",
       " 'cofiredm.dll',\n",
       " 'colbact.dll',\n",
       " 'COLORCNV.DLL',\n",
       " 'colorcpl.exe',\n",
       " 'colorui.dll',\n",
       " 'Com',\n",
       " 'combase.dll',\n",
       " 'comcat.dll',\n",
       " 'comctl32.dll',\n",
       " 'comdlg32.dll',\n",
       " 'comexp.msc',\n",
       " 'coml2.dll',\n",
       " 'comp.exe',\n",
       " 'compact.exe',\n",
       " 'CompatTelRunner.exe',\n",
       " 'compmgmt.msc',\n",
       " 'CompMgmtLauncher.exe',\n",
       " 'CompPkgSup.dll',\n",
       " 'compstui.dll',\n",
       " 'ComputerDefaults.exe',\n",
       " 'comrepl.dll',\n",
       " 'comres.dll',\n",
       " 'comsnap.dll',\n",
       " 'comsvcs.dll',\n",
       " 'comuid.dll',\n",
       " 'concrt140.dll',\n",
       " 'config',\n",
       " 'configmanager2.dll',\n",
       " 'Configuration',\n",
       " 'configurationclient.dll',\n",
       " 'ConfigureExpandedStorage.dll',\n",
       " 'conhost.exe',\n",
       " 'ConhostV1.dll',\n",
       " 'ConhostV2.dll',\n",
       " 'connect.dll',\n",
       " 'ConnectedAccountState.dll',\n",
       " 'consent.exe',\n",
       " 'ConsentUX.dll',\n",
       " 'console.dll',\n",
       " 'ConsoleLogon.dll',\n",
       " 'ConstraintIndex.Search.dll',\n",
       " 'ContactActivation.dll',\n",
       " 'ContactApis.dll',\n",
       " 'ContactHarvesterDS.dll',\n",
       " 'container.dll',\n",
       " 'container_xml.dll',\n",
       " 'ContentDeliveryManager.Utilities.dll',\n",
       " 'control.exe',\n",
       " 'convert.exe',\n",
       " 'coreaudiopolicymanagerext.dll',\n",
       " 'coredpus.dll',\n",
       " 'coredpussvr.exe',\n",
       " 'CoreMessaging.dll',\n",
       " 'CoreMmRes.dll',\n",
       " 'CoreShellAPI.dll',\n",
       " 'CoreUIComponents.dll',\n",
       " 'correngine.dll',\n",
       " 'Cortana.Persona.dll',\n",
       " 'CortanaMapiHelper.dll',\n",
       " 'CortanaMapiHelper.ProxyStub.dll',\n",
       " 'CourtesyEngine.dll',\n",
       " 'CPFilters.dll',\n",
       " 'CredDialogBroker.dll',\n",
       " 'CredentialMigrationHandler.dll',\n",
       " 'CredentialUIBroker.exe',\n",
       " 'CredProvDataModel.dll',\n",
       " 'credprovhost.dll',\n",
       " 'credprovs.dll',\n",
       " 'credprovslegacy.dll',\n",
       " 'credssp.dll',\n",
       " 'credui.dll',\n",
       " 'credwiz.exe',\n",
       " 'crypt32.dll',\n",
       " 'cryptbase.dll',\n",
       " 'cryptcatsvc.dll',\n",
       " 'cryptdlg.dll',\n",
       " 'cryptdll.dll',\n",
       " 'cryptext.dll',\n",
       " 'cryptnet.dll',\n",
       " 'cryptngc.dll',\n",
       " 'CryptoWinRT.dll',\n",
       " 'cryptsp.dll',\n",
       " 'cryptsvc.dll',\n",
       " 'crypttpmeksvc.dll',\n",
       " 'cryptui.dll',\n",
       " 'cryptuiwizard.dll',\n",
       " 'cryptxml.dll',\n",
       " 'cs-CZ',\n",
       " 'cscapi.dll',\n",
       " 'cscdll.dll',\n",
       " 'CscMig.dll',\n",
       " 'cscobj.dll',\n",
       " 'cscript.exe',\n",
       " 'cscsvc.dll',\n",
       " 'cscui.dll',\n",
       " 'CspCellularSettings.dll',\n",
       " 'csplte.dll',\n",
       " 'CspProxy.dll',\n",
       " 'csrr.rs',\n",
       " 'csrsrv.dll',\n",
       " 'csrss.exe',\n",
       " 'CSystemEventsBrokerClient.dll',\n",
       " 'ctfmon.exe',\n",
       " 'cttune.exe',\n",
       " 'cttunesvr.exe',\n",
       " 'CXHProvisioningServer.dll',\n",
       " 'C_037.NLS',\n",
       " 'C_10000.NLS',\n",
       " 'C_10001.NLS',\n",
       " 'C_10002.NLS',\n",
       " 'C_10003.NLS',\n",
       " 'C_10004.NLS',\n",
       " 'C_10005.NLS',\n",
       " 'C_10006.NLS',\n",
       " 'C_10007.NLS',\n",
       " 'C_10008.NLS',\n",
       " 'C_10010.NLS',\n",
       " 'C_10017.NLS',\n",
       " 'C_10021.NLS',\n",
       " 'C_10029.NLS',\n",
       " 'C_10079.NLS',\n",
       " 'C_10081.NLS',\n",
       " 'C_10082.NLS',\n",
       " 'C_1026.NLS',\n",
       " 'C_1047.NLS',\n",
       " 'C_1140.NLS',\n",
       " 'C_1141.NLS',\n",
       " 'C_1142.NLS',\n",
       " 'C_1143.NLS',\n",
       " 'C_1144.NLS',\n",
       " 'C_1145.NLS',\n",
       " 'C_1146.NLS',\n",
       " 'C_1147.NLS',\n",
       " 'C_1148.NLS',\n",
       " 'C_1149.NLS',\n",
       " 'C_1250.NLS',\n",
       " 'C_1251.NLS',\n",
       " 'C_1252.NLS',\n",
       " 'C_1253.NLS',\n",
       " 'C_1254.NLS',\n",
       " 'C_1255.NLS',\n",
       " 'C_1256.NLS',\n",
       " 'C_1257.NLS',\n",
       " 'C_1258.NLS',\n",
       " 'C_1361.NLS',\n",
       " 'C_20000.NLS',\n",
       " 'C_20001.NLS',\n",
       " 'C_20002.NLS',\n",
       " 'C_20003.NLS',\n",
       " 'C_20004.NLS',\n",
       " 'C_20005.NLS',\n",
       " 'C_20105.NLS',\n",
       " 'C_20106.NLS',\n",
       " 'C_20107.NLS',\n",
       " 'C_20108.NLS',\n",
       " 'C_20127.NLS',\n",
       " 'C_20261.NLS',\n",
       " 'C_20269.NLS',\n",
       " 'C_20273.NLS',\n",
       " 'C_20277.NLS',\n",
       " 'C_20278.NLS',\n",
       " 'C_20280.NLS',\n",
       " 'C_20284.NLS',\n",
       " 'C_20285.NLS',\n",
       " 'C_20290.NLS',\n",
       " 'C_20297.NLS',\n",
       " 'C_20420.NLS',\n",
       " 'C_20423.NLS',\n",
       " 'C_20424.NLS',\n",
       " 'C_20833.NLS',\n",
       " 'C_20838.NLS',\n",
       " 'C_20866.NLS',\n",
       " 'C_20871.NLS',\n",
       " 'C_20880.NLS',\n",
       " 'C_20905.NLS',\n",
       " 'C_20924.NLS',\n",
       " 'C_20932.NLS',\n",
       " 'C_20936.NLS',\n",
       " 'C_20949.NLS',\n",
       " 'C_21025.NLS',\n",
       " 'C_21027.NLS',\n",
       " 'C_21866.NLS',\n",
       " 'C_28591.NLS',\n",
       " 'C_28592.NLS',\n",
       " 'C_28593.NLS',\n",
       " 'C_28594.NLS',\n",
       " 'C_28595.NLS',\n",
       " 'C_28596.NLS',\n",
       " 'C_28597.NLS',\n",
       " 'C_28598.NLS',\n",
       " 'C_28599.NLS',\n",
       " 'c_28603.nls',\n",
       " 'C_28605.NLS',\n",
       " 'C_437.NLS',\n",
       " 'C_500.NLS',\n",
       " 'C_708.NLS',\n",
       " 'C_720.NLS',\n",
       " 'C_737.NLS',\n",
       " 'C_775.NLS',\n",
       " 'C_850.NLS',\n",
       " 'C_852.NLS',\n",
       " 'C_855.NLS',\n",
       " 'C_857.NLS',\n",
       " 'C_858.NLS',\n",
       " 'C_860.NLS',\n",
       " 'C_861.NLS',\n",
       " 'C_862.NLS',\n",
       " 'C_863.NLS',\n",
       " 'C_864.NLS',\n",
       " 'C_865.NLS',\n",
       " 'C_866.NLS',\n",
       " 'C_869.NLS',\n",
       " 'C_870.NLS',\n",
       " 'C_874.NLS',\n",
       " 'C_875.NLS',\n",
       " 'C_932.NLS',\n",
       " 'C_936.NLS',\n",
       " 'C_949.NLS',\n",
       " 'C_950.NLS',\n",
       " 'C_G18030.DLL',\n",
       " 'c_GSM7.DLL',\n",
       " 'C_IS2022.DLL',\n",
       " 'C_ISCII.DLL',\n",
       " 'd2d1.dll',\n",
       " 'd3d10.dll',\n",
       " 'd3d10core.dll',\n",
       " 'd3d10level9.dll',\n",
       " 'd3d10warp.dll',\n",
       " 'd3d10_1.dll',\n",
       " 'd3d10_1core.dll',\n",
       " 'd3d11.dll',\n",
       " 'D3D12.dll',\n",
       " 'd3d8thk.dll',\n",
       " 'd3d9.dll',\n",
       " 'D3DCompiler_47.dll',\n",
       " 'D3DSCache.dll',\n",
       " 'da-DK',\n",
       " 'dab.dll',\n",
       " 'dabapi.dll',\n",
       " 'DAConn.dll',\n",
       " 'dafAspInfraProvider.dll',\n",
       " 'dafBth.dll',\n",
       " 'DafDnsSd.dll',\n",
       " 'dafDockingProvider.dll',\n",
       " 'DafGip.dll',\n",
       " 'DAFIoT.dll',\n",
       " 'DAFIPP.dll',\n",
       " 'dafpos.dll',\n",
       " 'DafPrintProvider.dll',\n",
       " 'dafupnp.dll',\n",
       " 'dafWCN.dll',\n",
       " 'dafWfdProvider.dll',\n",
       " 'DAFWiProv.dll',\n",
       " 'DAFWSD.dll',\n",
       " 'DAMediaManager.dll',\n",
       " 'DAMM.dll',\n",
       " 'DaOtpCredentialProvider.dll',\n",
       " 'das.dll',\n",
       " 'dasHost.exe',\n",
       " 'dataclen.dll',\n",
       " 'DataExchange.dll',\n",
       " 'DataExchangeHost.exe',\n",
       " 'datamarketsvc.dll',\n",
       " 'DataStoreCacheDumpTool.exe',\n",
       " 'DataUsageHandlers.dll',\n",
       " 'DataUsageLiveTileTask.exe',\n",
       " 'datusage.dll',\n",
       " 'davclnt.dll',\n",
       " 'davhlpr.dll',\n",
       " 'DavSyncProvider.dll',\n",
       " 'daxexec.dll',\n",
       " 'dbgcore.dll',\n",
       " 'dbgeng.dll',\n",
       " 'dbghelp.dll',\n",
       " 'DbgModel.dll',\n",
       " 'dbnetlib.dll',\n",
       " 'dbnmpntw.dll',\n",
       " 'dccw.exe',\n",
       " 'dciman32.dll',\n",
       " 'dcntel.dll',\n",
       " 'dcomcnfg.exe',\n",
       " 'dcomp.dll',\n",
       " 'DDACLSys.dll',\n",
       " 'DdcComImplementations.dll',\n",
       " 'DDDS.dll',\n",
       " 'DDFs',\n",
       " 'ddisplay.dll',\n",
       " 'ddodiag.exe',\n",
       " 'DDOIProxy.dll',\n",
       " 'DDORes.dll',\n",
       " 'ddpchunk.dll',\n",
       " 'ddptrace.dll',\n",
       " 'ddputils.dll',\n",
       " 'ddp_ps.dll',\n",
       " 'ddraw.dll',\n",
       " 'ddrawex.dll',\n",
       " 'de-DE',\n",
       " 'DefaultDeviceManager.dll',\n",
       " 'DefaultHrtfs.bin',\n",
       " 'DefaultPrinterProvider.dll',\n",
       " 'DefaultQuestions.json',\n",
       " 'Defrag.exe',\n",
       " 'defragproxy.dll',\n",
       " 'defragres.dll',\n",
       " 'defragsvc.dll',\n",
       " 'delegatorprovider.dll',\n",
       " 'desk.cpl',\n",
       " 'deskadp.dll',\n",
       " 'deskmon.dll',\n",
       " 'desktopimgdownldr.exe',\n",
       " 'DesktopShellExt.dll',\n",
       " 'DesktopView.Internal.Broker.dll',\n",
       " 'DesktopView.Internal.Broker.ProxyStub.dll',\n",
       " 'DevDispItemProvider.dll',\n",
       " 'DeveloperOptionsSettingsHandlers.dll',\n",
       " 'devenum.dll',\n",
       " 'deviceaccess.dll',\n",
       " 'deviceassociation.dll',\n",
       " 'DeviceCensus.exe',\n",
       " 'DeviceCenter.dll',\n",
       " 'DeviceCredential.dll',\n",
       " 'DeviceCredentialDeployment.exe',\n",
       " 'DeviceDirectoryClient.dll',\n",
       " 'DeviceDisplayStatusManager.dll',\n",
       " 'DeviceDriverRetrievalClient.dll',\n",
       " 'DeviceEject.exe',\n",
       " 'DeviceElementSource.dll',\n",
       " 'DeviceEnroller.exe',\n",
       " 'DeviceFlows.DataModel.dll',\n",
       " 'DeviceMetadataRetrievalClient.dll',\n",
       " 'devicengccredprov.dll',\n",
       " 'DevicePairing.dll',\n",
       " 'DevicePairingFolder.dll',\n",
       " 'DevicePairingProxy.dll',\n",
       " 'DevicePairingWizard.exe',\n",
       " 'DeviceProperties.exe',\n",
       " 'DeviceReactivation.dll',\n",
       " 'deviceregistration.dll',\n",
       " 'DeviceSetupManager.dll',\n",
       " 'DeviceSetupManagerAPI.dll',\n",
       " 'DeviceSetupStatusProvider.dll',\n",
       " 'DevicesFlowBroker.dll',\n",
       " 'DeviceSoftwareInstallationClient.dll',\n",
       " 'DeviceUxRes.dll',\n",
       " 'devinv.dll',\n",
       " 'devmgmt.msc',\n",
       " 'devmgr.dll',\n",
       " 'DevModeRunAsUserConfig.msc',\n",
       " 'devobj.dll',\n",
       " 'DevPropMgr.dll',\n",
       " 'DevQueryBroker.dll',\n",
       " 'devrtl.dll',\n",
       " 'dfdts.dll',\n",
       " 'DFDWiz.exe',\n",
       " 'dfrgui.exe',\n",
       " 'dfscli.dll',\n",
       " 'dfshim.dll',\n",
       " 'DfsShlEx.dll',\n",
       " 'dggpext.dll',\n",
       " 'dhcpcmonitor.dll',\n",
       " 'dhcpcore.dll',\n",
       " 'dhcpcore6.dll',\n",
       " 'dhcpcsvc.dll',\n",
       " 'dhcpcsvc6.dll',\n",
       " 'dhcpsapi.dll',\n",
       " 'DiagCpl.dll',\n",
       " 'DiagnosticLogCSP.dll',\n",
       " 'diagperf.dll',\n",
       " 'DiagSvcs',\n",
       " 'diagtrack.dll',\n",
       " 'dialclient.dll',\n",
       " 'dialer.exe',\n",
       " 'dialserver.dll',\n",
       " 'DictationManager.dll',\n",
       " 'difxapi.dll',\n",
       " 'dimsjob.dll',\n",
       " 'dimsroam.dll',\n",
       " 'dinput.dll',\n",
       " 'dinput8.dll',\n",
       " 'Direct2DDesktop.dll',\n",
       " 'directmanipulation.dll',\n",
       " 'discan.dll',\n",
       " 'diskmgmt.msc',\n",
       " 'diskpart.exe',\n",
       " 'diskperf.exe',\n",
       " 'diskraid.exe',\n",
       " 'DiskSnapshot.conf',\n",
       " 'DiskSnapshot.exe',\n",
       " 'Dism',\n",
       " 'Dism.exe',\n",
       " 'DismApi.dll',\n",
       " 'dispci.dll',\n",
       " 'dispdiag.exe',\n",
       " 'dispex.dll',\n",
       " 'Display.dll',\n",
       " 'DisplayManager.dll',\n",
       " 'DisplaySwitch.exe',\n",
       " 'djctq.rs',\n",
       " 'djoin.exe',\n",
       " 'dllhost.exe',\n",
       " 'dllhst3g.exe',\n",
       " 'dlnashext.dll',\n",
       " 'DMAlertListener.ProxyStub.dll',\n",
       " 'DmApiSetExtImplDesktop.dll',\n",
       " 'DMAppsRes.dll',\n",
       " 'dmcertinst.exe',\n",
       " 'dmcfghost.exe',\n",
       " 'dmcfgutils.dll',\n",
       " 'dmclient.exe',\n",
       " 'dmcmnutils.dll',\n",
       " 'dmcommandlineutils.dll',\n",
       " 'dmcsps.dll',\n",
       " 'dmdlgs.dll',\n",
       " 'dmdskmgr.dll',\n",
       " 'dmdskres.dll',\n",
       " 'dmdskres2.dll',\n",
       " 'dmenrollengine.dll',\n",
       " 'dmenterprisediagnostics.dll',\n",
       " 'dmintf.dll',\n",
       " 'dmiso8601utils.dll',\n",
       " 'dmloader.dll',\n",
       " 'DmNotificationBroker.exe',\n",
       " 'dmocx.dll',\n",
       " 'dmoleaututils.dll',\n",
       " 'DmOmaCpMo.exe',\n",
       " 'dmprocessxmlfiltered.dll',\n",
       " 'dmpushproxy.dll',\n",
       " 'DMPushRouterCore.dll',\n",
       " 'DMRServer.dll',\n",
       " 'dmsynth.dll',\n",
       " 'dmusic.dll',\n",
       " 'dmutil.dll',\n",
       " 'dmvdsitf.dll',\n",
       " 'dmview.ocx',\n",
       " 'dmwappushsvc.dll',\n",
       " 'dmwmicsp.dll',\n",
       " 'dmxmlhelputils.dll',\n",
       " 'dnsapi.dll',\n",
       " 'dnscacheugc.exe',\n",
       " 'dnscmmc.dll',\n",
       " 'dnsext.dll',\n",
       " 'dnshc.dll',\n",
       " 'dnsrslvr.dll',\n",
       " 'Docking.VirtualInput.dll',\n",
       " 'DockInterface.ProxyStub.dll',\n",
       " 'docprop.dll',\n",
       " 'DocumentPerformanceEvents.dll',\n",
       " 'DolbyDecMFT.dll',\n",
       " 'DolbyHrtfEnc.dll',\n",
       " 'DolbyMATEnc.dll',\n",
       " 'domgmt.dll',\n",
       " 'dosettings.dll',\n",
       " 'doskey.exe',\n",
       " 'dosvc.dll',\n",
       " 'dot3api.dll',\n",
       " 'dot3cfg.dll',\n",
       " 'Dot3Conn.dll',\n",
       " 'dot3dlg.dll',\n",
       " 'dot3gpclnt.dll',\n",
       " 'dot3gpui.dll',\n",
       " 'dot3hc.dll',\n",
       " 'dot3mm.dll',\n",
       " 'dot3msm.dll',\n",
       " 'dot3svc.dll',\n",
       " 'dot3ui.dll',\n",
       " 'downlevel',\n",
       " 'dpapi.dll',\n",
       " 'dpapimig.exe',\n",
       " 'dpapiprovider.dll',\n",
       " 'dpapisrv.dll',\n",
       " 'DpiScaling.exe',\n",
       " 'dpnaddr.dll',\n",
       " 'dpnathlp.dll',\n",
       " 'dpnet.dll',\n",
       " 'dpnhpast.dll',\n",
       " 'dpnhupnp.dll',\n",
       " 'dpnlobby.dll',\n",
       " 'dpnsvr.exe',\n",
       " 'dps.dll',\n",
       " 'dpx.dll',\n",
       " 'driverquery.exe',\n",
       " 'drivers',\n",
       " 'DriverStore',\n",
       " 'drprov.dll',\n",
       " 'drt.dll',\n",
       " 'drtprov.dll',\n",
       " 'drttransport.dll',\n",
       " 'drvcfg.exe',\n",
       " 'drvinst.exe',\n",
       " 'DRVSTORE',\n",
       " 'drvstore.dll',\n",
       " 'dsauth.dll',\n",
       " 'dsc',\n",
       " 'DscCore.dll',\n",
       " 'DscCoreConfProv.dll',\n",
       " 'dsclient.dll',\n",
       " 'dscproxy.dll',\n",
       " 'DscTimer.dll',\n",
       " 'dsdmo.dll',\n",
       " 'dskquota.dll',\n",
       " 'dskquoui.dll',\n",
       " 'DsmUserTask.exe',\n",
       " 'dsound.dll',\n",
       " 'dsparse.dll',\n",
       " 'dsprop.dll',\n",
       " 'dsquery.dll',\n",
       " 'dsreg.dll',\n",
       " 'dsregcmd.exe',\n",
       " 'dsrole.dll',\n",
       " 'dssec.dat',\n",
       " 'dssec.dll',\n",
       " 'dssenh.dll',\n",
       " 'dssvc.dll',\n",
       " 'dstokenclean.exe',\n",
       " 'Dsui.dll',\n",
       " 'dsuiext.dll',\n",
       " 'dswave.dll',\n",
       " 'dtsh.dll',\n",
       " 'DuCsps.dll',\n",
       " 'dui70.dll',\n",
       " 'duser.dll',\n",
       " 'dusmapi.dll',\n",
       " 'dusmsvc.dll',\n",
       " 'dusmtask.exe',\n",
       " 'dvdplay.exe',\n",
       " 'dwm.exe',\n",
       " 'dwmapi.dll',\n",
       " 'dwmcore.dll',\n",
       " 'dwmghost.dll',\n",
       " 'dwminit.dll',\n",
       " 'dwmredir.dll',\n",
       " 'DWrite.dll',\n",
       " 'DWWIN.EXE',\n",
       " 'dxdiag.exe',\n",
       " 'dxdiagn.dll',\n",
       " 'dxgi.dll',\n",
       " 'dxgwdi.dll',\n",
       " 'dxilconv.dll',\n",
       " 'dxmasf.dll',\n",
       " 'DXP.dll',\n",
       " 'dxpps.dll',\n",
       " 'Dxpserver.exe',\n",
       " 'DxpTaskSync.dll',\n",
       " 'dxtmsft.dll',\n",
       " 'dxtrans.dll',\n",
       " 'dxva2.dll',\n",
       " 'e1c65x64.din',\n",
       " 'e1cmsg.dll',\n",
       " 'EAMProgressHandler.dll',\n",
       " 'Eap3Host.exe',\n",
       " 'eapp3hst.dll',\n",
       " 'eappcfg.dll',\n",
       " 'eappcfgui.dll',\n",
       " 'eappgnui.dll',\n",
       " 'eapphost.dll',\n",
       " 'eappprxy.dll',\n",
       " 'eapprovp.dll',\n",
       " 'eapsimextdesktop.dll',\n",
       " 'eapsvc.dll',\n",
       " 'easconsent.dll',\n",
       " 'EaseOfAccessDialog.exe',\n",
       " 'easinvoker.exe',\n",
       " 'easinvoker.proxystub.dll',\n",
       " ...]"
      ]
     },
     "execution_count": 35,
     "metadata": {},
     "output_type": "execute_result"
    }
   ],
   "source": [
    "os.listdir('C:\\\\Windows\\\\System32')"
   ]
  },
  {
   "cell_type": "code",
   "execution_count": 38,
   "id": "c59538c4",
   "metadata": {},
   "outputs": [
    {
     "name": "stdout",
     "output_type": "stream",
     "text": [
      "2031499774\n"
     ]
    }
   ],
   "source": [
    "# i want to find the total size of all the files in this directory\n",
    "totalSize = 0\n",
    "for filename in os.listdir('C:\\\\Windows\\\\System32'):\n",
    "    totalSize = totalSize + os.path.getsize(os.path.join('C:\\\\Windows\\\\System32', filename))\n",
    "print(totalSize)"
   ]
  },
  {
   "cell_type": "code",
   "execution_count": 41,
   "id": "9f508be5",
   "metadata": {},
   "outputs": [
    {
     "data": {
      "text/plain": [
       "<generator object Path.glob at 0x0000021838F133C0>"
      ]
     },
     "execution_count": 41,
     "metadata": {},
     "output_type": "execute_result"
    }
   ],
   "source": [
    "# Modifying a list of Files Using Glob Patterns\n",
    "p = Path('C:/Users/Dell/Desktop')\n",
    "p.glob('*')"
   ]
  },
  {
   "cell_type": "code",
   "execution_count": 42,
   "id": "1a5ca144",
   "metadata": {},
   "outputs": [
    {
     "data": {
      "text/plain": [
       "[WindowsPath('C:/Users/Dell/Desktop/100 Days to a Younger Brain  Maximise Your Memory, Boost Your Brain Health ... - Sabina Brennan - Google Books.lnk'),\n",
       " WindowsPath('C:/Users/Dell/Desktop/15 Cool Things To Do In Lisbon   Anywhere We Roam.lnk'),\n",
       " WindowsPath('C:/Users/Dell/Desktop/7 Days to a Positive Attitude  A One-week Game Plan for Beginning the ... - Google Books.lnk'),\n",
       " WindowsPath(\"C:/Users/Dell/Desktop/A Teacher's Idea  How To Teach Creative Writing To Young Children.lnk\"),\n",
       " WindowsPath('C:/Users/Dell/Desktop/acceptance.docx'),\n",
       " WindowsPath('C:/Users/Dell/Desktop/Akhtar Rasool S.docx'),\n",
       " WindowsPath('C:/Users/Dell/Desktop/Anti-Inflammation Diet For Dummies - Artemis Morris, Molly Rossiter - Google Books.lnk'),\n",
       " WindowsPath('C:/Users/Dell/Desktop/art and craft.lnk'),\n",
       " WindowsPath('C:/Users/Dell/Desktop/Asia'),\n",
       " WindowsPath('C:/Users/Dell/Desktop/Asif Gill   Facebook.lnk'),\n",
       " WindowsPath('C:/Users/Dell/Desktop/Automatic Natural Weight Loss System - Franklin Gillette - Google Books.lnk'),\n",
       " WindowsPath('C:/Users/Dell/Desktop/Chimp Rewriter - The Best Article Rewriter and Spinner Software.lnk'),\n",
       " WindowsPath('C:/Users/Dell/Desktop/Communication Skills and Personality Development - Google Books (1).lnk'),\n",
       " WindowsPath('C:/Users/Dell/Desktop/Communication Skills and Personality Development - Google Books.lnk'),\n",
       " WindowsPath('C:/Users/Dell/Desktop/CONNECT WITH YOUR CREATOR.docx'),\n",
       " WindowsPath('C:/Users/Dell/Desktop/CONSIDERABLE Synonyms  79 Synonyms & Antonyms for CONSIDERABLE   Thesaurus.com.lnk'),\n",
       " WindowsPath('C:/Users/Dell/Desktop/desktop.ini'),\n",
       " WindowsPath('C:/Users/Dell/Desktop/Difference Between Basic Research and Applied Research   Difference Between.lnk'),\n",
       " WindowsPath('C:/Users/Dell/Desktop/faithful.pdf'),\n",
       " WindowsPath('C:/Users/Dell/Desktop/faithful.png'),\n",
       " WindowsPath('C:/Users/Dell/Desktop/FarazGill Highest typing speed.png'),\n",
       " WindowsPath('C:/Users/Dell/Desktop/fatithful.png'),\n",
       " WindowsPath('C:/Users/Dell/Desktop/gatsby-starter-default.lnk'),\n",
       " WindowsPath('C:/Users/Dell/Desktop/Gmail.lnk'),\n",
       " WindowsPath('C:/Users/Dell/Desktop/Google Books.lnk'),\n",
       " WindowsPath('C:/Users/Dell/Desktop/Google Scholar.lnk'),\n",
       " WindowsPath('C:/Users/Dell/Desktop/Headline Studio from CoSchedule.lnk'),\n",
       " WindowsPath('C:/Users/Dell/Desktop/Hemingway Editor.lnk'),\n",
       " WindowsPath('C:/Users/Dell/Desktop/Herbal Weight Loss  Ayurvedic Treatments and yoga for fast Weight loss - Shivanand - Google Books.lnk'),\n",
       " WindowsPath('C:/Users/Dell/Desktop/Jupyter Notebook (anaconda3) (2).lnk'),\n",
       " WindowsPath('C:/Users/Dell/Desktop/Management - John R. Schermerhorn, Jr., Daniel G. Bachrach, Barry Wright - Google Books.lnk'),\n",
       " WindowsPath('C:/Users/Dell/Desktop/Marvelous Memory Boosters  Recharge Your Brain with Special Nutrients Proven ... - Beth M. Ley - Google Books.lnk'),\n",
       " WindowsPath('C:/Users/Dell/Desktop/Microsoft Excel 2010.lnk'),\n",
       " WindowsPath('C:/Users/Dell/Desktop/Millionaire Mindset Mastery  How to Use the Secret Pillars of Money to Gain ... - Greg Marty - Google Books.lnk'),\n",
       " WindowsPath('C:/Users/Dell/Desktop/New story – Medium.lnk'),\n",
       " WindowsPath('C:/Users/Dell/Desktop/organization-planner.jpg'),\n",
       " WindowsPath('C:/Users/Dell/Desktop/PopSQL.lnk'),\n",
       " WindowsPath('C:/Users/Dell/Desktop/Pressbooks.lnk'),\n",
       " WindowsPath('C:/Users/Dell/Desktop/R1faithful.pdf'),\n",
       " WindowsPath('C:/Users/Dell/Desktop/Rfaithful.pdf'),\n",
       " WindowsPath('C:/Users/Dell/Desktop/Rfaithful1.pdf'),\n",
       " WindowsPath('C:/Users/Dell/Desktop/Run Race - TypeRush.lnk'),\n",
       " WindowsPath('C:/Users/Dell/Desktop/Self-Discipline  A Guide to Overcoming Lazy Habits and Developing the ... - James Jones - Google Books.lnk'),\n",
       " WindowsPath('C:/Users/Dell/Desktop/SEO Content Editor—Your Powerful Writing Assistant · Surfer.lnk'),\n",
       " WindowsPath('C:/Users/Dell/Desktop/Something   Definition of Something at Dictionary.com.lnk'),\n",
       " WindowsPath('C:/Users/Dell/Desktop/story Writing.docx'),\n",
       " WindowsPath('C:/Users/Dell/Desktop/Test development (1).lnk'),\n",
       " WindowsPath('C:/Users/Dell/Desktop/test development.lnk'),\n",
       " WindowsPath('C:/Users/Dell/Desktop/Understanding t.test() in R _ Scribbling .....html'),\n",
       " WindowsPath('C:/Users/Dell/Desktop/Understanding t.test() in R _ Scribbling ...._files'),\n",
       " WindowsPath('C:/Users/Dell/Desktop/WPS Office.lnk'),\n",
       " WindowsPath('C:/Users/Dell/Desktop/WPS PDF.lnk'),\n",
       " WindowsPath('C:/Users/Dell/Desktop/writer Bay.lnk'),\n",
       " WindowsPath('C:/Users/Dell/Desktop/xyplot.pdf'),\n",
       " WindowsPath('C:/Users/Dell/Desktop/xyplot.png'),\n",
       " WindowsPath('C:/Users/Dell/Desktop/YouTube.lnk')]"
      ]
     },
     "execution_count": 42,
     "metadata": {},
     "output_type": "execute_result"
    }
   ],
   "source": [
    "list(p.glob('*')) # Make a list from the generator."
   ]
  },
  {
   "cell_type": "code",
   "execution_count": 44,
   "id": "3e669f17",
   "metadata": {},
   "outputs": [
    {
     "data": {
      "text/plain": [
       "[WindowsPath('C:/Users/Dell/Desktop/New Text Document (2).txt'),\n",
       " WindowsPath('C:/Users/Dell/Desktop/New Text Document.txt')]"
      ]
     },
     "execution_count": 44,
     "metadata": {},
     "output_type": "execute_result"
    }
   ],
   "source": [
    "# the * means any number of character and .txt means file that ends with string '.txt'\n",
    "list(p.glob('*.txt')) # Lists all text files."
   ]
  },
  {
   "cell_type": "code",
   "execution_count": 53,
   "id": "8d676bed",
   "metadata": {},
   "outputs": [
    {
     "data": {
      "text/plain": [
       "[WindowsPath('C:/Users/Dell/Desktop/project1.docx'),\n",
       " WindowsPath('C:/Users/Dell/Desktop/project2.docx')]"
      ]
     },
     "execution_count": 53,
     "metadata": {},
     "output_type": "execute_result"
    }
   ],
   "source": [
    "list(p.glob('project?.docx')) # ? it only matches the one character\n"
   ]
  },
  {
   "cell_type": "code",
   "execution_count": 55,
   "id": "790dc41b",
   "metadata": {},
   "outputs": [
    {
     "data": {
      "text/plain": [
       "[WindowsPath('C:/Users/Dell/Desktop/New Text Document (2).txt'),\n",
       " WindowsPath('C:/Users/Dell/Desktop/New Text Document.txt')]"
      ]
     },
     "execution_count": 55,
     "metadata": {},
     "output_type": "execute_result"
    }
   ],
   "source": [
    "list(p.glob('*.?x?'))"
   ]
  },
  {
   "cell_type": "code",
   "execution_count": 57,
   "id": "faceb483",
   "metadata": {},
   "outputs": [
    {
     "name": "stdout",
     "output_type": "stream",
     "text": [
      "C:\\Users\\DELL\\Desktop\\foo.txt\n",
      "C:\\Users\\DELL\\Desktop\\New Text Document (2).txt\n",
      "C:\\Users\\DELL\\Desktop\\New Text Document.txt\n",
      "C:\\Users\\DELL\\Desktop\\zzoo.txt\n"
     ]
    }
   ],
   "source": [
    "p = Path('C:/Users/DELL/Desktop')\n",
    "for textFilePathObj in p.glob('*.txt'):\n",
    "    print(textFilePathObj) # Prints the path object as a string.\n",
    "    # Do something with the text file.\n",
    "    "
   ]
  },
  {
   "cell_type": "code",
   "execution_count": 58,
   "id": "2822a93f",
   "metadata": {},
   "outputs": [
    {
     "data": {
      "text/plain": [
       "['100 Days to a Younger Brain  Maximise Your Memory, Boost Your Brain Health ... - Sabina Brennan - Google Books.lnk',\n",
       " '15 Cool Things To Do In Lisbon   Anywhere We Roam.lnk',\n",
       " '7 Days to a Positive Attitude  A One-week Game Plan for Beginning the ... - Google Books.lnk',\n",
       " \"A Teacher's Idea  How To Teach Creative Writing To Young Children.lnk\",\n",
       " 'acceptance.docx',\n",
       " 'Akhtar Rasool S.docx',\n",
       " 'Anti-Inflammation Diet For Dummies - Artemis Morris, Molly Rossiter - Google Books.lnk',\n",
       " 'art and craft.lnk',\n",
       " 'Asia',\n",
       " 'Asif Gill   Facebook.lnk',\n",
       " 'Automatic Natural Weight Loss System - Franklin Gillette - Google Books.lnk',\n",
       " 'Chimp Rewriter - The Best Article Rewriter and Spinner Software.lnk',\n",
       " 'Communication Skills and Personality Development - Google Books (1).lnk',\n",
       " 'Communication Skills and Personality Development - Google Books.lnk',\n",
       " 'CONNECT WITH YOUR CREATOR.docx',\n",
       " 'CONSIDERABLE Synonyms  79 Synonyms & Antonyms for CONSIDERABLE   Thesaurus.com.lnk',\n",
       " 'desktop.ini',\n",
       " 'Difference Between Basic Research and Applied Research   Difference Between.lnk',\n",
       " 'faithful.pdf',\n",
       " 'faithful.png',\n",
       " 'FarazGill Highest typing speed.png',\n",
       " 'fatithful.png',\n",
       " 'foo.txt',\n",
       " 'gatsby-starter-default.lnk',\n",
       " 'Gmail.lnk',\n",
       " 'Google Books.lnk',\n",
       " 'Google Scholar.lnk',\n",
       " 'Headline Studio from CoSchedule.lnk',\n",
       " 'Hemingway Editor.lnk',\n",
       " 'Herbal Weight Loss  Ayurvedic Treatments and yoga for fast Weight loss - Shivanand - Google Books.lnk',\n",
       " 'Jupyter Notebook (anaconda3) (2).lnk',\n",
       " 'Management - John R. Schermerhorn, Jr., Daniel G. Bachrach, Barry Wright - Google Books.lnk',\n",
       " 'Marvelous Memory Boosters  Recharge Your Brain with Special Nutrients Proven ... - Beth M. Ley - Google Books.lnk',\n",
       " 'Microsoft Excel 2010.lnk',\n",
       " 'Millionaire Mindset Mastery  How to Use the Secret Pillars of Money to Gain ... - Greg Marty - Google Books.lnk',\n",
       " 'New DOCX Document (2).docx',\n",
       " 'New DOCX Document.docx',\n",
       " 'New story – Medium.lnk',\n",
       " 'New Text Document (2).txt',\n",
       " 'New Text Document.txt',\n",
       " 'organization-planner.jpg',\n",
       " 'PopSQL.lnk',\n",
       " 'Pressbooks.lnk',\n",
       " 'project1.docx',\n",
       " 'project2.docx',\n",
       " 'R1faithful.pdf',\n",
       " 'Rfaithful.pdf',\n",
       " 'Rfaithful1.pdf',\n",
       " 'Run Race - TypeRush.lnk',\n",
       " 'Self-Discipline  A Guide to Overcoming Lazy Habits and Developing the ... - James Jones - Google Books.lnk',\n",
       " 'SEO Content Editor—Your Powerful Writing Assistant · Surfer.lnk',\n",
       " 'Something   Definition of Something at Dictionary.com.lnk',\n",
       " 'story Writing.docx',\n",
       " 'Test development (1).lnk',\n",
       " 'test development.lnk',\n",
       " 'Understanding t.test() in R _ Scribbling .....html',\n",
       " 'Understanding t.test() in R _ Scribbling ...._files',\n",
       " 'WPS Office.lnk',\n",
       " 'WPS PDF.lnk',\n",
       " 'writer Bay.lnk',\n",
       " 'xyplot.pdf',\n",
       " 'xyplot.png',\n",
       " 'YouTube.lnk',\n",
       " 'zzoo.txt']"
      ]
     },
     "execution_count": 58,
     "metadata": {},
     "output_type": "execute_result"
    }
   ],
   "source": [
    "'''if you want to perform some operatoin  on every file in a directory,\n",
    "you can use either as.litdir(p) or p.glob('*)')'''\n",
    "os.listdir(p)"
   ]
  },
  {
   "cell_type": "code",
   "execution_count": 60,
   "id": "5c724759",
   "metadata": {},
   "outputs": [
    {
     "data": {
      "text/plain": [
       "<generator object Path.glob at 0x0000021838F1E900>"
      ]
     },
     "execution_count": 60,
     "metadata": {},
     "output_type": "execute_result"
    }
   ],
   "source": [
    "p.glob('*')"
   ]
  },
  {
   "cell_type": "code",
   "execution_count": 67,
   "id": "190912e6",
   "metadata": {},
   "outputs": [],
   "source": [
    "# Checking Path Validity\n",
    "winDir = Path('C:/Windows')\n",
    "notExistsDir = Path('C:/This/Folder/Does/Not/Exist')\n",
    "calcFile = Path('C:/Windows/System32/Calc.exe')\n"
   ]
  },
  {
   "cell_type": "code",
   "execution_count": 68,
   "id": "23129bf3",
   "metadata": {},
   "outputs": [
    {
     "data": {
      "text/plain": [
       "True"
      ]
     },
     "execution_count": 68,
     "metadata": {},
     "output_type": "execute_result"
    }
   ],
   "source": [
    "winDir.exists()"
   ]
  },
  {
   "cell_type": "code",
   "execution_count": 69,
   "id": "3e55318f",
   "metadata": {},
   "outputs": [
    {
     "data": {
      "text/plain": [
       "True"
      ]
     },
     "execution_count": 69,
     "metadata": {},
     "output_type": "execute_result"
    }
   ],
   "source": [
    "winDir.is_dir()"
   ]
  },
  {
   "cell_type": "code",
   "execution_count": 70,
   "id": "1f754ab3",
   "metadata": {},
   "outputs": [
    {
     "data": {
      "text/plain": [
       "False"
      ]
     },
     "execution_count": 70,
     "metadata": {},
     "output_type": "execute_result"
    }
   ],
   "source": [
    "notExistsDir.exists()"
   ]
  },
  {
   "cell_type": "code",
   "execution_count": 71,
   "id": "ddbe92de",
   "metadata": {},
   "outputs": [
    {
     "data": {
      "text/plain": [
       "True"
      ]
     },
     "execution_count": 71,
     "metadata": {},
     "output_type": "execute_result"
    }
   ],
   "source": [
    "calcFile.is_file()"
   ]
  },
  {
   "cell_type": "code",
   "execution_count": 72,
   "id": "fc4fa163",
   "metadata": {},
   "outputs": [
    {
     "data": {
      "text/plain": [
       "False"
      ]
     },
     "execution_count": 72,
     "metadata": {},
     "output_type": "execute_result"
    }
   ],
   "source": [
    "calcFile.is_dir()"
   ]
  },
  {
   "cell_type": "code",
   "execution_count": 73,
   "id": "d797d187",
   "metadata": {},
   "outputs": [],
   "source": [
    "dDrive = Path('D:/')"
   ]
  },
  {
   "cell_type": "code",
   "execution_count": 74,
   "id": "096063e8",
   "metadata": {},
   "outputs": [
    {
     "data": {
      "text/plain": [
       "False"
      ]
     },
     "execution_count": 74,
     "metadata": {},
     "output_type": "execute_result"
    }
   ],
   "source": [
    "dDrive.exists()"
   ]
  },
  {
   "cell_type": "code",
   "execution_count": 75,
   "id": "b5b2edab",
   "metadata": {},
   "outputs": [
    {
     "data": {
      "text/plain": [
       "True"
      ]
     },
     "execution_count": 75,
     "metadata": {},
     "output_type": "execute_result"
    }
   ],
   "source": [
    "# We can accomplish the same task with the os.path.exists(path), os.path.isfile(path), os.path.isdir(path) funcions\n",
    "os.path.exists(winDir)"
   ]
  },
  {
   "cell_type": "code",
   "execution_count": 77,
   "id": "ec1fefcc",
   "metadata": {},
   "outputs": [
    {
     "data": {
      "text/plain": [
       "False"
      ]
     },
     "execution_count": 77,
     "metadata": {},
     "output_type": "execute_result"
    }
   ],
   "source": [
    "os.path.isfile(winDir)"
   ]
  },
  {
   "cell_type": "code",
   "execution_count": 78,
   "id": "55b7f8cf",
   "metadata": {},
   "outputs": [
    {
     "data": {
      "text/plain": [
       "False"
      ]
     },
     "execution_count": 78,
     "metadata": {},
     "output_type": "execute_result"
    }
   ],
   "source": [
    "os.path.isdir(calcFile)"
   ]
  },
  {
   "cell_type": "code",
   "execution_count": 6,
   "id": "0e25b516",
   "metadata": {},
   "outputs": [
    {
     "data": {
      "text/plain": [
       "13"
      ]
     },
     "execution_count": 6,
     "metadata": {},
     "output_type": "execute_result"
    }
   ],
   "source": [
    "# The File Reading/Writing Process\n",
    "from pathlib import Path\n",
    "p = Path('spam.txt')\n",
    "p.write_text('Hello, world!')"
   ]
  },
  {
   "cell_type": "code",
   "execution_count": 7,
   "id": "4d4abab5",
   "metadata": {},
   "outputs": [
    {
     "data": {
      "text/plain": [
       "'Hello, world!'"
      ]
     },
     "execution_count": 7,
     "metadata": {},
     "output_type": "execute_result"
    }
   ],
   "source": [
    "p.read_text()"
   ]
  },
  {
   "cell_type": "code",
   "execution_count": 10,
   "id": "a794caf3",
   "metadata": {},
   "outputs": [
    {
     "data": {
      "text/plain": [
       "'C:\\\\Users\\\\DELL'"
      ]
     },
     "execution_count": 10,
     "metadata": {},
     "output_type": "execute_result"
    }
   ],
   "source": [
    "os.getcwd()"
   ]
  },
  {
   "cell_type": "code",
   "execution_count": 15,
   "id": "f7c7508f",
   "metadata": {},
   "outputs": [
    {
     "data": {
      "text/plain": [
       "13"
      ]
     },
     "execution_count": 15,
     "metadata": {},
     "output_type": "execute_result"
    }
   ],
   "source": [
    "p = Path('hello.txt')\n",
    "p.write_text(\"Hello, world!\")"
   ]
  },
  {
   "cell_type": "code",
   "execution_count": 42,
   "id": "f8ff4e15",
   "metadata": {},
   "outputs": [],
   "source": [
    "helloFile = open(Path.home() / 'hello.txt')"
   ]
  },
  {
   "cell_type": "code",
   "execution_count": 28,
   "id": "0aa43468",
   "metadata": {},
   "outputs": [],
   "source": [
    "# Opening Files with the open() Function\n",
    "helloFile = open('C:\\\\Users\\\\DELL\\\\hello.txt')"
   ]
  },
  {
   "cell_type": "code",
   "execution_count": 43,
   "id": "da1e8a29",
   "metadata": {},
   "outputs": [
    {
     "data": {
      "text/plain": [
       "<_io.TextIOWrapper name='C:\\\\Users\\\\DELL\\\\hello.txt' mode='r' encoding='cp1252'>"
      ]
     },
     "execution_count": 43,
     "metadata": {},
     "output_type": "execute_result"
    }
   ],
   "source": [
    "helloFile"
   ]
  },
  {
   "cell_type": "code",
   "execution_count": 39,
   "id": "21e83524",
   "metadata": {},
   "outputs": [],
   "source": [
    "helloFile = open('C:\\\\Users\\\\DELL\\\\hello.txt', 'r')"
   ]
  },
  {
   "cell_type": "code",
   "execution_count": 40,
   "id": "fe0fe40a",
   "metadata": {},
   "outputs": [
    {
     "data": {
      "text/plain": [
       "'Hello, world!'"
      ]
     },
     "execution_count": 40,
     "metadata": {},
     "output_type": "execute_result"
    }
   ],
   "source": [
    "helloFile.read()"
   ]
  },
  {
   "cell_type": "code",
   "execution_count": 44,
   "id": "32056cc3",
   "metadata": {},
   "outputs": [],
   "source": [
    "# Reading the Contents of Files\n",
    "helloContent = helloFile.read()"
   ]
  },
  {
   "cell_type": "code",
   "execution_count": 46,
   "id": "236f51f1",
   "metadata": {},
   "outputs": [
    {
     "data": {
      "text/plain": [
       "'Hello, world!'"
      ]
     },
     "execution_count": 46,
     "metadata": {},
     "output_type": "execute_result"
    }
   ],
   "source": [
    "helloContent"
   ]
  },
  {
   "cell_type": "code",
   "execution_count": 101,
   "id": "28da5725",
   "metadata": {},
   "outputs": [
    {
     "data": {
      "text/plain": [
       "173"
      ]
     },
     "execution_count": 101,
     "metadata": {},
     "output_type": "execute_result"
    }
   ],
   "source": [
    "p = Path('sonnet29.txt')\n",
    "p.write_text(\"When, in disgrace with fortune and men's eyes,\\nI all alone beweep my outcast state,\\n And trouble deaf heaven with my bootless cries,\\n And look upon myself and curse my fate,\")"
   ]
  },
  {
   "cell_type": "code",
   "execution_count": 102,
   "id": "7e286a14",
   "metadata": {},
   "outputs": [],
   "source": [
    "sonnetFile = open(Path.home() / 'sonnet29.txt')"
   ]
  },
  {
   "cell_type": "code",
   "execution_count": 103,
   "id": "7789c453",
   "metadata": {},
   "outputs": [
    {
     "data": {
      "text/plain": [
       "[\"When, in disgrace with fortune and men's eyes,\\n\",\n",
       " 'I all alone beweep my outcast state,\\n',\n",
       " ' And trouble deaf heaven with my bootless cries,\\n',\n",
       " ' And look upon myself and curse my fate,']"
      ]
     },
     "execution_count": 103,
     "metadata": {},
     "output_type": "execute_result"
    }
   ],
   "source": [
    "sonnetFile.readlines()"
   ]
  },
  {
   "cell_type": "code",
   "execution_count": 120,
   "id": "64dbede0",
   "metadata": {},
   "outputs": [
    {
     "data": {
      "text/plain": [
       "14"
      ]
     },
     "execution_count": 120,
     "metadata": {},
     "output_type": "execute_result"
    }
   ],
   "source": [
    "# Writing to Files\n",
    "baconFile = open('bacon.txt', 'w')\n",
    "baconFile.write('Hello, world!\\n')"
   ]
  },
  {
   "cell_type": "code",
   "execution_count": 121,
   "id": "87ee2ca3",
   "metadata": {},
   "outputs": [],
   "source": [
    "baconFile.close()"
   ]
  },
  {
   "cell_type": "code",
   "execution_count": 122,
   "id": "d1d6ef62",
   "metadata": {},
   "outputs": [
    {
     "data": {
      "text/plain": [
       "25"
      ]
     },
     "execution_count": 122,
     "metadata": {},
     "output_type": "execute_result"
    }
   ],
   "source": [
    "baconFile = open('bacon.txt', 'a')\n",
    "baconFile.write('bacon is not a vegetable.')"
   ]
  },
  {
   "cell_type": "code",
   "execution_count": 123,
   "id": "d705cddf",
   "metadata": {},
   "outputs": [],
   "source": [
    "baconFile.close()"
   ]
  },
  {
   "cell_type": "code",
   "execution_count": 124,
   "id": "80d21d29",
   "metadata": {},
   "outputs": [],
   "source": [
    "baconFile = open('bacon.txt')\n",
    "content = baconFile.read()"
   ]
  },
  {
   "cell_type": "code",
   "execution_count": 125,
   "id": "b5824c39",
   "metadata": {},
   "outputs": [],
   "source": [
    "baconFile.close()"
   ]
  },
  {
   "cell_type": "code",
   "execution_count": 126,
   "id": "78b48215",
   "metadata": {},
   "outputs": [
    {
     "name": "stdout",
     "output_type": "stream",
     "text": [
      "Hello, world!\n",
      "bacon is not a vegetable.\n"
     ]
    }
   ],
   "source": [
    "print(content)"
   ]
  },
  {
   "cell_type": "code",
   "execution_count": 127,
   "id": "28c1869a",
   "metadata": {},
   "outputs": [],
   "source": [
    "# Saving Varaibles with the shelve Module\n",
    "import shelve\n",
    "shelfFile = shelve.open('mydata')\n",
    "cats = ['Zophie', 'Pooka', 'Simon']\n",
    "shelfFile['cats'] = cats\n",
    "shelfFile.close()"
   ]
  },
  {
   "cell_type": "code",
   "execution_count": 128,
   "id": "05b7284e",
   "metadata": {},
   "outputs": [
    {
     "data": {
      "text/plain": [
       "shelve.DbfilenameShelf"
      ]
     },
     "execution_count": 128,
     "metadata": {},
     "output_type": "execute_result"
    }
   ],
   "source": [
    "shelfFile = shelve.open('mydata')\n",
    "type(shelfFile)"
   ]
  },
  {
   "cell_type": "code",
   "execution_count": 130,
   "id": "959daed3",
   "metadata": {},
   "outputs": [
    {
     "data": {
      "text/plain": [
       "['Zophie', 'Pooka', 'Simon']"
      ]
     },
     "execution_count": 130,
     "metadata": {},
     "output_type": "execute_result"
    }
   ],
   "source": [
    "shelfFile['cats']"
   ]
  },
  {
   "cell_type": "code",
   "execution_count": 131,
   "id": "eb54e225",
   "metadata": {},
   "outputs": [],
   "source": [
    "shelfFile.close()"
   ]
  },
  {
   "cell_type": "code",
   "execution_count": 132,
   "id": "e3d21438",
   "metadata": {},
   "outputs": [
    {
     "data": {
      "text/plain": [
       "['cats']"
      ]
     },
     "execution_count": 132,
     "metadata": {},
     "output_type": "execute_result"
    }
   ],
   "source": [
    "shelfFile = shelve.open('mydata')\n",
    "list(shelfFile.keys())"
   ]
  },
  {
   "cell_type": "code",
   "execution_count": 133,
   "id": "83405190",
   "metadata": {},
   "outputs": [
    {
     "data": {
      "text/plain": [
       "[['Zophie', 'Pooka', 'Simon']]"
      ]
     },
     "execution_count": 133,
     "metadata": {},
     "output_type": "execute_result"
    }
   ],
   "source": [
    "list(shelfFile.values())"
   ]
  },
  {
   "cell_type": "code",
   "execution_count": 134,
   "id": "5b43761d",
   "metadata": {},
   "outputs": [],
   "source": [
    "shelfFile.close()"
   ]
  },
  {
   "cell_type": "code",
   "execution_count": 1,
   "id": "0a1e6fdd",
   "metadata": {},
   "outputs": [
    {
     "data": {
      "text/plain": [
       "\"[{'desc': 'chubby', 'name': 'Zophie'}, {'desc': 'fluffy', 'name': 'Pooka'}]\""
      ]
     },
     "execution_count": 1,
     "metadata": {},
     "output_type": "execute_result"
    }
   ],
   "source": [
    "# Saving variables with the pprint.pformat() Function\n",
    "import pprint\n",
    "cats = [{'name': 'Zophie', 'desc': 'chubby'}, {'name': 'Pooka', 'desc': 'fluffy'}]\n",
    "pprint.pformat(cats)"
   ]
  },
  {
   "cell_type": "code",
   "execution_count": 3,
   "id": "aeb4d77d",
   "metadata": {},
   "outputs": [
    {
     "data": {
      "text/plain": [
       "83"
      ]
     },
     "execution_count": 3,
     "metadata": {},
     "output_type": "execute_result"
    }
   ],
   "source": [
    "fileObj = open('mycats.py', 'w')\n",
    "fileObj.write('cats = ' + pprint.pformat(cats) + '\\n')"
   ]
  },
  {
   "cell_type": "code",
   "execution_count": 5,
   "id": "5093352f",
   "metadata": {},
   "outputs": [],
   "source": [
    "fileObj.close()"
   ]
  },
  {
   "cell_type": "code",
   "execution_count": 6,
   "id": "92850f1f",
   "metadata": {},
   "outputs": [
    {
     "data": {
      "text/plain": [
       "[{'desc': 'chubby', 'name': 'Zophie'}, {'desc': 'fluffy', 'name': 'Pooka'}]"
      ]
     },
     "execution_count": 6,
     "metadata": {},
     "output_type": "execute_result"
    }
   ],
   "source": [
    "import mycats\n",
    "mycats.cats"
   ]
  },
  {
   "cell_type": "code",
   "execution_count": 7,
   "id": "5a0dfd88",
   "metadata": {},
   "outputs": [
    {
     "data": {
      "text/plain": [
       "{'desc': 'chubby', 'name': 'Zophie'}"
      ]
     },
     "execution_count": 7,
     "metadata": {},
     "output_type": "execute_result"
    }
   ],
   "source": [
    "mycats.cats[0]"
   ]
  },
  {
   "cell_type": "code",
   "execution_count": 9,
   "id": "37bfb954",
   "metadata": {},
   "outputs": [
    {
     "data": {
      "text/plain": [
       "'Zophie'"
      ]
     },
     "execution_count": 9,
     "metadata": {},
     "output_type": "execute_result"
    }
   ],
   "source": [
    "mycats.cats[0]['name']"
   ]
  },
  {
   "cell_type": "code",
   "execution_count": 10,
   "id": "f4405086",
   "metadata": {},
   "outputs": [],
   "source": [
    "# randomQuizGenerator. py - Creates quizzes with questions and answers in\n",
    "# random order, along with the answer key.\n",
    "\n",
    "import random\n",
    "\n",
    "pupil = 3\n",
    "\n",
    "# The quiz data . Keys are states and values are their capitals .\n",
    "capitals = {'Alabama':'Montgomery','Alaska':'Juneau','Arizona':'Phoenix','Arkansas':'LittleRock','California':'Sacramento','Colorado':'Denver','Connecticut':'Hartford','Delaware':'Dover','Florida':'Tallahassee','Georgia':'Atlanta','Hawaii':'Honolulu','Idaho':'Boise','Illinois':'Springfield','Indiana':'Indianapolis','Iowa':'DesMoines','Kansas':'Topeka','Kentucky':'Frankfort','Louisiana':'BatonRouge','Maine':'Augusta','Maryland':'Annapolis','Massachusetts':'Boston','Michigan':'Lansing','Minnesota':'SaintPaul','Mississippi':'Jackson','Missouri':'JeffersonCity','Montana':'Helena','Nebraska':'Lincoln','Nevada':'CarsonCity','NewHampshire':'Concord','NewJersey':'Trenton','NewMexico':'SantaFe','NewYork':'Albany','NorthCarolina':'Raleigh','NorthDakota':'Bismarck','Ohio':'Columbus','Oklahoma':'OklahomaCity','Oregon':'Salem','Pennsylvania':'Harrisburg','RhodeIsland':'Providence','SouthCarolina':'Columbia','SouthDakota':'Pierre','Tennessee':'Nashville','Texas':'Austin','Utah':'SaltLakeCity','Vermont':'Montpelier','Virginia':'Richmond','Washington':'Olympia','WestVirginia':'Charleston','Wisconsin':'Madison','Wyoming':'Cheyenne'}\n",
    "\n",
    "# Generate quiz files .\n",
    "for quizNum in range(pupil):\n",
    "    # Create  the  quiz  and  answer  key  files .\n",
    "    quizFile = open('capitalsquiz%d.txt' % (quizNum + 1), 'w')\n",
    "    answerKeyFile = open('capitalsquiz_answers%d.txt' % (quizNum + 1), 'w')\n",
    "\n",
    "    # write out the header for the quiz.\n",
    "    quizFile.write('Name:\\n\\nDate:\\n\\nPeriod:\\n\\n')\n",
    "    quizFile.write(' ' * 20 + 'State capital quiz (Form %d)' % (quizNum + 1))\n",
    "    quizFile.write('\\n\\n')\n",
    "\n",
    "    # Shuffle  the  order  of  the  states .\n",
    "    states = list(capitals.keys())\n",
    "    random.shuffle(states)\n",
    "\n",
    "    # Loop through all states, making a question for each .\n",
    "    for questionNum in range(len(capitals)):\n",
    "        correctAnswer = capitals[states[questionNum]]\n",
    "        wrongAnswers = list(capitals.values())\n",
    "        del wrongAnswers[wrongAnswers.index(correctAnswer)]\n",
    "        wrongAnswers = random.sample(wrongAnswers, 3)\n",
    "        answerOptions = wrongAnswers + [correctAnswer]\n",
    "        random.shuffle(answerOptions)\n",
    "        # Write the question and the answer options to the quiz file.\n",
    "        quizFile.write('%d. What is the capital of %s?\\n' % (questionNum + 1, states[questionNum]))\n",
    "        for i in range(len('ABCD')):\n",
    "            quizFile.write('    %s. %s\\n' % ('ABCD'[i], answerOptions[i]))\n",
    "        quizFile.write('\\n')\n",
    "        # Write the answer key to a file.\n",
    "        answerKeyFile.write('%d. %s\\n' % (questionNum + 1, 'ABCD'[answerOptions.index(correctAnswer)]))\n",
    "\n",
    "quizFile.close()\n",
    "answerKeyFile.close()"
   ]
  },
  {
   "cell_type": "code",
   "execution_count": null,
   "id": "165d0854",
   "metadata": {},
   "outputs": [],
   "source": []
  }
 ],
 "metadata": {
  "kernelspec": {
   "display_name": "Python 3 (ipykernel)",
   "language": "python",
   "name": "python3"
  },
  "language_info": {
   "codemirror_mode": {
    "name": "ipython",
    "version": 3
   },
   "file_extension": ".py",
   "mimetype": "text/x-python",
   "name": "python",
   "nbconvert_exporter": "python",
   "pygments_lexer": "ipython3",
   "version": "3.9.12"
  }
 },
 "nbformat": 4,
 "nbformat_minor": 5
}
