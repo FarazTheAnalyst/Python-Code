{
 "cells": [
  {
   "cell_type": "code",
   "execution_count": 12,
   "metadata": {},
   "outputs": [
    {
     "name": "stdout",
     "output_type": "stream",
     "text": [
      "i D:/\n"
     ]
    },
    {
     "ename": "TypeError",
     "evalue": "listdir: path should be string, bytes, os.PathLike or None, not list",
     "output_type": "error",
     "traceback": [
      "\u001b[1;31m---------------------------------------------------------------------------\u001b[0m",
      "\u001b[1;31mTypeError\u001b[0m                                 Traceback (most recent call last)",
      "Cell \u001b[1;32mIn[12], line 11\u001b[0m\n\u001b[0;32m      9\u001b[0m \u001b[38;5;28;01mfor\u001b[39;00m i \u001b[38;5;129;01min\u001b[39;00m main_directory:\n\u001b[0;32m     10\u001b[0m     \u001b[38;5;28mprint\u001b[39m(\u001b[38;5;124m\"\u001b[39m\u001b[38;5;124mi\u001b[39m\u001b[38;5;124m\"\u001b[39m, i)\n\u001b[1;32m---> 11\u001b[0m     \u001b[38;5;28;01mfor\u001b[39;00m folder \u001b[38;5;129;01min\u001b[39;00m os\u001b[38;5;241m.\u001b[39mlistdir(main_directory):\n\u001b[0;32m     12\u001b[0m         folder_path \u001b[38;5;241m=\u001b[39m os\u001b[38;5;241m.\u001b[39mpath\u001b[38;5;241m.\u001b[39mjoin(main_directory, folder)\n\u001b[0;32m     13\u001b[0m         \u001b[38;5;28mprint\u001b[39m(\u001b[38;5;124m\"\u001b[39m\u001b[38;5;124mc\u001b[39m\u001b[38;5;124m\"\u001b[39m,folder)\n",
      "\u001b[1;31mTypeError\u001b[0m: listdir: path should be string, bytes, os.PathLike or None, not list"
     ]
    }
   ],
   "source": [
    "import os\n",
    "from glob import glob\n",
    "from datetime import datetime\n",
    "\n",
    "main_directory = ['D:/', 'E:/']\n",
    "\n",
    "latest_files = {}\n",
    "\n",
    "for i in main_directory:\n",
    "    print(\"i\", i)\n",
    "    for folder in os.listdir(main_directory):\n",
    "        folder_path = os.path.join(main_directory, folder)\n",
    "        print(\"c\",folder)\n",
    "        print(\"d\", folder_path)\n",
    "        \n",
    "        if os.path.isdir(folder_path):\n",
    "            files = glob(os.path.join(folder_path, '*.bak'))  \n",
    "            print(\"e\", files)\n",
    "\n",
    "            if files:\n",
    "                latest_file = max(files, key=os.path.getmtime)\n",
    "                latest_files[folder] = latest_file\n",
    "                print(\"g\", latest_file)\n",
    "                print(\"h\", latest_files)\n",
    "\n",
    "    for folder, latest_file in latest_files.items():\n",
    "        modified_time = datetime.fromtimestamp(os.path.getmtime(latest_file))\n",
    "        print(f\"Folder: {folder}\")\n",
    "        print(f\"Latest backup file: {latest_file}\")\n",
    "        print(f\"Last modified: {modified_time}\\n\")\n"
   ]
  },
  {
   "cell_type": "code",
   "execution_count": 8,
   "metadata": {},
   "outputs": [
    {
     "name": "stdout",
     "output_type": "stream",
     "text": [
      "\n",
      "Folder: CheckBackStatus\n",
      "Latest backup file: D:/CheckBackStatus\\adv_workdw_fullbak19_20241114.bak\n",
      "Last modified: 2024-11-14 10:24:11.081335\n",
      "\n",
      "Folder: FarazGill\n",
      "Latest backup file: D:/FarazGill\\adv_work_fullbak19_20241114.bak\n",
      "Last modified: 2024-11-14 10:26:31.986824\n",
      "\n",
      "Folder: Backups\n",
      "Latest backup file: E:/Backups\\adv_work_fullbak19_20241114.bak\n",
      "Last modified: 2024-11-14 10:26:31.986824\n"
     ]
    }
   ],
   "source": [
    "import os\n",
    "from glob import glob\n",
    "from datetime import datetime\n",
    "\n",
    "# List of main directories to search for backup files\n",
    "main_directories = ['D:/', 'E:/']\n",
    "\n",
    "# Dictionary to store the latest files for each folder\n",
    "latest_files = {}\n",
    "\n",
    "# Iterate through each main directory\n",
    "for main_dir in main_directories:\n",
    "    #print(f\"Scanning main directory: {main_dir}\")\n",
    "\n",
    "    # List folders in the main directory\n",
    "    try:\n",
    "        for folder in os.listdir(main_dir):\n",
    "            folder_path = os.path.join(main_dir, folder)\n",
    "\n",
    "            # Check if the path is a directory\n",
    "            if os.path.isdir(folder_path):\n",
    "                #print(f\"Checking folder: {folder_path}\")\n",
    "\n",
    "                # Find all .bak files in the directory\n",
    "                files = glob(os.path.join(folder_path, '*.bak'))\n",
    "                \n",
    "                if files:  # If .bak files are found\n",
    "                    latest_file = max(files, key=os.path.getmtime)  # Find the latest file\n",
    "                    latest_files[folder] = latest_file\n",
    "                    #print(f\"Found latest file: {latest_file}\")\n",
    "\n",
    "    except FileNotFoundError:\n",
    "        print(f\"Directory not found: {main_dir}\")\n",
    "    except PermissionError:\n",
    "        print(f\"Permission denied: {main_dir}\")\n",
    "\n",
    "# Display results\n",
    "for folder, latest_file in latest_files.items():\n",
    "    modified_time = datetime.fromtimestamp(os.path.getmtime(latest_file))\n",
    "    print(f\"\\nFolder: {folder}\")\n",
    "    print(f\"Latest backup file: {latest_file}\")\n",
    "    print(f\"Last modified: {modified_time}\")\n"
   ]
  }
 ],
 "metadata": {
  "kernelspec": {
   "display_name": "base",
   "language": "python",
   "name": "python3"
  },
  "language_info": {
   "codemirror_mode": {
    "name": "ipython",
    "version": 3
   },
   "file_extension": ".py",
   "mimetype": "text/x-python",
   "name": "python",
   "nbconvert_exporter": "python",
   "pygments_lexer": "ipython3",
   "version": "3.12.3"
  }
 },
 "nbformat": 4,
 "nbformat_minor": 2
}
