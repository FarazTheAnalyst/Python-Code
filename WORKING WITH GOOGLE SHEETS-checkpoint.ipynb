{
 "cells": [
  {
   "cell_type": "code",
   "execution_count": 61,
   "id": "dd9fdc33",
   "metadata": {},
   "outputs": [
    {
     "ename": "ModuleNotFoundError",
     "evalue": "No module named 'ezsheets'",
     "output_type": "error",
     "traceback": [
      "\u001b[1;31m---------------------------------------------------------------------------\u001b[0m",
      "\u001b[1;31mModuleNotFoundError\u001b[0m                       Traceback (most recent call last)",
      "Input \u001b[1;32mIn [61]\u001b[0m, in \u001b[0;36m<cell line: 1>\u001b[1;34m()\u001b[0m\n\u001b[1;32m----> 1\u001b[0m \u001b[38;5;28;01mimport\u001b[39;00m \u001b[38;5;21;01mezsheets\u001b[39;00m\n\u001b[0;32m      2\u001b[0m ss \u001b[38;5;241m=\u001b[39m ezsheets\u001b[38;5;241m.\u001b[39mSpreadsheet(\u001b[38;5;124m'\u001b[39m\u001b[38;5;124m1J-Jx6Ne2K_vqI9J2SO-TAXOFbxx_9tUjwnkPC22LjeU\u001b[39m\u001b[38;5;124m'\u001b[39m)\n\u001b[0;32m      3\u001b[0m ss\n",
      "\u001b[1;31mModuleNotFoundError\u001b[0m: No module named 'ezsheets'"
     ]
    }
   ],
   "source": [
    "import ezsheets\n",
    "ss = ezsheets.Spreadsheet('1J-Jx6Ne2K_vqI9J2SO-TAXOFbxx_9tUjwnkPC22LjeU')\n",
    "ss"
   ]
  },
  {
   "cell_type": "code",
   "execution_count": null,
   "id": "227a784e",
   "metadata": {},
   "outputs": [],
   "source": [
    "Spreadsheet(spreadsheetId='1J-Jx6Ne2K_vqI9J2SO-TAXOFbxx_9tUjwnkPC22LjeU')\n",
    "ss.title"
   ]
  },
  {
   "cell_type": "code",
   "execution_count": null,
   "id": "df179535",
   "metadata": {},
   "outputs": [],
   "source": [
    "# To make to a new, blank spreadsheet\n",
    "import ezsheets\n",
    "ss = ezsheets.createSpreadsheet('Title of My New Spreadsheet')"
   ]
  },
  {
   "cell_type": "code",
   "execution_count": null,
   "id": "bbce79fe",
   "metadata": {},
   "outputs": [],
   "source": [
    "ss.title"
   ]
  },
  {
   "cell_type": "code",
   "execution_count": null,
   "id": "976fdb2f",
   "metadata": {},
   "outputs": [],
   "source": [
    "# To upload an existing Excel, openOffice, SCV, or TSV spreadsheet to Google Sheets\n",
    "import ezsheets\n",
    "ss = ezsheets.upload('my_spreadsheet.xlsx')"
   ]
  },
  {
   "cell_type": "code",
   "execution_count": null,
   "id": "f9b91931",
   "metadata": {},
   "outputs": [],
   "source": [
    "ss.title"
   ]
  },
  {
   "cell_type": "code",
   "execution_count": null,
   "id": "90cbf009",
   "metadata": {},
   "outputs": [],
   "source": [
    "# To list the spreadsheets in your Google account by calling th listSpreadsheets()\n",
    "ezsheets.listSpreadsheets()"
   ]
  },
  {
   "cell_type": "code",
   "execution_count": null,
   "id": "cdf48422",
   "metadata": {},
   "outputs": [],
   "source": [
    "# Spreadsheet Attributes\n"
   ]
  },
  {
   "cell_type": "code",
   "execution_count": null,
   "id": "7acea852",
   "metadata": {},
   "outputs": [],
   "source": [
    "import ezsheets\n",
    "ss = ezsheets.Spreadsheet('1J-Jx6Ne2K_vqI9J2SO-TAXOFbxx_9tUjwnkPC22LjeU')"
   ]
  },
  {
   "cell_type": "code",
   "execution_count": null,
   "id": "3099b669",
   "metadata": {},
   "outputs": [],
   "source": [
    "ss.title   # The title of the spreadsheet"
   ]
  },
  {
   "cell_type": "code",
   "execution_count": null,
   "id": "fc7a61f8",
   "metadata": {},
   "outputs": [],
   "source": [
    "ss.title = 'Class Data'   #Change the title"
   ]
  },
  {
   "cell_type": "code",
   "execution_count": null,
   "id": "eeeddfd3",
   "metadata": {},
   "outputs": [],
   "source": [
    "ss.spreadsheedId  # The unique ID (this is a read-only attribute)."
   ]
  },
  {
   "cell_type": "code",
   "execution_count": null,
   "id": "519d0153",
   "metadata": {},
   "outputs": [],
   "source": [
    "ss.url   # The orignal URL (This is a read-only atrribute)."
   ]
  },
  {
   "cell_type": "code",
   "execution_count": null,
   "id": "fe902e4c",
   "metadata": {},
   "outputs": [],
   "source": [
    "ss.sheetTitles    # The titles of all the sheet objects"
   ]
  },
  {
   "cell_type": "code",
   "execution_count": null,
   "id": "140f165e",
   "metadata": {},
   "outputs": [],
   "source": [
    "ss.sheets   # The Sheet objects in this Spreadsheet, in order."
   ]
  },
  {
   "cell_type": "code",
   "execution_count": null,
   "id": "41850e70",
   "metadata": {},
   "outputs": [],
   "source": [
    "ss[0]    # The first Sheet object in this Spreadsheet."
   ]
  },
  {
   "cell_type": "code",
   "execution_count": null,
   "id": "c81787b4",
   "metadata": {},
   "outputs": [],
   "source": [
    "ss['Students']    # Sheets also can be accessed by title."
   ]
  },
  {
   "cell_type": "code",
   "execution_count": null,
   "id": "f7e0bd63",
   "metadata": {},
   "outputs": [],
   "source": [
    "del ss[0]   # Delete the first  Sheet object in this Spreadsheet."
   ]
  },
  {
   "cell_type": "code",
   "execution_count": null,
   "id": "c4a875d7",
   "metadata": {},
   "outputs": [],
   "source": [
    "ss.sheetTitles   # The \"students\"  Sheet object has been deleted."
   ]
  },
  {
   "cell_type": "code",
   "execution_count": null,
   "id": "857106b5",
   "metadata": {},
   "outputs": [],
   "source": [
    "ss.refresh()   # If someone changes the spreadsheet thorugh the Google Sheets web-site your script can update the Spreadsheet object to match the \n",
    "# online data by caclling th refresh() method:"
   ]
  },
  {
   "cell_type": "code",
   "execution_count": null,
   "id": "5af16843",
   "metadata": {},
   "outputs": [],
   "source": [
    "# Downloading and Uploading Spreadsheets\n",
    "# to download  Google sheets spreadsheet in number of formats: Excel, openOffice, CSV, TSV, and PDF alos ZIP file containing HTML.\n",
    "import ezsheets\n",
    "ss = ezsheets.Spreadsheet('1J-Jx6Ne2K_vqI9J2SO-TAXOFbxx_9tUjwnkPC22LjeU')"
   ]
  },
  {
   "cell_type": "code",
   "execution_count": null,
   "id": "cc9417fc",
   "metadata": {},
   "outputs": [],
   "source": [
    "ss.title"
   ]
  },
  {
   "cell_type": "code",
   "execution_count": null,
   "id": "48f096bf",
   "metadata": {},
   "outputs": [],
   "source": [
    "ss.downloadAsExcel()   # Download the spreadsheet as an Excel file."
   ]
  },
  {
   "cell_type": "code",
   "execution_count": null,
   "id": "bd24841b",
   "metadata": {},
   "outputs": [],
   "source": [
    "ss.downloadAsODS()    # Download the spreadsheet as an OpenOffice file."
   ]
  },
  {
   "cell_type": "code",
   "execution_count": null,
   "id": "21c7563d",
   "metadata": {},
   "outputs": [],
   "source": [
    "ss.downloadAsCSV()  # Only downloads the first sheet as CSV FILE"
   ]
  },
  {
   "cell_type": "code",
   "execution_count": null,
   "id": "0fb666d4",
   "metadata": {},
   "outputs": [],
   "source": [
    "ss.downloadAsTSV()   # Only downloads the first sheet a TSV file."
   ]
  },
  {
   "cell_type": "code",
   "execution_count": null,
   "id": "c9dcd31d",
   "metadata": {},
   "outputs": [],
   "source": [
    "ss.downloadAsPDF()  # Downloads the spreadsheet as a PDF."
   ]
  },
  {
   "cell_type": "code",
   "execution_count": null,
   "id": "c894ab49",
   "metadata": {},
   "outputs": [],
   "source": [
    "ss.downloadAsHTML()  # Downloads the spreadsheet as ZIP OF HTML files."
   ]
  },
  {
   "cell_type": "code",
   "execution_count": null,
   "id": "e1a4d483",
   "metadata": {},
   "outputs": [],
   "source": [
    "# we specify our own file name in the above methods\n",
    "ss.downloadAsExcel('a_different_fiename_.xlsx')"
   ]
  },
  {
   "cell_type": "code",
   "execution_count": null,
   "id": "7a4108a9",
   "metadata": {},
   "outputs": [],
   "source": [
    "# Deleting Spreadsheets\n",
    "# To delete aspreadsheet, call the delete() method.\n",
    "import ezsheets\n",
    "ss = ezsheets.createSpreadsheet('Delete me')  # Create the spreadsheet."
   ]
  },
  {
   "cell_type": "code",
   "execution_count": null,
   "id": "9a952873",
   "metadata": {},
   "outputs": [],
   "source": [
    "ezsheets.listSpreadsheet()   # Confirm that we've created a spreadsheet."
   ]
  },
  {
   "cell_type": "code",
   "execution_count": null,
   "id": "1072506a",
   "metadata": {},
   "outputs": [],
   "source": [
    "ss.delete()  #Delete the spreadsheet."
   ]
  },
  {
   "cell_type": "code",
   "execution_count": null,
   "id": "603a3d02",
   "metadata": {},
   "outputs": [],
   "source": [
    "ezsheet.listSpreadsheets()  # Empty now"
   ]
  },
  {
   "cell_type": "code",
   "execution_count": null,
   "id": "1161a233",
   "metadata": {},
   "outputs": [],
   "source": [
    "# To permanently delete your spreadsheet. but its not a good idea.\n",
    "ss.delete(permanent = True)"
   ]
  },
  {
   "cell_type": "code",
   "execution_count": null,
   "id": "6af8a932",
   "metadata": {},
   "outputs": [],
   "source": [
    "# Sheet Objects\n",
    "import ezsheets\n",
    "ss = ezsheets.Spreadsheet('1J-Jx6Ne2K_vqI9J2SO-TAXOFbxx_9tUjwnkPC22LjeU')"
   ]
  },
  {
   "cell_type": "code",
   "execution_count": null,
   "id": "1fd08069",
   "metadata": {},
   "outputs": [],
   "source": [
    "ss.sheets   # The Sheet objects in tis Spreadsheet, in order."
   ]
  },
  {
   "cell_type": "code",
   "execution_count": null,
   "id": "584dab9a",
   "metadata": {},
   "outputs": [],
   "source": [
    "ss.sheets[0]   # Get the first Sheet object in this Spreadsheet."
   ]
  },
  {
   "cell_type": "code",
   "execution_count": null,
   "id": "6a7c7ccb",
   "metadata": {},
   "outputs": [],
   "source": [
    "ss[0]  # also gets the first Sheet object in this Spreadsheet."
   ]
  },
  {
   "cell_type": "code",
   "execution_count": null,
   "id": "c163a2f4",
   "metadata": {},
   "outputs": [],
   "source": [
    "ss.sheetTiles  # The titles of all the sheet objects in this Spreadsheet"
   ]
  },
  {
   "cell_type": "code",
   "execution_count": null,
   "id": "b96e92e5",
   "metadata": {},
   "outputs": [],
   "source": [
    "ss['Classes']  # Sheets can also be accessed by title."
   ]
  },
  {
   "cell_type": "code",
   "execution_count": null,
   "id": "39ebc222",
   "metadata": {},
   "outputs": [],
   "source": [
    "# Reading and wrinting Data\n",
    "import ezsheets\n",
    "ss = ezsheets.createSpreadsheet('My Spreadsheet')"
   ]
  },
  {
   "cell_type": "code",
   "execution_count": null,
   "id": "af5aabad",
   "metadata": {},
   "outputs": [],
   "source": [
    "sheet = ss[0]  # Get the first sheet in this spreadsheet."
   ]
  },
  {
   "cell_type": "code",
   "execution_count": null,
   "id": "f529969e",
   "metadata": {},
   "outputs": [],
   "source": [
    "sheet = ss[0]  # Get the first sheet in this spreadsheet."
   ]
  },
  {
   "cell_type": "code",
   "execution_count": null,
   "id": "489a4728",
   "metadata": {},
   "outputs": [],
   "source": [
    "sheet.titile   # Get the sheet name"
   ]
  },
  {
   "cell_type": "code",
   "execution_count": null,
   "id": "57f31e11",
   "metadata": {},
   "outputs": [],
   "source": [
    "sheet = ss[0]"
   ]
  },
  {
   "cell_type": "code",
   "execution_count": null,
   "id": "e807b310",
   "metadata": {},
   "outputs": [],
   "source": [
    "sheet['A1'] = 'Name'  # Set the value in Cell A1."
   ]
  },
  {
   "cell_type": "code",
   "execution_count": null,
   "id": "b7314f6e",
   "metadata": {},
   "outputs": [],
   "source": [
    "sheet['B1'] = 'age'"
   ]
  },
  {
   "cell_type": "code",
   "execution_count": null,
   "id": "12c649f6",
   "metadata": {},
   "outputs": [],
   "source": [
    "sheet['C1'] = 'Favorite Movie'"
   ]
  },
  {
   "cell_type": "code",
   "execution_count": null,
   "id": "f1cb2255",
   "metadata": {},
   "outputs": [],
   "source": [
    "sheet['A1']  # Read the value in Cell A1."
   ]
  },
  {
   "cell_type": "code",
   "execution_count": null,
   "id": "f1d4ccde",
   "metadata": {},
   "outputs": [],
   "source": [
    "sheet['A2']  # Empty cells return a blank string."
   ]
  },
  {
   "cell_type": "code",
   "execution_count": null,
   "id": "b4834b81",
   "metadata": {},
   "outputs": [],
   "source": [
    "sheet[2, 1]  #Column 2, Row 1 is the same address as B1."
   ]
  },
  {
   "cell_type": "code",
   "execution_count": null,
   "id": "ac104476",
   "metadata": {},
   "outputs": [],
   "source": [
    "sheet['A2'] = 'Alice'"
   ]
  },
  {
   "cell_type": "code",
   "execution_count": null,
   "id": "4093d6da",
   "metadata": {},
   "outputs": [],
   "source": [
    "sheet['B2'] = 30"
   ]
  },
  {
   "cell_type": "code",
   "execution_count": null,
   "id": "7732705b",
   "metadata": {},
   "outputs": [],
   "source": [
    "sheet['C2'] = 'RoboCop'"
   ]
  },
  {
   "cell_type": "code",
   "execution_count": null,
   "id": "b04314a3",
   "metadata": {},
   "outputs": [],
   "source": [
    "# Multipel users can update a sheet simultaneiouly, To refresh the local data in the object, call its refresh() method.\n",
    "sheet.refresh()"
   ]
  },
  {
   "cell_type": "code",
   "execution_count": null,
   "id": "664252d8",
   "metadata": {},
   "outputs": [],
   "source": [
    "# Column and Row Addressing\n",
    "import ezsheets\n",
    "ezsheets.convertAddress('A2')   # Converts addresses..."
   ]
  },
  {
   "cell_type": "code",
   "execution_count": null,
   "id": "5c546035",
   "metadata": {},
   "outputs": [],
   "source": [
    "ezsheets.convertAddress(1, 2)   #...and converts them back, too."
   ]
  },
  {
   "cell_type": "code",
   "execution_count": null,
   "id": "acd3c4fa",
   "metadata": {},
   "outputs": [],
   "source": [
    "ezsheets.getColumnLetterOf(2)"
   ]
  },
  {
   "cell_type": "code",
   "execution_count": null,
   "id": "80a909b4",
   "metadata": {},
   "outputs": [],
   "source": [
    "ezsheets.getColumnNumberOf('B')"
   ]
  },
  {
   "cell_type": "code",
   "execution_count": null,
   "id": "ee3c3212",
   "metadata": {},
   "outputs": [],
   "source": [
    "ezsheets.getColumnLetterOf(999)"
   ]
  },
  {
   "cell_type": "code",
   "execution_count": null,
   "id": "947cd3cc",
   "metadata": {},
   "outputs": [],
   "source": [
    "ezsheets.getColumnNumberOf('ZZZ')"
   ]
  },
  {
   "cell_type": "code",
   "execution_count": null,
   "id": "5c0214dc",
   "metadata": {},
   "outputs": [],
   "source": [
    "# Reading and Writing Entire Columns and Rows  \n",
    "import ezsheets\n",
    "ss = ezsheets.upload('produceSales.xlsx')"
   ]
  },
  {
   "cell_type": "code",
   "execution_count": null,
   "id": "03f8480e",
   "metadata": {},
   "outputs": [],
   "source": [
    "sheet = ss[0]"
   ]
  },
  {
   "cell_type": "code",
   "execution_count": null,
   "id": "e93d3029",
   "metadata": {},
   "outputs": [],
   "source": [
    "sheet.getRow(1)   # The first row is .row 1 not row 0."
   ]
  },
  {
   "cell_type": "code",
   "execution_count": null,
   "id": "fc5a85e9",
   "metadata": {},
   "outputs": [],
   "source": [
    "sheet.getRow(2)"
   ]
  },
  {
   "cell_type": "code",
   "execution_count": null,
   "id": "83d69584",
   "metadata": {},
   "outputs": [],
   "source": [
    "columnOne = sheet.getColumn(1)"
   ]
  },
  {
   "cell_type": "code",
   "execution_count": null,
   "id": "2beb69da",
   "metadata": {},
   "outputs": [],
   "source": [
    "sheet.getColumn(1)"
   ]
  },
  {
   "cell_type": "code",
   "execution_count": null,
   "id": "cb2625f2",
   "metadata": {},
   "outputs": [],
   "source": [
    "sheet.getColumn('A')  # Same result as getColumn(1)"
   ]
  },
  {
   "cell_type": "code",
   "execution_count": null,
   "id": "827ae4d5",
   "metadata": {},
   "outputs": [],
   "source": [
    "sheet.getRow(3)"
   ]
  },
  {
   "cell_type": "code",
   "execution_count": null,
   "id": "2f8dfe47",
   "metadata": {},
   "outputs": [],
   "source": [
    "sheet.updateRow(3, ['Pumpkin', '11.50', '20', '230'])"
   ]
  },
  {
   "cell_type": "code",
   "execution_count": null,
   "id": "71573e8d",
   "metadata": {},
   "outputs": [],
   "source": [
    "sheet.getRow(3)"
   ]
  },
  {
   "cell_type": "code",
   "execution_count": null,
   "id": "8054e3f0",
   "metadata": {},
   "outputs": [],
   "source": [
    "columnOne = sheet.getColumn(1)\n",
    "for i, value in enumerate(columnOne):\n",
    "    # Make the python list contain uppercase strings:\n",
    "    columnOne[i] = value.upper()"
   ]
  },
  {
   "cell_type": "code",
   "execution_count": null,
   "id": "e6a4d790",
   "metadata": {},
   "outputs": [],
   "source": [
    "sheet.updateColumn(1, columnOne)   # Update the entire column one request."
   ]
  },
  {
   "cell_type": "code",
   "execution_count": null,
   "id": "8b26b361",
   "metadata": {},
   "outputs": [],
   "source": [
    "rows = sheet.getRows()  # Get every row  in the spreadsheet."
   ]
  },
  {
   "cell_type": "code",
   "execution_count": null,
   "id": "34b2b9dc",
   "metadata": {},
   "outputs": [],
   "source": [
    "rows[0]  # Examine the values in the first row."
   ]
  },
  {
   "cell_type": "code",
   "execution_count": null,
   "id": "872f1369",
   "metadata": {},
   "outputs": [],
   "source": [
    "rows[1]"
   ]
  },
  {
   "cell_type": "code",
   "execution_count": null,
   "id": "92cd3bec",
   "metadata": {},
   "outputs": [],
   "source": [
    "rows[1][0] = 'PUMPKIN'  # Change the produce name."
   ]
  },
  {
   "cell_type": "code",
   "execution_count": null,
   "id": "d5146158",
   "metadata": {},
   "outputs": [],
   "source": [
    "rows[1]"
   ]
  },
  {
   "cell_type": "code",
   "execution_count": null,
   "id": "e2e024da",
   "metadata": {},
   "outputs": [],
   "source": [
    "rows[10]"
   ]
  },
  {
   "cell_type": "code",
   "execution_count": null,
   "id": "09a9c6e9",
   "metadata": {},
   "outputs": [],
   "source": [
    "rows[10][2] = '400'# Change the pounnds sold."
   ]
  },
  {
   "cell_type": "code",
   "execution_count": null,
   "id": "29128bfc",
   "metadata": {},
   "outputs": [],
   "source": [
    "rows[10][3] = '904'  # Change the total."
   ]
  },
  {
   "cell_type": "code",
   "execution_count": null,
   "id": "48c31a95",
   "metadata": {},
   "outputs": [],
   "source": [
    "rows[10]"
   ]
  },
  {
   "cell_type": "code",
   "execution_count": null,
   "id": "324e0848",
   "metadata": {},
   "outputs": [],
   "source": [
    "sheet.updateRows(rows)  # Update the online spreadsheet with the changes."
   ]
  },
  {
   "cell_type": "code",
   "execution_count": null,
   "id": "4e08548e",
   "metadata": {},
   "outputs": [],
   "source": [
    "sheet.rowCount   # The number of rows in the sheet."
   ]
  },
  {
   "cell_type": "code",
   "execution_count": null,
   "id": "3f5dfb81",
   "metadata": {},
   "outputs": [],
   "source": [
    "sheet.columnCount  # The number of columns in the sheet."
   ]
  },
  {
   "cell_type": "code",
   "execution_count": null,
   "id": "0a5f9996",
   "metadata": {},
   "outputs": [],
   "source": [
    "sheet.columnCount = 4   # Change the number of columns to 4."
   ]
  },
  {
   "cell_type": "code",
   "execution_count": null,
   "id": "b7fa120a",
   "metadata": {},
   "outputs": [],
   "source": [
    "sheet.columnCount   # Now the number of columns in the sheet is 4."
   ]
  },
  {
   "cell_type": "code",
   "execution_count": null,
   "id": "502aa48a",
   "metadata": {},
   "outputs": [],
   "source": [
    "# Creating and Deleting Sheets.\n",
    "import ezsheets\n",
    "ss - ezsheets.createSpreadsheet('Multiple Sheets')"
   ]
  },
  {
   "cell_type": "code",
   "execution_count": null,
   "id": "b984599c",
   "metadata": {},
   "outputs": [],
   "source": [
    "ss.sheetTitles"
   ]
  },
  {
   "cell_type": "code",
   "execution_count": null,
   "id": "29bbba26",
   "metadata": {},
   "outputs": [],
   "source": [
    "ss.createSheet('Spam')  # Create a new sheet at the end of the list of sheets"
   ]
  },
  {
   "cell_type": "code",
   "execution_count": null,
   "id": "bcec2d62",
   "metadata": {},
   "outputs": [],
   "source": [
    "ss.createSheet('Eggs')   # Create another new sheet."
   ]
  },
  {
   "cell_type": "code",
   "execution_count": null,
   "id": "4a2959af",
   "metadata": {},
   "outputs": [],
   "source": [
    "ss.sheetTitles"
   ]
  },
  {
   "cell_type": "code",
   "execution_count": null,
   "id": "c0d4562a",
   "metadata": {},
   "outputs": [],
   "source": [
    "ss.sheetTitles"
   ]
  },
  {
   "cell_type": "code",
   "execution_count": null,
   "id": "23c6f697",
   "metadata": {},
   "outputs": [],
   "source": [
    "ss.createSheet('Bacon, 0')  # Create a sheet at index 0 in the list of sheets."
   ]
  },
  {
   "cell_type": "code",
   "execution_count": null,
   "id": "dfa8df40",
   "metadata": {},
   "outputs": [],
   "source": [
    "ss.sheetTitles"
   ]
  },
  {
   "cell_type": "code",
   "execution_count": null,
   "id": "5db069f0",
   "metadata": {},
   "outputs": [],
   "source": [
    "\n",
    "# The Sheet object's delete() mehtod will delete the sheet from the spreadsheet\n",
    "ss.sheetTitles"
   ]
  },
  {
   "cell_type": "code",
   "execution_count": null,
   "id": "af335039",
   "metadata": {},
   "outputs": [],
   "source": [
    "ss[0].delete()  # Delete the shet at index 0: the 'Bacon' sheet."
   ]
  },
  {
   "cell_type": "code",
   "execution_count": null,
   "id": "5c498f02",
   "metadata": {},
   "outputs": [],
   "source": [
    "ss.sheetTitles"
   ]
  },
  {
   "cell_type": "code",
   "execution_count": null,
   "id": "4bf96049",
   "metadata": {},
   "outputs": [],
   "source": [
    "ss['spam'].delete()  # Delete the 'spam' sheet."
   ]
  },
  {
   "cell_type": "code",
   "execution_count": null,
   "id": "3d5dfe0a",
   "metadata": {},
   "outputs": [],
   "source": [
    "ss.sheetTitles"
   ]
  },
  {
   "cell_type": "code",
   "execution_count": null,
   "id": "08eba708",
   "metadata": {},
   "outputs": [],
   "source": [
    "sheet = ss['Eggs']  # Assign a variable to the 'Eggs' sheet."
   ]
  },
  {
   "cell_type": "code",
   "execution_count": null,
   "id": "47e470bc",
   "metadata": {},
   "outputs": [],
   "source": [
    "sheet..delete()   # Delete the 'Eggs' sheet."
   ]
  },
  {
   "cell_type": "code",
   "execution_count": null,
   "id": "414ec40a",
   "metadata": {},
   "outputs": [],
   "source": [
    "ss.sheetTitles"
   ]
  },
  {
   "cell_type": "code",
   "execution_count": null,
   "id": "4f050631",
   "metadata": {},
   "outputs": [],
   "source": [
    "ss[0].clear()  # Clear all the cells on the 'Sheet1' sheet."
   ]
  },
  {
   "cell_type": "code",
   "execution_count": null,
   "id": "4001056a",
   "metadata": {},
   "outputs": [],
   "source": [
    "ss.sheetTitles   # The 'Sheet1'sheet is empty but still exists."
   ]
  },
  {
   "cell_type": "code",
   "execution_count": null,
   "id": "537bcf9d",
   "metadata": {},
   "outputs": [],
   "source": [
    "# Copying Sheets\n",
    "ss1 = ezsheets.createSpreadsheet('First Spreadsheet')\n",
    "ss2 = ezsheet.createSpreadsheet('Second Spreadsheet')"
   ]
  },
  {
   "cell_type": "code",
   "execution_count": null,
   "id": "dfee8a0b",
   "metadata": {},
   "outputs": [],
   "source": [
    "ss[0]"
   ]
  },
  {
   "cell_type": "code",
   "execution_count": null,
   "id": "0352adb9",
   "metadata": {},
   "outputs": [],
   "source": [
    "ss1[0].updateRow(1, ['some', 'data', 'in', 'the', 'first', 'row'])"
   ]
  },
  {
   "cell_type": "code",
   "execution_count": null,
   "id": "7e59e845",
   "metadata": {},
   "outputs": [],
   "source": [
    "ss1[0].copyTO(ss2)  # Copy the ss1's Sheet1 to the ss2 spreadsheet."
   ]
  },
  {
   "cell_type": "code",
   "execution_count": null,
   "id": "73c137bd",
   "metadata": {},
   "outputs": [],
   "source": [
    "ss2.sheetTitles  # ss2 now contains a copy of ss1's Sheet1."
   ]
  }
 ],
 "metadata": {
  "kernelspec": {
   "display_name": "Python 3 (ipykernel)",
   "language": "python",
   "name": "python3"
  },
  "language_info": {
   "codemirror_mode": {
    "name": "ipython",
    "version": 3
   },
   "file_extension": ".py",
   "mimetype": "text/x-python",
   "name": "python",
   "nbconvert_exporter": "python",
   "pygments_lexer": "ipython3",
   "version": "3.9.12"
  }
 },
 "nbformat": 4,
 "nbformat_minor": 5
}
