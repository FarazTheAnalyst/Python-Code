{
 "cells": [
  {
   "cell_type": "markdown",
   "metadata": {},
   "source": [
    "##### Set Working Directory"
   ]
  },
  {
   "cell_type": "code",
   "execution_count": 95,
   "metadata": {},
   "outputs": [
    {
     "data": {
      "text/plain": [
       "'C:\\\\Users\\\\thars\\\\Downloads'"
      ]
     },
     "execution_count": 95,
     "metadata": {},
     "output_type": "execute_result"
    }
   ],
   "source": [
    "import os\n",
    "os.getcwd()"
   ]
  },
  {
   "cell_type": "code",
   "execution_count": 96,
   "metadata": {},
   "outputs": [],
   "source": [
    "os.chdir(r\"C:\\Users\\thars\\Downloads\")"
   ]
  },
  {
   "cell_type": "code",
   "execution_count": 97,
   "metadata": {},
   "outputs": [
    {
     "data": {
      "text/plain": [
       "'C:\\\\Users\\\\thars\\\\Downloads'"
      ]
     },
     "execution_count": 97,
     "metadata": {},
     "output_type": "execute_result"
    }
   ],
   "source": [
    "# Checking directory\n",
    "os.getcwd()"
   ]
  },
  {
   "cell_type": "markdown",
   "metadata": {},
   "source": [
    "##### Import Necessary Libraries"
   ]
  },
  {
   "cell_type": "code",
   "execution_count": 98,
   "metadata": {},
   "outputs": [],
   "source": [
    "import pandas as pd\n",
    "import numpy as np\n",
    "from sklearn.feature_extraction.text import CountVectorizer\n",
    "from sklearn.model_selection import train_test_split \n",
    "from sklearn.naive_bayes import BernoulliNB"
   ]
  },
  {
   "cell_type": "code",
   "execution_count": 99,
   "metadata": {},
   "outputs": [
    {
     "name": "stdout",
     "output_type": "stream",
     "text": [
      "                                COMMENT_ID               AUTHOR  \\\n",
      "162      z13dvrmxorf0cnj0423rsfcjlxevgjwll              ZodexHD   \n",
      "85   z13wzt5yezvhsboz104cjlkqalz0fpcglmk0k         Alessio Siri   \n",
      "261  z13shj4wpmflidcxc04ce5f4vlqdyzjowso0k  Tornike Noniashvili   \n",
      "179  z12yu11xyumitzpho04cix1y3zn3ijrpcm40k      Chinsoman Films   \n",
      "100    z13juvrhisuzsfczo04cgnsxhlfdiz2rhho       Imprezzi Vidzz   \n",
      "\n",
      "                    DATE                                            CONTENT  \\\n",
      "162  2014-11-06T17:50:59  look at my channel i make minecraft pe lets pl...   \n",
      "85   2014-11-03T16:43:36  PSY - GANGNAM STYLE (강남스타일) M/V: http://youtu....   \n",
      "261  2014-11-08T04:08:09                               subscribe my chanel﻿   \n",
      "179  2014-11-07T01:22:02                            Please subscribe to me﻿   \n",
      "100  2014-11-04T03:12:23  My videos are half way decent, check them out ...   \n",
      "\n",
      "     CLASS  \n",
      "162      1  \n",
      "85       0  \n",
      "261      1  \n",
      "179      1  \n",
      "100      1  \n"
     ]
    }
   ],
   "source": [
    "data = pd.read_csv(r\"C:\\Users\\thars\\Downloads\\Youtube01-Psy.csv\")\n",
    "print(data.sample(5))"
   ]
  },
  {
   "cell_type": "code",
   "execution_count": 100,
   "metadata": {},
   "outputs": [
    {
     "data": {
      "text/plain": [
       "(350, 5)"
      ]
     },
     "execution_count": 100,
     "metadata": {},
     "output_type": "execute_result"
    }
   ],
   "source": [
    "data.shape"
   ]
  },
  {
   "cell_type": "code",
   "execution_count": 101,
   "metadata": {},
   "outputs": [
    {
     "name": "stdout",
     "output_type": "stream",
     "text": [
      "<class 'pandas.core.frame.DataFrame'>\n",
      "RangeIndex: 350 entries, 0 to 349\n",
      "Data columns (total 5 columns):\n",
      " #   Column      Non-Null Count  Dtype \n",
      "---  ------      --------------  ----- \n",
      " 0   COMMENT_ID  350 non-null    object\n",
      " 1   AUTHOR      350 non-null    object\n",
      " 2   DATE        350 non-null    object\n",
      " 3   CONTENT     350 non-null    object\n",
      " 4   CLASS       350 non-null    int64 \n",
      "dtypes: int64(1), object(4)\n",
      "memory usage: 13.8+ KB\n"
     ]
    }
   ],
   "source": [
    "data.info()"
   ]
  },
  {
   "cell_type": "code",
   "execution_count": 102,
   "metadata": {},
   "outputs": [
    {
     "data": {
      "text/plain": [
       "COMMENT_ID    0\n",
       "AUTHOR        0\n",
       "DATE          0\n",
       "CONTENT       0\n",
       "CLASS         0\n",
       "dtype: int64"
      ]
     },
     "execution_count": 102,
     "metadata": {},
     "output_type": "execute_result"
    }
   ],
   "source": [
    "data.isnull().sum()"
   ]
  },
  {
   "cell_type": "code",
   "execution_count": 103,
   "metadata": {},
   "outputs": [
    {
     "name": "stdout",
     "output_type": "stream",
     "text": [
      "                                               CONTENT  CLASS\n",
      "204    The population of world is more than 7 billion﻿      0\n",
      "79   Hi there~I'm group leader of Angel, a rookie K...      1\n",
      "5    Hey, check out my new website!! This site is a...      1\n",
      "157              Follow me on Twitter @mscalifornia95﻿      1\n",
      "288  if i reach 100 subscribers i will go round in ...      1\n"
     ]
    }
   ],
   "source": [
    "# We only the need the Content and Class Column from the dataset for the rest of the task\n",
    "# let's select both the column and move further\n",
    "data = data[[\"CONTENT\", \"CLASS\"]]\n",
    "print(data.sample(5))"
   ]
  },
  {
   "cell_type": "code",
   "execution_count": 104,
   "metadata": {},
   "outputs": [
    {
     "name": "stdout",
     "output_type": "stream",
     "text": [
      "                                               CONTENT         CLASS\n",
      "48                      go here to check the views :3﻿      Not Spam\n",
      "250  why are they 5million comments when there is o...      Not Spam\n",
      "15   Hello! Do you like gaming, art videos, scienti...  Spam Comment\n",
      "184                                        OPPA &lt;3﻿      Not Spam\n",
      "343   Something to dance to, even if your sad JUST ...      Not Spam\n"
     ]
    }
   ],
   "source": [
    "# The CLASS column contains 0, and 1, 0 indicates not spam, and 1 indicates spam, \n",
    "# So to look better, i'll use spam and not spam labels instead of 1 and 0:\n",
    "data[\"CLASS\"] = data[\"CLASS\"].map({0:\"Not Spam\",\n",
    "                                   1:\"Spam Comment\"})\n",
    "print(data.sample(5)) "
   ]
  },
  {
   "cell_type": "markdown",
   "metadata": {},
   "source": [
    "##### Training a Classification Model"
   ]
  },
  {
   "cell_type": "code",
   "execution_count": 108,
   "metadata": {},
   "outputs": [
    {
     "name": "stdout",
     "output_type": "stream",
     "text": [
      "0.9857142857142858\n"
     ]
    }
   ],
   "source": [
    "x = np.array(data[\"CONTENT\"])\n",
    "y = np.array(data[\"CLASS\"])\n",
    "\n",
    "cv = CountVectorizer()\n",
    "x = cv.fit_transform(x)\n",
    "\n",
    "xtrain, xtest, ytrain, ytest = train_test_split(x, y, \n",
    "                                                test_size=0.2, random_state=42)\n",
    "\n",
    "model = BernoulliNB()\n",
    "model.fit(xtrain, ytrain)\n",
    "print(model.score(xtest, ytest))\n"
   ]
  },
  {
   "cell_type": "markdown",
   "metadata": {},
   "source": [
    "##### Test the Model"
   ]
  },
  {
   "cell_type": "code",
   "execution_count": 110,
   "metadata": {},
   "outputs": [
    {
     "name": "stdout",
     "output_type": "stream",
     "text": [
      "['Spam Comment']\n"
     ]
    }
   ],
   "source": [
    "# Now let's test the model by giving the spam and not spam comments as input\n",
    "sample = \"check this out https//:thefarazgill.com\"\n",
    "data = cv.transform([sample]).toarray()\n",
    "print(model.predict(data))"
   ]
  },
  {
   "cell_type": "code",
   "execution_count": 115,
   "metadata": {},
   "outputs": [
    {
     "name": "stdout",
     "output_type": "stream",
     "text": [
      "['Not Spam']\n"
     ]
    }
   ],
   "source": [
    "sample = \"Lack of information!\"\n",
    "data = cv.transform([sample]).toarray()\n",
    "print(model.predict(data))"
   ]
  },
  {
   "cell_type": "code",
   "execution_count": null,
   "metadata": {},
   "outputs": [],
   "source": []
  }
 ],
 "metadata": {
  "kernelspec": {
   "display_name": "base",
   "language": "python",
   "name": "python3"
  },
  "language_info": {
   "codemirror_mode": {
    "name": "ipython",
    "version": 3
   },
   "file_extension": ".py",
   "mimetype": "text/x-python",
   "name": "python",
   "nbconvert_exporter": "python",
   "pygments_lexer": "ipython3",
   "version": "3.12.4"
  }
 },
 "nbformat": 4,
 "nbformat_minor": 2
}
