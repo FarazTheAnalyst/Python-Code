{
 "cells": [
  {
   "cell_type": "markdown",
   "metadata": {},
   "source": [
    "##### Setting Working Directory"
   ]
  },
  {
   "cell_type": "code",
   "execution_count": 1,
   "metadata": {},
   "outputs": [
    {
     "data": {
      "text/plain": [
       "'d:\\\\Python_MachineLearning_Proj\\\\Regression'"
      ]
     },
     "execution_count": 1,
     "metadata": {},
     "output_type": "execute_result"
    }
   ],
   "source": [
    "import os\n",
    "os.getcwd()"
   ]
  },
  {
   "cell_type": "code",
   "execution_count": 2,
   "metadata": {},
   "outputs": [],
   "source": [
    "os.chdir(r\"C:\\Users\\thars\\Downloads\")"
   ]
  },
  {
   "cell_type": "markdown",
   "metadata": {},
   "source": [
    "##### Train and Compare Multiple Machine Learning Models"
   ]
  },
  {
   "cell_type": "code",
   "execution_count": 3,
   "metadata": {},
   "outputs": [
    {
     "name": "stdout",
     "output_type": "stream",
     "text": [
      "             Transaction date  House age  Distance to the nearest MRT station  \\\n",
      "0  2012-09-02 16:42:30.519336       13.3                            4082.0150   \n",
      "1  2012-09-04 22:52:29.919544       35.5                             274.0144   \n",
      "2  2012-09-05 01:10:52.349449        1.1                            1978.6710   \n",
      "3  2012-09-05 13:26:01.189083       22.2                            1055.0670   \n",
      "4  2012-09-06 08:29:47.910523        8.5                             967.4000   \n",
      "\n",
      "   Number of convenience stores   Latitude   Longitude  \\\n",
      "0                             8  25.007059  121.561694   \n",
      "1                             2  25.012148  121.546990   \n",
      "2                            10  25.003850  121.528336   \n",
      "3                             5  24.962887  121.482178   \n",
      "4                             6  25.011037  121.479946   \n",
      "\n",
      "   House price of unit area  \n",
      "0                  6.488673  \n",
      "1                 24.970725  \n",
      "2                 26.694267  \n",
      "3                 38.091638  \n",
      "4                 21.654710  \n"
     ]
    }
   ],
   "source": [
    "# Import necessary libraries\n",
    "import pandas as pd\n",
    "data = pd.read_csv(r\"C:\\Users\\thars\\Downloads\\Real_Estate.csv\")\n",
    "\n",
    "# display the first few rows\n",
    "print(data.head())"
   ]
  },
  {
   "cell_type": "code",
   "execution_count": 4,
   "metadata": {},
   "outputs": [
    {
     "name": "stdout",
     "output_type": "stream",
     "text": [
      "<class 'pandas.core.frame.DataFrame'>\n",
      "RangeIndex: 414 entries, 0 to 413\n",
      "Data columns (total 7 columns):\n",
      " #   Column                               Non-Null Count  Dtype  \n",
      "---  ------                               --------------  -----  \n",
      " 0   Transaction date                     414 non-null    object \n",
      " 1   House age                            414 non-null    float64\n",
      " 2   Distance to the nearest MRT station  414 non-null    float64\n",
      " 3   Number of convenience stores         414 non-null    int64  \n",
      " 4   Latitude                             414 non-null    float64\n",
      " 5   Longitude                            414 non-null    float64\n",
      " 6   House price of unit area             414 non-null    float64\n",
      "dtypes: float64(5), int64(1), object(1)\n",
      "memory usage: 22.8+ KB\n"
     ]
    }
   ],
   "source": [
    "# Checking the information about the dataset\n",
    "data.info()"
   ]
  },
  {
   "cell_type": "code",
   "execution_count": 5,
   "metadata": {},
   "outputs": [
    {
     "data": {
      "text/plain": [
       "Transaction date                       0\n",
       "House age                              0\n",
       "Distance to the nearest MRT station    0\n",
       "Number of convenience stores           0\n",
       "Latitude                               0\n",
       "Longitude                              0\n",
       "House price of unit area               0\n",
       "dtype: int64"
      ]
     },
     "execution_count": 5,
     "metadata": {},
     "output_type": "execute_result"
    }
   ],
   "source": [
    "# Checking Null values \n",
    "data.isnull().sum()"
   ]
  },
  {
   "cell_type": "code",
   "execution_count": 6,
   "metadata": {},
   "outputs": [
    {
     "data": {
      "text/plain": [
       "(414, 7)"
      ]
     },
     "execution_count": 6,
     "metadata": {},
     "output_type": "execute_result"
    }
   ],
   "source": [
    "data.shape"
   ]
  },
  {
   "cell_type": "markdown",
   "metadata": {},
   "source": [
    "##### Data Preprocessing "
   ]
  },
  {
   "cell_type": "code",
   "execution_count": 7,
   "metadata": {},
   "outputs": [],
   "source": [
    "from sklearn.model_selection import train_test_split\n",
    "from sklearn.preprocessing import StandardScaler\n",
    "import datetime\n",
    "\n",
    "# Convert Transction date to datetime \n",
    "data[\"Transaction date\"] = pd.to_datetime(data[\"Transaction date\"])\n",
    "data[\"Transaction year\"] = data[\"Transaction date\"].dt.year\n",
    "data[\"Transaction month\"] = data[\"Transaction date\"].dt.month\n",
    "\n",
    "# drop the original transction date column as we extracted the relevent features\n",
    "data = data.drop(\"Transaction date\", axis=1)   # or we can use data.drop(columns = [\"Transaction date\"])\n",
    "\n",
    "# define the features and target varible\n",
    "X = data.drop(\"House price of unit area\", axis=1)\n",
    "y = data[\"House price of unit area\"]\n",
    "\n",
    "# splitting the data into training and testing sets\n",
    "X_train, X_test, y_train, y_test = train_test_split(X, y,\n",
    "                                                    test_size=0.2,\n",
    "                                                    random_state=42)\n",
    "\n",
    "# Scale the features \n",
    "scaler = StandardScaler()\n",
    "X_train_scaled = scaler.fit_transform(X_train)\n",
    "X_test_scaled = scaler.transform(X_test)"
   ]
  },
  {
   "cell_type": "code",
   "execution_count": 9,
   "metadata": {},
   "outputs": [
    {
     "data": {
      "text/plain": [
       "(331, 7)"
      ]
     },
     "execution_count": 9,
     "metadata": {},
     "output_type": "execute_result"
    }
   ],
   "source": [
    "X_train_scaled.shape"
   ]
  },
  {
   "cell_type": "code",
   "execution_count": 10,
   "metadata": {},
   "outputs": [
    {
     "data": {
      "text/plain": [
       "(83, 7)"
      ]
     },
     "execution_count": 10,
     "metadata": {},
     "output_type": "execute_result"
    }
   ],
   "source": [
    "X_test_scaled.shape"
   ]
  },
  {
   "cell_type": "markdown",
   "metadata": {},
   "source": [
    "##### Model Training and Comparision"
   ]
  },
  {
   "cell_type": "code",
   "execution_count": 11,
   "metadata": {},
   "outputs": [
    {
     "name": "stdout",
     "output_type": "stream",
     "text": [
      "                              MAE        R2\n",
      "LinearRegression         9.748246  0.529615\n",
      "Decision TreeRegressor  11.760342  0.204962\n",
      "Random Forest           10.000117  0.476071\n",
      "Gradient Boosting       10.000117  0.476071\n"
     ]
    }
   ],
   "source": [
    "from sklearn.linear_model import LinearRegression\n",
    "from sklearn.tree import DecisionTreeRegressor\n",
    "from sklearn.ensemble import RandomForestRegressor, GradientBoostingRegressor\n",
    "from sklearn.metrics import mean_absolute_error, r2_score\n",
    "\n",
    "# initializing the models\n",
    "models = {\n",
    "    \"LinearRegression\" : LinearRegression(),\n",
    "    \"Decision TreeRegressor\" : DecisionTreeRegressor(random_state=42),\n",
    "    \"Random Forest\" : GradientBoostingRegressor(random_state=42),\n",
    "    \"Gradient Boosting\" : GradientBoostingRegressor(random_state=42)\n",
    "}\n",
    "\n",
    "# Dictoniory to hold the evaluation metrics for each model\n",
    "results = {}\n",
    "\n",
    "#train and evaluate each model\n",
    "for name, model in models.items():\n",
    "    #training themodel\n",
    "    model.fit(X_train_scaled, y_train)\n",
    "\n",
    "    #making predictions on test set\n",
    "    predictions = model.predict(X_test_scaled)\n",
    "\n",
    "    #calulate evaluation metrics\n",
    "    mae = mean_absolute_error(y_test, predictions)\n",
    "    r2 = r2_score(y_test, predictions)\n",
    "\n",
    "    #storing the metrics\n",
    "    results[name] = {\"MAE\":mae, \"R2\":r2}\n",
    "\n",
    "results_df = pd.DataFrame(results).T  #convets the results to the dataframe for better readiability\n",
    "print(results_df)"
   ]
  },
  {
   "cell_type": "code",
   "execution_count": 16,
   "metadata": {},
   "outputs": [
    {
     "data": {
      "text/plain": [
       "{'LinearRegression': {'MAE': 9.748245872777915, 'R2': 0.5296147783457823},\n",
       " 'Decision TreeRegressor': {'MAE': 11.760341959956165,\n",
       "  'R2': 0.20496231879784121},\n",
       " 'Random Forest': {'MAE': 10.000116968494513, 'R2': 0.4760708438289032},\n",
       " 'Gradient Boosting': {'MAE': 10.000116968494513, 'R2': 0.4760708438289032}}"
      ]
     },
     "execution_count": 16,
     "metadata": {},
     "output_type": "execute_result"
    }
   ],
   "source": [
    "results"
   ]
  },
  {
   "cell_type": "code",
   "execution_count": null,
   "metadata": {},
   "outputs": [],
   "source": []
  }
 ],
 "metadata": {
  "kernelspec": {
   "display_name": "base",
   "language": "python",
   "name": "python3"
  },
  "language_info": {
   "codemirror_mode": {
    "name": "ipython",
    "version": 3
   },
   "file_extension": ".py",
   "mimetype": "text/x-python",
   "name": "python",
   "nbconvert_exporter": "python",
   "pygments_lexer": "ipython3",
   "version": "3.12.4"
  }
 },
 "nbformat": 4,
 "nbformat_minor": 2
}
