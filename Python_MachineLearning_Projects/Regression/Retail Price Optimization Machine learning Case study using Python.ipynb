{
 "cells": [
  {
   "cell_type": "markdown",
   "metadata": {},
   "source": [
    "##### Setting the Wroking Directory"
   ]
  },
  {
   "cell_type": "code",
   "execution_count": 7,
   "metadata": {},
   "outputs": [
    {
     "data": {
      "text/plain": [
       "'C:\\\\Users\\\\thars\\\\Downloads'"
      ]
     },
     "execution_count": 7,
     "metadata": {},
     "output_type": "execute_result"
    }
   ],
   "source": [
    "import os\n",
    "os.getcwd()"
   ]
  },
  {
   "cell_type": "code",
   "execution_count": 8,
   "metadata": {},
   "outputs": [],
   "source": [
    "os.chdir(r\"C:\\Users\\thars\\Downloads\")"
   ]
  },
  {
   "cell_type": "markdown",
   "metadata": {},
   "source": [
    "##### Import Necessary Libraries"
   ]
  },
  {
   "cell_type": "code",
   "execution_count": 9,
   "metadata": {},
   "outputs": [],
   "source": [
    "import pandas as pd\n",
    "import plotly.express as px\n",
    "import plotly.graph_objects as go\n",
    "import plotly.io as pio\n",
    "pio.templates_default = \"plotly_white\""
   ]
  },
  {
   "cell_type": "code",
   "execution_count": 10,
   "metadata": {},
   "outputs": [
    {
     "name": "stdout",
     "output_type": "stream",
     "text": [
      "  product_id product_category_name  month_year  qty  total_price  \\\n",
      "0       bed1        bed_bath_table  01-05-2017    1        45.95   \n",
      "1       bed1        bed_bath_table  01-06-2017    3       137.85   \n",
      "2       bed1        bed_bath_table  01-07-2017    6       275.70   \n",
      "3       bed1        bed_bath_table  01-08-2017    4       183.80   \n",
      "4       bed1        bed_bath_table  01-09-2017    2        91.90   \n",
      "\n",
      "   freight_price  unit_price  product_name_lenght  product_description_lenght  \\\n",
      "0      15.100000       45.95                   39                         161   \n",
      "1      12.933333       45.95                   39                         161   \n",
      "2      14.840000       45.95                   39                         161   \n",
      "3      14.287500       45.95                   39                         161   \n",
      "4      15.100000       45.95                   39                         161   \n",
      "\n",
      "   product_photos_qty  ...  comp_1  ps1        fp1      comp_2  ps2  \\\n",
      "0                   2  ...    89.9  3.9  15.011897  215.000000  4.4   \n",
      "1                   2  ...    89.9  3.9  14.769216  209.000000  4.4   \n",
      "2                   2  ...    89.9  3.9  13.993833  205.000000  4.4   \n",
      "3                   2  ...    89.9  3.9  14.656757  199.509804  4.4   \n",
      "4                   2  ...    89.9  3.9  18.776522  163.398710  4.4   \n",
      "\n",
      "         fp2  comp_3  ps3        fp3  lag_price  \n",
      "0   8.760000   45.95  4.0  15.100000      45.90  \n",
      "1  21.322000   45.95  4.0  12.933333      45.95  \n",
      "2  22.195932   45.95  4.0  14.840000      45.95  \n",
      "3  19.412885   45.95  4.0  14.287500      45.95  \n",
      "4  24.324687   45.95  4.0  15.100000      45.95  \n",
      "\n",
      "[5 rows x 30 columns]\n"
     ]
    }
   ],
   "source": [
    "data = pd.read_csv(r\"C:\\Users\\thars\\Downloads\\retail\\retail_price.csv\")\n",
    "print(data.head())"
   ]
  },
  {
   "cell_type": "code",
   "execution_count": 13,
   "metadata": {},
   "outputs": [
    {
     "name": "stdout",
     "output_type": "stream",
     "text": [
      "<class 'pandas.core.frame.DataFrame'>\n",
      "RangeIndex: 676 entries, 0 to 675\n",
      "Data columns (total 30 columns):\n",
      " #   Column                      Non-Null Count  Dtype  \n",
      "---  ------                      --------------  -----  \n",
      " 0   product_id                  676 non-null    object \n",
      " 1   product_category_name       676 non-null    object \n",
      " 2   month_year                  676 non-null    object \n",
      " 3   qty                         676 non-null    int64  \n",
      " 4   total_price                 676 non-null    float64\n",
      " 5   freight_price               676 non-null    float64\n",
      " 6   unit_price                  676 non-null    float64\n",
      " 7   product_name_lenght         676 non-null    int64  \n",
      " 8   product_description_lenght  676 non-null    int64  \n",
      " 9   product_photos_qty          676 non-null    int64  \n",
      " 10  product_weight_g            676 non-null    int64  \n",
      " 11  product_score               676 non-null    float64\n",
      " 12  customers                   676 non-null    int64  \n",
      " 13  weekday                     676 non-null    int64  \n",
      " 14  weekend                     676 non-null    int64  \n",
      " 15  holiday                     676 non-null    int64  \n",
      " 16  month                       676 non-null    int64  \n",
      " 17  year                        676 non-null    int64  \n",
      " 18  s                           676 non-null    float64\n",
      " 19  volume                      676 non-null    int64  \n",
      " 20  comp_1                      676 non-null    float64\n",
      " 21  ps1                         676 non-null    float64\n",
      " 22  fp1                         676 non-null    float64\n",
      " 23  comp_2                      676 non-null    float64\n",
      " 24  ps2                         676 non-null    float64\n",
      " 25  fp2                         676 non-null    float64\n",
      " 26  comp_3                      676 non-null    float64\n",
      " 27  ps3                         676 non-null    float64\n",
      " 28  fp3                         676 non-null    float64\n",
      " 29  lag_price                   676 non-null    float64\n",
      "dtypes: float64(15), int64(12), object(3)\n",
      "memory usage: 158.6+ KB\n",
      "None\n"
     ]
    }
   ],
   "source": [
    "print(data.info())"
   ]
  },
  {
   "cell_type": "code",
   "execution_count": 11,
   "metadata": {},
   "outputs": [
    {
     "name": "stdout",
     "output_type": "stream",
     "text": [
      "product_id                    0\n",
      "product_category_name         0\n",
      "month_year                    0\n",
      "qty                           0\n",
      "total_price                   0\n",
      "freight_price                 0\n",
      "unit_price                    0\n",
      "product_name_lenght           0\n",
      "product_description_lenght    0\n",
      "product_photos_qty            0\n",
      "product_weight_g              0\n",
      "product_score                 0\n",
      "customers                     0\n",
      "weekday                       0\n",
      "weekend                       0\n",
      "holiday                       0\n",
      "month                         0\n",
      "year                          0\n",
      "s                             0\n",
      "volume                        0\n",
      "comp_1                        0\n",
      "ps1                           0\n",
      "fp1                           0\n",
      "comp_2                        0\n",
      "ps2                           0\n",
      "fp2                           0\n",
      "comp_3                        0\n",
      "ps3                           0\n",
      "fp3                           0\n",
      "lag_price                     0\n",
      "dtype: int64\n"
     ]
    }
   ],
   "source": [
    "print(data.isnull().sum())"
   ]
  },
  {
   "cell_type": "code",
   "execution_count": 14,
   "metadata": {},
   "outputs": [
    {
     "name": "stdout",
     "output_type": "stream",
     "text": [
      "              qty   total_price  freight_price  unit_price  \\\n",
      "count  676.000000    676.000000     676.000000  676.000000   \n",
      "mean    14.495562   1422.708728      20.682270  106.496800   \n",
      "std     15.443421   1700.123100      10.081817   76.182972   \n",
      "min      1.000000     19.900000       0.000000   19.900000   \n",
      "25%      4.000000    333.700000      14.761912   53.900000   \n",
      "50%     10.000000    807.890000      17.518472   89.900000   \n",
      "75%     18.000000   1887.322500      22.713558  129.990000   \n",
      "max    122.000000  12095.000000      79.760000  364.000000   \n",
      "\n",
      "       product_name_lenght  product_description_lenght  product_photos_qty  \\\n",
      "count           676.000000                  676.000000          676.000000   \n",
      "mean             48.720414                  767.399408            1.994083   \n",
      "std               9.420715                  655.205015            1.420473   \n",
      "min              29.000000                  100.000000            1.000000   \n",
      "25%              40.000000                  339.000000            1.000000   \n",
      "50%              51.000000                  501.000000            1.500000   \n",
      "75%              57.000000                  903.000000            2.000000   \n",
      "max              60.000000                 3006.000000            8.000000   \n",
      "\n",
      "       product_weight_g  product_score   customers  ...      comp_1  \\\n",
      "count        676.000000     676.000000  676.000000  ...  676.000000   \n",
      "mean        1847.498521       4.085503   81.028107  ...   79.452054   \n",
      "std         2274.808483       0.232021   62.055560  ...   47.933358   \n",
      "min          100.000000       3.300000    1.000000  ...   19.900000   \n",
      "25%          348.000000       3.900000   34.000000  ...   49.910000   \n",
      "50%          950.000000       4.100000   62.000000  ...   69.900000   \n",
      "75%         1850.000000       4.200000  116.000000  ...  104.256549   \n",
      "max         9750.000000       4.500000  339.000000  ...  349.900000   \n",
      "\n",
      "              ps1         fp1      comp_2         ps2         fp2      comp_3  \\\n",
      "count  676.000000  676.000000  676.000000  676.000000  676.000000  676.000000   \n",
      "mean     4.159467   18.597610   92.930079    4.123521   18.620644   84.182642   \n",
      "std      0.121652    9.406537   49.481269    0.207189    6.424174   47.745789   \n",
      "min      3.700000    0.095439   19.900000    3.300000    4.410000   19.900000   \n",
      "25%      4.100000   13.826429   53.900000    4.100000   14.485000   53.785714   \n",
      "50%      4.200000   16.618984   89.990000    4.200000   16.811765   59.900000   \n",
      "75%      4.200000   19.732500  117.888889    4.200000   21.665238   99.990000   \n",
      "max      4.500000   57.230000  349.900000    4.400000   57.230000  255.610000   \n",
      "\n",
      "              ps3         fp3   lag_price  \n",
      "count  676.000000  676.000000  676.000000  \n",
      "mean     4.002071   17.965007  107.399684  \n",
      "std      0.233292    5.533256   76.974657  \n",
      "min      3.500000    7.670000   19.850000  \n",
      "25%      3.900000   15.042727   55.668750  \n",
      "50%      4.000000   16.517110   89.900000  \n",
      "75%      4.100000   19.447778  129.990000  \n",
      "max      4.400000   57.230000  364.000000  \n",
      "\n",
      "[8 rows x 27 columns]\n"
     ]
    }
   ],
   "source": [
    "# Let's have a Look at the descriptive statistics of the data\n",
    "print(data.describe())"
   ]
  },
  {
   "cell_type": "code",
   "execution_count": 17,
   "metadata": {},
   "outputs": [
    {
     "data": {
      "application/vnd.plotly.v1+json": {
       "config": {
        "plotlyServerURL": "https://plot.ly"
       },
       "data": [
        {
         "alignmentgroup": "True",
         "bingroup": "x",
         "hovertemplate": "total_price=%{x}<br>count=%{y}<extra></extra>",
         "legendgroup": "",
         "marker": {
          "color": "#636efa",
          "pattern": {
           "shape": ""
          }
         },
         "name": "",
         "nbinsx": 20,
         "offsetgroup": "",
         "orientation": "v",
         "showlegend": false,
         "type": "histogram",
         "x": [
          45.95,
          137.85,
          275.7,
          183.8,
          91.9,
          137.85,
          445.85,
          239.94,
          759.81,
          719.82,
          679.83,
          519.87,
          759.81,
          199.95,
          319.92,
          313.92,
          419.4,
          247.9,
          1956,
          712,
          890,
          683,
          891,
          1386,
          1683,
          1089,
          398,
          202,
          101,
          101,
          258.7,
          477.6,
          179.1,
          603.2,
          686,
          392,
          162.5,
          195,
          245.4,
          108.6,
          72.4,
          36.2,
          59.9,
          59.9,
          239.6,
          359.4,
          299.5,
          658.9,
          1043.6,
          571.8,
          548.9,
          411.2,
          161.7,
          431.2,
          477.1,
          249.5,
          299.4,
          349.3,
          219.89,
          179.91,
          259.87,
          319.84,
          419.79,
          579.71,
          651.72,
          575.76,
          647.73,
          671.72,
          455.81,
          455.81,
          335.86,
          191.92,
          167.93,
          71.97,
          71.97,
          47.98,
          134.99,
          134.99,
          1763.88,
          4248.73,
          4842.71,
          2170.87,
          1415.92,
          1911.89,
          1019.94,
          110.99,
          221.98,
          998.91,
          1514.87,
          2759.77,
          5288.57,
          4058.67,
          3935.68,
          227.96,
          398.93,
          398.93,
          968.83,
          968.83,
          1139.8,
          1367.76,
          569.9,
          227.96,
          706.86,
          99.98,
          399.92,
          199.96,
          199.98,
          1799.82,
          1099.89,
          1399.86,
          799.92,
          599.94,
          899.91,
          199.98,
          299.97,
          599.94,
          899.91,
          489.76,
          338.77,
          539.94,
          539.94,
          809.91,
          1529.83,
          1619.82,
          1889.79,
          2159.76,
          2339.74,
          1709.81,
          1799.8,
          1529.83,
          1339.84,
          1119.86,
          1279.84,
          1039.87,
          799.9,
          579.75,
          778.7,
          1377.7,
          778.7,
          2156.4,
          3711.7,
          2468.6,
          1946.1,
          2411.2,
          1401.4,
          1509.2,
          1319.5,
          748.5,
          149.7,
          299.4,
          167,
          239.8,
          5453.96,
          3465.8,
          528,
          880,
          269.7,
          236.7,
          179.7,
          179.7,
          1138.1,
          1617.3,
          1018.3,
          1856.9,
          4712.19,
          1769.7,
          1447.1,
          1828.4,
          1886.5,
          700.7,
          1559.1,
          299.4,
          698.6,
          499,
          3307.8,
          10343.1,
          7644.9,
          5246.5,
          7794.8,
          4047.3,
          1948.7,
          749.5,
          185.97,
          805.87,
          974.85,
          2469.62,
          1741.74,
          1808.73,
          1875.72,
          239.6,
          59.9,
          838.6,
          2336.1,
          2216.3,
          2336.1,
          4769.7,
          2881.6,
          598.8,
          1970.1,
          1670.9,
          2479.4,
          2982.4,
          598.8,
          299.46,
          299.46,
          994.04,
          2809.65,
          965.91,
          1723.08,
          449.82,
          257.56,
          557.85,
          789.95,
          1016.95,
          849.5,
          1604,
          2391.6,
          3660,
          894,
          1188,
          2043.92,
          1115.7,
          1191.9,
          2598.9,
          139.9,
          694.9,
          414,
          254.97,
          339.96,
          254.97,
          3059.64,
          4249.5,
          1104.87,
          594.93,
          339.96,
          169.98,
          179.99,
          539.97,
          359.98,
          1079.94,
          2339.87,
          2759.85,
          2629.96,
          2148,
          2277,
          1969,
          537,
          1590,
          1112,
          973,
          179.7,
          419.3,
          239.6,
          1138.1,
          1257.9,
          1377.7,
          1138.1,
          4397.7,
          2232.6,
          1247.5,
          2247.6,
          1347.5,
          1078,
          888.3,
          399.2,
          449.1,
          349.3,
          652,
          1777.5,
          2088.7,
          2762.5,
          134.9,
          1995,
          596,
          769.45,
          3640.68,
          8961.49,
          11820.2,
          1071,
          1302,
          112,
          29.5,
          2242,
          910,
          140,
          140,
          130,
          65,
          142.5,
          142.5,
          285,
          944.4,
          1416,
          707.4,
          1296.8,
          470.8,
          943.8,
          2038.3,
          1668.5,
          593.5,
          1987.4,
          1039.92,
          1819.86,
          2339.82,
          2209.83,
          2079.84,
          1870.84,
          1199.9,
          1169.91,
          389.97,
          519.96,
          259.98,
          129.99,
          129.99,
          379.6,
          611.4,
          1099,
          219.8,
          395.6,
          395.6,
          593.4,
          98.9,
          2795.14,
          2537.19,
          1139.8,
          470,
          292,
          1199.48,
          79.9,
          19.9,
          218.9,
          179.1,
          248,
          563.5,
          416.5,
          271.2,
          32.5,
          229.2,
          205.2,
          2799.2,
          1399.6,
          699.8,
          349.9,
          1399.6,
          699.8,
          349.9,
          2449.3,
          2449.3,
          3499,
          3543.5,
          2449.3,
          4198.8,
          5248.5,
          5948.3,
          2449.3,
          3513.1,
          4004,
          4004,
          3276,
          479.8,
          479.8,
          459.8,
          2250.8,
          2680,
          3908.9,
          4355,
          457.9,
          2200,
          1737.4,
          99.9,
          299.7,
          1298.7,
          1298.7,
          1198.8,
          1298.7,
          1298.7,
          999,
          1099.5,
          754.5,
          1839.2,
          2190.6,
          1729.2,
          2395.2,
          6287.2,
          2207.7,
          4319.4,
          3459,
          2657,
          3383,
          64.99,
          324.95,
          584.91,
          584.91,
          1039.84,
          1234.79,
          888.85,
          1297.78,
          1474.75,
          1120.81,
          1415.76,
          530.91,
          353.94,
          825.86,
          589.9,
          648.89,
          235.96,
          353.94,
          117.98,
          176.97,
          792,
          2178,
          693,
          1082,
          1196,
          276,
          815,
          1235.36,
          1188.6,
          764.1,
          84.9,
          99.99,
          1099.89,
          759.92,
          219.98,
          239.98,
          240,
          417,
          1105.92,
          1889.79,
          1259.86,
          1479.98,
          1680,
          680,
          770,
          880,
          969.9,
          499.95,
          199.98,
          179.8,
          1977.8,
          3056.6,
          5214.2,
          4584.9,
          5394,
          3326.3,
          2067.7,
          1258.6,
          3596,
          1594.2,
          1477.3,
          1911.8,
          1477.3,
          510.27,
          2174.89,
          1837.7,
          781.3,
          518,
          38.4,
          230.4,
          307.2,
          1170.35,
          153.6,
          576,
          153.6,
          493.4,
          140,
          140,
          70,
          35,
          1404,
          1404,
          4752,
          3564,
          2214,
          2205,
          3885,
          2940,
          840,
          735,
          78,
          234,
          78,
          390,
          234,
          156,
          468,
          702,
          78,
          78,
          1248,
          390,
          3042,
          3120,
          2179,
          375,
          975,
          375,
          3300,
          3525,
          8538,
          3075.6,
          4543.5,
          5801.7,
          6430.8,
          179.8,
          179.8,
          309.7,
          299.5,
          119.8,
          299.5,
          898.5,
          1138.1,
          2036.6,
          778.7,
          495.5,
          49.9,
          49.9,
          203.6,
          107.8,
          107.8,
          199.6,
          249.5,
          149.7,
          149.7,
          38.4,
          307.2,
          460.8,
          960,
          1026.51,
          76.8,
          345.6,
          601.8,
          595,
          385,
          455,
          350,
          560,
          1950,
          3575,
          650,
          3900,
          1950,
          3250,
          7475,
          9125,
          6930,
          6270,
          5280,
          4290,
          9240,
          99.99,
          499.95,
          439.96,
          659.94,
          120,
          240,
          735,
          1619.93,
          2519.72,
          2429.73,
          1405,
          840,
          660,
          550,
          220,
          539.94,
          699.93,
          589.94,
          599.93,
          1399.86,
          1699.83,
          2199.78,
          1399.86,
          1099.89,
          1399.86,
          299.97,
          199.98,
          399.96,
          299.97,
          299.97,
          99.99,
          199.98,
          269.59,
          479.97,
          479.97,
          699.95,
          479.97,
          839.94,
          1019.93,
          1679.89,
          2629.83,
          2699.82,
          3449.77,
          6746.9,
          4619,
          5986,
          6764,
          2975,
          3086.76,
          1079.91,
          1199.9,
          678,
          339,
          3461.58,
          3111.36,
          3836.8,
          339.9,
          1735,
          1847,
          1684,
          5956.3,
          983.6,
          7651.27,
          2715.7,
          2247.72,
          584.77,
          1884.45,
          1656.87,
          2206.4,
          2482.2,
          269.8,
          665,
          398.91,
          29.9,
          179.4,
          179.4,
          448.5,
          478.4,
          328.9,
          657.8,
          657.8,
          209.3,
          538.2,
          388.7,
          1205.03,
          766.83,
          925,
          1973.83,
          2698.5,
          3291.4,
          929.96,
          3139.8,
          929.8,
          398,
          1092,
          4860.11,
          1351.2,
          4241,
          2073.3,
          310,
          1601.06,
          109.9,
          1318.8,
          2831.55,
          5581.8,
          2187.3,
          1042.9,
          876.9,
          789,
          545.3,
          155.8,
          1331.1,
          1421.67,
          550.8,
          872.1,
          734.4,
          383.2,
          335.3,
          95.8,
          191.6,
          95.8,
          215,
          2090,
          12095,
          10375,
          5222.36
         ],
         "xaxis": "x",
         "yaxis": "y"
        }
       ],
       "layout": {
        "barmode": "relative",
        "legend": {
         "tracegroupgap": 0
        },
        "template": {
         "data": {
          "bar": [
           {
            "error_x": {
             "color": "#2a3f5f"
            },
            "error_y": {
             "color": "#2a3f5f"
            },
            "marker": {
             "line": {
              "color": "#E5ECF6",
              "width": 0.5
             },
             "pattern": {
              "fillmode": "overlay",
              "size": 10,
              "solidity": 0.2
             }
            },
            "type": "bar"
           }
          ],
          "barpolar": [
           {
            "marker": {
             "line": {
              "color": "#E5ECF6",
              "width": 0.5
             },
             "pattern": {
              "fillmode": "overlay",
              "size": 10,
              "solidity": 0.2
             }
            },
            "type": "barpolar"
           }
          ],
          "carpet": [
           {
            "aaxis": {
             "endlinecolor": "#2a3f5f",
             "gridcolor": "white",
             "linecolor": "white",
             "minorgridcolor": "white",
             "startlinecolor": "#2a3f5f"
            },
            "baxis": {
             "endlinecolor": "#2a3f5f",
             "gridcolor": "white",
             "linecolor": "white",
             "minorgridcolor": "white",
             "startlinecolor": "#2a3f5f"
            },
            "type": "carpet"
           }
          ],
          "choropleth": [
           {
            "colorbar": {
             "outlinewidth": 0,
             "ticks": ""
            },
            "type": "choropleth"
           }
          ],
          "contour": [
           {
            "colorbar": {
             "outlinewidth": 0,
             "ticks": ""
            },
            "colorscale": [
             [
              0,
              "#0d0887"
             ],
             [
              0.1111111111111111,
              "#46039f"
             ],
             [
              0.2222222222222222,
              "#7201a8"
             ],
             [
              0.3333333333333333,
              "#9c179e"
             ],
             [
              0.4444444444444444,
              "#bd3786"
             ],
             [
              0.5555555555555556,
              "#d8576b"
             ],
             [
              0.6666666666666666,
              "#ed7953"
             ],
             [
              0.7777777777777778,
              "#fb9f3a"
             ],
             [
              0.8888888888888888,
              "#fdca26"
             ],
             [
              1,
              "#f0f921"
             ]
            ],
            "type": "contour"
           }
          ],
          "contourcarpet": [
           {
            "colorbar": {
             "outlinewidth": 0,
             "ticks": ""
            },
            "type": "contourcarpet"
           }
          ],
          "heatmap": [
           {
            "colorbar": {
             "outlinewidth": 0,
             "ticks": ""
            },
            "colorscale": [
             [
              0,
              "#0d0887"
             ],
             [
              0.1111111111111111,
              "#46039f"
             ],
             [
              0.2222222222222222,
              "#7201a8"
             ],
             [
              0.3333333333333333,
              "#9c179e"
             ],
             [
              0.4444444444444444,
              "#bd3786"
             ],
             [
              0.5555555555555556,
              "#d8576b"
             ],
             [
              0.6666666666666666,
              "#ed7953"
             ],
             [
              0.7777777777777778,
              "#fb9f3a"
             ],
             [
              0.8888888888888888,
              "#fdca26"
             ],
             [
              1,
              "#f0f921"
             ]
            ],
            "type": "heatmap"
           }
          ],
          "heatmapgl": [
           {
            "colorbar": {
             "outlinewidth": 0,
             "ticks": ""
            },
            "colorscale": [
             [
              0,
              "#0d0887"
             ],
             [
              0.1111111111111111,
              "#46039f"
             ],
             [
              0.2222222222222222,
              "#7201a8"
             ],
             [
              0.3333333333333333,
              "#9c179e"
             ],
             [
              0.4444444444444444,
              "#bd3786"
             ],
             [
              0.5555555555555556,
              "#d8576b"
             ],
             [
              0.6666666666666666,
              "#ed7953"
             ],
             [
              0.7777777777777778,
              "#fb9f3a"
             ],
             [
              0.8888888888888888,
              "#fdca26"
             ],
             [
              1,
              "#f0f921"
             ]
            ],
            "type": "heatmapgl"
           }
          ],
          "histogram": [
           {
            "marker": {
             "pattern": {
              "fillmode": "overlay",
              "size": 10,
              "solidity": 0.2
             }
            },
            "type": "histogram"
           }
          ],
          "histogram2d": [
           {
            "colorbar": {
             "outlinewidth": 0,
             "ticks": ""
            },
            "colorscale": [
             [
              0,
              "#0d0887"
             ],
             [
              0.1111111111111111,
              "#46039f"
             ],
             [
              0.2222222222222222,
              "#7201a8"
             ],
             [
              0.3333333333333333,
              "#9c179e"
             ],
             [
              0.4444444444444444,
              "#bd3786"
             ],
             [
              0.5555555555555556,
              "#d8576b"
             ],
             [
              0.6666666666666666,
              "#ed7953"
             ],
             [
              0.7777777777777778,
              "#fb9f3a"
             ],
             [
              0.8888888888888888,
              "#fdca26"
             ],
             [
              1,
              "#f0f921"
             ]
            ],
            "type": "histogram2d"
           }
          ],
          "histogram2dcontour": [
           {
            "colorbar": {
             "outlinewidth": 0,
             "ticks": ""
            },
            "colorscale": [
             [
              0,
              "#0d0887"
             ],
             [
              0.1111111111111111,
              "#46039f"
             ],
             [
              0.2222222222222222,
              "#7201a8"
             ],
             [
              0.3333333333333333,
              "#9c179e"
             ],
             [
              0.4444444444444444,
              "#bd3786"
             ],
             [
              0.5555555555555556,
              "#d8576b"
             ],
             [
              0.6666666666666666,
              "#ed7953"
             ],
             [
              0.7777777777777778,
              "#fb9f3a"
             ],
             [
              0.8888888888888888,
              "#fdca26"
             ],
             [
              1,
              "#f0f921"
             ]
            ],
            "type": "histogram2dcontour"
           }
          ],
          "mesh3d": [
           {
            "colorbar": {
             "outlinewidth": 0,
             "ticks": ""
            },
            "type": "mesh3d"
           }
          ],
          "parcoords": [
           {
            "line": {
             "colorbar": {
              "outlinewidth": 0,
              "ticks": ""
             }
            },
            "type": "parcoords"
           }
          ],
          "pie": [
           {
            "automargin": true,
            "type": "pie"
           }
          ],
          "scatter": [
           {
            "fillpattern": {
             "fillmode": "overlay",
             "size": 10,
             "solidity": 0.2
            },
            "type": "scatter"
           }
          ],
          "scatter3d": [
           {
            "line": {
             "colorbar": {
              "outlinewidth": 0,
              "ticks": ""
             }
            },
            "marker": {
             "colorbar": {
              "outlinewidth": 0,
              "ticks": ""
             }
            },
            "type": "scatter3d"
           }
          ],
          "scattercarpet": [
           {
            "marker": {
             "colorbar": {
              "outlinewidth": 0,
              "ticks": ""
             }
            },
            "type": "scattercarpet"
           }
          ],
          "scattergeo": [
           {
            "marker": {
             "colorbar": {
              "outlinewidth": 0,
              "ticks": ""
             }
            },
            "type": "scattergeo"
           }
          ],
          "scattergl": [
           {
            "marker": {
             "colorbar": {
              "outlinewidth": 0,
              "ticks": ""
             }
            },
            "type": "scattergl"
           }
          ],
          "scattermapbox": [
           {
            "marker": {
             "colorbar": {
              "outlinewidth": 0,
              "ticks": ""
             }
            },
            "type": "scattermapbox"
           }
          ],
          "scatterpolar": [
           {
            "marker": {
             "colorbar": {
              "outlinewidth": 0,
              "ticks": ""
             }
            },
            "type": "scatterpolar"
           }
          ],
          "scatterpolargl": [
           {
            "marker": {
             "colorbar": {
              "outlinewidth": 0,
              "ticks": ""
             }
            },
            "type": "scatterpolargl"
           }
          ],
          "scatterternary": [
           {
            "marker": {
             "colorbar": {
              "outlinewidth": 0,
              "ticks": ""
             }
            },
            "type": "scatterternary"
           }
          ],
          "surface": [
           {
            "colorbar": {
             "outlinewidth": 0,
             "ticks": ""
            },
            "colorscale": [
             [
              0,
              "#0d0887"
             ],
             [
              0.1111111111111111,
              "#46039f"
             ],
             [
              0.2222222222222222,
              "#7201a8"
             ],
             [
              0.3333333333333333,
              "#9c179e"
             ],
             [
              0.4444444444444444,
              "#bd3786"
             ],
             [
              0.5555555555555556,
              "#d8576b"
             ],
             [
              0.6666666666666666,
              "#ed7953"
             ],
             [
              0.7777777777777778,
              "#fb9f3a"
             ],
             [
              0.8888888888888888,
              "#fdca26"
             ],
             [
              1,
              "#f0f921"
             ]
            ],
            "type": "surface"
           }
          ],
          "table": [
           {
            "cells": {
             "fill": {
              "color": "#EBF0F8"
             },
             "line": {
              "color": "white"
             }
            },
            "header": {
             "fill": {
              "color": "#C8D4E3"
             },
             "line": {
              "color": "white"
             }
            },
            "type": "table"
           }
          ]
         },
         "layout": {
          "annotationdefaults": {
           "arrowcolor": "#2a3f5f",
           "arrowhead": 0,
           "arrowwidth": 1
          },
          "autotypenumbers": "strict",
          "coloraxis": {
           "colorbar": {
            "outlinewidth": 0,
            "ticks": ""
           }
          },
          "colorscale": {
           "diverging": [
            [
             0,
             "#8e0152"
            ],
            [
             0.1,
             "#c51b7d"
            ],
            [
             0.2,
             "#de77ae"
            ],
            [
             0.3,
             "#f1b6da"
            ],
            [
             0.4,
             "#fde0ef"
            ],
            [
             0.5,
             "#f7f7f7"
            ],
            [
             0.6,
             "#e6f5d0"
            ],
            [
             0.7,
             "#b8e186"
            ],
            [
             0.8,
             "#7fbc41"
            ],
            [
             0.9,
             "#4d9221"
            ],
            [
             1,
             "#276419"
            ]
           ],
           "sequential": [
            [
             0,
             "#0d0887"
            ],
            [
             0.1111111111111111,
             "#46039f"
            ],
            [
             0.2222222222222222,
             "#7201a8"
            ],
            [
             0.3333333333333333,
             "#9c179e"
            ],
            [
             0.4444444444444444,
             "#bd3786"
            ],
            [
             0.5555555555555556,
             "#d8576b"
            ],
            [
             0.6666666666666666,
             "#ed7953"
            ],
            [
             0.7777777777777778,
             "#fb9f3a"
            ],
            [
             0.8888888888888888,
             "#fdca26"
            ],
            [
             1,
             "#f0f921"
            ]
           ],
           "sequentialminus": [
            [
             0,
             "#0d0887"
            ],
            [
             0.1111111111111111,
             "#46039f"
            ],
            [
             0.2222222222222222,
             "#7201a8"
            ],
            [
             0.3333333333333333,
             "#9c179e"
            ],
            [
             0.4444444444444444,
             "#bd3786"
            ],
            [
             0.5555555555555556,
             "#d8576b"
            ],
            [
             0.6666666666666666,
             "#ed7953"
            ],
            [
             0.7777777777777778,
             "#fb9f3a"
            ],
            [
             0.8888888888888888,
             "#fdca26"
            ],
            [
             1,
             "#f0f921"
            ]
           ]
          },
          "colorway": [
           "#636efa",
           "#EF553B",
           "#00cc96",
           "#ab63fa",
           "#FFA15A",
           "#19d3f3",
           "#FF6692",
           "#B6E880",
           "#FF97FF",
           "#FECB52"
          ],
          "font": {
           "color": "#2a3f5f"
          },
          "geo": {
           "bgcolor": "white",
           "lakecolor": "white",
           "landcolor": "#E5ECF6",
           "showlakes": true,
           "showland": true,
           "subunitcolor": "white"
          },
          "hoverlabel": {
           "align": "left"
          },
          "hovermode": "closest",
          "mapbox": {
           "style": "light"
          },
          "paper_bgcolor": "white",
          "plot_bgcolor": "#E5ECF6",
          "polar": {
           "angularaxis": {
            "gridcolor": "white",
            "linecolor": "white",
            "ticks": ""
           },
           "bgcolor": "#E5ECF6",
           "radialaxis": {
            "gridcolor": "white",
            "linecolor": "white",
            "ticks": ""
           }
          },
          "scene": {
           "xaxis": {
            "backgroundcolor": "#E5ECF6",
            "gridcolor": "white",
            "gridwidth": 2,
            "linecolor": "white",
            "showbackground": true,
            "ticks": "",
            "zerolinecolor": "white"
           },
           "yaxis": {
            "backgroundcolor": "#E5ECF6",
            "gridcolor": "white",
            "gridwidth": 2,
            "linecolor": "white",
            "showbackground": true,
            "ticks": "",
            "zerolinecolor": "white"
           },
           "zaxis": {
            "backgroundcolor": "#E5ECF6",
            "gridcolor": "white",
            "gridwidth": 2,
            "linecolor": "white",
            "showbackground": true,
            "ticks": "",
            "zerolinecolor": "white"
           }
          },
          "shapedefaults": {
           "line": {
            "color": "#2a3f5f"
           }
          },
          "ternary": {
           "aaxis": {
            "gridcolor": "white",
            "linecolor": "white",
            "ticks": ""
           },
           "baxis": {
            "gridcolor": "white",
            "linecolor": "white",
            "ticks": ""
           },
           "bgcolor": "#E5ECF6",
           "caxis": {
            "gridcolor": "white",
            "linecolor": "white",
            "ticks": ""
           }
          },
          "title": {
           "x": 0.05
          },
          "xaxis": {
           "automargin": true,
           "gridcolor": "white",
           "linecolor": "white",
           "ticks": "",
           "title": {
            "standoff": 15
           },
           "zerolinecolor": "white",
           "zerolinewidth": 2
          },
          "yaxis": {
           "automargin": true,
           "gridcolor": "white",
           "linecolor": "white",
           "ticks": "",
           "title": {
            "standoff": 15
           },
           "zerolinecolor": "white",
           "zerolinewidth": 2
          }
         }
        },
        "title": {
         "text": "Distribution of the Total Price"
        },
        "xaxis": {
         "anchor": "y",
         "domain": [
          0,
          1
         ],
         "title": {
          "text": "total_price"
         }
        },
        "yaxis": {
         "anchor": "x",
         "domain": [
          0,
          1
         ],
         "title": {
          "text": "count"
         }
        }
       }
      }
     },
     "metadata": {},
     "output_type": "display_data"
    }
   ],
   "source": [
    "# Let's have a look at the distribution of the prices of the products\n",
    "fig = px.histogram(data, \n",
    "                   x=\"total_price\",\n",
    "                   nbins=20,\n",
    "                   title=\"Distribution of the Total Price\")\n",
    "fig.show()"
   ]
  },
  {
   "cell_type": "code",
   "execution_count": 22,
   "metadata": {},
   "outputs": [
    {
     "data": {
      "application/vnd.plotly.v1+json": {
       "config": {
        "plotlyServerURL": "https://plot.ly"
       },
       "data": [
        {
         "alignmentgroup": "True",
         "hovertemplate": "unit_price=%{x}<extra></extra>",
         "legendgroup": "",
         "marker": {
          "color": "#636efa"
         },
         "name": "",
         "notched": false,
         "offsetgroup": "",
         "orientation": "h",
         "showlegend": false,
         "type": "box",
         "x": [
          45.95,
          45.95,
          45.95,
          45.95,
          45.95,
          45.95,
          40.53181818,
          39.99,
          39.99,
          39.99,
          39.99,
          39.99,
          39.99,
          39.99,
          39.99,
          39.24,
          69.9,
          82.63333333,
          97.58823529,
          89,
          89,
          97.33333333,
          99,
          99,
          99,
          99,
          99.5,
          101,
          101,
          101,
          19.9,
          19.9,
          19.9,
          21.54285714,
          24.5,
          24.5,
          32.5,
          32.5,
          35.05714286,
          36.2,
          36.2,
          36.2,
          59.9,
          59.9,
          59.9,
          59.9,
          59.9,
          59.9,
          51.32222222,
          56.97777778,
          49.9,
          51.4,
          53.9,
          53.9,
          52.9,
          49.9,
          49.9,
          49.9,
          19.99,
          19.99,
          19.99,
          19.99,
          19.99,
          19.99,
          23.39740741,
          23.99,
          23.99,
          23.99,
          23.99,
          23.99,
          23.99,
          23.99,
          23.99,
          23.99,
          23.99,
          23.99,
          134.99,
          134.99,
          146.99,
          157.3603704,
          166.99,
          166.99,
          176.99,
          173.8081818,
          169.99,
          110.99,
          110.99,
          110.99,
          116.5284615,
          119.99,
          122.99,
          122.99,
          122.99,
          56.99,
          56.99,
          56.99,
          56.99,
          56.99,
          56.99,
          56.99,
          56.99,
          56.99,
          50.49,
          49.99,
          49.99,
          49.99,
          99.99,
          99.99,
          99.99,
          99.99,
          99.99,
          99.99,
          99.99,
          99.99,
          99.99,
          99.99,
          99.99,
          97.952,
          84.6925,
          89.99,
          89.99,
          89.99,
          89.99,
          89.99,
          89.99,
          89.99,
          89.99,
          89.99,
          89.99,
          89.99,
          83.74,
          79.99,
          79.99,
          79.99,
          79.99,
          82.82142857,
          59.9,
          59.9,
          59.9,
          59.9,
          53.78571429,
          55.75,
          49.9,
          50.35714286,
          53.9,
          53.9,
          53.05789474,
          49.9,
          49.9,
          49.9,
          167,
          119.9,
          93.09489362,
          77.155,
          88,
          88,
          89.9,
          78.9,
          59.9,
          59.9,
          59.9,
          59.9,
          59.9,
          59.9,
          53.64828125,
          55.425,
          49.9,
          50.9,
          53.9,
          53.9,
          53.70952381,
          49.9,
          49.9,
          49.9,
          150.3545455,
          149.9,
          149.9,
          149.9,
          149.9,
          149.9,
          149.9,
          149.9,
          61.99,
          61.99,
          64.99,
          64.99,
          66.99,
          66.99,
          66.99,
          59.9,
          59.9,
          59.9,
          59.9,
          59.9,
          59.9,
          52.40694444,
          55.1,
          49.9,
          50.54516129,
          53.9,
          53.9,
          53.41515152,
          49.9,
          49.91,
          49.91,
          47.35789474,
          48.45944444,
          53.70176471,
          52.06928571,
          49.98,
          51.512,
          50.71,
          157.99,
          171.792,
          169.9,
          160.4,
          149.475,
          140.56,
          149,
          148.5,
          145.9942857,
          123.9666667,
          119.19,
          118.1318182,
          139.9,
          138.98,
          138,
          84.99,
          84.99,
          84.99,
          84.99,
          84.99,
          84.99,
          84.99,
          84.99,
          84.99,
          179.99,
          179.99,
          179.99,
          179.99,
          179.99,
          183.99,
          187.8542857,
          179,
          175.1538462,
          179,
          179,
          159,
          139,
          139,
          59.9,
          59.9,
          59.9,
          59.9,
          59.9,
          59.9,
          59.9,
          53.37910448,
          55.77096774,
          49.9,
          51.025,
          53.9,
          53.9,
          52.56666667,
          49.9,
          49.9,
          49.9,
          163,
          161.5909091,
          160.6692308,
          148.7785714,
          134.9,
          133,
          149,
          128.2416667,
          117.4412903,
          105.648625,
          103.7925234,
          119,
          118.3636364,
          112,
          29.5,
          29.5,
          35,
          35,
          35,
          65,
          65,
          142.5,
          142.5,
          142.5,
          118.05,
          118,
          117.9,
          117.8888889,
          117.7,
          117.975,
          119.9,
          119.1785714,
          118.7,
          116.9066667,
          129.99,
          129.99,
          129.99,
          129.99,
          129.99,
          116.9275,
          119.99,
          129.99,
          129.99,
          129.99,
          129.99,
          129.99,
          129.99,
          94.9,
          100.9,
          109.9,
          109.9,
          98.9,
          98.9,
          98.9,
          98.9,
          90.534,
          84.75608696,
          87.5,
          94,
          73,
          66.34214286,
          79.9,
          19.9,
          19.9,
          19.9,
          20.66666667,
          24.5,
          24.5,
          27.03333333,
          32.5,
          32.74285714,
          34.2,
          349.9,
          349.9,
          349.9,
          349.9,
          349.9,
          349.9,
          349.9,
          349.9,
          349.9,
          349.9,
          322.1363636,
          349.9,
          349.9,
          349.9,
          349.9,
          349.9,
          352.25,
          364,
          364,
          364,
          239.9,
          239.9,
          229.9,
          204.6181818,
          167.5,
          150.3423077,
          145.1666667,
          152.6333333,
          157.1428571,
          157.9454545,
          99.9,
          99.9,
          99.9,
          99.9,
          99.9,
          99.9,
          99.9,
          99.9,
          78.53571429,
          83.83333333,
          229.9,
          219.06,
          216.15,
          203.2909091,
          224.5428571,
          220.77,
          205.6857143,
          216.1875,
          204.3846154,
          199,
          64.99,
          64.99,
          64.99,
          64.99,
          64.99,
          58.79952381,
          59.25666667,
          58.99,
          58.99,
          58.99,
          58.99,
          58.99,
          58.99,
          58.99,
          58.99,
          58.99,
          58.99,
          58.99,
          58.99,
          58.99,
          99,
          99,
          99,
          98.3,
          92,
          92,
          90.875,
          88.24,
          84.9,
          84.9,
          84.9,
          99.99,
          99.99,
          96.65666667,
          109.99,
          119.99,
          120,
          104.25,
          92.594,
          89.99,
          89.99,
          123.3316667,
          120,
          113.3333333,
          110,
          110,
          96.65666667,
          99.99,
          99.99,
          89.9,
          89.9,
          89.9,
          89.9,
          89.9,
          89.9,
          89.9,
          89.9,
          89.9,
          89.9,
          88.48823529,
          86.9,
          86.9,
          86.9,
          85.045,
          83.64961538,
          79.9,
          77.93333333,
          74,
          38.4,
          38.4,
          38.4,
          34.58117647,
          38.4,
          38.4,
          38.4,
          35.48571429,
          35,
          35,
          35,
          35,
          108,
          108,
          108,
          108,
          105.6428571,
          105,
          105,
          105,
          105,
          105,
          78,
          78,
          78,
          78,
          78,
          78,
          78,
          78,
          78,
          78,
          78,
          78,
          78,
          78,
          77.82142857,
          75,
          75,
          75,
          75,
          75,
          69.9953271,
          69.9,
          69.9,
          69.9,
          69.9,
          89.9,
          89.9,
          103.2333333,
          59.9,
          59.9,
          59.9,
          59.9,
          59.9,
          59.9,
          59.9,
          54.45,
          49.9,
          49.9,
          51.23333333,
          53.9,
          53.9,
          49.9,
          49.9,
          49.9,
          49.9,
          38.4,
          38.4,
          38.4,
          38.4,
          36.85428571,
          38.4,
          38.4,
          35.48571429,
          35,
          35,
          35,
          35,
          35,
          325,
          325,
          325,
          325,
          325,
          325,
          325,
          325.8928571,
          330,
          330,
          330,
          330,
          330,
          99.99,
          99.99,
          109.99,
          109.99,
          120,
          120,
          102.5,
          95.29,
          89.99,
          89.99,
          127.7272727,
          120,
          110,
          110,
          110,
          89.99,
          99.99,
          98.32333333,
          85.70428571,
          99.99,
          99.99,
          99.99,
          99.99,
          99.99,
          99.99,
          99.99,
          99.99,
          99.99,
          99.99,
          99.99,
          99.99,
          99.99,
          89.86333333,
          159.99,
          159.99,
          139.99,
          159.99,
          139.99,
          145.7042857,
          151.99,
          154.6958824,
          149.99,
          149.99,
          156.5113514,
          149,
          136.1428571,
          120.9230769,
          119,
          114.4911538,
          119.99,
          119.99,
          339,
          339,
          346.158,
          345.7066667,
          348.8,
          339.9,
          347,
          307.8333333,
          280.6666667,
          258.9695652,
          245.9,
          169.3493182,
          178.0571429,
          149.8525,
          146.6,
          144.96,
          138.59,
          137.9,
          137.9,
          134.9,
          133,
          132.97,
          29.9,
          29.9,
          29.9,
          29.9,
          29.9,
          29.9,
          29.9,
          29.9,
          29.9,
          29.9,
          29.9,
          241.006,
          255.61,
          185,
          197.383,
          179.9,
          164.57,
          232.49,
          174.4333333,
          185.96,
          199,
          182,
          151.8784375,
          150.1333333,
          132.53125,
          138.22,
          155,
          145.5509091,
          109.9,
          109.9,
          97.6425,
          78.7122807,
          81.02391304,
          80.66666667,
          79.8,
          78.9,
          77.9,
          77.9,
          45.9,
          44.15444444,
          45.9,
          45.9,
          45.9,
          47.9,
          47.9,
          47.9,
          47.9,
          47.9,
          215,
          209,
          205,
          199.5098039,
          163.3987097
         ],
         "x0": " ",
         "xaxis": "x",
         "y0": " ",
         "yaxis": "y"
        }
       ],
       "layout": {
        "boxmode": "group",
        "legend": {
         "tracegroupgap": 0
        },
        "template": {
         "data": {
          "bar": [
           {
            "error_x": {
             "color": "#2a3f5f"
            },
            "error_y": {
             "color": "#2a3f5f"
            },
            "marker": {
             "line": {
              "color": "#E5ECF6",
              "width": 0.5
             },
             "pattern": {
              "fillmode": "overlay",
              "size": 10,
              "solidity": 0.2
             }
            },
            "type": "bar"
           }
          ],
          "barpolar": [
           {
            "marker": {
             "line": {
              "color": "#E5ECF6",
              "width": 0.5
             },
             "pattern": {
              "fillmode": "overlay",
              "size": 10,
              "solidity": 0.2
             }
            },
            "type": "barpolar"
           }
          ],
          "carpet": [
           {
            "aaxis": {
             "endlinecolor": "#2a3f5f",
             "gridcolor": "white",
             "linecolor": "white",
             "minorgridcolor": "white",
             "startlinecolor": "#2a3f5f"
            },
            "baxis": {
             "endlinecolor": "#2a3f5f",
             "gridcolor": "white",
             "linecolor": "white",
             "minorgridcolor": "white",
             "startlinecolor": "#2a3f5f"
            },
            "type": "carpet"
           }
          ],
          "choropleth": [
           {
            "colorbar": {
             "outlinewidth": 0,
             "ticks": ""
            },
            "type": "choropleth"
           }
          ],
          "contour": [
           {
            "colorbar": {
             "outlinewidth": 0,
             "ticks": ""
            },
            "colorscale": [
             [
              0,
              "#0d0887"
             ],
             [
              0.1111111111111111,
              "#46039f"
             ],
             [
              0.2222222222222222,
              "#7201a8"
             ],
             [
              0.3333333333333333,
              "#9c179e"
             ],
             [
              0.4444444444444444,
              "#bd3786"
             ],
             [
              0.5555555555555556,
              "#d8576b"
             ],
             [
              0.6666666666666666,
              "#ed7953"
             ],
             [
              0.7777777777777778,
              "#fb9f3a"
             ],
             [
              0.8888888888888888,
              "#fdca26"
             ],
             [
              1,
              "#f0f921"
             ]
            ],
            "type": "contour"
           }
          ],
          "contourcarpet": [
           {
            "colorbar": {
             "outlinewidth": 0,
             "ticks": ""
            },
            "type": "contourcarpet"
           }
          ],
          "heatmap": [
           {
            "colorbar": {
             "outlinewidth": 0,
             "ticks": ""
            },
            "colorscale": [
             [
              0,
              "#0d0887"
             ],
             [
              0.1111111111111111,
              "#46039f"
             ],
             [
              0.2222222222222222,
              "#7201a8"
             ],
             [
              0.3333333333333333,
              "#9c179e"
             ],
             [
              0.4444444444444444,
              "#bd3786"
             ],
             [
              0.5555555555555556,
              "#d8576b"
             ],
             [
              0.6666666666666666,
              "#ed7953"
             ],
             [
              0.7777777777777778,
              "#fb9f3a"
             ],
             [
              0.8888888888888888,
              "#fdca26"
             ],
             [
              1,
              "#f0f921"
             ]
            ],
            "type": "heatmap"
           }
          ],
          "heatmapgl": [
           {
            "colorbar": {
             "outlinewidth": 0,
             "ticks": ""
            },
            "colorscale": [
             [
              0,
              "#0d0887"
             ],
             [
              0.1111111111111111,
              "#46039f"
             ],
             [
              0.2222222222222222,
              "#7201a8"
             ],
             [
              0.3333333333333333,
              "#9c179e"
             ],
             [
              0.4444444444444444,
              "#bd3786"
             ],
             [
              0.5555555555555556,
              "#d8576b"
             ],
             [
              0.6666666666666666,
              "#ed7953"
             ],
             [
              0.7777777777777778,
              "#fb9f3a"
             ],
             [
              0.8888888888888888,
              "#fdca26"
             ],
             [
              1,
              "#f0f921"
             ]
            ],
            "type": "heatmapgl"
           }
          ],
          "histogram": [
           {
            "marker": {
             "pattern": {
              "fillmode": "overlay",
              "size": 10,
              "solidity": 0.2
             }
            },
            "type": "histogram"
           }
          ],
          "histogram2d": [
           {
            "colorbar": {
             "outlinewidth": 0,
             "ticks": ""
            },
            "colorscale": [
             [
              0,
              "#0d0887"
             ],
             [
              0.1111111111111111,
              "#46039f"
             ],
             [
              0.2222222222222222,
              "#7201a8"
             ],
             [
              0.3333333333333333,
              "#9c179e"
             ],
             [
              0.4444444444444444,
              "#bd3786"
             ],
             [
              0.5555555555555556,
              "#d8576b"
             ],
             [
              0.6666666666666666,
              "#ed7953"
             ],
             [
              0.7777777777777778,
              "#fb9f3a"
             ],
             [
              0.8888888888888888,
              "#fdca26"
             ],
             [
              1,
              "#f0f921"
             ]
            ],
            "type": "histogram2d"
           }
          ],
          "histogram2dcontour": [
           {
            "colorbar": {
             "outlinewidth": 0,
             "ticks": ""
            },
            "colorscale": [
             [
              0,
              "#0d0887"
             ],
             [
              0.1111111111111111,
              "#46039f"
             ],
             [
              0.2222222222222222,
              "#7201a8"
             ],
             [
              0.3333333333333333,
              "#9c179e"
             ],
             [
              0.4444444444444444,
              "#bd3786"
             ],
             [
              0.5555555555555556,
              "#d8576b"
             ],
             [
              0.6666666666666666,
              "#ed7953"
             ],
             [
              0.7777777777777778,
              "#fb9f3a"
             ],
             [
              0.8888888888888888,
              "#fdca26"
             ],
             [
              1,
              "#f0f921"
             ]
            ],
            "type": "histogram2dcontour"
           }
          ],
          "mesh3d": [
           {
            "colorbar": {
             "outlinewidth": 0,
             "ticks": ""
            },
            "type": "mesh3d"
           }
          ],
          "parcoords": [
           {
            "line": {
             "colorbar": {
              "outlinewidth": 0,
              "ticks": ""
             }
            },
            "type": "parcoords"
           }
          ],
          "pie": [
           {
            "automargin": true,
            "type": "pie"
           }
          ],
          "scatter": [
           {
            "fillpattern": {
             "fillmode": "overlay",
             "size": 10,
             "solidity": 0.2
            },
            "type": "scatter"
           }
          ],
          "scatter3d": [
           {
            "line": {
             "colorbar": {
              "outlinewidth": 0,
              "ticks": ""
             }
            },
            "marker": {
             "colorbar": {
              "outlinewidth": 0,
              "ticks": ""
             }
            },
            "type": "scatter3d"
           }
          ],
          "scattercarpet": [
           {
            "marker": {
             "colorbar": {
              "outlinewidth": 0,
              "ticks": ""
             }
            },
            "type": "scattercarpet"
           }
          ],
          "scattergeo": [
           {
            "marker": {
             "colorbar": {
              "outlinewidth": 0,
              "ticks": ""
             }
            },
            "type": "scattergeo"
           }
          ],
          "scattergl": [
           {
            "marker": {
             "colorbar": {
              "outlinewidth": 0,
              "ticks": ""
             }
            },
            "type": "scattergl"
           }
          ],
          "scattermapbox": [
           {
            "marker": {
             "colorbar": {
              "outlinewidth": 0,
              "ticks": ""
             }
            },
            "type": "scattermapbox"
           }
          ],
          "scatterpolar": [
           {
            "marker": {
             "colorbar": {
              "outlinewidth": 0,
              "ticks": ""
             }
            },
            "type": "scatterpolar"
           }
          ],
          "scatterpolargl": [
           {
            "marker": {
             "colorbar": {
              "outlinewidth": 0,
              "ticks": ""
             }
            },
            "type": "scatterpolargl"
           }
          ],
          "scatterternary": [
           {
            "marker": {
             "colorbar": {
              "outlinewidth": 0,
              "ticks": ""
             }
            },
            "type": "scatterternary"
           }
          ],
          "surface": [
           {
            "colorbar": {
             "outlinewidth": 0,
             "ticks": ""
            },
            "colorscale": [
             [
              0,
              "#0d0887"
             ],
             [
              0.1111111111111111,
              "#46039f"
             ],
             [
              0.2222222222222222,
              "#7201a8"
             ],
             [
              0.3333333333333333,
              "#9c179e"
             ],
             [
              0.4444444444444444,
              "#bd3786"
             ],
             [
              0.5555555555555556,
              "#d8576b"
             ],
             [
              0.6666666666666666,
              "#ed7953"
             ],
             [
              0.7777777777777778,
              "#fb9f3a"
             ],
             [
              0.8888888888888888,
              "#fdca26"
             ],
             [
              1,
              "#f0f921"
             ]
            ],
            "type": "surface"
           }
          ],
          "table": [
           {
            "cells": {
             "fill": {
              "color": "#EBF0F8"
             },
             "line": {
              "color": "white"
             }
            },
            "header": {
             "fill": {
              "color": "#C8D4E3"
             },
             "line": {
              "color": "white"
             }
            },
            "type": "table"
           }
          ]
         },
         "layout": {
          "annotationdefaults": {
           "arrowcolor": "#2a3f5f",
           "arrowhead": 0,
           "arrowwidth": 1
          },
          "autotypenumbers": "strict",
          "coloraxis": {
           "colorbar": {
            "outlinewidth": 0,
            "ticks": ""
           }
          },
          "colorscale": {
           "diverging": [
            [
             0,
             "#8e0152"
            ],
            [
             0.1,
             "#c51b7d"
            ],
            [
             0.2,
             "#de77ae"
            ],
            [
             0.3,
             "#f1b6da"
            ],
            [
             0.4,
             "#fde0ef"
            ],
            [
             0.5,
             "#f7f7f7"
            ],
            [
             0.6,
             "#e6f5d0"
            ],
            [
             0.7,
             "#b8e186"
            ],
            [
             0.8,
             "#7fbc41"
            ],
            [
             0.9,
             "#4d9221"
            ],
            [
             1,
             "#276419"
            ]
           ],
           "sequential": [
            [
             0,
             "#0d0887"
            ],
            [
             0.1111111111111111,
             "#46039f"
            ],
            [
             0.2222222222222222,
             "#7201a8"
            ],
            [
             0.3333333333333333,
             "#9c179e"
            ],
            [
             0.4444444444444444,
             "#bd3786"
            ],
            [
             0.5555555555555556,
             "#d8576b"
            ],
            [
             0.6666666666666666,
             "#ed7953"
            ],
            [
             0.7777777777777778,
             "#fb9f3a"
            ],
            [
             0.8888888888888888,
             "#fdca26"
            ],
            [
             1,
             "#f0f921"
            ]
           ],
           "sequentialminus": [
            [
             0,
             "#0d0887"
            ],
            [
             0.1111111111111111,
             "#46039f"
            ],
            [
             0.2222222222222222,
             "#7201a8"
            ],
            [
             0.3333333333333333,
             "#9c179e"
            ],
            [
             0.4444444444444444,
             "#bd3786"
            ],
            [
             0.5555555555555556,
             "#d8576b"
            ],
            [
             0.6666666666666666,
             "#ed7953"
            ],
            [
             0.7777777777777778,
             "#fb9f3a"
            ],
            [
             0.8888888888888888,
             "#fdca26"
            ],
            [
             1,
             "#f0f921"
            ]
           ]
          },
          "colorway": [
           "#636efa",
           "#EF553B",
           "#00cc96",
           "#ab63fa",
           "#FFA15A",
           "#19d3f3",
           "#FF6692",
           "#B6E880",
           "#FF97FF",
           "#FECB52"
          ],
          "font": {
           "color": "#2a3f5f"
          },
          "geo": {
           "bgcolor": "white",
           "lakecolor": "white",
           "landcolor": "#E5ECF6",
           "showlakes": true,
           "showland": true,
           "subunitcolor": "white"
          },
          "hoverlabel": {
           "align": "left"
          },
          "hovermode": "closest",
          "mapbox": {
           "style": "light"
          },
          "paper_bgcolor": "white",
          "plot_bgcolor": "#E5ECF6",
          "polar": {
           "angularaxis": {
            "gridcolor": "white",
            "linecolor": "white",
            "ticks": ""
           },
           "bgcolor": "#E5ECF6",
           "radialaxis": {
            "gridcolor": "white",
            "linecolor": "white",
            "ticks": ""
           }
          },
          "scene": {
           "xaxis": {
            "backgroundcolor": "#E5ECF6",
            "gridcolor": "white",
            "gridwidth": 2,
            "linecolor": "white",
            "showbackground": true,
            "ticks": "",
            "zerolinecolor": "white"
           },
           "yaxis": {
            "backgroundcolor": "#E5ECF6",
            "gridcolor": "white",
            "gridwidth": 2,
            "linecolor": "white",
            "showbackground": true,
            "ticks": "",
            "zerolinecolor": "white"
           },
           "zaxis": {
            "backgroundcolor": "#E5ECF6",
            "gridcolor": "white",
            "gridwidth": 2,
            "linecolor": "white",
            "showbackground": true,
            "ticks": "",
            "zerolinecolor": "white"
           }
          },
          "shapedefaults": {
           "line": {
            "color": "#2a3f5f"
           }
          },
          "ternary": {
           "aaxis": {
            "gridcolor": "white",
            "linecolor": "white",
            "ticks": ""
           },
           "baxis": {
            "gridcolor": "white",
            "linecolor": "white",
            "ticks": ""
           },
           "bgcolor": "#E5ECF6",
           "caxis": {
            "gridcolor": "white",
            "linecolor": "white",
            "ticks": ""
           }
          },
          "title": {
           "x": 0.05
          },
          "xaxis": {
           "automargin": true,
           "gridcolor": "white",
           "linecolor": "white",
           "ticks": "",
           "title": {
            "standoff": 15
           },
           "zerolinecolor": "white",
           "zerolinewidth": 2
          },
          "yaxis": {
           "automargin": true,
           "gridcolor": "white",
           "linecolor": "white",
           "ticks": "",
           "title": {
            "standoff": 15
           },
           "zerolinecolor": "white",
           "zerolinewidth": 2
          }
         }
        },
        "title": {
         "text": "Distributin of the Total Price"
        },
        "xaxis": {
         "anchor": "y",
         "domain": [
          0,
          1
         ],
         "title": {
          "text": "unit_price"
         }
        },
        "yaxis": {
         "anchor": "x",
         "domain": [
          0,
          1
         ]
        }
       }
      }
     },
     "metadata": {},
     "output_type": "display_data"
    }
   ],
   "source": [
    "# Let's have a look at the distribution of the unit_price using box plot\n",
    "fig = px.box(data,\n",
    "                   x=\"unit_price\",\n",
    "                   title=\"Distributin of the Total Price\")\n",
    "fig.show()"
   ]
  },
  {
   "cell_type": "code",
   "execution_count": 40,
   "metadata": {},
   "outputs": [
    {
     "data": {
      "application/vnd.plotly.v1+json": {
       "config": {
        "plotlyServerURL": "https://plot.ly"
       },
       "data": [
        {
         "hovertemplate": "total_price=%{x}<br>qty=%{y}<extra></extra>",
         "legendgroup": "",
         "marker": {
          "color": "green",
          "size": 5,
          "symbol": "circle"
         },
         "mode": "markers",
         "name": "",
         "orientation": "v",
         "showlegend": false,
         "type": "scatter",
         "x": [
          45.95,
          137.85,
          275.7,
          183.8,
          91.9,
          137.85,
          445.85,
          239.94,
          759.81,
          719.82,
          679.83,
          519.87,
          759.81,
          199.95,
          319.92,
          313.92,
          419.4,
          247.9,
          1956,
          712,
          890,
          683,
          891,
          1386,
          1683,
          1089,
          398,
          202,
          101,
          101,
          258.7,
          477.6,
          179.1,
          603.2,
          686,
          392,
          162.5,
          195,
          245.4,
          108.6,
          72.4,
          36.2,
          59.9,
          59.9,
          239.6,
          359.4,
          299.5,
          658.9,
          1043.6,
          571.8,
          548.9,
          411.2,
          161.7,
          431.2,
          477.1,
          249.5,
          299.4,
          349.3,
          219.89,
          179.91,
          259.87,
          319.84,
          419.79,
          579.71,
          651.72,
          575.76,
          647.73,
          671.72,
          455.81,
          455.81,
          335.86,
          191.92,
          167.93,
          71.97,
          71.97,
          47.98,
          134.99,
          134.99,
          1763.88,
          4248.73,
          4842.71,
          2170.87,
          1415.92,
          1911.89,
          1019.94,
          110.99,
          221.98,
          998.91,
          1514.87,
          2759.77,
          5288.57,
          4058.67,
          3935.68,
          227.96,
          398.93,
          398.93,
          968.83,
          968.83,
          1139.8,
          1367.76,
          569.9,
          227.96,
          706.86,
          99.98,
          399.92,
          199.96,
          199.98,
          1799.82,
          1099.89,
          1399.86,
          799.92,
          599.94,
          899.91,
          199.98,
          299.97,
          599.94,
          899.91,
          489.76,
          338.77,
          539.94,
          539.94,
          809.91,
          1529.83,
          1619.82,
          1889.79,
          2159.76,
          2339.74,
          1709.81,
          1799.8,
          1529.83,
          1339.84,
          1119.86,
          1279.84,
          1039.87,
          799.9,
          579.75,
          778.7,
          1377.7,
          778.7,
          2156.4,
          3711.7,
          2468.6,
          1946.1,
          2411.2,
          1401.4,
          1509.2,
          1319.5,
          748.5,
          149.7,
          299.4,
          167,
          239.8,
          5453.96,
          3465.8,
          528,
          880,
          269.7,
          236.7,
          179.7,
          179.7,
          1138.1,
          1617.3,
          1018.3,
          1856.9,
          4712.19,
          1769.7,
          1447.1,
          1828.4,
          1886.5,
          700.7,
          1559.1,
          299.4,
          698.6,
          499,
          3307.8,
          10343.1,
          7644.9,
          5246.5,
          7794.8,
          4047.3,
          1948.7,
          749.5,
          185.97,
          805.87,
          974.85,
          2469.62,
          1741.74,
          1808.73,
          1875.72,
          239.6,
          59.9,
          838.6,
          2336.1,
          2216.3,
          2336.1,
          4769.7,
          2881.6,
          598.8,
          1970.1,
          1670.9,
          2479.4,
          2982.4,
          598.8,
          299.46,
          299.46,
          994.04,
          2809.65,
          965.91,
          1723.08,
          449.82,
          257.56,
          557.85,
          789.95,
          1016.95,
          849.5,
          1604,
          2391.6,
          3660,
          894,
          1188,
          2043.92,
          1115.7,
          1191.9,
          2598.9,
          139.9,
          694.9,
          414,
          254.97,
          339.96,
          254.97,
          3059.64,
          4249.5,
          1104.87,
          594.93,
          339.96,
          169.98,
          179.99,
          539.97,
          359.98,
          1079.94,
          2339.87,
          2759.85,
          2629.96,
          2148,
          2277,
          1969,
          537,
          1590,
          1112,
          973,
          179.7,
          419.3,
          239.6,
          1138.1,
          1257.9,
          1377.7,
          1138.1,
          4397.7,
          2232.6,
          1247.5,
          2247.6,
          1347.5,
          1078,
          888.3,
          399.2,
          449.1,
          349.3,
          652,
          1777.5,
          2088.7,
          2762.5,
          134.9,
          1995,
          596,
          769.45,
          3640.68,
          8961.49,
          11820.2,
          1071,
          1302,
          112,
          29.5,
          2242,
          910,
          140,
          140,
          130,
          65,
          142.5,
          142.5,
          285,
          944.4,
          1416,
          707.4,
          1296.8,
          470.8,
          943.8,
          2038.3,
          1668.5,
          593.5,
          1987.4,
          1039.92,
          1819.86,
          2339.82,
          2209.83,
          2079.84,
          1870.84,
          1199.9,
          1169.91,
          389.97,
          519.96,
          259.98,
          129.99,
          129.99,
          379.6,
          611.4,
          1099,
          219.8,
          395.6,
          395.6,
          593.4,
          98.9,
          2795.14,
          2537.19,
          1139.8,
          470,
          292,
          1199.48,
          79.9,
          19.9,
          218.9,
          179.1,
          248,
          563.5,
          416.5,
          271.2,
          32.5,
          229.2,
          205.2,
          2799.2,
          1399.6,
          699.8,
          349.9,
          1399.6,
          699.8,
          349.9,
          2449.3,
          2449.3,
          3499,
          3543.5,
          2449.3,
          4198.8,
          5248.5,
          5948.3,
          2449.3,
          3513.1,
          4004,
          4004,
          3276,
          479.8,
          479.8,
          459.8,
          2250.8,
          2680,
          3908.9,
          4355,
          457.9,
          2200,
          1737.4,
          99.9,
          299.7,
          1298.7,
          1298.7,
          1198.8,
          1298.7,
          1298.7,
          999,
          1099.5,
          754.5,
          1839.2,
          2190.6,
          1729.2,
          2395.2,
          6287.2,
          2207.7,
          4319.4,
          3459,
          2657,
          3383,
          64.99,
          324.95,
          584.91,
          584.91,
          1039.84,
          1234.79,
          888.85,
          1297.78,
          1474.75,
          1120.81,
          1415.76,
          530.91,
          353.94,
          825.86,
          589.9,
          648.89,
          235.96,
          353.94,
          117.98,
          176.97,
          792,
          2178,
          693,
          1082,
          1196,
          276,
          815,
          1235.36,
          1188.6,
          764.1,
          84.9,
          99.99,
          1099.89,
          759.92,
          219.98,
          239.98,
          240,
          417,
          1105.92,
          1889.79,
          1259.86,
          1479.98,
          1680,
          680,
          770,
          880,
          969.9,
          499.95,
          199.98,
          179.8,
          1977.8,
          3056.6,
          5214.2,
          4584.9,
          5394,
          3326.3,
          2067.7,
          1258.6,
          3596,
          1594.2,
          1477.3,
          1911.8,
          1477.3,
          510.27,
          2174.89,
          1837.7,
          781.3,
          518,
          38.4,
          230.4,
          307.2,
          1170.35,
          153.6,
          576,
          153.6,
          493.4,
          140,
          140,
          70,
          35,
          1404,
          1404,
          4752,
          3564,
          2214,
          2205,
          3885,
          2940,
          840,
          735,
          78,
          234,
          78,
          390,
          234,
          156,
          468,
          702,
          78,
          78,
          1248,
          390,
          3042,
          3120,
          2179,
          375,
          975,
          375,
          3300,
          3525,
          8538,
          3075.6,
          4543.5,
          5801.7,
          6430.8,
          179.8,
          179.8,
          309.7,
          299.5,
          119.8,
          299.5,
          898.5,
          1138.1,
          2036.6,
          778.7,
          495.5,
          49.9,
          49.9,
          203.6,
          107.8,
          107.8,
          199.6,
          249.5,
          149.7,
          149.7,
          38.4,
          307.2,
          460.8,
          960,
          1026.51,
          76.8,
          345.6,
          601.8,
          595,
          385,
          455,
          350,
          560,
          1950,
          3575,
          650,
          3900,
          1950,
          3250,
          7475,
          9125,
          6930,
          6270,
          5280,
          4290,
          9240,
          99.99,
          499.95,
          439.96,
          659.94,
          120,
          240,
          735,
          1619.93,
          2519.72,
          2429.73,
          1405,
          840,
          660,
          550,
          220,
          539.94,
          699.93,
          589.94,
          599.93,
          1399.86,
          1699.83,
          2199.78,
          1399.86,
          1099.89,
          1399.86,
          299.97,
          199.98,
          399.96,
          299.97,
          299.97,
          99.99,
          199.98,
          269.59,
          479.97,
          479.97,
          699.95,
          479.97,
          839.94,
          1019.93,
          1679.89,
          2629.83,
          2699.82,
          3449.77,
          6746.9,
          4619,
          5986,
          6764,
          2975,
          3086.76,
          1079.91,
          1199.9,
          678,
          339,
          3461.58,
          3111.36,
          3836.8,
          339.9,
          1735,
          1847,
          1684,
          5956.3,
          983.6,
          7651.27,
          2715.7,
          2247.72,
          584.77,
          1884.45,
          1656.87,
          2206.4,
          2482.2,
          269.8,
          665,
          398.91,
          29.9,
          179.4,
          179.4,
          448.5,
          478.4,
          328.9,
          657.8,
          657.8,
          209.3,
          538.2,
          388.7,
          1205.03,
          766.83,
          925,
          1973.83,
          2698.5,
          3291.4,
          929.96,
          3139.8,
          929.8,
          398,
          1092,
          4860.11,
          1351.2,
          4241,
          2073.3,
          310,
          1601.06,
          109.9,
          1318.8,
          2831.55,
          5581.8,
          2187.3,
          1042.9,
          876.9,
          789,
          545.3,
          155.8,
          1331.1,
          1421.67,
          550.8,
          872.1,
          734.4,
          383.2,
          335.3,
          95.8,
          191.6,
          95.8,
          215,
          2090,
          12095,
          10375,
          5222.36
         ],
         "xaxis": "x",
         "y": [
          1,
          3,
          6,
          4,
          2,
          3,
          11,
          6,
          19,
          18,
          17,
          13,
          19,
          5,
          8,
          8,
          6,
          3,
          20,
          8,
          10,
          7,
          9,
          14,
          17,
          11,
          4,
          2,
          1,
          1,
          13,
          24,
          9,
          28,
          28,
          16,
          5,
          6,
          7,
          3,
          2,
          1,
          1,
          1,
          4,
          6,
          5,
          11,
          20,
          10,
          11,
          8,
          3,
          8,
          9,
          5,
          6,
          7,
          11,
          9,
          13,
          16,
          21,
          29,
          28,
          24,
          27,
          28,
          19,
          19,
          14,
          8,
          7,
          3,
          3,
          2,
          1,
          1,
          12,
          27,
          29,
          13,
          8,
          11,
          6,
          1,
          2,
          9,
          13,
          23,
          43,
          33,
          32,
          4,
          7,
          7,
          17,
          17,
          20,
          24,
          10,
          4,
          14,
          2,
          8,
          4,
          2,
          18,
          11,
          14,
          8,
          6,
          9,
          2,
          3,
          6,
          9,
          5,
          4,
          6,
          6,
          9,
          17,
          18,
          21,
          24,
          26,
          19,
          20,
          17,
          16,
          14,
          16,
          13,
          10,
          7,
          13,
          23,
          13,
          36,
          69,
          44,
          39,
          48,
          26,
          28,
          25,
          15,
          3,
          6,
          1,
          2,
          57,
          45,
          6,
          10,
          3,
          3,
          3,
          3,
          19,
          27,
          17,
          31,
          87,
          32,
          29,
          36,
          35,
          13,
          29,
          6,
          14,
          10,
          22,
          69,
          51,
          35,
          52,
          27,
          13,
          5,
          3,
          13,
          15,
          38,
          26,
          27,
          28,
          4,
          1,
          14,
          39,
          37,
          39,
          91,
          51,
          12,
          39,
          31,
          46,
          56,
          12,
          6,
          6,
          21,
          58,
          18,
          33,
          9,
          5,
          11,
          5,
          6,
          5,
          10,
          16,
          26,
          6,
          8,
          14,
          9,
          10,
          22,
          1,
          5,
          3,
          3,
          4,
          3,
          36,
          50,
          13,
          7,
          4,
          2,
          1,
          3,
          2,
          6,
          13,
          15,
          14,
          12,
          13,
          11,
          3,
          10,
          8,
          7,
          3,
          7,
          4,
          19,
          21,
          23,
          19,
          82,
          40,
          25,
          44,
          25,
          20,
          17,
          8,
          9,
          7,
          4,
          11,
          13,
          18,
          1,
          15,
          4,
          6,
          31,
          85,
          114,
          9,
          11,
          1,
          1,
          76,
          26,
          4,
          4,
          2,
          1,
          1,
          1,
          2,
          8,
          12,
          6,
          11,
          4,
          8,
          17,
          14,
          5,
          17,
          8,
          14,
          18,
          17,
          16,
          16,
          10,
          9,
          3,
          4,
          2,
          1,
          1,
          4,
          6,
          10,
          2,
          4,
          4,
          6,
          1,
          31,
          30,
          13,
          5,
          4,
          18,
          1,
          1,
          11,
          9,
          12,
          23,
          17,
          10,
          1,
          7,
          6,
          8,
          4,
          2,
          1,
          4,
          2,
          1,
          7,
          7,
          10,
          11,
          7,
          12,
          15,
          17,
          7,
          10,
          11,
          11,
          9,
          2,
          2,
          2,
          11,
          16,
          26,
          30,
          3,
          14,
          11,
          1,
          3,
          13,
          13,
          12,
          13,
          13,
          10,
          14,
          9,
          8,
          10,
          8,
          12,
          28,
          10,
          21,
          16,
          13,
          17,
          1,
          5,
          9,
          9,
          16,
          21,
          15,
          22,
          25,
          19,
          24,
          9,
          6,
          14,
          10,
          11,
          4,
          6,
          2,
          3,
          8,
          22,
          7,
          11,
          13,
          3,
          9,
          14,
          14,
          9,
          1,
          1,
          11,
          8,
          2,
          2,
          2,
          4,
          12,
          21,
          14,
          12,
          14,
          6,
          7,
          8,
          10,
          5,
          2,
          2,
          22,
          34,
          58,
          51,
          60,
          37,
          23,
          14,
          40,
          18,
          17,
          22,
          17,
          6,
          26,
          23,
          10,
          7,
          1,
          6,
          8,
          34,
          4,
          15,
          4,
          14,
          4,
          4,
          2,
          1,
          13,
          13,
          44,
          33,
          21,
          21,
          37,
          28,
          8,
          7,
          1,
          3,
          1,
          5,
          3,
          2,
          6,
          9,
          1,
          1,
          16,
          5,
          39,
          40,
          28,
          5,
          13,
          5,
          44,
          47,
          122,
          44,
          65,
          83,
          92,
          2,
          2,
          3,
          5,
          2,
          5,
          15,
          19,
          34,
          13,
          9,
          1,
          1,
          4,
          2,
          2,
          4,
          5,
          3,
          3,
          1,
          8,
          12,
          25,
          28,
          2,
          9,
          17,
          17,
          11,
          13,
          10,
          16,
          6,
          11,
          2,
          12,
          6,
          10,
          23,
          28,
          21,
          19,
          16,
          13,
          28,
          1,
          5,
          4,
          6,
          1,
          2,
          7,
          17,
          28,
          27,
          11,
          7,
          6,
          5,
          2,
          6,
          7,
          6,
          7,
          14,
          17,
          22,
          14,
          11,
          14,
          3,
          2,
          4,
          3,
          3,
          1,
          2,
          3,
          3,
          3,
          5,
          3,
          6,
          7,
          11,
          17,
          18,
          23,
          43,
          31,
          44,
          56,
          25,
          27,
          9,
          10,
          2,
          1,
          10,
          9,
          11,
          1,
          5,
          6,
          6,
          23,
          4,
          45,
          15,
          15,
          4,
          13,
          12,
          16,
          18,
          2,
          5,
          3,
          1,
          6,
          6,
          15,
          16,
          11,
          22,
          22,
          7,
          18,
          13,
          5,
          3,
          5,
          10,
          15,
          20,
          4,
          18,
          5,
          2,
          6,
          32,
          9,
          32,
          15,
          2,
          11,
          1,
          12,
          29,
          71,
          27,
          13,
          11,
          10,
          7,
          2,
          29,
          32,
          12,
          19,
          16,
          8,
          7,
          2,
          4,
          2,
          1,
          10,
          59,
          52,
          32
         ],
         "yaxis": "y"
        },
        {
         "hovertemplate": "<b>OLS trendline</b><br>qty = 0.00680919 * total_price + 4.80806<br>R<sup>2</sup>=0.561908<br><br>total_price=%{x}<br>qty=%{y} <b>(trend)</b><extra></extra>",
         "legendgroup": "",
         "line": {
          "color": "Red"
         },
         "marker": {
          "color": "green",
          "size": 5,
          "symbol": "circle"
         },
         "mode": "lines",
         "name": "",
         "showlegend": false,
         "type": "scatter",
         "x": [
          19.9,
          29.5,
          29.9,
          32.5,
          35,
          36.2,
          38.4,
          38.4,
          45.95,
          47.98,
          49.9,
          49.9,
          59.9,
          59.9,
          59.9,
          64.99,
          65,
          70,
          71.97,
          71.97,
          72.4,
          76.8,
          78,
          78,
          78,
          78,
          79.9,
          84.9,
          91.9,
          95.8,
          95.8,
          98.9,
          99.9,
          99.98,
          99.99,
          99.99,
          99.99,
          101,
          101,
          107.8,
          107.8,
          108.6,
          109.9,
          110.99,
          112,
          117.98,
          119.8,
          120,
          129.99,
          129.99,
          130,
          134.9,
          134.99,
          134.99,
          137.85,
          137.85,
          139.9,
          140,
          140,
          140,
          140,
          142.5,
          142.5,
          149.7,
          149.7,
          149.7,
          153.6,
          153.6,
          155.8,
          156,
          161.7,
          162.5,
          167,
          167.93,
          169.98,
          176.97,
          179.1,
          179.1,
          179.4,
          179.4,
          179.7,
          179.7,
          179.7,
          179.8,
          179.8,
          179.8,
          179.91,
          179.99,
          183.8,
          185.97,
          191.6,
          191.92,
          195,
          199.6,
          199.95,
          199.96,
          199.98,
          199.98,
          199.98,
          199.98,
          199.98,
          202,
          203.6,
          205.2,
          209.3,
          215,
          218.9,
          219.8,
          219.89,
          219.98,
          220,
          221.98,
          227.96,
          227.96,
          229.2,
          230.4,
          234,
          234,
          235.96,
          236.7,
          239.6,
          239.6,
          239.6,
          239.8,
          239.94,
          239.98,
          240,
          240,
          245.4,
          247.9,
          248,
          249.5,
          249.5,
          254.97,
          254.97,
          257.56,
          258.7,
          259.87,
          259.98,
          269.59,
          269.7,
          269.8,
          271.2,
          275.7,
          276,
          285,
          292,
          299.4,
          299.4,
          299.4,
          299.46,
          299.46,
          299.5,
          299.5,
          299.5,
          299.7,
          299.97,
          299.97,
          299.97,
          299.97,
          307.2,
          307.2,
          309.7,
          310,
          313.92,
          319.84,
          319.92,
          324.95,
          328.9,
          335.3,
          335.86,
          338.77,
          339,
          339.9,
          339.96,
          339.96,
          345.6,
          349.3,
          349.3,
          349.9,
          349.9,
          350,
          353.94,
          353.94,
          359.4,
          359.98,
          375,
          375,
          379.6,
          383.2,
          385,
          388.7,
          389.97,
          390,
          390,
          392,
          395.6,
          395.6,
          398,
          398,
          398.91,
          398.93,
          398.93,
          399.2,
          399.92,
          399.96,
          411.2,
          414,
          416.5,
          417,
          419.3,
          419.4,
          419.79,
          431.2,
          439.96,
          445.85,
          448.5,
          449.1,
          449.82,
          455,
          455.81,
          455.81,
          457.9,
          459.8,
          460.8,
          468,
          470,
          470.8,
          477.1,
          477.6,
          478.4,
          479.8,
          479.8,
          479.97,
          479.97,
          479.97,
          489.76,
          493.4,
          495.5,
          499,
          499.95,
          499.95,
          510.27,
          518,
          519.87,
          519.96,
          528,
          530.91,
          537,
          538.2,
          539.94,
          539.94,
          539.94,
          539.97,
          545.3,
          548.9,
          550,
          550.8,
          557.85,
          560,
          563.5,
          569.9,
          571.8,
          575.76,
          576,
          579.71,
          579.75,
          584.77,
          584.91,
          584.91,
          589.9,
          589.94,
          593.4,
          593.5,
          594.93,
          595,
          596,
          598.8,
          598.8,
          599.93,
          599.94,
          599.94,
          601.8,
          603.2,
          611.4,
          647.73,
          648.89,
          650,
          651.72,
          652,
          657.8,
          657.8,
          658.9,
          659.94,
          660,
          665,
          671.72,
          678,
          679.83,
          680,
          683,
          686,
          693,
          694.9,
          698.6,
          699.8,
          699.8,
          699.93,
          699.95,
          700.7,
          702,
          706.86,
          707.4,
          712,
          719.82,
          734.4,
          735,
          735,
          748.5,
          749.5,
          754.5,
          759.81,
          759.81,
          759.92,
          764.1,
          766.83,
          769.45,
          770,
          778.7,
          778.7,
          778.7,
          781.3,
          789,
          789.95,
          792,
          799.9,
          799.92,
          805.87,
          809.91,
          815,
          825.86,
          838.6,
          839.94,
          840,
          840,
          849.5,
          872.1,
          876.9,
          880,
          880,
          888.3,
          888.85,
          890,
          891,
          894,
          898.5,
          899.91,
          899.91,
          910,
          925,
          929.8,
          929.96,
          943.8,
          944.4,
          960,
          965.91,
          968.83,
          968.83,
          969.9,
          973,
          974.85,
          975,
          983.6,
          994.04,
          998.91,
          999,
          1016.95,
          1018.3,
          1019.93,
          1019.94,
          1026.51,
          1039.84,
          1039.87,
          1039.92,
          1042.9,
          1043.6,
          1071,
          1078,
          1079.91,
          1079.94,
          1082,
          1089,
          1092,
          1099,
          1099.5,
          1099.89,
          1099.89,
          1099.89,
          1104.87,
          1105.92,
          1112,
          1115.7,
          1119.86,
          1120.81,
          1138.1,
          1138.1,
          1138.1,
          1138.1,
          1139.8,
          1139.8,
          1169.91,
          1170.35,
          1188,
          1188.6,
          1191.9,
          1196,
          1198.8,
          1199.48,
          1199.9,
          1199.9,
          1205.03,
          1234.79,
          1235.36,
          1247.5,
          1248,
          1257.9,
          1258.6,
          1259.86,
          1279.84,
          1296.8,
          1297.78,
          1298.7,
          1298.7,
          1298.7,
          1298.7,
          1302,
          1318.8,
          1319.5,
          1331.1,
          1339.84,
          1347.5,
          1351.2,
          1367.76,
          1377.7,
          1377.7,
          1386,
          1399.6,
          1399.6,
          1399.86,
          1399.86,
          1399.86,
          1399.86,
          1401.4,
          1404,
          1404,
          1405,
          1415.76,
          1415.92,
          1416,
          1421.67,
          1447.1,
          1474.75,
          1477.3,
          1477.3,
          1479.98,
          1509.2,
          1514.87,
          1529.83,
          1529.83,
          1559.1,
          1590,
          1594.2,
          1601.06,
          1604,
          1617.3,
          1619.82,
          1619.93,
          1656.87,
          1668.5,
          1670.9,
          1679.89,
          1680,
          1683,
          1684,
          1699.83,
          1709.81,
          1723.08,
          1729.2,
          1735,
          1737.4,
          1741.74,
          1763.88,
          1769.7,
          1777.5,
          1799.8,
          1799.82,
          1808.73,
          1819.86,
          1828.4,
          1837.7,
          1839.2,
          1847,
          1856.9,
          1870.84,
          1875.72,
          1884.45,
          1886.5,
          1889.79,
          1889.79,
          1911.8,
          1911.89,
          1946.1,
          1948.7,
          1950,
          1950,
          1956,
          1969,
          1970.1,
          1973.83,
          1977.8,
          1987.4,
          1995,
          2036.6,
          2038.3,
          2043.92,
          2067.7,
          2073.3,
          2079.84,
          2088.7,
          2090,
          2148,
          2156.4,
          2159.76,
          2170.87,
          2174.89,
          2178,
          2179,
          2187.3,
          2190.6,
          2199.78,
          2200,
          2205,
          2206.4,
          2207.7,
          2209.83,
          2214,
          2216.3,
          2232.6,
          2242,
          2247.6,
          2247.72,
          2250.8,
          2277,
          2336.1,
          2336.1,
          2339.74,
          2339.82,
          2339.87,
          2391.6,
          2395.2,
          2411.2,
          2429.73,
          2449.3,
          2449.3,
          2449.3,
          2449.3,
          2468.6,
          2469.62,
          2479.4,
          2482.2,
          2519.72,
          2537.19,
          2598.9,
          2629.83,
          2629.96,
          2657,
          2680,
          2698.5,
          2699.82,
          2715.7,
          2759.77,
          2759.85,
          2762.5,
          2795.14,
          2799.2,
          2809.65,
          2831.55,
          2881.6,
          2940,
          2975,
          2982.4,
          3042,
          3056.6,
          3059.64,
          3075.6,
          3086.76,
          3111.36,
          3120,
          3139.8,
          3250,
          3276,
          3291.4,
          3300,
          3307.8,
          3326.3,
          3383,
          3449.77,
          3459,
          3461.58,
          3465.8,
          3499,
          3513.1,
          3525,
          3543.5,
          3564,
          3575,
          3596,
          3640.68,
          3660,
          3711.7,
          3836.8,
          3885,
          3900,
          3908.9,
          3935.68,
          4004,
          4004,
          4047.3,
          4058.67,
          4198.8,
          4241,
          4248.73,
          4249.5,
          4290,
          4319.4,
          4355,
          4397.7,
          4543.5,
          4584.9,
          4619,
          4712.19,
          4752,
          4769.7,
          4842.71,
          4860.11,
          5214.2,
          5222.36,
          5246.5,
          5248.5,
          5280,
          5288.57,
          5394,
          5453.96,
          5581.8,
          5801.7,
          5948.3,
          5956.3,
          5986,
          6270,
          6287.2,
          6430.8,
          6746.9,
          6764,
          6930,
          7475,
          7644.9,
          7651.27,
          7794.8,
          8538,
          8961.49,
          9125,
          9240,
          10343.1,
          10375,
          11820.2,
          12095
         ],
         "xaxis": "x",
         "y": [
          4.943565350927505,
          5.0089336133733156,
          5.011657290975224,
          5.029361195387631,
          5.046384180399561,
          5.054555213205288,
          5.069535440015786,
          5.069535440015786,
          5.120944854751814,
          5.1347675185815005,
          5.147841171070663,
          5.147841171070663,
          5.215933111118382,
          5.215933111118382,
          5.215933111118382,
          5.250591908602671,
          5.250660000542719,
          5.284705970566579,
          5.298120082755979,
          5.298120082755979,
          5.301048036178031,
          5.331008489799028,
          5.339179522604754,
          5.339179522604754,
          5.339179522604754,
          5.339179522604754,
          5.352116991213821,
          5.38616296123768,
          5.433827319271083,
          5.460383175889694,
          5.460383175889694,
          5.481491677304487,
          5.488300871309259,
          5.48884560682964,
          5.4889136987696885,
          5.4889136987696885,
          5.4889136987696885,
          5.4957909847145086,
          5.4957909847145086,
          5.542093503946957,
          5.542093503946957,
          5.547540859150775,
          5.556392811356979,
          5.56381483282218,
          5.570692118766999,
          5.611411098915536,
          5.623803832004221,
          5.625165670805175,
          5.693189518912846,
          5.693189518912846,
          5.693257610852894,
          5.726622661476276,
          5.727235488936706,
          5.727235488936706,
          5.746709783790354,
          5.746709783790354,
          5.7606686315001365,
          5.761349550900613,
          5.761349550900613,
          5.761349550900613,
          5.761349550900613,
          5.778372535912543,
          5.778372535912543,
          5.827398732746901,
          5.827398732746901,
          5.827398732746901,
          5.853954589365511,
          5.853954589365511,
          5.86893481617601,
          5.870296654976964,
          5.909109060804164,
          5.914556416007981,
          5.945197789029455,
          5.951530339453893,
          5.9654891871636755,
          6.013085453257031,
          6.027589036487195,
          6.027589036487195,
          6.029631794688627,
          6.029631794688627,
          6.031674552890059,
          6.031674552890059,
          6.031674552890059,
          6.032355472290536,
          6.032355472290536,
          6.032355472290536,
          6.03310448363106,
          6.033649219151442,
          6.059592248309624,
          6.074368199299979,
          6.112703961546845,
          6.114882903628372,
          6.1358552211630695,
          6.16717751358502,
          6.1695607314866905,
          6.169628823426738,
          6.169765007306833,
          6.169765007306833,
          6.169765007306833,
          6.169765007306833,
          6.169765007306833,
          6.1835195791964725,
          6.194414289604108,
          6.205309000011742,
          6.233226695431307,
          6.272039101258508,
          6.298594957877118,
          6.304723232481413,
          6.305336059941842,
          6.3059488874022716,
          6.306085071282367,
          6.319567275411815,
          6.360286255560352,
          6.360286255560352,
          6.368729656126269,
          6.376900688931995,
          6.401413787349174,
          6.401413787349174,
          6.414759807598527,
          6.419798611162058,
          6.439545273775897,
          6.439545273775897,
          6.439545273775897,
          6.440907112576851,
          6.44186039973752,
          6.442132767497711,
          6.442268951377805,
          6.442268951377805,
          6.479038599003574,
          6.496061584015504,
          6.496742503415981,
          6.506956294423139,
          6.506956294423139,
          6.544202585629241,
          6.544202585629241,
          6.561838398101601,
          6.569600879267041,
          6.577567636252624,
          6.578316647593149,
          6.6437530019790065,
          6.644502013319531,
          6.645182932720009,
          6.65471580432669,
          6.6853571773481635,
          6.687399935549595,
          6.748682681592542,
          6.796347039625946,
          6.8467350752612575,
          6.8467350752612575,
          6.8467350752612575,
          6.847143626901545,
          6.847143626901545,
          6.847415994661736,
          6.847415994661736,
          6.847415994661736,
          6.848777833462689,
          6.850616315843978,
          6.850616315843978,
          6.850616315843978,
          6.850616315843978,
          6.899846788498479,
          6.899846788498479,
          6.916869773510409,
          6.9189125317118405,
          6.945604572210547,
          6.985915000718796,
          6.986459736239178,
          7.020709982083181,
          7.04760629840203,
          7.09118514003257,
          7.094998288675242,
          7.1148130432291286,
          7.1163791578502265,
          7.122507432454521,
          7.122915984094807,
          7.122915984094807,
          7.161319838281721,
          7.186513856099378,
          7.186513856099378,
          7.19059937250224,
          7.19059937250224,
          7.191280291902718,
          7.218108516281519,
          7.218108516281519,
          7.255286715547573,
          7.259236048070342,
          7.3615101420220155,
          7.3615101420220155,
          7.392832434443966,
          7.4173455328611455,
          7.429602082069735,
          7.454796099887391,
          7.463443776273452,
          7.463648052093594,
          7.463648052093594,
          7.477266440103138,
          7.501779538520317,
          7.501779538520317,
          7.518121604131769,
          7.518121604131769,
          7.524317970676113,
          7.524454154556208,
          7.524454154556208,
          7.526292636937496,
          7.531195256620932,
          7.531467624381123,
          7.608002964994759,
          7.627068708208121,
          7.644091693220051,
          7.647496290222437,
          7.663157436433412,
          7.663838355833889,
          7.66649394149575,
          7.744186845090198,
          7.803835384572,
          7.843941537260107,
          7.861985901372752,
          7.866071417775615,
          7.870974037459051,
          7.906245662403769,
          7.911761109547635,
          7.911761109547635,
          7.925992325017608,
          7.938929793626675,
          7.945738987631447,
          7.9947651844658045,
          8.00838357247535,
          8.013830927679166,
          8.056728849909229,
          8.060133446911616,
          8.065580802115432,
          8.075113673722115,
          8.075113673722115,
          8.076271236702926,
          8.076271236702926,
          8.076271236702926,
          8.142933246009642,
          8.16771871218701,
          8.182018019597033,
          8.205850198613735,
          8.212318932918269,
          8.212318932918269,
          8.282589815047514,
          8.3352248847044,
          8.347958077493324,
          8.348570904953753,
          8.403316824752121,
          8.423131579306006,
          8.464599570795068,
          8.472770603600793,
          8.484618601169098,
          8.484618601169098,
          8.484618601169098,
          8.48482287698924,
          8.521115881034675,
          8.545628979451854,
          8.553119092857102,
          8.558566448060919,
          8.606571265794562,
          8.62121103290482,
          8.645043211921523,
          8.688622053552063,
          8.70155952216113,
          8.728523930420028,
          8.730158136981172,
          8.755420246738877,
          8.755692614499068,
          8.789874768403022,
          8.79082805556369,
          8.79082805556369,
          8.824805933647502,
          8.825078301407693,
          8.848638112664204,
          8.849319032064681,
          8.859056179491505,
          8.859532823071838,
          8.866342017076612,
          8.885407760289972,
          8.885407760289972,
          8.893102149515364,
          8.893170241455412,
          8.893170241455412,
          8.905835342304288,
          8.91536821391097,
          8.971203604750098,
          9.218581622943463,
          9.226480287988998,
          9.234038493334296,
          9.245750307022503,
          9.24765688134384,
          9.287150206571516,
          9.287150206571516,
          9.294640319976764,
          9.301721881741727,
          9.302130433382015,
          9.336176403405874,
          9.381934187117942,
          9.424695925467908,
          9.43715675049664,
          9.438314313477452,
          9.45874189549177,
          9.479169477506083,
          9.526833835539488,
          9.539771304148555,
          9.564965321966211,
          9.573136354771936,
          9.573136354771936,
          9.574021549992558,
          9.574157733872653,
          9.579264629376233,
          9.588116581582435,
          9.621209264445627,
          9.624886229208204,
          9.656208521630155,
          9.709456418747472,
          9.808734467337047,
          9.812819983739908,
          9.812819983739908,
          9.90474410280433,
          9.911553296809101,
          9.94559926683296,
          9.981756086998299,
          9.981756086998299,
          9.982505098338825,
          10.010967529278773,
          10.029556628911799,
          10.047396717204302,
          10.051141773906927,
          10.110381761748442,
          10.110381761748442,
          10.110381761748442,
          10.12808566616085,
          10.180516459997593,
          10.186985194302126,
          10.200944042011908,
          10.254736674649607,
          10.254872858529701,
          10.295387562858096,
          10.322896706637373,
          10.357555504121663,
          10.431503351013486,
          10.518252482634281,
          10.527376802600674,
          10.527785354240962,
          10.527785354240962,
          10.592472697286293,
          10.74636048179414,
          10.779044613017046,
          10.800153114431838,
          10.800153114431838,
          10.856669424671445,
          10.86041448137407,
          10.868245054479557,
          10.875054248484329,
          10.895481830498646,
          10.926123203520119,
          10.935724167066848,
          10.935724167066848,
          11.004428934574996,
          11.106566844646576,
          11.13925097586948,
          11.140340446910244,
          11.234579691936286,
          11.23866520833915,
          11.344888634813593,
          11.385130971381795,
          11.405013817875728,
          11.405013817875728,
          11.412299655460835,
          11.433408156875627,
          11.446005165784456,
          11.447026544885171,
          11.50558561332621,
          11.57667359873603,
          11.609834373539268,
          11.610447200999698,
          11.732672233385355,
          11.741864645291795,
          11.752963631519574,
          11.753031723459621,
          11.797768128070974,
          11.888534684154582,
          11.888738959974724,
          11.889079419674964,
          11.909370817809185,
          11.914137253612523,
          12.100709169343276,
          12.148373527376679,
          12.161379087925795,
          12.161583363745937,
          12.175610303395768,
          12.22327466142917,
          12.243702243443487,
          12.29136660147689,
          12.294771198479275,
          12.297426784141138,
          12.297426784141138,
          12.297426784141138,
          12.3313365702849,
          12.33848622398991,
          12.379886123538924,
          12.405080141356581,
          12.433406388416431,
          12.439875122720965,
          12.557606087063471,
          12.557606087063471,
          12.557606087063471,
          12.557606087063471,
          12.569181716871583,
          12.569181716871583,
          12.774206548355266,
          12.777202593717366,
          12.89738486790159,
          12.901470384304453,
          12.9239407245202,
          12.951858419939768,
          12.970924163153128,
          12.975554415076374,
          12.978414276558379,
          12.978414276558379,
          13.013345441802855,
          13.215987055384868,
          13.21986829596759,
          13.302531911185522,
          13.305936508187905,
          13.37334752883515,
          13.378113964638487,
          13.386693549084502,
          13.522741245299844,
          13.638225175620775,
          13.644898185745454,
          13.651162644229842,
          13.651162644229842,
          13.651162644229842,
          13.651162644229842,
          13.67363298444559,
          13.78802744372576,
          13.7927938795291,
          13.871780529984452,
          13.93129288558616,
          13.983451311662712,
          14.00864532948037,
          14.121405582199394,
          14.189088970606825,
          14.189088970606825,
          14.245605280846434,
          14.33821031931133,
          14.33821031931133,
          14.33998070975257,
          14.33998070975257,
          14.33998070975257,
          14.33998070975257,
          14.35046686851992,
          14.368170772932327,
          14.368170772932327,
          14.374979966937097,
          14.448246894428443,
          14.449336365469208,
          14.44988110098959,
          14.488489230996649,
          14.661647034537996,
          14.849921248769942,
          14.867284693482109,
          14.867284693482109,
          14.885533333414898,
          15.084497982234332,
          15.123106112241388,
          15.224971654552778,
          15.224971654552778,
          15.424276763072452,
          15.634680857819905,
          15.663279472639946,
          15.709990543512681,
          15.730009573886711,
          15.820571854150177,
          15.837731023042203,
          15.83848003438273,
          16.090011660919004,
          16.1692025871945,
          16.185544652805955,
          16.246759306908853,
          16.247508318249377,
          16.267935900263694,
          16.274745094268464,
          16.382534635364006,
          16.45049039153163,
          16.54084839597495,
          16.582520663284157,
          16.622013988511835,
          16.63835605412329,
          16.667907956103996,
          16.81866351136965,
          16.85829302047742,
          16.91140473371464,
          17.063249760021055,
          17.06338594390115,
          17.12405586248367,
          17.19984219175678,
          17.25799270855753,
          17.32131821280191,
          17.33153200380907,
          17.38464371704629,
          17.452054737693533,
          17.546974902120052,
          17.58020376886334,
          17.639648032525,
          17.65360688023478,
          17.67600912851048,
          17.67600912851048,
          17.82587948855551,
          17.82649231601594,
          18.059434842919188,
          18.077138747331595,
          18.0859906995378,
          18.0859906995378,
          18.12684586356643,
          18.215365385628463,
          18.222855499033713,
          18.248253792671512,
          18.275286292870458,
          18.34065455531627,
          18.392404429752535,
          18.675666900351047,
          18.687242530159157,
          18.725510200465976,
          18.887432833899453,
          18.925564320326178,
          18.970096449117385,
          19.030425907999664,
          19.039277860205868,
          19.43421111248264,
          19.491408342122725,
          19.51428723397876,
          19.589937379371772,
          19.617310339270954,
          19.638486932625796,
          19.64529612663057,
          19.701812436870178,
          19.72428277708592,
          19.786791178049732,
          19.78828920073078,
          19.822335170754638,
          19.83186804236132,
          19.84071999456752,
          19.855223577797688,
          19.883617916797586,
          19.899279063008564,
          20.010268925286343,
          20.0742753489312,
          20.112406835357923,
          20.113223938638495,
          20.134196256173194,
          20.312597139098216,
          20.715020504780238,
          20.715020504780238,
          20.739805970957608,
          20.74035070647799,
          20.740691166178227,
          21.09293077204508,
          21.117443870462257,
          21.226390974538607,
          21.352565339447032,
          21.48582126612042,
          21.48582126612042,
          21.48582126612042,
          21.48582126612042,
          21.61723871041252,
          21.624184088297383,
          21.690778005664054,
          21.709843748877415,
          21.965324707936457,
          22.084281327199825,
          22.5044766892343,
          22.715085059801893,
          22.715970255022516,
          22.900090860911547,
          23.0567023230213,
          23.182672412109582,
          23.191660548195884,
          23.29979054899166,
          23.59987172878196,
          23.60041646430234,
          23.618460828414985,
          23.84071292073074,
          23.868358248390116,
          23.93951432573998,
          24.08863567444449,
          24.429435834383323,
          24.827092764262,
          25.06541455442902,
          25.115802590064334,
          25.52163055274874,
          25.62104478521841,
          25.641744734992916,
          25.750419471309076,
          25.826410076402333,
          25.99391624891972,
          26.05274768512095,
          26.187569726415436,
          26.9379429057413,
          27.11498194986537,
          27.219843537538857,
          27.278402605979895,
          27.331514319217117,
          27.457484408305397,
          27.843565708375966,
          28.298215592074587,
          28.36106445273863,
          28.378632173270944,
          28.407366971971083,
          28.63343221292951,
          28.729441848396792,
          28.810471257053578,
          28.93644134614186,
          29.076029823239683,
          29.150930957292175,
          29.293924031392386,
          29.598158819525594,
          29.72971244769779,
          30.081747777744496,
          30.933577947741465,
          31.261781098771472,
          31.36391900884305,
          31.424520835485524,
          31.60687105093331,
          32.07207518533934,
          32.07207518533934,
          32.36691328574596,
          32.444333821580216,
          33.3985061774689,
          33.68585416447028,
          33.738489234127165,
          33.74373231351084,
          34.0195046707041,
          34.219694974444394,
          34.46210228101428,
          34.75285486501804,
          35.74563535091379,
          36.02753598271134,
          36.25972949827407,
          36.89427828757876,
          37.16535230090873,
          37.28587503479319,
          37.78301428908159,
          37.90149426476462,
          40.31256176991431,
          40.36812479299325,
          40.53249873626845,
          40.54611712427799,
          40.76060673542831,
          40.8189615280492,
          41.53685485197231,
          41.94513412449843,
          42.81562148606847,
          44.31296324771782,
          45.31119108881739,
          45.36566464085556,
          45.56789770279729,
          47.501708800152514,
          47.61882693703459,
          48.59662719611984,
          50.749013421028245,
          50.86545063850984,
          51.99577684330198,
          55.70678757590268,
          56.86366963731343,
          56.90704420312383,
          57.884367818628746,
          62.94496080297524,
          65.82858637205611,
          66.94195768377637,
          67.72501499432514,
          75.23623690098906,
          75.45345018974128,
          85.29409736543766,
          87.16526387794899
         ],
         "yaxis": "y"
        }
       ],
       "layout": {
        "legend": {
         "tracegroupgap": 0
        },
        "template": {
         "data": {
          "bar": [
           {
            "error_x": {
             "color": "#2a3f5f"
            },
            "error_y": {
             "color": "#2a3f5f"
            },
            "marker": {
             "line": {
              "color": "#E5ECF6",
              "width": 0.5
             },
             "pattern": {
              "fillmode": "overlay",
              "size": 10,
              "solidity": 0.2
             }
            },
            "type": "bar"
           }
          ],
          "barpolar": [
           {
            "marker": {
             "line": {
              "color": "#E5ECF6",
              "width": 0.5
             },
             "pattern": {
              "fillmode": "overlay",
              "size": 10,
              "solidity": 0.2
             }
            },
            "type": "barpolar"
           }
          ],
          "carpet": [
           {
            "aaxis": {
             "endlinecolor": "#2a3f5f",
             "gridcolor": "white",
             "linecolor": "white",
             "minorgridcolor": "white",
             "startlinecolor": "#2a3f5f"
            },
            "baxis": {
             "endlinecolor": "#2a3f5f",
             "gridcolor": "white",
             "linecolor": "white",
             "minorgridcolor": "white",
             "startlinecolor": "#2a3f5f"
            },
            "type": "carpet"
           }
          ],
          "choropleth": [
           {
            "colorbar": {
             "outlinewidth": 0,
             "ticks": ""
            },
            "type": "choropleth"
           }
          ],
          "contour": [
           {
            "colorbar": {
             "outlinewidth": 0,
             "ticks": ""
            },
            "colorscale": [
             [
              0,
              "#0d0887"
             ],
             [
              0.1111111111111111,
              "#46039f"
             ],
             [
              0.2222222222222222,
              "#7201a8"
             ],
             [
              0.3333333333333333,
              "#9c179e"
             ],
             [
              0.4444444444444444,
              "#bd3786"
             ],
             [
              0.5555555555555556,
              "#d8576b"
             ],
             [
              0.6666666666666666,
              "#ed7953"
             ],
             [
              0.7777777777777778,
              "#fb9f3a"
             ],
             [
              0.8888888888888888,
              "#fdca26"
             ],
             [
              1,
              "#f0f921"
             ]
            ],
            "type": "contour"
           }
          ],
          "contourcarpet": [
           {
            "colorbar": {
             "outlinewidth": 0,
             "ticks": ""
            },
            "type": "contourcarpet"
           }
          ],
          "heatmap": [
           {
            "colorbar": {
             "outlinewidth": 0,
             "ticks": ""
            },
            "colorscale": [
             [
              0,
              "#0d0887"
             ],
             [
              0.1111111111111111,
              "#46039f"
             ],
             [
              0.2222222222222222,
              "#7201a8"
             ],
             [
              0.3333333333333333,
              "#9c179e"
             ],
             [
              0.4444444444444444,
              "#bd3786"
             ],
             [
              0.5555555555555556,
              "#d8576b"
             ],
             [
              0.6666666666666666,
              "#ed7953"
             ],
             [
              0.7777777777777778,
              "#fb9f3a"
             ],
             [
              0.8888888888888888,
              "#fdca26"
             ],
             [
              1,
              "#f0f921"
             ]
            ],
            "type": "heatmap"
           }
          ],
          "heatmapgl": [
           {
            "colorbar": {
             "outlinewidth": 0,
             "ticks": ""
            },
            "colorscale": [
             [
              0,
              "#0d0887"
             ],
             [
              0.1111111111111111,
              "#46039f"
             ],
             [
              0.2222222222222222,
              "#7201a8"
             ],
             [
              0.3333333333333333,
              "#9c179e"
             ],
             [
              0.4444444444444444,
              "#bd3786"
             ],
             [
              0.5555555555555556,
              "#d8576b"
             ],
             [
              0.6666666666666666,
              "#ed7953"
             ],
             [
              0.7777777777777778,
              "#fb9f3a"
             ],
             [
              0.8888888888888888,
              "#fdca26"
             ],
             [
              1,
              "#f0f921"
             ]
            ],
            "type": "heatmapgl"
           }
          ],
          "histogram": [
           {
            "marker": {
             "pattern": {
              "fillmode": "overlay",
              "size": 10,
              "solidity": 0.2
             }
            },
            "type": "histogram"
           }
          ],
          "histogram2d": [
           {
            "colorbar": {
             "outlinewidth": 0,
             "ticks": ""
            },
            "colorscale": [
             [
              0,
              "#0d0887"
             ],
             [
              0.1111111111111111,
              "#46039f"
             ],
             [
              0.2222222222222222,
              "#7201a8"
             ],
             [
              0.3333333333333333,
              "#9c179e"
             ],
             [
              0.4444444444444444,
              "#bd3786"
             ],
             [
              0.5555555555555556,
              "#d8576b"
             ],
             [
              0.6666666666666666,
              "#ed7953"
             ],
             [
              0.7777777777777778,
              "#fb9f3a"
             ],
             [
              0.8888888888888888,
              "#fdca26"
             ],
             [
              1,
              "#f0f921"
             ]
            ],
            "type": "histogram2d"
           }
          ],
          "histogram2dcontour": [
           {
            "colorbar": {
             "outlinewidth": 0,
             "ticks": ""
            },
            "colorscale": [
             [
              0,
              "#0d0887"
             ],
             [
              0.1111111111111111,
              "#46039f"
             ],
             [
              0.2222222222222222,
              "#7201a8"
             ],
             [
              0.3333333333333333,
              "#9c179e"
             ],
             [
              0.4444444444444444,
              "#bd3786"
             ],
             [
              0.5555555555555556,
              "#d8576b"
             ],
             [
              0.6666666666666666,
              "#ed7953"
             ],
             [
              0.7777777777777778,
              "#fb9f3a"
             ],
             [
              0.8888888888888888,
              "#fdca26"
             ],
             [
              1,
              "#f0f921"
             ]
            ],
            "type": "histogram2dcontour"
           }
          ],
          "mesh3d": [
           {
            "colorbar": {
             "outlinewidth": 0,
             "ticks": ""
            },
            "type": "mesh3d"
           }
          ],
          "parcoords": [
           {
            "line": {
             "colorbar": {
              "outlinewidth": 0,
              "ticks": ""
             }
            },
            "type": "parcoords"
           }
          ],
          "pie": [
           {
            "automargin": true,
            "type": "pie"
           }
          ],
          "scatter": [
           {
            "fillpattern": {
             "fillmode": "overlay",
             "size": 10,
             "solidity": 0.2
            },
            "type": "scatter"
           }
          ],
          "scatter3d": [
           {
            "line": {
             "colorbar": {
              "outlinewidth": 0,
              "ticks": ""
             }
            },
            "marker": {
             "colorbar": {
              "outlinewidth": 0,
              "ticks": ""
             }
            },
            "type": "scatter3d"
           }
          ],
          "scattercarpet": [
           {
            "marker": {
             "colorbar": {
              "outlinewidth": 0,
              "ticks": ""
             }
            },
            "type": "scattercarpet"
           }
          ],
          "scattergeo": [
           {
            "marker": {
             "colorbar": {
              "outlinewidth": 0,
              "ticks": ""
             }
            },
            "type": "scattergeo"
           }
          ],
          "scattergl": [
           {
            "marker": {
             "colorbar": {
              "outlinewidth": 0,
              "ticks": ""
             }
            },
            "type": "scattergl"
           }
          ],
          "scattermapbox": [
           {
            "marker": {
             "colorbar": {
              "outlinewidth": 0,
              "ticks": ""
             }
            },
            "type": "scattermapbox"
           }
          ],
          "scatterpolar": [
           {
            "marker": {
             "colorbar": {
              "outlinewidth": 0,
              "ticks": ""
             }
            },
            "type": "scatterpolar"
           }
          ],
          "scatterpolargl": [
           {
            "marker": {
             "colorbar": {
              "outlinewidth": 0,
              "ticks": ""
             }
            },
            "type": "scatterpolargl"
           }
          ],
          "scatterternary": [
           {
            "marker": {
             "colorbar": {
              "outlinewidth": 0,
              "ticks": ""
             }
            },
            "type": "scatterternary"
           }
          ],
          "surface": [
           {
            "colorbar": {
             "outlinewidth": 0,
             "ticks": ""
            },
            "colorscale": [
             [
              0,
              "#0d0887"
             ],
             [
              0.1111111111111111,
              "#46039f"
             ],
             [
              0.2222222222222222,
              "#7201a8"
             ],
             [
              0.3333333333333333,
              "#9c179e"
             ],
             [
              0.4444444444444444,
              "#bd3786"
             ],
             [
              0.5555555555555556,
              "#d8576b"
             ],
             [
              0.6666666666666666,
              "#ed7953"
             ],
             [
              0.7777777777777778,
              "#fb9f3a"
             ],
             [
              0.8888888888888888,
              "#fdca26"
             ],
             [
              1,
              "#f0f921"
             ]
            ],
            "type": "surface"
           }
          ],
          "table": [
           {
            "cells": {
             "fill": {
              "color": "#EBF0F8"
             },
             "line": {
              "color": "white"
             }
            },
            "header": {
             "fill": {
              "color": "#C8D4E3"
             },
             "line": {
              "color": "white"
             }
            },
            "type": "table"
           }
          ]
         },
         "layout": {
          "annotationdefaults": {
           "arrowcolor": "#2a3f5f",
           "arrowhead": 0,
           "arrowwidth": 1
          },
          "autotypenumbers": "strict",
          "coloraxis": {
           "colorbar": {
            "outlinewidth": 0,
            "ticks": ""
           }
          },
          "colorscale": {
           "diverging": [
            [
             0,
             "#8e0152"
            ],
            [
             0.1,
             "#c51b7d"
            ],
            [
             0.2,
             "#de77ae"
            ],
            [
             0.3,
             "#f1b6da"
            ],
            [
             0.4,
             "#fde0ef"
            ],
            [
             0.5,
             "#f7f7f7"
            ],
            [
             0.6,
             "#e6f5d0"
            ],
            [
             0.7,
             "#b8e186"
            ],
            [
             0.8,
             "#7fbc41"
            ],
            [
             0.9,
             "#4d9221"
            ],
            [
             1,
             "#276419"
            ]
           ],
           "sequential": [
            [
             0,
             "#0d0887"
            ],
            [
             0.1111111111111111,
             "#46039f"
            ],
            [
             0.2222222222222222,
             "#7201a8"
            ],
            [
             0.3333333333333333,
             "#9c179e"
            ],
            [
             0.4444444444444444,
             "#bd3786"
            ],
            [
             0.5555555555555556,
             "#d8576b"
            ],
            [
             0.6666666666666666,
             "#ed7953"
            ],
            [
             0.7777777777777778,
             "#fb9f3a"
            ],
            [
             0.8888888888888888,
             "#fdca26"
            ],
            [
             1,
             "#f0f921"
            ]
           ],
           "sequentialminus": [
            [
             0,
             "#0d0887"
            ],
            [
             0.1111111111111111,
             "#46039f"
            ],
            [
             0.2222222222222222,
             "#7201a8"
            ],
            [
             0.3333333333333333,
             "#9c179e"
            ],
            [
             0.4444444444444444,
             "#bd3786"
            ],
            [
             0.5555555555555556,
             "#d8576b"
            ],
            [
             0.6666666666666666,
             "#ed7953"
            ],
            [
             0.7777777777777778,
             "#fb9f3a"
            ],
            [
             0.8888888888888888,
             "#fdca26"
            ],
            [
             1,
             "#f0f921"
            ]
           ]
          },
          "colorway": [
           "#636efa",
           "#EF553B",
           "#00cc96",
           "#ab63fa",
           "#FFA15A",
           "#19d3f3",
           "#FF6692",
           "#B6E880",
           "#FF97FF",
           "#FECB52"
          ],
          "font": {
           "color": "#2a3f5f"
          },
          "geo": {
           "bgcolor": "white",
           "lakecolor": "white",
           "landcolor": "#E5ECF6",
           "showlakes": true,
           "showland": true,
           "subunitcolor": "white"
          },
          "hoverlabel": {
           "align": "left"
          },
          "hovermode": "closest",
          "mapbox": {
           "style": "light"
          },
          "paper_bgcolor": "white",
          "plot_bgcolor": "#E5ECF6",
          "polar": {
           "angularaxis": {
            "gridcolor": "white",
            "linecolor": "white",
            "ticks": ""
           },
           "bgcolor": "#E5ECF6",
           "radialaxis": {
            "gridcolor": "white",
            "linecolor": "white",
            "ticks": ""
           }
          },
          "scene": {
           "xaxis": {
            "backgroundcolor": "#E5ECF6",
            "gridcolor": "white",
            "gridwidth": 2,
            "linecolor": "white",
            "showbackground": true,
            "ticks": "",
            "zerolinecolor": "white"
           },
           "yaxis": {
            "backgroundcolor": "#E5ECF6",
            "gridcolor": "white",
            "gridwidth": 2,
            "linecolor": "white",
            "showbackground": true,
            "ticks": "",
            "zerolinecolor": "white"
           },
           "zaxis": {
            "backgroundcolor": "#E5ECF6",
            "gridcolor": "white",
            "gridwidth": 2,
            "linecolor": "white",
            "showbackground": true,
            "ticks": "",
            "zerolinecolor": "white"
           }
          },
          "shapedefaults": {
           "line": {
            "color": "#2a3f5f"
           }
          },
          "ternary": {
           "aaxis": {
            "gridcolor": "white",
            "linecolor": "white",
            "ticks": ""
           },
           "baxis": {
            "gridcolor": "white",
            "linecolor": "white",
            "ticks": ""
           },
           "bgcolor": "#E5ECF6",
           "caxis": {
            "gridcolor": "white",
            "linecolor": "white",
            "ticks": ""
           }
          },
          "title": {
           "x": 0.05
          },
          "xaxis": {
           "automargin": true,
           "gridcolor": "white",
           "linecolor": "white",
           "ticks": "",
           "title": {
            "standoff": 15
           },
           "zerolinecolor": "white",
           "zerolinewidth": 2
          },
          "yaxis": {
           "automargin": true,
           "gridcolor": "white",
           "linecolor": "white",
           "ticks": "",
           "title": {
            "standoff": 15
           },
           "zerolinecolor": "white",
           "zerolinewidth": 2
          }
         }
        },
        "title": {
         "text": "Relationship Between Quantity and Total Price"
        },
        "xaxis": {
         "anchor": "y",
         "domain": [
          0,
          1
         ],
         "title": {
          "text": "total_price"
         }
        },
        "yaxis": {
         "anchor": "x",
         "domain": [
          0,
          1
         ],
         "title": {
          "text": "qty"
         }
        }
       }
      }
     },
     "metadata": {},
     "output_type": "display_data"
    }
   ],
   "source": [
    "# Let's have a look at the distributin between quantity and total price\n",
    "fig = px.scatter(data,\n",
    "                 x=\"total_price\",\n",
    "                 y=\"qty\",\n",
    "                 title=\"Relationship Between Quantity and Total Price\", trendline=\"ols\",)\n",
    "fig.update_traces(marker=dict(color=\"green\", size=5))\n",
    "fig.update_traces(line=dict(color=\"Red\"), selector=dict(mode=\"lines\"))\n",
    "fig.show()"
   ]
  },
  {
   "cell_type": "code",
   "execution_count": 41,
   "metadata": {},
   "outputs": [
    {
     "data": {
      "application/vnd.plotly.v1+json": {
       "config": {
        "plotlyServerURL": "https://plot.ly"
       },
       "data": [
        {
         "alignmentgroup": "True",
         "hovertemplate": "product_category_name=%{x}<br>total_price=%{y}<extra></extra>",
         "legendgroup": "",
         "marker": {
          "color": "#636efa",
          "pattern": {
           "shape": ""
          }
         },
         "name": "",
         "offsetgroup": "",
         "orientation": "v",
         "showlegend": false,
         "textposition": "auto",
         "type": "bar",
         "x": [
          "bed_bath_table",
          "bed_bath_table",
          "bed_bath_table",
          "bed_bath_table",
          "bed_bath_table",
          "bed_bath_table",
          "bed_bath_table",
          "bed_bath_table",
          "bed_bath_table",
          "bed_bath_table",
          "bed_bath_table",
          "bed_bath_table",
          "bed_bath_table",
          "bed_bath_table",
          "bed_bath_table",
          "bed_bath_table",
          "garden_tools",
          "garden_tools",
          "garden_tools",
          "garden_tools",
          "garden_tools",
          "garden_tools",
          "garden_tools",
          "garden_tools",
          "garden_tools",
          "garden_tools",
          "garden_tools",
          "garden_tools",
          "garden_tools",
          "garden_tools",
          "consoles_games",
          "consoles_games",
          "consoles_games",
          "consoles_games",
          "consoles_games",
          "consoles_games",
          "consoles_games",
          "consoles_games",
          "consoles_games",
          "consoles_games",
          "consoles_games",
          "consoles_games",
          "garden_tools",
          "garden_tools",
          "garden_tools",
          "garden_tools",
          "garden_tools",
          "garden_tools",
          "garden_tools",
          "garden_tools",
          "garden_tools",
          "garden_tools",
          "garden_tools",
          "garden_tools",
          "garden_tools",
          "garden_tools",
          "garden_tools",
          "garden_tools",
          "health_beauty",
          "health_beauty",
          "health_beauty",
          "health_beauty",
          "health_beauty",
          "health_beauty",
          "health_beauty",
          "health_beauty",
          "health_beauty",
          "health_beauty",
          "health_beauty",
          "health_beauty",
          "health_beauty",
          "health_beauty",
          "health_beauty",
          "health_beauty",
          "health_beauty",
          "health_beauty",
          "cool_stuff",
          "cool_stuff",
          "cool_stuff",
          "cool_stuff",
          "cool_stuff",
          "cool_stuff",
          "cool_stuff",
          "cool_stuff",
          "cool_stuff",
          "health_beauty",
          "health_beauty",
          "health_beauty",
          "health_beauty",
          "health_beauty",
          "health_beauty",
          "health_beauty",
          "health_beauty",
          "perfumery",
          "perfumery",
          "perfumery",
          "perfumery",
          "perfumery",
          "perfumery",
          "perfumery",
          "perfumery",
          "perfumery",
          "perfumery",
          "perfumery",
          "perfumery",
          "perfumery",
          "cool_stuff",
          "cool_stuff",
          "cool_stuff",
          "cool_stuff",
          "cool_stuff",
          "cool_stuff",
          "cool_stuff",
          "cool_stuff",
          "cool_stuff",
          "cool_stuff",
          "cool_stuff",
          "cool_stuff",
          "cool_stuff",
          "health_beauty",
          "health_beauty",
          "health_beauty",
          "health_beauty",
          "health_beauty",
          "health_beauty",
          "health_beauty",
          "health_beauty",
          "health_beauty",
          "health_beauty",
          "health_beauty",
          "health_beauty",
          "health_beauty",
          "health_beauty",
          "health_beauty",
          "health_beauty",
          "health_beauty",
          "garden_tools",
          "garden_tools",
          "garden_tools",
          "garden_tools",
          "garden_tools",
          "garden_tools",
          "garden_tools",
          "garden_tools",
          "garden_tools",
          "garden_tools",
          "garden_tools",
          "garden_tools",
          "garden_tools",
          "garden_tools",
          "computers_accessories",
          "computers_accessories",
          "computers_accessories",
          "computers_accessories",
          "computers_accessories",
          "computers_accessories",
          "computers_accessories",
          "computers_accessories",
          "garden_tools",
          "garden_tools",
          "garden_tools",
          "garden_tools",
          "garden_tools",
          "garden_tools",
          "garden_tools",
          "garden_tools",
          "garden_tools",
          "garden_tools",
          "garden_tools",
          "garden_tools",
          "garden_tools",
          "garden_tools",
          "garden_tools",
          "garden_tools",
          "computers_accessories",
          "computers_accessories",
          "computers_accessories",
          "computers_accessories",
          "computers_accessories",
          "computers_accessories",
          "computers_accessories",
          "computers_accessories",
          "health_beauty",
          "health_beauty",
          "health_beauty",
          "health_beauty",
          "health_beauty",
          "health_beauty",
          "health_beauty",
          "garden_tools",
          "garden_tools",
          "garden_tools",
          "garden_tools",
          "garden_tools",
          "garden_tools",
          "garden_tools",
          "garden_tools",
          "garden_tools",
          "garden_tools",
          "garden_tools",
          "garden_tools",
          "garden_tools",
          "garden_tools",
          "garden_tools",
          "garden_tools",
          "health_beauty",
          "health_beauty",
          "health_beauty",
          "health_beauty",
          "health_beauty",
          "health_beauty",
          "health_beauty",
          "watches_gifts",
          "watches_gifts",
          "watches_gifts",
          "watches_gifts",
          "watches_gifts",
          "watches_gifts",
          "watches_gifts",
          "watches_gifts",
          "watches_gifts",
          "watches_gifts",
          "watches_gifts",
          "watches_gifts",
          "watches_gifts",
          "watches_gifts",
          "watches_gifts",
          "health_beauty",
          "health_beauty",
          "health_beauty",
          "health_beauty",
          "health_beauty",
          "health_beauty",
          "health_beauty",
          "health_beauty",
          "health_beauty",
          "garden_tools",
          "garden_tools",
          "garden_tools",
          "garden_tools",
          "garden_tools",
          "garden_tools",
          "garden_tools",
          "garden_tools",
          "garden_tools",
          "garden_tools",
          "garden_tools",
          "garden_tools",
          "garden_tools",
          "garden_tools",
          "garden_tools",
          "garden_tools",
          "garden_tools",
          "garden_tools",
          "garden_tools",
          "garden_tools",
          "garden_tools",
          "garden_tools",
          "garden_tools",
          "garden_tools",
          "garden_tools",
          "garden_tools",
          "garden_tools",
          "garden_tools",
          "garden_tools",
          "garden_tools",
          "garden_tools",
          "watches_gifts",
          "watches_gifts",
          "watches_gifts",
          "watches_gifts",
          "watches_gifts",
          "watches_gifts",
          "watches_gifts",
          "watches_gifts",
          "watches_gifts",
          "watches_gifts",
          "watches_gifts",
          "watches_gifts",
          "watches_gifts",
          "watches_gifts",
          "cool_stuff",
          "cool_stuff",
          "cool_stuff",
          "cool_stuff",
          "cool_stuff",
          "cool_stuff",
          "cool_stuff",
          "perfumery",
          "perfumery",
          "perfumery",
          "perfumery",
          "perfumery",
          "perfumery",
          "perfumery",
          "perfumery",
          "perfumery",
          "perfumery",
          "perfumery",
          "perfumery",
          "perfumery",
          "cool_stuff",
          "cool_stuff",
          "cool_stuff",
          "cool_stuff",
          "cool_stuff",
          "cool_stuff",
          "cool_stuff",
          "cool_stuff",
          "cool_stuff",
          "cool_stuff",
          "cool_stuff",
          "cool_stuff",
          "cool_stuff",
          "computers_accessories",
          "computers_accessories",
          "computers_accessories",
          "computers_accessories",
          "computers_accessories",
          "computers_accessories",
          "computers_accessories",
          "computers_accessories",
          "computers_accessories",
          "computers_accessories",
          "computers_accessories",
          "computers_accessories",
          "computers_accessories",
          "computers_accessories",
          "computers_accessories",
          "consoles_games",
          "consoles_games",
          "consoles_games",
          "consoles_games",
          "consoles_games",
          "consoles_games",
          "consoles_games",
          "consoles_games",
          "consoles_games",
          "consoles_games",
          "health_beauty",
          "health_beauty",
          "health_beauty",
          "health_beauty",
          "health_beauty",
          "health_beauty",
          "health_beauty",
          "health_beauty",
          "health_beauty",
          "health_beauty",
          "health_beauty",
          "health_beauty",
          "health_beauty",
          "health_beauty",
          "health_beauty",
          "health_beauty",
          "health_beauty",
          "health_beauty",
          "health_beauty",
          "health_beauty",
          "watches_gifts",
          "watches_gifts",
          "watches_gifts",
          "watches_gifts",
          "watches_gifts",
          "watches_gifts",
          "watches_gifts",
          "watches_gifts",
          "watches_gifts",
          "watches_gifts",
          "furniture_decor",
          "furniture_decor",
          "furniture_decor",
          "furniture_decor",
          "furniture_decor",
          "furniture_decor",
          "furniture_decor",
          "furniture_decor",
          "furniture_decor",
          "furniture_decor",
          "watches_gifts",
          "watches_gifts",
          "watches_gifts",
          "watches_gifts",
          "watches_gifts",
          "watches_gifts",
          "watches_gifts",
          "watches_gifts",
          "watches_gifts",
          "watches_gifts",
          "health_beauty",
          "health_beauty",
          "health_beauty",
          "health_beauty",
          "health_beauty",
          "health_beauty",
          "health_beauty",
          "health_beauty",
          "health_beauty",
          "health_beauty",
          "health_beauty",
          "health_beauty",
          "health_beauty",
          "health_beauty",
          "health_beauty",
          "health_beauty",
          "health_beauty",
          "health_beauty",
          "health_beauty",
          "health_beauty",
          "bed_bath_table",
          "bed_bath_table",
          "bed_bath_table",
          "bed_bath_table",
          "bed_bath_table",
          "bed_bath_table",
          "bed_bath_table",
          "bed_bath_table",
          "bed_bath_table",
          "bed_bath_table",
          "bed_bath_table",
          "garden_tools",
          "garden_tools",
          "garden_tools",
          "garden_tools",
          "garden_tools",
          "garden_tools",
          "garden_tools",
          "garden_tools",
          "garden_tools",
          "garden_tools",
          "garden_tools",
          "garden_tools",
          "garden_tools",
          "garden_tools",
          "garden_tools",
          "garden_tools",
          "garden_tools",
          "garden_tools",
          "bed_bath_table",
          "bed_bath_table",
          "bed_bath_table",
          "bed_bath_table",
          "bed_bath_table",
          "bed_bath_table",
          "bed_bath_table",
          "bed_bath_table",
          "bed_bath_table",
          "bed_bath_table",
          "bed_bath_table",
          "bed_bath_table",
          "bed_bath_table",
          "bed_bath_table",
          "bed_bath_table",
          "bed_bath_table",
          "bed_bath_table",
          "bed_bath_table",
          "bed_bath_table",
          "furniture_decor",
          "furniture_decor",
          "furniture_decor",
          "furniture_decor",
          "furniture_decor",
          "furniture_decor",
          "furniture_decor",
          "furniture_decor",
          "furniture_decor",
          "furniture_decor",
          "furniture_decor",
          "furniture_decor",
          "watches_gifts",
          "watches_gifts",
          "watches_gifts",
          "watches_gifts",
          "watches_gifts",
          "watches_gifts",
          "watches_gifts",
          "watches_gifts",
          "watches_gifts",
          "watches_gifts",
          "watches_gifts",
          "watches_gifts",
          "watches_gifts",
          "watches_gifts",
          "watches_gifts",
          "watches_gifts",
          "watches_gifts",
          "watches_gifts",
          "watches_gifts",
          "watches_gifts",
          "watches_gifts",
          "watches_gifts",
          "watches_gifts",
          "watches_gifts",
          "watches_gifts",
          "furniture_decor",
          "furniture_decor",
          "furniture_decor",
          "furniture_decor",
          "furniture_decor",
          "furniture_decor",
          "furniture_decor",
          "furniture_decor",
          "furniture_decor",
          "furniture_decor",
          "furniture_decor",
          "furniture_decor",
          "furniture_decor",
          "garden_tools",
          "garden_tools",
          "garden_tools",
          "garden_tools",
          "garden_tools",
          "garden_tools",
          "garden_tools",
          "garden_tools",
          "garden_tools",
          "garden_tools",
          "garden_tools",
          "garden_tools",
          "garden_tools",
          "garden_tools",
          "garden_tools",
          "garden_tools",
          "garden_tools",
          "furniture_decor",
          "furniture_decor",
          "furniture_decor",
          "furniture_decor",
          "furniture_decor",
          "furniture_decor",
          "furniture_decor",
          "furniture_decor",
          "furniture_decor",
          "furniture_decor",
          "furniture_decor",
          "furniture_decor",
          "furniture_decor",
          "health_beauty",
          "health_beauty",
          "health_beauty",
          "health_beauty",
          "health_beauty",
          "health_beauty",
          "health_beauty",
          "health_beauty",
          "health_beauty",
          "health_beauty",
          "health_beauty",
          "health_beauty",
          "health_beauty",
          "garden_tools",
          "garden_tools",
          "garden_tools",
          "garden_tools",
          "garden_tools",
          "garden_tools",
          "garden_tools",
          "garden_tools",
          "garden_tools",
          "garden_tools",
          "garden_tools",
          "garden_tools",
          "garden_tools",
          "garden_tools",
          "garden_tools",
          "garden_tools",
          "garden_tools",
          "garden_tools",
          "cool_stuff",
          "cool_stuff",
          "cool_stuff",
          "cool_stuff",
          "cool_stuff",
          "cool_stuff",
          "cool_stuff",
          "cool_stuff",
          "cool_stuff",
          "cool_stuff",
          "cool_stuff",
          "cool_stuff",
          "cool_stuff",
          "cool_stuff",
          "cool_stuff",
          "computers_accessories",
          "computers_accessories",
          "computers_accessories",
          "computers_accessories",
          "computers_accessories",
          "computers_accessories",
          "computers_accessories",
          "computers_accessories",
          "computers_accessories",
          "computers_accessories",
          "computers_accessories",
          "computers_accessories",
          "computers_accessories",
          "computers_accessories",
          "computers_accessories",
          "computers_accessories",
          "computers_accessories",
          "computers_accessories",
          "watches_gifts",
          "watches_gifts",
          "watches_gifts",
          "watches_gifts",
          "watches_gifts",
          "watches_gifts",
          "watches_gifts",
          "watches_gifts",
          "watches_gifts",
          "watches_gifts",
          "watches_gifts",
          "watches_gifts",
          "computers_accessories",
          "computers_accessories",
          "computers_accessories",
          "computers_accessories",
          "computers_accessories",
          "computers_accessories",
          "computers_accessories",
          "computers_accessories",
          "computers_accessories",
          "computers_accessories",
          "health_beauty",
          "health_beauty",
          "health_beauty",
          "health_beauty",
          "health_beauty",
          "health_beauty",
          "health_beauty",
          "health_beauty",
          "health_beauty",
          "health_beauty",
          "health_beauty",
          "watches_gifts",
          "watches_gifts",
          "watches_gifts",
          "watches_gifts",
          "watches_gifts",
          "watches_gifts",
          "watches_gifts",
          "watches_gifts",
          "watches_gifts",
          "watches_gifts",
          "watches_gifts",
          "watches_gifts",
          "watches_gifts",
          "watches_gifts",
          "watches_gifts",
          "watches_gifts",
          "watches_gifts",
          "computers_accessories",
          "computers_accessories",
          "computers_accessories",
          "computers_accessories",
          "computers_accessories",
          "computers_accessories",
          "computers_accessories",
          "computers_accessories",
          "computers_accessories",
          "computers_accessories",
          "bed_bath_table",
          "bed_bath_table",
          "bed_bath_table",
          "bed_bath_table",
          "bed_bath_table",
          "bed_bath_table",
          "bed_bath_table",
          "bed_bath_table",
          "bed_bath_table",
          "bed_bath_table",
          "bed_bath_table",
          "bed_bath_table",
          "bed_bath_table",
          "bed_bath_table",
          "bed_bath_table"
         ],
         "xaxis": "x",
         "y": [
          45.95,
          137.85,
          275.7,
          183.8,
          91.9,
          137.85,
          445.85,
          239.94,
          759.81,
          719.82,
          679.83,
          519.87,
          759.81,
          199.95,
          319.92,
          313.92,
          419.4,
          247.9,
          1956,
          712,
          890,
          683,
          891,
          1386,
          1683,
          1089,
          398,
          202,
          101,
          101,
          258.7,
          477.6,
          179.1,
          603.2,
          686,
          392,
          162.5,
          195,
          245.4,
          108.6,
          72.4,
          36.2,
          59.9,
          59.9,
          239.6,
          359.4,
          299.5,
          658.9,
          1043.6,
          571.8,
          548.9,
          411.2,
          161.7,
          431.2,
          477.1,
          249.5,
          299.4,
          349.3,
          219.89,
          179.91,
          259.87,
          319.84,
          419.79,
          579.71,
          651.72,
          575.76,
          647.73,
          671.72,
          455.81,
          455.81,
          335.86,
          191.92,
          167.93,
          71.97,
          71.97,
          47.98,
          134.99,
          134.99,
          1763.88,
          4248.73,
          4842.71,
          2170.87,
          1415.92,
          1911.89,
          1019.94,
          110.99,
          221.98,
          998.91,
          1514.87,
          2759.77,
          5288.57,
          4058.67,
          3935.68,
          227.96,
          398.93,
          398.93,
          968.83,
          968.83,
          1139.8,
          1367.76,
          569.9,
          227.96,
          706.86,
          99.98,
          399.92,
          199.96,
          199.98,
          1799.82,
          1099.89,
          1399.86,
          799.92,
          599.94,
          899.91,
          199.98,
          299.97,
          599.94,
          899.91,
          489.76,
          338.77,
          539.94,
          539.94,
          809.91,
          1529.83,
          1619.82,
          1889.79,
          2159.76,
          2339.74,
          1709.81,
          1799.8,
          1529.83,
          1339.84,
          1119.86,
          1279.84,
          1039.87,
          799.9,
          579.75,
          778.7,
          1377.7,
          778.7,
          2156.4,
          3711.7,
          2468.6,
          1946.1,
          2411.2,
          1401.4,
          1509.2,
          1319.5,
          748.5,
          149.7,
          299.4,
          167,
          239.8,
          5453.96,
          3465.8,
          528,
          880,
          269.7,
          236.7,
          179.7,
          179.7,
          1138.1,
          1617.3,
          1018.3,
          1856.9,
          4712.19,
          1769.7,
          1447.1,
          1828.4,
          1886.5,
          700.7,
          1559.1,
          299.4,
          698.6,
          499,
          3307.8,
          10343.1,
          7644.9,
          5246.5,
          7794.8,
          4047.3,
          1948.7,
          749.5,
          185.97,
          805.87,
          974.85,
          2469.62,
          1741.74,
          1808.73,
          1875.72,
          239.6,
          59.9,
          838.6,
          2336.1,
          2216.3,
          2336.1,
          4769.7,
          2881.6,
          598.8,
          1970.1,
          1670.9,
          2479.4,
          2982.4,
          598.8,
          299.46,
          299.46,
          994.04,
          2809.65,
          965.91,
          1723.08,
          449.82,
          257.56,
          557.85,
          789.95,
          1016.95,
          849.5,
          1604,
          2391.6,
          3660,
          894,
          1188,
          2043.92,
          1115.7,
          1191.9,
          2598.9,
          139.9,
          694.9,
          414,
          254.97,
          339.96,
          254.97,
          3059.64,
          4249.5,
          1104.87,
          594.93,
          339.96,
          169.98,
          179.99,
          539.97,
          359.98,
          1079.94,
          2339.87,
          2759.85,
          2629.96,
          2148,
          2277,
          1969,
          537,
          1590,
          1112,
          973,
          179.7,
          419.3,
          239.6,
          1138.1,
          1257.9,
          1377.7,
          1138.1,
          4397.7,
          2232.6,
          1247.5,
          2247.6,
          1347.5,
          1078,
          888.3,
          399.2,
          449.1,
          349.3,
          652,
          1777.5,
          2088.7,
          2762.5,
          134.9,
          1995,
          596,
          769.45,
          3640.68,
          8961.49,
          11820.2,
          1071,
          1302,
          112,
          29.5,
          2242,
          910,
          140,
          140,
          130,
          65,
          142.5,
          142.5,
          285,
          944.4,
          1416,
          707.4,
          1296.8,
          470.8,
          943.8,
          2038.3,
          1668.5,
          593.5,
          1987.4,
          1039.92,
          1819.86,
          2339.82,
          2209.83,
          2079.84,
          1870.84,
          1199.9,
          1169.91,
          389.97,
          519.96,
          259.98,
          129.99,
          129.99,
          379.6,
          611.4,
          1099,
          219.8,
          395.6,
          395.6,
          593.4,
          98.9,
          2795.14,
          2537.19,
          1139.8,
          470,
          292,
          1199.48,
          79.9,
          19.9,
          218.9,
          179.1,
          248,
          563.5,
          416.5,
          271.2,
          32.5,
          229.2,
          205.2,
          2799.2,
          1399.6,
          699.8,
          349.9,
          1399.6,
          699.8,
          349.9,
          2449.3,
          2449.3,
          3499,
          3543.5,
          2449.3,
          4198.8,
          5248.5,
          5948.3,
          2449.3,
          3513.1,
          4004,
          4004,
          3276,
          479.8,
          479.8,
          459.8,
          2250.8,
          2680,
          3908.9,
          4355,
          457.9,
          2200,
          1737.4,
          99.9,
          299.7,
          1298.7,
          1298.7,
          1198.8,
          1298.7,
          1298.7,
          999,
          1099.5,
          754.5,
          1839.2,
          2190.6,
          1729.2,
          2395.2,
          6287.2,
          2207.7,
          4319.4,
          3459,
          2657,
          3383,
          64.99,
          324.95,
          584.91,
          584.91,
          1039.84,
          1234.79,
          888.85,
          1297.78,
          1474.75,
          1120.81,
          1415.76,
          530.91,
          353.94,
          825.86,
          589.9,
          648.89,
          235.96,
          353.94,
          117.98,
          176.97,
          792,
          2178,
          693,
          1082,
          1196,
          276,
          815,
          1235.36,
          1188.6,
          764.1,
          84.9,
          99.99,
          1099.89,
          759.92,
          219.98,
          239.98,
          240,
          417,
          1105.92,
          1889.79,
          1259.86,
          1479.98,
          1680,
          680,
          770,
          880,
          969.9,
          499.95,
          199.98,
          179.8,
          1977.8,
          3056.6,
          5214.2,
          4584.9,
          5394,
          3326.3,
          2067.7,
          1258.6,
          3596,
          1594.2,
          1477.3,
          1911.8,
          1477.3,
          510.27,
          2174.89,
          1837.7,
          781.3,
          518,
          38.4,
          230.4,
          307.2,
          1170.35,
          153.6,
          576,
          153.6,
          493.4,
          140,
          140,
          70,
          35,
          1404,
          1404,
          4752,
          3564,
          2214,
          2205,
          3885,
          2940,
          840,
          735,
          78,
          234,
          78,
          390,
          234,
          156,
          468,
          702,
          78,
          78,
          1248,
          390,
          3042,
          3120,
          2179,
          375,
          975,
          375,
          3300,
          3525,
          8538,
          3075.6,
          4543.5,
          5801.7,
          6430.8,
          179.8,
          179.8,
          309.7,
          299.5,
          119.8,
          299.5,
          898.5,
          1138.1,
          2036.6,
          778.7,
          495.5,
          49.9,
          49.9,
          203.6,
          107.8,
          107.8,
          199.6,
          249.5,
          149.7,
          149.7,
          38.4,
          307.2,
          460.8,
          960,
          1026.51,
          76.8,
          345.6,
          601.8,
          595,
          385,
          455,
          350,
          560,
          1950,
          3575,
          650,
          3900,
          1950,
          3250,
          7475,
          9125,
          6930,
          6270,
          5280,
          4290,
          9240,
          99.99,
          499.95,
          439.96,
          659.94,
          120,
          240,
          735,
          1619.93,
          2519.72,
          2429.73,
          1405,
          840,
          660,
          550,
          220,
          539.94,
          699.93,
          589.94,
          599.93,
          1399.86,
          1699.83,
          2199.78,
          1399.86,
          1099.89,
          1399.86,
          299.97,
          199.98,
          399.96,
          299.97,
          299.97,
          99.99,
          199.98,
          269.59,
          479.97,
          479.97,
          699.95,
          479.97,
          839.94,
          1019.93,
          1679.89,
          2629.83,
          2699.82,
          3449.77,
          6746.9,
          4619,
          5986,
          6764,
          2975,
          3086.76,
          1079.91,
          1199.9,
          678,
          339,
          3461.58,
          3111.36,
          3836.8,
          339.9,
          1735,
          1847,
          1684,
          5956.3,
          983.6,
          7651.27,
          2715.7,
          2247.72,
          584.77,
          1884.45,
          1656.87,
          2206.4,
          2482.2,
          269.8,
          665,
          398.91,
          29.9,
          179.4,
          179.4,
          448.5,
          478.4,
          328.9,
          657.8,
          657.8,
          209.3,
          538.2,
          388.7,
          1205.03,
          766.83,
          925,
          1973.83,
          2698.5,
          3291.4,
          929.96,
          3139.8,
          929.8,
          398,
          1092,
          4860.11,
          1351.2,
          4241,
          2073.3,
          310,
          1601.06,
          109.9,
          1318.8,
          2831.55,
          5581.8,
          2187.3,
          1042.9,
          876.9,
          789,
          545.3,
          155.8,
          1331.1,
          1421.67,
          550.8,
          872.1,
          734.4,
          383.2,
          335.3,
          95.8,
          191.6,
          95.8,
          215,
          2090,
          12095,
          10375,
          5222.36
         ],
         "yaxis": "y"
        }
       ],
       "layout": {
        "barmode": "relative",
        "legend": {
         "tracegroupgap": 0
        },
        "template": {
         "data": {
          "bar": [
           {
            "error_x": {
             "color": "#2a3f5f"
            },
            "error_y": {
             "color": "#2a3f5f"
            },
            "marker": {
             "line": {
              "color": "#E5ECF6",
              "width": 0.5
             },
             "pattern": {
              "fillmode": "overlay",
              "size": 10,
              "solidity": 0.2
             }
            },
            "type": "bar"
           }
          ],
          "barpolar": [
           {
            "marker": {
             "line": {
              "color": "#E5ECF6",
              "width": 0.5
             },
             "pattern": {
              "fillmode": "overlay",
              "size": 10,
              "solidity": 0.2
             }
            },
            "type": "barpolar"
           }
          ],
          "carpet": [
           {
            "aaxis": {
             "endlinecolor": "#2a3f5f",
             "gridcolor": "white",
             "linecolor": "white",
             "minorgridcolor": "white",
             "startlinecolor": "#2a3f5f"
            },
            "baxis": {
             "endlinecolor": "#2a3f5f",
             "gridcolor": "white",
             "linecolor": "white",
             "minorgridcolor": "white",
             "startlinecolor": "#2a3f5f"
            },
            "type": "carpet"
           }
          ],
          "choropleth": [
           {
            "colorbar": {
             "outlinewidth": 0,
             "ticks": ""
            },
            "type": "choropleth"
           }
          ],
          "contour": [
           {
            "colorbar": {
             "outlinewidth": 0,
             "ticks": ""
            },
            "colorscale": [
             [
              0,
              "#0d0887"
             ],
             [
              0.1111111111111111,
              "#46039f"
             ],
             [
              0.2222222222222222,
              "#7201a8"
             ],
             [
              0.3333333333333333,
              "#9c179e"
             ],
             [
              0.4444444444444444,
              "#bd3786"
             ],
             [
              0.5555555555555556,
              "#d8576b"
             ],
             [
              0.6666666666666666,
              "#ed7953"
             ],
             [
              0.7777777777777778,
              "#fb9f3a"
             ],
             [
              0.8888888888888888,
              "#fdca26"
             ],
             [
              1,
              "#f0f921"
             ]
            ],
            "type": "contour"
           }
          ],
          "contourcarpet": [
           {
            "colorbar": {
             "outlinewidth": 0,
             "ticks": ""
            },
            "type": "contourcarpet"
           }
          ],
          "heatmap": [
           {
            "colorbar": {
             "outlinewidth": 0,
             "ticks": ""
            },
            "colorscale": [
             [
              0,
              "#0d0887"
             ],
             [
              0.1111111111111111,
              "#46039f"
             ],
             [
              0.2222222222222222,
              "#7201a8"
             ],
             [
              0.3333333333333333,
              "#9c179e"
             ],
             [
              0.4444444444444444,
              "#bd3786"
             ],
             [
              0.5555555555555556,
              "#d8576b"
             ],
             [
              0.6666666666666666,
              "#ed7953"
             ],
             [
              0.7777777777777778,
              "#fb9f3a"
             ],
             [
              0.8888888888888888,
              "#fdca26"
             ],
             [
              1,
              "#f0f921"
             ]
            ],
            "type": "heatmap"
           }
          ],
          "heatmapgl": [
           {
            "colorbar": {
             "outlinewidth": 0,
             "ticks": ""
            },
            "colorscale": [
             [
              0,
              "#0d0887"
             ],
             [
              0.1111111111111111,
              "#46039f"
             ],
             [
              0.2222222222222222,
              "#7201a8"
             ],
             [
              0.3333333333333333,
              "#9c179e"
             ],
             [
              0.4444444444444444,
              "#bd3786"
             ],
             [
              0.5555555555555556,
              "#d8576b"
             ],
             [
              0.6666666666666666,
              "#ed7953"
             ],
             [
              0.7777777777777778,
              "#fb9f3a"
             ],
             [
              0.8888888888888888,
              "#fdca26"
             ],
             [
              1,
              "#f0f921"
             ]
            ],
            "type": "heatmapgl"
           }
          ],
          "histogram": [
           {
            "marker": {
             "pattern": {
              "fillmode": "overlay",
              "size": 10,
              "solidity": 0.2
             }
            },
            "type": "histogram"
           }
          ],
          "histogram2d": [
           {
            "colorbar": {
             "outlinewidth": 0,
             "ticks": ""
            },
            "colorscale": [
             [
              0,
              "#0d0887"
             ],
             [
              0.1111111111111111,
              "#46039f"
             ],
             [
              0.2222222222222222,
              "#7201a8"
             ],
             [
              0.3333333333333333,
              "#9c179e"
             ],
             [
              0.4444444444444444,
              "#bd3786"
             ],
             [
              0.5555555555555556,
              "#d8576b"
             ],
             [
              0.6666666666666666,
              "#ed7953"
             ],
             [
              0.7777777777777778,
              "#fb9f3a"
             ],
             [
              0.8888888888888888,
              "#fdca26"
             ],
             [
              1,
              "#f0f921"
             ]
            ],
            "type": "histogram2d"
           }
          ],
          "histogram2dcontour": [
           {
            "colorbar": {
             "outlinewidth": 0,
             "ticks": ""
            },
            "colorscale": [
             [
              0,
              "#0d0887"
             ],
             [
              0.1111111111111111,
              "#46039f"
             ],
             [
              0.2222222222222222,
              "#7201a8"
             ],
             [
              0.3333333333333333,
              "#9c179e"
             ],
             [
              0.4444444444444444,
              "#bd3786"
             ],
             [
              0.5555555555555556,
              "#d8576b"
             ],
             [
              0.6666666666666666,
              "#ed7953"
             ],
             [
              0.7777777777777778,
              "#fb9f3a"
             ],
             [
              0.8888888888888888,
              "#fdca26"
             ],
             [
              1,
              "#f0f921"
             ]
            ],
            "type": "histogram2dcontour"
           }
          ],
          "mesh3d": [
           {
            "colorbar": {
             "outlinewidth": 0,
             "ticks": ""
            },
            "type": "mesh3d"
           }
          ],
          "parcoords": [
           {
            "line": {
             "colorbar": {
              "outlinewidth": 0,
              "ticks": ""
             }
            },
            "type": "parcoords"
           }
          ],
          "pie": [
           {
            "automargin": true,
            "type": "pie"
           }
          ],
          "scatter": [
           {
            "fillpattern": {
             "fillmode": "overlay",
             "size": 10,
             "solidity": 0.2
            },
            "type": "scatter"
           }
          ],
          "scatter3d": [
           {
            "line": {
             "colorbar": {
              "outlinewidth": 0,
              "ticks": ""
             }
            },
            "marker": {
             "colorbar": {
              "outlinewidth": 0,
              "ticks": ""
             }
            },
            "type": "scatter3d"
           }
          ],
          "scattercarpet": [
           {
            "marker": {
             "colorbar": {
              "outlinewidth": 0,
              "ticks": ""
             }
            },
            "type": "scattercarpet"
           }
          ],
          "scattergeo": [
           {
            "marker": {
             "colorbar": {
              "outlinewidth": 0,
              "ticks": ""
             }
            },
            "type": "scattergeo"
           }
          ],
          "scattergl": [
           {
            "marker": {
             "colorbar": {
              "outlinewidth": 0,
              "ticks": ""
             }
            },
            "type": "scattergl"
           }
          ],
          "scattermapbox": [
           {
            "marker": {
             "colorbar": {
              "outlinewidth": 0,
              "ticks": ""
             }
            },
            "type": "scattermapbox"
           }
          ],
          "scatterpolar": [
           {
            "marker": {
             "colorbar": {
              "outlinewidth": 0,
              "ticks": ""
             }
            },
            "type": "scatterpolar"
           }
          ],
          "scatterpolargl": [
           {
            "marker": {
             "colorbar": {
              "outlinewidth": 0,
              "ticks": ""
             }
            },
            "type": "scatterpolargl"
           }
          ],
          "scatterternary": [
           {
            "marker": {
             "colorbar": {
              "outlinewidth": 0,
              "ticks": ""
             }
            },
            "type": "scatterternary"
           }
          ],
          "surface": [
           {
            "colorbar": {
             "outlinewidth": 0,
             "ticks": ""
            },
            "colorscale": [
             [
              0,
              "#0d0887"
             ],
             [
              0.1111111111111111,
              "#46039f"
             ],
             [
              0.2222222222222222,
              "#7201a8"
             ],
             [
              0.3333333333333333,
              "#9c179e"
             ],
             [
              0.4444444444444444,
              "#bd3786"
             ],
             [
              0.5555555555555556,
              "#d8576b"
             ],
             [
              0.6666666666666666,
              "#ed7953"
             ],
             [
              0.7777777777777778,
              "#fb9f3a"
             ],
             [
              0.8888888888888888,
              "#fdca26"
             ],
             [
              1,
              "#f0f921"
             ]
            ],
            "type": "surface"
           }
          ],
          "table": [
           {
            "cells": {
             "fill": {
              "color": "#EBF0F8"
             },
             "line": {
              "color": "white"
             }
            },
            "header": {
             "fill": {
              "color": "#C8D4E3"
             },
             "line": {
              "color": "white"
             }
            },
            "type": "table"
           }
          ]
         },
         "layout": {
          "annotationdefaults": {
           "arrowcolor": "#2a3f5f",
           "arrowhead": 0,
           "arrowwidth": 1
          },
          "autotypenumbers": "strict",
          "coloraxis": {
           "colorbar": {
            "outlinewidth": 0,
            "ticks": ""
           }
          },
          "colorscale": {
           "diverging": [
            [
             0,
             "#8e0152"
            ],
            [
             0.1,
             "#c51b7d"
            ],
            [
             0.2,
             "#de77ae"
            ],
            [
             0.3,
             "#f1b6da"
            ],
            [
             0.4,
             "#fde0ef"
            ],
            [
             0.5,
             "#f7f7f7"
            ],
            [
             0.6,
             "#e6f5d0"
            ],
            [
             0.7,
             "#b8e186"
            ],
            [
             0.8,
             "#7fbc41"
            ],
            [
             0.9,
             "#4d9221"
            ],
            [
             1,
             "#276419"
            ]
           ],
           "sequential": [
            [
             0,
             "#0d0887"
            ],
            [
             0.1111111111111111,
             "#46039f"
            ],
            [
             0.2222222222222222,
             "#7201a8"
            ],
            [
             0.3333333333333333,
             "#9c179e"
            ],
            [
             0.4444444444444444,
             "#bd3786"
            ],
            [
             0.5555555555555556,
             "#d8576b"
            ],
            [
             0.6666666666666666,
             "#ed7953"
            ],
            [
             0.7777777777777778,
             "#fb9f3a"
            ],
            [
             0.8888888888888888,
             "#fdca26"
            ],
            [
             1,
             "#f0f921"
            ]
           ],
           "sequentialminus": [
            [
             0,
             "#0d0887"
            ],
            [
             0.1111111111111111,
             "#46039f"
            ],
            [
             0.2222222222222222,
             "#7201a8"
            ],
            [
             0.3333333333333333,
             "#9c179e"
            ],
            [
             0.4444444444444444,
             "#bd3786"
            ],
            [
             0.5555555555555556,
             "#d8576b"
            ],
            [
             0.6666666666666666,
             "#ed7953"
            ],
            [
             0.7777777777777778,
             "#fb9f3a"
            ],
            [
             0.8888888888888888,
             "#fdca26"
            ],
            [
             1,
             "#f0f921"
            ]
           ]
          },
          "colorway": [
           "#636efa",
           "#EF553B",
           "#00cc96",
           "#ab63fa",
           "#FFA15A",
           "#19d3f3",
           "#FF6692",
           "#B6E880",
           "#FF97FF",
           "#FECB52"
          ],
          "font": {
           "color": "#2a3f5f"
          },
          "geo": {
           "bgcolor": "white",
           "lakecolor": "white",
           "landcolor": "#E5ECF6",
           "showlakes": true,
           "showland": true,
           "subunitcolor": "white"
          },
          "hoverlabel": {
           "align": "left"
          },
          "hovermode": "closest",
          "mapbox": {
           "style": "light"
          },
          "paper_bgcolor": "white",
          "plot_bgcolor": "#E5ECF6",
          "polar": {
           "angularaxis": {
            "gridcolor": "white",
            "linecolor": "white",
            "ticks": ""
           },
           "bgcolor": "#E5ECF6",
           "radialaxis": {
            "gridcolor": "white",
            "linecolor": "white",
            "ticks": ""
           }
          },
          "scene": {
           "xaxis": {
            "backgroundcolor": "#E5ECF6",
            "gridcolor": "white",
            "gridwidth": 2,
            "linecolor": "white",
            "showbackground": true,
            "ticks": "",
            "zerolinecolor": "white"
           },
           "yaxis": {
            "backgroundcolor": "#E5ECF6",
            "gridcolor": "white",
            "gridwidth": 2,
            "linecolor": "white",
            "showbackground": true,
            "ticks": "",
            "zerolinecolor": "white"
           },
           "zaxis": {
            "backgroundcolor": "#E5ECF6",
            "gridcolor": "white",
            "gridwidth": 2,
            "linecolor": "white",
            "showbackground": true,
            "ticks": "",
            "zerolinecolor": "white"
           }
          },
          "shapedefaults": {
           "line": {
            "color": "#2a3f5f"
           }
          },
          "ternary": {
           "aaxis": {
            "gridcolor": "white",
            "linecolor": "white",
            "ticks": ""
           },
           "baxis": {
            "gridcolor": "white",
            "linecolor": "white",
            "ticks": ""
           },
           "bgcolor": "#E5ECF6",
           "caxis": {
            "gridcolor": "white",
            "linecolor": "white",
            "ticks": ""
           }
          },
          "title": {
           "x": 0.05
          },
          "xaxis": {
           "automargin": true,
           "gridcolor": "white",
           "linecolor": "white",
           "ticks": "",
           "title": {
            "standoff": 15
           },
           "zerolinecolor": "white",
           "zerolinewidth": 2
          },
          "yaxis": {
           "automargin": true,
           "gridcolor": "white",
           "linecolor": "white",
           "ticks": "",
           "title": {
            "standoff": 15
           },
           "zerolinecolor": "white",
           "zerolinewidth": 2
          }
         }
        },
        "title": {
         "text": "Average Total Price by Category Name"
        },
        "xaxis": {
         "anchor": "y",
         "domain": [
          0,
          1
         ],
         "title": {
          "text": "product_category_name"
         }
        },
        "yaxis": {
         "anchor": "x",
         "domain": [
          0,
          1
         ],
         "title": {
          "text": "total_price"
         }
        }
       }
      }
     },
     "metadata": {},
     "output_type": "display_data"
    }
   ],
   "source": [
    "# Let's have a look at the average total prices by product category\n",
    "fig = px.bar(data,\n",
    "             x=\"product_category_name\",\n",
    "             y=\"total_price\",\n",
    "             title=\"Average Total Price by Category Name\")\n",
    "fig.show()"
   ]
  },
  {
   "cell_type": "code",
   "execution_count": 43,
   "metadata": {},
   "outputs": [
    {
     "data": {
      "application/vnd.plotly.v1+json": {
       "config": {
        "plotlyServerURL": "https://plot.ly"
       },
       "data": [
        {
         "alignmentgroup": "True",
         "hovertemplate": "weekday=%{x}<br>total_price=%{y}<extra></extra>",
         "legendgroup": "",
         "marker": {
          "color": "#636efa"
         },
         "name": "",
         "notched": false,
         "offsetgroup": "",
         "orientation": "v",
         "showlegend": false,
         "type": "box",
         "x": [
          23,
          22,
          21,
          23,
          21,
          22,
          22,
          21,
          23,
          20,
          22,
          21,
          23,
          21,
          22,
          23,
          23,
          20,
          23,
          22,
          21,
          23,
          21,
          22,
          22,
          21,
          23,
          20,
          22,
          21,
          21,
          23,
          21,
          22,
          22,
          21,
          20,
          22,
          21,
          23,
          21,
          22,
          20,
          23,
          21,
          23,
          21,
          22,
          22,
          21,
          23,
          20,
          22,
          21,
          23,
          21,
          22,
          23,
          20,
          23,
          20,
          23,
          22,
          21,
          23,
          21,
          22,
          22,
          21,
          23,
          20,
          22,
          23,
          21,
          22,
          23,
          21,
          23,
          22,
          22,
          21,
          23,
          20,
          22,
          21,
          23,
          20,
          22,
          21,
          23,
          21,
          22,
          23,
          22,
          21,
          23,
          21,
          22,
          22,
          21,
          23,
          20,
          22,
          21,
          22,
          23,
          20,
          23,
          22,
          21,
          23,
          21,
          22,
          22,
          21,
          23,
          20,
          22,
          21,
          23,
          23,
          22,
          21,
          23,
          21,
          22,
          22,
          21,
          23,
          20,
          22,
          21,
          23,
          21,
          22,
          23,
          21,
          23,
          21,
          22,
          22,
          21,
          23,
          20,
          22,
          21,
          23,
          21,
          22,
          23,
          22,
          21,
          23,
          20,
          22,
          21,
          21,
          22,
          23,
          22,
          21,
          23,
          21,
          22,
          22,
          21,
          23,
          20,
          22,
          21,
          23,
          21,
          22,
          23,
          23,
          20,
          22,
          21,
          23,
          21,
          22,
          23,
          23,
          22,
          21,
          23,
          21,
          22,
          23,
          23,
          22,
          21,
          23,
          21,
          22,
          22,
          21,
          23,
          20,
          22,
          21,
          23,
          21,
          22,
          23,
          20,
          22,
          21,
          23,
          21,
          22,
          23,
          22,
          21,
          23,
          21,
          22,
          22,
          21,
          23,
          20,
          22,
          21,
          23,
          21,
          22,
          23,
          23,
          21,
          22,
          22,
          21,
          23,
          20,
          22,
          21,
          20,
          20,
          21,
          22,
          22,
          21,
          23,
          20,
          22,
          21,
          23,
          21,
          22,
          23,
          20,
          23,
          22,
          21,
          23,
          21,
          22,
          22,
          21,
          23,
          20,
          22,
          21,
          23,
          21,
          22,
          23,
          22,
          21,
          23,
          21,
          22,
          22,
          21,
          20,
          22,
          21,
          23,
          21,
          22,
          23,
          21,
          23,
          22,
          21,
          23,
          21,
          23,
          23,
          21,
          22,
          22,
          21,
          23,
          20,
          22,
          21,
          23,
          21,
          22,
          23,
          23,
          20,
          23,
          22,
          21,
          23,
          22,
          22,
          21,
          23,
          20,
          22,
          21,
          23,
          22,
          21,
          23,
          21,
          22,
          22,
          21,
          23,
          20,
          22,
          21,
          21,
          22,
          23,
          21,
          23,
          21,
          22,
          22,
          21,
          23,
          20,
          22,
          21,
          22,
          20,
          23,
          20,
          23,
          22,
          21,
          23,
          21,
          22,
          22,
          21,
          23,
          20,
          22,
          21,
          23,
          21,
          22,
          23,
          21,
          22,
          23,
          20,
          22,
          21,
          23,
          21,
          22,
          23,
          22,
          21,
          23,
          20,
          22,
          21,
          23,
          21,
          22,
          23,
          23,
          21,
          22,
          22,
          21,
          23,
          20,
          22,
          21,
          23,
          22,
          20,
          23,
          20,
          23,
          22,
          21,
          23,
          21,
          22,
          22,
          21,
          23,
          20,
          22,
          21,
          23,
          21,
          22,
          23,
          22,
          22,
          21,
          23,
          20,
          22,
          21,
          23,
          21,
          22,
          23,
          20,
          23,
          20,
          23,
          22,
          21,
          21,
          22,
          22,
          21,
          23,
          20,
          22,
          21,
          23,
          21,
          22,
          23,
          20,
          23,
          20,
          23,
          22,
          21,
          23,
          21,
          22,
          22,
          21,
          23,
          20,
          22,
          21,
          23,
          21,
          22,
          23,
          23,
          21,
          22,
          22,
          21,
          23,
          20,
          22,
          21,
          23,
          21,
          23,
          22,
          21,
          23,
          20,
          22,
          21,
          23,
          21,
          22,
          23,
          23,
          22,
          21,
          23,
          22,
          22,
          21,
          23,
          20,
          22,
          21,
          23,
          21,
          22,
          23,
          21,
          23,
          22,
          22,
          21,
          23,
          20,
          22,
          21,
          23,
          21,
          22,
          23,
          20,
          23,
          22,
          21,
          23,
          21,
          22,
          22,
          21,
          23,
          20,
          22,
          21,
          23,
          21,
          22,
          23,
          21,
          23,
          21,
          22,
          22,
          23,
          20,
          22,
          21,
          23,
          21,
          22,
          23,
          23,
          21,
          22,
          22,
          21,
          23,
          20,
          22,
          21,
          23,
          21,
          22,
          23,
          20,
          23,
          23,
          22,
          21,
          23,
          21,
          22,
          22,
          21,
          23,
          20,
          22,
          21,
          23,
          21,
          22,
          23,
          20,
          23,
          20,
          23,
          22,
          21,
          23,
          21,
          22,
          22,
          21,
          23,
          20,
          22,
          21,
          20,
          23,
          20,
          22,
          21,
          23,
          21,
          22,
          22,
          21,
          23,
          20,
          22,
          21,
          23,
          21,
          22,
          23,
          23,
          21,
          22,
          22,
          21,
          23,
          20,
          22,
          21,
          23,
          21,
          22,
          23,
          22,
          21,
          23,
          21,
          22,
          22,
          21,
          23,
          20,
          22,
          22,
          21,
          23,
          20,
          22,
          21,
          23,
          21,
          22,
          23,
          23,
          20,
          22,
          21,
          23,
          21,
          22,
          22,
          21,
          23,
          20,
          22,
          21,
          23,
          21,
          22,
          23,
          22,
          21,
          23,
          20,
          22,
          21,
          23,
          21,
          22,
          23,
          22,
          22,
          21,
          23,
          20,
          22,
          21,
          23,
          21,
          22,
          23,
          22,
          21,
          23,
          21
         ],
         "x0": " ",
         "xaxis": "x",
         "y": [
          45.95,
          137.85,
          275.7,
          183.8,
          91.9,
          137.85,
          445.85,
          239.94,
          759.81,
          719.82,
          679.83,
          519.87,
          759.81,
          199.95,
          319.92,
          313.92,
          419.4,
          247.9,
          1956,
          712,
          890,
          683,
          891,
          1386,
          1683,
          1089,
          398,
          202,
          101,
          101,
          258.7,
          477.6,
          179.1,
          603.2,
          686,
          392,
          162.5,
          195,
          245.4,
          108.6,
          72.4,
          36.2,
          59.9,
          59.9,
          239.6,
          359.4,
          299.5,
          658.9,
          1043.6,
          571.8,
          548.9,
          411.2,
          161.7,
          431.2,
          477.1,
          249.5,
          299.4,
          349.3,
          219.89,
          179.91,
          259.87,
          319.84,
          419.79,
          579.71,
          651.72,
          575.76,
          647.73,
          671.72,
          455.81,
          455.81,
          335.86,
          191.92,
          167.93,
          71.97,
          71.97,
          47.98,
          134.99,
          134.99,
          1763.88,
          4248.73,
          4842.71,
          2170.87,
          1415.92,
          1911.89,
          1019.94,
          110.99,
          221.98,
          998.91,
          1514.87,
          2759.77,
          5288.57,
          4058.67,
          3935.68,
          227.96,
          398.93,
          398.93,
          968.83,
          968.83,
          1139.8,
          1367.76,
          569.9,
          227.96,
          706.86,
          99.98,
          399.92,
          199.96,
          199.98,
          1799.82,
          1099.89,
          1399.86,
          799.92,
          599.94,
          899.91,
          199.98,
          299.97,
          599.94,
          899.91,
          489.76,
          338.77,
          539.94,
          539.94,
          809.91,
          1529.83,
          1619.82,
          1889.79,
          2159.76,
          2339.74,
          1709.81,
          1799.8,
          1529.83,
          1339.84,
          1119.86,
          1279.84,
          1039.87,
          799.9,
          579.75,
          778.7,
          1377.7,
          778.7,
          2156.4,
          3711.7,
          2468.6,
          1946.1,
          2411.2,
          1401.4,
          1509.2,
          1319.5,
          748.5,
          149.7,
          299.4,
          167,
          239.8,
          5453.96,
          3465.8,
          528,
          880,
          269.7,
          236.7,
          179.7,
          179.7,
          1138.1,
          1617.3,
          1018.3,
          1856.9,
          4712.19,
          1769.7,
          1447.1,
          1828.4,
          1886.5,
          700.7,
          1559.1,
          299.4,
          698.6,
          499,
          3307.8,
          10343.1,
          7644.9,
          5246.5,
          7794.8,
          4047.3,
          1948.7,
          749.5,
          185.97,
          805.87,
          974.85,
          2469.62,
          1741.74,
          1808.73,
          1875.72,
          239.6,
          59.9,
          838.6,
          2336.1,
          2216.3,
          2336.1,
          4769.7,
          2881.6,
          598.8,
          1970.1,
          1670.9,
          2479.4,
          2982.4,
          598.8,
          299.46,
          299.46,
          994.04,
          2809.65,
          965.91,
          1723.08,
          449.82,
          257.56,
          557.85,
          789.95,
          1016.95,
          849.5,
          1604,
          2391.6,
          3660,
          894,
          1188,
          2043.92,
          1115.7,
          1191.9,
          2598.9,
          139.9,
          694.9,
          414,
          254.97,
          339.96,
          254.97,
          3059.64,
          4249.5,
          1104.87,
          594.93,
          339.96,
          169.98,
          179.99,
          539.97,
          359.98,
          1079.94,
          2339.87,
          2759.85,
          2629.96,
          2148,
          2277,
          1969,
          537,
          1590,
          1112,
          973,
          179.7,
          419.3,
          239.6,
          1138.1,
          1257.9,
          1377.7,
          1138.1,
          4397.7,
          2232.6,
          1247.5,
          2247.6,
          1347.5,
          1078,
          888.3,
          399.2,
          449.1,
          349.3,
          652,
          1777.5,
          2088.7,
          2762.5,
          134.9,
          1995,
          596,
          769.45,
          3640.68,
          8961.49,
          11820.2,
          1071,
          1302,
          112,
          29.5,
          2242,
          910,
          140,
          140,
          130,
          65,
          142.5,
          142.5,
          285,
          944.4,
          1416,
          707.4,
          1296.8,
          470.8,
          943.8,
          2038.3,
          1668.5,
          593.5,
          1987.4,
          1039.92,
          1819.86,
          2339.82,
          2209.83,
          2079.84,
          1870.84,
          1199.9,
          1169.91,
          389.97,
          519.96,
          259.98,
          129.99,
          129.99,
          379.6,
          611.4,
          1099,
          219.8,
          395.6,
          395.6,
          593.4,
          98.9,
          2795.14,
          2537.19,
          1139.8,
          470,
          292,
          1199.48,
          79.9,
          19.9,
          218.9,
          179.1,
          248,
          563.5,
          416.5,
          271.2,
          32.5,
          229.2,
          205.2,
          2799.2,
          1399.6,
          699.8,
          349.9,
          1399.6,
          699.8,
          349.9,
          2449.3,
          2449.3,
          3499,
          3543.5,
          2449.3,
          4198.8,
          5248.5,
          5948.3,
          2449.3,
          3513.1,
          4004,
          4004,
          3276,
          479.8,
          479.8,
          459.8,
          2250.8,
          2680,
          3908.9,
          4355,
          457.9,
          2200,
          1737.4,
          99.9,
          299.7,
          1298.7,
          1298.7,
          1198.8,
          1298.7,
          1298.7,
          999,
          1099.5,
          754.5,
          1839.2,
          2190.6,
          1729.2,
          2395.2,
          6287.2,
          2207.7,
          4319.4,
          3459,
          2657,
          3383,
          64.99,
          324.95,
          584.91,
          584.91,
          1039.84,
          1234.79,
          888.85,
          1297.78,
          1474.75,
          1120.81,
          1415.76,
          530.91,
          353.94,
          825.86,
          589.9,
          648.89,
          235.96,
          353.94,
          117.98,
          176.97,
          792,
          2178,
          693,
          1082,
          1196,
          276,
          815,
          1235.36,
          1188.6,
          764.1,
          84.9,
          99.99,
          1099.89,
          759.92,
          219.98,
          239.98,
          240,
          417,
          1105.92,
          1889.79,
          1259.86,
          1479.98,
          1680,
          680,
          770,
          880,
          969.9,
          499.95,
          199.98,
          179.8,
          1977.8,
          3056.6,
          5214.2,
          4584.9,
          5394,
          3326.3,
          2067.7,
          1258.6,
          3596,
          1594.2,
          1477.3,
          1911.8,
          1477.3,
          510.27,
          2174.89,
          1837.7,
          781.3,
          518,
          38.4,
          230.4,
          307.2,
          1170.35,
          153.6,
          576,
          153.6,
          493.4,
          140,
          140,
          70,
          35,
          1404,
          1404,
          4752,
          3564,
          2214,
          2205,
          3885,
          2940,
          840,
          735,
          78,
          234,
          78,
          390,
          234,
          156,
          468,
          702,
          78,
          78,
          1248,
          390,
          3042,
          3120,
          2179,
          375,
          975,
          375,
          3300,
          3525,
          8538,
          3075.6,
          4543.5,
          5801.7,
          6430.8,
          179.8,
          179.8,
          309.7,
          299.5,
          119.8,
          299.5,
          898.5,
          1138.1,
          2036.6,
          778.7,
          495.5,
          49.9,
          49.9,
          203.6,
          107.8,
          107.8,
          199.6,
          249.5,
          149.7,
          149.7,
          38.4,
          307.2,
          460.8,
          960,
          1026.51,
          76.8,
          345.6,
          601.8,
          595,
          385,
          455,
          350,
          560,
          1950,
          3575,
          650,
          3900,
          1950,
          3250,
          7475,
          9125,
          6930,
          6270,
          5280,
          4290,
          9240,
          99.99,
          499.95,
          439.96,
          659.94,
          120,
          240,
          735,
          1619.93,
          2519.72,
          2429.73,
          1405,
          840,
          660,
          550,
          220,
          539.94,
          699.93,
          589.94,
          599.93,
          1399.86,
          1699.83,
          2199.78,
          1399.86,
          1099.89,
          1399.86,
          299.97,
          199.98,
          399.96,
          299.97,
          299.97,
          99.99,
          199.98,
          269.59,
          479.97,
          479.97,
          699.95,
          479.97,
          839.94,
          1019.93,
          1679.89,
          2629.83,
          2699.82,
          3449.77,
          6746.9,
          4619,
          5986,
          6764,
          2975,
          3086.76,
          1079.91,
          1199.9,
          678,
          339,
          3461.58,
          3111.36,
          3836.8,
          339.9,
          1735,
          1847,
          1684,
          5956.3,
          983.6,
          7651.27,
          2715.7,
          2247.72,
          584.77,
          1884.45,
          1656.87,
          2206.4,
          2482.2,
          269.8,
          665,
          398.91,
          29.9,
          179.4,
          179.4,
          448.5,
          478.4,
          328.9,
          657.8,
          657.8,
          209.3,
          538.2,
          388.7,
          1205.03,
          766.83,
          925,
          1973.83,
          2698.5,
          3291.4,
          929.96,
          3139.8,
          929.8,
          398,
          1092,
          4860.11,
          1351.2,
          4241,
          2073.3,
          310,
          1601.06,
          109.9,
          1318.8,
          2831.55,
          5581.8,
          2187.3,
          1042.9,
          876.9,
          789,
          545.3,
          155.8,
          1331.1,
          1421.67,
          550.8,
          872.1,
          734.4,
          383.2,
          335.3,
          95.8,
          191.6,
          95.8,
          215,
          2090,
          12095,
          10375,
          5222.36
         ],
         "y0": " ",
         "yaxis": "y"
        }
       ],
       "layout": {
        "boxmode": "group",
        "legend": {
         "tracegroupgap": 0
        },
        "template": {
         "data": {
          "bar": [
           {
            "error_x": {
             "color": "#2a3f5f"
            },
            "error_y": {
             "color": "#2a3f5f"
            },
            "marker": {
             "line": {
              "color": "#E5ECF6",
              "width": 0.5
             },
             "pattern": {
              "fillmode": "overlay",
              "size": 10,
              "solidity": 0.2
             }
            },
            "type": "bar"
           }
          ],
          "barpolar": [
           {
            "marker": {
             "line": {
              "color": "#E5ECF6",
              "width": 0.5
             },
             "pattern": {
              "fillmode": "overlay",
              "size": 10,
              "solidity": 0.2
             }
            },
            "type": "barpolar"
           }
          ],
          "carpet": [
           {
            "aaxis": {
             "endlinecolor": "#2a3f5f",
             "gridcolor": "white",
             "linecolor": "white",
             "minorgridcolor": "white",
             "startlinecolor": "#2a3f5f"
            },
            "baxis": {
             "endlinecolor": "#2a3f5f",
             "gridcolor": "white",
             "linecolor": "white",
             "minorgridcolor": "white",
             "startlinecolor": "#2a3f5f"
            },
            "type": "carpet"
           }
          ],
          "choropleth": [
           {
            "colorbar": {
             "outlinewidth": 0,
             "ticks": ""
            },
            "type": "choropleth"
           }
          ],
          "contour": [
           {
            "colorbar": {
             "outlinewidth": 0,
             "ticks": ""
            },
            "colorscale": [
             [
              0,
              "#0d0887"
             ],
             [
              0.1111111111111111,
              "#46039f"
             ],
             [
              0.2222222222222222,
              "#7201a8"
             ],
             [
              0.3333333333333333,
              "#9c179e"
             ],
             [
              0.4444444444444444,
              "#bd3786"
             ],
             [
              0.5555555555555556,
              "#d8576b"
             ],
             [
              0.6666666666666666,
              "#ed7953"
             ],
             [
              0.7777777777777778,
              "#fb9f3a"
             ],
             [
              0.8888888888888888,
              "#fdca26"
             ],
             [
              1,
              "#f0f921"
             ]
            ],
            "type": "contour"
           }
          ],
          "contourcarpet": [
           {
            "colorbar": {
             "outlinewidth": 0,
             "ticks": ""
            },
            "type": "contourcarpet"
           }
          ],
          "heatmap": [
           {
            "colorbar": {
             "outlinewidth": 0,
             "ticks": ""
            },
            "colorscale": [
             [
              0,
              "#0d0887"
             ],
             [
              0.1111111111111111,
              "#46039f"
             ],
             [
              0.2222222222222222,
              "#7201a8"
             ],
             [
              0.3333333333333333,
              "#9c179e"
             ],
             [
              0.4444444444444444,
              "#bd3786"
             ],
             [
              0.5555555555555556,
              "#d8576b"
             ],
             [
              0.6666666666666666,
              "#ed7953"
             ],
             [
              0.7777777777777778,
              "#fb9f3a"
             ],
             [
              0.8888888888888888,
              "#fdca26"
             ],
             [
              1,
              "#f0f921"
             ]
            ],
            "type": "heatmap"
           }
          ],
          "heatmapgl": [
           {
            "colorbar": {
             "outlinewidth": 0,
             "ticks": ""
            },
            "colorscale": [
             [
              0,
              "#0d0887"
             ],
             [
              0.1111111111111111,
              "#46039f"
             ],
             [
              0.2222222222222222,
              "#7201a8"
             ],
             [
              0.3333333333333333,
              "#9c179e"
             ],
             [
              0.4444444444444444,
              "#bd3786"
             ],
             [
              0.5555555555555556,
              "#d8576b"
             ],
             [
              0.6666666666666666,
              "#ed7953"
             ],
             [
              0.7777777777777778,
              "#fb9f3a"
             ],
             [
              0.8888888888888888,
              "#fdca26"
             ],
             [
              1,
              "#f0f921"
             ]
            ],
            "type": "heatmapgl"
           }
          ],
          "histogram": [
           {
            "marker": {
             "pattern": {
              "fillmode": "overlay",
              "size": 10,
              "solidity": 0.2
             }
            },
            "type": "histogram"
           }
          ],
          "histogram2d": [
           {
            "colorbar": {
             "outlinewidth": 0,
             "ticks": ""
            },
            "colorscale": [
             [
              0,
              "#0d0887"
             ],
             [
              0.1111111111111111,
              "#46039f"
             ],
             [
              0.2222222222222222,
              "#7201a8"
             ],
             [
              0.3333333333333333,
              "#9c179e"
             ],
             [
              0.4444444444444444,
              "#bd3786"
             ],
             [
              0.5555555555555556,
              "#d8576b"
             ],
             [
              0.6666666666666666,
              "#ed7953"
             ],
             [
              0.7777777777777778,
              "#fb9f3a"
             ],
             [
              0.8888888888888888,
              "#fdca26"
             ],
             [
              1,
              "#f0f921"
             ]
            ],
            "type": "histogram2d"
           }
          ],
          "histogram2dcontour": [
           {
            "colorbar": {
             "outlinewidth": 0,
             "ticks": ""
            },
            "colorscale": [
             [
              0,
              "#0d0887"
             ],
             [
              0.1111111111111111,
              "#46039f"
             ],
             [
              0.2222222222222222,
              "#7201a8"
             ],
             [
              0.3333333333333333,
              "#9c179e"
             ],
             [
              0.4444444444444444,
              "#bd3786"
             ],
             [
              0.5555555555555556,
              "#d8576b"
             ],
             [
              0.6666666666666666,
              "#ed7953"
             ],
             [
              0.7777777777777778,
              "#fb9f3a"
             ],
             [
              0.8888888888888888,
              "#fdca26"
             ],
             [
              1,
              "#f0f921"
             ]
            ],
            "type": "histogram2dcontour"
           }
          ],
          "mesh3d": [
           {
            "colorbar": {
             "outlinewidth": 0,
             "ticks": ""
            },
            "type": "mesh3d"
           }
          ],
          "parcoords": [
           {
            "line": {
             "colorbar": {
              "outlinewidth": 0,
              "ticks": ""
             }
            },
            "type": "parcoords"
           }
          ],
          "pie": [
           {
            "automargin": true,
            "type": "pie"
           }
          ],
          "scatter": [
           {
            "fillpattern": {
             "fillmode": "overlay",
             "size": 10,
             "solidity": 0.2
            },
            "type": "scatter"
           }
          ],
          "scatter3d": [
           {
            "line": {
             "colorbar": {
              "outlinewidth": 0,
              "ticks": ""
             }
            },
            "marker": {
             "colorbar": {
              "outlinewidth": 0,
              "ticks": ""
             }
            },
            "type": "scatter3d"
           }
          ],
          "scattercarpet": [
           {
            "marker": {
             "colorbar": {
              "outlinewidth": 0,
              "ticks": ""
             }
            },
            "type": "scattercarpet"
           }
          ],
          "scattergeo": [
           {
            "marker": {
             "colorbar": {
              "outlinewidth": 0,
              "ticks": ""
             }
            },
            "type": "scattergeo"
           }
          ],
          "scattergl": [
           {
            "marker": {
             "colorbar": {
              "outlinewidth": 0,
              "ticks": ""
             }
            },
            "type": "scattergl"
           }
          ],
          "scattermapbox": [
           {
            "marker": {
             "colorbar": {
              "outlinewidth": 0,
              "ticks": ""
             }
            },
            "type": "scattermapbox"
           }
          ],
          "scatterpolar": [
           {
            "marker": {
             "colorbar": {
              "outlinewidth": 0,
              "ticks": ""
             }
            },
            "type": "scatterpolar"
           }
          ],
          "scatterpolargl": [
           {
            "marker": {
             "colorbar": {
              "outlinewidth": 0,
              "ticks": ""
             }
            },
            "type": "scatterpolargl"
           }
          ],
          "scatterternary": [
           {
            "marker": {
             "colorbar": {
              "outlinewidth": 0,
              "ticks": ""
             }
            },
            "type": "scatterternary"
           }
          ],
          "surface": [
           {
            "colorbar": {
             "outlinewidth": 0,
             "ticks": ""
            },
            "colorscale": [
             [
              0,
              "#0d0887"
             ],
             [
              0.1111111111111111,
              "#46039f"
             ],
             [
              0.2222222222222222,
              "#7201a8"
             ],
             [
              0.3333333333333333,
              "#9c179e"
             ],
             [
              0.4444444444444444,
              "#bd3786"
             ],
             [
              0.5555555555555556,
              "#d8576b"
             ],
             [
              0.6666666666666666,
              "#ed7953"
             ],
             [
              0.7777777777777778,
              "#fb9f3a"
             ],
             [
              0.8888888888888888,
              "#fdca26"
             ],
             [
              1,
              "#f0f921"
             ]
            ],
            "type": "surface"
           }
          ],
          "table": [
           {
            "cells": {
             "fill": {
              "color": "#EBF0F8"
             },
             "line": {
              "color": "white"
             }
            },
            "header": {
             "fill": {
              "color": "#C8D4E3"
             },
             "line": {
              "color": "white"
             }
            },
            "type": "table"
           }
          ]
         },
         "layout": {
          "annotationdefaults": {
           "arrowcolor": "#2a3f5f",
           "arrowhead": 0,
           "arrowwidth": 1
          },
          "autotypenumbers": "strict",
          "coloraxis": {
           "colorbar": {
            "outlinewidth": 0,
            "ticks": ""
           }
          },
          "colorscale": {
           "diverging": [
            [
             0,
             "#8e0152"
            ],
            [
             0.1,
             "#c51b7d"
            ],
            [
             0.2,
             "#de77ae"
            ],
            [
             0.3,
             "#f1b6da"
            ],
            [
             0.4,
             "#fde0ef"
            ],
            [
             0.5,
             "#f7f7f7"
            ],
            [
             0.6,
             "#e6f5d0"
            ],
            [
             0.7,
             "#b8e186"
            ],
            [
             0.8,
             "#7fbc41"
            ],
            [
             0.9,
             "#4d9221"
            ],
            [
             1,
             "#276419"
            ]
           ],
           "sequential": [
            [
             0,
             "#0d0887"
            ],
            [
             0.1111111111111111,
             "#46039f"
            ],
            [
             0.2222222222222222,
             "#7201a8"
            ],
            [
             0.3333333333333333,
             "#9c179e"
            ],
            [
             0.4444444444444444,
             "#bd3786"
            ],
            [
             0.5555555555555556,
             "#d8576b"
            ],
            [
             0.6666666666666666,
             "#ed7953"
            ],
            [
             0.7777777777777778,
             "#fb9f3a"
            ],
            [
             0.8888888888888888,
             "#fdca26"
            ],
            [
             1,
             "#f0f921"
            ]
           ],
           "sequentialminus": [
            [
             0,
             "#0d0887"
            ],
            [
             0.1111111111111111,
             "#46039f"
            ],
            [
             0.2222222222222222,
             "#7201a8"
            ],
            [
             0.3333333333333333,
             "#9c179e"
            ],
            [
             0.4444444444444444,
             "#bd3786"
            ],
            [
             0.5555555555555556,
             "#d8576b"
            ],
            [
             0.6666666666666666,
             "#ed7953"
            ],
            [
             0.7777777777777778,
             "#fb9f3a"
            ],
            [
             0.8888888888888888,
             "#fdca26"
            ],
            [
             1,
             "#f0f921"
            ]
           ]
          },
          "colorway": [
           "#636efa",
           "#EF553B",
           "#00cc96",
           "#ab63fa",
           "#FFA15A",
           "#19d3f3",
           "#FF6692",
           "#B6E880",
           "#FF97FF",
           "#FECB52"
          ],
          "font": {
           "color": "#2a3f5f"
          },
          "geo": {
           "bgcolor": "white",
           "lakecolor": "white",
           "landcolor": "#E5ECF6",
           "showlakes": true,
           "showland": true,
           "subunitcolor": "white"
          },
          "hoverlabel": {
           "align": "left"
          },
          "hovermode": "closest",
          "mapbox": {
           "style": "light"
          },
          "paper_bgcolor": "white",
          "plot_bgcolor": "#E5ECF6",
          "polar": {
           "angularaxis": {
            "gridcolor": "white",
            "linecolor": "white",
            "ticks": ""
           },
           "bgcolor": "#E5ECF6",
           "radialaxis": {
            "gridcolor": "white",
            "linecolor": "white",
            "ticks": ""
           }
          },
          "scene": {
           "xaxis": {
            "backgroundcolor": "#E5ECF6",
            "gridcolor": "white",
            "gridwidth": 2,
            "linecolor": "white",
            "showbackground": true,
            "ticks": "",
            "zerolinecolor": "white"
           },
           "yaxis": {
            "backgroundcolor": "#E5ECF6",
            "gridcolor": "white",
            "gridwidth": 2,
            "linecolor": "white",
            "showbackground": true,
            "ticks": "",
            "zerolinecolor": "white"
           },
           "zaxis": {
            "backgroundcolor": "#E5ECF6",
            "gridcolor": "white",
            "gridwidth": 2,
            "linecolor": "white",
            "showbackground": true,
            "ticks": "",
            "zerolinecolor": "white"
           }
          },
          "shapedefaults": {
           "line": {
            "color": "#2a3f5f"
           }
          },
          "ternary": {
           "aaxis": {
            "gridcolor": "white",
            "linecolor": "white",
            "ticks": ""
           },
           "baxis": {
            "gridcolor": "white",
            "linecolor": "white",
            "ticks": ""
           },
           "bgcolor": "#E5ECF6",
           "caxis": {
            "gridcolor": "white",
            "linecolor": "white",
            "ticks": ""
           }
          },
          "title": {
           "x": 0.05
          },
          "xaxis": {
           "automargin": true,
           "gridcolor": "white",
           "linecolor": "white",
           "ticks": "",
           "title": {
            "standoff": 15
           },
           "zerolinecolor": "white",
           "zerolinewidth": 2
          },
          "yaxis": {
           "automargin": true,
           "gridcolor": "white",
           "linecolor": "white",
           "ticks": "",
           "title": {
            "standoff": 15
           },
           "zerolinecolor": "white",
           "zerolinewidth": 2
          }
         }
        },
        "title": {
         "text": "Box plot of the Total Price by Weekday"
        },
        "xaxis": {
         "anchor": "y",
         "domain": [
          0,
          1
         ],
         "title": {
          "text": "weekday"
         }
        },
        "yaxis": {
         "anchor": "x",
         "domain": [
          0,
          1
         ],
         "title": {
          "text": "total_price"
         }
        }
       }
      }
     },
     "metadata": {},
     "output_type": "display_data"
    }
   ],
   "source": [
    "# Let's have a look at the distribution of the\n",
    "fig = px.box(data,\n",
    "             x=\"weekday\",\n",
    "             y=\"total_price\",\n",
    "             title=\"Box plot of the Total Price by Weekday\")\n",
    "fig.show()"
   ]
  },
  {
   "cell_type": "code",
   "execution_count": 47,
   "metadata": {},
   "outputs": [
    {
     "data": {
      "application/vnd.plotly.v1+json": {
       "config": {
        "plotlyServerURL": "https://plot.ly"
       },
       "data": [
        {
         "alignmentgroup": "True",
         "hovertemplate": "holiday=%{x}<br>total_price=%{y}<extra></extra>",
         "legendgroup": "",
         "marker": {
          "color": "#636efa"
         },
         "name": "",
         "notched": false,
         "offsetgroup": "",
         "orientation": "v",
         "showlegend": false,
         "type": "box",
         "x": [
          1,
          1,
          1,
          1,
          1,
          2,
          4,
          1,
          2,
          2,
          1,
          1,
          3,
          0,
          1,
          1,
          1,
          2,
          1,
          1,
          1,
          1,
          1,
          2,
          4,
          1,
          2,
          2,
          1,
          1,
          1,
          1,
          1,
          2,
          4,
          1,
          2,
          1,
          1,
          3,
          0,
          1,
          2,
          1,
          1,
          1,
          1,
          2,
          4,
          1,
          2,
          2,
          1,
          1,
          3,
          0,
          1,
          1,
          2,
          1,
          2,
          1,
          1,
          1,
          1,
          1,
          2,
          4,
          1,
          2,
          2,
          1,
          3,
          0,
          1,
          1,
          1,
          1,
          2,
          4,
          1,
          2,
          2,
          1,
          1,
          2,
          2,
          1,
          1,
          3,
          0,
          1,
          1,
          1,
          1,
          1,
          1,
          2,
          4,
          1,
          2,
          2,
          1,
          1,
          1,
          1,
          2,
          1,
          1,
          1,
          1,
          1,
          2,
          4,
          1,
          2,
          2,
          1,
          1,
          1,
          1,
          1,
          1,
          1,
          1,
          2,
          4,
          1,
          2,
          2,
          1,
          1,
          3,
          0,
          1,
          1,
          1,
          1,
          1,
          2,
          4,
          1,
          2,
          2,
          1,
          1,
          3,
          0,
          1,
          1,
          2,
          1,
          2,
          2,
          1,
          1,
          0,
          1,
          1,
          1,
          1,
          1,
          1,
          2,
          4,
          1,
          2,
          2,
          1,
          1,
          3,
          0,
          1,
          1,
          2,
          2,
          1,
          1,
          3,
          0,
          1,
          1,
          2,
          1,
          1,
          3,
          0,
          1,
          1,
          1,
          1,
          1,
          1,
          1,
          2,
          4,
          1,
          2,
          2,
          1,
          1,
          3,
          0,
          1,
          1,
          2,
          1,
          1,
          3,
          0,
          1,
          1,
          1,
          1,
          1,
          1,
          2,
          4,
          1,
          2,
          2,
          1,
          1,
          3,
          0,
          1,
          1,
          1,
          1,
          2,
          4,
          1,
          2,
          2,
          1,
          0,
          2,
          2,
          1,
          2,
          4,
          1,
          2,
          2,
          1,
          1,
          3,
          0,
          1,
          1,
          2,
          1,
          1,
          1,
          1,
          1,
          2,
          4,
          1,
          2,
          2,
          1,
          1,
          3,
          0,
          1,
          1,
          1,
          1,
          1,
          1,
          2,
          4,
          1,
          2,
          1,
          1,
          3,
          0,
          1,
          1,
          1,
          2,
          1,
          1,
          3,
          0,
          1,
          1,
          1,
          2,
          4,
          1,
          2,
          2,
          1,
          1,
          3,
          0,
          1,
          1,
          1,
          2,
          1,
          1,
          1,
          1,
          2,
          4,
          1,
          2,
          2,
          1,
          1,
          1,
          1,
          1,
          1,
          1,
          2,
          4,
          1,
          2,
          2,
          1,
          1,
          0,
          1,
          1,
          1,
          1,
          1,
          2,
          4,
          1,
          2,
          2,
          1,
          1,
          1,
          2,
          1,
          2,
          1,
          1,
          1,
          1,
          1,
          2,
          4,
          1,
          2,
          2,
          1,
          1,
          3,
          0,
          1,
          1,
          1,
          2,
          2,
          2,
          1,
          1,
          3,
          0,
          1,
          1,
          4,
          1,
          2,
          2,
          1,
          1,
          3,
          0,
          1,
          1,
          1,
          1,
          2,
          4,
          1,
          2,
          2,
          1,
          1,
          3,
          1,
          2,
          1,
          2,
          1,
          1,
          1,
          1,
          1,
          2,
          4,
          1,
          2,
          2,
          1,
          1,
          3,
          0,
          1,
          1,
          2,
          4,
          1,
          2,
          2,
          1,
          1,
          3,
          0,
          1,
          1,
          2,
          1,
          2,
          1,
          1,
          1,
          1,
          2,
          4,
          1,
          2,
          2,
          1,
          1,
          3,
          0,
          1,
          1,
          2,
          1,
          2,
          1,
          1,
          1,
          1,
          1,
          2,
          4,
          1,
          2,
          2,
          1,
          1,
          3,
          0,
          1,
          1,
          1,
          1,
          2,
          4,
          1,
          2,
          2,
          1,
          1,
          3,
          0,
          1,
          4,
          1,
          2,
          2,
          1,
          1,
          3,
          0,
          1,
          1,
          1,
          1,
          1,
          1,
          2,
          4,
          1,
          2,
          2,
          1,
          1,
          3,
          0,
          1,
          1,
          1,
          1,
          2,
          4,
          1,
          2,
          2,
          1,
          1,
          3,
          0,
          1,
          1,
          2,
          1,
          1,
          1,
          1,
          1,
          2,
          4,
          1,
          2,
          2,
          1,
          1,
          3,
          0,
          1,
          1,
          1,
          1,
          1,
          2,
          4,
          2,
          2,
          1,
          1,
          3,
          0,
          1,
          1,
          1,
          1,
          2,
          4,
          1,
          2,
          2,
          1,
          1,
          3,
          0,
          1,
          1,
          2,
          1,
          1,
          1,
          1,
          1,
          1,
          2,
          4,
          1,
          2,
          2,
          1,
          1,
          3,
          0,
          1,
          1,
          2,
          1,
          2,
          1,
          1,
          1,
          1,
          1,
          2,
          4,
          1,
          2,
          2,
          1,
          1,
          2,
          1,
          2,
          1,
          1,
          1,
          1,
          2,
          4,
          1,
          2,
          2,
          1,
          1,
          3,
          0,
          1,
          1,
          1,
          1,
          2,
          4,
          1,
          2,
          2,
          1,
          1,
          3,
          0,
          1,
          1,
          1,
          1,
          1,
          1,
          2,
          4,
          1,
          2,
          2,
          2,
          4,
          1,
          2,
          2,
          1,
          1,
          3,
          0,
          1,
          1,
          1,
          2,
          1,
          1,
          1,
          1,
          2,
          4,
          1,
          2,
          2,
          1,
          1,
          3,
          0,
          1,
          1,
          4,
          1,
          2,
          2,
          1,
          1,
          3,
          0,
          1,
          1,
          2,
          4,
          1,
          2,
          2,
          1,
          1,
          3,
          0,
          1,
          1,
          1,
          1,
          1,
          1
         ],
         "x0": " ",
         "xaxis": "x",
         "y": [
          45.95,
          137.85,
          275.7,
          183.8,
          91.9,
          137.85,
          445.85,
          239.94,
          759.81,
          719.82,
          679.83,
          519.87,
          759.81,
          199.95,
          319.92,
          313.92,
          419.4,
          247.9,
          1956,
          712,
          890,
          683,
          891,
          1386,
          1683,
          1089,
          398,
          202,
          101,
          101,
          258.7,
          477.6,
          179.1,
          603.2,
          686,
          392,
          162.5,
          195,
          245.4,
          108.6,
          72.4,
          36.2,
          59.9,
          59.9,
          239.6,
          359.4,
          299.5,
          658.9,
          1043.6,
          571.8,
          548.9,
          411.2,
          161.7,
          431.2,
          477.1,
          249.5,
          299.4,
          349.3,
          219.89,
          179.91,
          259.87,
          319.84,
          419.79,
          579.71,
          651.72,
          575.76,
          647.73,
          671.72,
          455.81,
          455.81,
          335.86,
          191.92,
          167.93,
          71.97,
          71.97,
          47.98,
          134.99,
          134.99,
          1763.88,
          4248.73,
          4842.71,
          2170.87,
          1415.92,
          1911.89,
          1019.94,
          110.99,
          221.98,
          998.91,
          1514.87,
          2759.77,
          5288.57,
          4058.67,
          3935.68,
          227.96,
          398.93,
          398.93,
          968.83,
          968.83,
          1139.8,
          1367.76,
          569.9,
          227.96,
          706.86,
          99.98,
          399.92,
          199.96,
          199.98,
          1799.82,
          1099.89,
          1399.86,
          799.92,
          599.94,
          899.91,
          199.98,
          299.97,
          599.94,
          899.91,
          489.76,
          338.77,
          539.94,
          539.94,
          809.91,
          1529.83,
          1619.82,
          1889.79,
          2159.76,
          2339.74,
          1709.81,
          1799.8,
          1529.83,
          1339.84,
          1119.86,
          1279.84,
          1039.87,
          799.9,
          579.75,
          778.7,
          1377.7,
          778.7,
          2156.4,
          3711.7,
          2468.6,
          1946.1,
          2411.2,
          1401.4,
          1509.2,
          1319.5,
          748.5,
          149.7,
          299.4,
          167,
          239.8,
          5453.96,
          3465.8,
          528,
          880,
          269.7,
          236.7,
          179.7,
          179.7,
          1138.1,
          1617.3,
          1018.3,
          1856.9,
          4712.19,
          1769.7,
          1447.1,
          1828.4,
          1886.5,
          700.7,
          1559.1,
          299.4,
          698.6,
          499,
          3307.8,
          10343.1,
          7644.9,
          5246.5,
          7794.8,
          4047.3,
          1948.7,
          749.5,
          185.97,
          805.87,
          974.85,
          2469.62,
          1741.74,
          1808.73,
          1875.72,
          239.6,
          59.9,
          838.6,
          2336.1,
          2216.3,
          2336.1,
          4769.7,
          2881.6,
          598.8,
          1970.1,
          1670.9,
          2479.4,
          2982.4,
          598.8,
          299.46,
          299.46,
          994.04,
          2809.65,
          965.91,
          1723.08,
          449.82,
          257.56,
          557.85,
          789.95,
          1016.95,
          849.5,
          1604,
          2391.6,
          3660,
          894,
          1188,
          2043.92,
          1115.7,
          1191.9,
          2598.9,
          139.9,
          694.9,
          414,
          254.97,
          339.96,
          254.97,
          3059.64,
          4249.5,
          1104.87,
          594.93,
          339.96,
          169.98,
          179.99,
          539.97,
          359.98,
          1079.94,
          2339.87,
          2759.85,
          2629.96,
          2148,
          2277,
          1969,
          537,
          1590,
          1112,
          973,
          179.7,
          419.3,
          239.6,
          1138.1,
          1257.9,
          1377.7,
          1138.1,
          4397.7,
          2232.6,
          1247.5,
          2247.6,
          1347.5,
          1078,
          888.3,
          399.2,
          449.1,
          349.3,
          652,
          1777.5,
          2088.7,
          2762.5,
          134.9,
          1995,
          596,
          769.45,
          3640.68,
          8961.49,
          11820.2,
          1071,
          1302,
          112,
          29.5,
          2242,
          910,
          140,
          140,
          130,
          65,
          142.5,
          142.5,
          285,
          944.4,
          1416,
          707.4,
          1296.8,
          470.8,
          943.8,
          2038.3,
          1668.5,
          593.5,
          1987.4,
          1039.92,
          1819.86,
          2339.82,
          2209.83,
          2079.84,
          1870.84,
          1199.9,
          1169.91,
          389.97,
          519.96,
          259.98,
          129.99,
          129.99,
          379.6,
          611.4,
          1099,
          219.8,
          395.6,
          395.6,
          593.4,
          98.9,
          2795.14,
          2537.19,
          1139.8,
          470,
          292,
          1199.48,
          79.9,
          19.9,
          218.9,
          179.1,
          248,
          563.5,
          416.5,
          271.2,
          32.5,
          229.2,
          205.2,
          2799.2,
          1399.6,
          699.8,
          349.9,
          1399.6,
          699.8,
          349.9,
          2449.3,
          2449.3,
          3499,
          3543.5,
          2449.3,
          4198.8,
          5248.5,
          5948.3,
          2449.3,
          3513.1,
          4004,
          4004,
          3276,
          479.8,
          479.8,
          459.8,
          2250.8,
          2680,
          3908.9,
          4355,
          457.9,
          2200,
          1737.4,
          99.9,
          299.7,
          1298.7,
          1298.7,
          1198.8,
          1298.7,
          1298.7,
          999,
          1099.5,
          754.5,
          1839.2,
          2190.6,
          1729.2,
          2395.2,
          6287.2,
          2207.7,
          4319.4,
          3459,
          2657,
          3383,
          64.99,
          324.95,
          584.91,
          584.91,
          1039.84,
          1234.79,
          888.85,
          1297.78,
          1474.75,
          1120.81,
          1415.76,
          530.91,
          353.94,
          825.86,
          589.9,
          648.89,
          235.96,
          353.94,
          117.98,
          176.97,
          792,
          2178,
          693,
          1082,
          1196,
          276,
          815,
          1235.36,
          1188.6,
          764.1,
          84.9,
          99.99,
          1099.89,
          759.92,
          219.98,
          239.98,
          240,
          417,
          1105.92,
          1889.79,
          1259.86,
          1479.98,
          1680,
          680,
          770,
          880,
          969.9,
          499.95,
          199.98,
          179.8,
          1977.8,
          3056.6,
          5214.2,
          4584.9,
          5394,
          3326.3,
          2067.7,
          1258.6,
          3596,
          1594.2,
          1477.3,
          1911.8,
          1477.3,
          510.27,
          2174.89,
          1837.7,
          781.3,
          518,
          38.4,
          230.4,
          307.2,
          1170.35,
          153.6,
          576,
          153.6,
          493.4,
          140,
          140,
          70,
          35,
          1404,
          1404,
          4752,
          3564,
          2214,
          2205,
          3885,
          2940,
          840,
          735,
          78,
          234,
          78,
          390,
          234,
          156,
          468,
          702,
          78,
          78,
          1248,
          390,
          3042,
          3120,
          2179,
          375,
          975,
          375,
          3300,
          3525,
          8538,
          3075.6,
          4543.5,
          5801.7,
          6430.8,
          179.8,
          179.8,
          309.7,
          299.5,
          119.8,
          299.5,
          898.5,
          1138.1,
          2036.6,
          778.7,
          495.5,
          49.9,
          49.9,
          203.6,
          107.8,
          107.8,
          199.6,
          249.5,
          149.7,
          149.7,
          38.4,
          307.2,
          460.8,
          960,
          1026.51,
          76.8,
          345.6,
          601.8,
          595,
          385,
          455,
          350,
          560,
          1950,
          3575,
          650,
          3900,
          1950,
          3250,
          7475,
          9125,
          6930,
          6270,
          5280,
          4290,
          9240,
          99.99,
          499.95,
          439.96,
          659.94,
          120,
          240,
          735,
          1619.93,
          2519.72,
          2429.73,
          1405,
          840,
          660,
          550,
          220,
          539.94,
          699.93,
          589.94,
          599.93,
          1399.86,
          1699.83,
          2199.78,
          1399.86,
          1099.89,
          1399.86,
          299.97,
          199.98,
          399.96,
          299.97,
          299.97,
          99.99,
          199.98,
          269.59,
          479.97,
          479.97,
          699.95,
          479.97,
          839.94,
          1019.93,
          1679.89,
          2629.83,
          2699.82,
          3449.77,
          6746.9,
          4619,
          5986,
          6764,
          2975,
          3086.76,
          1079.91,
          1199.9,
          678,
          339,
          3461.58,
          3111.36,
          3836.8,
          339.9,
          1735,
          1847,
          1684,
          5956.3,
          983.6,
          7651.27,
          2715.7,
          2247.72,
          584.77,
          1884.45,
          1656.87,
          2206.4,
          2482.2,
          269.8,
          665,
          398.91,
          29.9,
          179.4,
          179.4,
          448.5,
          478.4,
          328.9,
          657.8,
          657.8,
          209.3,
          538.2,
          388.7,
          1205.03,
          766.83,
          925,
          1973.83,
          2698.5,
          3291.4,
          929.96,
          3139.8,
          929.8,
          398,
          1092,
          4860.11,
          1351.2,
          4241,
          2073.3,
          310,
          1601.06,
          109.9,
          1318.8,
          2831.55,
          5581.8,
          2187.3,
          1042.9,
          876.9,
          789,
          545.3,
          155.8,
          1331.1,
          1421.67,
          550.8,
          872.1,
          734.4,
          383.2,
          335.3,
          95.8,
          191.6,
          95.8,
          215,
          2090,
          12095,
          10375,
          5222.36
         ],
         "y0": " ",
         "yaxis": "y"
        }
       ],
       "layout": {
        "boxmode": "group",
        "legend": {
         "tracegroupgap": 0
        },
        "template": {
         "data": {
          "bar": [
           {
            "error_x": {
             "color": "#2a3f5f"
            },
            "error_y": {
             "color": "#2a3f5f"
            },
            "marker": {
             "line": {
              "color": "#E5ECF6",
              "width": 0.5
             },
             "pattern": {
              "fillmode": "overlay",
              "size": 10,
              "solidity": 0.2
             }
            },
            "type": "bar"
           }
          ],
          "barpolar": [
           {
            "marker": {
             "line": {
              "color": "#E5ECF6",
              "width": 0.5
             },
             "pattern": {
              "fillmode": "overlay",
              "size": 10,
              "solidity": 0.2
             }
            },
            "type": "barpolar"
           }
          ],
          "carpet": [
           {
            "aaxis": {
             "endlinecolor": "#2a3f5f",
             "gridcolor": "white",
             "linecolor": "white",
             "minorgridcolor": "white",
             "startlinecolor": "#2a3f5f"
            },
            "baxis": {
             "endlinecolor": "#2a3f5f",
             "gridcolor": "white",
             "linecolor": "white",
             "minorgridcolor": "white",
             "startlinecolor": "#2a3f5f"
            },
            "type": "carpet"
           }
          ],
          "choropleth": [
           {
            "colorbar": {
             "outlinewidth": 0,
             "ticks": ""
            },
            "type": "choropleth"
           }
          ],
          "contour": [
           {
            "colorbar": {
             "outlinewidth": 0,
             "ticks": ""
            },
            "colorscale": [
             [
              0,
              "#0d0887"
             ],
             [
              0.1111111111111111,
              "#46039f"
             ],
             [
              0.2222222222222222,
              "#7201a8"
             ],
             [
              0.3333333333333333,
              "#9c179e"
             ],
             [
              0.4444444444444444,
              "#bd3786"
             ],
             [
              0.5555555555555556,
              "#d8576b"
             ],
             [
              0.6666666666666666,
              "#ed7953"
             ],
             [
              0.7777777777777778,
              "#fb9f3a"
             ],
             [
              0.8888888888888888,
              "#fdca26"
             ],
             [
              1,
              "#f0f921"
             ]
            ],
            "type": "contour"
           }
          ],
          "contourcarpet": [
           {
            "colorbar": {
             "outlinewidth": 0,
             "ticks": ""
            },
            "type": "contourcarpet"
           }
          ],
          "heatmap": [
           {
            "colorbar": {
             "outlinewidth": 0,
             "ticks": ""
            },
            "colorscale": [
             [
              0,
              "#0d0887"
             ],
             [
              0.1111111111111111,
              "#46039f"
             ],
             [
              0.2222222222222222,
              "#7201a8"
             ],
             [
              0.3333333333333333,
              "#9c179e"
             ],
             [
              0.4444444444444444,
              "#bd3786"
             ],
             [
              0.5555555555555556,
              "#d8576b"
             ],
             [
              0.6666666666666666,
              "#ed7953"
             ],
             [
              0.7777777777777778,
              "#fb9f3a"
             ],
             [
              0.8888888888888888,
              "#fdca26"
             ],
             [
              1,
              "#f0f921"
             ]
            ],
            "type": "heatmap"
           }
          ],
          "heatmapgl": [
           {
            "colorbar": {
             "outlinewidth": 0,
             "ticks": ""
            },
            "colorscale": [
             [
              0,
              "#0d0887"
             ],
             [
              0.1111111111111111,
              "#46039f"
             ],
             [
              0.2222222222222222,
              "#7201a8"
             ],
             [
              0.3333333333333333,
              "#9c179e"
             ],
             [
              0.4444444444444444,
              "#bd3786"
             ],
             [
              0.5555555555555556,
              "#d8576b"
             ],
             [
              0.6666666666666666,
              "#ed7953"
             ],
             [
              0.7777777777777778,
              "#fb9f3a"
             ],
             [
              0.8888888888888888,
              "#fdca26"
             ],
             [
              1,
              "#f0f921"
             ]
            ],
            "type": "heatmapgl"
           }
          ],
          "histogram": [
           {
            "marker": {
             "pattern": {
              "fillmode": "overlay",
              "size": 10,
              "solidity": 0.2
             }
            },
            "type": "histogram"
           }
          ],
          "histogram2d": [
           {
            "colorbar": {
             "outlinewidth": 0,
             "ticks": ""
            },
            "colorscale": [
             [
              0,
              "#0d0887"
             ],
             [
              0.1111111111111111,
              "#46039f"
             ],
             [
              0.2222222222222222,
              "#7201a8"
             ],
             [
              0.3333333333333333,
              "#9c179e"
             ],
             [
              0.4444444444444444,
              "#bd3786"
             ],
             [
              0.5555555555555556,
              "#d8576b"
             ],
             [
              0.6666666666666666,
              "#ed7953"
             ],
             [
              0.7777777777777778,
              "#fb9f3a"
             ],
             [
              0.8888888888888888,
              "#fdca26"
             ],
             [
              1,
              "#f0f921"
             ]
            ],
            "type": "histogram2d"
           }
          ],
          "histogram2dcontour": [
           {
            "colorbar": {
             "outlinewidth": 0,
             "ticks": ""
            },
            "colorscale": [
             [
              0,
              "#0d0887"
             ],
             [
              0.1111111111111111,
              "#46039f"
             ],
             [
              0.2222222222222222,
              "#7201a8"
             ],
             [
              0.3333333333333333,
              "#9c179e"
             ],
             [
              0.4444444444444444,
              "#bd3786"
             ],
             [
              0.5555555555555556,
              "#d8576b"
             ],
             [
              0.6666666666666666,
              "#ed7953"
             ],
             [
              0.7777777777777778,
              "#fb9f3a"
             ],
             [
              0.8888888888888888,
              "#fdca26"
             ],
             [
              1,
              "#f0f921"
             ]
            ],
            "type": "histogram2dcontour"
           }
          ],
          "mesh3d": [
           {
            "colorbar": {
             "outlinewidth": 0,
             "ticks": ""
            },
            "type": "mesh3d"
           }
          ],
          "parcoords": [
           {
            "line": {
             "colorbar": {
              "outlinewidth": 0,
              "ticks": ""
             }
            },
            "type": "parcoords"
           }
          ],
          "pie": [
           {
            "automargin": true,
            "type": "pie"
           }
          ],
          "scatter": [
           {
            "fillpattern": {
             "fillmode": "overlay",
             "size": 10,
             "solidity": 0.2
            },
            "type": "scatter"
           }
          ],
          "scatter3d": [
           {
            "line": {
             "colorbar": {
              "outlinewidth": 0,
              "ticks": ""
             }
            },
            "marker": {
             "colorbar": {
              "outlinewidth": 0,
              "ticks": ""
             }
            },
            "type": "scatter3d"
           }
          ],
          "scattercarpet": [
           {
            "marker": {
             "colorbar": {
              "outlinewidth": 0,
              "ticks": ""
             }
            },
            "type": "scattercarpet"
           }
          ],
          "scattergeo": [
           {
            "marker": {
             "colorbar": {
              "outlinewidth": 0,
              "ticks": ""
             }
            },
            "type": "scattergeo"
           }
          ],
          "scattergl": [
           {
            "marker": {
             "colorbar": {
              "outlinewidth": 0,
              "ticks": ""
             }
            },
            "type": "scattergl"
           }
          ],
          "scattermapbox": [
           {
            "marker": {
             "colorbar": {
              "outlinewidth": 0,
              "ticks": ""
             }
            },
            "type": "scattermapbox"
           }
          ],
          "scatterpolar": [
           {
            "marker": {
             "colorbar": {
              "outlinewidth": 0,
              "ticks": ""
             }
            },
            "type": "scatterpolar"
           }
          ],
          "scatterpolargl": [
           {
            "marker": {
             "colorbar": {
              "outlinewidth": 0,
              "ticks": ""
             }
            },
            "type": "scatterpolargl"
           }
          ],
          "scatterternary": [
           {
            "marker": {
             "colorbar": {
              "outlinewidth": 0,
              "ticks": ""
             }
            },
            "type": "scatterternary"
           }
          ],
          "surface": [
           {
            "colorbar": {
             "outlinewidth": 0,
             "ticks": ""
            },
            "colorscale": [
             [
              0,
              "#0d0887"
             ],
             [
              0.1111111111111111,
              "#46039f"
             ],
             [
              0.2222222222222222,
              "#7201a8"
             ],
             [
              0.3333333333333333,
              "#9c179e"
             ],
             [
              0.4444444444444444,
              "#bd3786"
             ],
             [
              0.5555555555555556,
              "#d8576b"
             ],
             [
              0.6666666666666666,
              "#ed7953"
             ],
             [
              0.7777777777777778,
              "#fb9f3a"
             ],
             [
              0.8888888888888888,
              "#fdca26"
             ],
             [
              1,
              "#f0f921"
             ]
            ],
            "type": "surface"
           }
          ],
          "table": [
           {
            "cells": {
             "fill": {
              "color": "#EBF0F8"
             },
             "line": {
              "color": "white"
             }
            },
            "header": {
             "fill": {
              "color": "#C8D4E3"
             },
             "line": {
              "color": "white"
             }
            },
            "type": "table"
           }
          ]
         },
         "layout": {
          "annotationdefaults": {
           "arrowcolor": "#2a3f5f",
           "arrowhead": 0,
           "arrowwidth": 1
          },
          "autotypenumbers": "strict",
          "coloraxis": {
           "colorbar": {
            "outlinewidth": 0,
            "ticks": ""
           }
          },
          "colorscale": {
           "diverging": [
            [
             0,
             "#8e0152"
            ],
            [
             0.1,
             "#c51b7d"
            ],
            [
             0.2,
             "#de77ae"
            ],
            [
             0.3,
             "#f1b6da"
            ],
            [
             0.4,
             "#fde0ef"
            ],
            [
             0.5,
             "#f7f7f7"
            ],
            [
             0.6,
             "#e6f5d0"
            ],
            [
             0.7,
             "#b8e186"
            ],
            [
             0.8,
             "#7fbc41"
            ],
            [
             0.9,
             "#4d9221"
            ],
            [
             1,
             "#276419"
            ]
           ],
           "sequential": [
            [
             0,
             "#0d0887"
            ],
            [
             0.1111111111111111,
             "#46039f"
            ],
            [
             0.2222222222222222,
             "#7201a8"
            ],
            [
             0.3333333333333333,
             "#9c179e"
            ],
            [
             0.4444444444444444,
             "#bd3786"
            ],
            [
             0.5555555555555556,
             "#d8576b"
            ],
            [
             0.6666666666666666,
             "#ed7953"
            ],
            [
             0.7777777777777778,
             "#fb9f3a"
            ],
            [
             0.8888888888888888,
             "#fdca26"
            ],
            [
             1,
             "#f0f921"
            ]
           ],
           "sequentialminus": [
            [
             0,
             "#0d0887"
            ],
            [
             0.1111111111111111,
             "#46039f"
            ],
            [
             0.2222222222222222,
             "#7201a8"
            ],
            [
             0.3333333333333333,
             "#9c179e"
            ],
            [
             0.4444444444444444,
             "#bd3786"
            ],
            [
             0.5555555555555556,
             "#d8576b"
            ],
            [
             0.6666666666666666,
             "#ed7953"
            ],
            [
             0.7777777777777778,
             "#fb9f3a"
            ],
            [
             0.8888888888888888,
             "#fdca26"
            ],
            [
             1,
             "#f0f921"
            ]
           ]
          },
          "colorway": [
           "#636efa",
           "#EF553B",
           "#00cc96",
           "#ab63fa",
           "#FFA15A",
           "#19d3f3",
           "#FF6692",
           "#B6E880",
           "#FF97FF",
           "#FECB52"
          ],
          "font": {
           "color": "#2a3f5f"
          },
          "geo": {
           "bgcolor": "white",
           "lakecolor": "white",
           "landcolor": "#E5ECF6",
           "showlakes": true,
           "showland": true,
           "subunitcolor": "white"
          },
          "hoverlabel": {
           "align": "left"
          },
          "hovermode": "closest",
          "mapbox": {
           "style": "light"
          },
          "paper_bgcolor": "white",
          "plot_bgcolor": "#E5ECF6",
          "polar": {
           "angularaxis": {
            "gridcolor": "white",
            "linecolor": "white",
            "ticks": ""
           },
           "bgcolor": "#E5ECF6",
           "radialaxis": {
            "gridcolor": "white",
            "linecolor": "white",
            "ticks": ""
           }
          },
          "scene": {
           "xaxis": {
            "backgroundcolor": "#E5ECF6",
            "gridcolor": "white",
            "gridwidth": 2,
            "linecolor": "white",
            "showbackground": true,
            "ticks": "",
            "zerolinecolor": "white"
           },
           "yaxis": {
            "backgroundcolor": "#E5ECF6",
            "gridcolor": "white",
            "gridwidth": 2,
            "linecolor": "white",
            "showbackground": true,
            "ticks": "",
            "zerolinecolor": "white"
           },
           "zaxis": {
            "backgroundcolor": "#E5ECF6",
            "gridcolor": "white",
            "gridwidth": 2,
            "linecolor": "white",
            "showbackground": true,
            "ticks": "",
            "zerolinecolor": "white"
           }
          },
          "shapedefaults": {
           "line": {
            "color": "#2a3f5f"
           }
          },
          "ternary": {
           "aaxis": {
            "gridcolor": "white",
            "linecolor": "white",
            "ticks": ""
           },
           "baxis": {
            "gridcolor": "white",
            "linecolor": "white",
            "ticks": ""
           },
           "bgcolor": "#E5ECF6",
           "caxis": {
            "gridcolor": "white",
            "linecolor": "white",
            "ticks": ""
           }
          },
          "title": {
           "x": 0.05
          },
          "xaxis": {
           "automargin": true,
           "gridcolor": "white",
           "linecolor": "white",
           "ticks": "",
           "title": {
            "standoff": 15
           },
           "zerolinecolor": "white",
           "zerolinewidth": 2
          },
          "yaxis": {
           "automargin": true,
           "gridcolor": "white",
           "linecolor": "white",
           "ticks": "",
           "title": {
            "standoff": 15
           },
           "zerolinecolor": "white",
           "zerolinewidth": 2
          }
         }
        },
        "title": {
         "text": "Box Plot of Total Prices by Holiday"
        },
        "xaxis": {
         "anchor": "y",
         "domain": [
          0,
          1
         ],
         "title": {
          "text": "holiday"
         }
        },
        "yaxis": {
         "anchor": "x",
         "domain": [
          0,
          1
         ],
         "title": {
          "text": "total_price"
         }
        }
       }
      }
     },
     "metadata": {},
     "output_type": "display_data"
    }
   ],
   "source": [
    "# Let's have a look at the distribution of the total prices by holiday\n",
    "fig = px.box(data,\n",
    "             x=\"holiday\",\n",
    "             y=\"total_price\",\n",
    "             title=\"Box Plot of Total Prices by Holiday\")\n",
    "fig.show()"
   ]
  },
  {
   "cell_type": "code",
   "execution_count": 51,
   "metadata": {},
   "outputs": [
    {
     "data": {
      "application/vnd.plotly.v1+json": {
       "config": {
        "plotlyServerURL": "https://plot.ly"
       },
       "data": [
        {
         "type": "heatmap",
         "x": [
          "qty",
          "total_price",
          "freight_price",
          "unit_price",
          "product_name_lenght",
          "product_description_lenght",
          "product_photos_qty",
          "product_weight_g",
          "product_score",
          "customers",
          "weekday",
          "weekend",
          "holiday",
          "month",
          "year",
          "s",
          "volume",
          "comp_1",
          "ps1",
          "fp1",
          "comp_2",
          "ps2",
          "fp2",
          "comp_3",
          "ps3",
          "fp3",
          "lag_price"
         ],
         "y": [
          "qty",
          "total_price",
          "freight_price",
          "unit_price",
          "product_name_lenght",
          "product_description_lenght",
          "product_photos_qty",
          "product_weight_g",
          "product_score",
          "customers",
          "weekday",
          "weekend",
          "holiday",
          "month",
          "year",
          "s",
          "volume",
          "comp_1",
          "ps1",
          "fp1",
          "comp_2",
          "ps2",
          "fp2",
          "comp_3",
          "ps3",
          "fp3",
          "lag_price"
         ],
         "z": [
          [
           1,
           0.7496051765324717,
           -0.13552120983919447,
           -0.1034321168672854,
           0.07997256840299317,
           -0.022748528387384937,
           0.12851522211978458,
           -0.034301079476575444,
           -0.004028460616277028,
           0.4415467944423469,
           0.030918073124108665,
           -0.07511832925594278,
           0.21160980198074636,
           -0.0051292249400537206,
           0.058562353422297306,
           0.4110012611222994,
           0.04982742004706431,
           -0.033570215101854255,
           -0.04788262179592284,
           -0.05347744101765038,
           -0.027044219200455907,
           0.036633178889029325,
           -0.06985512305029541,
           -0.06852193134883772,
           -0.0744656056735379,
           -0.0864388993641164,
           -0.08588477092051088
          ],
          [
           0.7496051765324717,
           1,
           0.02584783203429762,
           0.40900140551988273,
           -0.0025936096044648135,
           0.17537599556122357,
           0.15794454477439598,
           0.06009165976692873,
           0.036118713004231896,
           0.3863887929083233,
           0.018797529470679284,
           -0.053788393947927095,
           0.13655786088690697,
           -0.029917507765308174,
           0.0821396166526061,
           0.33450015992234045,
           -0.08872591147874083,
           0.1444261834960807,
           0.05894056872144424,
           -0.00672939261688552,
           0.20305025252319905,
           0.11317794834613769,
           -0.0012403960308306665,
           0.12111405956908124,
           -0.24052635352721205,
           -0.0774423617587007,
           0.42625588412087795
          ],
          [
           -0.13552120983919447,
           0.02584783203429762,
           1,
           0.20365903884774836,
           0.013397988683007752,
           0.423218793211087,
           -0.20099043110972056,
           0.6706887520543323,
           0.19946819362896956,
           0.08826064874203114,
           -0.01613168030586496,
           0.030275002483862834,
           -0.08151783501070312,
           -0.028336339062725212,
           0.07659502256847184,
           -0.10935936635317074,
           0.12209693405365495,
           -0.01396916024923299,
           -0.05392677736093694,
           0.30647862125493264,
           -0.08420805025302494,
           0.16888130398925733,
           0.4846471630257394,
           -0.08928489254003856,
           0.05462730316735427,
           0.4121153196147504,
           0.20114257863614896
          ],
          [
           -0.1034321168672854,
           0.40900140551988273,
           0.20365903884774836,
           1,
           -0.17061271973408348,
           0.2801757312620486,
           0.0769902687735537,
           0.11295840557431946,
           0.04216208236562715,
           0.04339136390773738,
           -0.011948767757185159,
           -0.00004184645867017764,
           0.01257253072643915,
           -0.004249402766625412,
           -0.06807221867048364,
           -0.016551672743142294,
           -0.1972331861547408,
           0.3171127994243645,
           0.1974250662253891,
           -0.004517515383451282,
           0.4664588570241593,
           0.0854358736509576,
           0.026601421921719222,
           0.38377974466760323,
           -0.24211128897928652,
           0.01946104197124366,
           0.994453428511264
          ],
          [
           0.07997256840299317,
           -0.0025936096044648135,
           0.013397988683007752,
           -0.17061271973408348,
           1,
           0.12451009584793424,
           0.13195098026761057,
           -0.04404999696407505,
           0.1635195221017492,
           0.08223890577319186,
           0.023797225436450263,
           -0.018182777188691726,
           -0.014317016593686243,
           -0.004249868439297376,
           -0.03547938432101948,
           -0.08082973553121611,
           0.3294761569303248,
           -0.34412467715559353,
           0.019053408943010525,
           -0.07938820708640817,
           -0.24061307053606687,
           -0.05506932593586339,
           0.016903058111906497,
           -0.3827873986300246,
           0.11721683229793918,
           -0.0014700603421876285,
           -0.17486224653291638
          ],
          [
           -0.022748528387384937,
           0.17537599556122357,
           0.423218793211087,
           0.2801757312620486,
           0.12451009584793424,
           1,
           0.06012449960830659,
           0.38697292186129784,
           0.18754361386656185,
           0.06749692181698273,
           -0.019320213480231586,
           -0.012464657789516604,
           0.018341593030264943,
           -0.02956086800011947,
           0.030949026623713308,
           0.001335372431781577,
           -0.14157982530969895,
           -0.004371196979572895,
           0.1886013656093202,
           0.03177065273402526,
           0.015029923313390443,
           0.16277724565419843,
           0.15576316641381938,
           0.04387991300430808,
           0.048145966248419984,
           0.18675991259523425,
           0.2738829423641289
          ],
          [
           0.12851522211978458,
           0.15794454477439598,
           -0.20099043110972056,
           0.0769902687735537,
           0.13195098026761057,
           0.06012449960830659,
           1,
           -0.12929079672765048,
           0.04828594777442604,
           -0.022535904811508467,
           0.02231070311739905,
           0.008326351096152146,
           -0.008898353368854516,
           0.04172796387691226,
           0.03360189049812337,
           0.08379944685515364,
           -0.15353799620554143,
           -0.04539776533836169,
           -0.005676605580270962,
           -0.194512125046716,
           -0.1338352975499675,
           -0.042817075120564194,
           -0.1587489268023393,
           -0.0006609712626952698,
           0.06173088348531263,
           -0.044934874716374903,
           0.07524622668782988
          ],
          [
           -0.034301079476575444,
           0.06009165976692873,
           0.6706887520543323,
           0.11295840557431946,
           -0.04404999696407505,
           0.38697292186129784,
           -0.12929079672765048,
           1,
           0.17867837169955855,
           0.05352329821977802,
           -0.02996034276100833,
           0.011308503309144588,
           -0.0032655249947481668,
           -0.011176170593278871,
           -0.1083607623920433,
           -0.050676403702979295,
           0.2519662263944513,
           0.06432978792358134,
           -0.24186139364279524,
           0.13838358456823469,
           -0.01712506432476419,
           0.14428869017455262,
           0.3206580659033043,
           -0.03555868819818989,
           0.20883567828470367,
           0.35126793948622237,
           0.1127904650160459
          ],
          [
           -0.004028460616277028,
           0.036118713004231896,
           0.19946819362896956,
           0.04216208236562715,
           0.1635195221017492,
           0.18754361386656185,
           0.04828594777442604,
           0.17867837169955855,
           1,
           0.020185149548309442,
           0.0031206819275923386,
           -0.010395846552741986,
           -0.009899091909070212,
           -0.004951816676052373,
           -0.053069627956126186,
           -0.051635886168216,
           0.1178870102765888,
           -0.21528388724740488,
           0.29774608165028105,
           -0.11761278224296048,
           -0.06435223400372395,
           0.5069670376398688,
           0.05079968834712959,
           -0.12439909855074556,
           0.35362253559280826,
           0.04979131876228493,
           0.03510946234510448
          ],
          [
           0.4415467944423469,
           0.3863887929083233,
           0.08826064874203114,
           0.04339136390773738,
           0.08223890577319186,
           0.06749692181698273,
           -0.022535904811508467,
           0.05352329821977802,
           0.020185149548309442,
           1,
           0.029809631352340604,
           -0.11180555920136896,
           0.31025398212787136,
           -0.02285182253774226,
           0.21827165230765735,
           0.21438328870815512,
           0.0416412471735867,
           -0.177735227935055,
           0.07731447560941006,
           -0.20401211113749915,
           -0.14270416301971725,
           0.14828962415939143,
           -0.15645398122143406,
           -0.11567305242730226,
           -0.2202345052033453,
           -0.17253242160013765,
           0.05698797276773174
          ],
          [
           0.030918073124108665,
           0.018797529470679284,
           -0.01613168030586496,
           -0.011948767757185159,
           0.023797225436450263,
           -0.019320213480231586,
           0.02231070311739905,
           -0.02996034276100833,
           0.0031206819275923386,
           0.029809631352340604,
           1,
           -0.5094780549227448,
           0.15910461179564006,
           0.02567178603116452,
           0.05515843186408443,
           -0.00999321080454373,
           -0.009178621492225186,
           -0.03705945062215808,
           -0.021012706441108833,
           -0.0467756748138155,
           -0.022417930364931303,
           -0.0087110127759287,
           -0.042262231913715365,
           -0.025142111446382908,
           0.005904425471232782,
           -0.051907254910231765,
           -0.013547213634922844
          ],
          [
           -0.07511832925594278,
           -0.053788393947927095,
           0.030275002483862834,
           -0.00004184645867017764,
           -0.018182777188691726,
           -0.012464657789516604,
           0.008326351096152146,
           0.011308503309144588,
           -0.010395846552741986,
           -0.11180555920136896,
           -0.5094780549227448,
           1,
           -0.4216639461887654,
           0.3317097063170279,
           -0.22557762312043883,
           -0.019291246904435524,
           0.02201527619288692,
           0.030056720251437206,
           0.0006382821320123435,
           0.05872276056461063,
           0.021674561643264447,
           -0.011823199816981206,
           0.04657131963818544,
           0.009104549921924368,
           -0.0037943289687008153,
           -0.02988020272635848,
           -0.007306710456689135
          ],
          [
           0.21160980198074636,
           0.13655786088690697,
           -0.08151783501070312,
           0.01257253072643915,
           -0.014317016593686243,
           0.018341593030264943,
           -0.008898353368854516,
           -0.0032655249947481668,
           -0.009899091909070212,
           0.31025398212787136,
           0.15910461179564006,
           -0.4216639461887654,
           1,
           0.09022678238223802,
           -0.12735121802932647,
           0.2907858531282046,
           0.006065889535039061,
           -0.002968707994890002,
           -0.000804552069255498,
           -0.13852184726975647,
           -0.040416777853482556,
           -0.0475656089545508,
           -0.13466709395508641,
           0.04493868720433648,
           -0.0033203458617562394,
           -0.0816397874035911,
           0.021119242148810585
          ],
          [
           -0.0051292249400537206,
           -0.029917507765308174,
           -0.028336339062725212,
           -0.004249402766625412,
           -0.004249868439297376,
           -0.02956086800011947,
           0.04172796387691226,
           -0.011176170593278871,
           -0.004951816676052373,
           -0.02285182253774226,
           0.02567178603116452,
           0.3317097063170279,
           0.09022678238223802,
           1,
           -0.616283074769528,
           0.11509005085377043,
           0.01495736645066061,
           -0.03651717682689879,
           0.02917080292557672,
           0.01207924277223926,
           -0.011095864860319282,
           -0.0583274289694185,
           0.017296533044257253,
           0.041765836104005555,
           -0.013057605701152178,
           -0.04739883577503005,
           -0.00819537747028756
          ],
          [
           0.058562353422297306,
           0.0821396166526061,
           0.07659502256847184,
           -0.06807221867048364,
           -0.03547938432101948,
           0.030949026623713308,
           0.03360189049812337,
           -0.1083607623920433,
           -0.053069627956126186,
           0.21827165230765735,
           0.05515843186408443,
           -0.22557762312043883,
           -0.12735121802932647,
           -0.616283074769528,
           1,
           -0.0770094148104868,
           -0.09010710157114453,
           -0.061579564966378376,
           0.01922839737620432,
           0.015442966734952112,
           -0.18769025686167187,
           0.003579185399855836,
           0.07743204693751803,
           -0.13965475657463197,
           -0.07287915383241189,
           -0.03238534654775452,
           -0.06110935236088717
          ],
          [
           0.4110012611222994,
           0.33450015992234045,
           -0.10935936635317074,
           -0.016551672743142294,
           -0.08082973553121611,
           0.001335372431781577,
           0.08379944685515364,
           -0.050676403702979295,
           -0.051635886168216,
           0.21438328870815512,
           -0.00999321080454373,
           -0.019291246904435524,
           0.2907858531282046,
           0.11509005085377043,
           -0.0770094148104868,
           1,
           -0.0543836310920538,
           0.05807539933904149,
           0.0172182521925467,
           -0.04096730293946025,
           0.01672601286971526,
           -0.04564421526321365,
           -0.12113968861301531,
           0.020775192616720155,
           -0.008996054210564472,
           -0.064855070306062,
           -0.0029928457356247994
          ],
          [
           0.04982742004706431,
           -0.08872591147874083,
           0.12209693405365495,
           -0.1972331861547408,
           0.3294761569303248,
           -0.14157982530969895,
           -0.15353799620554143,
           0.2519662263944513,
           0.1178870102765888,
           0.0416412471735867,
           -0.009178621492225186,
           0.02201527619288692,
           0.006065889535039061,
           0.01495736645066061,
           -0.09010710157114453,
           -0.0543836310920538,
           1,
           -0.14686391536277082,
           -0.34583661118050446,
           -0.05750590723422075,
           -0.23376809491806982,
           0.024044987709033672,
           0.11398518423534465,
           -0.3123947797104338,
           0.42860325438308494,
           0.1066506726846528,
           -0.20009092850870197
          ],
          [
           -0.033570215101854255,
           0.1444261834960807,
           -0.01396916024923299,
           0.3171127994243645,
           -0.34412467715559353,
           -0.004371196979572895,
           -0.04539776533836169,
           0.06432978792358134,
           -0.21528388724740488,
           -0.177735227935055,
           -0.03705945062215808,
           0.030056720251437206,
           -0.002968707994890002,
           -0.03651717682689879,
           -0.061579564966378376,
           0.05807539933904149,
           -0.14686391536277082,
           1,
           -0.1872966807697111,
           0.40117652210645066,
           0.5328594116375663,
           0.04091745363824368,
           0.2534164953816754,
           0.6504329493597001,
           -0.27281584055549163,
           0.16933116084838612,
           0.3223480303732993
          ],
          [
           -0.04788262179592284,
           0.05894056872144424,
           -0.05392677736093694,
           0.1974250662253891,
           0.019053408943010525,
           0.1886013656093202,
           -0.005676605580270962,
           -0.24186139364279524,
           0.29774608165028105,
           0.07731447560941006,
           -0.021012706441108833,
           0.0006382821320123435,
           -0.000804552069255498,
           0.02917080292557672,
           0.01922839737620432,
           0.0172182521925467,
           -0.34583661118050446,
           -0.1872966807697111,
           1,
           -0.031973313992200436,
           0.16247505446024726,
           0.28356989835286167,
           -0.02712815850452529,
           0.13650617594484102,
           -0.09987353197208436,
           -0.058961720580724436,
           0.19480469097892544
          ],
          [
           -0.05347744101765038,
           -0.00672939261688552,
           0.30647862125493264,
           -0.004517515383451282,
           -0.07938820708640817,
           0.03177065273402526,
           -0.194512125046716,
           0.13838358456823469,
           -0.11761278224296048,
           -0.20401211113749915,
           -0.0467756748138155,
           0.05872276056461063,
           -0.13852184726975647,
           0.01207924277223926,
           0.015442966734952112,
           -0.04096730293946025,
           -0.05750590723422075,
           0.40117652210645066,
           -0.031973313992200436,
           1,
           0.21264573996637498,
           0.08981871283830131,
           0.5986364528665874,
           0.0284882492788041,
           -0.28210427135056215,
           0.2837747075595003,
           -0.0014156304912604724
          ],
          [
           -0.027044219200455907,
           0.20305025252319905,
           -0.08420805025302494,
           0.4664588570241593,
           -0.24061307053606687,
           0.015029923313390443,
           -0.1338352975499675,
           -0.01712506432476419,
           -0.06435223400372395,
           -0.14270416301971725,
           -0.022417930364931303,
           0.021674561643264447,
           -0.040416777853482556,
           -0.011095864860319282,
           -0.18769025686167187,
           0.01672601286971526,
           -0.23376809491806982,
           0.5328594116375663,
           0.16247505446024726,
           0.21264573996637498,
           1,
           0.276794321296768,
           0.1988642869248328,
           0.47224498899649514,
           -0.33673029152132133,
           -0.06000226824221993,
           0.4652712760667572
          ],
          [
           0.036633178889029325,
           0.11317794834613769,
           0.16888130398925733,
           0.0854358736509576,
           -0.05506932593586339,
           0.16277724565419843,
           -0.042817075120564194,
           0.14428869017455262,
           0.5069670376398688,
           0.14828962415939143,
           -0.0087110127759287,
           -0.011823199816981206,
           -0.0475656089545508,
           -0.0583274289694185,
           0.003579185399855836,
           -0.04564421526321365,
           0.024044987709033672,
           0.04091745363824368,
           0.28356989835286167,
           0.08981871283830131,
           0.276794321296768,
           1,
           0.29185273090109387,
           0.027417630177903784,
           -0.019399171411381647,
           -0.014947337100421709,
           0.09263160073360854
          ],
          [
           -0.06985512305029541,
           -0.0012403960308306665,
           0.4846471630257394,
           0.026601421921719222,
           0.016903058111906497,
           0.15576316641381938,
           -0.1587489268023393,
           0.3206580659033043,
           0.05079968834712959,
           -0.15645398122143406,
           -0.042262231913715365,
           0.04657131963818544,
           -0.13466709395508641,
           0.017296533044257253,
           0.07743204693751803,
           -0.12113968861301531,
           0.11398518423534465,
           0.2534164953816754,
           -0.02712815850452529,
           0.5986364528665874,
           0.1988642869248328,
           0.29185273090109387,
           1,
           0.07710009818417944,
           -0.09989375426739137,
           0.5564242908022746,
           0.03237812829099338
          ],
          [
           -0.06852193134883772,
           0.12111405956908124,
           -0.08928489254003856,
           0.38377974466760323,
           -0.3827873986300246,
           0.04387991300430808,
           -0.0006609712626952698,
           -0.03555868819818989,
           -0.12439909855074556,
           -0.11567305242730226,
           -0.025142111446382908,
           0.009104549921924368,
           0.04493868720433648,
           0.041765836104005555,
           -0.13965475657463197,
           0.020775192616720155,
           -0.3123947797104338,
           0.6504329493597001,
           0.13650617594484102,
           0.0284882492788041,
           0.47224498899649514,
           0.027417630177903784,
           0.07710009818417944,
           1,
           -0.2400141762385657,
           0.2528742673752204,
           0.3856211304058555
          ],
          [
           -0.0744656056735379,
           -0.24052635352721205,
           0.05462730316735427,
           -0.24211128897928652,
           0.11721683229793918,
           0.048145966248419984,
           0.06173088348531263,
           0.20883567828470367,
           0.35362253559280826,
           -0.2202345052033453,
           0.005904425471232782,
           -0.0037943289687008153,
           -0.0033203458617562394,
           -0.013057605701152178,
           -0.07287915383241189,
           -0.008996054210564472,
           0.42860325438308494,
           -0.27281584055549163,
           -0.09987353197208436,
           -0.28210427135056215,
           -0.33673029152132133,
           -0.019399171411381647,
           -0.09989375426739137,
           -0.2400141762385657,
           1,
           0.22973496832237522,
           -0.2470141308416816
          ],
          [
           -0.0864388993641164,
           -0.0774423617587007,
           0.4121153196147504,
           0.01946104197124366,
           -0.0014700603421876285,
           0.18675991259523425,
           -0.044934874716374903,
           0.35126793948622237,
           0.04979131876228493,
           -0.17253242160013765,
           -0.051907254910231765,
           -0.02988020272635848,
           -0.0816397874035911,
           -0.04739883577503005,
           -0.03238534654775452,
           -0.064855070306062,
           0.1066506726846528,
           0.16933116084838612,
           -0.058961720580724436,
           0.2837747075595003,
           -0.06000226824221993,
           -0.014947337100421709,
           0.5564242908022746,
           0.2528742673752204,
           0.22973496832237522,
           1,
           0.02161766478278591
          ],
          [
           -0.08588477092051088,
           0.42625588412087795,
           0.20114257863614896,
           0.994453428511264,
           -0.17486224653291638,
           0.2738829423641289,
           0.07524622668782988,
           0.1127904650160459,
           0.03510946234510448,
           0.05698797276773174,
           -0.013547213634922844,
           -0.007306710456689135,
           0.021119242148810585,
           -0.00819537747028756,
           -0.06110935236088717,
           -0.0029928457356247994,
           -0.20009092850870197,
           0.3223480303732993,
           0.19480469097892544,
           -0.0014156304912604724,
           0.4652712760667572,
           0.09263160073360854,
           0.03237812829099338,
           0.3856211304058555,
           -0.2470141308416816,
           0.02161766478278591,
           1
          ]
         ]
        }
       ],
       "layout": {
        "template": {
         "data": {
          "bar": [
           {
            "error_x": {
             "color": "#2a3f5f"
            },
            "error_y": {
             "color": "#2a3f5f"
            },
            "marker": {
             "line": {
              "color": "#E5ECF6",
              "width": 0.5
             },
             "pattern": {
              "fillmode": "overlay",
              "size": 10,
              "solidity": 0.2
             }
            },
            "type": "bar"
           }
          ],
          "barpolar": [
           {
            "marker": {
             "line": {
              "color": "#E5ECF6",
              "width": 0.5
             },
             "pattern": {
              "fillmode": "overlay",
              "size": 10,
              "solidity": 0.2
             }
            },
            "type": "barpolar"
           }
          ],
          "carpet": [
           {
            "aaxis": {
             "endlinecolor": "#2a3f5f",
             "gridcolor": "white",
             "linecolor": "white",
             "minorgridcolor": "white",
             "startlinecolor": "#2a3f5f"
            },
            "baxis": {
             "endlinecolor": "#2a3f5f",
             "gridcolor": "white",
             "linecolor": "white",
             "minorgridcolor": "white",
             "startlinecolor": "#2a3f5f"
            },
            "type": "carpet"
           }
          ],
          "choropleth": [
           {
            "colorbar": {
             "outlinewidth": 0,
             "ticks": ""
            },
            "type": "choropleth"
           }
          ],
          "contour": [
           {
            "colorbar": {
             "outlinewidth": 0,
             "ticks": ""
            },
            "colorscale": [
             [
              0,
              "#0d0887"
             ],
             [
              0.1111111111111111,
              "#46039f"
             ],
             [
              0.2222222222222222,
              "#7201a8"
             ],
             [
              0.3333333333333333,
              "#9c179e"
             ],
             [
              0.4444444444444444,
              "#bd3786"
             ],
             [
              0.5555555555555556,
              "#d8576b"
             ],
             [
              0.6666666666666666,
              "#ed7953"
             ],
             [
              0.7777777777777778,
              "#fb9f3a"
             ],
             [
              0.8888888888888888,
              "#fdca26"
             ],
             [
              1,
              "#f0f921"
             ]
            ],
            "type": "contour"
           }
          ],
          "contourcarpet": [
           {
            "colorbar": {
             "outlinewidth": 0,
             "ticks": ""
            },
            "type": "contourcarpet"
           }
          ],
          "heatmap": [
           {
            "colorbar": {
             "outlinewidth": 0,
             "ticks": ""
            },
            "colorscale": [
             [
              0,
              "#0d0887"
             ],
             [
              0.1111111111111111,
              "#46039f"
             ],
             [
              0.2222222222222222,
              "#7201a8"
             ],
             [
              0.3333333333333333,
              "#9c179e"
             ],
             [
              0.4444444444444444,
              "#bd3786"
             ],
             [
              0.5555555555555556,
              "#d8576b"
             ],
             [
              0.6666666666666666,
              "#ed7953"
             ],
             [
              0.7777777777777778,
              "#fb9f3a"
             ],
             [
              0.8888888888888888,
              "#fdca26"
             ],
             [
              1,
              "#f0f921"
             ]
            ],
            "type": "heatmap"
           }
          ],
          "heatmapgl": [
           {
            "colorbar": {
             "outlinewidth": 0,
             "ticks": ""
            },
            "colorscale": [
             [
              0,
              "#0d0887"
             ],
             [
              0.1111111111111111,
              "#46039f"
             ],
             [
              0.2222222222222222,
              "#7201a8"
             ],
             [
              0.3333333333333333,
              "#9c179e"
             ],
             [
              0.4444444444444444,
              "#bd3786"
             ],
             [
              0.5555555555555556,
              "#d8576b"
             ],
             [
              0.6666666666666666,
              "#ed7953"
             ],
             [
              0.7777777777777778,
              "#fb9f3a"
             ],
             [
              0.8888888888888888,
              "#fdca26"
             ],
             [
              1,
              "#f0f921"
             ]
            ],
            "type": "heatmapgl"
           }
          ],
          "histogram": [
           {
            "marker": {
             "pattern": {
              "fillmode": "overlay",
              "size": 10,
              "solidity": 0.2
             }
            },
            "type": "histogram"
           }
          ],
          "histogram2d": [
           {
            "colorbar": {
             "outlinewidth": 0,
             "ticks": ""
            },
            "colorscale": [
             [
              0,
              "#0d0887"
             ],
             [
              0.1111111111111111,
              "#46039f"
             ],
             [
              0.2222222222222222,
              "#7201a8"
             ],
             [
              0.3333333333333333,
              "#9c179e"
             ],
             [
              0.4444444444444444,
              "#bd3786"
             ],
             [
              0.5555555555555556,
              "#d8576b"
             ],
             [
              0.6666666666666666,
              "#ed7953"
             ],
             [
              0.7777777777777778,
              "#fb9f3a"
             ],
             [
              0.8888888888888888,
              "#fdca26"
             ],
             [
              1,
              "#f0f921"
             ]
            ],
            "type": "histogram2d"
           }
          ],
          "histogram2dcontour": [
           {
            "colorbar": {
             "outlinewidth": 0,
             "ticks": ""
            },
            "colorscale": [
             [
              0,
              "#0d0887"
             ],
             [
              0.1111111111111111,
              "#46039f"
             ],
             [
              0.2222222222222222,
              "#7201a8"
             ],
             [
              0.3333333333333333,
              "#9c179e"
             ],
             [
              0.4444444444444444,
              "#bd3786"
             ],
             [
              0.5555555555555556,
              "#d8576b"
             ],
             [
              0.6666666666666666,
              "#ed7953"
             ],
             [
              0.7777777777777778,
              "#fb9f3a"
             ],
             [
              0.8888888888888888,
              "#fdca26"
             ],
             [
              1,
              "#f0f921"
             ]
            ],
            "type": "histogram2dcontour"
           }
          ],
          "mesh3d": [
           {
            "colorbar": {
             "outlinewidth": 0,
             "ticks": ""
            },
            "type": "mesh3d"
           }
          ],
          "parcoords": [
           {
            "line": {
             "colorbar": {
              "outlinewidth": 0,
              "ticks": ""
             }
            },
            "type": "parcoords"
           }
          ],
          "pie": [
           {
            "automargin": true,
            "type": "pie"
           }
          ],
          "scatter": [
           {
            "fillpattern": {
             "fillmode": "overlay",
             "size": 10,
             "solidity": 0.2
            },
            "type": "scatter"
           }
          ],
          "scatter3d": [
           {
            "line": {
             "colorbar": {
              "outlinewidth": 0,
              "ticks": ""
             }
            },
            "marker": {
             "colorbar": {
              "outlinewidth": 0,
              "ticks": ""
             }
            },
            "type": "scatter3d"
           }
          ],
          "scattercarpet": [
           {
            "marker": {
             "colorbar": {
              "outlinewidth": 0,
              "ticks": ""
             }
            },
            "type": "scattercarpet"
           }
          ],
          "scattergeo": [
           {
            "marker": {
             "colorbar": {
              "outlinewidth": 0,
              "ticks": ""
             }
            },
            "type": "scattergeo"
           }
          ],
          "scattergl": [
           {
            "marker": {
             "colorbar": {
              "outlinewidth": 0,
              "ticks": ""
             }
            },
            "type": "scattergl"
           }
          ],
          "scattermapbox": [
           {
            "marker": {
             "colorbar": {
              "outlinewidth": 0,
              "ticks": ""
             }
            },
            "type": "scattermapbox"
           }
          ],
          "scatterpolar": [
           {
            "marker": {
             "colorbar": {
              "outlinewidth": 0,
              "ticks": ""
             }
            },
            "type": "scatterpolar"
           }
          ],
          "scatterpolargl": [
           {
            "marker": {
             "colorbar": {
              "outlinewidth": 0,
              "ticks": ""
             }
            },
            "type": "scatterpolargl"
           }
          ],
          "scatterternary": [
           {
            "marker": {
             "colorbar": {
              "outlinewidth": 0,
              "ticks": ""
             }
            },
            "type": "scatterternary"
           }
          ],
          "surface": [
           {
            "colorbar": {
             "outlinewidth": 0,
             "ticks": ""
            },
            "colorscale": [
             [
              0,
              "#0d0887"
             ],
             [
              0.1111111111111111,
              "#46039f"
             ],
             [
              0.2222222222222222,
              "#7201a8"
             ],
             [
              0.3333333333333333,
              "#9c179e"
             ],
             [
              0.4444444444444444,
              "#bd3786"
             ],
             [
              0.5555555555555556,
              "#d8576b"
             ],
             [
              0.6666666666666666,
              "#ed7953"
             ],
             [
              0.7777777777777778,
              "#fb9f3a"
             ],
             [
              0.8888888888888888,
              "#fdca26"
             ],
             [
              1,
              "#f0f921"
             ]
            ],
            "type": "surface"
           }
          ],
          "table": [
           {
            "cells": {
             "fill": {
              "color": "#EBF0F8"
             },
             "line": {
              "color": "white"
             }
            },
            "header": {
             "fill": {
              "color": "#C8D4E3"
             },
             "line": {
              "color": "white"
             }
            },
            "type": "table"
           }
          ]
         },
         "layout": {
          "annotationdefaults": {
           "arrowcolor": "#2a3f5f",
           "arrowhead": 0,
           "arrowwidth": 1
          },
          "autotypenumbers": "strict",
          "coloraxis": {
           "colorbar": {
            "outlinewidth": 0,
            "ticks": ""
           }
          },
          "colorscale": {
           "diverging": [
            [
             0,
             "#8e0152"
            ],
            [
             0.1,
             "#c51b7d"
            ],
            [
             0.2,
             "#de77ae"
            ],
            [
             0.3,
             "#f1b6da"
            ],
            [
             0.4,
             "#fde0ef"
            ],
            [
             0.5,
             "#f7f7f7"
            ],
            [
             0.6,
             "#e6f5d0"
            ],
            [
             0.7,
             "#b8e186"
            ],
            [
             0.8,
             "#7fbc41"
            ],
            [
             0.9,
             "#4d9221"
            ],
            [
             1,
             "#276419"
            ]
           ],
           "sequential": [
            [
             0,
             "#0d0887"
            ],
            [
             0.1111111111111111,
             "#46039f"
            ],
            [
             0.2222222222222222,
             "#7201a8"
            ],
            [
             0.3333333333333333,
             "#9c179e"
            ],
            [
             0.4444444444444444,
             "#bd3786"
            ],
            [
             0.5555555555555556,
             "#d8576b"
            ],
            [
             0.6666666666666666,
             "#ed7953"
            ],
            [
             0.7777777777777778,
             "#fb9f3a"
            ],
            [
             0.8888888888888888,
             "#fdca26"
            ],
            [
             1,
             "#f0f921"
            ]
           ],
           "sequentialminus": [
            [
             0,
             "#0d0887"
            ],
            [
             0.1111111111111111,
             "#46039f"
            ],
            [
             0.2222222222222222,
             "#7201a8"
            ],
            [
             0.3333333333333333,
             "#9c179e"
            ],
            [
             0.4444444444444444,
             "#bd3786"
            ],
            [
             0.5555555555555556,
             "#d8576b"
            ],
            [
             0.6666666666666666,
             "#ed7953"
            ],
            [
             0.7777777777777778,
             "#fb9f3a"
            ],
            [
             0.8888888888888888,
             "#fdca26"
            ],
            [
             1,
             "#f0f921"
            ]
           ]
          },
          "colorway": [
           "#636efa",
           "#EF553B",
           "#00cc96",
           "#ab63fa",
           "#FFA15A",
           "#19d3f3",
           "#FF6692",
           "#B6E880",
           "#FF97FF",
           "#FECB52"
          ],
          "font": {
           "color": "#2a3f5f"
          },
          "geo": {
           "bgcolor": "white",
           "lakecolor": "white",
           "landcolor": "#E5ECF6",
           "showlakes": true,
           "showland": true,
           "subunitcolor": "white"
          },
          "hoverlabel": {
           "align": "left"
          },
          "hovermode": "closest",
          "mapbox": {
           "style": "light"
          },
          "paper_bgcolor": "white",
          "plot_bgcolor": "#E5ECF6",
          "polar": {
           "angularaxis": {
            "gridcolor": "white",
            "linecolor": "white",
            "ticks": ""
           },
           "bgcolor": "#E5ECF6",
           "radialaxis": {
            "gridcolor": "white",
            "linecolor": "white",
            "ticks": ""
           }
          },
          "scene": {
           "xaxis": {
            "backgroundcolor": "#E5ECF6",
            "gridcolor": "white",
            "gridwidth": 2,
            "linecolor": "white",
            "showbackground": true,
            "ticks": "",
            "zerolinecolor": "white"
           },
           "yaxis": {
            "backgroundcolor": "#E5ECF6",
            "gridcolor": "white",
            "gridwidth": 2,
            "linecolor": "white",
            "showbackground": true,
            "ticks": "",
            "zerolinecolor": "white"
           },
           "zaxis": {
            "backgroundcolor": "#E5ECF6",
            "gridcolor": "white",
            "gridwidth": 2,
            "linecolor": "white",
            "showbackground": true,
            "ticks": "",
            "zerolinecolor": "white"
           }
          },
          "shapedefaults": {
           "line": {
            "color": "#2a3f5f"
           }
          },
          "ternary": {
           "aaxis": {
            "gridcolor": "white",
            "linecolor": "white",
            "ticks": ""
           },
           "baxis": {
            "gridcolor": "white",
            "linecolor": "white",
            "ticks": ""
           },
           "bgcolor": "#E5ECF6",
           "caxis": {
            "gridcolor": "white",
            "linecolor": "white",
            "ticks": ""
           }
          },
          "title": {
           "x": 0.05
          },
          "xaxis": {
           "automargin": true,
           "gridcolor": "white",
           "linecolor": "white",
           "ticks": "",
           "title": {
            "standoff": 15
           },
           "zerolinecolor": "white",
           "zerolinewidth": 2
          },
          "yaxis": {
           "automargin": true,
           "gridcolor": "white",
           "linecolor": "white",
           "ticks": "",
           "title": {
            "standoff": 15
           },
           "zerolinecolor": "white",
           "zerolinewidth": 2
          }
         }
        },
        "title": {
         "text": "Correlation heatmap of Numerical Features"
        }
       }
      }
     },
     "metadata": {},
     "output_type": "display_data"
    }
   ],
   "source": [
    "#Let's have a look at the correlation between numerical features with each other\n",
    "numeric_cols = data.select_dtypes(include=[\"number\"])\n",
    "correlation_matrix = numeric_cols.corr()\n",
    "fig = go.Figure(go.Heatmap(x=correlation_matrix.columns,\n",
    "                           y=correlation_matrix.columns,\n",
    "                           z=correlation_matrix.values))\n",
    "fig.update_layout(title=\"Correlation heatmap of Numerical Features\")\n",
    "fig.show()"
   ]
  },
  {
   "cell_type": "code",
   "execution_count": 72,
   "metadata": {},
   "outputs": [
    {
     "data": {
      "application/vnd.plotly.v1+json": {
       "config": {
        "plotlyServerURL": "https://plot.ly"
       },
       "data": [
        {
         "alignmentgroup": "True",
         "hovertemplate": "product_category_name=%{x}<br>comp_price_diff=%{y}<extra></extra>",
         "legendgroup": "",
         "marker": {
          "color": "#636efa",
          "pattern": {
           "shape": ""
          }
         },
         "name": "",
         "offsetgroup": "",
         "orientation": "v",
         "showlegend": false,
         "textposition": "auto",
         "type": "bar",
         "x": [
          "bed_bath_table",
          "computers_accessories",
          "consoles_games",
          "cool_stuff",
          "furniture_decor",
          "garden_tools",
          "health_beauty",
          "perfumery",
          "watches_gifts"
         ],
         "xaxis": "x",
         "y": [
          -7.637356980000002,
          -19.972852136956522,
          -0.06774891772727253,
          11.374337173333338,
          -15.729375892083334,
          22.036152741625,
          99.33960328915384,
          29.662713676923076,
          29.351977032718445
         ],
         "yaxis": "y"
        }
       ],
       "layout": {
        "barmode": "relative",
        "legend": {
         "tracegroupgap": 0
        },
        "template": {
         "data": {
          "bar": [
           {
            "error_x": {
             "color": "#2a3f5f"
            },
            "error_y": {
             "color": "#2a3f5f"
            },
            "marker": {
             "line": {
              "color": "#E5ECF6",
              "width": 0.5
             },
             "pattern": {
              "fillmode": "overlay",
              "size": 10,
              "solidity": 0.2
             }
            },
            "type": "bar"
           }
          ],
          "barpolar": [
           {
            "marker": {
             "line": {
              "color": "#E5ECF6",
              "width": 0.5
             },
             "pattern": {
              "fillmode": "overlay",
              "size": 10,
              "solidity": 0.2
             }
            },
            "type": "barpolar"
           }
          ],
          "carpet": [
           {
            "aaxis": {
             "endlinecolor": "#2a3f5f",
             "gridcolor": "white",
             "linecolor": "white",
             "minorgridcolor": "white",
             "startlinecolor": "#2a3f5f"
            },
            "baxis": {
             "endlinecolor": "#2a3f5f",
             "gridcolor": "white",
             "linecolor": "white",
             "minorgridcolor": "white",
             "startlinecolor": "#2a3f5f"
            },
            "type": "carpet"
           }
          ],
          "choropleth": [
           {
            "colorbar": {
             "outlinewidth": 0,
             "ticks": ""
            },
            "type": "choropleth"
           }
          ],
          "contour": [
           {
            "colorbar": {
             "outlinewidth": 0,
             "ticks": ""
            },
            "colorscale": [
             [
              0,
              "#0d0887"
             ],
             [
              0.1111111111111111,
              "#46039f"
             ],
             [
              0.2222222222222222,
              "#7201a8"
             ],
             [
              0.3333333333333333,
              "#9c179e"
             ],
             [
              0.4444444444444444,
              "#bd3786"
             ],
             [
              0.5555555555555556,
              "#d8576b"
             ],
             [
              0.6666666666666666,
              "#ed7953"
             ],
             [
              0.7777777777777778,
              "#fb9f3a"
             ],
             [
              0.8888888888888888,
              "#fdca26"
             ],
             [
              1,
              "#f0f921"
             ]
            ],
            "type": "contour"
           }
          ],
          "contourcarpet": [
           {
            "colorbar": {
             "outlinewidth": 0,
             "ticks": ""
            },
            "type": "contourcarpet"
           }
          ],
          "heatmap": [
           {
            "colorbar": {
             "outlinewidth": 0,
             "ticks": ""
            },
            "colorscale": [
             [
              0,
              "#0d0887"
             ],
             [
              0.1111111111111111,
              "#46039f"
             ],
             [
              0.2222222222222222,
              "#7201a8"
             ],
             [
              0.3333333333333333,
              "#9c179e"
             ],
             [
              0.4444444444444444,
              "#bd3786"
             ],
             [
              0.5555555555555556,
              "#d8576b"
             ],
             [
              0.6666666666666666,
              "#ed7953"
             ],
             [
              0.7777777777777778,
              "#fb9f3a"
             ],
             [
              0.8888888888888888,
              "#fdca26"
             ],
             [
              1,
              "#f0f921"
             ]
            ],
            "type": "heatmap"
           }
          ],
          "heatmapgl": [
           {
            "colorbar": {
             "outlinewidth": 0,
             "ticks": ""
            },
            "colorscale": [
             [
              0,
              "#0d0887"
             ],
             [
              0.1111111111111111,
              "#46039f"
             ],
             [
              0.2222222222222222,
              "#7201a8"
             ],
             [
              0.3333333333333333,
              "#9c179e"
             ],
             [
              0.4444444444444444,
              "#bd3786"
             ],
             [
              0.5555555555555556,
              "#d8576b"
             ],
             [
              0.6666666666666666,
              "#ed7953"
             ],
             [
              0.7777777777777778,
              "#fb9f3a"
             ],
             [
              0.8888888888888888,
              "#fdca26"
             ],
             [
              1,
              "#f0f921"
             ]
            ],
            "type": "heatmapgl"
           }
          ],
          "histogram": [
           {
            "marker": {
             "pattern": {
              "fillmode": "overlay",
              "size": 10,
              "solidity": 0.2
             }
            },
            "type": "histogram"
           }
          ],
          "histogram2d": [
           {
            "colorbar": {
             "outlinewidth": 0,
             "ticks": ""
            },
            "colorscale": [
             [
              0,
              "#0d0887"
             ],
             [
              0.1111111111111111,
              "#46039f"
             ],
             [
              0.2222222222222222,
              "#7201a8"
             ],
             [
              0.3333333333333333,
              "#9c179e"
             ],
             [
              0.4444444444444444,
              "#bd3786"
             ],
             [
              0.5555555555555556,
              "#d8576b"
             ],
             [
              0.6666666666666666,
              "#ed7953"
             ],
             [
              0.7777777777777778,
              "#fb9f3a"
             ],
             [
              0.8888888888888888,
              "#fdca26"
             ],
             [
              1,
              "#f0f921"
             ]
            ],
            "type": "histogram2d"
           }
          ],
          "histogram2dcontour": [
           {
            "colorbar": {
             "outlinewidth": 0,
             "ticks": ""
            },
            "colorscale": [
             [
              0,
              "#0d0887"
             ],
             [
              0.1111111111111111,
              "#46039f"
             ],
             [
              0.2222222222222222,
              "#7201a8"
             ],
             [
              0.3333333333333333,
              "#9c179e"
             ],
             [
              0.4444444444444444,
              "#bd3786"
             ],
             [
              0.5555555555555556,
              "#d8576b"
             ],
             [
              0.6666666666666666,
              "#ed7953"
             ],
             [
              0.7777777777777778,
              "#fb9f3a"
             ],
             [
              0.8888888888888888,
              "#fdca26"
             ],
             [
              1,
              "#f0f921"
             ]
            ],
            "type": "histogram2dcontour"
           }
          ],
          "mesh3d": [
           {
            "colorbar": {
             "outlinewidth": 0,
             "ticks": ""
            },
            "type": "mesh3d"
           }
          ],
          "parcoords": [
           {
            "line": {
             "colorbar": {
              "outlinewidth": 0,
              "ticks": ""
             }
            },
            "type": "parcoords"
           }
          ],
          "pie": [
           {
            "automargin": true,
            "type": "pie"
           }
          ],
          "scatter": [
           {
            "fillpattern": {
             "fillmode": "overlay",
             "size": 10,
             "solidity": 0.2
            },
            "type": "scatter"
           }
          ],
          "scatter3d": [
           {
            "line": {
             "colorbar": {
              "outlinewidth": 0,
              "ticks": ""
             }
            },
            "marker": {
             "colorbar": {
              "outlinewidth": 0,
              "ticks": ""
             }
            },
            "type": "scatter3d"
           }
          ],
          "scattercarpet": [
           {
            "marker": {
             "colorbar": {
              "outlinewidth": 0,
              "ticks": ""
             }
            },
            "type": "scattercarpet"
           }
          ],
          "scattergeo": [
           {
            "marker": {
             "colorbar": {
              "outlinewidth": 0,
              "ticks": ""
             }
            },
            "type": "scattergeo"
           }
          ],
          "scattergl": [
           {
            "marker": {
             "colorbar": {
              "outlinewidth": 0,
              "ticks": ""
             }
            },
            "type": "scattergl"
           }
          ],
          "scattermapbox": [
           {
            "marker": {
             "colorbar": {
              "outlinewidth": 0,
              "ticks": ""
             }
            },
            "type": "scattermapbox"
           }
          ],
          "scatterpolar": [
           {
            "marker": {
             "colorbar": {
              "outlinewidth": 0,
              "ticks": ""
             }
            },
            "type": "scatterpolar"
           }
          ],
          "scatterpolargl": [
           {
            "marker": {
             "colorbar": {
              "outlinewidth": 0,
              "ticks": ""
             }
            },
            "type": "scatterpolargl"
           }
          ],
          "scatterternary": [
           {
            "marker": {
             "colorbar": {
              "outlinewidth": 0,
              "ticks": ""
             }
            },
            "type": "scatterternary"
           }
          ],
          "surface": [
           {
            "colorbar": {
             "outlinewidth": 0,
             "ticks": ""
            },
            "colorscale": [
             [
              0,
              "#0d0887"
             ],
             [
              0.1111111111111111,
              "#46039f"
             ],
             [
              0.2222222222222222,
              "#7201a8"
             ],
             [
              0.3333333333333333,
              "#9c179e"
             ],
             [
              0.4444444444444444,
              "#bd3786"
             ],
             [
              0.5555555555555556,
              "#d8576b"
             ],
             [
              0.6666666666666666,
              "#ed7953"
             ],
             [
              0.7777777777777778,
              "#fb9f3a"
             ],
             [
              0.8888888888888888,
              "#fdca26"
             ],
             [
              1,
              "#f0f921"
             ]
            ],
            "type": "surface"
           }
          ],
          "table": [
           {
            "cells": {
             "fill": {
              "color": "#EBF0F8"
             },
             "line": {
              "color": "white"
             }
            },
            "header": {
             "fill": {
              "color": "#C8D4E3"
             },
             "line": {
              "color": "white"
             }
            },
            "type": "table"
           }
          ]
         },
         "layout": {
          "annotationdefaults": {
           "arrowcolor": "#2a3f5f",
           "arrowhead": 0,
           "arrowwidth": 1
          },
          "autotypenumbers": "strict",
          "coloraxis": {
           "colorbar": {
            "outlinewidth": 0,
            "ticks": ""
           }
          },
          "colorscale": {
           "diverging": [
            [
             0,
             "#8e0152"
            ],
            [
             0.1,
             "#c51b7d"
            ],
            [
             0.2,
             "#de77ae"
            ],
            [
             0.3,
             "#f1b6da"
            ],
            [
             0.4,
             "#fde0ef"
            ],
            [
             0.5,
             "#f7f7f7"
            ],
            [
             0.6,
             "#e6f5d0"
            ],
            [
             0.7,
             "#b8e186"
            ],
            [
             0.8,
             "#7fbc41"
            ],
            [
             0.9,
             "#4d9221"
            ],
            [
             1,
             "#276419"
            ]
           ],
           "sequential": [
            [
             0,
             "#0d0887"
            ],
            [
             0.1111111111111111,
             "#46039f"
            ],
            [
             0.2222222222222222,
             "#7201a8"
            ],
            [
             0.3333333333333333,
             "#9c179e"
            ],
            [
             0.4444444444444444,
             "#bd3786"
            ],
            [
             0.5555555555555556,
             "#d8576b"
            ],
            [
             0.6666666666666666,
             "#ed7953"
            ],
            [
             0.7777777777777778,
             "#fb9f3a"
            ],
            [
             0.8888888888888888,
             "#fdca26"
            ],
            [
             1,
             "#f0f921"
            ]
           ],
           "sequentialminus": [
            [
             0,
             "#0d0887"
            ],
            [
             0.1111111111111111,
             "#46039f"
            ],
            [
             0.2222222222222222,
             "#7201a8"
            ],
            [
             0.3333333333333333,
             "#9c179e"
            ],
            [
             0.4444444444444444,
             "#bd3786"
            ],
            [
             0.5555555555555556,
             "#d8576b"
            ],
            [
             0.6666666666666666,
             "#ed7953"
            ],
            [
             0.7777777777777778,
             "#fb9f3a"
            ],
            [
             0.8888888888888888,
             "#fdca26"
            ],
            [
             1,
             "#f0f921"
            ]
           ]
          },
          "colorway": [
           "#636efa",
           "#EF553B",
           "#00cc96",
           "#ab63fa",
           "#FFA15A",
           "#19d3f3",
           "#FF6692",
           "#B6E880",
           "#FF97FF",
           "#FECB52"
          ],
          "font": {
           "color": "#2a3f5f"
          },
          "geo": {
           "bgcolor": "white",
           "lakecolor": "white",
           "landcolor": "#E5ECF6",
           "showlakes": true,
           "showland": true,
           "subunitcolor": "white"
          },
          "hoverlabel": {
           "align": "left"
          },
          "hovermode": "closest",
          "mapbox": {
           "style": "light"
          },
          "paper_bgcolor": "white",
          "plot_bgcolor": "#E5ECF6",
          "polar": {
           "angularaxis": {
            "gridcolor": "white",
            "linecolor": "white",
            "ticks": ""
           },
           "bgcolor": "#E5ECF6",
           "radialaxis": {
            "gridcolor": "white",
            "linecolor": "white",
            "ticks": ""
           }
          },
          "scene": {
           "xaxis": {
            "backgroundcolor": "#E5ECF6",
            "gridcolor": "white",
            "gridwidth": 2,
            "linecolor": "white",
            "showbackground": true,
            "ticks": "",
            "zerolinecolor": "white"
           },
           "yaxis": {
            "backgroundcolor": "#E5ECF6",
            "gridcolor": "white",
            "gridwidth": 2,
            "linecolor": "white",
            "showbackground": true,
            "ticks": "",
            "zerolinecolor": "white"
           },
           "zaxis": {
            "backgroundcolor": "#E5ECF6",
            "gridcolor": "white",
            "gridwidth": 2,
            "linecolor": "white",
            "showbackground": true,
            "ticks": "",
            "zerolinecolor": "white"
           }
          },
          "shapedefaults": {
           "line": {
            "color": "#2a3f5f"
           }
          },
          "ternary": {
           "aaxis": {
            "gridcolor": "white",
            "linecolor": "white",
            "ticks": ""
           },
           "baxis": {
            "gridcolor": "white",
            "linecolor": "white",
            "ticks": ""
           },
           "bgcolor": "#E5ECF6",
           "caxis": {
            "gridcolor": "white",
            "linecolor": "white",
            "ticks": ""
           }
          },
          "title": {
           "x": 0.05
          },
          "xaxis": {
           "automargin": true,
           "gridcolor": "white",
           "linecolor": "white",
           "ticks": "",
           "title": {
            "standoff": 15
           },
           "zerolinecolor": "white",
           "zerolinewidth": 2
          },
          "yaxis": {
           "automargin": true,
           "gridcolor": "white",
           "linecolor": "white",
           "ticks": "",
           "title": {
            "standoff": 15
           },
           "zerolinecolor": "white",
           "zerolinewidth": 2
          }
         }
        },
        "title": {
         "text": "Average Competitor Price Difference by Product Category Name"
        },
        "xaxis": {
         "anchor": "y",
         "domain": [
          0,
          1
         ],
         "title": {
          "text": "Product Category Name"
         }
        },
        "yaxis": {
         "anchor": "x",
         "domain": [
          0,
          1
         ],
         "title": {
          "text": "Average Compititor Price Difference"
         }
        }
       }
      }
     },
     "metadata": {},
     "output_type": "display_data"
    }
   ],
   "source": [
    "# Now let's calculate the average competitor price difference by product category\n",
    "data[\"comp_price_diff\"] = data[\"unit_price\"] - data[\"comp_1\"]\n",
    "\n",
    "avg_price_diff_by_category = data.groupby('product_category_name')['comp_price_diff'].mean().reset_index()\n",
    "\n",
    "fig = px.bar(avg_price_diff_by_category,\n",
    "             x=\"product_category_name\",\n",
    "             y=\"comp_price_diff\",\n",
    "             title=\"Average Competitor Price Difference by Product Category Name\")\n",
    "\n",
    "fig.update_layout(\n",
    "    xaxis_title = \"Product Category Name\",\n",
    "    yaxis_title = \"Average Compititor Price Difference\"\n",
    ")\n",
    "\n",
    "fig.show()\n"
   ]
  },
  {
   "cell_type": "markdown",
   "metadata": {},
   "source": [
    "##### Retail Price Optimization Model with Machine Learning"
   ]
  },
  {
   "cell_type": "code",
   "execution_count": 73,
   "metadata": {},
   "outputs": [],
   "source": [
    "from sklearn.model_selection import train_test_split\n",
    "from sklearn.tree import DecisionTreeRegressor\n",
    "from sklearn.metrics import mean_squared_error"
   ]
  },
  {
   "cell_type": "code",
   "execution_count": 74,
   "metadata": {},
   "outputs": [
    {
     "data": {
      "text/html": [
       "<style>#sk-container-id-1 {\n",
       "  /* Definition of color scheme common for light and dark mode */\n",
       "  --sklearn-color-text: black;\n",
       "  --sklearn-color-line: gray;\n",
       "  /* Definition of color scheme for unfitted estimators */\n",
       "  --sklearn-color-unfitted-level-0: #fff5e6;\n",
       "  --sklearn-color-unfitted-level-1: #f6e4d2;\n",
       "  --sklearn-color-unfitted-level-2: #ffe0b3;\n",
       "  --sklearn-color-unfitted-level-3: chocolate;\n",
       "  /* Definition of color scheme for fitted estimators */\n",
       "  --sklearn-color-fitted-level-0: #f0f8ff;\n",
       "  --sklearn-color-fitted-level-1: #d4ebff;\n",
       "  --sklearn-color-fitted-level-2: #b3dbfd;\n",
       "  --sklearn-color-fitted-level-3: cornflowerblue;\n",
       "\n",
       "  /* Specific color for light theme */\n",
       "  --sklearn-color-text-on-default-background: var(--sg-text-color, var(--theme-code-foreground, var(--jp-content-font-color1, black)));\n",
       "  --sklearn-color-background: var(--sg-background-color, var(--theme-background, var(--jp-layout-color0, white)));\n",
       "  --sklearn-color-border-box: var(--sg-text-color, var(--theme-code-foreground, var(--jp-content-font-color1, black)));\n",
       "  --sklearn-color-icon: #696969;\n",
       "\n",
       "  @media (prefers-color-scheme: dark) {\n",
       "    /* Redefinition of color scheme for dark theme */\n",
       "    --sklearn-color-text-on-default-background: var(--sg-text-color, var(--theme-code-foreground, var(--jp-content-font-color1, white)));\n",
       "    --sklearn-color-background: var(--sg-background-color, var(--theme-background, var(--jp-layout-color0, #111)));\n",
       "    --sklearn-color-border-box: var(--sg-text-color, var(--theme-code-foreground, var(--jp-content-font-color1, white)));\n",
       "    --sklearn-color-icon: #878787;\n",
       "  }\n",
       "}\n",
       "\n",
       "#sk-container-id-1 {\n",
       "  color: var(--sklearn-color-text);\n",
       "}\n",
       "\n",
       "#sk-container-id-1 pre {\n",
       "  padding: 0;\n",
       "}\n",
       "\n",
       "#sk-container-id-1 input.sk-hidden--visually {\n",
       "  border: 0;\n",
       "  clip: rect(1px 1px 1px 1px);\n",
       "  clip: rect(1px, 1px, 1px, 1px);\n",
       "  height: 1px;\n",
       "  margin: -1px;\n",
       "  overflow: hidden;\n",
       "  padding: 0;\n",
       "  position: absolute;\n",
       "  width: 1px;\n",
       "}\n",
       "\n",
       "#sk-container-id-1 div.sk-dashed-wrapped {\n",
       "  border: 1px dashed var(--sklearn-color-line);\n",
       "  margin: 0 0.4em 0.5em 0.4em;\n",
       "  box-sizing: border-box;\n",
       "  padding-bottom: 0.4em;\n",
       "  background-color: var(--sklearn-color-background);\n",
       "}\n",
       "\n",
       "#sk-container-id-1 div.sk-container {\n",
       "  /* jupyter's `normalize.less` sets `[hidden] { display: none; }`\n",
       "     but bootstrap.min.css set `[hidden] { display: none !important; }`\n",
       "     so we also need the `!important` here to be able to override the\n",
       "     default hidden behavior on the sphinx rendered scikit-learn.org.\n",
       "     See: https://github.com/scikit-learn/scikit-learn/issues/21755 */\n",
       "  display: inline-block !important;\n",
       "  position: relative;\n",
       "}\n",
       "\n",
       "#sk-container-id-1 div.sk-text-repr-fallback {\n",
       "  display: none;\n",
       "}\n",
       "\n",
       "div.sk-parallel-item,\n",
       "div.sk-serial,\n",
       "div.sk-item {\n",
       "  /* draw centered vertical line to link estimators */\n",
       "  background-image: linear-gradient(var(--sklearn-color-text-on-default-background), var(--sklearn-color-text-on-default-background));\n",
       "  background-size: 2px 100%;\n",
       "  background-repeat: no-repeat;\n",
       "  background-position: center center;\n",
       "}\n",
       "\n",
       "/* Parallel-specific style estimator block */\n",
       "\n",
       "#sk-container-id-1 div.sk-parallel-item::after {\n",
       "  content: \"\";\n",
       "  width: 100%;\n",
       "  border-bottom: 2px solid var(--sklearn-color-text-on-default-background);\n",
       "  flex-grow: 1;\n",
       "}\n",
       "\n",
       "#sk-container-id-1 div.sk-parallel {\n",
       "  display: flex;\n",
       "  align-items: stretch;\n",
       "  justify-content: center;\n",
       "  background-color: var(--sklearn-color-background);\n",
       "  position: relative;\n",
       "}\n",
       "\n",
       "#sk-container-id-1 div.sk-parallel-item {\n",
       "  display: flex;\n",
       "  flex-direction: column;\n",
       "}\n",
       "\n",
       "#sk-container-id-1 div.sk-parallel-item:first-child::after {\n",
       "  align-self: flex-end;\n",
       "  width: 50%;\n",
       "}\n",
       "\n",
       "#sk-container-id-1 div.sk-parallel-item:last-child::after {\n",
       "  align-self: flex-start;\n",
       "  width: 50%;\n",
       "}\n",
       "\n",
       "#sk-container-id-1 div.sk-parallel-item:only-child::after {\n",
       "  width: 0;\n",
       "}\n",
       "\n",
       "/* Serial-specific style estimator block */\n",
       "\n",
       "#sk-container-id-1 div.sk-serial {\n",
       "  display: flex;\n",
       "  flex-direction: column;\n",
       "  align-items: center;\n",
       "  background-color: var(--sklearn-color-background);\n",
       "  padding-right: 1em;\n",
       "  padding-left: 1em;\n",
       "}\n",
       "\n",
       "\n",
       "/* Toggleable style: style used for estimator/Pipeline/ColumnTransformer box that is\n",
       "clickable and can be expanded/collapsed.\n",
       "- Pipeline and ColumnTransformer use this feature and define the default style\n",
       "- Estimators will overwrite some part of the style using the `sk-estimator` class\n",
       "*/\n",
       "\n",
       "/* Pipeline and ColumnTransformer style (default) */\n",
       "\n",
       "#sk-container-id-1 div.sk-toggleable {\n",
       "  /* Default theme specific background. It is overwritten whether we have a\n",
       "  specific estimator or a Pipeline/ColumnTransformer */\n",
       "  background-color: var(--sklearn-color-background);\n",
       "}\n",
       "\n",
       "/* Toggleable label */\n",
       "#sk-container-id-1 label.sk-toggleable__label {\n",
       "  cursor: pointer;\n",
       "  display: block;\n",
       "  width: 100%;\n",
       "  margin-bottom: 0;\n",
       "  padding: 0.5em;\n",
       "  box-sizing: border-box;\n",
       "  text-align: center;\n",
       "}\n",
       "\n",
       "#sk-container-id-1 label.sk-toggleable__label-arrow:before {\n",
       "  /* Arrow on the left of the label */\n",
       "  content: \"▸\";\n",
       "  float: left;\n",
       "  margin-right: 0.25em;\n",
       "  color: var(--sklearn-color-icon);\n",
       "}\n",
       "\n",
       "#sk-container-id-1 label.sk-toggleable__label-arrow:hover:before {\n",
       "  color: var(--sklearn-color-text);\n",
       "}\n",
       "\n",
       "/* Toggleable content - dropdown */\n",
       "\n",
       "#sk-container-id-1 div.sk-toggleable__content {\n",
       "  max-height: 0;\n",
       "  max-width: 0;\n",
       "  overflow: hidden;\n",
       "  text-align: left;\n",
       "  /* unfitted */\n",
       "  background-color: var(--sklearn-color-unfitted-level-0);\n",
       "}\n",
       "\n",
       "#sk-container-id-1 div.sk-toggleable__content.fitted {\n",
       "  /* fitted */\n",
       "  background-color: var(--sklearn-color-fitted-level-0);\n",
       "}\n",
       "\n",
       "#sk-container-id-1 div.sk-toggleable__content pre {\n",
       "  margin: 0.2em;\n",
       "  border-radius: 0.25em;\n",
       "  color: var(--sklearn-color-text);\n",
       "  /* unfitted */\n",
       "  background-color: var(--sklearn-color-unfitted-level-0);\n",
       "}\n",
       "\n",
       "#sk-container-id-1 div.sk-toggleable__content.fitted pre {\n",
       "  /* unfitted */\n",
       "  background-color: var(--sklearn-color-fitted-level-0);\n",
       "}\n",
       "\n",
       "#sk-container-id-1 input.sk-toggleable__control:checked~div.sk-toggleable__content {\n",
       "  /* Expand drop-down */\n",
       "  max-height: 200px;\n",
       "  max-width: 100%;\n",
       "  overflow: auto;\n",
       "}\n",
       "\n",
       "#sk-container-id-1 input.sk-toggleable__control:checked~label.sk-toggleable__label-arrow:before {\n",
       "  content: \"▾\";\n",
       "}\n",
       "\n",
       "/* Pipeline/ColumnTransformer-specific style */\n",
       "\n",
       "#sk-container-id-1 div.sk-label input.sk-toggleable__control:checked~label.sk-toggleable__label {\n",
       "  color: var(--sklearn-color-text);\n",
       "  background-color: var(--sklearn-color-unfitted-level-2);\n",
       "}\n",
       "\n",
       "#sk-container-id-1 div.sk-label.fitted input.sk-toggleable__control:checked~label.sk-toggleable__label {\n",
       "  background-color: var(--sklearn-color-fitted-level-2);\n",
       "}\n",
       "\n",
       "/* Estimator-specific style */\n",
       "\n",
       "/* Colorize estimator box */\n",
       "#sk-container-id-1 div.sk-estimator input.sk-toggleable__control:checked~label.sk-toggleable__label {\n",
       "  /* unfitted */\n",
       "  background-color: var(--sklearn-color-unfitted-level-2);\n",
       "}\n",
       "\n",
       "#sk-container-id-1 div.sk-estimator.fitted input.sk-toggleable__control:checked~label.sk-toggleable__label {\n",
       "  /* fitted */\n",
       "  background-color: var(--sklearn-color-fitted-level-2);\n",
       "}\n",
       "\n",
       "#sk-container-id-1 div.sk-label label.sk-toggleable__label,\n",
       "#sk-container-id-1 div.sk-label label {\n",
       "  /* The background is the default theme color */\n",
       "  color: var(--sklearn-color-text-on-default-background);\n",
       "}\n",
       "\n",
       "/* On hover, darken the color of the background */\n",
       "#sk-container-id-1 div.sk-label:hover label.sk-toggleable__label {\n",
       "  color: var(--sklearn-color-text);\n",
       "  background-color: var(--sklearn-color-unfitted-level-2);\n",
       "}\n",
       "\n",
       "/* Label box, darken color on hover, fitted */\n",
       "#sk-container-id-1 div.sk-label.fitted:hover label.sk-toggleable__label.fitted {\n",
       "  color: var(--sklearn-color-text);\n",
       "  background-color: var(--sklearn-color-fitted-level-2);\n",
       "}\n",
       "\n",
       "/* Estimator label */\n",
       "\n",
       "#sk-container-id-1 div.sk-label label {\n",
       "  font-family: monospace;\n",
       "  font-weight: bold;\n",
       "  display: inline-block;\n",
       "  line-height: 1.2em;\n",
       "}\n",
       "\n",
       "#sk-container-id-1 div.sk-label-container {\n",
       "  text-align: center;\n",
       "}\n",
       "\n",
       "/* Estimator-specific */\n",
       "#sk-container-id-1 div.sk-estimator {\n",
       "  font-family: monospace;\n",
       "  border: 1px dotted var(--sklearn-color-border-box);\n",
       "  border-radius: 0.25em;\n",
       "  box-sizing: border-box;\n",
       "  margin-bottom: 0.5em;\n",
       "  /* unfitted */\n",
       "  background-color: var(--sklearn-color-unfitted-level-0);\n",
       "}\n",
       "\n",
       "#sk-container-id-1 div.sk-estimator.fitted {\n",
       "  /* fitted */\n",
       "  background-color: var(--sklearn-color-fitted-level-0);\n",
       "}\n",
       "\n",
       "/* on hover */\n",
       "#sk-container-id-1 div.sk-estimator:hover {\n",
       "  /* unfitted */\n",
       "  background-color: var(--sklearn-color-unfitted-level-2);\n",
       "}\n",
       "\n",
       "#sk-container-id-1 div.sk-estimator.fitted:hover {\n",
       "  /* fitted */\n",
       "  background-color: var(--sklearn-color-fitted-level-2);\n",
       "}\n",
       "\n",
       "/* Specification for estimator info (e.g. \"i\" and \"?\") */\n",
       "\n",
       "/* Common style for \"i\" and \"?\" */\n",
       "\n",
       ".sk-estimator-doc-link,\n",
       "a:link.sk-estimator-doc-link,\n",
       "a:visited.sk-estimator-doc-link {\n",
       "  float: right;\n",
       "  font-size: smaller;\n",
       "  line-height: 1em;\n",
       "  font-family: monospace;\n",
       "  background-color: var(--sklearn-color-background);\n",
       "  border-radius: 1em;\n",
       "  height: 1em;\n",
       "  width: 1em;\n",
       "  text-decoration: none !important;\n",
       "  margin-left: 1ex;\n",
       "  /* unfitted */\n",
       "  border: var(--sklearn-color-unfitted-level-1) 1pt solid;\n",
       "  color: var(--sklearn-color-unfitted-level-1);\n",
       "}\n",
       "\n",
       ".sk-estimator-doc-link.fitted,\n",
       "a:link.sk-estimator-doc-link.fitted,\n",
       "a:visited.sk-estimator-doc-link.fitted {\n",
       "  /* fitted */\n",
       "  border: var(--sklearn-color-fitted-level-1) 1pt solid;\n",
       "  color: var(--sklearn-color-fitted-level-1);\n",
       "}\n",
       "\n",
       "/* On hover */\n",
       "div.sk-estimator:hover .sk-estimator-doc-link:hover,\n",
       ".sk-estimator-doc-link:hover,\n",
       "div.sk-label-container:hover .sk-estimator-doc-link:hover,\n",
       ".sk-estimator-doc-link:hover {\n",
       "  /* unfitted */\n",
       "  background-color: var(--sklearn-color-unfitted-level-3);\n",
       "  color: var(--sklearn-color-background);\n",
       "  text-decoration: none;\n",
       "}\n",
       "\n",
       "div.sk-estimator.fitted:hover .sk-estimator-doc-link.fitted:hover,\n",
       ".sk-estimator-doc-link.fitted:hover,\n",
       "div.sk-label-container:hover .sk-estimator-doc-link.fitted:hover,\n",
       ".sk-estimator-doc-link.fitted:hover {\n",
       "  /* fitted */\n",
       "  background-color: var(--sklearn-color-fitted-level-3);\n",
       "  color: var(--sklearn-color-background);\n",
       "  text-decoration: none;\n",
       "}\n",
       "\n",
       "/* Span, style for the box shown on hovering the info icon */\n",
       ".sk-estimator-doc-link span {\n",
       "  display: none;\n",
       "  z-index: 9999;\n",
       "  position: relative;\n",
       "  font-weight: normal;\n",
       "  right: .2ex;\n",
       "  padding: .5ex;\n",
       "  margin: .5ex;\n",
       "  width: min-content;\n",
       "  min-width: 20ex;\n",
       "  max-width: 50ex;\n",
       "  color: var(--sklearn-color-text);\n",
       "  box-shadow: 2pt 2pt 4pt #999;\n",
       "  /* unfitted */\n",
       "  background: var(--sklearn-color-unfitted-level-0);\n",
       "  border: .5pt solid var(--sklearn-color-unfitted-level-3);\n",
       "}\n",
       "\n",
       ".sk-estimator-doc-link.fitted span {\n",
       "  /* fitted */\n",
       "  background: var(--sklearn-color-fitted-level-0);\n",
       "  border: var(--sklearn-color-fitted-level-3);\n",
       "}\n",
       "\n",
       ".sk-estimator-doc-link:hover span {\n",
       "  display: block;\n",
       "}\n",
       "\n",
       "/* \"?\"-specific style due to the `<a>` HTML tag */\n",
       "\n",
       "#sk-container-id-1 a.estimator_doc_link {\n",
       "  float: right;\n",
       "  font-size: 1rem;\n",
       "  line-height: 1em;\n",
       "  font-family: monospace;\n",
       "  background-color: var(--sklearn-color-background);\n",
       "  border-radius: 1rem;\n",
       "  height: 1rem;\n",
       "  width: 1rem;\n",
       "  text-decoration: none;\n",
       "  /* unfitted */\n",
       "  color: var(--sklearn-color-unfitted-level-1);\n",
       "  border: var(--sklearn-color-unfitted-level-1) 1pt solid;\n",
       "}\n",
       "\n",
       "#sk-container-id-1 a.estimator_doc_link.fitted {\n",
       "  /* fitted */\n",
       "  border: var(--sklearn-color-fitted-level-1) 1pt solid;\n",
       "  color: var(--sklearn-color-fitted-level-1);\n",
       "}\n",
       "\n",
       "/* On hover */\n",
       "#sk-container-id-1 a.estimator_doc_link:hover {\n",
       "  /* unfitted */\n",
       "  background-color: var(--sklearn-color-unfitted-level-3);\n",
       "  color: var(--sklearn-color-background);\n",
       "  text-decoration: none;\n",
       "}\n",
       "\n",
       "#sk-container-id-1 a.estimator_doc_link.fitted:hover {\n",
       "  /* fitted */\n",
       "  background-color: var(--sklearn-color-fitted-level-3);\n",
       "}\n",
       "</style><div id=\"sk-container-id-1\" class=\"sk-top-container\"><div class=\"sk-text-repr-fallback\"><pre>DecisionTreeRegressor()</pre><b>In a Jupyter environment, please rerun this cell to show the HTML representation or trust the notebook. <br />On GitHub, the HTML representation is unable to render, please try loading this page with nbviewer.org.</b></div><div class=\"sk-container\" hidden><div class=\"sk-item\"><div class=\"sk-estimator fitted sk-toggleable\"><input class=\"sk-toggleable__control sk-hidden--visually\" id=\"sk-estimator-id-1\" type=\"checkbox\" checked><label for=\"sk-estimator-id-1\" class=\"sk-toggleable__label fitted sk-toggleable__label-arrow fitted\">&nbsp;&nbsp;DecisionTreeRegressor<a class=\"sk-estimator-doc-link fitted\" rel=\"noreferrer\" target=\"_blank\" href=\"https://scikit-learn.org/1.4/modules/generated/sklearn.tree.DecisionTreeRegressor.html\">?<span>Documentation for DecisionTreeRegressor</span></a><span class=\"sk-estimator-doc-link fitted\">i<span>Fitted</span></span></label><div class=\"sk-toggleable__content fitted\"><pre>DecisionTreeRegressor()</pre></div> </div></div></div></div>"
      ],
      "text/plain": [
       "DecisionTreeRegressor()"
      ]
     },
     "execution_count": 74,
     "metadata": {},
     "output_type": "execute_result"
    }
   ],
   "source": [
    "X = data[[\"qty\", \"unit_price\", \"comp_1\",\n",
    "          \"product_score\", \"comp_price_diff\"]]\n",
    "y = data[\"total_price\"]\n",
    "\n",
    "X_train, X_test, y_train, y_test = train_test_split(X, y, \n",
    "                                                    test_size=0.2,\n",
    "                                                    random_state=42)\n",
    "# Train a Linear Regression model\n",
    "model = DecisionTreeRegressor()\n",
    "model.fit(X_train, y_train)"
   ]
  },
  {
   "cell_type": "code",
   "execution_count": 78,
   "metadata": {},
   "outputs": [
    {
     "data": {
      "application/vnd.plotly.v1+json": {
       "config": {
        "plotlyServerURL": "https://plot.ly"
       },
       "data": [
        {
         "marker": {
          "color": "blue"
         },
         "mode": "markers",
         "name": "Actual Vs. Predicted Retail Price",
         "type": "scatter",
         "x": [
          3139.8,
          1819.86,
          99.9,
          2179,
          299.97,
          477.1,
          4860.11,
          4397.7,
          550.8,
          735,
          249.5,
          3291.4,
          78,
          134.99,
          169.98,
          11820.2,
          2209.83,
          657.8,
          5288.57,
          38.4,
          2336.1,
          2043.92,
          324.95,
          1509.2,
          4712.19,
          338.77,
          215,
          107.8,
          769.45,
          1679.89,
          328.9,
          2170.87,
          179.1,
          2429.73,
          1399.86,
          140,
          579.71,
          227.96,
          2090,
          134.99,
          479.97,
          679.83,
          299.5,
          2247.6,
          699.8,
          1247.5,
          477.6,
          78,
          390,
          2449.3,
          449.1,
          460.8,
          3326.3,
          479.8,
          593.5,
          234,
          275.7,
          557.85,
          1279.84,
          199.98,
          167.93,
          749.5,
          1039.87,
          1415.76,
          19.9,
          1297.78,
          1763.88,
          339.96,
          4241,
          539.94,
          1670.9,
          944.4,
          259.87,
          5248.5,
          258.7,
          455.81,
          880,
          449.82,
          239.6,
          335.86,
          390,
          1112,
          3250,
          759.92,
          5986,
          601.8,
          185.97,
          130,
          575.76,
          307.2,
          571.8,
          179.7,
          1870.84,
          108.6,
          149.7,
          78,
          445.85,
          4249.5,
          398,
          1016.95,
          1205.03,
          579.75,
          32.5,
          1856.9,
          519.96,
          221.98,
          7644.9,
          880,
          2975,
          657.8,
          1019.93,
          1769.7,
          36.2,
          702,
          1099.89,
          792,
          299.4,
          1723.08,
          1619.93,
          1039.84,
          778.7,
          254.97,
          299.97,
          1119.86,
          1683,
          3543.5,
          493.4,
          257.56,
          3836.8,
          799.92,
          1415.92,
          411.2,
          299.46,
          9125,
          1889.79,
          1590
         ],
         "y": [
          2680,
          1680,
          99.99,
          2537.19,
          299.97,
          495.5,
          4047.3,
          3711.7,
          648.89,
          840,
          299.4,
          2680,
          78,
          134.9,
          117.98,
          8538,
          2079.84,
          1170.35,
          4752,
          38.4,
          2336.1,
          2200,
          299.5,
          1401.4,
          4769.7,
          439.96,
          179.99,
          107.8,
          707.4,
          1604,
          271.2,
          1948.7,
          179.1,
          2339.74,
          1399.86,
          140,
          603.2,
          227.96,
          2190.6,
          134.9,
          479.97,
          719.82,
          299.5,
          2479.4,
          699.8,
          994.04,
          563.5,
          84.9,
          470,
          2799.2,
          530.91,
          385,
          3596,
          359.98,
          694.9,
          234,
          419.4,
          548.9,
          1339.84,
          199.98,
          191.92,
          1019.94,
          975,
          1474.75,
          35,
          1234.79,
          1737.4,
          339.96,
          4047.3,
          539.94,
          1421.67,
          943.8,
          319.84,
          5280,
          319.84,
          455.81,
          890,
          499,
          239.6,
          388.7,
          468,
          973,
          3461.58,
          683,
          4752,
          595,
          176.97,
          119.8,
          563.5,
          307.2,
          569.9,
          179.7,
          1987.4,
          140,
          149.7,
          78,
          648.89,
          4584.9,
          310,
          894,
          849.5,
          599.93,
          35,
          2036.6,
          439.96,
          220,
          6764,
          770,
          2598.9,
          1170.35,
          1188,
          1559.1,
          29.9,
          754.5,
          1099.89,
          693,
          299.4,
          1559.1,
          1529.83,
          888.85,
          778.7,
          254.97,
          299.97,
          1188.6,
          1529.83,
          3575,
          455,
          299.46,
          4004,
          699.93,
          1729.2,
          399.2,
          299.46,
          7475,
          1889.79,
          1737.4
         ]
        },
        {
         "marker": {
          "color": "red"
         },
         "mode": "lines",
         "name": "Ideal Prediction",
         "type": "scatter",
         "x": [
          19.9,
          11820.2
         ],
         "y": [
          19.9,
          11820.2
         ]
        }
       ],
       "layout": {
        "template": {
         "data": {
          "bar": [
           {
            "error_x": {
             "color": "#2a3f5f"
            },
            "error_y": {
             "color": "#2a3f5f"
            },
            "marker": {
             "line": {
              "color": "#E5ECF6",
              "width": 0.5
             },
             "pattern": {
              "fillmode": "overlay",
              "size": 10,
              "solidity": 0.2
             }
            },
            "type": "bar"
           }
          ],
          "barpolar": [
           {
            "marker": {
             "line": {
              "color": "#E5ECF6",
              "width": 0.5
             },
             "pattern": {
              "fillmode": "overlay",
              "size": 10,
              "solidity": 0.2
             }
            },
            "type": "barpolar"
           }
          ],
          "carpet": [
           {
            "aaxis": {
             "endlinecolor": "#2a3f5f",
             "gridcolor": "white",
             "linecolor": "white",
             "minorgridcolor": "white",
             "startlinecolor": "#2a3f5f"
            },
            "baxis": {
             "endlinecolor": "#2a3f5f",
             "gridcolor": "white",
             "linecolor": "white",
             "minorgridcolor": "white",
             "startlinecolor": "#2a3f5f"
            },
            "type": "carpet"
           }
          ],
          "choropleth": [
           {
            "colorbar": {
             "outlinewidth": 0,
             "ticks": ""
            },
            "type": "choropleth"
           }
          ],
          "contour": [
           {
            "colorbar": {
             "outlinewidth": 0,
             "ticks": ""
            },
            "colorscale": [
             [
              0,
              "#0d0887"
             ],
             [
              0.1111111111111111,
              "#46039f"
             ],
             [
              0.2222222222222222,
              "#7201a8"
             ],
             [
              0.3333333333333333,
              "#9c179e"
             ],
             [
              0.4444444444444444,
              "#bd3786"
             ],
             [
              0.5555555555555556,
              "#d8576b"
             ],
             [
              0.6666666666666666,
              "#ed7953"
             ],
             [
              0.7777777777777778,
              "#fb9f3a"
             ],
             [
              0.8888888888888888,
              "#fdca26"
             ],
             [
              1,
              "#f0f921"
             ]
            ],
            "type": "contour"
           }
          ],
          "contourcarpet": [
           {
            "colorbar": {
             "outlinewidth": 0,
             "ticks": ""
            },
            "type": "contourcarpet"
           }
          ],
          "heatmap": [
           {
            "colorbar": {
             "outlinewidth": 0,
             "ticks": ""
            },
            "colorscale": [
             [
              0,
              "#0d0887"
             ],
             [
              0.1111111111111111,
              "#46039f"
             ],
             [
              0.2222222222222222,
              "#7201a8"
             ],
             [
              0.3333333333333333,
              "#9c179e"
             ],
             [
              0.4444444444444444,
              "#bd3786"
             ],
             [
              0.5555555555555556,
              "#d8576b"
             ],
             [
              0.6666666666666666,
              "#ed7953"
             ],
             [
              0.7777777777777778,
              "#fb9f3a"
             ],
             [
              0.8888888888888888,
              "#fdca26"
             ],
             [
              1,
              "#f0f921"
             ]
            ],
            "type": "heatmap"
           }
          ],
          "heatmapgl": [
           {
            "colorbar": {
             "outlinewidth": 0,
             "ticks": ""
            },
            "colorscale": [
             [
              0,
              "#0d0887"
             ],
             [
              0.1111111111111111,
              "#46039f"
             ],
             [
              0.2222222222222222,
              "#7201a8"
             ],
             [
              0.3333333333333333,
              "#9c179e"
             ],
             [
              0.4444444444444444,
              "#bd3786"
             ],
             [
              0.5555555555555556,
              "#d8576b"
             ],
             [
              0.6666666666666666,
              "#ed7953"
             ],
             [
              0.7777777777777778,
              "#fb9f3a"
             ],
             [
              0.8888888888888888,
              "#fdca26"
             ],
             [
              1,
              "#f0f921"
             ]
            ],
            "type": "heatmapgl"
           }
          ],
          "histogram": [
           {
            "marker": {
             "pattern": {
              "fillmode": "overlay",
              "size": 10,
              "solidity": 0.2
             }
            },
            "type": "histogram"
           }
          ],
          "histogram2d": [
           {
            "colorbar": {
             "outlinewidth": 0,
             "ticks": ""
            },
            "colorscale": [
             [
              0,
              "#0d0887"
             ],
             [
              0.1111111111111111,
              "#46039f"
             ],
             [
              0.2222222222222222,
              "#7201a8"
             ],
             [
              0.3333333333333333,
              "#9c179e"
             ],
             [
              0.4444444444444444,
              "#bd3786"
             ],
             [
              0.5555555555555556,
              "#d8576b"
             ],
             [
              0.6666666666666666,
              "#ed7953"
             ],
             [
              0.7777777777777778,
              "#fb9f3a"
             ],
             [
              0.8888888888888888,
              "#fdca26"
             ],
             [
              1,
              "#f0f921"
             ]
            ],
            "type": "histogram2d"
           }
          ],
          "histogram2dcontour": [
           {
            "colorbar": {
             "outlinewidth": 0,
             "ticks": ""
            },
            "colorscale": [
             [
              0,
              "#0d0887"
             ],
             [
              0.1111111111111111,
              "#46039f"
             ],
             [
              0.2222222222222222,
              "#7201a8"
             ],
             [
              0.3333333333333333,
              "#9c179e"
             ],
             [
              0.4444444444444444,
              "#bd3786"
             ],
             [
              0.5555555555555556,
              "#d8576b"
             ],
             [
              0.6666666666666666,
              "#ed7953"
             ],
             [
              0.7777777777777778,
              "#fb9f3a"
             ],
             [
              0.8888888888888888,
              "#fdca26"
             ],
             [
              1,
              "#f0f921"
             ]
            ],
            "type": "histogram2dcontour"
           }
          ],
          "mesh3d": [
           {
            "colorbar": {
             "outlinewidth": 0,
             "ticks": ""
            },
            "type": "mesh3d"
           }
          ],
          "parcoords": [
           {
            "line": {
             "colorbar": {
              "outlinewidth": 0,
              "ticks": ""
             }
            },
            "type": "parcoords"
           }
          ],
          "pie": [
           {
            "automargin": true,
            "type": "pie"
           }
          ],
          "scatter": [
           {
            "fillpattern": {
             "fillmode": "overlay",
             "size": 10,
             "solidity": 0.2
            },
            "type": "scatter"
           }
          ],
          "scatter3d": [
           {
            "line": {
             "colorbar": {
              "outlinewidth": 0,
              "ticks": ""
             }
            },
            "marker": {
             "colorbar": {
              "outlinewidth": 0,
              "ticks": ""
             }
            },
            "type": "scatter3d"
           }
          ],
          "scattercarpet": [
           {
            "marker": {
             "colorbar": {
              "outlinewidth": 0,
              "ticks": ""
             }
            },
            "type": "scattercarpet"
           }
          ],
          "scattergeo": [
           {
            "marker": {
             "colorbar": {
              "outlinewidth": 0,
              "ticks": ""
             }
            },
            "type": "scattergeo"
           }
          ],
          "scattergl": [
           {
            "marker": {
             "colorbar": {
              "outlinewidth": 0,
              "ticks": ""
             }
            },
            "type": "scattergl"
           }
          ],
          "scattermapbox": [
           {
            "marker": {
             "colorbar": {
              "outlinewidth": 0,
              "ticks": ""
             }
            },
            "type": "scattermapbox"
           }
          ],
          "scatterpolar": [
           {
            "marker": {
             "colorbar": {
              "outlinewidth": 0,
              "ticks": ""
             }
            },
            "type": "scatterpolar"
           }
          ],
          "scatterpolargl": [
           {
            "marker": {
             "colorbar": {
              "outlinewidth": 0,
              "ticks": ""
             }
            },
            "type": "scatterpolargl"
           }
          ],
          "scatterternary": [
           {
            "marker": {
             "colorbar": {
              "outlinewidth": 0,
              "ticks": ""
             }
            },
            "type": "scatterternary"
           }
          ],
          "surface": [
           {
            "colorbar": {
             "outlinewidth": 0,
             "ticks": ""
            },
            "colorscale": [
             [
              0,
              "#0d0887"
             ],
             [
              0.1111111111111111,
              "#46039f"
             ],
             [
              0.2222222222222222,
              "#7201a8"
             ],
             [
              0.3333333333333333,
              "#9c179e"
             ],
             [
              0.4444444444444444,
              "#bd3786"
             ],
             [
              0.5555555555555556,
              "#d8576b"
             ],
             [
              0.6666666666666666,
              "#ed7953"
             ],
             [
              0.7777777777777778,
              "#fb9f3a"
             ],
             [
              0.8888888888888888,
              "#fdca26"
             ],
             [
              1,
              "#f0f921"
             ]
            ],
            "type": "surface"
           }
          ],
          "table": [
           {
            "cells": {
             "fill": {
              "color": "#EBF0F8"
             },
             "line": {
              "color": "white"
             }
            },
            "header": {
             "fill": {
              "color": "#C8D4E3"
             },
             "line": {
              "color": "white"
             }
            },
            "type": "table"
           }
          ]
         },
         "layout": {
          "annotationdefaults": {
           "arrowcolor": "#2a3f5f",
           "arrowhead": 0,
           "arrowwidth": 1
          },
          "autotypenumbers": "strict",
          "coloraxis": {
           "colorbar": {
            "outlinewidth": 0,
            "ticks": ""
           }
          },
          "colorscale": {
           "diverging": [
            [
             0,
             "#8e0152"
            ],
            [
             0.1,
             "#c51b7d"
            ],
            [
             0.2,
             "#de77ae"
            ],
            [
             0.3,
             "#f1b6da"
            ],
            [
             0.4,
             "#fde0ef"
            ],
            [
             0.5,
             "#f7f7f7"
            ],
            [
             0.6,
             "#e6f5d0"
            ],
            [
             0.7,
             "#b8e186"
            ],
            [
             0.8,
             "#7fbc41"
            ],
            [
             0.9,
             "#4d9221"
            ],
            [
             1,
             "#276419"
            ]
           ],
           "sequential": [
            [
             0,
             "#0d0887"
            ],
            [
             0.1111111111111111,
             "#46039f"
            ],
            [
             0.2222222222222222,
             "#7201a8"
            ],
            [
             0.3333333333333333,
             "#9c179e"
            ],
            [
             0.4444444444444444,
             "#bd3786"
            ],
            [
             0.5555555555555556,
             "#d8576b"
            ],
            [
             0.6666666666666666,
             "#ed7953"
            ],
            [
             0.7777777777777778,
             "#fb9f3a"
            ],
            [
             0.8888888888888888,
             "#fdca26"
            ],
            [
             1,
             "#f0f921"
            ]
           ],
           "sequentialminus": [
            [
             0,
             "#0d0887"
            ],
            [
             0.1111111111111111,
             "#46039f"
            ],
            [
             0.2222222222222222,
             "#7201a8"
            ],
            [
             0.3333333333333333,
             "#9c179e"
            ],
            [
             0.4444444444444444,
             "#bd3786"
            ],
            [
             0.5555555555555556,
             "#d8576b"
            ],
            [
             0.6666666666666666,
             "#ed7953"
            ],
            [
             0.7777777777777778,
             "#fb9f3a"
            ],
            [
             0.8888888888888888,
             "#fdca26"
            ],
            [
             1,
             "#f0f921"
            ]
           ]
          },
          "colorway": [
           "#636efa",
           "#EF553B",
           "#00cc96",
           "#ab63fa",
           "#FFA15A",
           "#19d3f3",
           "#FF6692",
           "#B6E880",
           "#FF97FF",
           "#FECB52"
          ],
          "font": {
           "color": "#2a3f5f"
          },
          "geo": {
           "bgcolor": "white",
           "lakecolor": "white",
           "landcolor": "#E5ECF6",
           "showlakes": true,
           "showland": true,
           "subunitcolor": "white"
          },
          "hoverlabel": {
           "align": "left"
          },
          "hovermode": "closest",
          "mapbox": {
           "style": "light"
          },
          "paper_bgcolor": "white",
          "plot_bgcolor": "#E5ECF6",
          "polar": {
           "angularaxis": {
            "gridcolor": "white",
            "linecolor": "white",
            "ticks": ""
           },
           "bgcolor": "#E5ECF6",
           "radialaxis": {
            "gridcolor": "white",
            "linecolor": "white",
            "ticks": ""
           }
          },
          "scene": {
           "xaxis": {
            "backgroundcolor": "#E5ECF6",
            "gridcolor": "white",
            "gridwidth": 2,
            "linecolor": "white",
            "showbackground": true,
            "ticks": "",
            "zerolinecolor": "white"
           },
           "yaxis": {
            "backgroundcolor": "#E5ECF6",
            "gridcolor": "white",
            "gridwidth": 2,
            "linecolor": "white",
            "showbackground": true,
            "ticks": "",
            "zerolinecolor": "white"
           },
           "zaxis": {
            "backgroundcolor": "#E5ECF6",
            "gridcolor": "white",
            "gridwidth": 2,
            "linecolor": "white",
            "showbackground": true,
            "ticks": "",
            "zerolinecolor": "white"
           }
          },
          "shapedefaults": {
           "line": {
            "color": "#2a3f5f"
           }
          },
          "ternary": {
           "aaxis": {
            "gridcolor": "white",
            "linecolor": "white",
            "ticks": ""
           },
           "baxis": {
            "gridcolor": "white",
            "linecolor": "white",
            "ticks": ""
           },
           "bgcolor": "#E5ECF6",
           "caxis": {
            "gridcolor": "white",
            "linecolor": "white",
            "ticks": ""
           }
          },
          "title": {
           "x": 0.05
          },
          "xaxis": {
           "automargin": true,
           "gridcolor": "white",
           "linecolor": "white",
           "ticks": "",
           "title": {
            "standoff": 15
           },
           "zerolinecolor": "white",
           "zerolinewidth": 2
          },
          "yaxis": {
           "automargin": true,
           "gridcolor": "white",
           "linecolor": "white",
           "ticks": "",
           "title": {
            "standoff": 15
           },
           "zerolinecolor": "white",
           "zerolinewidth": 2
          }
         }
        },
        "title": {
         "text": "Predicted Vs Actual Retail Price"
        },
        "xaxis": {
         "title": {
          "text": "Actual Retail Price"
         }
        },
        "yaxis": {
         "title": {
          "text": "Predicted Retail Price"
         }
        }
       }
      }
     },
     "metadata": {},
     "output_type": "display_data"
    }
   ],
   "source": [
    "# Let's make predictions and have a look at the predicted retail price and and actual retail price\n",
    "y_pred = model.predict(X_test)\n",
    "\n",
    "fig = go.Figure()\n",
    "fig.add_trace(go.Scatter(x=y_test, y=y_pred, mode=\"markers\",\n",
    "                         marker=dict(color=\"blue\"),\n",
    "                         name=\"Actual Vs. Predicted Retail Price\"))\n",
    "fig.add_trace(go.Scatter(x=[min(y_test), max(y_test)], y=[min(y_test), max(y_test)],\n",
    "                         mode=\"lines\",\n",
    "                         marker=dict(color=\"red\"),\n",
    "                         name=\"Ideal Prediction\"))\n",
    "\n",
    "fig.update_layout(\n",
    "    title = \"Predicted Vs Actual Retail Price\",\n",
    "    xaxis_title = \"Actual Retail Price\",\n",
    "    yaxis_title = \"Predicted Retail Price\"\n",
    ")\n",
    "\n",
    "fig.show()"
   ]
  },
  {
   "cell_type": "code",
   "execution_count": null,
   "metadata": {},
   "outputs": [],
   "source": []
  }
 ],
 "metadata": {
  "kernelspec": {
   "display_name": "base",
   "language": "python",
   "name": "python3"
  },
  "language_info": {
   "codemirror_mode": {
    "name": "ipython",
    "version": 3
   },
   "file_extension": ".py",
   "mimetype": "text/x-python",
   "name": "python",
   "nbconvert_exporter": "python",
   "pygments_lexer": "ipython3",
   "version": "3.12.4"
  }
 },
 "nbformat": 4,
 "nbformat_minor": 2
}
