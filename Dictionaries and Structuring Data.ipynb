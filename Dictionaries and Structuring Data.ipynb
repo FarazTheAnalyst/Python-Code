{
 "cells": [
  {
   "cell_type": "code",
   "execution_count": 6,
   "id": "8c32cc04",
   "metadata": {},
   "outputs": [],
   "source": [
    "# The Dictionaries Data Type\n",
    "# This dictionary keys are 'size' 'color' 'dispositioin'\n",
    "# The values for these keys are 'fat', 'gray', and 'loud'\n",
    "\n",
    "myDog = {'size': 'fat', 'color': 'gray', 'disposition': 'loud'}"
   ]
  },
  {
   "cell_type": "code",
   "execution_count": 8,
   "id": "2373ed92",
   "metadata": {},
   "outputs": [
    {
     "data": {
      "text/plain": [
       "'fat'"
      ]
     },
     "execution_count": 8,
     "metadata": {},
     "output_type": "execute_result"
    }
   ],
   "source": [
    "# You can access these values thorugh their keys\n",
    "myDog['size']"
   ]
  },
  {
   "cell_type": "code",
   "execution_count": 10,
   "id": "d36e51a1",
   "metadata": {},
   "outputs": [
    {
     "data": {
      "text/plain": [
       "'loud'"
      ]
     },
     "execution_count": 10,
     "metadata": {},
     "output_type": "execute_result"
    }
   ],
   "source": [
    "myDog['disposition']"
   ]
  },
  {
   "cell_type": "code",
   "execution_count": 12,
   "id": "f1e8554a",
   "metadata": {},
   "outputs": [
    {
     "data": {
      "text/plain": [
       "'My dog has gray fur.'"
      ]
     },
     "execution_count": 12,
     "metadata": {},
     "output_type": "execute_result"
    }
   ],
   "source": [
    "'My dog has ' + myDog['color'] + ' fur.'"
   ]
  },
  {
   "cell_type": "code",
   "execution_count": 13,
   "id": "ae0c4cdd",
   "metadata": {},
   "outputs": [],
   "source": [
    "# Dictionary can still use integer values as keys just like lists use integers for indexes.\n",
    "# But they don't have to start at 0 and can be any number.\n",
    "\n",
    "bam = {1234: \"Luggage Combination\", 45: 'The Answer'}"
   ]
  },
  {
   "cell_type": "code",
   "execution_count": 14,
   "id": "63dcb821",
   "metadata": {},
   "outputs": [
    {
     "data": {
      "text/plain": [
       "{1234: 'Luggage Combination', 45: 'The Answer'}"
      ]
     },
     "execution_count": 14,
     "metadata": {},
     "output_type": "execute_result"
    }
   ],
   "source": [
    "bam"
   ]
  },
  {
   "cell_type": "code",
   "execution_count": 15,
   "id": "90b3995f",
   "metadata": {},
   "outputs": [],
   "source": [
    "#  Dictionaries vs. Lists\n",
    "# Items in a dictionary are unordered.\n",
    "# List\n",
    "spam = ['cats', 'dogs', 'lion']\n",
    "bacon = ['lion', 'dogs', 'cats']"
   ]
  },
  {
   "cell_type": "code",
   "execution_count": 18,
   "id": "4946c87e",
   "metadata": {},
   "outputs": [
    {
     "data": {
      "text/plain": [
       "False"
      ]
     },
     "execution_count": 18,
     "metadata": {},
     "output_type": "execute_result"
    }
   ],
   "source": [
    "spam == bacon   # they are not equal because of order."
   ]
  },
  {
   "cell_type": "code",
   "execution_count": 19,
   "id": "d9ce0de8",
   "metadata": {},
   "outputs": [],
   "source": [
    "# Dictionary\n",
    "eggs = {'name': 'Zophie', 'species': 'cat', 'age': '8'}\n",
    "ham = {'species': 'cat', 'age': '8', 'name': 'Zophie'}"
   ]
  },
  {
   "cell_type": "code",
   "execution_count": 22,
   "id": "0003c1a4",
   "metadata": {},
   "outputs": [
    {
     "data": {
      "text/plain": [
       "True"
      ]
     },
     "execution_count": 22,
     "metadata": {},
     "output_type": "execute_result"
    }
   ],
   "source": [
    "eggs == ham  # they are equal because dictionary are not ordered."
   ]
  },
  {
   "cell_type": "code",
   "execution_count": 23,
   "id": "e14284e9",
   "metadata": {},
   "outputs": [],
   "source": [
    "spam = {'name': 'Zophie', 'age': 7}"
   ]
  },
  {
   "cell_type": "code",
   "execution_count": 25,
   "id": "0dfe084a",
   "metadata": {},
   "outputs": [
    {
     "ename": "NameError",
     "evalue": "name 'color' is not defined",
     "output_type": "error",
     "traceback": [
      "\u001b[1;31m---------------------------------------------------------------------------\u001b[0m",
      "\u001b[1;31mNameError\u001b[0m                                 Traceback (most recent call last)",
      "Input \u001b[1;32mIn [25]\u001b[0m, in \u001b[0;36m<cell line: 1>\u001b[1;34m()\u001b[0m\n\u001b[1;32m----> 1\u001b[0m spam[\u001b[43mcolor\u001b[49m]\n",
      "\u001b[1;31mNameError\u001b[0m: name 'color' is not defined"
     ]
    }
   ],
   "source": [
    "spam[color]   #KeyError"
   ]
  },
  {
   "cell_type": "code",
   "execution_count": 33,
   "id": "fe2ffe47",
   "metadata": {},
   "outputs": [
    {
     "name": "stdout",
     "output_type": "stream",
     "text": [
      "Enter a name: (blank to quit)\n",
      "Minha\n",
      "I do not have birthday information for Minha\n",
      "what is their birthday?\n",
      "Azlan\n",
      "Enter a name: (blank to quit)\n",
      "\n",
      "Birthday database updated.\n"
     ]
    }
   ],
   "source": [
    "# Program\n",
    "birthdays = {'Arham': 'Feb 2', 'Azlan': 'March 18', 'Urwa': 'November 9'}\n",
    "\n",
    "while True:\n",
    "    print('Enter a name: (blank to quit)')\n",
    "    name = input()\n",
    "    if name == '':\n",
    "        break\n",
    "        \n",
    "    if name in birthdays:\n",
    "        print(birthdays[name] + ' is the birthday of ' + name)\n",
    "    else:\n",
    "        print('I do not have birthday information for ' + name)\n",
    "        print('what is their birthday?')\n",
    "        bday = input()\n",
    "        birthdays[name] = bday\n",
    "        print('Birthday database updated.')"
   ]
  },
  {
   "cell_type": "code",
   "execution_count": 34,
   "id": "25a184ae",
   "metadata": {},
   "outputs": [
    {
     "ename": "NameError",
     "evalue": "name 'versioin' is not defined",
     "output_type": "error",
     "traceback": [
      "\u001b[1;31m---------------------------------------------------------------------------\u001b[0m",
      "\u001b[1;31mNameError\u001b[0m                                 Traceback (most recent call last)",
      "Input \u001b[1;32mIn [34]\u001b[0m, in \u001b[0;36m<cell line: 1>\u001b[1;34m()\u001b[0m\n\u001b[1;32m----> 1\u001b[0m \u001b[43mversioin\u001b[49m\n",
      "\u001b[1;31mNameError\u001b[0m: name 'versioin' is not defined"
     ]
    }
   ],
   "source": []
  },
  {
   "cell_type": "code",
   "execution_count": 35,
   "id": "0cb675f6",
   "metadata": {},
   "outputs": [],
   "source": [
    "# Dictionary in Python 3.7 and later will remember the insertion order of their key-value pairs\n",
    "# The dictionaries are still unordered as you can't access items in them using integer indexes like eggs[0], or ham[2]\n",
    "\n",
    "eggs = {'name': 'Zophie', 'species': 'cat', 'age': '8'}"
   ]
  },
  {
   "cell_type": "code",
   "execution_count": 36,
   "id": "47691100",
   "metadata": {},
   "outputs": [
    {
     "data": {
      "text/plain": [
       "['name', 'species', 'age']"
      ]
     },
     "execution_count": 36,
     "metadata": {},
     "output_type": "execute_result"
    }
   ],
   "source": [
    "list(eggs)"
   ]
  },
  {
   "cell_type": "code",
   "execution_count": 38,
   "id": "818fb7d2",
   "metadata": {},
   "outputs": [],
   "source": [
    "ham = {'species': 'cat', 'age': '8', 'name': 'Zophie'}"
   ]
  },
  {
   "cell_type": "code",
   "execution_count": 39,
   "id": "2d6b3a7f",
   "metadata": {},
   "outputs": [
    {
     "data": {
      "text/plain": [
       "['species', 'age', 'name']"
      ]
     },
     "execution_count": 39,
     "metadata": {},
     "output_type": "execute_result"
    }
   ],
   "source": [
    "list(ham)"
   ]
  },
  {
   "cell_type": "code",
   "execution_count": 52,
   "id": "a049f97f",
   "metadata": {},
   "outputs": [
    {
     "name": "stdout",
     "output_type": "stream",
     "text": [
      "red\n",
      "42\n"
     ]
    }
   ],
   "source": [
    "# The keys(), values(), and items() Methods.\n",
    "spam = {'color': 'red', 'age': 42}\n",
    "for v in spam.values(): # using value() Method.\n",
    "    print(v)"
   ]
  },
  {
   "cell_type": "code",
   "execution_count": 53,
   "id": "ebaa7ed3",
   "metadata": {},
   "outputs": [
    {
     "name": "stdout",
     "output_type": "stream",
     "text": [
      "color\n",
      "age\n"
     ]
    }
   ],
   "source": [
    "# using key() Method\n",
    "for k in spam.keys():\n",
    "    print(k)"
   ]
  },
  {
   "cell_type": "code",
   "execution_count": 55,
   "id": "001133d3",
   "metadata": {},
   "outputs": [
    {
     "name": "stdout",
     "output_type": "stream",
     "text": [
      "('color', 'red')\n",
      "('age', 42)\n"
     ]
    }
   ],
   "source": [
    "# using items() Method.\n",
    "for i in spam.items():\n",
    "    print(i)   # returns a tuple of the key and value"
   ]
  },
  {
   "cell_type": "code",
   "execution_count": 57,
   "id": "8f907770",
   "metadata": {},
   "outputs": [],
   "source": [
    "# if you want a true l ist from on e of these methods, pass its list-like return value to the list() function.\n",
    "spam = {'color': 'red', 'age': 42}"
   ]
  },
  {
   "cell_type": "code",
   "execution_count": 59,
   "id": "bf307469",
   "metadata": {},
   "outputs": [
    {
     "data": {
      "text/plain": [
       "dict_keys(['color', 'age'])"
      ]
     },
     "execution_count": 59,
     "metadata": {},
     "output_type": "execute_result"
    }
   ],
   "source": [
    "spam.keys()"
   ]
  },
  {
   "cell_type": "code",
   "execution_count": 60,
   "id": "1487cbb5",
   "metadata": {},
   "outputs": [
    {
     "data": {
      "text/plain": [
       "['color', 'age']"
      ]
     },
     "execution_count": 60,
     "metadata": {},
     "output_type": "execute_result"
    }
   ],
   "source": [
    "list(spam.keys())"
   ]
  },
  {
   "cell_type": "code",
   "execution_count": 68,
   "id": "06bd18b7",
   "metadata": {},
   "outputs": [
    {
     "name": "stdout",
     "output_type": "stream",
     "text": [
      "key: color, value: red\n",
      "key: age, value: 42\n"
     ]
    }
   ],
   "source": [
    "# You can also use the multiple assignment trick in a for  loop to assign the key and value to separate variables.\n",
    "spam = {'color': 'red', 'age': 42}\n",
    "for k, v in spam.items():\n",
    "    print('key: ' +str(k) + ', value: ' + str(v))"
   ]
  },
  {
   "cell_type": "code",
   "execution_count": 69,
   "id": "361f68eb",
   "metadata": {},
   "outputs": [],
   "source": [
    "# Checking whether a Key or Value Exists in a Dictionary.\n",
    "spam = {'name': 'Zophie', 'age': 7}"
   ]
  },
  {
   "cell_type": "code",
   "execution_count": 70,
   "id": "80e1d0a9",
   "metadata": {},
   "outputs": [
    {
     "data": {
      "text/plain": [
       "True"
      ]
     },
     "execution_count": 70,
     "metadata": {},
     "output_type": "execute_result"
    }
   ],
   "source": [
    "'name' in spam.keys()"
   ]
  },
  {
   "cell_type": "code",
   "execution_count": 71,
   "id": "9df2162c",
   "metadata": {},
   "outputs": [
    {
     "data": {
      "text/plain": [
       "True"
      ]
     },
     "execution_count": 71,
     "metadata": {},
     "output_type": "execute_result"
    }
   ],
   "source": [
    "'Zophie' in spam.values()"
   ]
  },
  {
   "cell_type": "code",
   "execution_count": 72,
   "id": "48b32d02",
   "metadata": {},
   "outputs": [
    {
     "data": {
      "text/plain": [
       "False"
      ]
     },
     "execution_count": 72,
     "metadata": {},
     "output_type": "execute_result"
    }
   ],
   "source": [
    "'color' in spam.keys()"
   ]
  },
  {
   "cell_type": "code",
   "execution_count": 75,
   "id": "82fb8ec5",
   "metadata": {},
   "outputs": [
    {
     "data": {
      "text/plain": [
       "True"
      ]
     },
     "execution_count": 75,
     "metadata": {},
     "output_type": "execute_result"
    }
   ],
   "source": [
    "'color'  not in spam.keys()"
   ]
  },
  {
   "cell_type": "code",
   "execution_count": 76,
   "id": "b07695a7",
   "metadata": {},
   "outputs": [
    {
     "data": {
      "text/plain": [
       "False"
      ]
     },
     "execution_count": 76,
     "metadata": {},
     "output_type": "execute_result"
    }
   ],
   "source": [
    "'color' in spam"
   ]
  },
  {
   "cell_type": "code",
   "execution_count": 85,
   "id": "066a9322",
   "metadata": {},
   "outputs": [],
   "source": [
    "# The get() Method\n",
    "picnicItems = {'apples': 6, 'cups': 3}"
   ]
  },
  {
   "cell_type": "code",
   "execution_count": 86,
   "id": "e9daa324",
   "metadata": {},
   "outputs": [
    {
     "data": {
      "text/plain": [
       "'I am bringing 3 cups.'"
      ]
     },
     "execution_count": 86,
     "metadata": {},
     "output_type": "execute_result"
    }
   ],
   "source": [
    "'I am bringing ' + str(picnicItems.get('cups', 0)) + ' cups.'"
   ]
  },
  {
   "cell_type": "code",
   "execution_count": 88,
   "id": "13e121be",
   "metadata": {},
   "outputs": [
    {
     "data": {
      "text/plain": [
       "'I am bringing 0 eggs'"
      ]
     },
     "execution_count": 88,
     "metadata": {},
     "output_type": "execute_result"
    }
   ],
   "source": [
    "'I am bringing ' + str(picnicItems.get('eggs', 0)) + ' eggs'"
   ]
  },
  {
   "cell_type": "code",
   "execution_count": 89,
   "id": "8e57d280",
   "metadata": {},
   "outputs": [],
   "source": [
    "# if you won't use get() Method you will get keyError.\n",
    "picnicItems = {'apples': 6, 'cups': 4}"
   ]
  },
  {
   "cell_type": "code",
   "execution_count": 91,
   "id": "babb7a9c",
   "metadata": {},
   "outputs": [
    {
     "ename": "KeyError",
     "evalue": "'eggs'",
     "output_type": "error",
     "traceback": [
      "\u001b[1;31m---------------------------------------------------------------------------\u001b[0m",
      "\u001b[1;31mKeyError\u001b[0m                                  Traceback (most recent call last)",
      "Input \u001b[1;32mIn [91]\u001b[0m, in \u001b[0;36m<cell line: 1>\u001b[1;34m()\u001b[0m\n\u001b[1;32m----> 1\u001b[0m \u001b[38;5;124m'\u001b[39m\u001b[38;5;124mI am bringing \u001b[39m\u001b[38;5;124m'\u001b[39m \u001b[38;5;241m+\u001b[39m \u001b[38;5;28mstr\u001b[39m(\u001b[43mpicnicItems\u001b[49m\u001b[43m[\u001b[49m\u001b[38;5;124;43m'\u001b[39;49m\u001b[38;5;124;43meggs\u001b[39;49m\u001b[38;5;124;43m'\u001b[39;49m\u001b[43m]\u001b[49m) \u001b[38;5;241m+\u001b[39m \u001b[38;5;124m'\u001b[39m\u001b[38;5;124m eggs\u001b[39m\u001b[38;5;124m'\u001b[39m\n",
      "\u001b[1;31mKeyError\u001b[0m: 'eggs'"
     ]
    }
   ],
   "source": [
    "'I am bringing ' + str(picnicItems['eggs']) + ' eggs'  # KeyError"
   ]
  },
  {
   "cell_type": "code",
   "execution_count": 96,
   "id": "c6783d06",
   "metadata": {},
   "outputs": [],
   "source": [
    "# The setdefault() Method\n",
    "spam = {'name': 'Phooka', 'age': 4}"
   ]
  },
  {
   "cell_type": "code",
   "execution_count": 98,
   "id": "7c0d6f05",
   "metadata": {},
   "outputs": [],
   "source": [
    "if 'color' not in spam:\n",
    "    spam['color'] = 'black'"
   ]
  },
  {
   "cell_type": "code",
   "execution_count": 99,
   "id": "922a4b99",
   "metadata": {},
   "outputs": [
    {
     "data": {
      "text/plain": [
       "{'name': 'Phooka', 'age': 4, 'color': 'black'}"
      ]
     },
     "execution_count": 99,
     "metadata": {},
     "output_type": "execute_result"
    }
   ],
   "source": [
    "spam"
   ]
  },
  {
   "cell_type": "code",
   "execution_count": 101,
   "id": "a5741774",
   "metadata": {},
   "outputs": [],
   "source": [
    "# The sedefault Method use to  do this in one line o code\n",
    "spam = {'name': 'Pooka', 'age': 5}"
   ]
  },
  {
   "cell_type": "code",
   "execution_count": 103,
   "id": "529cfc6b",
   "metadata": {},
   "outputs": [
    {
     "data": {
      "text/plain": [
       "'black'"
      ]
     },
     "execution_count": 103,
     "metadata": {},
     "output_type": "execute_result"
    }
   ],
   "source": [
    "spam.setdefault('color', 'black') #The first argument passed to the method is the key to check for, and the second argument is the value to set at that key if the does not exist."
   ]
  },
  {
   "cell_type": "code",
   "execution_count": 104,
   "id": "d9f28846",
   "metadata": {},
   "outputs": [
    {
     "data": {
      "text/plain": [
       "{'name': 'Pooka', 'age': 5, 'color': 'black'}"
      ]
     },
     "execution_count": 104,
     "metadata": {},
     "output_type": "execute_result"
    }
   ],
   "source": [
    "spam"
   ]
  },
  {
   "cell_type": "code",
   "execution_count": 109,
   "id": "cb31ebd3",
   "metadata": {},
   "outputs": [
    {
     "data": {
      "text/plain": [
       "'black'"
      ]
     },
     "execution_count": 109,
     "metadata": {},
     "output_type": "execute_result"
    }
   ],
   "source": [
    "spam.setdefault('color', 'white')  # this will call next, the value f or that ke is not changed 'white'. key already exist 'color'\n"
   ]
  },
  {
   "cell_type": "code",
   "execution_count": 108,
   "id": "9c95c525",
   "metadata": {},
   "outputs": [
    {
     "data": {
      "text/plain": [
       "{'name': 'Pooka', 'age': 5, 'color': 'black'}"
      ]
     },
     "execution_count": 108,
     "metadata": {},
     "output_type": "execute_result"
    }
   ],
   "source": [
    "spam"
   ]
  },
  {
   "cell_type": "code",
   "execution_count": 7,
   "id": "855f10ef",
   "metadata": {},
   "outputs": [
    {
     "name": "stdout",
     "output_type": "stream",
     "text": [
      "{'I': 1, 't': 6, ' ': 13, 'w': 2, 'a': 4, 's': 3, 'b': 1, 'r': 5, 'i': 6, 'g': 2, 'h': 3, 'c': 3, 'o': 2, 'l': 3, 'd': 3, 'y': 1, 'n': 4, 'A': 1, 'p': 1, ',': 1, 'e': 5, 'k': 2, '.': 1}\n"
     ]
    }
   ],
   "source": [
    "# Program\n",
    "message = 'It was a bright cold day in April, and the clocks were striking thirteen.'\n",
    "count = {}\n",
    "\n",
    "for character in message:\n",
    "    count.setdefault(character, 0)\n",
    "    count[character] = count[character] + 1\n",
    "print(count) "
   ]
  },
  {
   "cell_type": "code",
   "execution_count": 13,
   "id": "49142278",
   "metadata": {},
   "outputs": [
    {
     "name": "stdout",
     "output_type": "stream",
     "text": [
      "{' ': 13,\n",
      " ',': 1,\n",
      " '.': 1,\n",
      " 'A': 1,\n",
      " 'I': 1,\n",
      " 'a': 4,\n",
      " 'b': 1,\n",
      " 'c': 3,\n",
      " 'd': 3,\n",
      " 'e': 5,\n",
      " 'g': 2,\n",
      " 'h': 3,\n",
      " 'i': 6,\n",
      " 'k': 2,\n",
      " 'l': 3,\n",
      " 'n': 4,\n",
      " 'o': 2,\n",
      " 'p': 1,\n",
      " 'r': 5,\n",
      " 's': 3,\n",
      " 't': 6,\n",
      " 'w': 2,\n",
      " 'y': 1}\n"
     ]
    }
   ],
   "source": [
    "# Pretty Printing\n",
    "import pprint\n",
    "message = 'It was a bright cold day in April, and the clocks were striking thirteen.'\n",
    "count = {}\n",
    "\n",
    "for character in message:\n",
    "    count.setdefault(character, 0)\n",
    "    count[character] = count[character] + 1\n",
    "    \n",
    "pprint.pprint(count)"
   ]
  },
  {
   "cell_type": "code",
   "execution_count": 6,
   "id": "7015d6bb",
   "metadata": {},
   "outputs": [
    {
     "name": "stdout",
     "output_type": "stream",
     "text": [
      " | | \n",
      "-+-+-\n",
      " | | \n",
      "-+-+-\n",
      " | | \n"
     ]
    }
   ],
   "source": [
    "theBoard = {'top-L': ' ', 'top-M': ' ', 'top-R': ' ',\n",
    "            'mid-L': ' ', 'mid-M': ' ', 'mid-R': ' ',\n",
    "            'low-L': ' ', 'low-M': ' ', 'low-R': ' '}\n",
    "def printBoard(board):\n",
    "    print(board['top-L'] + '|' + board['top-M'] + '|' + board['top-R'])\n",
    "    print('-+-+-')\n",
    "    print(board['mid-L'] + '|' + board['mid-M'] + '|' + board['mid-R'])\n",
    "    print('-+-+-')\n",
    "    print(board['low-L'] + '|' + board['low-M'] + '|' + board['low-R'])\n",
    "printBoard(theBoard)"
   ]
  },
  {
   "cell_type": "code",
   "execution_count": 9,
   "id": "ef88f88d",
   "metadata": {},
   "outputs": [
    {
     "name": "stdout",
     "output_type": "stream",
     "text": [
      "O|O|O\n",
      "-+-+-\n",
      "X|X| \n",
      "-+-+-\n",
      " | |X\n"
     ]
    }
   ],
   "source": [
    "theBoard = {'top-L': 'O', 'top-M': 'O', 'top-R': 'O', 'mid-L': 'X', 'mid-M': 'X', 'mid-R': ' ', 'low-L': ' ', 'low-M': ' ', 'low-R': 'X'}\n",
    "\n",
    "def printBoard(board):\n",
    "    print(board['top-L'] + '|' + board['top-M'] + '|' + board['top-R'])\n",
    "    print('-+-+-')\n",
    "    print(board['mid-L'] + '|' + board['mid-M'] + '|' + board['mid-R'])\n",
    "    print('-+-+-')\n",
    "    print(board['low-L'] + '|' + board['low-M'] + '|' + board['low-R'])\n",
    "printBoard(theBoard)"
   ]
  },
  {
   "cell_type": "code",
   "execution_count": null,
   "id": "f047170d",
   "metadata": {},
   "outputs": [
    {
     "name": "stdout",
     "output_type": "stream",
     "text": [
      " | | \n",
      "-+-+-\n",
      " | | \n",
      "-+-+-\n",
      " | | \n",
      "Turn for X. Move on which space?\n",
      "X\n",
      " | | \n",
      "-+-+-\n",
      " | | \n",
      "-+-+-\n",
      " | | \n",
      "Turn for O. Move on which space?\n",
      "O\n",
      " | | \n",
      "-+-+-\n",
      " | | \n",
      "-+-+-\n",
      " | | \n",
      "Turn for X. Move on which space?\n",
      "X\n",
      " | | \n",
      "-+-+-\n",
      " | | \n",
      "-+-+-\n",
      " | | \n",
      "Turn for O. Move on which space?\n",
      "O\n",
      " | | \n",
      "-+-+-\n",
      " | | \n",
      "-+-+-\n",
      " | | \n",
      "Turn for X. Move on which space?\n",
      "X\n",
      " | | \n",
      "-+-+-\n",
      " | | \n",
      "-+-+-\n",
      " | | \n",
      "Turn for O. Move on which space?\n",
      "\n",
      " | | \n",
      "-+-+-\n",
      " | | \n",
      "-+-+-\n",
      " | | \n",
      "Turn for X. Move on which space?\n"
     ]
    }
   ],
   "source": [
    "theBoard = {'top-L': ' ', 'top-M': ' ', 'top-R': ' ', 'mid-L': ' ', 'mid-M': ' ', 'mid-R': ' ', 'low-L': ' ', 'low-M': ' ', 'low-R': ' '}\n",
    "            \n",
    "def printBoard(board):\n",
    "    print(board['top-L'] + '|' + board['top-M'] + '|' + board['top-R'])\n",
    "    print('-+-+-')\n",
    "    print(board['mid-L'] + '|' + board['mid-M'] + '|' + board['mid-R'])\n",
    "    print('-+-+-')\n",
    "    print(board['low-L'] + '|' + board['low-M'] + '|' + board['low-R'])\n",
    "turn = 'X'\n",
    "for i in range(9):\n",
    "    printBoard(theBoard)\n",
    "    print('Turn for ' + turn + '. Move on which space?')\n",
    "    move = input()\n",
    "    theBoard[move] = turn\n",
    "    if turn == 'X':\n",
    "        turn = 'O'\n",
    "    else:\n",
    "        turn = 'X'\n",
    "printBoard(theBoard)"
   ]
  },
  {
   "cell_type": "code",
   "execution_count": 28,
   "id": "e5dff444",
   "metadata": {},
   "outputs": [
    {
     "name": "stdout",
     "output_type": "stream",
     "text": [
      "Number of things being brought:\n",
      " - Apples         7\n",
      " - Cups           3\n",
      " - Cakes          0\n",
      " - Ham Sandwiches 3\n",
      " - Apples Pies    1\n"
     ]
    }
   ],
   "source": [
    "# Nested dictionaries\n",
    "allGuests = {'Alice': {'apples': 5, 'pretzels': 12},\n",
    "            'Bob': {'ham sandwiches': 3, 'apples': 2},\n",
    "            'Carol': {'cups': 3, 'apples pies': 1}}\n",
    "\n",
    "def totalBrought(guests, item):\n",
    "    numBrought = 0\n",
    "    for k, v in guests.items():\n",
    "        numBrought = numBrought + v.get(item, 0)\n",
    "    return numBrought\n",
    "\n",
    "print('Number of things being brought:')\n",
    "print(' - Apples         ' + str(totalBrought(allGuests, 'apples')))\n",
    "print(' - Cups           ' + str(totalBrought(allGuests, 'cups')))\n",
    "print(' - Cakes          ' + str(totalBrought(allGuests, 'cakes')))\n",
    "print(' - Ham Sandwiches ' + str(totalBrought(allGuests, 'ham sandwiches')))\n",
    "print(' - Apples Pies    ' + str(totalBrought(allGuests, 'apples pies')))"
   ]
  },
  {
   "cell_type": "code",
   "execution_count": 12,
   "id": "bf1a791f",
   "metadata": {},
   "outputs": [
    {
     "name": "stdout",
     "output_type": "stream",
     "text": [
      "This board checks out\n"
     ]
    }
   ],
   "source": [
    "def isValidChessBoard(board):\n",
    "    piecesCount = {'b': 0, 'w': 0}\n",
    "    pawnCount = {'b': 0, 'w': 0}\n",
    "    hasKing = {'b': False, 'w': False}\n",
    "    letterAxis = ('a','b','c','d','e','f','g','h')\n",
    "    pieceColour = ('b','w')\n",
    "    pieceType = ('pawn','knight','bishop','rook','queen','king')\n",
    "\n",
    "    #each player has <= 16 pieces\n",
    "    for pos, i in board.items():\n",
    "        # check position value\n",
    "        #all pieces must be on valid space from '1a' to '8h'\n",
    "        if int(pos[0]) >= 9:\n",
    "            print('SpacesError')\n",
    "            return False\n",
    "\n",
    "        if pos[1] not in letterAxis:\n",
    "            print('yAxisError')\n",
    "            return False\n",
    "\n",
    "        # check piece data\n",
    "        if i != \"\":\n",
    "            #piece names begin with 'w' or 'b'\n",
    "            if i[0] not in pieceColour:\n",
    "                print('WhiteOrBlackError')\n",
    "                return False\n",
    "\n",
    "            thisPieceColour = i[0]\n",
    "            piecesCount[thisPieceColour] += 1\n",
    "\n",
    "            if piecesCount[thisPieceColour] >= 17:\n",
    "                print('TotalPieceError')\n",
    "                return False\n",
    "\n",
    "            #piece names must follow with 'pawn', 'knight', 'bishop', 'rook', 'queen', 'king'\n",
    "            thisPieceType = i[1:]\n",
    "\n",
    "            if thisPieceType not in pieceType:\n",
    "                print('PieceTypeError')\n",
    "                return False\n",
    "\n",
    "            elif thisPieceType == 'pawn':\n",
    "                pawnCount[thisPieceColour] += 1\n",
    "\n",
    "                #each player has <= 8 pawns\n",
    "                if pawnCount[thisPieceColour] >= 9:\n",
    "                    print('PawnError')\n",
    "                    return False\n",
    "\n",
    "            elif thisPieceType == 'king':\n",
    "                # one black king and one white king\n",
    "                if hasKing[thisPieceColour] == True:\n",
    "                    print(\"AlreadyHasKingError\")\n",
    "\n",
    "                hasKing[thisPieceColour] = True\n",
    "\n",
    "    if list(hasKing.values()) != [True, True]:\n",
    "        print(\"MissingKingError\")\n",
    "        return False\n",
    "\n",
    "    return 'This board checks out'\n",
    "\n",
    "board = {'1a': 'bking','2a': 'bqueen','3a': 'brook','4a': 'brook',\n",
    "'5a': 'bknight','6a': 'bknight','7a':'bbishop','8a': 'bbishop',\n",
    "'1b': 'bpawn','2b': 'bpawn','3b': 'bpawn','4b':'bpawn',\n",
    "'5b': 'bpawn','6b': 'bpawn','7b': 'bpawn','8b': 'bpawn',\n",
    "'1c': 'wking','2c': 'wqueen','3c': 'wrook','4c': 'wrook',\n",
    "'5c': 'wbishop','6c': 'wbishop','7c': 'wknight','8c':'wknight',\n",
    "'1e': 'wpawn','2e': 'wpawn','3e': 'wpawn','4e': 'wpawn',\n",
    "'5e': 'wpawn','6e': 'wpawn','7e': 'wpawn','8e': 'wpawn',\n",
    "'1f': '','2f': '','3f': '','4f': '','5f': '','6f': '','7f': '','8f': '',\n",
    "'1g': '','2g': '','3g': '','4g': '','5g': '','6g': '','7g': '','8g': '',\n",
    "'1h': '','2h': '','3h': '','4h': '','5h': '','6h': '','7h': '','8h': '',}\n",
    "\n",
    "print(isValidChessBoard(board))"
   ]
  },
  {
   "cell_type": "code",
   "execution_count": 13,
   "id": "8a517d4e",
   "metadata": {},
   "outputs": [
    {
     "name": "stdout",
     "output_type": "stream",
     "text": [
      "Inventory: \n",
      "1 rope\n",
      "7 torch\n",
      "45 gold coin\n",
      "1 dagger\n",
      "14 arrow\n",
      "1 compass\n",
      "1 ancient map\n",
      "Total items are: 70\n"
     ]
    }
   ],
   "source": [
    "def toDisplay(inventory):\n",
    "    print('Inventory: ')\n",
    "    total_items = 0\n",
    "    for i, j in inventory.items():\n",
    "        total_items = total_items + j\n",
    "        print(str(j)+ ' ' + i)\n",
    "    print('Total items are: ' + str(total_items))\n",
    "    \n",
    "\n",
    "def toAdd(main_inven, addedItems):\n",
    "    for i in addedItems:\n",
    "        main_inven.setdefault(i, 0)\n",
    "        main_inven[i] = main_inven[i] + 1\n",
    "    return main_inven\n",
    "\n",
    "stuff = {'rope': 1, 'torch': 6, 'gold coin': 42, 'dagger': 1, 'arrow': 12}\n",
    "unlocked = ['arrow', 'gold coin', 'gold coin', 'arrow', 'gold coin', 'torch', 'compass', 'ancient map']\n",
    "updated_inven = toAdd(stuff, unlocked)\n",
    "#print(updated_inven)\n",
    "toDisplay(updated_inven)"
   ]
  }
 ],
 "metadata": {
  "kernelspec": {
   "display_name": "Python 3 (ipykernel)",
   "language": "python",
   "name": "python3"
  },
  "language_info": {
   "codemirror_mode": {
    "name": "ipython",
    "version": 3
   },
   "file_extension": ".py",
   "mimetype": "text/x-python",
   "name": "python",
   "nbconvert_exporter": "python",
   "pygments_lexer": "ipython3",
   "version": "3.9.12"
  }
 },
 "nbformat": 4,
 "nbformat_minor": 5
}
