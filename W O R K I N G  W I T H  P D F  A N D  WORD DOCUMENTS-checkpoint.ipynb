{
 "cells": [
  {
   "cell_type": "code",
   "execution_count": 16,
   "id": "2ffc21af",
   "metadata": {},
   "outputs": [],
   "source": [
    "# Extracting Text from PDFs\n",
    "import PyPDF2\n",
    "pdfFileObj = open('meetingminutes.pdf', 'rb')"
   ]
  },
  {
   "cell_type": "code",
   "execution_count": 18,
   "id": "57e72cc3",
   "metadata": {},
   "outputs": [],
   "source": [
    "pdfReader = PyPDF2.PdfFileReader(pdfFileObj)"
   ]
  },
  {
   "cell_type": "code",
   "execution_count": 19,
   "id": "78e78d78",
   "metadata": {},
   "outputs": [
    {
     "data": {
      "text/plain": [
       "19"
      ]
     },
     "execution_count": 19,
     "metadata": {},
     "output_type": "execute_result"
    }
   ],
   "source": [
    "pdfReader.numPages"
   ]
  },
  {
   "cell_type": "code",
   "execution_count": 20,
   "id": "eda96956",
   "metadata": {},
   "outputs": [],
   "source": [
    "pageObj = pdfReader.getPage(0)"
   ]
  },
  {
   "cell_type": "code",
   "execution_count": 22,
   "id": "749889e1",
   "metadata": {},
   "outputs": [
    {
     "data": {
      "text/plain": [
       "'OOFFFFIICCIIAALL  BBOOAARRDD  MMIINNUUTTEESS   Meeting of \\nMarch 7\\n, 2014\\n        \\n     The Board of Elementary and Secondary Education shall provide leadership and \\ncreate policies for education that expand opportunities for children, empower \\nfamilies and communities, and advance Louisiana in an increasingly \\ncompetitive glob\\nal market.\\n BOARD \\n of ELEMENTARY\\n and \\n SECONDARY\\n EDUCATION\\n  '"
      ]
     },
     "execution_count": 22,
     "metadata": {},
     "output_type": "execute_result"
    }
   ],
   "source": [
    "pageObj.extractText()"
   ]
  },
  {
   "cell_type": "code",
   "execution_count": null,
   "id": "1fac435f",
   "metadata": {},
   "outputs": [],
   "source": [
    "pdfFileObj.close()"
   ]
  },
  {
   "cell_type": "code",
   "execution_count": 23,
   "id": "f91e84d0",
   "metadata": {},
   "outputs": [],
   "source": [
    "# Decrypting PDFs\n",
    "import PyPDF2\n",
    "pdfReader = PyPDF2.PdfFileReader(open('encrypted.pdf', 'rb'))"
   ]
  },
  {
   "cell_type": "code",
   "execution_count": 24,
   "id": "9d3d473a",
   "metadata": {},
   "outputs": [
    {
     "data": {
      "text/plain": [
       "True"
      ]
     },
     "execution_count": 24,
     "metadata": {},
     "output_type": "execute_result"
    }
   ],
   "source": [
    "pdfReader.isEncrypted"
   ]
  },
  {
   "cell_type": "code",
   "execution_count": 26,
   "id": "66a28a08",
   "metadata": {},
   "outputs": [
    {
     "ename": "PdfReadError",
     "evalue": "file has not been decrypted",
     "output_type": "error",
     "traceback": [
      "\u001b[1;31m---------------------------------------------------------------------------\u001b[0m",
      "\u001b[1;31mPdfReadError\u001b[0m                              Traceback (most recent call last)",
      "Input \u001b[1;32mIn [26]\u001b[0m, in \u001b[0;36m<cell line: 1>\u001b[1;34m()\u001b[0m\n\u001b[1;32m----> 1\u001b[0m \u001b[43mpdfReader\u001b[49m\u001b[38;5;241;43m.\u001b[39;49m\u001b[43mgetPage\u001b[49m\u001b[43m(\u001b[49m\u001b[38;5;241;43m0\u001b[39;49m\u001b[43m)\u001b[49m\n",
      "File \u001b[1;32m~\\anaconda3\\lib\\site-packages\\PyPDF2\\pdf.py:1176\u001b[0m, in \u001b[0;36mPdfFileReader.getPage\u001b[1;34m(self, pageNumber)\u001b[0m\n\u001b[0;32m   1173\u001b[0m \u001b[38;5;66;03m## ensure that we're not trying to access an encrypted PDF\u001b[39;00m\n\u001b[0;32m   1174\u001b[0m \u001b[38;5;66;03m#assert not self.trailer.has_key(\"/Encrypt\")\u001b[39;00m\n\u001b[0;32m   1175\u001b[0m \u001b[38;5;28;01mif\u001b[39;00m \u001b[38;5;28mself\u001b[39m\u001b[38;5;241m.\u001b[39mflattenedPages \u001b[38;5;241m==\u001b[39m \u001b[38;5;28;01mNone\u001b[39;00m:\n\u001b[1;32m-> 1176\u001b[0m     \u001b[38;5;28;43mself\u001b[39;49m\u001b[38;5;241;43m.\u001b[39;49m\u001b[43m_flatten\u001b[49m\u001b[43m(\u001b[49m\u001b[43m)\u001b[49m\n\u001b[0;32m   1177\u001b[0m \u001b[38;5;28;01mreturn\u001b[39;00m \u001b[38;5;28mself\u001b[39m\u001b[38;5;241m.\u001b[39mflattenedPages[pageNumber]\n",
      "File \u001b[1;32m~\\anaconda3\\lib\\site-packages\\PyPDF2\\pdf.py:1505\u001b[0m, in \u001b[0;36mPdfFileReader._flatten\u001b[1;34m(self, pages, inherit, indirectRef)\u001b[0m\n\u001b[0;32m   1503\u001b[0m \u001b[38;5;28;01mif\u001b[39;00m pages \u001b[38;5;241m==\u001b[39m \u001b[38;5;28;01mNone\u001b[39;00m:\n\u001b[0;32m   1504\u001b[0m     \u001b[38;5;28mself\u001b[39m\u001b[38;5;241m.\u001b[39mflattenedPages \u001b[38;5;241m=\u001b[39m []\n\u001b[1;32m-> 1505\u001b[0m     catalog \u001b[38;5;241m=\u001b[39m \u001b[38;5;28;43mself\u001b[39;49m\u001b[38;5;241;43m.\u001b[39;49m\u001b[43mtrailer\u001b[49m\u001b[43m[\u001b[49m\u001b[38;5;124;43m\"\u001b[39;49m\u001b[38;5;124;43m/Root\u001b[39;49m\u001b[38;5;124;43m\"\u001b[39;49m\u001b[43m]\u001b[49m\u001b[38;5;241m.\u001b[39mgetObject()\n\u001b[0;32m   1506\u001b[0m     pages \u001b[38;5;241m=\u001b[39m catalog[\u001b[38;5;124m\"\u001b[39m\u001b[38;5;124m/Pages\u001b[39m\u001b[38;5;124m\"\u001b[39m]\u001b[38;5;241m.\u001b[39mgetObject()\n\u001b[0;32m   1508\u001b[0m t \u001b[38;5;241m=\u001b[39m \u001b[38;5;124m\"\u001b[39m\u001b[38;5;124m/Pages\u001b[39m\u001b[38;5;124m\"\u001b[39m\n",
      "File \u001b[1;32m~\\anaconda3\\lib\\site-packages\\PyPDF2\\generic.py:516\u001b[0m, in \u001b[0;36mDictionaryObject.__getitem__\u001b[1;34m(self, key)\u001b[0m\n\u001b[0;32m    515\u001b[0m \u001b[38;5;28;01mdef\u001b[39;00m \u001b[38;5;21m__getitem__\u001b[39m(\u001b[38;5;28mself\u001b[39m, key):\n\u001b[1;32m--> 516\u001b[0m     \u001b[38;5;28;01mreturn\u001b[39;00m \u001b[38;5;28;43mdict\u001b[39;49m\u001b[38;5;241;43m.\u001b[39;49m\u001b[38;5;21;43m__getitem__\u001b[39;49m\u001b[43m(\u001b[49m\u001b[38;5;28;43mself\u001b[39;49m\u001b[43m,\u001b[49m\u001b[43m \u001b[49m\u001b[43mkey\u001b[49m\u001b[43m)\u001b[49m\u001b[38;5;241;43m.\u001b[39;49m\u001b[43mgetObject\u001b[49m\u001b[43m(\u001b[49m\u001b[43m)\u001b[49m\n",
      "File \u001b[1;32m~\\anaconda3\\lib\\site-packages\\PyPDF2\\generic.py:178\u001b[0m, in \u001b[0;36mIndirectObject.getObject\u001b[1;34m(self)\u001b[0m\n\u001b[0;32m    177\u001b[0m \u001b[38;5;28;01mdef\u001b[39;00m \u001b[38;5;21mgetObject\u001b[39m(\u001b[38;5;28mself\u001b[39m):\n\u001b[1;32m--> 178\u001b[0m     \u001b[38;5;28;01mreturn\u001b[39;00m \u001b[38;5;28;43mself\u001b[39;49m\u001b[38;5;241;43m.\u001b[39;49m\u001b[43mpdf\u001b[49m\u001b[38;5;241;43m.\u001b[39;49m\u001b[43mgetObject\u001b[49m\u001b[43m(\u001b[49m\u001b[38;5;28;43mself\u001b[39;49m\u001b[43m)\u001b[49m\u001b[38;5;241m.\u001b[39mgetObject()\n",
      "File \u001b[1;32m~\\anaconda3\\lib\\site-packages\\PyPDF2\\pdf.py:1617\u001b[0m, in \u001b[0;36mPdfFileReader.getObject\u001b[1;34m(self, indirectReference)\u001b[0m\n\u001b[0;32m   1614\u001b[0m \u001b[38;5;28;01mif\u001b[39;00m \u001b[38;5;129;01mnot\u001b[39;00m \u001b[38;5;28mself\u001b[39m\u001b[38;5;241m.\u001b[39m_override_encryption \u001b[38;5;129;01mand\u001b[39;00m \u001b[38;5;28mself\u001b[39m\u001b[38;5;241m.\u001b[39misEncrypted:\n\u001b[0;32m   1615\u001b[0m     \u001b[38;5;66;03m# if we don't have the encryption key:\u001b[39;00m\n\u001b[0;32m   1616\u001b[0m     \u001b[38;5;28;01mif\u001b[39;00m \u001b[38;5;129;01mnot\u001b[39;00m \u001b[38;5;28mhasattr\u001b[39m(\u001b[38;5;28mself\u001b[39m, \u001b[38;5;124m'\u001b[39m\u001b[38;5;124m_decryption_key\u001b[39m\u001b[38;5;124m'\u001b[39m):\n\u001b[1;32m-> 1617\u001b[0m         \u001b[38;5;28;01mraise\u001b[39;00m utils\u001b[38;5;241m.\u001b[39mPdfReadError(\u001b[38;5;124m\"\u001b[39m\u001b[38;5;124mfile has not been decrypted\u001b[39m\u001b[38;5;124m\"\u001b[39m)\n\u001b[0;32m   1618\u001b[0m     \u001b[38;5;66;03m# otherwise, decrypt here...\u001b[39;00m\n\u001b[0;32m   1619\u001b[0m     \u001b[38;5;28;01mimport\u001b[39;00m \u001b[38;5;21;01mstruct\u001b[39;00m\n",
      "\u001b[1;31mPdfReadError\u001b[0m: file has not been decrypted"
     ]
    }
   ],
   "source": [
    "pdfReader.getPage(0)  # Gives Error because file is encrypted we need to decrypt first with password."
   ]
  },
  {
   "cell_type": "code",
   "execution_count": 29,
   "id": "d0e16bfd",
   "metadata": {},
   "outputs": [],
   "source": [
    "pdfReader = PyPDF2.PdfFileReader(open('encrypted.pdf', 'rb'))"
   ]
  },
  {
   "cell_type": "code",
   "execution_count": 30,
   "id": "c9169481",
   "metadata": {},
   "outputs": [
    {
     "data": {
      "text/plain": [
       "1"
      ]
     },
     "execution_count": 30,
     "metadata": {},
     "output_type": "execute_result"
    }
   ],
   "source": [
    "pdfReader.decrypt('rosebud')"
   ]
  },
  {
   "cell_type": "code",
   "execution_count": 31,
   "id": "76134dc7",
   "metadata": {},
   "outputs": [],
   "source": [
    "pageObj = pdfReader.getPage(0)"
   ]
  },
  {
   "cell_type": "code",
   "execution_count": 33,
   "id": "f78c7785",
   "metadata": {},
   "outputs": [
    {
     "data": {
      "text/plain": [
       "'OOFFFFIICCIIAALL  BBOOAARRDD  MMIINNUUTTEESS   Meeting of \\nMarch 7\\n, 2014\\n        \\n     The Board of Elementary and Secondary Education shall provide leadership and \\ncreate policies for education that expand opportunities for children, empower \\nfamilies and communities, and advance Louisiana in an increasingly \\ncompetitive glob\\nal market.\\n BOARD \\n of ELEMENTARY\\n and \\n SECONDARY\\n EDUCATION\\n  '"
      ]
     },
     "execution_count": 33,
     "metadata": {},
     "output_type": "execute_result"
    }
   ],
   "source": [
    "pageObj.extractText()"
   ]
  },
  {
   "cell_type": "code",
   "execution_count": 39,
   "id": "a95228ad",
   "metadata": {},
   "outputs": [],
   "source": [
    "# Creating PDFs\n",
    "# Copying Pages\n",
    "\n",
    "import PyPDF2\n",
    "pdf1File = open('meetingminutes.pdf', 'rb')\n",
    "pdf2File = open('meetingminutes2.pdf', 'rb')\n",
    "pdf1Reader = PyPDF2.PdfFileReader(pdf1File)\n",
    "pdf2Reader = PyPDF2.PdfFileReader(pdf2File)\n",
    "pdfWriter = PyPDF2.PdfFileWriter()\n",
    "\n",
    "for pageNum in range(pdf1Reader.numPages):\n",
    "    pageObj = pdf1Reader.getPage(pageNum)\n",
    "    pdfWriter.addPage(pageObj)\n",
    "    \n",
    "for pagNum in range(pdf2Reader.numPages):\n",
    "    pageObj = pdf2Reader.getPage(pageNum)\n",
    "    pdfWriter.addPage(pageObj)\n",
    "    \n",
    "pdfOutputFile = open('combinedminutes.pdf', 'wb')\n",
    "pdfWriter.write(pdfOutputFile)\n",
    "pdfOutputFile.close()\n",
    "pdf1File.close()\n",
    "pdf2File.close()"
   ]
  },
  {
   "cell_type": "code",
   "execution_count": 47,
   "id": "f98f043a",
   "metadata": {},
   "outputs": [],
   "source": [
    "# Rotating Pages\n",
    "import PyPDF2\n",
    "minutesFile = open('meetingminutes.pdf', 'rb')\n",
    "pdfReader = PyPDF2.PdfFileReader(minutesFile)\n",
    "page = pdfReader.getPage(0)\n",
    "page.rotateClockwise(90)\n",
    "\n",
    "pdfWriter = PyPDF2.PdfFileWriter()\n",
    "pdfWriter.addPage(page)\n",
    "resultPdfFile = open('rotatedPage.pdf', 'wb')\n",
    "pdfWriter.write(resultPdfFile)\n",
    "resultPdfFile.close()\n",
    "minutesFile.close()"
   ]
  },
  {
   "cell_type": "code",
   "execution_count": 55,
   "id": "94375f05",
   "metadata": {},
   "outputs": [],
   "source": [
    "# Overelaying Pages\n",
    "import PyPDF2\n",
    "minutesFile = open('meetingminutes.pdf', 'rb')\n",
    "pdfReader = PyPDF2.PdfFileReader(minutesFile)\n",
    "minutesFirstPage = pdfReader.getPage(0)\n",
    "pdfWatermarkReader = PyPDF2.PdfFileReader(open('watermark.pdf', 'rb'))\n",
    "minutesFirstPage.mergePage(pdfWatermarkReader.getPage(0))\n",
    "pdfWriter = PyPDF2.PdfFileWriter()\n",
    "pdfWriter.addPage(minutesFirstPage)\n",
    "\n",
    "for pageNum in range(1, pdfReader.numPages):\n",
    "    pageObj = pdfReader.getPage(pageNum)\n",
    "    pdfWriter.addPage(pageObj)\n",
    "    \n",
    "resultPdfFile = open('watermarkedCover.pdf', 'wb')\n",
    "pdfWriter.write(resultPdfFile)\n",
    "minutesFile.close()\n",
    "resultPdfFile.close()"
   ]
  },
  {
   "cell_type": "code",
   "execution_count": 8,
   "id": "8d1e6e4f",
   "metadata": {},
   "outputs": [],
   "source": [
    "# Encrypting PDFs\n",
    "import PyPDF2\n",
    "pdfFile = open('meetingminutes.pdf', 'rb')\n",
    "pdfReader = PyPDF2.PdfFileReader(pdfFile)\n",
    "pdfWriter = PyPDF2.PdfFileWriter()\n",
    "for pageNum in range(pdfReader.numPages):\n",
    "    pdfWriter.addPage(pdfReader.getPage(pageNum))\n",
    "    \n",
    "pdfWriter.encrypt('swordfish')\n",
    "resultPdf = open('encryptedminutes.pdf', 'wb')\n",
    "pdfWriter.write(resultPdf)\n",
    "resultPdf.close()"
   ]
  },
  {
   "cell_type": "code",
   "execution_count": 2,
   "id": "05246997",
   "metadata": {},
   "outputs": [],
   "source": [
    "# Project: combning Select Pages from Many PDFs\n",
    "import PyPDF2, os\n",
    "# Get all the PDF finenames.\n",
    "pdfFiles = []\n",
    "for filename in os.listdir('.'):\n",
    "    if filename.endswith('.pdf'):\n",
    "        pdfFiles.append(filename)\n",
    "pdfFiles.sort(key = str.lower)\n",
    "\n",
    "pdfWriter = PyPDF2.PdfFileWriter()\n",
    "\n",
    "# loop through all the PDF files.\n",
    "for filename in pdfFiles:\n",
    "    pdfFileObj = open(filename, 'rb')\n",
    "    pdfReader = PyPDF2.PdfFileReader(pdfFileObj)\n",
    "    \n",
    "    # Loop through all the pages (except the first) and add them.\n",
    "    for pageNum in range(1, pdfReader.numPages):\n",
    "        pageObj = pdfReader.getPage(pageNum)\n",
    "        pdfWriter.addPage(pageObj)\n",
    "        \n",
    "# save the resulting PDF to file.\n",
    "pdfOutput = open('allminutes.pdf', 'wb')\n",
    "pdfWriter.write(pdfOutput)\n",
    "pdfOutput.close()"
   ]
  },
  {
   "cell_type": "code",
   "execution_count": 52,
   "id": "14185aee",
   "metadata": {},
   "outputs": [],
   "source": [
    "#  Word Documents\n",
    "# Reading Word Documents\n",
    "import docx\n",
    "doc = docx.Document('demo.docx')"
   ]
  },
  {
   "cell_type": "code",
   "execution_count": 53,
   "id": "5b141ee3",
   "metadata": {},
   "outputs": [
    {
     "data": {
      "text/plain": [
       "7"
      ]
     },
     "execution_count": 53,
     "metadata": {},
     "output_type": "execute_result"
    }
   ],
   "source": [
    "len(doc.paragraphs)"
   ]
  },
  {
   "cell_type": "code",
   "execution_count": 54,
   "id": "7aeef82e",
   "metadata": {},
   "outputs": [
    {
     "data": {
      "text/plain": [
       "'Document Title'"
      ]
     },
     "execution_count": 54,
     "metadata": {},
     "output_type": "execute_result"
    }
   ],
   "source": [
    "doc.paragraphs[0].text"
   ]
  },
  {
   "cell_type": "code",
   "execution_count": 55,
   "id": "25276c83",
   "metadata": {},
   "outputs": [
    {
     "data": {
      "text/plain": [
       "'A plain paragraph with some bold and some italic'"
      ]
     },
     "execution_count": 55,
     "metadata": {},
     "output_type": "execute_result"
    }
   ],
   "source": [
    "doc.paragraphs[1].text"
   ]
  },
  {
   "cell_type": "code",
   "execution_count": 56,
   "id": "ed0d0016",
   "metadata": {},
   "outputs": [
    {
     "data": {
      "text/plain": [
       "5"
      ]
     },
     "execution_count": 56,
     "metadata": {},
     "output_type": "execute_result"
    }
   ],
   "source": [
    "len(doc.paragraphs[1].runs)"
   ]
  },
  {
   "cell_type": "code",
   "execution_count": 57,
   "id": "8e722183",
   "metadata": {},
   "outputs": [
    {
     "data": {
      "text/plain": [
       "'A plain paragraph with'"
      ]
     },
     "execution_count": 57,
     "metadata": {},
     "output_type": "execute_result"
    }
   ],
   "source": [
    "doc.paragraphs[1].runs[0].text"
   ]
  },
  {
   "cell_type": "code",
   "execution_count": 58,
   "id": "00df7157",
   "metadata": {},
   "outputs": [
    {
     "data": {
      "text/plain": [
       "' some '"
      ]
     },
     "execution_count": 58,
     "metadata": {},
     "output_type": "execute_result"
    }
   ],
   "source": [
    "doc.paragraphs[1].runs[1].text"
   ]
  },
  {
   "cell_type": "code",
   "execution_count": 59,
   "id": "30a2e921",
   "metadata": {},
   "outputs": [
    {
     "data": {
      "text/plain": [
       "'bold'"
      ]
     },
     "execution_count": 59,
     "metadata": {},
     "output_type": "execute_result"
    }
   ],
   "source": [
    "doc.paragraphs[1].runs[2].text"
   ]
  },
  {
   "cell_type": "code",
   "execution_count": 60,
   "id": "ea65d991",
   "metadata": {},
   "outputs": [
    {
     "data": {
      "text/plain": [
       "' and some '"
      ]
     },
     "execution_count": 60,
     "metadata": {},
     "output_type": "execute_result"
    }
   ],
   "source": [
    "doc.paragraphs[1].runs[3].text"
   ]
  },
  {
   "cell_type": "code",
   "execution_count": 61,
   "id": "961581e5",
   "metadata": {},
   "outputs": [
    {
     "data": {
      "text/plain": [
       "'italic'"
      ]
     },
     "execution_count": 61,
     "metadata": {},
     "output_type": "execute_result"
    }
   ],
   "source": [
    "doc.paragraphs[1].runs[4].text"
   ]
  },
  {
   "cell_type": "code",
   "execution_count": 67,
   "id": "6c6e337b",
   "metadata": {},
   "outputs": [],
   "source": [
    "# Getting the Full Text from a .docx File\n",
    "\n",
    "import docx\n",
    "\n",
    "def getText(filename):\n",
    "    doc = docx.document(filename)\n",
    "    fullText = []\n",
    "    for para in doc.paragraphs:\n",
    "        fullText.append(para.text)\n",
    "    return '\\n'.join(fullText)"
   ]
  },
  {
   "cell_type": "code",
   "execution_count": 77,
   "id": "1db02fbf",
   "metadata": {},
   "outputs": [
    {
     "ename": "TypeError",
     "evalue": "'module' object is not callable",
     "output_type": "error",
     "traceback": [
      "\u001b[1;31m---------------------------------------------------------------------------\u001b[0m",
      "\u001b[1;31mTypeError\u001b[0m                                 Traceback (most recent call last)",
      "Input \u001b[1;32mIn [77]\u001b[0m, in \u001b[0;36m<cell line: 2>\u001b[1;34m()\u001b[0m\n\u001b[0;32m      1\u001b[0m \u001b[38;5;28;01mimport\u001b[39;00m \u001b[38;5;21;01mreadDocx\u001b[39;00m\n\u001b[1;32m----> 2\u001b[0m \u001b[38;5;28mprint\u001b[39m(\u001b[43mreadDocx\u001b[49m\u001b[38;5;241;43m.\u001b[39;49m\u001b[43mgetText\u001b[49m\u001b[43m(\u001b[49m\u001b[38;5;124;43m'\u001b[39;49m\u001b[38;5;124;43mdemo.docx\u001b[39;49m\u001b[38;5;124;43m'\u001b[39;49m\u001b[43m)\u001b[49m)\n",
      "File \u001b[1;32m~\\readDocx.py:4\u001b[0m, in \u001b[0;36mgetText\u001b[1;34m(filename)\u001b[0m\n\u001b[0;32m      3\u001b[0m \u001b[38;5;28;01mdef\u001b[39;00m \u001b[38;5;21mgetText\u001b[39m(filename):\n\u001b[1;32m----> 4\u001b[0m     doc \u001b[38;5;241m=\u001b[39m \u001b[43mdocx\u001b[49m\u001b[38;5;241;43m.\u001b[39;49m\u001b[43mdocument\u001b[49m\u001b[43m(\u001b[49m\u001b[43mfilename\u001b[49m\u001b[43m)\u001b[49m\n\u001b[0;32m      5\u001b[0m     fullText \u001b[38;5;241m=\u001b[39m []\n\u001b[0;32m      6\u001b[0m     \u001b[38;5;28;01mfor\u001b[39;00m para \u001b[38;5;129;01min\u001b[39;00m doc\u001b[38;5;241m.\u001b[39mparagraphs:\n",
      "\u001b[1;31mTypeError\u001b[0m: 'module' object is not callable"
     ]
    }
   ],
   "source": [
    "import readDocx\n",
    "print(readDocx.getText('demo.docx'))"
   ]
  },
  {
   "cell_type": "code",
   "execution_count": 80,
   "id": "93cf9afb",
   "metadata": {},
   "outputs": [],
   "source": [
    "# To add a double space between paragraphs, change the join() call \n",
    "# code to this\n",
    "import docx\n",
    "\n",
    "def getText(filename):\n",
    "    doc = docx.document(filename)\n",
    "    fullText = []\n",
    "    for para in doc.paragraphs:\n",
    "        fullText.append(' ' + para.text)   #  to indent each paragraph, replace the append() call in\n",
    "    return '\\n\\n'.join(fullText)\n"
   ]
  },
  {
   "cell_type": "code",
   "execution_count": null,
   "id": "393028a5",
   "metadata": {},
   "outputs": [],
   "source": [
    "import readDocx\n",
    "print(readDocx.getText('demo.docx'))"
   ]
  },
  {
   "cell_type": "code",
   "execution_count": 85,
   "id": "d49ecc14",
   "metadata": {},
   "outputs": [],
   "source": [
    "# To change the style\n",
    "import docx\n",
    "doc = docx.Document('demo.docx')"
   ]
  },
  {
   "cell_type": "code",
   "execution_count": 87,
   "id": "09171ebd",
   "metadata": {},
   "outputs": [
    {
     "data": {
      "text/plain": [
       "'Document Title'"
      ]
     },
     "execution_count": 87,
     "metadata": {},
     "output_type": "execute_result"
    }
   ],
   "source": [
    "doc.paragraphs[0].text"
   ]
  },
  {
   "cell_type": "code",
   "execution_count": 88,
   "id": "ee969305",
   "metadata": {},
   "outputs": [
    {
     "data": {
      "text/plain": [
       "_ParagraphStyle('Title') id: 1570797009552"
      ]
     },
     "execution_count": 88,
     "metadata": {},
     "output_type": "execute_result"
    }
   ],
   "source": [
    "doc.paragraphs[0].style  #The exact id may be different:"
   ]
  },
  {
   "cell_type": "code",
   "execution_count": 106,
   "id": "6b7a9eeb",
   "metadata": {},
   "outputs": [],
   "source": [
    "doc.paragraphs[0].style = 'Body Text'"
   ]
  },
  {
   "cell_type": "code",
   "execution_count": 107,
   "id": "5806dd23",
   "metadata": {},
   "outputs": [
    {
     "data": {
      "text/plain": [
       "'A plain paragraph with some bold and some italic'"
      ]
     },
     "execution_count": 107,
     "metadata": {},
     "output_type": "execute_result"
    }
   ],
   "source": [
    "doc.paragraphs[1].text"
   ]
  },
  {
   "cell_type": "code",
   "execution_count": 108,
   "id": "fcfc8093",
   "metadata": {},
   "outputs": [
    {
     "data": {
      "text/plain": [
       "('A plain paragraph with', ' some ', 'bold', ' and some ', 'italic')"
      ]
     },
     "execution_count": 108,
     "metadata": {},
     "output_type": "execute_result"
    }
   ],
   "source": [
    "(doc.paragraphs[1].runs[0].text, doc.paragraphs[1].runs[1].text, doc.paragraphs[1].runs[2].text, doc.paragraphs[1].runs[3].text, doc.paragraphs[1].runs[4].text)"
   ]
  },
  {
   "cell_type": "code",
   "execution_count": 112,
   "id": "3d919961",
   "metadata": {},
   "outputs": [],
   "source": [
    " doc.paragraphs[1].runs[0].style = 'QuoteChar'"
   ]
  },
  {
   "cell_type": "code",
   "execution_count": 113,
   "id": "9828d32c",
   "metadata": {},
   "outputs": [],
   "source": [
    "doc.paragraphs[1].runs[1].underline = True"
   ]
  },
  {
   "cell_type": "code",
   "execution_count": 114,
   "id": "303e28c6",
   "metadata": {},
   "outputs": [],
   "source": [
    "doc.paragraphs[1].runs[2].underline = True"
   ]
  },
  {
   "cell_type": "code",
   "execution_count": 115,
   "id": "733570e8",
   "metadata": {},
   "outputs": [],
   "source": [
    "doc.paragraphs[1].runs[3].underline = True"
   ]
  },
  {
   "cell_type": "code",
   "execution_count": 116,
   "id": "55d9f76b",
   "metadata": {},
   "outputs": [],
   "source": [
    "doc.paragraphs[1].runs[4].undelline = True"
   ]
  },
  {
   "cell_type": "code",
   "execution_count": 118,
   "id": "5f6ac363",
   "metadata": {},
   "outputs": [],
   "source": [
    "doc.save('restyled.docx')"
   ]
  },
  {
   "cell_type": "code",
   "execution_count": 138,
   "id": "f08d0ee8",
   "metadata": {},
   "outputs": [],
   "source": [
    "# Writing Word Documents\n",
    "import docx\n",
    "doc = docx.Document()"
   ]
  },
  {
   "cell_type": "code",
   "execution_count": 139,
   "id": "0722e0eb",
   "metadata": {},
   "outputs": [
    {
     "data": {
      "text/plain": [
       "<docx.text.paragraph.Paragraph at 0x16dbe15a0a0>"
      ]
     },
     "execution_count": 139,
     "metadata": {},
     "output_type": "execute_result"
    }
   ],
   "source": [
    "doc.add_paragraph('Hello world!')"
   ]
  },
  {
   "cell_type": "code",
   "execution_count": 140,
   "id": "6cd6f9c0",
   "metadata": {},
   "outputs": [],
   "source": [
    "doc.save('helloworld.docx')"
   ]
  },
  {
   "cell_type": "code",
   "execution_count": 149,
   "id": "3e0d3189",
   "metadata": {},
   "outputs": [],
   "source": [
    "# To add paragraphs by calling the add_paragrph() method agian\n",
    "import docx\n",
    "doc = docx.Document()"
   ]
  },
  {
   "cell_type": "code",
   "execution_count": 159,
   "id": "ba8fd046",
   "metadata": {},
   "outputs": [
    {
     "data": {
      "text/plain": [
       "<docx.text.paragraph.Paragraph at 0x16dbe191df0>"
      ]
     },
     "execution_count": 159,
     "metadata": {},
     "output_type": "execute_result"
    }
   ],
   "source": [
    "doc.add_paragraph('Hello world!', 'Title')   # This line adds a paragraph with the text Hello, world! in the Title style"
   ]
  },
  {
   "cell_type": "code",
   "execution_count": 160,
   "id": "c1c925f1",
   "metadata": {},
   "outputs": [],
   "source": [
    "paraObj1 = doc.add_paragraph('This is a second paragraph.')"
   ]
  },
  {
   "cell_type": "code",
   "execution_count": 161,
   "id": "0a0da205",
   "metadata": {},
   "outputs": [],
   "source": [
    "paraObj2 = doc.add_paragraph('This is a yet another paragraph.')"
   ]
  },
  {
   "cell_type": "code",
   "execution_count": 162,
   "id": "d0f4a8b6",
   "metadata": {},
   "outputs": [
    {
     "data": {
      "text/plain": [
       "<docx.text.run.Run at 0x16dbe191400>"
      ]
     },
     "execution_count": 162,
     "metadata": {},
     "output_type": "execute_result"
    }
   ],
   "source": [
    "paraObj1.add_run(' This text is being added to the second paragraph.')"
   ]
  },
  {
   "cell_type": "code",
   "execution_count": 164,
   "id": "23e68d0c",
   "metadata": {},
   "outputs": [],
   "source": [
    "doc.save('multipleParagraph.docx')"
   ]
  },
  {
   "cell_type": "code",
   "execution_count": 165,
   "id": "0469cc55",
   "metadata": {},
   "outputs": [],
   "source": [
    "# Adding Headings\n",
    "doc = docx.Document()"
   ]
  },
  {
   "cell_type": "code",
   "execution_count": 166,
   "id": "e45b7273",
   "metadata": {},
   "outputs": [
    {
     "data": {
      "text/plain": [
       "<docx.text.paragraph.Paragraph at 0x16dc01ca220>"
      ]
     },
     "execution_count": 166,
     "metadata": {},
     "output_type": "execute_result"
    }
   ],
   "source": [
    "doc.add_heading('header 0', 0)"
   ]
  },
  {
   "cell_type": "code",
   "execution_count": 167,
   "id": "7547fcf1",
   "metadata": {},
   "outputs": [
    {
     "data": {
      "text/plain": [
       "<docx.text.paragraph.Paragraph at 0x16dc01ca160>"
      ]
     },
     "execution_count": 167,
     "metadata": {},
     "output_type": "execute_result"
    }
   ],
   "source": [
    "doc.add_heading('header 1', 1)"
   ]
  },
  {
   "cell_type": "code",
   "execution_count": 169,
   "id": "d14ed4bb",
   "metadata": {},
   "outputs": [
    {
     "data": {
      "text/plain": [
       "<docx.text.paragraph.Paragraph at 0x16dc01e3e80>"
      ]
     },
     "execution_count": 169,
     "metadata": {},
     "output_type": "execute_result"
    }
   ],
   "source": [
    "doc.add_heading('header 2', 2)"
   ]
  },
  {
   "cell_type": "code",
   "execution_count": 170,
   "id": "e1afa994",
   "metadata": {},
   "outputs": [
    {
     "data": {
      "text/plain": [
       "<docx.text.paragraph.Paragraph at 0x16dc01e3a60>"
      ]
     },
     "execution_count": 170,
     "metadata": {},
     "output_type": "execute_result"
    }
   ],
   "source": [
    "doc.add_heading('header 3', 3)"
   ]
  },
  {
   "cell_type": "code",
   "execution_count": 171,
   "id": "4ea16153",
   "metadata": {},
   "outputs": [
    {
     "data": {
      "text/plain": [
       "<docx.text.paragraph.Paragraph at 0x16dc01e3fd0>"
      ]
     },
     "execution_count": 171,
     "metadata": {},
     "output_type": "execute_result"
    }
   ],
   "source": [
    "doc.add_heading('header 4', 4)"
   ]
  },
  {
   "cell_type": "code",
   "execution_count": 172,
   "id": "4b05a8a2",
   "metadata": {},
   "outputs": [],
   "source": [
    "doc.save('headings.docx')"
   ]
  },
  {
   "cell_type": "code",
   "execution_count": 173,
   "id": "f6c50efc",
   "metadata": {},
   "outputs": [],
   "source": [
    "# Addding Line and Page Breaks\n",
    "doc = docx.Document()"
   ]
  },
  {
   "cell_type": "code",
   "execution_count": 174,
   "id": "405a74d7",
   "metadata": {},
   "outputs": [
    {
     "data": {
      "text/plain": [
       "<docx.text.paragraph.Paragraph at 0x16dbf1a5bb0>"
      ]
     },
     "execution_count": 174,
     "metadata": {},
     "output_type": "execute_result"
    }
   ],
   "source": [
    "doc.add_paragraph('This is the first page!')"
   ]
  },
  {
   "cell_type": "code",
   "execution_count": 175,
   "id": "4e80cf89",
   "metadata": {},
   "outputs": [],
   "source": [
    "doc.paragraphs[0].runs[0].add_break(docx.enum.text.WD_BREAK.PAGE)"
   ]
  },
  {
   "cell_type": "code",
   "execution_count": 176,
   "id": "f85df2dc",
   "metadata": {},
   "outputs": [
    {
     "data": {
      "text/plain": [
       "<docx.text.paragraph.Paragraph at 0x16dbf197730>"
      ]
     },
     "execution_count": 176,
     "metadata": {},
     "output_type": "execute_result"
    }
   ],
   "source": [
    "doc.add_paragraph('This is on the second page!')"
   ]
  },
  {
   "cell_type": "code",
   "execution_count": 177,
   "id": "2b7ed278",
   "metadata": {},
   "outputs": [],
   "source": [
    "doc.save('twoPage.docx')"
   ]
  },
  {
   "cell_type": "code",
   "execution_count": 182,
   "id": "377a6de5",
   "metadata": {},
   "outputs": [
    {
     "data": {
      "text/plain": [
       "<docx.shape.InlineShape at 0x16dbf1a5430>"
      ]
     },
     "execution_count": 182,
     "metadata": {},
     "output_type": "execute_result"
    }
   ],
   "source": [
    "# Adding Pictures\n",
    "doc.add_picture('zophie.png') "
   ]
  },
  {
   "cell_type": "code",
   "execution_count": 183,
   "id": "4127a7a4",
   "metadata": {},
   "outputs": [],
   "source": [
    "doc.save('zophie.docx')"
   ]
  },
  {
   "cell_type": "code",
   "execution_count": 2,
   "id": "2b1a2f0b",
   "metadata": {},
   "outputs": [
    {
     "ename": "ImportError",
     "evalue": "DLL load failed while importing win32api: The specified procedure could not be found.",
     "output_type": "error",
     "traceback": [
      "\u001b[1;31m---------------------------------------------------------------------------\u001b[0m",
      "\u001b[1;31mImportError\u001b[0m                               Traceback (most recent call last)",
      "Input \u001b[1;32mIn [2]\u001b[0m, in \u001b[0;36m<cell line: 2>\u001b[1;34m()\u001b[0m\n\u001b[0;32m      1\u001b[0m \u001b[38;5;66;03m# Creating PDFs from word Documents\u001b[39;00m\n\u001b[1;32m----> 2\u001b[0m \u001b[38;5;28;01mimport\u001b[39;00m \u001b[38;5;21;01mwin32com\u001b[39;00m\u001b[38;5;21;01m.\u001b[39;00m\u001b[38;5;21;01mclient\u001b[39;00m   \u001b[38;5;66;03m# # install with \"pip install pywin32==224\"\u001b[39;00m\n\u001b[0;32m      3\u001b[0m \u001b[38;5;28;01mimport\u001b[39;00m \u001b[38;5;21;01mdocx\u001b[39;00m\n\u001b[0;32m      4\u001b[0m wordFilename \u001b[38;5;241m=\u001b[39m \u001b[38;5;124m'\u001b[39m\u001b[38;5;124myour_word_document.docx\u001b[39m\u001b[38;5;124m'\u001b[39m\n",
      "File \u001b[1;32m~\\AppData\\Roaming\\Python\\Python39\\site-packages\\win32com\\__init__.py:5\u001b[0m, in \u001b[0;36m<module>\u001b[1;34m\u001b[0m\n\u001b[0;32m      1\u001b[0m \u001b[38;5;66;03m#\u001b[39;00m\n\u001b[0;32m      2\u001b[0m \u001b[38;5;66;03m# Initialization for the win32com package\u001b[39;00m\n\u001b[0;32m      3\u001b[0m \u001b[38;5;66;03m#\u001b[39;00m\n\u001b[1;32m----> 5\u001b[0m \u001b[38;5;28;01mimport\u001b[39;00m \u001b[38;5;21;01mwin32api\u001b[39;00m\u001b[38;5;241m,\u001b[39m \u001b[38;5;21;01msys\u001b[39;00m\u001b[38;5;241m,\u001b[39m \u001b[38;5;21;01mos\u001b[39;00m\n\u001b[0;32m      6\u001b[0m \u001b[38;5;28;01mimport\u001b[39;00m \u001b[38;5;21;01mpythoncom\u001b[39;00m\n\u001b[0;32m      8\u001b[0m \u001b[38;5;66;03m# flag if we are in a \"frozen\" build.\u001b[39;00m\n",
      "\u001b[1;31mImportError\u001b[0m: DLL load failed while importing win32api: The specified procedure could not be found."
     ]
    }
   ],
   "source": [
    "# Creating PDFs from word Documents\n",
    "import win32com.client   # # install with \"pip install pywin32==224\"\n",
    "import docx\n",
    "wordFilename = 'your_word_document.docx'\n",
    "pdfFilename = 'your_pdf_filename.pdf'\n",
    "\n",
    "doc.docx.Document()\n",
    "# Code to create word document goes here.\n",
    "doc.save(wordFilename)\n",
    "\n",
    "wdFormatPDF = 17  # word's numeric code for PDFs.\n",
    "wordObj =  win32com.client.Dispatch('Word.Applicatioin')\n",
    "\n",
    "docObj = wordObj.Documents.Open(wordFilenname)\n",
    "docObj.SaveAs(pdfFilename, FileFormat=wdFormatPDF)\n",
    "docObj = Close()\n",
    "wordObj.Quit()"
   ]
  },
  {
   "cell_type": "code",
   "execution_count": null,
   "id": "d763b2fa",
   "metadata": {},
   "outputs": [],
   "source": []
  }
 ],
 "metadata": {
  "kernelspec": {
   "display_name": "Python 3 (ipykernel)",
   "language": "python",
   "name": "python3"
  },
  "language_info": {
   "codemirror_mode": {
    "name": "ipython",
    "version": 3
   },
   "file_extension": ".py",
   "mimetype": "text/x-python",
   "name": "python",
   "nbconvert_exporter": "python",
   "pygments_lexer": "ipython3",
   "version": "3.9.12"
  }
 },
 "nbformat": 4,
 "nbformat_minor": 5
}
