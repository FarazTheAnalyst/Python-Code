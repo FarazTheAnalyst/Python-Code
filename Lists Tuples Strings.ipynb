{
 "cells": [
  {
   "cell_type": "code",
   "execution_count": 3,
   "id": "87770ed1",
   "metadata": {},
   "outputs": [
    {
     "data": {
      "text/plain": [
       "[1, 2, 3]"
      ]
     },
     "execution_count": 3,
     "metadata": {},
     "output_type": "execute_result"
    }
   ],
   "source": [
    "# The List Data Type\n",
    "[1, 2, 3]"
   ]
  },
  {
   "cell_type": "code",
   "execution_count": 4,
   "id": "62c0913e",
   "metadata": {},
   "outputs": [
    {
     "data": {
      "text/plain": [
       "['lion', 'goat', 'dove', 'mouse']"
      ]
     },
     "execution_count": 4,
     "metadata": {},
     "output_type": "execute_result"
    }
   ],
   "source": [
    "['lion', 'goat', 'dove', 'mouse']"
   ]
  },
  {
   "cell_type": "code",
   "execution_count": 5,
   "id": "7263f796",
   "metadata": {},
   "outputs": [
    {
     "data": {
      "text/plain": [
       "['hi', 5.345, 'True', None, 54]"
      ]
     },
     "execution_count": 5,
     "metadata": {},
     "output_type": "execute_result"
    }
   ],
   "source": [
    "['hi', 5.345, 'True', None, 54]"
   ]
  },
  {
   "cell_type": "code",
   "execution_count": 6,
   "id": "155e0768",
   "metadata": {},
   "outputs": [],
   "source": [
    "spam = ['lion', 'goat', 'dove', 'mouse']  #spam variable is still assigned only one value: the list value"
   ]
  },
  {
   "cell_type": "code",
   "execution_count": 7,
   "id": "5a0a5ade",
   "metadata": {},
   "outputs": [
    {
     "data": {
      "text/plain": [
       "['lion', 'goat', 'dove', 'mouse']"
      ]
     },
     "execution_count": 7,
     "metadata": {},
     "output_type": "execute_result"
    }
   ],
   "source": [
    "spam"
   ]
  },
  {
   "cell_type": "code",
   "execution_count": 8,
   "id": "dc70eaf0",
   "metadata": {},
   "outputs": [],
   "source": [
    "bam = []  #the value is empty list that contains no  value similar to '', the empty string\n"
   ]
  },
  {
   "cell_type": "code",
   "execution_count": 9,
   "id": "7fc0d828",
   "metadata": {},
   "outputs": [
    {
     "data": {
      "text/plain": [
       "[]"
      ]
     },
     "execution_count": 9,
     "metadata": {},
     "output_type": "execute_result"
    }
   ],
   "source": [
    "bam"
   ]
  },
  {
   "cell_type": "code",
   "execution_count": 10,
   "id": "bcf36579",
   "metadata": {},
   "outputs": [],
   "source": [
    "# Getting Individual Vaalues in a List with indexes\n",
    "\n",
    "spam = ['lion', 'goat', 'dove', 'mouse']"
   ]
  },
  {
   "cell_type": "code",
   "execution_count": 11,
   "id": "ce601f6b",
   "metadata": {},
   "outputs": [
    {
     "data": {
      "text/plain": [
       "'lion'"
      ]
     },
     "execution_count": 11,
     "metadata": {},
     "output_type": "execute_result"
    }
   ],
   "source": [
    "spam[0]"
   ]
  },
  {
   "cell_type": "code",
   "execution_count": 12,
   "id": "17e5e757",
   "metadata": {},
   "outputs": [
    {
     "data": {
      "text/plain": [
       "'goat'"
      ]
     },
     "execution_count": 12,
     "metadata": {},
     "output_type": "execute_result"
    }
   ],
   "source": [
    "spam[1]"
   ]
  },
  {
   "cell_type": "code",
   "execution_count": 13,
   "id": "6e04f93c",
   "metadata": {},
   "outputs": [
    {
     "data": {
      "text/plain": [
       "'dove'"
      ]
     },
     "execution_count": 13,
     "metadata": {},
     "output_type": "execute_result"
    }
   ],
   "source": [
    "spam[2]"
   ]
  },
  {
   "cell_type": "code",
   "execution_count": 14,
   "id": "e586191d",
   "metadata": {},
   "outputs": [
    {
     "data": {
      "text/plain": [
       "'mouse'"
      ]
     },
     "execution_count": 14,
     "metadata": {},
     "output_type": "execute_result"
    }
   ],
   "source": [
    "spam[3]"
   ]
  },
  {
   "cell_type": "code",
   "execution_count": 17,
   "id": "f526a071",
   "metadata": {},
   "outputs": [
    {
     "data": {
      "text/plain": [
       "'mouse'"
      ]
     },
     "execution_count": 17,
     "metadata": {},
     "output_type": "execute_result"
    }
   ],
   "source": [
    "['lion', 'goat', 'dove', 'mouse'][3]"
   ]
  },
  {
   "cell_type": "code",
   "execution_count": 19,
   "id": "57009b6a",
   "metadata": {},
   "outputs": [
    {
     "data": {
      "text/plain": [
       "'Hello, lion'"
      ]
     },
     "execution_count": 19,
     "metadata": {},
     "output_type": "execute_result"
    }
   ],
   "source": [
    "'Hello, ' + spam[0]"
   ]
  },
  {
   "cell_type": "code",
   "execution_count": 21,
   "id": "17f55f22",
   "metadata": {},
   "outputs": [
    {
     "data": {
      "text/plain": [
       "'The lion ate the goat.'"
      ]
     },
     "execution_count": 21,
     "metadata": {},
     "output_type": "execute_result"
    }
   ],
   "source": [
    "'The ' + spam[0] + ' ate the ' + spam[1] + '.'"
   ]
  },
  {
   "cell_type": "code",
   "execution_count": 22,
   "id": "2453c7cf",
   "metadata": {},
   "outputs": [],
   "source": [
    "spam = ['lion', 'goat', 'dove', 'mouse']"
   ]
  },
  {
   "cell_type": "code",
   "execution_count": 23,
   "id": "9a6fd923",
   "metadata": {},
   "outputs": [
    {
     "ename": "IndexError",
     "evalue": "list index out of range",
     "output_type": "error",
     "traceback": [
      "\u001b[1;31m---------------------------------------------------------------------------\u001b[0m",
      "\u001b[1;31mIndexError\u001b[0m                                Traceback (most recent call last)",
      "Input \u001b[1;32mIn [23]\u001b[0m, in \u001b[0;36m<cell line: 1>\u001b[1;34m()\u001b[0m\n\u001b[1;32m----> 1\u001b[0m \u001b[43mspam\u001b[49m\u001b[43m[\u001b[49m\u001b[38;5;241;43m2000\u001b[39;49m\u001b[43m]\u001b[49m\n",
      "\u001b[1;31mIndexError\u001b[0m: list index out of range"
     ]
    }
   ],
   "source": [
    "spam[2000] #ERROR: if you use the index that exceeds the number of values in your list value"
   ]
  },
  {
   "cell_type": "code",
   "execution_count": 24,
   "id": "efeea440",
   "metadata": {},
   "outputs": [],
   "source": [
    "# The index can be only integer value, not foats\n",
    "spam = ['lion', 'goat', 'dove', 'mouse']"
   ]
  },
  {
   "cell_type": "code",
   "execution_count": 25,
   "id": "5203cc6b",
   "metadata": {},
   "outputs": [
    {
     "data": {
      "text/plain": [
       "'goat'"
      ]
     },
     "execution_count": 25,
     "metadata": {},
     "output_type": "execute_result"
    }
   ],
   "source": [
    "spam[1]"
   ]
  },
  {
   "cell_type": "code",
   "execution_count": 26,
   "id": "5af586ec",
   "metadata": {},
   "outputs": [
    {
     "ename": "TypeError",
     "evalue": "list indices must be integers or slices, not float",
     "output_type": "error",
     "traceback": [
      "\u001b[1;31m---------------------------------------------------------------------------\u001b[0m",
      "\u001b[1;31mTypeError\u001b[0m                                 Traceback (most recent call last)",
      "Input \u001b[1;32mIn [26]\u001b[0m, in \u001b[0;36m<cell line: 1>\u001b[1;34m()\u001b[0m\n\u001b[1;32m----> 1\u001b[0m \u001b[43mspam\u001b[49m\u001b[43m[\u001b[49m\u001b[38;5;241;43m1.0\u001b[39;49m\u001b[43m]\u001b[49m\n",
      "\u001b[1;31mTypeError\u001b[0m: list indices must be integers or slices, not float"
     ]
    }
   ],
   "source": [
    "spam[1.0] #ERROR: Type error because value is float"
   ]
  },
  {
   "cell_type": "code",
   "execution_count": 27,
   "id": "6c2a4271",
   "metadata": {},
   "outputs": [],
   "source": [
    "# Lists can also contain other list values.\n",
    "spam = [['lion', 'goat'], [10, 20, 30, 40, 50]]"
   ]
  },
  {
   "cell_type": "code",
   "execution_count": 32,
   "id": "506cf030",
   "metadata": {},
   "outputs": [
    {
     "data": {
      "text/plain": [
       "['lion', 'goat']"
      ]
     },
     "execution_count": 32,
     "metadata": {},
     "output_type": "execute_result"
    }
   ],
   "source": [
    "spam[0] #if you only use the one index the program will print the full list value at that index"
   ]
  },
  {
   "cell_type": "code",
   "execution_count": 29,
   "id": "1a0577c9",
   "metadata": {},
   "outputs": [
    {
     "data": {
      "text/plain": [
       "'goat'"
      ]
     },
     "execution_count": 29,
     "metadata": {},
     "output_type": "execute_result"
    }
   ],
   "source": [
    "spam[0][1]  #values in these accessed using multiple indexes,like so"
   ]
  },
  {
   "cell_type": "code",
   "execution_count": 31,
   "id": "f0557a0f",
   "metadata": {},
   "outputs": [
    {
     "data": {
      "text/plain": [
       "50"
      ]
     },
     "execution_count": 31,
     "metadata": {},
     "output_type": "execute_result"
    }
   ],
   "source": [
    "spam[1][4]"
   ]
  },
  {
   "cell_type": "code",
   "execution_count": 33,
   "id": "28b9763f",
   "metadata": {},
   "outputs": [],
   "source": [
    "# Negative indexes\n",
    "spam = ['lion', 'goat', 'dove', 'mouse']\n",
    "\n"
   ]
  },
  {
   "cell_type": "code",
   "execution_count": 34,
   "id": "76bc09d3",
   "metadata": {},
   "outputs": [
    {
     "data": {
      "text/plain": [
       "'mouse'"
      ]
     },
     "execution_count": 34,
     "metadata": {},
     "output_type": "execute_result"
    }
   ],
   "source": [
    "spam[-1]"
   ]
  },
  {
   "cell_type": "code",
   "execution_count": 35,
   "id": "7ba5a8fa",
   "metadata": {},
   "outputs": [
    {
     "data": {
      "text/plain": [
       "'goat'"
      ]
     },
     "execution_count": 35,
     "metadata": {},
     "output_type": "execute_result"
    }
   ],
   "source": [
    "spam[-3]"
   ]
  },
  {
   "cell_type": "code",
   "execution_count": 36,
   "id": "65e0c78b",
   "metadata": {},
   "outputs": [
    {
     "data": {
      "text/plain": [
       "'The mouse afraid of the goat.'"
      ]
     },
     "execution_count": 36,
     "metadata": {},
     "output_type": "execute_result"
    }
   ],
   "source": [
    "'The ' + spam[-1] + ' afraid of the ' + spam[-3] + '.'"
   ]
  },
  {
   "cell_type": "code",
   "execution_count": 38,
   "id": "b8c4bfd4",
   "metadata": {},
   "outputs": [],
   "source": [
    "# The the List from Another List with slices\n",
    "spam = ['lion', 'goat', 'dove', 'mouse']"
   ]
  },
  {
   "cell_type": "code",
   "execution_count": 45,
   "id": "d2548fa7",
   "metadata": {},
   "outputs": [
    {
     "data": {
      "text/plain": [
       "['lion', 'goat', 'dove', 'mouse']"
      ]
     },
     "execution_count": 45,
     "metadata": {},
     "output_type": "execute_result"
    }
   ],
   "source": [
    "spam[0:4]  # first integer is the index where the slice starts. The second integer is the index where the slice ends. but will not include, the value at the second index."
   ]
  },
  {
   "cell_type": "code",
   "execution_count": 40,
   "id": "df8ad32c",
   "metadata": {},
   "outputs": [
    {
     "data": {
      "text/plain": [
       "['goat', 'dove']"
      ]
     },
     "execution_count": 40,
     "metadata": {},
     "output_type": "execute_result"
    }
   ],
   "source": [
    "spam[1:3]"
   ]
  },
  {
   "cell_type": "code",
   "execution_count": 41,
   "id": "f6f3b87f",
   "metadata": {},
   "outputs": [
    {
     "data": {
      "text/plain": [
       "['lion', 'goat', 'dove']"
      ]
     },
     "execution_count": 41,
     "metadata": {},
     "output_type": "execute_result"
    }
   ],
   "source": [
    "spam[0:-1]"
   ]
  },
  {
   "cell_type": "code",
   "execution_count": 42,
   "id": "4bbd211c",
   "metadata": {},
   "outputs": [
    {
     "data": {
      "text/plain": [
       "['lion', 'goat']"
      ]
     },
     "execution_count": 42,
     "metadata": {},
     "output_type": "execute_result"
    }
   ],
   "source": [
    "spam[:2]"
   ]
  },
  {
   "cell_type": "code",
   "execution_count": 43,
   "id": "e5580b42",
   "metadata": {},
   "outputs": [
    {
     "data": {
      "text/plain": [
       "['goat', 'dove', 'mouse']"
      ]
     },
     "execution_count": 43,
     "metadata": {},
     "output_type": "execute_result"
    }
   ],
   "source": [
    "spam[1:]"
   ]
  },
  {
   "cell_type": "code",
   "execution_count": 44,
   "id": "cd4ae9dc",
   "metadata": {},
   "outputs": [
    {
     "data": {
      "text/plain": [
       "['lion', 'goat', 'dove', 'mouse']"
      ]
     },
     "execution_count": 44,
     "metadata": {},
     "output_type": "execute_result"
    }
   ],
   "source": [
    "spam[:]"
   ]
  },
  {
   "cell_type": "code",
   "execution_count": 46,
   "id": "100b3990",
   "metadata": {},
   "outputs": [],
   "source": [
    "# Getting a List's Length with the len() Functioin\n",
    "spam = ['lion', 'goat', 'dove', 'mouse']"
   ]
  },
  {
   "cell_type": "code",
   "execution_count": 47,
   "id": "63df6ecd",
   "metadata": {},
   "outputs": [
    {
     "data": {
      "text/plain": [
       "4"
      ]
     },
     "execution_count": 47,
     "metadata": {},
     "output_type": "execute_result"
    }
   ],
   "source": [
    "len(spam)"
   ]
  },
  {
   "cell_type": "code",
   "execution_count": 48,
   "id": "4d95f4cc",
   "metadata": {},
   "outputs": [],
   "source": [
    "# Changing values in list with indexes\n",
    "spam = ['lion', 'goat', 'dove', 'mouse']"
   ]
  },
  {
   "cell_type": "code",
   "execution_count": 49,
   "id": "79ed572b",
   "metadata": {},
   "outputs": [],
   "source": [
    "spam[1] = 'gadsasd'"
   ]
  },
  {
   "cell_type": "code",
   "execution_count": 50,
   "id": "52e52926",
   "metadata": {},
   "outputs": [
    {
     "data": {
      "text/plain": [
       "['lion', 'gadsasd', 'dove', 'mouse']"
      ]
     },
     "execution_count": 50,
     "metadata": {},
     "output_type": "execute_result"
    }
   ],
   "source": [
    "spam"
   ]
  },
  {
   "cell_type": "code",
   "execution_count": 51,
   "id": "973a1f15",
   "metadata": {},
   "outputs": [],
   "source": [
    "spam[2] = spam[1]"
   ]
  },
  {
   "cell_type": "code",
   "execution_count": 52,
   "id": "d6830b2a",
   "metadata": {},
   "outputs": [
    {
     "data": {
      "text/plain": [
       "['lion', 'gadsasd', 'gadsasd', 'mouse']"
      ]
     },
     "execution_count": 52,
     "metadata": {},
     "output_type": "execute_result"
    }
   ],
   "source": [
    "spam"
   ]
  },
  {
   "cell_type": "code",
   "execution_count": 53,
   "id": "c50d5ca0",
   "metadata": {},
   "outputs": [],
   "source": [
    "spam[-1] = 12345"
   ]
  },
  {
   "cell_type": "code",
   "execution_count": 54,
   "id": "e9992e85",
   "metadata": {},
   "outputs": [
    {
     "data": {
      "text/plain": [
       "['lion', 'gadsasd', 'gadsasd', 12345]"
      ]
     },
     "execution_count": 54,
     "metadata": {},
     "output_type": "execute_result"
    }
   ],
   "source": [
    "spam"
   ]
  },
  {
   "cell_type": "code",
   "execution_count": 55,
   "id": "208c2ac6",
   "metadata": {},
   "outputs": [
    {
     "data": {
      "text/plain": [
       "[1, 2, 3, 'A', 'B', 'C']"
      ]
     },
     "execution_count": 55,
     "metadata": {},
     "output_type": "execute_result"
    }
   ],
   "source": [
    "# List Concatenation and List Replication\n",
    "[1, 2, 3] + ['A', 'B', 'C']  # + operator combines two lists and create new list"
   ]
  },
  {
   "cell_type": "code",
   "execution_count": 56,
   "id": "b336f0f8",
   "metadata": {},
   "outputs": [
    {
     "data": {
      "text/plain": [
       "['X', 'Y', 'Z', 'X', 'Y', 'Z', 'X', 'Y', 'Z']"
      ]
     },
     "execution_count": 56,
     "metadata": {},
     "output_type": "execute_result"
    }
   ],
   "source": [
    "['X', 'Y', 'Z'] * 3  # * operator used, integer value to replicate the list"
   ]
  },
  {
   "cell_type": "code",
   "execution_count": 57,
   "id": "11dcd3b4",
   "metadata": {},
   "outputs": [],
   "source": [
    "spam = [1, 2, 3]"
   ]
  },
  {
   "cell_type": "code",
   "execution_count": 58,
   "id": "14a63205",
   "metadata": {},
   "outputs": [],
   "source": [
    "spam = spam + ['A',  'B', 'C']"
   ]
  },
  {
   "cell_type": "code",
   "execution_count": 63,
   "id": "240f736c",
   "metadata": {},
   "outputs": [
    {
     "data": {
      "text/plain": [
       "[1, 2, 3, 'A', 'B', 'C']"
      ]
     },
     "execution_count": 63,
     "metadata": {},
     "output_type": "execute_result"
    }
   ],
   "source": [
    "spam"
   ]
  },
  {
   "cell_type": "code",
   "execution_count": 64,
   "id": "468cb907",
   "metadata": {},
   "outputs": [],
   "source": [
    "# Removing Values from Lists with del Statements\n",
    "spam = ['lion', 'goat', 'dove', 'mouse']"
   ]
  },
  {
   "cell_type": "code",
   "execution_count": 65,
   "id": "413ad2d6",
   "metadata": {},
   "outputs": [],
   "source": [
    "del spam[2] #del used to delete mostly values from lists"
   ]
  },
  {
   "cell_type": "code",
   "execution_count": 66,
   "id": "f115f850",
   "metadata": {},
   "outputs": [
    {
     "data": {
      "text/plain": [
       "['lion', 'goat', 'mouse']"
      ]
     },
     "execution_count": 66,
     "metadata": {},
     "output_type": "execute_result"
    }
   ],
   "source": [
    "spam"
   ]
  },
  {
   "cell_type": "code",
   "execution_count": 67,
   "id": "261315d2",
   "metadata": {},
   "outputs": [],
   "source": [
    "del spam[2]"
   ]
  },
  {
   "cell_type": "code",
   "execution_count": 68,
   "id": "c4290159",
   "metadata": {},
   "outputs": [
    {
     "data": {
      "text/plain": [
       "['lion', 'goat']"
      ]
     },
     "execution_count": 68,
     "metadata": {},
     "output_type": "execute_result"
    }
   ],
   "source": [
    "spam"
   ]
  },
  {
   "cell_type": "code",
   "execution_count": 70,
   "id": "5cbf333f",
   "metadata": {},
   "outputs": [],
   "source": [
    "# Working with Lists\n",
    "# this is bad way to write code\n",
    "catName1  = 'Zophie' \n",
    "catName2 = 'Pooka'\n",
    "catName3 = ' Simon'\n",
    "catName4 = 'Lady Macbeth'\n",
    "catName5 = 'Fat-tail'\n",
    "catName6 = 'Miss Cleo'\n"
   ]
  },
  {
   "cell_type": "code",
   "execution_count": 71,
   "id": "64f818c8",
   "metadata": {},
   "outputs": [
    {
     "data": {
      "text/plain": [
       "'Zophie'"
      ]
     },
     "execution_count": 71,
     "metadata": {},
     "output_type": "execute_result"
    }
   ],
   "source": [
    "catName1"
   ]
  },
  {
   "cell_type": "code",
   "execution_count": 1,
   "id": "ea69fdfd",
   "metadata": {},
   "outputs": [
    {
     "name": "stdout",
     "output_type": "stream",
     "text": [
      "Enter the name of cat 1:\n",
      "Zophie\n",
      "Enter the naem of cat 2:\n",
      "Pooka\n",
      "Enter the name of cat 3:\n",
      "Simon\n",
      "Enter the name of cat 4:\n",
      "Lady Macbeth\n",
      "Enter the name of cat 5:\n",
      "Fat-tail\n",
      "Enter the name of cat 6:\n",
      "Miss Cleo\n",
      "The cat names are:\n",
      "Zophie Pooka Simon Lady Macbeth Fat-tail Miss Cleo\n"
     ]
    }
   ],
   "source": [
    "print('Enter the name of cat 1:')\n",
    "catName1 = input()\n",
    "print('Enter the naem of cat 2:')\n",
    "catName2 = input()\n",
    "print('Enter the name of cat 3:')\n",
    "catName3 = input()\n",
    "print('Enter the name of cat 4:')\n",
    "catName4 = input()\n",
    "print('Enter the name of cat 5:')\n",
    "catName5 = input()\n",
    "print('Enter the name of cat 6:')\n",
    "catName6 = input()\n",
    "print('The cat names are:')\n",
    "print(catName1 + ' ' + catName2 + ' ' + catName3 + ' ' + catName4 + ' ' + catName5 + ' ' + catName6) "
   ]
  },
  {
   "cell_type": "code",
   "execution_count": 2,
   "id": "6e18edb9",
   "metadata": {},
   "outputs": [
    {
     "name": "stdout",
     "output_type": "stream",
     "text": [
      "Enter the name of cat 1 (or enter nothing to stop.):\n",
      "billi\n",
      "Enter the name of cat 2 (or enter nothing to stop.):\n",
      "sweeti\n",
      "Enter the name of cat 3 (or enter nothing to stop.):\n",
      "mano\n",
      "Enter the name of cat 4 (or enter nothing to stop.):\n",
      "isbella\n",
      "Enter the name of cat 5 (or enter nothing to stop.):\n",
      "lizbat\n",
      "Enter the name of cat 6 (or enter nothing to stop.):\n",
      "haseena\n",
      "Enter the name of cat 7 (or enter nothing to stop.):\n",
      "\n",
      "The cat names are:\n",
      " billi\n",
      " sweeti\n",
      " mano\n",
      " isbella\n",
      " lizbat\n",
      " haseena\n"
     ]
    }
   ],
   "source": [
    "# using a single variable that contains a list value\n",
    "catNames = []\n",
    "while True:\n",
    "    print('Enter the name of cat ' + str(len(catNames) + 1) +\n",
    "         ' (or enter nothing to stop.):')\n",
    "    name = input()\n",
    "    if name == '':\n",
    "        break\n",
    "    catNames = catNames + [name]  #list concatenation\n",
    "print('The cat names are:')\n",
    "for name in catNames:\n",
    "    print(' ' + name)"
   ]
  },
  {
   "cell_type": "code",
   "execution_count": 3,
   "id": "04357dab",
   "metadata": {},
   "outputs": [
    {
     "name": "stdout",
     "output_type": "stream",
     "text": [
      "0\n",
      "1\n",
      "2\n",
      "3\n"
     ]
    }
   ],
   "source": [
    "# Using for loop with Lists\n",
    "for i in range(4):  #repeats the code block once for each item in a list value\n",
    "    print(i)"
   ]
  },
  {
   "cell_type": "code",
   "execution_count": 4,
   "id": "7465916a",
   "metadata": {},
   "outputs": [
    {
     "name": "stdout",
     "output_type": "stream",
     "text": [
      "0\n",
      "1\n",
      "2\n",
      "3\n"
     ]
    }
   ],
   "source": [
    "# The following program has the same output as the previous one\n",
    "for i in [0, 1, 2, 3]:\n",
    "    print(i)"
   ]
  },
  {
   "cell_type": "code",
   "execution_count": 9,
   "id": "b40ce86b",
   "metadata": {},
   "outputs": [
    {
     "name": "stdout",
     "output_type": "stream",
     "text": [
      "index 0 in supplies is: pens\n",
      "index 1 in supplies is: stapplers\n",
      "index 2 in supplies is: flamethrowers\n",
      "index 3 in supplies is: binders\n"
     ]
    }
   ],
   "source": [
    "supplies = ['pens', 'stapplers', 'flamethrowers', 'binders']\n",
    "for i in range(len(supplies)):\n",
    "    print('index ' + str(i) + ' in supplies is: ' + supplies[i] )"
   ]
  },
  {
   "cell_type": "code",
   "execution_count": 11,
   "id": "7e890303",
   "metadata": {},
   "outputs": [
    {
     "data": {
      "text/plain": [
       "True"
      ]
     },
     "execution_count": 11,
     "metadata": {},
     "output_type": "execute_result"
    }
   ],
   "source": [
    "# The in and not in Operators\n",
    "'hey' in ['bye', 'hello', 'hey', 'how']"
   ]
  },
  {
   "cell_type": "code",
   "execution_count": 12,
   "id": "5b02cc24",
   "metadata": {},
   "outputs": [],
   "source": [
    "spam = ['bye', 'hello', 'hey', 'how']"
   ]
  },
  {
   "cell_type": "code",
   "execution_count": 14,
   "id": "5b293bc3",
   "metadata": {},
   "outputs": [
    {
     "data": {
      "text/plain": [
       "False"
      ]
     },
     "execution_count": 14,
     "metadata": {},
     "output_type": "execute_result"
    }
   ],
   "source": [
    "'whose' in spam"
   ]
  },
  {
   "cell_type": "code",
   "execution_count": 16,
   "id": "7fecd002",
   "metadata": {},
   "outputs": [
    {
     "data": {
      "text/plain": [
       "True"
      ]
     },
     "execution_count": 16,
     "metadata": {},
     "output_type": "execute_result"
    }
   ],
   "source": [
    "'how' in spam"
   ]
  },
  {
   "cell_type": "code",
   "execution_count": 18,
   "id": "d74e9e9d",
   "metadata": {},
   "outputs": [
    {
     "data": {
      "text/plain": [
       "False"
      ]
     },
     "execution_count": 18,
     "metadata": {},
     "output_type": "execute_result"
    }
   ],
   "source": [
    "'how' not in spam"
   ]
  },
  {
   "cell_type": "code",
   "execution_count": 20,
   "id": "88e5d4ca",
   "metadata": {},
   "outputs": [
    {
     "data": {
      "text/plain": [
       "True"
      ]
     },
     "execution_count": 20,
     "metadata": {},
     "output_type": "execute_result"
    }
   ],
   "source": [
    "'dog' not in spam"
   ]
  },
  {
   "cell_type": "code",
   "execution_count": 1,
   "id": "e77b9be9",
   "metadata": {},
   "outputs": [
    {
     "name": "stdout",
     "output_type": "stream",
     "text": [
      "Enter a pet name:\n",
      "Jango\n",
      "Jango is my pet.\n"
     ]
    }
   ],
   "source": [
    "myPets = ['Isbella', 'Fattie', 'Jango']\n",
    "print('Enter a pet name:')\n",
    "name = input()\n",
    "if name not in myPets:\n",
    "    print('I do not have pet named ' + name)\n",
    "    \n",
    "else:\n",
    "    print(name + ' is my pet.')"
   ]
  },
  {
   "cell_type": "code",
   "execution_count": 2,
   "id": "7c7974f1",
   "metadata": {},
   "outputs": [],
   "source": [
    "# The Multiple Assignment Trick\n",
    "cat = ['fat', 'gray', 'loud']\n",
    "size = cat[0]\n",
    "color = cat[1]\n",
    "disposition = cat[2]"
   ]
  },
  {
   "cell_type": "code",
   "execution_count": 4,
   "id": "76182200",
   "metadata": {},
   "outputs": [],
   "source": [
    "# you could type this line of code\n",
    "cat = ['fat', 'grey', 'loud']\n",
    "size, color, disposition = cat"
   ]
  },
  {
   "cell_type": "code",
   "execution_count": 6,
   "id": "2195a316",
   "metadata": {},
   "outputs": [
    {
     "ename": "ValueError",
     "evalue": "not enough values to unpack (expected 4, got 3)",
     "output_type": "error",
     "traceback": [
      "\u001b[1;31m---------------------------------------------------------------------------\u001b[0m",
      "\u001b[1;31mValueError\u001b[0m                                Traceback (most recent call last)",
      "Input \u001b[1;32mIn [6]\u001b[0m, in \u001b[0;36m<cell line: 3>\u001b[1;34m()\u001b[0m\n\u001b[0;32m      1\u001b[0m \u001b[38;5;66;03m# the number of variables and the length of the list must be exactly equal, or python will give you a ValueError\u001b[39;00m\n\u001b[0;32m      2\u001b[0m cat \u001b[38;5;241m=\u001b[39m [\u001b[38;5;124m'\u001b[39m\u001b[38;5;124mfat\u001b[39m\u001b[38;5;124m'\u001b[39m, \u001b[38;5;124m'\u001b[39m\u001b[38;5;124mgrey\u001b[39m\u001b[38;5;124m'\u001b[39m, \u001b[38;5;124m'\u001b[39m\u001b[38;5;124mloud\u001b[39m\u001b[38;5;124m'\u001b[39m]\n\u001b[1;32m----> 3\u001b[0m size, color, disposition, name \u001b[38;5;241m=\u001b[39m cat\n",
      "\u001b[1;31mValueError\u001b[0m: not enough values to unpack (expected 4, got 3)"
     ]
    }
   ],
   "source": [
    "# the number of variables and the length of the list must be exactly equal, or python will give you a ValueError\n",
    "cat = ['fat', 'grey', 'loud']\n",
    "size, color, disposition, name = cat  #ValueError"
   ]
  },
  {
   "cell_type": "code",
   "execution_count": 18,
   "id": "d246ef62",
   "metadata": {},
   "outputs": [
    {
     "name": "stdout",
     "output_type": "stream",
     "text": [
      "index0 in supplies is: pens\n",
      "index1 in supplies is: staplers\n",
      "index2 in supplies is: flamethrowers\n",
      "index3 in supplies is: binders\n"
     ]
    }
   ],
   "source": [
    "# Using the enumerate() Function with Lists\n",
    "supplies = ['pens', 'staplers', 'flamethrowers', 'binders']\n",
    "for index, item in enumerate(supplies):\n",
    "    print('index' + str(index) + ' in supplies is: ' + item)"
   ]
  },
  {
   "cell_type": "code",
   "execution_count": 40,
   "id": "31369dfc",
   "metadata": {},
   "outputs": [
    {
     "data": {
      "text/plain": [
       "'Moose'"
      ]
     },
     "execution_count": 40,
     "metadata": {},
     "output_type": "execute_result"
    }
   ],
   "source": [
    "# Using the random.choice() and random.shuffle() Functions with Lists\n",
    "import random\n",
    "pets = ['Dog', 'Cat', 'Moose']\n",
    "random.choice(pets)    #randomly selects the items in the List"
   ]
  },
  {
   "cell_type": "code",
   "execution_count": 52,
   "id": "a593ff98",
   "metadata": {},
   "outputs": [],
   "source": [
    "# random.shuffle modifies the list in place, rathr than returning a new list\n",
    "import random\n",
    "people = ['Arham', 'Azlan', 'Faraz', 'Urwa']\n",
    "random.shuffle(people)    #reorder the items in a list"
   ]
  },
  {
   "cell_type": "code",
   "execution_count": 53,
   "id": "ce032fba",
   "metadata": {},
   "outputs": [
    {
     "data": {
      "text/plain": [
       "['Arham', 'Urwa', 'Faraz', 'Azlan']"
      ]
     },
     "execution_count": 53,
     "metadata": {},
     "output_type": "execute_result"
    }
   ],
   "source": [
    "people"
   ]
  },
  {
   "cell_type": "code",
   "execution_count": 1,
   "id": "b7e50171",
   "metadata": {},
   "outputs": [],
   "source": [
    "# Augmented Assignment Operators\n",
    "bam = 50\n",
    "bam = bam + 1"
   ]
  },
  {
   "cell_type": "code",
   "execution_count": 2,
   "id": "3387be51",
   "metadata": {},
   "outputs": [
    {
     "data": {
      "text/plain": [
       "51"
      ]
     },
     "execution_count": 2,
     "metadata": {},
     "output_type": "execute_result"
    }
   ],
   "source": [
    "bam"
   ]
  },
  {
   "cell_type": "code",
   "execution_count": 3,
   "id": "deb6dbc1",
   "metadata": {},
   "outputs": [],
   "source": [
    "bam = 50\n",
    "bam += 1"
   ]
  },
  {
   "cell_type": "code",
   "execution_count": 4,
   "id": "7bcc232b",
   "metadata": {},
   "outputs": [
    {
     "data": {
      "text/plain": [
       "51"
      ]
     },
     "execution_count": 4,
     "metadata": {},
     "output_type": "execute_result"
    }
   ],
   "source": [
    "bam"
   ]
  },
  {
   "cell_type": "code",
   "execution_count": 5,
   "id": "33848dce",
   "metadata": {},
   "outputs": [],
   "source": [
    "bam = 'Hello'   # += operator can also do string and list concatenation\n",
    "bam += ' world!'"
   ]
  },
  {
   "cell_type": "code",
   "execution_count": 6,
   "id": "cb4df20d",
   "metadata": {},
   "outputs": [
    {
     "data": {
      "text/plain": [
       "'Hello world!'"
      ]
     },
     "execution_count": 6,
     "metadata": {},
     "output_type": "execute_result"
    }
   ],
   "source": [
    "bam"
   ]
  },
  {
   "cell_type": "code",
   "execution_count": 9,
   "id": "231d4d5f",
   "metadata": {},
   "outputs": [],
   "source": [
    "bacon = ['isbella']  # *= operator can do string and list replication\n",
    "bacon *= 4"
   ]
  },
  {
   "cell_type": "code",
   "execution_count": 10,
   "id": "7863a60f",
   "metadata": {},
   "outputs": [
    {
     "data": {
      "text/plain": [
       "['isbella', 'isbella', 'isbella', 'isbella']"
      ]
     },
     "execution_count": 10,
     "metadata": {},
     "output_type": "execute_result"
    }
   ],
   "source": [
    "bacon"
   ]
  },
  {
   "cell_type": "code",
   "execution_count": 15,
   "id": "c1738392",
   "metadata": {},
   "outputs": [
    {
     "data": {
      "text/plain": [
       "3"
      ]
     },
     "execution_count": 15,
     "metadata": {},
     "output_type": "execute_result"
    }
   ],
   "source": [
    "# Methods\n",
    "# Finding a value in a list with the index() Method\n",
    "bam = ['you', 'how', 'who', 'hey']\n",
    "bam.index('hey')"
   ]
  },
  {
   "cell_type": "code",
   "execution_count": 16,
   "id": "5b29905a",
   "metadata": {},
   "outputs": [
    {
     "data": {
      "text/plain": [
       "1"
      ]
     },
     "execution_count": 16,
     "metadata": {},
     "output_type": "execute_result"
    }
   ],
   "source": [
    "bam.index('how')"
   ]
  },
  {
   "cell_type": "code",
   "execution_count": 18,
   "id": "70d76d80",
   "metadata": {},
   "outputs": [
    {
     "ename": "TypeError",
     "evalue": "slice indices must be integers or have an __index__ method",
     "output_type": "error",
     "traceback": [
      "\u001b[1;31m---------------------------------------------------------------------------\u001b[0m",
      "\u001b[1;31mTypeError\u001b[0m                                 Traceback (most recent call last)",
      "Input \u001b[1;32mIn [18]\u001b[0m, in \u001b[0;36m<cell line: 1>\u001b[1;34m()\u001b[0m\n\u001b[1;32m----> 1\u001b[0m \u001b[43mbam\u001b[49m\u001b[38;5;241;43m.\u001b[39;49m\u001b[43mindex\u001b[49m\u001b[43m(\u001b[49m\u001b[38;5;124;43m'\u001b[39;49m\u001b[38;5;124;43mhow\u001b[39;49m\u001b[38;5;124;43m'\u001b[39;49m\u001b[43m,\u001b[49m\u001b[43m \u001b[49m\u001b[38;5;124;43m'\u001b[39;49m\u001b[38;5;124;43mhow\u001b[39;49m\u001b[38;5;124;43m'\u001b[39;49m\u001b[43m,\u001b[49m\u001b[43m \u001b[49m\u001b[38;5;124;43m'\u001b[39;49m\u001b[38;5;124;43mhow\u001b[39;49m\u001b[38;5;124;43m'\u001b[39;49m\u001b[43m)\u001b[49m\n",
      "\u001b[1;31mTypeError\u001b[0m: slice indices must be integers or have an __index__ method"
     ]
    }
   ],
   "source": [
    "bam.index('how', 'how', 'how')  #ERROR"
   ]
  },
  {
   "cell_type": "code",
   "execution_count": 20,
   "id": "e2086bdc",
   "metadata": {},
   "outputs": [
    {
     "data": {
      "text/plain": [
       "0"
      ]
     },
     "execution_count": 20,
     "metadata": {},
     "output_type": "execute_result"
    }
   ],
   "source": [
    "# When there is a duplicate in of the value in the list, the index of t its first appearance is returned\n",
    "bam = ['Isbella', 'Monica', 'Isbella', 'Sweeti']\n",
    "bam.index('Isbella')"
   ]
  },
  {
   "cell_type": "code",
   "execution_count": 21,
   "id": "9ad1ad3b",
   "metadata": {},
   "outputs": [],
   "source": [
    "# Adding Values to Lists with the append() and insert Methods\n",
    "bam = ['lion', 'goat', 'dove']\n",
    "bam.append('bufflo')  # adds the argument at the end of the list"
   ]
  },
  {
   "cell_type": "code",
   "execution_count": 22,
   "id": "16867fa9",
   "metadata": {},
   "outputs": [
    {
     "data": {
      "text/plain": [
       "['lion', 'goat', 'dove', 'bufflo']"
      ]
     },
     "execution_count": 22,
     "metadata": {},
     "output_type": "execute_result"
    }
   ],
   "source": [
    "bam"
   ]
  },
  {
   "cell_type": "code",
   "execution_count": 27,
   "id": "a2806218",
   "metadata": {},
   "outputs": [],
   "source": [
    "# Methods belong to a single data type. append() and insert() are list Method\n",
    "bam = ['lion', 'goat', 'dove']\n",
    "bam.insert(1, 'cat')  #it can insert a value at any value index"
   ]
  },
  {
   "cell_type": "code",
   "execution_count": 28,
   "id": "39566de9",
   "metadata": {},
   "outputs": [
    {
     "data": {
      "text/plain": [
       "['lion', 'cat', 'goat', 'dove']"
      ]
     },
     "execution_count": 28,
     "metadata": {},
     "output_type": "execute_result"
    }
   ],
   "source": [
    "bam"
   ]
  },
  {
   "cell_type": "code",
   "execution_count": 29,
   "id": "dafb906e",
   "metadata": {},
   "outputs": [
    {
     "ename": "AttributeError",
     "evalue": "'str' object has no attribute 'append'",
     "output_type": "error",
     "traceback": [
      "\u001b[1;31m---------------------------------------------------------------------------\u001b[0m",
      "\u001b[1;31mAttributeError\u001b[0m                            Traceback (most recent call last)",
      "Input \u001b[1;32mIn [29]\u001b[0m, in \u001b[0;36m<cell line: 2>\u001b[1;34m()\u001b[0m\n\u001b[0;32m      1\u001b[0m eggs \u001b[38;5;241m=\u001b[39m \u001b[38;5;124m'\u001b[39m\u001b[38;5;124mhello\u001b[39m\u001b[38;5;124m'\u001b[39m\n\u001b[1;32m----> 2\u001b[0m \u001b[43meggs\u001b[49m\u001b[38;5;241;43m.\u001b[39;49m\u001b[43mappend\u001b[49m(\u001b[38;5;124m'\u001b[39m\u001b[38;5;124mworld\u001b[39m\u001b[38;5;124m'\u001b[39m)\n",
      "\u001b[1;31mAttributeError\u001b[0m: 'str' object has no attribute 'append'"
     ]
    }
   ],
   "source": [
    "eggs = 'hello'\n",
    "eggs.append('world')  #ERROR: because its list Method"
   ]
  },
  {
   "cell_type": "code",
   "execution_count": 30,
   "id": "889e8f95",
   "metadata": {},
   "outputs": [
    {
     "ename": "AttributeError",
     "evalue": "'int' object has no attribute 'insert'",
     "output_type": "error",
     "traceback": [
      "\u001b[1;31m---------------------------------------------------------------------------\u001b[0m",
      "\u001b[1;31mAttributeError\u001b[0m                            Traceback (most recent call last)",
      "Input \u001b[1;32mIn [30]\u001b[0m, in \u001b[0;36m<cell line: 2>\u001b[1;34m()\u001b[0m\n\u001b[0;32m      1\u001b[0m becon \u001b[38;5;241m=\u001b[39m \u001b[38;5;241m50\u001b[39m\n\u001b[1;32m----> 2\u001b[0m \u001b[43mbecon\u001b[49m\u001b[38;5;241;43m.\u001b[39;49m\u001b[43minsert\u001b[49m(\u001b[38;5;241m1\u001b[39m, \u001b[38;5;124m'\u001b[39m\u001b[38;5;124mworld\u001b[39m\u001b[38;5;124m'\u001b[39m)\n",
      "\u001b[1;31mAttributeError\u001b[0m: 'int' object has no attribute 'insert'"
     ]
    }
   ],
   "source": [
    "becon = 50\n",
    "becon.insert(1, 'world') #ERROR: CAUSE its list Mehod"
   ]
  },
  {
   "cell_type": "code",
   "execution_count": 32,
   "id": "a08ed60e",
   "metadata": {},
   "outputs": [],
   "source": [
    "# Removing Values from Lists with the remove() Method\n",
    "bam = ['lion', 'goat', 'dog', 'cow']\n",
    "bam.remove('goat')"
   ]
  },
  {
   "cell_type": "code",
   "execution_count": 33,
   "id": "85a9aae9",
   "metadata": {},
   "outputs": [
    {
     "data": {
      "text/plain": [
       "['lion', 'dog', 'cow']"
      ]
     },
     "execution_count": 33,
     "metadata": {},
     "output_type": "execute_result"
    }
   ],
   "source": [
    "bam"
   ]
  },
  {
   "cell_type": "code",
   "execution_count": 34,
   "id": "601385ac",
   "metadata": {},
   "outputs": [
    {
     "ename": "ValueError",
     "evalue": "list.remove(x): x not in list",
     "output_type": "error",
     "traceback": [
      "\u001b[1;31m---------------------------------------------------------------------------\u001b[0m",
      "\u001b[1;31mValueError\u001b[0m                                Traceback (most recent call last)",
      "Input \u001b[1;32mIn [34]\u001b[0m, in \u001b[0;36m<cell line: 3>\u001b[1;34m()\u001b[0m\n\u001b[0;32m      1\u001b[0m \u001b[38;5;66;03m# Attempting to delete a value that does not exist in the list will result in a ValueError\u001b[39;00m\n\u001b[0;32m      2\u001b[0m bam \u001b[38;5;241m=\u001b[39m [\u001b[38;5;124m'\u001b[39m\u001b[38;5;124mlion\u001b[39m\u001b[38;5;124m'\u001b[39m, \u001b[38;5;124m'\u001b[39m\u001b[38;5;124mdove\u001b[39m\u001b[38;5;124m'\u001b[39m, \u001b[38;5;124m'\u001b[39m\u001b[38;5;124mcow\u001b[39m\u001b[38;5;124m'\u001b[39m, \u001b[38;5;124m'\u001b[39m\u001b[38;5;124mdove\u001b[39m\u001b[38;5;124m'\u001b[39m]\n\u001b[1;32m----> 3\u001b[0m \u001b[43mbam\u001b[49m\u001b[38;5;241;43m.\u001b[39;49m\u001b[43mremove\u001b[49m\u001b[43m(\u001b[49m\u001b[38;5;124;43m'\u001b[39;49m\u001b[38;5;124;43mgoat\u001b[39;49m\u001b[38;5;124;43m'\u001b[39;49m\u001b[43m)\u001b[49m\n",
      "\u001b[1;31mValueError\u001b[0m: list.remove(x): x not in list"
     ]
    }
   ],
   "source": [
    "# Attempting to delete a value that does not exist in the list will result in a ValueError\n",
    "bam = ['lion', 'dove', 'cow', 'dove']\n",
    "bam.remove('goat')  #ERROR"
   ]
  },
  {
   "cell_type": "code",
   "execution_count": 39,
   "id": "eac6f03f",
   "metadata": {},
   "outputs": [],
   "source": [
    "# if the value appears multiple times in the list, only the first instance of the value will be removed \n",
    "# del statement is good to use when you know the index of the value you want to remove from the list\n",
    "# remove() method is useful when you know the value you want to remove from the list\n",
    "bam = ['lion', 'goat', 'cat', 'dog', 'lion']\n",
    "bam.remove('lion')"
   ]
  },
  {
   "cell_type": "code",
   "execution_count": 40,
   "id": "9ec57b35",
   "metadata": {},
   "outputs": [
    {
     "data": {
      "text/plain": [
       "['goat', 'cat', 'dog', 'lion']"
      ]
     },
     "execution_count": 40,
     "metadata": {},
     "output_type": "execute_result"
    }
   ],
   "source": [
    "bam"
   ]
  },
  {
   "cell_type": "code",
   "execution_count": 1,
   "id": "832761da",
   "metadata": {},
   "outputs": [],
   "source": [
    "# Sortiing the Values in al list with the sort() Method\n",
    "bam = [3, 8, 4.23, -6]\n",
    "bam.sort()"
   ]
  },
  {
   "cell_type": "code",
   "execution_count": 2,
   "id": "e576582f",
   "metadata": {},
   "outputs": [
    {
     "data": {
      "text/plain": [
       "[-6, 3, 4.23, 8]"
      ]
     },
     "execution_count": 2,
     "metadata": {},
     "output_type": "execute_result"
    }
   ],
   "source": [
    "bam"
   ]
  },
  {
   "cell_type": "code",
   "execution_count": 3,
   "id": "f1d572cb",
   "metadata": {},
   "outputs": [],
   "source": [
    "bam = ['horse', 'ants', 'scorpio', 'elephent']\n",
    "bam.sort()"
   ]
  },
  {
   "cell_type": "code",
   "execution_count": 4,
   "id": "b3bca897",
   "metadata": {},
   "outputs": [
    {
     "data": {
      "text/plain": [
       "['ants', 'elephent', 'horse', 'scorpio']"
      ]
     },
     "execution_count": 4,
     "metadata": {},
     "output_type": "execute_result"
    }
   ],
   "source": [
    "bam"
   ]
  },
  {
   "cell_type": "code",
   "execution_count": 6,
   "id": "a8351857",
   "metadata": {},
   "outputs": [],
   "source": [
    "bam.sort(reverse = True)"
   ]
  },
  {
   "cell_type": "code",
   "execution_count": 7,
   "id": "5d535a79",
   "metadata": {},
   "outputs": [
    {
     "data": {
      "text/plain": [
       "['scorpio', 'horse', 'elephent', 'ants']"
      ]
     },
     "execution_count": 7,
     "metadata": {},
     "output_type": "execute_result"
    }
   ],
   "source": [
    "bam"
   ]
  },
  {
   "cell_type": "code",
   "execution_count": 8,
   "id": "1820249a",
   "metadata": {},
   "outputs": [
    {
     "ename": "TypeError",
     "evalue": "'<' not supported between instances of 'str' and 'int'",
     "output_type": "error",
     "traceback": [
      "\u001b[1;31m---------------------------------------------------------------------------\u001b[0m",
      "\u001b[1;31mTypeError\u001b[0m                                 Traceback (most recent call last)",
      "Input \u001b[1;32mIn [8]\u001b[0m, in \u001b[0;36m<cell line: 2>\u001b[1;34m()\u001b[0m\n\u001b[0;32m      1\u001b[0m bam \u001b[38;5;241m=\u001b[39m [\u001b[38;5;241m1\u001b[39m, \u001b[38;5;241m3\u001b[39m, \u001b[38;5;241m2\u001b[39m, \u001b[38;5;241m4\u001b[39m, \u001b[38;5;124m'\u001b[39m\u001b[38;5;124mAli\u001b[39m\u001b[38;5;124m'\u001b[39m, \u001b[38;5;124m'\u001b[39m\u001b[38;5;124mBobby\u001b[39m\u001b[38;5;124m'\u001b[39m]\n\u001b[1;32m----> 2\u001b[0m \u001b[43mbam\u001b[49m\u001b[38;5;241;43m.\u001b[39;49m\u001b[43msort\u001b[49m\u001b[43m(\u001b[49m\u001b[43m)\u001b[49m\n",
      "\u001b[1;31mTypeError\u001b[0m: '<' not supported between instances of 'str' and 'int'"
     ]
    }
   ],
   "source": [
    "# don't mix a numbers and strings otherwhise you get an errror\n",
    "\n",
    "bam = [1, 3, 2, 4, 'Ali', 'Bobby']\n",
    "bam.sort()  #TypeError"
   ]
  },
  {
   "cell_type": "code",
   "execution_count": 9,
   "id": "5cf183c6",
   "metadata": {},
   "outputs": [],
   "source": [
    "bam = ['Ali', 'ali', 'Bobby', 'bobby', 'Carol', 'carol']\n",
    "bam.sort()"
   ]
  },
  {
   "cell_type": "code",
   "execution_count": 10,
   "id": "4248cba2",
   "metadata": {},
   "outputs": [
    {
     "data": {
      "text/plain": [
       "['Ali', 'Bobby', 'Carol', 'ali', 'bobby', 'carol']"
      ]
     },
     "execution_count": 10,
     "metadata": {},
     "output_type": "execute_result"
    }
   ],
   "source": [
    "bam"
   ]
  },
  {
   "cell_type": "code",
   "execution_count": 11,
   "id": "8550d5ff",
   "metadata": {},
   "outputs": [],
   "source": [
    "bam = ['a', 'z', 'A', 'Z']\n",
    "bam.sort(key=str.lower)"
   ]
  },
  {
   "cell_type": "code",
   "execution_count": 12,
   "id": "7f954018",
   "metadata": {},
   "outputs": [
    {
     "data": {
      "text/plain": [
       "['a', 'A', 'z', 'Z']"
      ]
     },
     "execution_count": 12,
     "metadata": {},
     "output_type": "execute_result"
    }
   ],
   "source": [
    "bam"
   ]
  },
  {
   "cell_type": "code",
   "execution_count": 15,
   "id": "44c5aa85",
   "metadata": {},
   "outputs": [],
   "source": [
    "# Exceptions To indedttation Rules in Python\n",
    "# you can also write list this way\n",
    "bam = ['strawberry', \n",
    "    'watermelon',\n",
    "                        'mango',\n",
    "'fox']    #python knows list is not finished until it sees the ending square bracket\n",
    "\n"
   ]
  },
  {
   "cell_type": "code",
   "execution_count": 16,
   "id": "a4274c1e",
   "metadata": {},
   "outputs": [
    {
     "data": {
      "text/plain": [
       "['strawberry', 'watermelon', 'mango', 'fox']"
      ]
     },
     "execution_count": 16,
     "metadata": {},
     "output_type": "execute_result"
    }
   ],
   "source": [
    "bam"
   ]
  },
  {
   "cell_type": "code",
   "execution_count": 18,
   "id": "8bfb1b0f",
   "metadata": {},
   "outputs": [
    {
     "name": "stdout",
     "output_type": "stream",
     "text": [
      "Four score and seven years ago ... that is great\n"
     ]
    }
   ],
   "source": [
    "print('Four score and seven ' + \\\n",
    "     'years ago ... ' + \\\n",
    "                           'that is great')"
   ]
  },
  {
   "cell_type": "code",
   "execution_count": 22,
   "id": "1994e2bc",
   "metadata": {},
   "outputs": [
    {
     "name": "stdout",
     "output_type": "stream",
     "text": [
      "It is decidedly so\n"
     ]
    }
   ],
   "source": [
    "# Example Program: Magic 8 Ball with a List\n",
    "import random\n",
    "\n",
    "messages = ['It is certain', \n",
    "    'It is decidedly so',\n",
    "    'Yes definitely',\n",
    "    'Reply hazy try again',\n",
    "    'Ask again later',\n",
    "    'concentrate and ask again',\n",
    "    'My reply is no',\n",
    "    'outlook not so good',\n",
    "    'very doubtful']\n",
    "print(messages[random.randint(0, len(messages) - 1)])"
   ]
  },
  {
   "cell_type": "code",
   "execution_count": 23,
   "id": "c1327ee5",
   "metadata": {},
   "outputs": [
    {
     "data": {
      "text/plain": [
       "'I'"
      ]
     },
     "execution_count": 23,
     "metadata": {},
     "output_type": "execute_result"
    }
   ],
   "source": [
    "# Sequence Data Types\n",
    "# Many of the  things you can do with the list you can also do with strings\n",
    "name = 'Isbella'\n",
    "name[0]"
   ]
  },
  {
   "cell_type": "code",
   "execution_count": 24,
   "id": "086c2bc1",
   "metadata": {},
   "outputs": [
    {
     "data": {
      "text/plain": [
       "'l'"
      ]
     },
     "execution_count": 24,
     "metadata": {},
     "output_type": "execute_result"
    }
   ],
   "source": [
    "name[-2]"
   ]
  },
  {
   "cell_type": "code",
   "execution_count": 25,
   "id": "9108f1c7",
   "metadata": {},
   "outputs": [
    {
     "data": {
      "text/plain": [
       "'Isbe'"
      ]
     },
     "execution_count": 25,
     "metadata": {},
     "output_type": "execute_result"
    }
   ],
   "source": [
    "name[0:4]"
   ]
  },
  {
   "cell_type": "code",
   "execution_count": 26,
   "id": "c223ed33",
   "metadata": {},
   "outputs": [
    {
     "data": {
      "text/plain": [
       "True"
      ]
     },
     "execution_count": 26,
     "metadata": {},
     "output_type": "execute_result"
    }
   ],
   "source": [
    "'Is' in name"
   ]
  },
  {
   "cell_type": "code",
   "execution_count": 27,
   "id": "a3bd0c80",
   "metadata": {},
   "outputs": [
    {
     "data": {
      "text/plain": [
       "False"
      ]
     },
     "execution_count": 27,
     "metadata": {},
     "output_type": "execute_result"
    }
   ],
   "source": [
    "'is' in name"
   ]
  },
  {
   "cell_type": "code",
   "execution_count": 28,
   "id": "e456318f",
   "metadata": {},
   "outputs": [
    {
     "data": {
      "text/plain": [
       "False"
      ]
     },
     "execution_count": 28,
     "metadata": {},
     "output_type": "execute_result"
    }
   ],
   "source": [
    "'i' in name"
   ]
  },
  {
   "cell_type": "code",
   "execution_count": 29,
   "id": "944310a1",
   "metadata": {},
   "outputs": [
    {
     "data": {
      "text/plain": [
       "True"
      ]
     },
     "execution_count": 29,
     "metadata": {},
     "output_type": "execute_result"
    }
   ],
   "source": [
    "'p' not in name"
   ]
  },
  {
   "cell_type": "code",
   "execution_count": 31,
   "id": "664ec743",
   "metadata": {},
   "outputs": [
    {
     "data": {
      "text/plain": [
       "False"
      ]
     },
     "execution_count": 31,
     "metadata": {},
     "output_type": "execute_result"
    }
   ],
   "source": [
    "'e' not in name"
   ]
  },
  {
   "cell_type": "code",
   "execution_count": 32,
   "id": "5ebb35c0",
   "metadata": {},
   "outputs": [
    {
     "name": "stdout",
     "output_type": "stream",
     "text": [
      "!!!!! I !!!!!\n",
      "!!!!! s !!!!!\n",
      "!!!!! b !!!!!\n",
      "!!!!! e !!!!!\n",
      "!!!!! l !!!!!\n",
      "!!!!! l !!!!!\n",
      "!!!!! a !!!!!\n"
     ]
    }
   ],
   "source": [
    "for i in name:\n",
    "    print('!!!!! ' + i + ' !!!!!' )"
   ]
  },
  {
   "cell_type": "code",
   "execution_count": 33,
   "id": "c33f3384",
   "metadata": {},
   "outputs": [
    {
     "ename": "SyntaxError",
     "evalue": "invalid syntax (2688068168.py, line 3)",
     "output_type": "error",
     "traceback": [
      "\u001b[1;36m  Input \u001b[1;32mIn [33]\u001b[1;36m\u001b[0m\n\u001b[1;33m    name[9] = 'the    #TypeError': cause string is immutable\u001b[0m\n\u001b[1;37m                                 ^\u001b[0m\n\u001b[1;31mSyntaxError\u001b[0m\u001b[1;31m:\u001b[0m invalid syntax\n"
     ]
    }
   ],
   "source": [
    "# Mutable and Immutable Data Types\n",
    "name = 'Isbella a cat'\n",
    "name[9] = 'the    #TypeError': cause string is immutable"
   ]
  },
  {
   "cell_type": "code",
   "execution_count": 40,
   "id": "bf75473d",
   "metadata": {},
   "outputs": [],
   "source": [
    "# Proper way to mutate a string is slicing and concatenation to buil a new string by copying from parts of the old sring\n",
    "# orignal 'Isbella a cat' string will not be modify, because strings are immutable\n",
    "name = 'Isbella a cat'\n",
    "newName = name[0:8] + 'the' + name[9:14]"
   ]
  },
  {
   "cell_type": "code",
   "execution_count": 41,
   "id": "6f9f1d8f",
   "metadata": {},
   "outputs": [
    {
     "data": {
      "text/plain": [
       "'Isbella a cat'"
      ]
     },
     "execution_count": 41,
     "metadata": {},
     "output_type": "execute_result"
    }
   ],
   "source": [
    "name"
   ]
  },
  {
   "cell_type": "code",
   "execution_count": 42,
   "id": "45aed470",
   "metadata": {},
   "outputs": [
    {
     "data": {
      "text/plain": [
       "'Isbella the cat'"
      ]
     },
     "execution_count": 42,
     "metadata": {},
     "output_type": "execute_result"
    }
   ],
   "source": [
    "newName"
   ]
  },
  {
   "cell_type": "code",
   "execution_count": 43,
   "id": "947e0369",
   "metadata": {},
   "outputs": [],
   "source": [
    "# Although a list value is mutable\n",
    "# The second line in the following code does not modify the list eggs\n",
    "cookies = [2, 3, 4]\n",
    "cookies = [5, 6, 7]   #The list value in cookies isn't changed here; rather , new and different list value([5, 6, 7]) is overwriting the old list value([2, 3, 4])"
   ]
  },
  {
   "cell_type": "code",
   "execution_count": 44,
   "id": "f8dad69b",
   "metadata": {},
   "outputs": [
    {
     "data": {
      "text/plain": [
       "[5, 6, 7]"
      ]
     },
     "execution_count": 44,
     "metadata": {},
     "output_type": "execute_result"
    }
   ],
   "source": [
    "cookies"
   ]
  },
  {
   "cell_type": "code",
   "execution_count": 56,
   "id": "0acb068d",
   "metadata": {},
   "outputs": [],
   "source": [
    "# if wanted to actually modify the original list in cookies to contain [5, 6, 7], do this\n",
    "cookies = [2, 3, 4]\n",
    "del cookies[2]\n",
    "del cookies[1]\n",
    "del cookies[0]\n",
    "cookies.append(5)\n",
    "cookies.append(6)\n",
    "cookies.append(7) #you changed the riginal list"
   ]
  },
  {
   "cell_type": "code",
   "execution_count": 57,
   "id": "be7b26da",
   "metadata": {},
   "outputs": [
    {
     "data": {
      "text/plain": [
       "[5, 6, 7]"
      ]
     },
     "execution_count": 57,
     "metadata": {},
     "output_type": "execute_result"
    }
   ],
   "source": [
    "cookies"
   ]
  },
  {
   "cell_type": "code",
   "execution_count": 58,
   "id": "5a77357c",
   "metadata": {},
   "outputs": [],
   "source": [
    "#You can delete and insert value at the same index\n",
    "del cookies[1]\n",
    "cookies.insert(1, 8)"
   ]
  },
  {
   "cell_type": "code",
   "execution_count": 59,
   "id": "316a699e",
   "metadata": {},
   "outputs": [
    {
     "data": {
      "text/plain": [
       "[5, 8, 7]"
      ]
     },
     "execution_count": 59,
     "metadata": {},
     "output_type": "execute_result"
    }
   ],
   "source": [
    "cookies"
   ]
  },
  {
   "cell_type": "code",
   "execution_count": 64,
   "id": "87b9f529",
   "metadata": {},
   "outputs": [
    {
     "data": {
      "text/plain": [
       "'hello'"
      ]
     },
     "execution_count": 64,
     "metadata": {},
     "output_type": "execute_result"
    }
   ],
   "source": [
    "# The Tuple Data Type\n",
    "cookies = ('hello', 43, 0.9)\n",
    "cookies[0]"
   ]
  },
  {
   "cell_type": "code",
   "execution_count": 65,
   "id": "bc94cabf",
   "metadata": {},
   "outputs": [
    {
     "data": {
      "text/plain": [
       "(43, 0.9)"
      ]
     },
     "execution_count": 65,
     "metadata": {},
     "output_type": "execute_result"
    }
   ],
   "source": [
    "cookies[1:3]"
   ]
  },
  {
   "cell_type": "code",
   "execution_count": 66,
   "id": "eef12f03",
   "metadata": {},
   "outputs": [
    {
     "data": {
      "text/plain": [
       "3"
      ]
     },
     "execution_count": 66,
     "metadata": {},
     "output_type": "execute_result"
    }
   ],
   "source": [
    "len(cookies)"
   ]
  },
  {
   "cell_type": "code",
   "execution_count": 67,
   "id": "a56fde68",
   "metadata": {},
   "outputs": [
    {
     "ename": "TypeError",
     "evalue": "'tuple' object does not support item assignment",
     "output_type": "error",
     "traceback": [
      "\u001b[1;31m---------------------------------------------------------------------------\u001b[0m",
      "\u001b[1;31mTypeError\u001b[0m                                 Traceback (most recent call last)",
      "Input \u001b[1;32mIn [67]\u001b[0m, in \u001b[0;36m<cell line: 2>\u001b[1;34m()\u001b[0m\n\u001b[0;32m      1\u001b[0m \u001b[38;5;124;03m'''Tuple are Immmutable like strings thats whay you can't modifiy, appended, or removed'''\u001b[39;00m\n\u001b[1;32m----> 2\u001b[0m cookies[\u001b[38;5;241m1\u001b[39m] \u001b[38;5;241m=\u001b[39m \u001b[38;5;241m99\u001b[39m\n",
      "\u001b[1;31mTypeError\u001b[0m: 'tuple' object does not support item assignment"
     ]
    }
   ],
   "source": [
    "'''Tuple are Immmutable like strings thats whay you can't modifiy, appended, or removed'''\n",
    "cookies[1] = 99   # TypeError"
   ]
  },
  {
   "cell_type": "code",
   "execution_count": 71,
   "id": "10e67c82",
   "metadata": {},
   "outputs": [
    {
     "data": {
      "text/plain": [
       "tuple"
      ]
     },
     "execution_count": 71,
     "metadata": {},
     "output_type": "execute_result"
    }
   ],
   "source": [
    "'''If you have only one value in your tuple, you can indicate this by placing\n",
    "a trailing sommma after the value inside the parentheses'''\n",
    "\n",
    "type(('hello',))\n"
   ]
  },
  {
   "cell_type": "code",
   "execution_count": 72,
   "id": "3f61b52c",
   "metadata": {},
   "outputs": [
    {
     "data": {
      "text/plain": [
       "str"
      ]
     },
     "execution_count": 72,
     "metadata": {},
     "output_type": "execute_result"
    }
   ],
   "source": [
    "type(('hello'))"
   ]
  },
  {
   "cell_type": "code",
   "execution_count": 74,
   "id": "cab60844",
   "metadata": {},
   "outputs": [
    {
     "data": {
      "text/plain": [
       "list"
      ]
     },
     "execution_count": 74,
     "metadata": {},
     "output_type": "execute_result"
    }
   ],
   "source": [
    "type(['hello',])"
   ]
  },
  {
   "cell_type": "code",
   "execution_count": 75,
   "id": "1e711bcd",
   "metadata": {},
   "outputs": [
    {
     "data": {
      "text/plain": [
       "'42'"
      ]
     },
     "execution_count": 75,
     "metadata": {},
     "output_type": "execute_result"
    }
   ],
   "source": [
    "#Converting Types with the list() and tuple() Function\n",
    "str('42')"
   ]
  },
  {
   "cell_type": "code",
   "execution_count": 76,
   "id": "0d6a75b4",
   "metadata": {},
   "outputs": [
    {
     "data": {
      "text/plain": [
       "('lion', 'deer', 'goat', 'dog')"
      ]
     },
     "execution_count": 76,
     "metadata": {},
     "output_type": "execute_result"
    }
   ],
   "source": [
    "tuple(['lion', 'deer', 'goat', 'dog'])"
   ]
  },
  {
   "cell_type": "code",
   "execution_count": 79,
   "id": "42112010",
   "metadata": {},
   "outputs": [
    {
     "data": {
      "text/plain": [
       "['lion', 'deer', 'goat', 5]"
      ]
     },
     "execution_count": 79,
     "metadata": {},
     "output_type": "execute_result"
    }
   ],
   "source": [
    "list(('lion', 'deer', 'goat', 5))"
   ]
  },
  {
   "cell_type": "code",
   "execution_count": 80,
   "id": "7677a876",
   "metadata": {},
   "outputs": [
    {
     "data": {
      "text/plain": [
       "['h', 'e', 'l', 'l', 'o']"
      ]
     },
     "execution_count": 80,
     "metadata": {},
     "output_type": "execute_result"
    }
   ],
   "source": [
    "list(('hello'))"
   ]
  },
  {
   "cell_type": "code",
   "execution_count": 88,
   "id": "d69910e3",
   "metadata": {},
   "outputs": [
    {
     "data": {
      "text/plain": [
       "42"
      ]
     },
     "execution_count": 88,
     "metadata": {},
     "output_type": "execute_result"
    }
   ],
   "source": [
    "# References\n",
    "spam = 42  #Technically variables are storing references to the copmuter memory where the values are stored\n",
    "# intergers are immutable like strings and tuples\n",
    "cheese = spam\n",
    "spam"
   ]
  },
  {
   "cell_type": "code",
   "execution_count": 89,
   "id": "d10d430f",
   "metadata": {},
   "outputs": [
    {
     "data": {
      "text/plain": [
       "42"
      ]
     },
     "execution_count": 89,
     "metadata": {},
     "output_type": "execute_result"
    }
   ],
   "source": [
    "cheese"
   ]
  },
  {
   "cell_type": "code",
   "execution_count": 92,
   "id": "dc466b2e",
   "metadata": {},
   "outputs": [],
   "source": [
    "spam = 100 # Creating a new value, completly different value in memory"
   ]
  },
  {
   "cell_type": "code",
   "execution_count": 93,
   "id": "de4bb909",
   "metadata": {},
   "outputs": [
    {
     "data": {
      "text/plain": [
       "42"
      ]
     },
     "execution_count": 93,
     "metadata": {},
     "output_type": "execute_result"
    }
   ],
   "source": [
    "cheese"
   ]
  },
  {
   "cell_type": "code",
   "execution_count": 94,
   "id": "4660c243",
   "metadata": {},
   "outputs": [],
   "source": [
    "# But lists don't work this way, because list values can change; that is mutable\n",
    "spam = [0, 1, 2, 3, 4, 5]\n",
    "cheese = spam  #The reference is beign copied, not the list\n",
    "cheese[1] = 'Hello!'  # This changes th list value"
   ]
  },
  {
   "cell_type": "code",
   "execution_count": 95,
   "id": "c010249b",
   "metadata": {},
   "outputs": [
    {
     "data": {
      "text/plain": [
       "[0, 'Hello!', 2, 3, 4, 5]"
      ]
     },
     "execution_count": 95,
     "metadata": {},
     "output_type": "execute_result"
    }
   ],
   "source": [
    "spam"
   ]
  },
  {
   "cell_type": "code",
   "execution_count": 96,
   "id": "271a2601",
   "metadata": {},
   "outputs": [
    {
     "data": {
      "text/plain": [
       "[0, 'Hello!', 2, 3, 4, 5]"
      ]
     },
     "execution_count": 96,
     "metadata": {},
     "output_type": "execute_result"
    }
   ],
   "source": [
    "cheese   # the cheese variable refers to tne same list."
   ]
  },
  {
   "cell_type": "code",
   "execution_count": 100,
   "id": "bb43a75b",
   "metadata": {},
   "outputs": [
    {
     "data": {
      "text/plain": [
       "1682138802352"
      ]
     },
     "execution_count": 100,
     "metadata": {},
     "output_type": "execute_result"
    }
   ],
   "source": [
    "# Identity and the id() Function\n",
    "# id('how'), id creates the 'how' string in the computer memory\n",
    "# 'how' is immutable\n",
    "id('How') #The returned number will be different on yur machine."
   ]
  },
  {
   "cell_type": "code",
   "execution_count": 101,
   "id": "fc9cd540",
   "metadata": {},
   "outputs": [],
   "source": [
    "bacon = 'Hello'"
   ]
  },
  {
   "cell_type": "code",
   "execution_count": 102,
   "id": "0633edeb",
   "metadata": {},
   "outputs": [
    {
     "data": {
      "text/plain": [
       "1682138669104"
      ]
     },
     "execution_count": 102,
     "metadata": {},
     "output_type": "execute_result"
    }
   ],
   "source": [
    "id('Hello')"
   ]
  },
  {
   "cell_type": "code",
   "execution_count": 103,
   "id": "22def4a8",
   "metadata": {},
   "outputs": [],
   "source": [
    "bacon += 'world'  # A new string is made from 'Hello' and 'world!'."
   ]
  },
  {
   "cell_type": "code",
   "execution_count": 104,
   "id": "9eb2b4aa",
   "metadata": {},
   "outputs": [
    {
     "data": {
      "text/plain": [
       "1682139044912"
      ]
     },
     "execution_count": 104,
     "metadata": {},
     "output_type": "execute_result"
    }
   ],
   "source": [
    "id(bacon)  #bacon now refers to a completely different string."
   ]
  },
  {
   "cell_type": "code",
   "execution_count": 105,
   "id": "05eacc6d",
   "metadata": {},
   "outputs": [],
   "source": [
    "# However, lists can be modified because they are mutable objects.\n",
    "\n",
    "cookies = ['lion', 'deer'] #This creats a new list."
   ]
  },
  {
   "cell_type": "code",
   "execution_count": 106,
   "id": "896a5df4",
   "metadata": {},
   "outputs": [
    {
     "data": {
      "text/plain": [
       "1682138718720"
      ]
     },
     "execution_count": 106,
     "metadata": {},
     "output_type": "execute_result"
    }
   ],
   "source": [
    "id(cookies)"
   ]
  },
  {
   "cell_type": "code",
   "execution_count": 111,
   "id": "d676d892",
   "metadata": {},
   "outputs": [],
   "source": [
    "cookies.append('dolphin')  #append() modifies th list \"in place\"."
   ]
  },
  {
   "cell_type": "code",
   "execution_count": 109,
   "id": "1ad8bff1",
   "metadata": {},
   "outputs": [
    {
     "data": {
      "text/plain": [
       "['lion', 'deer', 'dolphin']"
      ]
     },
     "execution_count": 109,
     "metadata": {},
     "output_type": "execute_result"
    }
   ],
   "source": [
    "cookies"
   ]
  },
  {
   "cell_type": "code",
   "execution_count": 110,
   "id": "37a3457c",
   "metadata": {},
   "outputs": [
    {
     "data": {
      "text/plain": [
       "1682138718720"
      ]
     },
     "execution_count": 110,
     "metadata": {},
     "output_type": "execute_result"
    }
   ],
   "source": [
    "id(cookies)  #cookies still refers to the same  list as before."
   ]
  },
  {
   "cell_type": "code",
   "execution_count": 112,
   "id": "5eac0d9b",
   "metadata": {},
   "outputs": [],
   "source": [
    "cookies = ['rat', 'rabbit', 'buffalo'] # This creats a new list,  which has a new identity."
   ]
  },
  {
   "cell_type": "code",
   "execution_count": 113,
   "id": "47a069b8",
   "metadata": {},
   "outputs": [
    {
     "data": {
      "text/plain": [
       "1682138669504"
      ]
     },
     "execution_count": 113,
     "metadata": {},
     "output_type": "execute_result"
    }
   ],
   "source": [
    "id(cookies)  # cookies now refers to a completly different list."
   ]
  },
  {
   "cell_type": "code",
   "execution_count": 114,
   "id": "a9afc3d2",
   "metadata": {},
   "outputs": [
    {
     "name": "stdout",
     "output_type": "stream",
     "text": [
      "[1, 2, 3, 'Hello']\n"
     ]
    }
   ],
   "source": [
    "# Passing References\n",
    "def cookies(someParameter):\n",
    "    someParameter.append('Hello')\n",
    "    \n",
    "    \n",
    "spam = [1, 2, 3]\n",
    "cookies(spam)\n",
    "print(spam)"
   ]
  },
  {
   "cell_type": "code",
   "execution_count": 115,
   "id": "5fd9562e",
   "metadata": {},
   "outputs": [
    {
     "data": {
      "text/plain": [
       "1682138917184"
      ]
     },
     "execution_count": 115,
     "metadata": {},
     "output_type": "execute_result"
    }
   ],
   "source": [
    "# The copy Module's copy() and deepcopy() Functions\n",
    "import copy\n",
    "spam = ['A', 'B', 'C', 'D']\n",
    "id(spam)"
   ]
  },
  {
   "cell_type": "code",
   "execution_count": 116,
   "id": "b37d2c46",
   "metadata": {},
   "outputs": [],
   "source": [
    "cheese = copy.copy(spam)"
   ]
  },
  {
   "cell_type": "code",
   "execution_count": 117,
   "id": "ede0db40",
   "metadata": {},
   "outputs": [
    {
     "data": {
      "text/plain": [
       "1682138699264"
      ]
     },
     "execution_count": 117,
     "metadata": {},
     "output_type": "execute_result"
    }
   ],
   "source": [
    "id(cheese)   #cheese list with different identitiy"
   ]
  },
  {
   "cell_type": "code",
   "execution_count": 118,
   "id": "86a9931e",
   "metadata": {},
   "outputs": [
    {
     "data": {
      "text/plain": [
       "['A', 'B', 'C', 'D']"
      ]
     },
     "execution_count": 118,
     "metadata": {},
     "output_type": "execute_result"
    }
   ],
   "source": [
    "cheese"
   ]
  },
  {
   "cell_type": "code",
   "execution_count": 119,
   "id": "42098508",
   "metadata": {},
   "outputs": [],
   "source": [
    "cheese[1] = 45"
   ]
  },
  {
   "cell_type": "code",
   "execution_count": 120,
   "id": "045a7e0f",
   "metadata": {},
   "outputs": [
    {
     "data": {
      "text/plain": [
       "['A', 'B', 'C', 'D']"
      ]
     },
     "execution_count": 120,
     "metadata": {},
     "output_type": "execute_result"
    }
   ],
   "source": [
    "spam"
   ]
  },
  {
   "cell_type": "code",
   "execution_count": 121,
   "id": "44d69cf2",
   "metadata": {},
   "outputs": [
    {
     "data": {
      "text/plain": [
       "['A', 45, 'C', 'D']"
      ]
     },
     "execution_count": 121,
     "metadata": {},
     "output_type": "execute_result"
    }
   ],
   "source": [
    "cheese"
   ]
  },
  {
   "cell_type": "code",
   "execution_count": 10,
   "id": "ed21198b",
   "metadata": {},
   "outputs": [
    {
     "name": "stdout",
     "output_type": "stream",
     "text": [
      "apples, bananas, tofu, and cats\n"
     ]
    }
   ],
   "source": [
    "# comma code\n",
    "spam = ['apples', 'bananas', 'tofu', 'cats']\n",
    "def list_thing(list):\n",
    "    new_string = ''\n",
    "    for i in list:\n",
    "        new_string = new_string + str(i)\n",
    "        if list.index(i) == (len(list)-2):\n",
    "            new_string = new_string + ', and '\n",
    "        elif list.index(i) == (len(list)-1):\n",
    "                new_string = new_string\n",
    "        else:\n",
    "            new_string = new_string + ', '\n",
    "    return new_string\n",
    "print(list_thing(spam))    "
   ]
  },
  {
   "cell_type": "code",
   "execution_count": 21,
   "id": "33e87733",
   "metadata": {},
   "outputs": [
    {
     "name": "stdout",
     "output_type": "stream",
     "text": [
      "chance of streak: 0.0077%\n"
     ]
    }
   ],
   "source": [
    "# Coin Flip Streaks\n",
    "import random\n",
    "# variable declaration\n",
    "\n",
    "numberOfStreaks = 0 \n",
    "CoinFlip = []\n",
    "streak = 0\n",
    "\n",
    "for experimentNumber in range(10000):\n",
    "    # Code that creates a list of 100 'heads' or 'tail' values.\n",
    "    for i in range(100):\n",
    "        CoinFlip.append(random.randint(0,1))\n",
    "    #does not matter if it is 0 or 1, H or T, peas or lentils. I am going to check if there\n",
    "    \n",
    "    # Code that checks there is streak of 6 heads or tails in row.\n",
    "    for i in range(len(CoinFlip)):\n",
    "            if i==0:\n",
    "                pass\n",
    "            elif CoinFlip[i] == CoinFlip[i-1]: #ckecks if current list item is the same as before\n",
    "                streak += 1\n",
    "            else:\n",
    "                streak = 0\n",
    "            \n",
    "            if streak == 6:\n",
    "                numberOfStreaks += 1\n",
    "    CoinFlip = []\n",
    "print('chance of streak: %s%%' % (numberOfStreaks / (100*10000)))"
   ]
  },
  {
   "cell_type": "code",
   "execution_count": 57,
   "id": "47da744a",
   "metadata": {},
   "outputs": [
    {
     "name": "stdout",
     "output_type": "stream",
     "text": [
      "..OO.OO..\n",
      ".OOOOOOO.\n",
      ".OOOOOOO.\n",
      "..OOOOO..\n",
      "...OOO...\n",
      "....O....\n"
     ]
    }
   ],
   "source": [
    "# character Picture Grid\n",
    "grid = [['.', '.', '.', '.', '.', '.'],\n",
    "        ['.', 'O', 'O', '.', '.', '.'],\n",
    "        ['O', 'O', 'O', 'O', '.', '.'],\n",
    "        ['O', 'O', 'O', 'O', 'O', '.'],\n",
    "        ['.', 'O', 'O', 'O', 'O', 'O'],\n",
    "        ['O', 'O', 'O', 'O', 'O', '.'],\n",
    "        ['O', 'O', 'O', 'O', '.', '.'],\n",
    "        ['.', 'O', 'O', '.', '.', '.'],\n",
    "        ['.', '.', '.', '.', '.', '.']]\n",
    "\n",
    "newString = ''\n",
    "\n",
    "for i in range(len(grid)):\n",
    "    newString += str(grid[i][0])\n",
    "    \n",
    "newString1 = '\\n'\n",
    "for i in range(len(grid)):\n",
    "    newString1 += str(grid[i][1])\n",
    "    \n",
    "newString2 = '\\n'\n",
    "for i in range(len(grid)):\n",
    "    newString2 += str(grid[i][2])\n",
    "    \n",
    "newString3 = '\\n'\n",
    "for i in range(len(grid)):\n",
    "    newString3 += str(grid[i][3])\n",
    "    \n",
    "newString4 = '\\n'\n",
    "for i in range(len(grid)):\n",
    "    newString4 += str(grid[i][4])\n",
    "    \n",
    "newString5 = '\\n'\n",
    "for i in range(len(grid)):\n",
    "    newString5 += str(grid[i][5])\n",
    "    \n",
    "print(newString+newString1+newString2+newString3+newString4+newString5)"
   ]
  },
  {
   "cell_type": "code",
   "execution_count": null,
   "id": "9926209d",
   "metadata": {},
   "outputs": [],
   "source": []
  }
 ],
 "metadata": {
  "kernelspec": {
   "display_name": "Python 3 (ipykernel)",
   "language": "python",
   "name": "python3"
  },
  "language_info": {
   "codemirror_mode": {
    "name": "ipython",
    "version": 3
   },
   "file_extension": ".py",
   "mimetype": "text/x-python",
   "name": "python",
   "nbconvert_exporter": "python",
   "pygments_lexer": "ipython3",
   "version": "3.9.12"
  }
 },
 "nbformat": 4,
 "nbformat_minor": 5
}
