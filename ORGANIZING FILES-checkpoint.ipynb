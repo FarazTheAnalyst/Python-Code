{
 "cells": [
  {
   "cell_type": "code",
   "execution_count": 27,
   "id": "2725363a",
   "metadata": {},
   "outputs": [],
   "source": [
    "# The shutil Module\n",
    "# Copying Files and Folders\n",
    "\n",
    "import shutil, os\n",
    "from pathlib import Path\n",
    "p = Path.home()"
   ]
  },
  {
   "cell_type": "code",
   "execution_count": 28,
   "id": "7646874f",
   "metadata": {},
   "outputs": [
    {
     "data": {
      "text/plain": [
       "WindowsPath('C:/Users/DELL/some_folder')"
      ]
     },
     "execution_count": 28,
     "metadata": {},
     "output_type": "execute_result"
    }
   ],
   "source": [
    "shutil.copy(p/'spam.txt', p/'some_folder')"
   ]
  },
  {
   "cell_type": "code",
   "execution_count": null,
   "id": "71ee5c14",
   "metadata": {},
   "outputs": [],
   "source": []
  },
  {
   "cell_type": "code",
   "execution_count": 22,
   "id": "8e5a7f1f",
   "metadata": {},
   "outputs": [
    {
     "data": {
      "text/plain": [
       "12"
      ]
     },
     "execution_count": 22,
     "metadata": {},
     "output_type": "execute_result"
    }
   ],
   "source": [
    "# The File Reading/Writing Process\n",
    "from pathlib import Path\n",
    "p = Path('eggs.txt')\n",
    "p.write_text('Hello, eggs!')"
   ]
  },
  {
   "cell_type": "code",
   "execution_count": 24,
   "id": "d2315051",
   "metadata": {},
   "outputs": [
    {
     "data": {
      "text/plain": [
       "WindowsPath('C:/Users/DELL')"
      ]
     },
     "execution_count": 24,
     "metadata": {},
     "output_type": "execute_result"
    }
   ],
   "source": [
    "Path.home()"
   ]
  }
 ],
 "metadata": {
  "kernelspec": {
   "display_name": "Python 3 (ipykernel)",
   "language": "python",
   "name": "python3"
  },
  "language_info": {
   "codemirror_mode": {
    "name": "ipython",
    "version": 3
   },
   "file_extension": ".py",
   "mimetype": "text/x-python",
   "name": "python",
   "nbconvert_exporter": "python",
   "pygments_lexer": "ipython3",
   "version": "3.9.12"
  }
 },
 "nbformat": 4,
 "nbformat_minor": 5
}
