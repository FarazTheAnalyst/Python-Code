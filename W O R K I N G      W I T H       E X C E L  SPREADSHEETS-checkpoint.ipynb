{
 "cells": [
  {
   "cell_type": "code",
   "execution_count": 15,
   "id": "e819ae85",
   "metadata": {},
   "outputs": [
    {
     "data": {
      "text/plain": [
       "'C:\\\\Users\\\\Dell'"
      ]
     },
     "execution_count": 15,
     "metadata": {},
     "output_type": "execute_result"
    }
   ],
   "source": [
    "# check current working directory\n",
    "import os\n",
    "os.getcwd()"
   ]
  },
  {
   "cell_type": "code",
   "execution_count": 17,
   "id": "9dc2fc16",
   "metadata": {},
   "outputs": [],
   "source": [
    "# how tho change working directory\n",
    "import os\n",
    "os.chdir('C:\\\\Users\\\\DELL\\\\Documents')"
   ]
  },
  {
   "cell_type": "code",
   "execution_count": 18,
   "id": "8f09ac2e",
   "metadata": {},
   "outputs": [],
   "source": [
    "import openpyxl\n",
    "wb = openpyxl.load_workbook('example.xlsx')"
   ]
  },
  {
   "cell_type": "code",
   "execution_count": 19,
   "id": "27d78ea9",
   "metadata": {},
   "outputs": [
    {
     "data": {
      "text/plain": [
       "openpyxl.workbook.workbook.Workbook"
      ]
     },
     "execution_count": 19,
     "metadata": {},
     "output_type": "execute_result"
    }
   ],
   "source": [
    "type(wb)"
   ]
  },
  {
   "cell_type": "code",
   "execution_count": 20,
   "id": "ede6183b",
   "metadata": {},
   "outputs": [],
   "source": [
    "# Getting Sheets from the Workbook\n",
    "import openpyxl\n",
    "wb = openpyxl.load_workbook('example.xlsx')"
   ]
  },
  {
   "cell_type": "code",
   "execution_count": 22,
   "id": "c1cf4a52",
   "metadata": {},
   "outputs": [
    {
     "data": {
      "text/plain": [
       "['Sheet1', 'Sheet2', 'Sheet3']"
      ]
     },
     "execution_count": 22,
     "metadata": {},
     "output_type": "execute_result"
    }
   ],
   "source": [
    "wb.sheetnames # The workbook's sheets name"
   ]
  },
  {
   "cell_type": "code",
   "execution_count": 23,
   "id": "0ecfd419",
   "metadata": {},
   "outputs": [],
   "source": [
    "sheet = wb['Sheet3']  #Get a sheet from the workbook"
   ]
  },
  {
   "cell_type": "code",
   "execution_count": 24,
   "id": "f0c290f1",
   "metadata": {},
   "outputs": [
    {
     "data": {
      "text/plain": [
       "<Worksheet \"Sheet3\">"
      ]
     },
     "execution_count": 24,
     "metadata": {},
     "output_type": "execute_result"
    }
   ],
   "source": [
    "sheet"
   ]
  },
  {
   "cell_type": "code",
   "execution_count": 25,
   "id": "e8099ae2",
   "metadata": {},
   "outputs": [
    {
     "data": {
      "text/plain": [
       "openpyxl.worksheet.worksheet.Worksheet"
      ]
     },
     "execution_count": 25,
     "metadata": {},
     "output_type": "execute_result"
    }
   ],
   "source": [
    "type(sheet)"
   ]
  },
  {
   "cell_type": "code",
   "execution_count": 26,
   "id": "f1566e15",
   "metadata": {},
   "outputs": [
    {
     "data": {
      "text/plain": [
       "'Sheet3'"
      ]
     },
     "execution_count": 26,
     "metadata": {},
     "output_type": "execute_result"
    }
   ],
   "source": [
    "sheet.title  #Get the sheet's title as a string."
   ]
  },
  {
   "cell_type": "code",
   "execution_count": 32,
   "id": "42149f69",
   "metadata": {},
   "outputs": [],
   "source": [
    "anotherSheet = wb.active  # Get the active sheet."
   ]
  },
  {
   "cell_type": "code",
   "execution_count": 33,
   "id": "fec50b61",
   "metadata": {},
   "outputs": [
    {
     "data": {
      "text/plain": [
       "<Worksheet \"Sheet1\">"
      ]
     },
     "execution_count": 33,
     "metadata": {},
     "output_type": "execute_result"
    }
   ],
   "source": [
    "anotherSheet"
   ]
  },
  {
   "cell_type": "code",
   "execution_count": 35,
   "id": "62a57ac3",
   "metadata": {},
   "outputs": [],
   "source": [
    "# Getting Cells from the Sheets\n",
    "import openpyxl\n",
    "wb = openpyxl.load_workbook('example.xlsx')"
   ]
  },
  {
   "cell_type": "code",
   "execution_count": 36,
   "id": "0a34b954",
   "metadata": {},
   "outputs": [],
   "source": [
    "sheet = wb['Sheet1']  #Get a sheet from the workbook."
   ]
  },
  {
   "cell_type": "code",
   "execution_count": 37,
   "id": "131d0b23",
   "metadata": {},
   "outputs": [
    {
     "data": {
      "text/plain": [
       "<Worksheet \"Sheet1\">"
      ]
     },
     "execution_count": 37,
     "metadata": {},
     "output_type": "execute_result"
    }
   ],
   "source": [
    "sheet"
   ]
  },
  {
   "cell_type": "code",
   "execution_count": 38,
   "id": "d250f720",
   "metadata": {},
   "outputs": [
    {
     "data": {
      "text/plain": [
       "<Cell 'Sheet1'.A1>"
      ]
     },
     "execution_count": 38,
     "metadata": {},
     "output_type": "execute_result"
    }
   ],
   "source": [
    "sheet['A1']  #Get another cell from the sheet."
   ]
  },
  {
   "cell_type": "code",
   "execution_count": 39,
   "id": "159a9b63",
   "metadata": {},
   "outputs": [
    {
     "data": {
      "text/plain": [
       "datetime.datetime(2015, 4, 5, 13, 34, 2)"
      ]
     },
     "execution_count": 39,
     "metadata": {},
     "output_type": "execute_result"
    }
   ],
   "source": [
    "sheet['A1'].value  #Get the value form the cell."
   ]
  },
  {
   "cell_type": "code",
   "execution_count": 40,
   "id": "519bc89e",
   "metadata": {},
   "outputs": [],
   "source": [
    "c = sheet['B1']"
   ]
  },
  {
   "cell_type": "code",
   "execution_count": 41,
   "id": "35021bb2",
   "metadata": {},
   "outputs": [
    {
     "data": {
      "text/plain": [
       "'Apples'"
      ]
     },
     "execution_count": 41,
     "metadata": {},
     "output_type": "execute_result"
    }
   ],
   "source": [
    "c.value"
   ]
  },
  {
   "cell_type": "code",
   "execution_count": 43,
   "id": "9e451dca",
   "metadata": {},
   "outputs": [
    {
     "data": {
      "text/plain": [
       "'Row 1, Column 2 is Apples'"
      ]
     },
     "execution_count": 43,
     "metadata": {},
     "output_type": "execute_result"
    }
   ],
   "source": [
    "# Get the row, column, and value form the cell.\n",
    "'Row %s, Column %s is %s' % (c.row, c.column, c.value)"
   ]
  },
  {
   "cell_type": "code",
   "execution_count": 51,
   "id": "b7bbff47",
   "metadata": {},
   "outputs": [
    {
     "data": {
      "text/plain": [
       "'Cell B1 is Apples'"
      ]
     },
     "execution_count": 51,
     "metadata": {},
     "output_type": "execute_result"
    }
   ],
   "source": [
    "'Cell %s is %s' % (c.coordinate, c.value)"
   ]
  },
  {
   "cell_type": "code",
   "execution_count": 53,
   "id": "e2b1b1a2",
   "metadata": {},
   "outputs": [
    {
     "data": {
      "text/plain": [
       "'Cell B1 is Apples'"
      ]
     },
     "execution_count": 53,
     "metadata": {},
     "output_type": "execute_result"
    }
   ],
   "source": [
    "# alternative of above cell.\n",
    "f'Cell {c.coordinate} is {c.value}'"
   ]
  },
  {
   "cell_type": "code",
   "execution_count": 54,
   "id": "9093a13a",
   "metadata": {},
   "outputs": [],
   "source": [
    "d = sheet['C1'].value"
   ]
  },
  {
   "cell_type": "code",
   "execution_count": 55,
   "id": "2b0c8945",
   "metadata": {},
   "outputs": [
    {
     "data": {
      "text/plain": [
       "73"
      ]
     },
     "execution_count": 55,
     "metadata": {},
     "output_type": "execute_result"
    }
   ],
   "source": [
    "d"
   ]
  },
  {
   "cell_type": "code",
   "execution_count": 56,
   "id": "18da6e80",
   "metadata": {},
   "outputs": [
    {
     "data": {
      "text/plain": [
       "<Cell 'Sheet1'.B1>"
      ]
     },
     "execution_count": 56,
     "metadata": {},
     "output_type": "execute_result"
    }
   ],
   "source": [
    "# Using the sheet.cell Method and passing intergers for its row and column arguments.\n",
    "\n",
    "sheet.cell(row = 1, column = 2)"
   ]
  },
  {
   "cell_type": "code",
   "execution_count": 57,
   "id": "dfce3c79",
   "metadata": {},
   "outputs": [
    {
     "data": {
      "text/plain": [
       "'Apples'"
      ]
     },
     "execution_count": 57,
     "metadata": {},
     "output_type": "execute_result"
    }
   ],
   "source": [
    "sheet.cell(row = 1, column = 2).value"
   ]
  },
  {
   "cell_type": "code",
   "execution_count": 58,
   "id": "4468f145",
   "metadata": {},
   "outputs": [
    {
     "name": "stdout",
     "output_type": "stream",
     "text": [
      "1 Apples\n",
      "3 Pears\n",
      "5 Apples\n",
      "7 Strawberries\n"
     ]
    }
   ],
   "source": [
    "for i in range(1, 8, 2):   #Go through every other rwo.\n",
    "    print(i, sheet.cell(row = i, column = 2).value)"
   ]
  },
  {
   "cell_type": "code",
   "execution_count": 59,
   "id": "b0aaf172",
   "metadata": {},
   "outputs": [],
   "source": [
    "# You can determine the size of the sheet with the Worksheet objects's max_row and max_column attributes.\n",
    "\n",
    "import openpyxl\n",
    "wb = openpyxl.load_workbook('example.xlsx')\n",
    "sheet = wb['Sheet1']"
   ]
  },
  {
   "cell_type": "code",
   "execution_count": 60,
   "id": "bc1af47e",
   "metadata": {},
   "outputs": [
    {
     "data": {
      "text/plain": [
       "7"
      ]
     },
     "execution_count": 60,
     "metadata": {},
     "output_type": "execute_result"
    }
   ],
   "source": [
    "sheet.max_row  # Get the highest row number."
   ]
  },
  {
   "cell_type": "code",
   "execution_count": 61,
   "id": "b00ff634",
   "metadata": {},
   "outputs": [
    {
     "data": {
      "text/plain": [
       "3"
      ]
     },
     "execution_count": 61,
     "metadata": {},
     "output_type": "execute_result"
    }
   ],
   "source": [
    "sheet.max_column  # Gets the highest column number."
   ]
  },
  {
   "cell_type": "code",
   "execution_count": 76,
   "id": "be658744",
   "metadata": {},
   "outputs": [
    {
     "data": {
      "text/plain": [
       "'A'"
      ]
     },
     "execution_count": 76,
     "metadata": {},
     "output_type": "execute_result"
    }
   ],
   "source": [
    "# Converitng Between Column Letters and Numbers\n",
    "\n",
    "import openpyxl\n",
    "from openpyxl.utils import get_column_letter, column_index_from_string\n",
    "get_column_letter(1)  # Translate column 1 to a letter."
   ]
  },
  {
   "cell_type": "code",
   "execution_count": 64,
   "id": "f40834d9",
   "metadata": {},
   "outputs": [
    {
     "data": {
      "text/plain": [
       "'B'"
      ]
     },
     "execution_count": 64,
     "metadata": {},
     "output_type": "execute_result"
    }
   ],
   "source": [
    "get_column_letter(2)"
   ]
  },
  {
   "cell_type": "code",
   "execution_count": 66,
   "id": "37987eef",
   "metadata": {},
   "outputs": [
    {
     "data": {
      "text/plain": [
       "'AA'"
      ]
     },
     "execution_count": 66,
     "metadata": {},
     "output_type": "execute_result"
    }
   ],
   "source": [
    "get_column_letter(27)"
   ]
  },
  {
   "cell_type": "code",
   "execution_count": 67,
   "id": "de82ef42",
   "metadata": {},
   "outputs": [
    {
     "data": {
      "text/plain": [
       "'CV'"
      ]
     },
     "execution_count": 67,
     "metadata": {},
     "output_type": "execute_result"
    }
   ],
   "source": [
    "get_column_letter(100)"
   ]
  },
  {
   "cell_type": "code",
   "execution_count": 72,
   "id": "3baf1d37",
   "metadata": {},
   "outputs": [
    {
     "data": {
      "text/plain": [
       "'ADT'"
      ]
     },
     "execution_count": 72,
     "metadata": {},
     "output_type": "execute_result"
    }
   ],
   "source": [
    "get_column_letter(800)"
   ]
  },
  {
   "cell_type": "code",
   "execution_count": 79,
   "id": "66bce150",
   "metadata": {},
   "outputs": [],
   "source": [
    "wb = openpyxl.load_workbook('example.xlsx')"
   ]
  },
  {
   "cell_type": "code",
   "execution_count": 80,
   "id": "b7a6bcaa",
   "metadata": {},
   "outputs": [],
   "source": [
    "sheet = wb['Sheet1']"
   ]
  },
  {
   "cell_type": "code",
   "execution_count": 82,
   "id": "6329ff5b",
   "metadata": {},
   "outputs": [
    {
     "data": {
      "text/plain": [
       "'C'"
      ]
     },
     "execution_count": 82,
     "metadata": {},
     "output_type": "execute_result"
    }
   ],
   "source": [
    "get_column_letter(sheet.max_column)"
   ]
  },
  {
   "cell_type": "code",
   "execution_count": 86,
   "id": "60f6fd83",
   "metadata": {},
   "outputs": [
    {
     "data": {
      "text/plain": [
       "1"
      ]
     },
     "execution_count": 86,
     "metadata": {},
     "output_type": "execute_result"
    }
   ],
   "source": [
    "column_index_from_string('A')  # Get A's number."
   ]
  },
  {
   "cell_type": "code",
   "execution_count": 87,
   "id": "b25da55e",
   "metadata": {},
   "outputs": [
    {
     "data": {
      "text/plain": [
       "27"
      ]
     },
     "execution_count": 87,
     "metadata": {},
     "output_type": "execute_result"
    }
   ],
   "source": [
    "column_index_from_string('AA')"
   ]
  },
  {
   "cell_type": "code",
   "execution_count": 88,
   "id": "d240a65e",
   "metadata": {},
   "outputs": [
    {
     "data": {
      "text/plain": [
       "800"
      ]
     },
     "execution_count": 88,
     "metadata": {},
     "output_type": "execute_result"
    }
   ],
   "source": [
    "column_index_from_string('ADT')"
   ]
  },
  {
   "cell_type": "code",
   "execution_count": 90,
   "id": "566a5119",
   "metadata": {},
   "outputs": [],
   "source": [
    "# Getting Rows and Columns from the Sheets\n",
    "\n",
    "import openpyxl\n",
    "wb = openpyxl.load_workbook('example.xlsx')"
   ]
  },
  {
   "cell_type": "code",
   "execution_count": 91,
   "id": "5d5aa566",
   "metadata": {},
   "outputs": [],
   "source": [
    "sheet = wb['Sheet1']"
   ]
  },
  {
   "cell_type": "code",
   "execution_count": 92,
   "id": "d591a9fa",
   "metadata": {},
   "outputs": [
    {
     "data": {
      "text/plain": [
       "((<Cell 'Sheet1'.A1>, <Cell 'Sheet1'.B1>, <Cell 'Sheet1'.C1>),\n",
       " (<Cell 'Sheet1'.A2>, <Cell 'Sheet1'.B2>, <Cell 'Sheet1'.C2>),\n",
       " (<Cell 'Sheet1'.A3>, <Cell 'Sheet1'.B3>, <Cell 'Sheet1'.C3>))"
      ]
     },
     "execution_count": 92,
     "metadata": {},
     "output_type": "execute_result"
    }
   ],
   "source": [
    "tuple(sheet['A1':'C3'])  #Get all cells from A1 to C3."
   ]
  },
  {
   "cell_type": "code",
   "execution_count": 95,
   "id": "7eb081a2",
   "metadata": {},
   "outputs": [
    {
     "name": "stdout",
     "output_type": "stream",
     "text": [
      "A1 2015-04-05 13:34:02\n",
      "B1 Apples\n",
      "C1 73\n",
      "---END FO ROW---\n",
      "A2 2015-04-05 03:41:23\n",
      "B2 Cherries\n",
      "C2 85\n",
      "---END FO ROW---\n",
      "A3 2015-04-06 12:46:51\n",
      "B3 Pears\n",
      "C3 14\n",
      "---END FO ROW---\n"
     ]
    }
   ],
   "source": [
    "for rowOfCellObjects in sheet['A1':'C3']:\n",
    "    for cellObj in rowOfCellObjects:\n",
    "        print(cellObj.coordinate, cellObj.value)\n",
    "    print('---END FO ROW---')"
   ]
  },
  {
   "cell_type": "code",
   "execution_count": 96,
   "id": "b21bf41c",
   "metadata": {},
   "outputs": [],
   "source": [
    "import openpyxl\n",
    "wb = openpyxl.load_workbook('example.xlsx')"
   ]
  },
  {
   "cell_type": "code",
   "execution_count": 97,
   "id": "6f4b694a",
   "metadata": {},
   "outputs": [],
   "source": [
    "sheet = wb.active"
   ]
  },
  {
   "cell_type": "code",
   "execution_count": 112,
   "id": "dc58fbe5",
   "metadata": {},
   "outputs": [
    {
     "data": {
      "text/plain": [
       "(<Cell 'Sheet1'.B1>,\n",
       " <Cell 'Sheet1'.B2>,\n",
       " <Cell 'Sheet1'.B3>,\n",
       " <Cell 'Sheet1'.B4>,\n",
       " <Cell 'Sheet1'.B5>,\n",
       " <Cell 'Sheet1'.B6>,\n",
       " <Cell 'Sheet1'.B7>)"
      ]
     },
     "execution_count": 112,
     "metadata": {},
     "output_type": "execute_result"
    }
   ],
   "source": [
    "list(sheet.columns)[1]  #Get second  column's cell."
   ]
  },
  {
   "cell_type": "code",
   "execution_count": 113,
   "id": "5bb02126",
   "metadata": {},
   "outputs": [
    {
     "name": "stdout",
     "output_type": "stream",
     "text": [
      "Apples\n",
      "Cherries\n",
      "Pears\n",
      "Oranges\n",
      "Apples\n",
      "Bananas\n",
      "Strawberries\n"
     ]
    }
   ],
   "source": [
    "for cellObj in list(sheet.columns)[1]:\n",
    "    print(cellObj.value)"
   ]
  },
  {
   "cell_type": "code",
   "execution_count": 29,
   "id": "5907d64b",
   "metadata": {},
   "outputs": [
    {
     "name": "stdout",
     "output_type": "stream",
     "text": [
      "opening workbook...\n",
      "Reading rows...\n",
      "Writing results...\n",
      "Done.\n"
     ]
    }
   ],
   "source": [
    "#! python3\n",
    "import openpyxl, pprint\n",
    "print('opening workbook...')\n",
    "wb = openpyxl.load_workbook('censuspopdata.xlsx')\n",
    "sheet = wb['Population by Census Tract']\n",
    "countyData = {}\n",
    "\n",
    "#TODO: Fill in countyData with each count's Population and tracts.\n",
    "print('Reading rows...')\n",
    "for row in range(2, sheet.max_row + 1):\n",
    "    # Each row in the spreadsheet has data for one census tract.\n",
    "    state = sheet['B' + str(row)].value\n",
    "    county = sheet['C' + str(row)].value\n",
    "    pop = sheet['D' + str(row)].value\n",
    "    \n",
    "# TODO: Open a new text file and write the contents of countyData to it\n",
    "    # Make sure the key for this state exists.\n",
    "    countyData.setdefault(state, {})\n",
    "    # Make sure the key for this county in this state exists.\n",
    "    countyData[state].setdefault(county, {'tracts': 0, 'pop': 0})\n",
    "    # Each row represent one census tract, so increment by one.\n",
    "    countyData[state][county]['tracts'] +=1\n",
    "    countyData[state][county]['pop'] += int(pop)\n",
    "    \n",
    "# Open a new text file and write the contents of countyData to it.\n",
    "print('Writing results...')\n",
    "resultFile = open('census2010.py', 'w')\n",
    "resultFile.write('allData = ' + pprint.pformat(countyData))\n",
    "resultFile.close()\n",
    "print('Done.')"
   ]
  },
  {
   "cell_type": "code",
   "execution_count": 30,
   "id": "950066b7",
   "metadata": {},
   "outputs": [
    {
     "data": {
      "text/plain": [
       "{'pop': 291826, 'tracts': 55}"
      ]
     },
     "execution_count": 30,
     "metadata": {},
     "output_type": "execute_result"
    }
   ],
   "source": [
    "# You can import census2010.py just like any other Python module.\n",
    "import os\n",
    "import census2010\n",
    "census2010.allData['AK']['Anchorage']"
   ]
  },
  {
   "cell_type": "code",
   "execution_count": 31,
   "id": "46475df2",
   "metadata": {},
   "outputs": [],
   "source": [
    "anchoragePop = census2010.allData['AK']['Anchorage']['pop']"
   ]
  },
  {
   "cell_type": "code",
   "execution_count": 33,
   "id": "aa5b2209",
   "metadata": {},
   "outputs": [
    {
     "name": "stdout",
     "output_type": "stream",
     "text": [
      "The 2010 populaiton of Anchorage was 291826\n"
     ]
    }
   ],
   "source": [
    "print('The 2010 populaiton of Anchorage was ' + str(anchoragePop))"
   ]
  },
  {
   "cell_type": "code",
   "execution_count": 44,
   "id": "1ba4d030",
   "metadata": {},
   "outputs": [
    {
     "data": {
      "text/plain": [
       "['Sheet']"
      ]
     },
     "execution_count": 44,
     "metadata": {},
     "output_type": "execute_result"
    }
   ],
   "source": [
    "# Create and Saving Excel Documents\n",
    "import openpyxl\n",
    "wb = openpyxl.Workbook() #Create a blank workbook.\n",
    "wb.sheetnames  # It starts with one sheet."
   ]
  },
  {
   "cell_type": "code",
   "execution_count": 37,
   "id": "4be73d4a",
   "metadata": {},
   "outputs": [],
   "source": [
    "sheet = wb.active"
   ]
  },
  {
   "cell_type": "code",
   "execution_count": 38,
   "id": "e8664554",
   "metadata": {},
   "outputs": [
    {
     "data": {
      "text/plain": [
       "'Sheet'"
      ]
     },
     "execution_count": 38,
     "metadata": {},
     "output_type": "execute_result"
    }
   ],
   "source": [
    "sheet.title"
   ]
  },
  {
   "cell_type": "code",
   "execution_count": 39,
   "id": "7233082e",
   "metadata": {},
   "outputs": [],
   "source": [
    "sheet.title = 'Spam Bacon Eggs Sheet'  # Change title"
   ]
  },
  {
   "cell_type": "code",
   "execution_count": 40,
   "id": "58538df5",
   "metadata": {},
   "outputs": [
    {
     "data": {
      "text/plain": [
       "['Spam Bacon Eggs Sheet']"
      ]
     },
     "execution_count": 40,
     "metadata": {},
     "output_type": "execute_result"
    }
   ],
   "source": [
    "wb.sheetnames"
   ]
  },
  {
   "cell_type": "code",
   "execution_count": 47,
   "id": "1a542bd4",
   "metadata": {},
   "outputs": [],
   "source": [
    "import openpyxl\n",
    "wb = openpyxl.load_workbook('example.xlsx')\n",
    "sheet = wb.active\n",
    "sheet.title = 'Spam spam spam'\n",
    "wb.save('example_copy.xlsx')  # Save the worbook."
   ]
  },
  {
   "cell_type": "code",
   "execution_count": 50,
   "id": "bafe6332",
   "metadata": {},
   "outputs": [
    {
     "data": {
      "text/plain": [
       "['Sheet']"
      ]
     },
     "execution_count": 50,
     "metadata": {},
     "output_type": "execute_result"
    }
   ],
   "source": [
    "# Creating and Removing Sheeets\n",
    "import openpyxl\n",
    "wb = openpyxl.Workbook()\n",
    "wb.sheetnames"
   ]
  },
  {
   "cell_type": "code",
   "execution_count": 70,
   "id": "5eccb10f",
   "metadata": {},
   "outputs": [
    {
     "data": {
      "text/plain": [
       "<Worksheet \"Sheet1\">"
      ]
     },
     "execution_count": 70,
     "metadata": {},
     "output_type": "execute_result"
    }
   ],
   "source": [
    "wb.create_sheet()  # Add a new sheet."
   ]
  },
  {
   "cell_type": "code",
   "execution_count": 71,
   "id": "0aa3ed25",
   "metadata": {},
   "outputs": [
    {
     "data": {
      "text/plain": [
       "['First Sheet', 'Sheet', 'Sheet1']"
      ]
     },
     "execution_count": 71,
     "metadata": {},
     "output_type": "execute_result"
    }
   ],
   "source": [
    "wb.sheetnames"
   ]
  },
  {
   "cell_type": "code",
   "execution_count": 72,
   "id": "7ea89344",
   "metadata": {},
   "outputs": [
    {
     "data": {
      "text/plain": [
       "<Worksheet \"First Sheet1\">"
      ]
     },
     "execution_count": 72,
     "metadata": {},
     "output_type": "execute_result"
    }
   ],
   "source": [
    "wb.create_sheet(index=0, title='First Sheet')"
   ]
  },
  {
   "cell_type": "code",
   "execution_count": 73,
   "id": "7e2dac43",
   "metadata": {},
   "outputs": [
    {
     "data": {
      "text/plain": [
       "['First Sheet1', 'First Sheet', 'Sheet', 'Sheet1']"
      ]
     },
     "execution_count": 73,
     "metadata": {},
     "output_type": "execute_result"
    }
   ],
   "source": [
    "wb.sheetnames"
   ]
  },
  {
   "cell_type": "code",
   "execution_count": 74,
   "id": "64afed87",
   "metadata": {},
   "outputs": [
    {
     "data": {
      "text/plain": [
       "<Worksheet \"Middle Sheet\">"
      ]
     },
     "execution_count": 74,
     "metadata": {},
     "output_type": "execute_result"
    }
   ],
   "source": [
    "wb.create_sheet(index=2, title='Middle Sheet')"
   ]
  },
  {
   "cell_type": "code",
   "execution_count": 75,
   "id": "7eb71949",
   "metadata": {},
   "outputs": [
    {
     "data": {
      "text/plain": [
       "['First Sheet1', 'First Sheet', 'Middle Sheet', 'Sheet', 'Sheet1']"
      ]
     },
     "execution_count": 75,
     "metadata": {},
     "output_type": "execute_result"
    }
   ],
   "source": [
    "wb.sheetnames"
   ]
  },
  {
   "cell_type": "code",
   "execution_count": 76,
   "id": "a0aaa42b",
   "metadata": {},
   "outputs": [],
   "source": [
    "del wb['Middle Sheet']\n",
    "del wb['First Sheet']\n",
    "del wb['Sheet1']"
   ]
  },
  {
   "cell_type": "code",
   "execution_count": 77,
   "id": "1481df4c",
   "metadata": {},
   "outputs": [
    {
     "data": {
      "text/plain": [
       "['First Sheet1', 'Sheet']"
      ]
     },
     "execution_count": 77,
     "metadata": {},
     "output_type": "execute_result"
    }
   ],
   "source": [
    "# slways use the save() method to save the changes after adding sheets to or removing sheets form the workbook.\n",
    "wb.sheetnames  "
   ]
  },
  {
   "cell_type": "code",
   "execution_count": 79,
   "id": "e0789322",
   "metadata": {},
   "outputs": [
    {
     "data": {
      "text/plain": [
       "'Hello world!'"
      ]
     },
     "execution_count": 79,
     "metadata": {},
     "output_type": "execute_result"
    }
   ],
   "source": [
    "# Writing Values to Cells\n",
    "import openpyxl\n",
    "wb = openpyxl.Workbook()\n",
    "sheet = wb['Sheet']\n",
    "sheet['A1'] = 'Hello world!' # Edit the cell's value.\n",
    "sheet['A1'].value"
   ]
  },
  {
   "cell_type": "code",
   "execution_count": 80,
   "id": "2d48d938",
   "metadata": {},
   "outputs": [],
   "source": [
    "wb.save('empty.xlsx')"
   ]
  },
  {
   "cell_type": "code",
   "execution_count": 109,
   "id": "a045e21f",
   "metadata": {},
   "outputs": [],
   "source": [
    "# project: Updating a Spreadsheet\n",
    "#! python3\n",
    "# updateProduce.py = Corrects costs in produce sales spreadsheet.\n",
    "\n",
    "import openpyxl\n",
    "wb = openpyxl.load_workbook('produceSales.xlsx')\n",
    "sheet = wb['Sheet']\n",
    "\n",
    "# The produce types and their updated prices\n",
    "PRICE_UPDATES = {'Garlic': 3.07, 'Celery': 1.19, 'Lemon': 1.27}\n",
    "\n",
    "# Loop through the rows and update the prices.\n",
    "for rowNum in range(2, sheet.max_row):  # skip the first row\n",
    "    produceName = sheet.cell(row=rowNum, column=1).value\n",
    "    if produceName in PRICE_UPDATES:\n",
    "        sheet.cell(row=rowNum, column=2).value = PRICE_UPDATES[produceName]\n",
    "        \n",
    "wb.save('updatedProduceSales.xlsx')"
   ]
  },
  {
   "cell_type": "code",
   "execution_count": 5,
   "id": "f2722480",
   "metadata": {},
   "outputs": [],
   "source": [
    "# Setting the Foen Style of cells\n",
    "import openpyxl\n",
    "from openpyxl.styles import Font\n",
    "wb = openpyxl.Workbook()\n",
    "sheet = wb['Sheet']\n",
    "italic24Font = Font(size=24, italic=True)  # Create a Font.\n",
    "sheet['A1'].font = italic24Font  # Apply the font to A1.\n",
    "sheet['A1'] = 'Hello, world!'\n",
    "wb.save('styles.xlsx')"
   ]
  },
  {
   "cell_type": "code",
   "execution_count": 7,
   "id": "091a28fe",
   "metadata": {},
   "outputs": [],
   "source": [
    "# Setting different Font objects\n",
    "import openpyxl\n",
    "from openpyxl.styles import Font\n",
    "wb = openpyxl.Workbook()\n",
    "sheet = wb['Sheet']\n",
    "\n",
    "fontobj1 = Font(name='Times New Roman', bold=True)  # openpyxl default, size 11 is used\n",
    "sheet['A1'].font = fontobj1\n",
    "sheet['A1'] = 'Bold Times New Roamn'\n",
    "\n",
    "fontobj2 = Font(size=24, italic=True)  # openpyxl default, Calibri, is used\n",
    "sheet['B3'].font = fontobj2\n",
    "sheet['B3'] = '24 pt Italic'\n",
    "wb.save('Styles.xlsx')"
   ]
  },
  {
   "cell_type": "code",
   "execution_count": 17,
   "id": "3c27bfc0",
   "metadata": {},
   "outputs": [],
   "source": [
    "# Excel formulas\n",
    "import openpyxl\n",
    "wb = openpyxl.Workbook()\n",
    "sheet = wb.active\n",
    "sheet['A1'] = 200\n",
    "sheet['A2'] = 300\n",
    "sheet['A3'] = '=SUM(A1:A2)'  #Set the formula.\n",
    "wb.save('writeFormula.xlsx')"
   ]
  },
  {
   "cell_type": "code",
   "execution_count": 18,
   "id": "b5a7191a",
   "metadata": {},
   "outputs": [],
   "source": [
    "# Setting Row Height and Column Width\n",
    "# Worksheet objects have row_dimensions and column_dimensions attributes that\n",
    "# contrul row heights and column widths.\n",
    "\n",
    "import openpyxl\n",
    "wb = openpyxl.Workbook()\n",
    "sheet = wb.active\n",
    "sheet['A1'] = 'Tall row'\n",
    "sheet['B2'] = 'Wide column'\n",
    "# set the height and width:\n",
    "sheet.row_dimensions[1].height = 70\n",
    "sheet.column_dimensions['B'].width = 20\n",
    "wb.save('dimensions.xlsx')"
   ]
  },
  {
   "cell_type": "code",
   "execution_count": 23,
   "id": "53478e85",
   "metadata": {},
   "outputs": [],
   "source": [
    "#  Mergning Cells\n",
    "import openpyxl\n",
    "wb = openpyxl.Workbook()\n",
    "sheet = wb.active\n",
    "sheet.merge_cells('A1:E3')  # Merge all these cells.\n",
    "sheet['A1'] = 'Fifteen cells merged together.'\n",
    "sheet.merge_cells('C6:E6')  # Merge these two cells.\n",
    "sheet['C6'] = 'Three merged cells.'\n",
    "wb.save('merged.xlsx')"
   ]
  },
  {
   "cell_type": "code",
   "execution_count": 27,
   "id": "18dad4c4",
   "metadata": {},
   "outputs": [],
   "source": [
    "# Unmerged Cells\n",
    "import openpyxl\n",
    "wb = openpyxl.load_workbook('merged.xlsx')\n",
    "sheet = wb.active\n",
    "sheet.unmerge_cells('A1:E3')  # Split these cells up.\n",
    "sheet.unmerge_cells('C6:E6')\n",
    "wb.save('merged.xlsx')"
   ]
  },
  {
   "cell_type": "code",
   "execution_count": 29,
   "id": "6098151b",
   "metadata": {},
   "outputs": [],
   "source": [
    "# Freezing Panes\n",
    "import openpyxl\n",
    "wb = openpyxl.load_workbook('produceSales.xlsx')\n",
    "sheet = wb.active\n",
    "sheet.freeze_panes = 'A2'  # Freeze the rows above A2. freeze the A1 row.\n",
    "wb.save('freezeExample.xlsx')"
   ]
  },
  {
   "cell_type": "code",
   "execution_count": 41,
   "id": "6ecb01ff",
   "metadata": {},
   "outputs": [],
   "source": [
    "import openpyxl\n",
    "wb = openpyxl.load_workbook('produceSales.xlsx')\n",
    "sheet = wb.active\n",
    "sheet.freeze_panes = 'A2'  # Freeze the rows above A2. freeze the A1 row.\n",
    "wb.save('freezeExample.xlsx')"
   ]
  },
  {
   "cell_type": "code",
   "execution_count": 42,
   "id": "602acc39",
   "metadata": {},
   "outputs": [],
   "source": [
    "import openpyxl\n",
    "wb = openpyxl.load_workbook('produceSales.xlsx')\n",
    "sheet = wb.active\n",
    "sheet.freeze_panes = 'C2'  # Freeze the  ROw1 and columns A and B\n",
    "wb.save('freezeExample.xlsx')"
   ]
  },
  {
   "cell_type": "code",
   "execution_count": 44,
   "id": "89f0095d",
   "metadata": {},
   "outputs": [],
   "source": [
    "import openpyxl\n",
    "wb = openpyxl.load_workbook('produceSales.xlsx')\n",
    "sheet = wb.active\n",
    "sheet.freeze_panes = None\n",
    "wb.save('freezeExample.xlsx')"
   ]
  },
  {
   "cell_type": "code",
   "execution_count": 61,
   "id": "f7dcf6d7",
   "metadata": {},
   "outputs": [],
   "source": [
    "# Adding chart to the Excel sheet\n",
    "import openpyxl\n",
    "wb = openpyxl.Workbook()\n",
    "sheet = wb.active\n",
    "for i in range(1, 11):  # Create some data in column A\n",
    "    sheet['A' + str(i)] = i\n",
    "    \n",
    "refObj = openpyxl.chart.Reference(sheet, min_col=1, min_row=1, max_col=1, max_row=10)\n",
    "seriesObj = openpyxl.chart.Series(refObj, title='First series')\n",
    "\n",
    "chartObj = openpyxl.chart.BarChart()\n",
    "chartObj.title = 'My Chart'\n",
    "chartObj.append(seriesObj)\n",
    "\n",
    "sheet.add_chart(chartObj, 'C5')\n",
    "wb.save('sampleChart.xlsx')"
   ]
  },
  {
   "cell_type": "code",
   "execution_count": 109,
   "id": "7443e797",
   "metadata": {},
   "outputs": [],
   "source": [
    "# Adding chart to the Excel sheet\n",
    "import openpyxl\n",
    "wb = openpyxl.Workbook()\n",
    "sheet = wb.active\n",
    "for i in range(1, 11):  # Create some data in column A\n",
    "    sheet['A' + str(i)] = i\n",
    "\n",
    "for i in range(1, 11):\n",
    "        sheet['B' + str(i)] = i + 19\n",
    "        \n",
    "refObj = openpyxl.chart.Reference(sheet, min_col=2, min_row=1, max_col=2, max_row=10)\n",
    "\n",
    "seriesObj = openpyxl.chart.Series(refObj, title='First series')\n",
    "\n",
    "chartObj = openpyxl.chart.BarChart()\n",
    "chartObj.title = 'My Chart'\n",
    "chartObj.append(seriesObj)\n",
    "\n",
    "sheet.add_chart(chartObj, 'D5')\n",
    "wb.save('sampleChart.xlsx')"
   ]
  },
  {
   "cell_type": "code",
   "execution_count": null,
   "id": "d48e6c11",
   "metadata": {},
   "outputs": [],
   "source": []
  }
 ],
 "metadata": {
  "kernelspec": {
   "display_name": "Python 3 (ipykernel)",
   "language": "python",
   "name": "python3"
  },
  "language_info": {
   "codemirror_mode": {
    "name": "ipython",
    "version": 3
   },
   "file_extension": ".py",
   "mimetype": "text/x-python",
   "name": "python",
   "nbconvert_exporter": "python",
   "pygments_lexer": "ipython3",
   "version": "3.9.12"
  }
 },
 "nbformat": 4,
 "nbformat_minor": 5
}
