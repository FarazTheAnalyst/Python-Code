{
 "cells": [
  {
   "cell_type": "code",
   "execution_count": 3,
   "id": "94fedaff",
   "metadata": {},
   "outputs": [
    {
     "name": "stderr",
     "output_type": "stream",
     "text": [
      "usage: ipykernel_launcher.py [--auth_host_name AUTH_HOST_NAME] [--noauth_local_webserver]\n",
      "                             [--auth_host_port [AUTH_HOST_PORT ...]]\n",
      "                             [--logging_level {DEBUG,INFO,WARNING,ERROR,CRITICAL}]\n",
      "ipykernel_launcher.py: error: unrecognized arguments: -f C:\\Users\\DELL\\AppData\\Roaming\\jupyter\\runtime\\kernel-0180b83f-63be-4e72-812b-5de9d8eac712.json\n"
     ]
    },
    {
     "ename": "SystemExit",
     "evalue": "2",
     "output_type": "error",
     "traceback": [
      "An exception has occurred, use %tb to see the full traceback.\n",
      "\u001b[1;31mSystemExit\u001b[0m\u001b[1;31m:\u001b[0m 2\n"
     ]
    },
    {
     "name": "stderr",
     "output_type": "stream",
     "text": [
      "C:\\Users\\DELL\\anaconda3\\lib\\site-packages\\IPython\\core\\interactiveshell.py:3377: UserWarning: To exit: use 'exit', 'quit', or Ctrl-D.\n",
      "  warn(\"To exit: use 'exit', 'quit', or Ctrl-D.\", stacklevel=1)\n"
     ]
    }
   ],
   "source": [
    "import ezgmail,os\n",
    "os.chdir(r'C:\\Users\\DELL')\n",
    "ezgmail.init()"
   ]
  },
  {
   "cell_type": "code",
   "execution_count": 4,
   "id": "d1729e25",
   "metadata": {},
   "outputs": [
    {
     "name": "stderr",
     "output_type": "stream",
     "text": [
      "usage: ipykernel_launcher.py [--auth_host_name AUTH_HOST_NAME] [--noauth_local_webserver]\n",
      "                             [--auth_host_port [AUTH_HOST_PORT ...]]\n",
      "                             [--logging_level {DEBUG,INFO,WARNING,ERROR,CRITICAL}]\n",
      "ipykernel_launcher.py: error: unrecognized arguments: -f C:\\Users\\DELL\\AppData\\Roaming\\jupyter\\runtime\\kernel-0180b83f-63be-4e72-812b-5de9d8eac712.json\n"
     ]
    },
    {
     "ename": "SystemExit",
     "evalue": "2",
     "output_type": "error",
     "traceback": [
      "An exception has occurred, use %tb to see the full traceback.\n",
      "\u001b[1;31mSystemExit\u001b[0m\u001b[1;31m:\u001b[0m 2\n"
     ]
    }
   ],
   "source": [
    "import ezgmail\n",
    "ezgmail.send('recipient@example.com', 'subject line', 'Body of the email')"
   ]
  },
  {
   "cell_type": "code",
   "execution_count": null,
   "id": "d0e854d9",
   "metadata": {},
   "outputs": [],
   "source": [
    "ezgmail.send('recipient@example.com', 'Subject line', 'Body of th email', ['attachment1.jpg', 'attactment.mp3'])"
   ]
  },
  {
   "cell_type": "code",
   "execution_count": null,
   "id": "a70b1991",
   "metadata": {},
   "outputs": [],
   "source": [
    "import ezgmail\n",
    "ezgmail.send('receipient@example', 'Subject line', 'Body of the email', cc='friend@example.com', bcc='otherfriend@example.com, someone@example.com')"
   ]
  },
  {
   "cell_type": "code",
   "execution_count": null,
   "id": "13c23ef4",
   "metadata": {},
   "outputs": [],
   "source": [
    "# If you need to remember which Gmail address the token.json file is configured for \n",
    "import ezgmail\n",
    "ezgmail.init()"
   ]
  },
  {
   "cell_type": "code",
   "execution_count": null,
   "id": "ea20e94e",
   "metadata": {},
   "outputs": [],
   "source": [
    "ezgmail.EMAIL_ADDRESS"
   ]
  },
  {
   "cell_type": "code",
   "execution_count": null,
   "id": "11dfc834",
   "metadata": {},
   "outputs": [],
   "source": [
    "# Reading Mail from a Gmail Account\n",
    "import ezgmail\n",
    "unreadThreads = ezgmail.unread()  # List of GmailThread objects.\n",
    "ezgamil.summary(unreadThreads)"
   ]
  },
  {
   "cell_type": "code",
   "execution_count": null,
   "id": "4bcbcb35",
   "metadata": {},
   "outputs": [],
   "source": [
    "len(unreadThreads)"
   ]
  },
  {
   "cell_type": "code",
   "execution_count": null,
   "id": "c5d03a10",
   "metadata": {},
   "outputs": [],
   "source": [
    "str(unreadThreads[0])"
   ]
  },
  {
   "cell_type": "code",
   "execution_count": null,
   "id": "dcb925b3",
   "metadata": {},
   "outputs": [],
   "source": [
    "len(unreadThreads[0].meassages)"
   ]
  },
  {
   "cell_type": "code",
   "execution_count": null,
   "id": "2079a739",
   "metadata": {},
   "outputs": [],
   "source": [
    "str(unreadThreads[0].meassages[0])"
   ]
  },
  {
   "cell_type": "code",
   "execution_count": null,
   "id": "b5a56cfb",
   "metadata": {},
   "outputs": [],
   "source": [
    "unreadThreads[0].messages[0].subject"
   ]
  },
  {
   "cell_type": "code",
   "execution_count": null,
   "id": "eb2c201f",
   "metadata": {},
   "outputs": [],
   "source": [
    "unreadThreads[0].messages[0].body"
   ]
  },
  {
   "cell_type": "code",
   "execution_count": null,
   "id": "8154fba1",
   "metadata": {},
   "outputs": [],
   "source": [
    "unreadThreads[0].meassages[0].timestamp"
   ]
  },
  {
   "cell_type": "code",
   "execution_count": null,
   "id": "4e40b588",
   "metadata": {},
   "outputs": [],
   "source": [
    "unreadThreads[0].messages[0].sender"
   ]
  },
  {
   "cell_type": "code",
   "execution_count": null,
   "id": "f1589238",
   "metadata": {},
   "outputs": [],
   "source": [
    "unreadThreads[0].messages[0].recipient"
   ]
  },
  {
   "cell_type": "code",
   "execution_count": null,
   "id": "58cb6429",
   "metadata": {},
   "outputs": [],
   "source": [
    "recentThreads = gmail.recent()\n",
    "len(recentThreads)"
   ]
  },
  {
   "cell_type": "code",
   "execution_count": null,
   "id": "5899493d",
   "metadata": {},
   "outputs": [],
   "source": [
    "recentThreads = ezgmail.recent(maxResults=100)"
   ]
  },
  {
   "cell_type": "code",
   "execution_count": null,
   "id": "878be96d",
   "metadata": {},
   "outputs": [],
   "source": [
    "len(recentThreads)"
   ]
  },
  {
   "cell_type": "code",
   "execution_count": null,
   "id": "cc4bfd10",
   "metadata": {},
   "outputs": [],
   "source": [
    "# Searching Mail from a Gmail Account\n",
    "resultThreads = ezgmail.search('Robocop')"
   ]
  },
  {
   "cell_type": "code",
   "execution_count": null,
   "id": "870fdaa3",
   "metadata": {},
   "outputs": [],
   "source": [
    "len(resultThreads)"
   ]
  },
  {
   "cell_type": "code",
   "execution_count": null,
   "id": "345e2fea",
   "metadata": {},
   "outputs": [],
   "source": [
    "ezgmail.summary(resultThreads)"
   ]
  },
  {
   "cell_type": "code",
   "execution_count": null,
   "id": "128482ee",
   "metadata": {},
   "outputs": [],
   "source": [
    "resultThreads = ezgmail.search('label:UREAD')  # For unread emails"
   ]
  },
  {
   "cell_type": "code",
   "execution_count": null,
   "id": "e79417fd",
   "metadata": {},
   "outputs": [],
   "source": [
    "resultThreads = ezgmail.search('from:depp@corri.com')  # For emails from depp@corri.com"
   ]
  },
  {
   "cell_type": "code",
   "execution_count": null,
   "id": "2d1e2045",
   "metadata": {},
   "outputs": [],
   "source": [
    "resultThreads = ezgmail.search('subject:hello')  For emails with \"hello\" in the subject"
   ]
  },
  {
   "cell_type": "code",
   "execution_count": null,
   "id": "a9a8385a",
   "metadata": {},
   "outputs": [],
   "source": [
    "resultThreads = ezgmail.search('has:attachment')  # For emails with file attchemnts"
   ]
  },
  {
   "cell_type": "code",
   "execution_count": null,
   "id": "c2425def",
   "metadata": {},
   "outputs": [],
   "source": [
    "# Downloading Attachments form a Gmail Account"
   ]
  },
  {
   "cell_type": "code",
   "execution_count": null,
   "id": "030932c7",
   "metadata": {},
   "outputs": [],
   "source": [
    "import ezgmail\n",
    "threads = ezgmail.search('vacation photos')\n",
    "threads[0].messages[0].attachments"
   ]
  },
  {
   "cell_type": "code",
   "execution_count": null,
   "id": "f6a8c3c3",
   "metadata": {},
   "outputs": [],
   "source": [
    "threads[0].messages[0].downloadingAttachment('tulips.jpg')"
   ]
  },
  {
   "cell_type": "code",
   "execution_count": null,
   "id": "fe0d7d9c",
   "metadata": {},
   "outputs": [],
   "source": [
    "threads[0.messages[0].downloadAttachments(downloadFolder='vacation2019')]"
   ]
  },
  {
   "cell_type": "code",
   "execution_count": null,
   "id": "9f1f042f",
   "metadata": {},
   "outputs": [],
   "source": [
    "# Sending Email \n",
    "# don't use these example's in interactive shell; it won't work\n"
   ]
  },
  {
   "cell_type": "code",
   "execution_count": null,
   "id": "66c1faa9",
   "metadata": {},
   "outputs": [],
   "source": [
    "import smtplib\n",
    "smtpObj = smtplib.SMTP('smtp.example.com', 587)"
   ]
  },
  {
   "cell_type": "code",
   "execution_count": null,
   "id": "d5be21d2",
   "metadata": {},
   "outputs": [],
   "source": [
    "smtpObj.ehlo()"
   ]
  },
  {
   "cell_type": "code",
   "execution_count": null,
   "id": "a12672a5",
   "metadata": {},
   "outputs": [],
   "source": [
    "smtpObj.starttls()"
   ]
  },
  {
   "cell_type": "code",
   "execution_count": null,
   "id": "7644fca9",
   "metadata": {},
   "outputs": [],
   "source": [
    "smtpObj.login('Bob@example.com', 'My_SECRET_PASSWORD')"
   ]
  },
  {
   "cell_type": "code",
   "execution_count": null,
   "id": "a0f79032",
   "metadata": {},
   "outputs": [],
   "source": [
    "smtpObj.sendmail('bob@example.com', 'alice@example.com', 'Subject: so long.\\nDear Alice, so long and thanks for all the fish. sincerely, Bob')"
   ]
  },
  {
   "cell_type": "code",
   "execution_count": null,
   "id": "e8621d33",
   "metadata": {},
   "outputs": [],
   "source": [
    "smtpObj.quit()"
   ]
  },
  {
   "cell_type": "code",
   "execution_count": null,
   "id": "08daae0d",
   "metadata": {},
   "outputs": [],
   "source": [
    "# Retrieving and Deleting Emails with IMAP\n",
    "import imapclient\n",
    "imapObj = imapclien.IMAPClient('imap.example.com', ssl=True)"
   ]
  },
  {
   "cell_type": "code",
   "execution_count": null,
   "id": "d43fd282",
   "metadata": {},
   "outputs": [],
   "source": [
    "imapObj.login('my_email_address@example.com', 'MY_SECRET_PASSWORD')"
   ]
  },
  {
   "cell_type": "code",
   "execution_count": null,
   "id": "f442350f",
   "metadata": {},
   "outputs": [],
   "source": [
    "imapObj.select_folder('INBOX', readonly=True)"
   ]
  },
  {
   "cell_type": "code",
   "execution_count": null,
   "id": "d424a3b4",
   "metadata": {},
   "outputs": [],
   "source": [
    "# you can also use the list_foders() this will return a list of tuples.\n",
    "import pprint\n",
    "pprint.pprint(imapObj.list_folders())"
   ]
  },
  {
   "cell_type": "code",
   "execution_count": null,
   "id": "cdea101f",
   "metadata": {},
   "outputs": [],
   "source": [
    "UIDs = imapObj.search(['SINCE 05-Jul-2019'])"
   ]
  },
  {
   "cell_type": "code",
   "execution_count": null,
   "id": "44593967",
   "metadata": {},
   "outputs": [],
   "source": [
    "UIDs  # The search() method doesn’t return the emails themselves but rather \n",
    "# unique IDs (UIDs) for the emails, as integer values."
   ]
  },
  {
   "cell_type": "code",
   "execution_count": null,
   "id": "62ae038e",
   "metadata": {},
   "outputs": [],
   "source": [
    "rewMessages = imapObj.fetch([40041], ['BODY[]', 'FLAGS'])"
   ]
  },
  {
   "cell_type": "code",
   "execution_count": null,
   "id": "904d29cb",
   "metadata": {},
   "outputs": [],
   "source": [
    "import pyzmail\n",
    "message = pyzmail.pyzmessage.factory(rawMessages[40041][b'BODY[]'])"
   ]
  },
  {
   "cell_type": "code",
   "execution_count": null,
   "id": "e1c6d983",
   "metadata": {},
   "outputs": [],
   "source": [
    "message.get_subject()"
   ]
  },
  {
   "cell_type": "code",
   "execution_count": null,
   "id": "f271319a",
   "metadata": {},
   "outputs": [],
   "source": [
    "message.get_address('from')"
   ]
  },
  {
   "cell_type": "code",
   "execution_count": null,
   "id": "d8c709cf",
   "metadata": {},
   "outputs": [],
   "source": [
    "message.get_address('to')"
   ]
  },
  {
   "cell_type": "code",
   "execution_count": null,
   "id": "5bbd6ec6",
   "metadata": {},
   "outputs": [],
   "source": [
    "message.get_address('cc')"
   ]
  },
  {
   "cell_type": "code",
   "execution_count": null,
   "id": "b0647ef8",
   "metadata": {},
   "outputs": [],
   "source": [
    "message.get_address('bcc')"
   ]
  },
  {
   "cell_type": "code",
   "execution_count": null,
   "id": "90f34771",
   "metadata": {},
   "outputs": [],
   "source": [
    "message.text_part != None"
   ]
  },
  {
   "cell_type": "code",
   "execution_count": null,
   "id": "c47a334f",
   "metadata": {},
   "outputs": [],
   "source": [
    "message.text_part.get_payload().decode(message.text_part.charset)"
   ]
  },
  {
   "cell_type": "code",
   "execution_count": null,
   "id": "0012aa24",
   "metadata": {},
   "outputs": [],
   "source": [
    "message.html_part != None"
   ]
  },
  {
   "cell_type": "code",
   "execution_count": null,
   "id": "29b8ed49",
   "metadata": {},
   "outputs": [],
   "source": [
    "message.html_part.get_payload().decode(message.html_part.charset)"
   ]
  },
  {
   "cell_type": "code",
   "execution_count": null,
   "id": "59c33d82",
   "metadata": {},
   "outputs": [],
   "source": [
    "imapObj.logout()"
   ]
  },
  {
   "cell_type": "code",
   "execution_count": null,
   "id": "1e5e13f9",
   "metadata": {},
   "outputs": [],
   "source": [
    "# Some example search() method calls along with their meanings:\n",
    "imapObj.search(['ALL'])  # RETURNS every message in the currently selected folder\n",
    "imapObj.search(['ON 05-Jul-2019'])  # Returns every message sent on July 5, 2019.\n",
    "imapObj.search(['SINCE 01-Jan-2019', 'BEFORE 01-Feb-2019', 'UNSEEN']) # Returns every message sent in January 2019 that is unread. (Note that this means on and after January 1 and up to but no tincluding February 1.)\n",
    "imapObj.search(['SINCE 01-Jan2019', 'FROM alice@examole.com'])  # Returns every message from alice@example.com sent since the start of 2019.\n",
    "imapObj.search(['SINCE 01-jAN-2019', 'NOT FROM alice@example.com'])  #Returns every message sent from everyone except alice@example.com since the start of 2019.\n",
    "imapObj.search(['OR FROM alice@example.com FROM bob@example.com'])  # Returns every message ever sent from alice@example.com or bobo@example.com.\n",
    "imapObj.search(['FROM alice@example.com', 'FROM bob@example.com'])  ''' Trick example! This search never returns any messages, because messages must match allsearch keywords. SINCE THERE CAN BE ONLY one \"from\"  address, it is impossible for \n",
    "a message  to be from both alce@examole.com and bobo@example.com'''"
   ]
  },
  {
   "cell_type": "code",
   "execution_count": null,
   "id": "aad31152",
   "metadata": {},
   "outputs": [],
   "source": [
    "# Size Limits\n",
    "# default Limit is 10000\n",
    "# You can change this limit from 10,000 bytes to 10,000,000 bytes by running \n",
    "# this code:\n",
    "import imaplib\n",
    "imaplib._MAXLINE = 10000000  #   You may  want to make these two lines part of every IMAP program you write."
   ]
  },
  {
   "cell_type": "code",
   "execution_count": null,
   "id": "b2245759",
   "metadata": {},
   "outputs": [],
   "source": [
    "# Deleting Emails\n",
    "imapObj.select_folder('INBOX', readonly=False)"
   ]
  },
  {
   "cell_type": "code",
   "execution_count": null,
   "id": "96da365c",
   "metadata": {},
   "outputs": [],
   "source": [
    "UIDs = imapObj.search('ON 09-Jul-2019')"
   ]
  },
  {
   "cell_type": "code",
   "execution_count": null,
   "id": "4a3f6ec8",
   "metadata": {},
   "outputs": [],
   "source": [
    "UIDs"
   ]
  },
  {
   "cell_type": "code",
   "execution_count": null,
   "id": "82a4619a",
   "metadata": {},
   "outputs": [],
   "source": [
    "imapObj.delete_messages(UIDs)"
   ]
  },
  {
   "cell_type": "code",
   "execution_count": null,
   "id": "595e4d7f",
   "metadata": {},
   "outputs": [],
   "source": [
    "imapObj.expunge()"
   ]
  },
  {
   "cell_type": "code",
   "execution_count": null,
   "id": "99c7cee1",
   "metadata": {},
   "outputs": [],
   "source": [
    "# Disconnecting from the IMAP Server\n",
    "imapObj.logout()"
   ]
  },
  {
   "cell_type": "code",
   "execution_count": null,
   "id": "6ae429ce",
   "metadata": {},
   "outputs": [],
   "source": [
    "# Project: Sending Member Dues Reminder Emails\n"
   ]
  },
  {
   "cell_type": "markdown",
   "id": "8813fe71",
   "metadata": {},
   "source": [
    "## import openpyxl, smtplib, sys\n",
    "# open the spreadsheet and get the latest dues statues.\n",
    "wb = openpyxl.load_workbook('duesRecords.xlsx')\n",
    "sheet = wb.get_sheet_by_name('sheet1')\n",
    "lastCol = sheet.max_column\n",
    "\n",
    "latestMonth = sheet.cell(row=1, column=lastCol).value\n",
    "# Check each memeber's payment status.\n",
    "unpaidMmembers = {}\n",
    "for r in range(2, sheet.max_row + 1):\n",
    "    payment = sheet.cell(row=r, column=lastCol).value\n",
    "    if payment != 'paid':\n",
    "        name = sheet.cell(row=r, column=1).value\n",
    "        email =sheet.cell(row=r, column=2).value\n",
    "        unpaidMembers[name] = email\n",
    "\n",
    "# Log in to email account.\n",
    "smtpObj = smtplib.SMTP('smtp.example.com', 587)\n",
    "smtpObj.ehlo()\n",
    "smtpObj.starttls()\n",
    "smtpObj.loging('my_email_address@example.com', sys.argv[1])\n",
    "\n",
    "# Send out reminder emails.\n",
    "for name, email in unpaidMembers.items():\n",
    "    body = \"Subject: %s dues unpaid. \\nDear %s, \\nRecords show that you have not  paid dues for %s. Please make this payemnt as soon as possible. Thank you!'\" % (latestMonth, name, latestMonth)\n",
    "    print('sending email to %s...' % email)\n",
    "    sendmailStatus = smtpObj.sendmail('my_mail_address@example.com', email, body)\n",
    "    if sendmailStatus != {}:\n",
    "        print('There was a problem sending email to %s: %s' % (email, sendmailStatus))\n",
    "smtpObj.quit()"
   ]
  },
  {
   "cell_type": "code",
   "execution_count": null,
   "id": "a8715658",
   "metadata": {},
   "outputs": [],
   "source": [
    "# Sending Text Messages\n",
    "from twilio.rest import Client\n",
    "accountID = 'Aad23ce07608fa4156ed45'\n",
    "authToken = '18789c896001fe138cc'\n",
    "twilioCli = Client(accountSID, authToken)\n",
    "myTwilioNumber = '+149555551234'\n",
    "myCellPhone = '+149555551234'\n",
    "message = twilioCli.messages.create(body='Mr. Watson - Come here - I want to see you.', from_=myTwilioNumber, to=myCellPhone)"
   ]
  },
  {
   "cell_type": "code",
   "execution_count": 2,
   "id": "a2dcb440",
   "metadata": {},
   "outputs": [
    {
     "ename": "NameError",
     "evalue": "name 'messeg' is not defined",
     "output_type": "error",
     "traceback": [
      "\u001b[1;31m---------------------------------------------------------------------------\u001b[0m",
      "\u001b[1;31mNameError\u001b[0m                                 Traceback (most recent call last)",
      "Input \u001b[1;32mIn [2]\u001b[0m, in \u001b[0;36m<cell line: 1>\u001b[1;34m()\u001b[0m\n\u001b[1;32m----> 1\u001b[0m \u001b[43mmesseg\u001b[49m\u001b[38;5;241m.\u001b[39mto\n",
      "\u001b[1;31mNameError\u001b[0m: name 'messeg' is not defined"
     ]
    }
   ],
   "source": [
    "messeg.to"
   ]
  },
  {
   "cell_type": "code",
   "execution_count": null,
   "id": "3db865d7",
   "metadata": {},
   "outputs": [],
   "source": [
    "message.from_"
   ]
  },
  {
   "cell_type": "code",
   "execution_count": 3,
   "id": "6d875cf6",
   "metadata": {},
   "outputs": [
    {
     "ename": "NameError",
     "evalue": "name 'message' is not defined",
     "output_type": "error",
     "traceback": [
      "\u001b[1;31m---------------------------------------------------------------------------\u001b[0m",
      "\u001b[1;31mNameError\u001b[0m                                 Traceback (most recent call last)",
      "Input \u001b[1;32mIn [3]\u001b[0m, in \u001b[0;36m<cell line: 1>\u001b[1;34m()\u001b[0m\n\u001b[1;32m----> 1\u001b[0m \u001b[43mmessage\u001b[49m\u001b[38;5;241m.\u001b[39mbody\n",
      "\u001b[1;31mNameError\u001b[0m: name 'message' is not defined"
     ]
    }
   ],
   "source": [
    "message.body"
   ]
  },
  {
   "cell_type": "code",
   "execution_count": null,
   "id": "491ceec2",
   "metadata": {},
   "outputs": [],
   "source": [
    "message.status"
   ]
  },
  {
   "cell_type": "code",
   "execution_count": null,
   "id": "8b93877f",
   "metadata": {},
   "outputs": [],
   "source": [
    "message.date_created"
   ]
  },
  {
   "cell_type": "code",
   "execution_count": null,
   "id": "83f64999",
   "metadata": {},
   "outputs": [],
   "source": [
    "message.date_sent == None"
   ]
  },
  {
   "cell_type": "code",
   "execution_count": null,
   "id": "0791091c",
   "metadata": {},
   "outputs": [],
   "source": [
    "message.sid"
   ]
  },
  {
   "cell_type": "code",
   "execution_count": null,
   "id": "d817091a",
   "metadata": {},
   "outputs": [],
   "source": [
    "updatedMessage = twilioCli.messages.get(message.sid)"
   ]
  },
  {
   "cell_type": "code",
   "execution_count": null,
   "id": "954457b0",
   "metadata": {},
   "outputs": [],
   "source": [
    "updatedMessage.status"
   ]
  },
  {
   "cell_type": "code",
   "execution_count": null,
   "id": "aa849646",
   "metadata": {},
   "outputs": [],
   "source": [
    "updatedMessage.date_sent"
   ]
  },
  {
   "cell_type": "code",
   "execution_count": 4,
   "id": "8079ff76",
   "metadata": {},
   "outputs": [
    {
     "ename": "IndentationError",
     "evalue": "expected an indented block (1471491990.py, line 13)",
     "output_type": "error",
     "traceback": [
      "\u001b[1;36m  Input \u001b[1;32mIn [4]\u001b[1;36m\u001b[0m\n\u001b[1;33m    def textmysefl(message):\u001b[0m\n\u001b[1;37m                            ^\u001b[0m\n\u001b[1;31mIndentationError\u001b[0m\u001b[1;31m:\u001b[0m expected an indented block\n"
     ]
    }
   ],
   "source": [
    "# Project: \"Just Text Me\" Module\n",
    "# textMyself.py - Defiens the textMyself() function that texts a message\n",
    "# passed to it as a string\n",
    "\n",
    "# Present values:\n",
    "accounSID = 'ACXXXXXXXXXXXXXXXXXXXXXXXXX'\n",
    "authtoken = 'xxxxxxxxxxxxxxxxxxxxxxxxx'\n",
    "myNumber = '+15559999888'\n",
    "twilioNumber = '+1555522225678'\n",
    "\n",
    "from twilio.rest import Client\n",
    "\n",
    "def textmysefl(message):\n",
    "    TwilioCli = Clinet(accountSID, authToken)\n",
    "    twilioCli.messages.create(body=message, from_=twilioNumber, to=myNumber)\n",
    "    \n",
    "# If you want to make the textmyself() function available to your other \n",
    "# programs, simply place the textMyself.py file in the same folder as your \n",
    "# Python script. Whenever you want one of your programs to text you, \n",
    "# just add the following:/\n",
    "    \n",
    "import textmyself\n",
    "textmyself.textmyself('The boring task is finished.')\n",
    "    "
   ]
  },
  {
   "cell_type": "code",
   "execution_count": null,
   "id": "f7f56d33",
   "metadata": {},
   "outputs": [],
   "source": []
  },
  {
   "cell_type": "code",
   "execution_count": null,
   "id": "cb4cc14c",
   "metadata": {},
   "outputs": [],
   "source": []
  }
 ],
 "metadata": {
  "kernelspec": {
   "display_name": "Python 3 (ipykernel)",
   "language": "python",
   "name": "python3"
  },
  "language_info": {
   "codemirror_mode": {
    "name": "ipython",
    "version": 3
   },
   "file_extension": ".py",
   "mimetype": "text/x-python",
   "name": "python",
   "nbconvert_exporter": "python",
   "pygments_lexer": "ipython3",
   "version": "3.9.12"
  }
 },
 "nbformat": 4,
 "nbformat_minor": 5
}
