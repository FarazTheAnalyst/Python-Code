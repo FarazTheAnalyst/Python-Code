{
 "cells": [
  {
   "cell_type": "code",
   "execution_count": null,
   "id": "7400df6b",
   "metadata": {},
   "outputs": [],
   "source": [
    "# Boolean Values\n",
    "\n",
    "bam = True  #Boolean values are used in expressions and can be stored in variables. Dont use True AND False for vaoruable names \n",
    "\n",
    "bam"
   ]
  },
  {
   "cell_type": "code",
   "execution_count": null,
   "id": "47147e3d",
   "metadata": {},
   "outputs": [],
   "source": [
    "# Comparision Operators\n",
    "#  == Equal to \n",
    "# != Not equal to \n",
    "# < Less than\n",
    "# > Greater than \n",
    "# <= Less than or equal to\n",
    "# >= Greater than equal to\n",
    "\n",
    "55 == 55"
   ]
  },
  {
   "cell_type": "code",
   "execution_count": null,
   "id": "ba997dd8",
   "metadata": {},
   "outputs": [],
   "source": [
    "55 == 99"
   ]
  },
  {
   "cell_type": "code",
   "execution_count": null,
   "id": "5874dc71",
   "metadata": {},
   "outputs": [],
   "source": [
    "2 != 5"
   ]
  },
  {
   "cell_type": "code",
   "execution_count": null,
   "id": "0e7f7667",
   "metadata": {},
   "outputs": [],
   "source": [
    "5 != 5"
   ]
  },
  {
   "cell_type": "code",
   "execution_count": null,
   "id": "5cab7934",
   "metadata": {},
   "outputs": [],
   "source": [
    "#  == and != operators also work any type of data\n",
    "\n",
    "\"hello\" == 'hello'"
   ]
  },
  {
   "cell_type": "code",
   "execution_count": null,
   "id": "6257775f",
   "metadata": {},
   "outputs": [],
   "source": [
    "'hello' == 'Hello'"
   ]
  },
  {
   "cell_type": "code",
   "execution_count": null,
   "id": "063b90fa",
   "metadata": {},
   "outputs": [],
   "source": [
    "'dog' != 'cat'"
   ]
  },
  {
   "cell_type": "code",
   "execution_count": null,
   "id": "21931df3",
   "metadata": {},
   "outputs": [],
   "source": [
    "True == True"
   ]
  },
  {
   "cell_type": "code",
   "execution_count": null,
   "id": "0b4a97a5",
   "metadata": {},
   "outputs": [],
   "source": [
    "True != False"
   ]
  },
  {
   "cell_type": "code",
   "execution_count": null,
   "id": "e1d8fbc5",
   "metadata": {},
   "outputs": [],
   "source": [
    "55 == 55.0"
   ]
  },
  {
   "cell_type": "code",
   "execution_count": null,
   "id": "8ad12e54",
   "metadata": {},
   "outputs": [],
   "source": [
    "55 == '55'   #integer and floating-point value always unequal to string value"
   ]
  },
  {
   "cell_type": "code",
   "execution_count": null,
   "id": "35281cfe",
   "metadata": {},
   "outputs": [],
   "source": [
    "42 < 100"
   ]
  },
  {
   "cell_type": "code",
   "execution_count": null,
   "id": "22027b73",
   "metadata": {},
   "outputs": [],
   "source": [
    "43 > 100"
   ]
  },
  {
   "cell_type": "code",
   "execution_count": null,
   "id": "2a34d54d",
   "metadata": {},
   "outputs": [],
   "source": [
    "54 < 52"
   ]
  },
  {
   "cell_type": "code",
   "execution_count": null,
   "id": "48529b1e",
   "metadata": {},
   "outputs": [],
   "source": [
    "eggCount = 52\n",
    "eggCount <= 42"
   ]
  },
  {
   "cell_type": "code",
   "execution_count": null,
   "id": "f42bcb17",
   "metadata": {},
   "outputs": [],
   "source": [
    "myAge = 29\n",
    "myAge >= 10"
   ]
  },
  {
   "cell_type": "code",
   "execution_count": null,
   "id": "fe63e0b9",
   "metadata": {},
   "outputs": [],
   "source": [
    "# Boolean Operators (and, or, not)\n",
    "# Binary Boolean Operators\n",
    "\n",
    "#  The and operator\n",
    "\n",
    "True and True  "
   ]
  },
  {
   "cell_type": "code",
   "execution_count": null,
   "id": "d02abd70",
   "metadata": {},
   "outputs": [],
   "source": [
    "True and False"
   ]
  },
  {
   "cell_type": "code",
   "execution_count": null,
   "id": "fc4ff3c1",
   "metadata": {},
   "outputs": [],
   "source": [
    "False and True"
   ]
  },
  {
   "cell_type": "code",
   "execution_count": null,
   "id": "9a4b5bdf",
   "metadata": {},
   "outputs": [],
   "source": [
    "False and False"
   ]
  },
  {
   "cell_type": "code",
   "execution_count": null,
   "id": "0d656871",
   "metadata": {},
   "outputs": [],
   "source": [
    "# The or operator\n",
    "\n",
    "True or True"
   ]
  },
  {
   "cell_type": "code",
   "execution_count": null,
   "id": "d01a8255",
   "metadata": {},
   "outputs": [],
   "source": [
    "True or False"
   ]
  },
  {
   "cell_type": "code",
   "execution_count": null,
   "id": "e4e4452e",
   "metadata": {},
   "outputs": [],
   "source": [
    "False or True"
   ]
  },
  {
   "cell_type": "code",
   "execution_count": null,
   "id": "bd25c94f",
   "metadata": {},
   "outputs": [],
   "source": [
    "False or False"
   ]
  },
  {
   "cell_type": "code",
   "execution_count": null,
   "id": "1e34b9af",
   "metadata": {},
   "outputs": [],
   "source": [
    "# The not Operator\n",
    "# makes it unary operator\n",
    "\n",
    "not True"
   ]
  },
  {
   "cell_type": "code",
   "execution_count": null,
   "id": "c68a3065",
   "metadata": {},
   "outputs": [],
   "source": [
    "not False"
   ]
  },
  {
   "cell_type": "code",
   "execution_count": null,
   "id": "a7ccc334",
   "metadata": {},
   "outputs": [],
   "source": [
    "# Mixing Boolean and Comparision Operators\n",
    "# Computer evaluate the left expression first and then right\n",
    "\n",
    "(3 < 5) and (7 < 8)"
   ]
  },
  {
   "cell_type": "code",
   "execution_count": null,
   "id": "de7765a1",
   "metadata": {},
   "outputs": [],
   "source": [
    "(5 < 7) and (10 < 9)"
   ]
  },
  {
   "cell_type": "code",
   "execution_count": null,
   "id": "c25498bc",
   "metadata": {},
   "outputs": [],
   "source": [
    "(1 == 2) or (2 == 2)"
   ]
  },
  {
   "cell_type": "code",
   "execution_count": null,
   "id": "646e5eaa",
   "metadata": {},
   "outputs": [],
   "source": [
    "# Python evaluates the not operator first then the and operator and then or.\n",
    "2 + 2 and not 2 + 2 == 5 and 2 * 2 == 2 + 2"
   ]
  },
  {
   "cell_type": "code",
   "execution_count": null,
   "id": "b1bbd522",
   "metadata": {},
   "outputs": [],
   "source": [
    "# Elements of Flow Control\n",
    "# 1 conditions are Boolean expressions.Conditions evaluate down to Boolean value, True or False\n",
    "\n",
    "# 2 Blocks of code,Blocks begin when the indentatioin increases.\n",
    "# Blocks can cantain other blocks.\n",
    "# Blocks end when the indentation decreases to zero or to a containing block's indentation\n",
    "#if and else statement\n",
    "\n",
    "name = 'Akhtar'\n",
    "password = 'heartbeat'\n",
    "if name == 'Akhtar':   #if statement and it contains if keyword, A condition(True or False), A colon.\n",
    "    print('Hello, Akhtar')    #an indented block of code(called the if clause)\n",
    "    if password == 'heartbeat':\n",
    "        print('Access granted.')\n",
    "    else:                        #else keyword, A colon,\n",
    "        print('Wrong password.')   #indented block of code(called the else clause)\n",
    "            "
   ]
  },
  {
   "cell_type": "code",
   "execution_count": null,
   "id": "c6cacf57",
   "metadata": {},
   "outputs": [],
   "source": [
    "# if and else statement example\n",
    "\n",
    "if name == 'Akhtar':       #if True\n",
    "    print('Hello, Akhtar.') \n",
    "else:                       #if False\n",
    "    print('Hello, stranger')"
   ]
  },
  {
   "cell_type": "code",
   "execution_count": null,
   "id": "d249b485",
   "metadata": {},
   "outputs": [],
   "source": [
    "# elif Statements\n",
    "\n",
    "if name == 'Akhtar':\n",
    "    print('Hello, Akhtar.')\n",
    "elif age < 12:      #if its True and name == 'Akhtar' is False.\n",
    "    print('You are not Akhtar, kiddo.')   #if both of the conditions are False, then both of the clauses are skipped.\n",
    "    \n"
   ]
  },
  {
   "cell_type": "code",
   "execution_count": null,
   "id": "67c116d0",
   "metadata": {},
   "outputs": [],
   "source": [
    "# order of elif statements does matter \n",
    "name = 'Asif'\n",
    "age = 3000\n",
    "if name == 'Asif':\n",
    "    print('Hello, Asif')\n",
    "elif age < 12:\n",
    "    print('You are not Asif, kiddo.')\n",
    "elif age > 2000:\n",
    "    print('Unlike you, Asif is not an undead, immortal vampire.')\n",
    "elif age > 100:\n",
    "    print('You are not Asif, grannie.')"
   ]
  },
  {
   "cell_type": "code",
   "execution_count": null,
   "id": "e7f5ec71",
   "metadata": {},
   "outputs": [],
   "source": [
    "# we swaped the order of elif statement, it will give a bug\n",
    "name = 'Zid'\n",
    "age = 3000\n",
    "if name == 'Asif':\n",
    "    print('Hello, Asif')\n",
    "elif age < 12:\n",
    "    print('You are not Asif, Kiddo.')\n",
    "elif age > 100:\n",
    "    print('You are not Asif, grannie.')\n",
    "elif age > 2000:\n",
    "    print('Unlike you, Alice is not an undead, immortal vampire.')"
   ]
  },
  {
   "cell_type": "code",
   "execution_count": null,
   "id": "56505c55",
   "metadata": {},
   "outputs": [],
   "source": [
    "# if, elif and else\n",
    "\n",
    "name = 'Arham'\n",
    "age = 3000\n",
    "if name == 'Asad':\n",
    "    print('Hi, Asad.')\n",
    "elif age < 12:\n",
    "    print('You are not Asad, kiddo.')\n",
    "else:\n",
    "    print('You neither Asad nor a little kid')"
   ]
  },
  {
   "cell_type": "code",
   "execution_count": null,
   "id": "b50699c7",
   "metadata": {},
   "outputs": [],
   "source": [
    "# while loop statements\n",
    "\n",
    "spam = 0      #counter\n",
    "while spam < 5:        #while keyword and conditions( True, False)\n",
    "    print('Hello, world.')   #while clause\n",
    "    spam = spam + 1     #increment operator"
   ]
  },
  {
   "cell_type": "code",
   "execution_count": 1,
   "id": "6b36e8bc",
   "metadata": {},
   "outputs": [
    {
     "name": "stdout",
     "output_type": "stream",
     "text": [
      "please type yourname.\n",
      "yourname\n",
      "Thank you!\n"
     ]
    }
   ],
   "source": [
    "# An annoying While loop\n",
    "\n",
    "name = ' '      #name variable, empty string \n",
    "while name != \"yourname\":  #A condition\n",
    "    print('please type yourname.')\n",
    "    name = input()      #asks for input\n",
    "print('Thank you!')"
   ]
  },
  {
   "cell_type": "code",
   "execution_count": 1,
   "id": "c56672e6",
   "metadata": {},
   "outputs": [
    {
     "name": "stdout",
     "output_type": "stream",
     "text": [
      "Please type your name.\n",
      "yourname\n",
      "Thank you!\n"
     ]
    }
   ],
   "source": [
    "# break Statements\n",
    "\n",
    "while True:     #infinite loop condition always True\n",
    "    print('Please type your name.')\n",
    "    name = input()\n",
    "    if name == 'yourname':\n",
    "        break        #break statements\n",
    "print('Thank you!')"
   ]
  },
  {
   "cell_type": "code",
   "execution_count": 1,
   "id": "b8496690",
   "metadata": {},
   "outputs": [
    {
     "name": "stdout",
     "output_type": "stream",
     "text": [
      "who are you?\n",
      "asdf\n",
      "who are you?\n",
      "Ali\n",
      "Hello, Ali. What is the password? (it is a heart.)\n",
      "hearbeat\n",
      "who are you?\n",
      "Ali\n",
      "Hello, Ali. What is the password? (it is a heart.)\n",
      "heartbeat\n",
      "Access granted.\n"
     ]
    }
   ],
   "source": [
    "#continue Statements\n",
    "\n",
    "while True:    # whie condition always True\n",
    "    print('who are you?')\n",
    "    name = input()     #takes input from user\n",
    "    if name != 'Ali':\n",
    "        continue     # if name != 'Ali': True. continue statements causes the program to jump back to the start of the loop\n",
    "    print('Hello, Ali. What is the password? (it is a heart.)')\n",
    "    password = input()\n",
    "    if password =='heartbeat':  #if password is True, then break statement run, jupms out of the while loop to print Access granted\n",
    "        break\n",
    "print('Access granted.')\n",
    "\n"
   ]
  },
  {
   "cell_type": "code",
   "execution_count": 8,
   "id": "fdb5adda",
   "metadata": {},
   "outputs": [
    {
     "name": "stdout",
     "output_type": "stream",
     "text": [
      "Enter your name:\n",
      "faraz\n",
      "How many guests will you have?\n",
      "78\n",
      "Be sure to have enough room for all your guests.\n",
      "Done\n"
     ]
    }
   ],
   "source": [
    "#  Truthy and Falsey values\n",
    "# 0, 0.0, '' (the empty string) are considered False, while all other values are considered True\n",
    "\n",
    "name = ''\n",
    "while not name:\n",
    "    print('Enter your name:')\n",
    "    name = input()\n",
    "print('How many guests will you have?')\n",
    "numOfGuests = int(input())\n",
    "if numOfGuests:\n",
    "    print('Be sure to have enough room for all your guests.')\n",
    "print('Done')"
   ]
  },
  {
   "cell_type": "code",
   "execution_count": 12,
   "id": "4639867b",
   "metadata": {},
   "outputs": [
    {
     "name": "stdout",
     "output_type": "stream",
     "text": [
      "Enter your name:\n",
      "fdsfs\n",
      "How many guests will you have?\n",
      "3\n",
      "Be sure to have enough room for all your guests.\n",
      "Done\n"
     ]
    }
   ],
   "source": [
    "name = ''\n",
    "while not name:    #you could have entered (not name != '')\n",
    "    print('Enter your name:')\n",
    "    name = input()\n",
    "print('How many guests will you have?')\n",
    "numOfGuests = int(input())\n",
    "if numOfGuests:    #you could use numOfGuests != 0 instead of numOfGusts\n",
    "    print('Be sure to have enough room for all your guests.')\n",
    "print('Done')"
   ]
  },
  {
   "cell_type": "code",
   "execution_count": 20,
   "id": "46fe9bfc",
   "metadata": {},
   "outputs": [
    {
     "name": "stdout",
     "output_type": "stream",
     "text": [
      "My name is\n",
      "Arham Five Times (0)\n",
      "Arham Five Times (1)\n",
      "Arham Five Times (2)\n",
      "Arham Five Times (3)\n",
      "Arham Five Times (4)\n"
     ]
    }
   ],
   "source": [
    "# for loops and the range() Function\n",
    "\n",
    "print('My name is')\n",
    "for i in range(5):  #A condition \n",
    "    print('Arham Five Times (' + str(i) + ')')  #the variable i is set to zero"
   ]
  },
  {
   "cell_type": "code",
   "execution_count": 28,
   "id": "1bbf3804",
   "metadata": {},
   "outputs": [
    {
     "name": "stdout",
     "output_type": "stream",
     "text": [
      "5050\n"
     ]
    }
   ],
   "source": [
    "#Example\n",
    "\n",
    "total = 0\n",
    "for num in range(101):\n",
    "    total = total + num\n",
    "print(total)"
   ]
  },
  {
   "cell_type": "code",
   "execution_count": 29,
   "id": "deb42305",
   "metadata": {},
   "outputs": [
    {
     "name": "stdout",
     "output_type": "stream",
     "text": [
      "My name is\n",
      "Arham Five Times (0)\n",
      "Arham Five Times (1)\n",
      "Arham Five Times (2)\n",
      "Arham Five Times (3)\n",
      "Arham Five Times (4)\n"
     ]
    }
   ],
   "source": [
    "#An Equivalent while loop\n",
    "#The result is same as for loop and range() Function example\n",
    "\n",
    "print('My name is')\n",
    "i = 0     #counter starts from zero\n",
    "while i < 5:      #A condition TRUE, False\n",
    "    print('Arham Five Times (' + str(i) +')')\n",
    "    i = i + 1  #increment operator"
   ]
  },
  {
   "cell_type": "code",
   "execution_count": 35,
   "id": "f16707e1",
   "metadata": {},
   "outputs": [
    {
     "name": "stdout",
     "output_type": "stream",
     "text": [
      "24\n",
      "25\n",
      "26\n",
      "27\n",
      "28\n",
      "29\n",
      "My score 24\n",
      "My score 25\n",
      "My score 26\n",
      "My score 27\n",
      "My score 28\n",
      "My score 29\n"
     ]
    }
   ],
   "source": [
    "# The Starting, Stopping, and Stepping Arguments to range()\n",
    "#Two arguments to range()\n",
    "\n",
    "for i in range(24, 30):\n",
    "    print(i)\n",
    "\n",
    "for i in range(24, 30):    #multiple arguments to range function\n",
    "    print('My score ' + str(i))"
   ]
  },
  {
   "cell_type": "code",
   "execution_count": 40,
   "id": "987c9c1f",
   "metadata": {},
   "outputs": [
    {
     "name": "stdout",
     "output_type": "stream",
     "text": [
      "2\n",
      "4\n",
      "6\n",
      "8\n",
      "10\n"
     ]
    }
   ],
   "source": [
    "#Three arguments to the range()\n",
    "\n",
    "for i in range(2, 12, 2):   #first two arguments are starts and stop values, The third one is step argument\n",
    "    print(i)"
   ]
  },
  {
   "cell_type": "code",
   "execution_count": 44,
   "id": "593833c2",
   "metadata": {},
   "outputs": [
    {
     "name": "stdout",
     "output_type": "stream",
     "text": [
      "7\n",
      "6\n",
      "5\n",
      "4\n",
      "3\n",
      "2\n",
      "1\n",
      "0\n",
      "step down counting 7\n",
      "step down counting 6\n",
      "step down counting 5\n",
      "step down counting 4\n",
      "step down counting 3\n",
      "step down counting 2\n",
      "step down counting 1\n",
      "step down counting 0\n"
     ]
    }
   ],
   "source": [
    "#Using negative numbers for step argument to make the for loop count down instead of up\n",
    "\n",
    "for i in range(7, -1, -1):   #we fixed the stop arguments to -1 to include 0 in result\n",
    "    print(i)\n",
    "    \n",
    "for i in range(7, -1, -1):\n",
    "    print('step down counting ' + str(i))"
   ]
  },
  {
   "cell_type": "code",
   "execution_count": 2,
   "id": "57a956f9",
   "metadata": {},
   "outputs": [
    {
     "name": "stdout",
     "output_type": "stream",
     "text": [
      "10\n",
      "1\n",
      "10\n",
      "2\n",
      "2\n"
     ]
    }
   ],
   "source": [
    "# Importing Modules\n",
    "\n",
    "\n",
    "import random\n",
    "for i in range(5):\n",
    "    print(random.randint(1, 10))  #with the random module, which will give us access to the random.randint() function"
   ]
  },
  {
   "cell_type": "code",
   "execution_count": 3,
   "id": "d8fccf6a",
   "metadata": {},
   "outputs": [],
   "source": [
    "#importing multiple modules\n",
    "\n",
    "import random, sys, os, math"
   ]
  },
  {
   "cell_type": "code",
   "execution_count": 4,
   "id": "3f031cb0",
   "metadata": {},
   "outputs": [],
   "source": [
    "# from import Statements\n",
    "\n",
    "from random import *"
   ]
  },
  {
   "cell_type": "code",
   "execution_count": 1,
   "id": "6b41218c",
   "metadata": {},
   "outputs": [
    {
     "name": "stdout",
     "output_type": "stream",
     "text": [
      "Type exit to exit\n",
      "exit\n"
     ]
    },
    {
     "ename": "SystemExit",
     "evalue": "",
     "output_type": "error",
     "traceback": [
      "An exception has occurred, use %tb to see the full traceback.\n",
      "\u001b[1;31mSystemExit\u001b[0m\n"
     ]
    },
    {
     "name": "stderr",
     "output_type": "stream",
     "text": [
      "C:\\Users\\DELL\\anaconda3\\lib\\site-packages\\IPython\\core\\interactiveshell.py:3377: UserWarning: To exit: use 'exit', 'quit', or Ctrl-D.\n",
      "  warn(\"To exit: use 'exit', 'quit', or Ctrl-D.\", stacklevel=1)\n"
     ]
    }
   ],
   "source": [
    "# Ending a Program Early with the sys.exit() Function\n",
    "\n",
    "import sys\n",
    "\n",
    "while True:   #always True\n",
    "    print('Type exit to exit')\n",
    "    response = input()\n",
    "    if response == 'exit':\n",
    "        sys.exit()\n",
    "    print('You typed ' + response + '.')"
   ]
  },
  {
   "cell_type": "code",
   "execution_count": 8,
   "id": "748a8008",
   "metadata": {},
   "outputs": [
    {
     "name": "stdout",
     "output_type": "stream",
     "text": [
      "I am thinking of number between 1 and 20.\n",
      "Take a guess.\n",
      "12\n",
      "Your guess is too high.\n",
      "Take a guess.\n",
      "10\n",
      "Your guess is too high.\n",
      "Take a guess.\n",
      "8\n",
      "Your guess is too high.\n",
      "Take a guess.\n",
      "6\n",
      "Your guess is too high.\n",
      "Take a guess.\n",
      "4\n",
      "Your guess is too high.\n",
      "Take a guess.\n",
      "3\n",
      "Your guess is too high.\n",
      "Nope. The number I was thinking of was1\n"
     ]
    }
   ],
   "source": [
    "# A Short Program: Guess the  Number\n",
    "\n",
    "# This is a guess the number game\n",
    "import random\n",
    "\n",
    "secretNumber = random.randint(1, 20)\n",
    "print('I am thinking of number between 1 and 20.')\n",
    "\n",
    "# Ask the player to guess 6 times.\n",
    "for guessesTaken in range(1, 7):\n",
    "    print('Take a guess.')\n",
    "    guess = int(input())\n",
    "    \n",
    "    if guess < secretNumber:\n",
    "        print('Your guess is too low.')\n",
    "    elif guess > secretNumber:\n",
    "        print('Your guess is too high.')\n",
    "    else:\n",
    "        break    #This is the correct guess!\n",
    "        \n",
    "if guess == secretNumber:\n",
    "    print('Good job! You guessed my number in  ' + str(guessesTaken) + 'guesses!')\n",
    "else:\n",
    "    print('Nope. The number I was thinking of was ' + str(secretNumber))"
   ]
  },
  {
   "cell_type": "code",
   "execution_count": null,
   "id": "8619fbfd",
   "metadata": {},
   "outputs": [
    {
     "name": "stdout",
     "output_type": "stream",
     "text": [
      "ROCK, PAPER, SCISSORS\n",
      "0 Wins, 0 Losses, 0 Ties\n",
      "Enter your name: (r)ock (p)aper (s)cissors or (q)uit\n",
      "r\n",
      "ROCK versus...\n",
      "PAPER\n",
      "You lose!\n",
      "0 Wins, 1 Losses, 0 Ties\n",
      "Enter your name: (r)ock (p)aper (s)cissors or (q)uit\n",
      "p\n",
      "PAPER versus...\n",
      "PAPER\n",
      "It is a tie\n",
      "0 Wins, 1 Losses, 1 Ties\n",
      "Enter your name: (r)ock (p)aper (s)cissors or (q)uit\n",
      "s\n",
      "SCISSORS versus...\n",
      "PAPER\n",
      "You win!\n",
      "1 Wins, 1 Losses, 1 Ties\n",
      "Enter your name: (r)ock (p)aper (s)cissors or (q)uit\n",
      "s\n",
      "SCISSORS versus...\n",
      "ROCK\n",
      "You lose!\n",
      "1 Wins, 2 Losses, 1 Ties\n",
      "Enter your name: (r)ock (p)aper (s)cissors or (q)uit\n",
      "s\n",
      "SCISSORS versus...\n",
      "SCISSORS\n",
      "It is a tie\n",
      "1 Wins, 2 Losses, 2 Ties\n",
      "Enter your name: (r)ock (p)aper (s)cissors or (q)uit\n",
      "p\n",
      "PAPER versus...\n",
      "ROCK\n",
      "You win!\n",
      "2 Wins, 2 Losses, 2 Ties\n",
      "Enter your name: (r)ock (p)aper (s)cissors or (q)uit\n",
      "s\n",
      "SCISSORS versus...\n",
      "PAPER\n",
      "You win!\n",
      "3 Wins, 2 Losses, 2 Ties\n",
      "Enter your name: (r)ock (p)aper (s)cissors or (q)uit\n",
      "r\n",
      "ROCK versus...\n",
      "PAPER\n",
      "You lose!\n",
      "3 Wins, 3 Losses, 2 Ties\n",
      "Enter your name: (r)ock (p)aper (s)cissors or (q)uit\n",
      "p\n",
      "PAPER versus...\n",
      "SCISSORS\n",
      "You lose!\n",
      "3 Wins, 4 Losses, 2 Ties\n",
      "Enter your name: (r)ock (p)aper (s)cissors or (q)uit\n"
     ]
    }
   ],
   "source": [
    "# A Short Proogram: Rock, Paper, Scissors\n",
    "import random, sys\n",
    "\n",
    "print('ROCK, PAPER, SCISSORS')\n",
    "\n",
    "# These variables keep track of the number of the wins, losses, and ties.\n",
    "wins = 0\n",
    "losses = 0\n",
    "ties = 0\n",
    "\n",
    "while True:   # The main game loop\n",
    "    print('%s Wins, %s Losses, %s Ties' %(wins, losses, ties))\n",
    "    while True:  #The player input loop.\n",
    "        print('Enter your name: (r)ock (p)aper (s)cissors or (q)uit')\n",
    "        playerMove = input()\n",
    "        if playerMove == 'q':\n",
    "            sys.exit()   #Quit the program.\n",
    "        if playerMove == 'r' or playerMove == \"p\" or playerMove == \"s\":\n",
    "            break  #Break out of the player input loop\n",
    "        print('Type one of r, q, s, or q')\n",
    "        \n",
    "    #Display what the player chose:\n",
    "    if playerMove == 'r':\n",
    "        print('ROCK versus...')\n",
    "    elif playerMove == 'p':\n",
    "        print('PAPER versus...')\n",
    "    elif playerMove == 's':\n",
    "        print('SCISSORS versus...')\n",
    "        \n",
    "    #Display what the computer chose:\n",
    "    randomNumber = random.randint(1, 3)\n",
    "    if randomNumber == 1:\n",
    "        computerMove = 'r'\n",
    "        print('ROCK')\n",
    "    elif randomNumber == 2:\n",
    "        computerMove = 'p'\n",
    "        print('PAPER')\n",
    "    elif randomNumber == 3:\n",
    "        computerMove = 's'\n",
    "        print('SCISSORS')\n",
    "        \n",
    "    #Display and record the win/loss/tie:\n",
    "    if playerMove == computerMove:\n",
    "        print('It is a tie')\n",
    "        ties = ties + 1\n",
    "    elif playerMove == 'r' and computerMove == 's':\n",
    "        print('You win!')\n",
    "        wins = wins + 1\n",
    "    elif playerMove == 'p' and computerMove == 'r':\n",
    "        print('You win!')\n",
    "        wins = wins + 1\n",
    "    elif playerMove == 's' and computerMove == 'p':\n",
    "        print('You win!')\n",
    "        wins = wins + 1\n",
    "    elif playerMove == 'r' and computerMove == 'p':\n",
    "        print('You lose!')\n",
    "        losses = losses + 1\n",
    "    elif playerMove == 'p' and computerMove == 's':\n",
    "        print('You lose!')\n",
    "        losses = losses + 1\n",
    "    elif playerMove == 's' and computerMove == 'r':\n",
    "        print('You lose!')\n",
    "        losses = losses + 1"
   ]
  },
  {
   "cell_type": "code",
   "execution_count": 15,
   "id": "2bbbf6b2",
   "metadata": {},
   "outputs": [
    {
     "name": "stdout",
     "output_type": "stream",
     "text": [
      "Enter Num:1\n",
      "hello\n"
     ]
    }
   ],
   "source": [
    "# A short program\n",
    "bam = int(input('Enter Num:'))\n",
    "\n",
    "if bam == 1:\n",
    "    print('hello')\n",
    "elif bam == 2:\n",
    "    print('hi')\n",
    "else:\n",
    "    print('congrats!')"
   ]
  },
  {
   "cell_type": "code",
   "execution_count": 1,
   "id": "6de06ad6",
   "metadata": {},
   "outputs": [
    {
     "name": "stdout",
     "output_type": "stream",
     "text": [
      "1\n",
      "2\n",
      "3\n",
      "4\n",
      "5\n",
      "6\n",
      "7\n",
      "8\n",
      "9\n",
      "10\n",
      "0\n",
      "1\n",
      "2\n",
      "3\n",
      "4\n",
      "5\n",
      "6\n",
      "7\n",
      "8\n",
      "9\n",
      "10\n"
     ]
    }
   ],
   "source": [
    "# A short program that prints the numbers 1 to 10 using for loop\n",
    "for i in range(1, 11):\n",
    "    print(i)\n",
    "\n"
   ]
  },
  {
   "cell_type": "code",
   "execution_count": 3,
   "id": "6ca8e2bb",
   "metadata": {},
   "outputs": [
    {
     "name": "stdout",
     "output_type": "stream",
     "text": [
      "1\n",
      "2\n",
      "3\n",
      "4\n",
      "5\n",
      "6\n",
      "7\n",
      "8\n",
      "9\n",
      "10\n"
     ]
    }
   ],
   "source": [
    "# using while loop\n",
    "i = 1\n",
    "while i < 11:\n",
    "    print(i)\n",
    "    i = i + 1"
   ]
  },
  {
   "cell_type": "code",
   "execution_count": 5,
   "id": "cf3c36a6",
   "metadata": {},
   "outputs": [
    {
     "name": "stdout",
     "output_type": "stream",
     "text": [
      "3\n"
     ]
    }
   ],
   "source": [
    "# round() function\n",
    "x = round(3.433)\n",
    "print(x)"
   ]
  },
  {
   "cell_type": "code",
   "execution_count": 6,
   "id": "20aaae6b",
   "metadata": {},
   "outputs": [
    {
     "data": {
      "text/plain": [
       "2"
      ]
     },
     "execution_count": 6,
     "metadata": {},
     "output_type": "execute_result"
    }
   ],
   "source": [
    "round(2.254)"
   ]
  },
  {
   "cell_type": "code",
   "execution_count": 7,
   "id": "af61aaf4",
   "metadata": {},
   "outputs": [
    {
     "data": {
      "text/plain": [
       "5.33"
      ]
     },
     "execution_count": 7,
     "metadata": {},
     "output_type": "execute_result"
    }
   ],
   "source": [
    "round(5.3343, 2)"
   ]
  },
  {
   "cell_type": "code",
   "execution_count": 8,
   "id": "705cd448",
   "metadata": {},
   "outputs": [
    {
     "data": {
      "text/plain": [
       "2"
      ]
     },
     "execution_count": 8,
     "metadata": {},
     "output_type": "execute_result"
    }
   ],
   "source": [
    "round(1.5)   #if there is .50 then this will move to the nearest even integer"
   ]
  },
  {
   "cell_type": "code",
   "execution_count": 10,
   "id": "c404c944",
   "metadata": {},
   "outputs": [
    {
     "name": "stdout",
     "output_type": "stream",
     "text": [
      "34\n"
     ]
    }
   ],
   "source": [
    "# abs() function\n",
    "\n",
    "x = abs(-34)  #returns the absolute value\n",
    "print(x)"
   ]
  },
  {
   "cell_type": "code",
   "execution_count": 11,
   "id": "13390c06",
   "metadata": {},
   "outputs": [
    {
     "data": {
      "text/plain": [
       "6"
      ]
     },
     "execution_count": 11,
     "metadata": {},
     "output_type": "execute_result"
    }
   ],
   "source": [
    "abs(-6)"
   ]
  },
  {
   "cell_type": "code",
   "execution_count": 12,
   "id": "8cbbe9d8",
   "metadata": {},
   "outputs": [
    {
     "data": {
      "text/plain": [
       "4.6"
      ]
     },
     "execution_count": 12,
     "metadata": {},
     "output_type": "execute_result"
    }
   ],
   "source": [
    "abs(-4.6)"
   ]
  },
  {
   "cell_type": "code",
   "execution_count": null,
   "id": "32cce687",
   "metadata": {},
   "outputs": [],
   "source": []
  }
 ],
 "metadata": {
  "kernelspec": {
   "display_name": "Python 3 (ipykernel)",
   "language": "python",
   "name": "python3"
  },
  "language_info": {
   "codemirror_mode": {
    "name": "ipython",
    "version": 3
   },
   "file_extension": ".py",
   "mimetype": "text/x-python",
   "name": "python",
   "nbconvert_exporter": "python",
   "pygments_lexer": "ipython3",
   "version": "3.9.12"
  }
 },
 "nbformat": 4,
 "nbformat_minor": 5
}
