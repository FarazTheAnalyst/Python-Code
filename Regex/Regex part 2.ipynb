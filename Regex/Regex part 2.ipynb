{
 "cells": [
  {
   "cell_type": "markdown",
   "id": "2a9a3b9f",
   "metadata": {},
   "source": [
    "#### How to Write and Match Regular Expressions (Regex)"
   ]
  },
  {
   "cell_type": "code",
   "execution_count": 82,
   "id": "fc84239d",
   "metadata": {},
   "outputs": [],
   "source": [
    "import re"
   ]
  },
  {
   "cell_type": "code",
   "execution_count": 83,
   "id": "f1398d79",
   "metadata": {},
   "outputs": [],
   "source": [
    "text_to_search = '''\n",
    "abcdefghijklmnopqurtuvwxyz\n",
    "ABCDEFGHIJKLMNOPQRSTUVWXYZ\n",
    "1234567890\n",
    "\n",
    "Ha HaHa\n",
    "\n",
    "MetaCharacters (Need to be escaped):\n",
    ". ^ $ * + ? { } [ ] \\ | ( )\n",
    "\n",
    "coreyms.com\n",
    "\n",
    "321-555-4321\n",
    "123.555.1234\n",
    "123*555*1234\n",
    "800-555-1234\n",
    "900-555-1234\n",
    "\n",
    "Mr. Schafer\n",
    "Mr Smith\n",
    "Ms Davis\n",
    "Mrs. Robinson\n",
    "Mr. T\n",
    "\n",
    "cat\n",
    "mat\n",
    "pat\n",
    "bat\n",
    "\n",
    "'''\n",
    "\n",
    "sentence = 'Start a sentence and then bring it to an end'"
   ]
  },
  {
   "cell_type": "code",
   "execution_count": 84,
   "id": "07f46ee2",
   "metadata": {},
   "outputs": [
    {
     "name": "stdout",
     "output_type": "stream",
     "text": [
      "<re.Match object; span=(155, 167), match='321-555-4321'>\n",
      "<re.Match object; span=(168, 180), match='123.555.1234'>\n",
      "<re.Match object; span=(181, 193), match='123*555*1234'>\n",
      "<re.Match object; span=(194, 206), match='800-555-1234'>\n",
      "<re.Match object; span=(207, 219), match='900-555-1234'>\n"
     ]
    }
   ],
   "source": [
    "pattern = re.compile(r\"\\d\\d\\d.\\d\\d\\d.\\d\\d\\d\\d\")  # . matchs any character except newline\n",
    "matches = pattern.finditer(text_to_search)\n",
    "\n",
    "for match in matches:\n",
    "    print(match)"
   ]
  },
  {
   "cell_type": "code",
   "execution_count": 85,
   "id": "fada663f",
   "metadata": {},
   "outputs": [
    {
     "name": "stdout",
     "output_type": "stream",
     "text": [
      "<re.Match object; span=(155, 167), match='321-555-4321'>\n",
      "<re.Match object; span=(168, 180), match='123.555.1234'>\n",
      "<re.Match object; span=(194, 206), match='800-555-1234'>\n",
      "<re.Match object; span=(207, 219), match='900-555-1234'>\n"
     ]
    }
   ],
   "source": [
    "pattern = re.compile(r\"\\d\\d\\d[-.]\\d\\d\\d[.-]\\d\\d\\d\\d\")  # []   - match characters in brackers\n",
    "matches = pattern.finditer(text_to_search)\n",
    "\n",
    "for match in matches:\n",
    "    print(match)\n",
    "                     "
   ]
  },
  {
   "cell_type": "code",
   "execution_count": 86,
   "id": "fd6ecd5f",
   "metadata": {},
   "outputs": [
    {
     "name": "stdout",
     "output_type": "stream",
     "text": [
      "<re.Match object; span=(181, 193), match='123*555*1234'>\n"
     ]
    }
   ],
   "source": [
    "pattern = re.compile(r\"\\d\\d\\d[^-.]\\d\\d\\d[^.-]\\d\\d\\d\\d\")  # [^ ]   - Not match any characters within brackers\n",
    "matches = pattern.finditer(text_to_search)\n",
    "\n",
    "for match in matches:\n",
    "    print(match)"
   ]
  },
  {
   "cell_type": "code",
   "execution_count": 87,
   "id": "d7602b21",
   "metadata": {},
   "outputs": [
    {
     "name": "stdout",
     "output_type": "stream",
     "text": [
      "<re.Match object; span=(194, 206), match='800-555-1234'>\n",
      "<re.Match object; span=(207, 219), match='900-555-1234'>\n"
     ]
    }
   ],
   "source": [
    "pattern = re.compile(r\"[89]00[.-]\\d\\d\\d[.-]\\d\\d\\d\\d\")  #[89] matches 8 or 9, [] matches any characters within brackets\n",
    "matches = pattern.finditer(text_to_search)\n",
    "\n",
    "for match in matches:\n",
    "    print(match)"
   ]
  },
  {
   "cell_type": "code",
   "execution_count": 88,
   "id": "edbd22ab",
   "metadata": {},
   "outputs": [
    {
     "name": "stdout",
     "output_type": "stream",
     "text": [
      "<re.Match object; span=(55, 56), match='1'>\n",
      "<re.Match object; span=(56, 57), match='2'>\n",
      "<re.Match object; span=(57, 58), match='3'>\n",
      "<re.Match object; span=(58, 59), match='4'>\n",
      "<re.Match object; span=(59, 60), match='5'>\n",
      "<re.Match object; span=(155, 156), match='3'>\n",
      "<re.Match object; span=(156, 157), match='2'>\n",
      "<re.Match object; span=(157, 158), match='1'>\n",
      "<re.Match object; span=(159, 160), match='5'>\n",
      "<re.Match object; span=(160, 161), match='5'>\n",
      "<re.Match object; span=(161, 162), match='5'>\n",
      "<re.Match object; span=(163, 164), match='4'>\n",
      "<re.Match object; span=(164, 165), match='3'>\n",
      "<re.Match object; span=(165, 166), match='2'>\n",
      "<re.Match object; span=(166, 167), match='1'>\n",
      "<re.Match object; span=(168, 169), match='1'>\n",
      "<re.Match object; span=(169, 170), match='2'>\n",
      "<re.Match object; span=(170, 171), match='3'>\n",
      "<re.Match object; span=(172, 173), match='5'>\n",
      "<re.Match object; span=(173, 174), match='5'>\n",
      "<re.Match object; span=(174, 175), match='5'>\n",
      "<re.Match object; span=(176, 177), match='1'>\n",
      "<re.Match object; span=(177, 178), match='2'>\n",
      "<re.Match object; span=(178, 179), match='3'>\n",
      "<re.Match object; span=(179, 180), match='4'>\n",
      "<re.Match object; span=(181, 182), match='1'>\n",
      "<re.Match object; span=(182, 183), match='2'>\n",
      "<re.Match object; span=(183, 184), match='3'>\n",
      "<re.Match object; span=(185, 186), match='5'>\n",
      "<re.Match object; span=(186, 187), match='5'>\n",
      "<re.Match object; span=(187, 188), match='5'>\n",
      "<re.Match object; span=(189, 190), match='1'>\n",
      "<re.Match object; span=(190, 191), match='2'>\n",
      "<re.Match object; span=(191, 192), match='3'>\n",
      "<re.Match object; span=(192, 193), match='4'>\n",
      "<re.Match object; span=(198, 199), match='5'>\n",
      "<re.Match object; span=(199, 200), match='5'>\n",
      "<re.Match object; span=(200, 201), match='5'>\n",
      "<re.Match object; span=(202, 203), match='1'>\n",
      "<re.Match object; span=(203, 204), match='2'>\n",
      "<re.Match object; span=(204, 205), match='3'>\n",
      "<re.Match object; span=(205, 206), match='4'>\n",
      "<re.Match object; span=(211, 212), match='5'>\n",
      "<re.Match object; span=(212, 213), match='5'>\n",
      "<re.Match object; span=(213, 214), match='5'>\n",
      "<re.Match object; span=(215, 216), match='1'>\n",
      "<re.Match object; span=(216, 217), match='2'>\n",
      "<re.Match object; span=(217, 218), match='3'>\n",
      "<re.Match object; span=(218, 219), match='4'>\n"
     ]
    }
   ],
   "source": [
    "pattern = re.compile(r\"[1-5]\")  #matches digits between 1 and 5\n",
    "matches = pattern.finditer(text_to_search)\n",
    "\n",
    "for match in matches:\n",
    "    print(match)"
   ]
  },
  {
   "cell_type": "code",
   "execution_count": 89,
   "id": "75360b41",
   "metadata": {},
   "outputs": [
    {
     "name": "stdout",
     "output_type": "stream",
     "text": [
      "<re.Match object; span=(1, 2), match='a'>\n",
      "<re.Match object; span=(2, 3), match='b'>\n",
      "<re.Match object; span=(3, 4), match='c'>\n",
      "<re.Match object; span=(4, 5), match='d'>\n",
      "<re.Match object; span=(5, 6), match='e'>\n",
      "<re.Match object; span=(6, 7), match='f'>\n",
      "<re.Match object; span=(7, 8), match='g'>\n",
      "<re.Match object; span=(8, 9), match='h'>\n",
      "<re.Match object; span=(9, 10), match='i'>\n",
      "<re.Match object; span=(10, 11), match='j'>\n",
      "<re.Match object; span=(11, 12), match='k'>\n",
      "<re.Match object; span=(12, 13), match='l'>\n",
      "<re.Match object; span=(13, 14), match='m'>\n",
      "<re.Match object; span=(14, 15), match='n'>\n",
      "<re.Match object; span=(15, 16), match='o'>\n",
      "<re.Match object; span=(16, 17), match='p'>\n",
      "<re.Match object; span=(17, 18), match='q'>\n",
      "<re.Match object; span=(18, 19), match='u'>\n",
      "<re.Match object; span=(19, 20), match='r'>\n",
      "<re.Match object; span=(20, 21), match='t'>\n",
      "<re.Match object; span=(21, 22), match='u'>\n",
      "<re.Match object; span=(22, 23), match='v'>\n",
      "<re.Match object; span=(23, 24), match='w'>\n",
      "<re.Match object; span=(24, 25), match='x'>\n",
      "<re.Match object; span=(25, 26), match='y'>\n",
      "<re.Match object; span=(26, 27), match='z'>\n",
      "<re.Match object; span=(68, 69), match='a'>\n",
      "<re.Match object; span=(71, 72), match='a'>\n",
      "<re.Match object; span=(73, 74), match='a'>\n",
      "<re.Match object; span=(77, 78), match='e'>\n",
      "<re.Match object; span=(78, 79), match='t'>\n",
      "<re.Match object; span=(79, 80), match='a'>\n",
      "<re.Match object; span=(81, 82), match='h'>\n",
      "<re.Match object; span=(82, 83), match='a'>\n",
      "<re.Match object; span=(83, 84), match='r'>\n",
      "<re.Match object; span=(84, 85), match='a'>\n",
      "<re.Match object; span=(85, 86), match='c'>\n",
      "<re.Match object; span=(86, 87), match='t'>\n",
      "<re.Match object; span=(87, 88), match='e'>\n",
      "<re.Match object; span=(88, 89), match='r'>\n",
      "<re.Match object; span=(89, 90), match='s'>\n",
      "<re.Match object; span=(93, 94), match='e'>\n",
      "<re.Match object; span=(94, 95), match='e'>\n",
      "<re.Match object; span=(95, 96), match='d'>\n",
      "<re.Match object; span=(97, 98), match='t'>\n",
      "<re.Match object; span=(98, 99), match='o'>\n",
      "<re.Match object; span=(100, 101), match='b'>\n",
      "<re.Match object; span=(101, 102), match='e'>\n",
      "<re.Match object; span=(103, 104), match='e'>\n",
      "<re.Match object; span=(104, 105), match='s'>\n",
      "<re.Match object; span=(105, 106), match='c'>\n",
      "<re.Match object; span=(106, 107), match='a'>\n",
      "<re.Match object; span=(107, 108), match='p'>\n",
      "<re.Match object; span=(108, 109), match='e'>\n",
      "<re.Match object; span=(109, 110), match='d'>\n",
      "<re.Match object; span=(142, 143), match='c'>\n",
      "<re.Match object; span=(143, 144), match='o'>\n",
      "<re.Match object; span=(144, 145), match='r'>\n",
      "<re.Match object; span=(145, 146), match='e'>\n",
      "<re.Match object; span=(146, 147), match='y'>\n",
      "<re.Match object; span=(147, 148), match='m'>\n",
      "<re.Match object; span=(148, 149), match='s'>\n",
      "<re.Match object; span=(150, 151), match='c'>\n",
      "<re.Match object; span=(151, 152), match='o'>\n",
      "<re.Match object; span=(152, 153), match='m'>\n",
      "<re.Match object; span=(222, 223), match='r'>\n",
      "<re.Match object; span=(226, 227), match='c'>\n",
      "<re.Match object; span=(227, 228), match='h'>\n",
      "<re.Match object; span=(228, 229), match='a'>\n",
      "<re.Match object; span=(229, 230), match='f'>\n",
      "<re.Match object; span=(230, 231), match='e'>\n",
      "<re.Match object; span=(231, 232), match='r'>\n",
      "<re.Match object; span=(234, 235), match='r'>\n",
      "<re.Match object; span=(237, 238), match='m'>\n",
      "<re.Match object; span=(238, 239), match='i'>\n",
      "<re.Match object; span=(239, 240), match='t'>\n",
      "<re.Match object; span=(240, 241), match='h'>\n",
      "<re.Match object; span=(243, 244), match='s'>\n",
      "<re.Match object; span=(246, 247), match='a'>\n",
      "<re.Match object; span=(247, 248), match='v'>\n",
      "<re.Match object; span=(248, 249), match='i'>\n",
      "<re.Match object; span=(249, 250), match='s'>\n",
      "<re.Match object; span=(252, 253), match='r'>\n",
      "<re.Match object; span=(253, 254), match='s'>\n",
      "<re.Match object; span=(257, 258), match='o'>\n",
      "<re.Match object; span=(258, 259), match='b'>\n",
      "<re.Match object; span=(259, 260), match='i'>\n",
      "<re.Match object; span=(260, 261), match='n'>\n",
      "<re.Match object; span=(261, 262), match='s'>\n",
      "<re.Match object; span=(262, 263), match='o'>\n",
      "<re.Match object; span=(263, 264), match='n'>\n",
      "<re.Match object; span=(266, 267), match='r'>\n",
      "<re.Match object; span=(272, 273), match='c'>\n",
      "<re.Match object; span=(273, 274), match='a'>\n",
      "<re.Match object; span=(274, 275), match='t'>\n",
      "<re.Match object; span=(276, 277), match='m'>\n",
      "<re.Match object; span=(277, 278), match='a'>\n",
      "<re.Match object; span=(278, 279), match='t'>\n",
      "<re.Match object; span=(280, 281), match='p'>\n",
      "<re.Match object; span=(281, 282), match='a'>\n",
      "<re.Match object; span=(282, 283), match='t'>\n",
      "<re.Match object; span=(284, 285), match='b'>\n",
      "<re.Match object; span=(285, 286), match='a'>\n",
      "<re.Match object; span=(286, 287), match='t'>\n"
     ]
    }
   ],
   "source": [
    "pattern = re.compile(r\"[a-z]\")     #find matches beween a to z\n",
    "matches = pattern.finditer(text_to_search)\n",
    "\n",
    "for match in matches:\n",
    "    print(match)"
   ]
  },
  {
   "cell_type": "code",
   "execution_count": 90,
   "id": "41a2c800",
   "metadata": {},
   "outputs": [
    {
     "name": "stdout",
     "output_type": "stream",
     "text": [
      "<re.Match object; span=(1, 2), match='a'>\n",
      "<re.Match object; span=(2, 3), match='b'>\n",
      "<re.Match object; span=(3, 4), match='c'>\n",
      "<re.Match object; span=(4, 5), match='d'>\n",
      "<re.Match object; span=(5, 6), match='e'>\n",
      "<re.Match object; span=(6, 7), match='f'>\n",
      "<re.Match object; span=(7, 8), match='g'>\n",
      "<re.Match object; span=(8, 9), match='h'>\n",
      "<re.Match object; span=(9, 10), match='i'>\n",
      "<re.Match object; span=(10, 11), match='j'>\n",
      "<re.Match object; span=(11, 12), match='k'>\n",
      "<re.Match object; span=(12, 13), match='l'>\n",
      "<re.Match object; span=(13, 14), match='m'>\n",
      "<re.Match object; span=(14, 15), match='n'>\n",
      "<re.Match object; span=(15, 16), match='o'>\n",
      "<re.Match object; span=(16, 17), match='p'>\n",
      "<re.Match object; span=(17, 18), match='q'>\n",
      "<re.Match object; span=(18, 19), match='u'>\n",
      "<re.Match object; span=(19, 20), match='r'>\n",
      "<re.Match object; span=(20, 21), match='t'>\n",
      "<re.Match object; span=(21, 22), match='u'>\n",
      "<re.Match object; span=(22, 23), match='v'>\n",
      "<re.Match object; span=(23, 24), match='w'>\n",
      "<re.Match object; span=(24, 25), match='x'>\n",
      "<re.Match object; span=(25, 26), match='y'>\n",
      "<re.Match object; span=(26, 27), match='z'>\n",
      "<re.Match object; span=(28, 29), match='A'>\n",
      "<re.Match object; span=(29, 30), match='B'>\n",
      "<re.Match object; span=(30, 31), match='C'>\n",
      "<re.Match object; span=(31, 32), match='D'>\n",
      "<re.Match object; span=(32, 33), match='E'>\n",
      "<re.Match object; span=(33, 34), match='F'>\n",
      "<re.Match object; span=(34, 35), match='G'>\n",
      "<re.Match object; span=(35, 36), match='H'>\n",
      "<re.Match object; span=(36, 37), match='I'>\n",
      "<re.Match object; span=(37, 38), match='J'>\n",
      "<re.Match object; span=(38, 39), match='K'>\n",
      "<re.Match object; span=(39, 40), match='L'>\n",
      "<re.Match object; span=(40, 41), match='M'>\n",
      "<re.Match object; span=(41, 42), match='N'>\n",
      "<re.Match object; span=(42, 43), match='O'>\n",
      "<re.Match object; span=(43, 44), match='P'>\n",
      "<re.Match object; span=(44, 45), match='Q'>\n",
      "<re.Match object; span=(45, 46), match='R'>\n",
      "<re.Match object; span=(46, 47), match='S'>\n",
      "<re.Match object; span=(47, 48), match='T'>\n",
      "<re.Match object; span=(48, 49), match='U'>\n",
      "<re.Match object; span=(49, 50), match='V'>\n",
      "<re.Match object; span=(50, 51), match='W'>\n",
      "<re.Match object; span=(51, 52), match='X'>\n",
      "<re.Match object; span=(52, 53), match='Y'>\n",
      "<re.Match object; span=(53, 54), match='Z'>\n",
      "<re.Match object; span=(67, 68), match='H'>\n",
      "<re.Match object; span=(68, 69), match='a'>\n",
      "<re.Match object; span=(70, 71), match='H'>\n",
      "<re.Match object; span=(71, 72), match='a'>\n",
      "<re.Match object; span=(72, 73), match='H'>\n",
      "<re.Match object; span=(73, 74), match='a'>\n",
      "<re.Match object; span=(76, 77), match='M'>\n",
      "<re.Match object; span=(77, 78), match='e'>\n",
      "<re.Match object; span=(78, 79), match='t'>\n",
      "<re.Match object; span=(79, 80), match='a'>\n",
      "<re.Match object; span=(80, 81), match='C'>\n",
      "<re.Match object; span=(81, 82), match='h'>\n",
      "<re.Match object; span=(82, 83), match='a'>\n",
      "<re.Match object; span=(83, 84), match='r'>\n",
      "<re.Match object; span=(84, 85), match='a'>\n",
      "<re.Match object; span=(85, 86), match='c'>\n",
      "<re.Match object; span=(86, 87), match='t'>\n",
      "<re.Match object; span=(87, 88), match='e'>\n",
      "<re.Match object; span=(88, 89), match='r'>\n",
      "<re.Match object; span=(89, 90), match='s'>\n",
      "<re.Match object; span=(92, 93), match='N'>\n",
      "<re.Match object; span=(93, 94), match='e'>\n",
      "<re.Match object; span=(94, 95), match='e'>\n",
      "<re.Match object; span=(95, 96), match='d'>\n",
      "<re.Match object; span=(97, 98), match='t'>\n",
      "<re.Match object; span=(98, 99), match='o'>\n",
      "<re.Match object; span=(100, 101), match='b'>\n",
      "<re.Match object; span=(101, 102), match='e'>\n",
      "<re.Match object; span=(103, 104), match='e'>\n",
      "<re.Match object; span=(104, 105), match='s'>\n",
      "<re.Match object; span=(105, 106), match='c'>\n",
      "<re.Match object; span=(106, 107), match='a'>\n",
      "<re.Match object; span=(107, 108), match='p'>\n",
      "<re.Match object; span=(108, 109), match='e'>\n",
      "<re.Match object; span=(109, 110), match='d'>\n",
      "<re.Match object; span=(142, 143), match='c'>\n",
      "<re.Match object; span=(143, 144), match='o'>\n",
      "<re.Match object; span=(144, 145), match='r'>\n",
      "<re.Match object; span=(145, 146), match='e'>\n",
      "<re.Match object; span=(146, 147), match='y'>\n",
      "<re.Match object; span=(147, 148), match='m'>\n",
      "<re.Match object; span=(148, 149), match='s'>\n",
      "<re.Match object; span=(150, 151), match='c'>\n",
      "<re.Match object; span=(151, 152), match='o'>\n",
      "<re.Match object; span=(152, 153), match='m'>\n",
      "<re.Match object; span=(221, 222), match='M'>\n",
      "<re.Match object; span=(222, 223), match='r'>\n",
      "<re.Match object; span=(225, 226), match='S'>\n",
      "<re.Match object; span=(226, 227), match='c'>\n",
      "<re.Match object; span=(227, 228), match='h'>\n",
      "<re.Match object; span=(228, 229), match='a'>\n",
      "<re.Match object; span=(229, 230), match='f'>\n",
      "<re.Match object; span=(230, 231), match='e'>\n",
      "<re.Match object; span=(231, 232), match='r'>\n",
      "<re.Match object; span=(233, 234), match='M'>\n",
      "<re.Match object; span=(234, 235), match='r'>\n",
      "<re.Match object; span=(236, 237), match='S'>\n",
      "<re.Match object; span=(237, 238), match='m'>\n",
      "<re.Match object; span=(238, 239), match='i'>\n",
      "<re.Match object; span=(239, 240), match='t'>\n",
      "<re.Match object; span=(240, 241), match='h'>\n",
      "<re.Match object; span=(242, 243), match='M'>\n",
      "<re.Match object; span=(243, 244), match='s'>\n",
      "<re.Match object; span=(245, 246), match='D'>\n",
      "<re.Match object; span=(246, 247), match='a'>\n",
      "<re.Match object; span=(247, 248), match='v'>\n",
      "<re.Match object; span=(248, 249), match='i'>\n",
      "<re.Match object; span=(249, 250), match='s'>\n",
      "<re.Match object; span=(251, 252), match='M'>\n",
      "<re.Match object; span=(252, 253), match='r'>\n",
      "<re.Match object; span=(253, 254), match='s'>\n",
      "<re.Match object; span=(256, 257), match='R'>\n",
      "<re.Match object; span=(257, 258), match='o'>\n",
      "<re.Match object; span=(258, 259), match='b'>\n",
      "<re.Match object; span=(259, 260), match='i'>\n",
      "<re.Match object; span=(260, 261), match='n'>\n",
      "<re.Match object; span=(261, 262), match='s'>\n",
      "<re.Match object; span=(262, 263), match='o'>\n",
      "<re.Match object; span=(263, 264), match='n'>\n",
      "<re.Match object; span=(265, 266), match='M'>\n",
      "<re.Match object; span=(266, 267), match='r'>\n",
      "<re.Match object; span=(269, 270), match='T'>\n",
      "<re.Match object; span=(272, 273), match='c'>\n",
      "<re.Match object; span=(273, 274), match='a'>\n",
      "<re.Match object; span=(274, 275), match='t'>\n",
      "<re.Match object; span=(276, 277), match='m'>\n",
      "<re.Match object; span=(277, 278), match='a'>\n",
      "<re.Match object; span=(278, 279), match='t'>\n",
      "<re.Match object; span=(280, 281), match='p'>\n",
      "<re.Match object; span=(281, 282), match='a'>\n",
      "<re.Match object; span=(282, 283), match='t'>\n",
      "<re.Match object; span=(284, 285), match='b'>\n",
      "<re.Match object; span=(285, 286), match='a'>\n",
      "<re.Match object; span=(286, 287), match='t'>\n"
     ]
    }
   ],
   "source": [
    "pattern = re.compile(r\"[a-zA-Z]\")   #matches between lower case a to z to upper case A to Z\n",
    "matches = pattern.finditer(text_to_search)\n",
    "\n",
    "for match in matches:\n",
    "    print(match)"
   ]
  },
  {
   "cell_type": "code",
   "execution_count": 91,
   "id": "e972cae1",
   "metadata": {},
   "outputs": [
    {
     "name": "stdout",
     "output_type": "stream",
     "text": [
      "<re.Match object; span=(0, 1), match='\\n'>\n",
      "<re.Match object; span=(27, 28), match='\\n'>\n",
      "<re.Match object; span=(54, 55), match='\\n'>\n",
      "<re.Match object; span=(55, 56), match='1'>\n",
      "<re.Match object; span=(56, 57), match='2'>\n",
      "<re.Match object; span=(57, 58), match='3'>\n",
      "<re.Match object; span=(58, 59), match='4'>\n",
      "<re.Match object; span=(59, 60), match='5'>\n",
      "<re.Match object; span=(60, 61), match='6'>\n",
      "<re.Match object; span=(61, 62), match='7'>\n",
      "<re.Match object; span=(62, 63), match='8'>\n",
      "<re.Match object; span=(63, 64), match='9'>\n",
      "<re.Match object; span=(64, 65), match='0'>\n",
      "<re.Match object; span=(65, 66), match='\\n'>\n",
      "<re.Match object; span=(66, 67), match='\\n'>\n",
      "<re.Match object; span=(69, 70), match=' '>\n",
      "<re.Match object; span=(74, 75), match='\\n'>\n",
      "<re.Match object; span=(75, 76), match='\\n'>\n",
      "<re.Match object; span=(90, 91), match=' '>\n",
      "<re.Match object; span=(91, 92), match='('>\n",
      "<re.Match object; span=(96, 97), match=' '>\n",
      "<re.Match object; span=(99, 100), match=' '>\n",
      "<re.Match object; span=(102, 103), match=' '>\n",
      "<re.Match object; span=(110, 111), match=')'>\n",
      "<re.Match object; span=(111, 112), match=':'>\n",
      "<re.Match object; span=(112, 113), match='\\n'>\n",
      "<re.Match object; span=(113, 114), match='.'>\n",
      "<re.Match object; span=(114, 115), match=' '>\n",
      "<re.Match object; span=(115, 116), match='^'>\n",
      "<re.Match object; span=(116, 117), match=' '>\n",
      "<re.Match object; span=(117, 118), match='$'>\n",
      "<re.Match object; span=(118, 119), match=' '>\n",
      "<re.Match object; span=(119, 120), match='*'>\n",
      "<re.Match object; span=(120, 121), match=' '>\n",
      "<re.Match object; span=(121, 122), match='+'>\n",
      "<re.Match object; span=(122, 123), match=' '>\n",
      "<re.Match object; span=(123, 124), match='?'>\n",
      "<re.Match object; span=(124, 125), match=' '>\n",
      "<re.Match object; span=(125, 126), match='{'>\n",
      "<re.Match object; span=(126, 127), match=' '>\n",
      "<re.Match object; span=(127, 128), match='}'>\n",
      "<re.Match object; span=(128, 129), match=' '>\n",
      "<re.Match object; span=(129, 130), match='['>\n",
      "<re.Match object; span=(130, 131), match=' '>\n",
      "<re.Match object; span=(131, 132), match=']'>\n",
      "<re.Match object; span=(132, 133), match=' '>\n",
      "<re.Match object; span=(133, 134), match='\\\\'>\n",
      "<re.Match object; span=(134, 135), match=' '>\n",
      "<re.Match object; span=(135, 136), match='|'>\n",
      "<re.Match object; span=(136, 137), match=' '>\n",
      "<re.Match object; span=(137, 138), match='('>\n",
      "<re.Match object; span=(138, 139), match=' '>\n",
      "<re.Match object; span=(139, 140), match=')'>\n",
      "<re.Match object; span=(140, 141), match='\\n'>\n",
      "<re.Match object; span=(141, 142), match='\\n'>\n",
      "<re.Match object; span=(149, 150), match='.'>\n",
      "<re.Match object; span=(153, 154), match='\\n'>\n",
      "<re.Match object; span=(154, 155), match='\\n'>\n",
      "<re.Match object; span=(155, 156), match='3'>\n",
      "<re.Match object; span=(156, 157), match='2'>\n",
      "<re.Match object; span=(157, 158), match='1'>\n",
      "<re.Match object; span=(158, 159), match='-'>\n",
      "<re.Match object; span=(159, 160), match='5'>\n",
      "<re.Match object; span=(160, 161), match='5'>\n",
      "<re.Match object; span=(161, 162), match='5'>\n",
      "<re.Match object; span=(162, 163), match='-'>\n",
      "<re.Match object; span=(163, 164), match='4'>\n",
      "<re.Match object; span=(164, 165), match='3'>\n",
      "<re.Match object; span=(165, 166), match='2'>\n",
      "<re.Match object; span=(166, 167), match='1'>\n",
      "<re.Match object; span=(167, 168), match='\\n'>\n",
      "<re.Match object; span=(168, 169), match='1'>\n",
      "<re.Match object; span=(169, 170), match='2'>\n",
      "<re.Match object; span=(170, 171), match='3'>\n",
      "<re.Match object; span=(171, 172), match='.'>\n",
      "<re.Match object; span=(172, 173), match='5'>\n",
      "<re.Match object; span=(173, 174), match='5'>\n",
      "<re.Match object; span=(174, 175), match='5'>\n",
      "<re.Match object; span=(175, 176), match='.'>\n",
      "<re.Match object; span=(176, 177), match='1'>\n",
      "<re.Match object; span=(177, 178), match='2'>\n",
      "<re.Match object; span=(178, 179), match='3'>\n",
      "<re.Match object; span=(179, 180), match='4'>\n",
      "<re.Match object; span=(180, 181), match='\\n'>\n",
      "<re.Match object; span=(181, 182), match='1'>\n",
      "<re.Match object; span=(182, 183), match='2'>\n",
      "<re.Match object; span=(183, 184), match='3'>\n",
      "<re.Match object; span=(184, 185), match='*'>\n",
      "<re.Match object; span=(185, 186), match='5'>\n",
      "<re.Match object; span=(186, 187), match='5'>\n",
      "<re.Match object; span=(187, 188), match='5'>\n",
      "<re.Match object; span=(188, 189), match='*'>\n",
      "<re.Match object; span=(189, 190), match='1'>\n",
      "<re.Match object; span=(190, 191), match='2'>\n",
      "<re.Match object; span=(191, 192), match='3'>\n",
      "<re.Match object; span=(192, 193), match='4'>\n",
      "<re.Match object; span=(193, 194), match='\\n'>\n",
      "<re.Match object; span=(194, 195), match='8'>\n",
      "<re.Match object; span=(195, 196), match='0'>\n",
      "<re.Match object; span=(196, 197), match='0'>\n",
      "<re.Match object; span=(197, 198), match='-'>\n",
      "<re.Match object; span=(198, 199), match='5'>\n",
      "<re.Match object; span=(199, 200), match='5'>\n",
      "<re.Match object; span=(200, 201), match='5'>\n",
      "<re.Match object; span=(201, 202), match='-'>\n",
      "<re.Match object; span=(202, 203), match='1'>\n",
      "<re.Match object; span=(203, 204), match='2'>\n",
      "<re.Match object; span=(204, 205), match='3'>\n",
      "<re.Match object; span=(205, 206), match='4'>\n",
      "<re.Match object; span=(206, 207), match='\\n'>\n",
      "<re.Match object; span=(207, 208), match='9'>\n",
      "<re.Match object; span=(208, 209), match='0'>\n",
      "<re.Match object; span=(209, 210), match='0'>\n",
      "<re.Match object; span=(210, 211), match='-'>\n",
      "<re.Match object; span=(211, 212), match='5'>\n",
      "<re.Match object; span=(212, 213), match='5'>\n",
      "<re.Match object; span=(213, 214), match='5'>\n",
      "<re.Match object; span=(214, 215), match='-'>\n",
      "<re.Match object; span=(215, 216), match='1'>\n",
      "<re.Match object; span=(216, 217), match='2'>\n",
      "<re.Match object; span=(217, 218), match='3'>\n",
      "<re.Match object; span=(218, 219), match='4'>\n",
      "<re.Match object; span=(219, 220), match='\\n'>\n",
      "<re.Match object; span=(220, 221), match='\\n'>\n",
      "<re.Match object; span=(223, 224), match='.'>\n",
      "<re.Match object; span=(224, 225), match=' '>\n",
      "<re.Match object; span=(232, 233), match='\\n'>\n",
      "<re.Match object; span=(235, 236), match=' '>\n",
      "<re.Match object; span=(241, 242), match='\\n'>\n",
      "<re.Match object; span=(244, 245), match=' '>\n",
      "<re.Match object; span=(250, 251), match='\\n'>\n",
      "<re.Match object; span=(254, 255), match='.'>\n",
      "<re.Match object; span=(255, 256), match=' '>\n",
      "<re.Match object; span=(264, 265), match='\\n'>\n",
      "<re.Match object; span=(267, 268), match='.'>\n",
      "<re.Match object; span=(268, 269), match=' '>\n",
      "<re.Match object; span=(270, 271), match='\\n'>\n",
      "<re.Match object; span=(271, 272), match='\\n'>\n",
      "<re.Match object; span=(275, 276), match='\\n'>\n",
      "<re.Match object; span=(279, 280), match='\\n'>\n",
      "<re.Match object; span=(283, 284), match='\\n'>\n",
      "<re.Match object; span=(287, 288), match='\\n'>\n",
      "<re.Match object; span=(288, 289), match='\\n'>\n"
     ]
    }
   ],
   "source": [
    "pattern = re.compile(r\"[^a-zA-Z]\")  # ^ within a brackets negates\n",
    "matches = pattern.finditer(text_to_search)\n",
    "\n",
    "for match in matches:\n",
    "    print(match)"
   ]
  },
  {
   "cell_type": "code",
   "execution_count": 92,
   "id": "49c16645",
   "metadata": {},
   "outputs": [
    {
     "name": "stdout",
     "output_type": "stream",
     "text": [
      "<re.Match object; span=(272, 275), match='cat'>\n",
      "<re.Match object; span=(276, 279), match='mat'>\n",
      "<re.Match object; span=(280, 283), match='pat'>\n"
     ]
    }
   ],
   "source": [
    "pattern = re.compile(r\"[^b]at\")  # i have cat mat pat bat bu i want other values intead of bat\n",
    "matches = pattern.finditer(text_to_search)\n",
    "\n",
    "for match in matches:\n",
    "    print(match)"
   ]
  },
  {
   "cell_type": "markdown",
   "id": "eeec25a3",
   "metadata": {},
   "source": [
    "#### Quntifiers"
   ]
  },
  {
   "cell_type": "code",
   "execution_count": 93,
   "id": "11523e09",
   "metadata": {},
   "outputs": [
    {
     "name": "stdout",
     "output_type": "stream",
     "text": [
      "<re.Match object; span=(155, 167), match='321-555-4321'>\n",
      "<re.Match object; span=(168, 180), match='123.555.1234'>\n",
      "<re.Match object; span=(181, 193), match='123*555*1234'>\n",
      "<re.Match object; span=(194, 206), match='800-555-1234'>\n",
      "<re.Match object; span=(207, 219), match='900-555-1234'>\n"
     ]
    }
   ],
   "source": [
    "pattern = re.compile(r\"\\d{3}.\\d{3}.\\d{4}\")  # this same as re.compile(r\"\\d\\d\\d.\\d\\d\\d.\\d\\d\\d\\d\")\n",
    "matches = pattern.finditer(text_to_search)\n",
    "\n",
    "for match in matches:\n",
    "    print(match)"
   ]
  },
  {
   "cell_type": "code",
   "execution_count": 94,
   "id": "1185a26c",
   "metadata": {},
   "outputs": [
    {
     "name": "stdout",
     "output_type": "stream",
     "text": [
      "<re.Match object; span=(221, 232), match='Mr. Schafer'>\n",
      "<re.Match object; span=(233, 241), match='Mr Smith'>\n",
      "<re.Match object; span=(265, 270), match='Mr. T'>\n"
     ]
    }
   ],
   "source": [
    "pattern = re.compile(r\"Mr\\.?\\s[A-Z]\\w*\") \n",
    "matches = pattern.finditer(text_to_search)\n",
    "\n",
    "for match in matches:\n",
    "    print(match)"
   ]
  },
  {
   "cell_type": "code",
   "execution_count": 95,
   "id": "6bac3461",
   "metadata": {},
   "outputs": [
    {
     "name": "stdout",
     "output_type": "stream",
     "text": [
      "<re.Match object; span=(221, 232), match='Mr. Schafer'>\n",
      "<re.Match object; span=(233, 241), match='Mr Smith'>\n",
      "<re.Match object; span=(242, 250), match='Ms Davis'>\n",
      "<re.Match object; span=(251, 264), match='Mrs. Robinson'>\n",
      "<re.Match object; span=(265, 270), match='Mr. T'>\n"
     ]
    }
   ],
   "source": [
    "pattern = re.compile(r\"M(r|s|rs)\\.?\\s[A-Z]\\w*\")  #we i can use (Mr|Ms|Mrs)\n",
    "matches = pattern.finditer(text_to_search)\n",
    "\n",
    "for match in matches:\n",
    "    print(match)"
   ]
  },
  {
   "cell_type": "markdown",
   "id": "4020d54a",
   "metadata": {},
   "source": [
    "##### Emails"
   ]
  },
  {
   "cell_type": "code",
   "execution_count": 96,
   "id": "a014d76f",
   "metadata": {},
   "outputs": [],
   "source": [
    "emails = '''\n",
    "CoreyMSchafer@gmail.com\n",
    "corey.schafer@university.edu\n",
    "corey-321-schafer@my-work.net\n",
    "'''"
   ]
  },
  {
   "cell_type": "code",
   "execution_count": 97,
   "id": "79db30c4",
   "metadata": {},
   "outputs": [
    {
     "name": "stdout",
     "output_type": "stream",
     "text": [
      "<re.Match object; span=(1, 24), match='CoreyMSchafer@gmail.com'>\n"
     ]
    }
   ],
   "source": [
    "pattern = re.compile(r\"[a-z-A-Z]+@[a-z-A-Z]+\\.com\")  #first email address matching\n",
    "matches = pattern.finditer(emails)\n",
    "\n",
    "for match in matches:\n",
    "    print(match)"
   ]
  },
  {
   "cell_type": "code",
   "execution_count": 98,
   "id": "193b90d0",
   "metadata": {},
   "outputs": [
    {
     "name": "stdout",
     "output_type": "stream",
     "text": [
      "<re.Match object; span=(1, 24), match='CoreyMSchafer@gmail.com'>\n",
      "<re.Match object; span=(25, 53), match='corey.schafer@university.edu'>\n"
     ]
    }
   ],
   "source": [
    "pattern = re.compile(r\"[a-zA-Z.]+@[a-z-A-Z]+\\.(com|edu)\") #first and second email address matching\n",
    "matches = pattern.finditer(emails)\n",
    "\n",
    "for match in matches:\n",
    "    print(match)"
   ]
  },
  {
   "cell_type": "code",
   "execution_count": 99,
   "id": "d27358f2",
   "metadata": {},
   "outputs": [
    {
     "ename": "NameError",
     "evalue": "name 'emails' is not defined",
     "output_type": "error",
     "traceback": [
      "\u001b[1;31m---------------------------------------------------------------------------\u001b[0m",
      "\u001b[1;31mNameError\u001b[0m                                 Traceback (most recent call last)",
      "Cell \u001b[1;32mIn[99], line 2\u001b[0m\n\u001b[0;32m      1\u001b[0m pattern \u001b[38;5;241m=\u001b[39m re\u001b[38;5;241m.\u001b[39mcompile(\u001b[38;5;124mr\u001b[39m\u001b[38;5;124m\"\u001b[39m\u001b[38;5;124m[a-z-A-Z0-9.-]+@[a-z-A-Z-]+\u001b[39m\u001b[38;5;124m\\\u001b[39m\u001b[38;5;124m.(com|edu|net)\u001b[39m\u001b[38;5;124m\"\u001b[39m)\n\u001b[1;32m----> 2\u001b[0m matches \u001b[38;5;241m=\u001b[39m pattern\u001b[38;5;241m.\u001b[39mfinditer(email)\n\u001b[0;32m      4\u001b[0m \u001b[38;5;28;01mfor\u001b[39;00m match \u001b[38;5;129;01min\u001b[39;00m matches:\n\u001b[0;32m      5\u001b[0m     \u001b[38;5;28mprint\u001b[39m(match)\n",
      "\u001b[1;31mNameError\u001b[0m: name 'email' is not defined"
     ]
    }
   ],
   "source": [
    "pattern = re.compile(r\"[a-z-A-Z0-9.-]+@[a-z-A-Z-]+\\.(com|edu|net)\")\n",
    "matches = pattern.finditer(email)\n",
    "\n",
    "for match in matches:\n",
    "    print(match)"
   ]
  },
  {
   "cell_type": "code",
   "execution_count": null,
   "id": "861af7d0",
   "metadata": {},
   "outputs": [],
   "source": [
    "pattern = re.compile(r'[a-zA-Z0-9_.+-]+@[a-zA-Z0-9-]+\\.[a-zA-Z0-9-.]+')  #second method\n",
    "matches = pattern.finditer(emails)\n",
    "\n",
    "for match in matches:\n",
    "    print(match)"
   ]
  },
  {
   "cell_type": "markdown",
   "id": "1b3af4dd",
   "metadata": {},
   "source": [
    "#### urls"
   ]
  },
  {
   "cell_type": "code",
   "execution_count": null,
   "id": "9a3b6e66",
   "metadata": {},
   "outputs": [],
   "source": [
    "urls = '''\n",
    "https://www.google.com\n",
    "http://coreyms.com\n",
    "https://youtube.com\n",
    "https://www.nasa.gov\n",
    "'''"
   ]
  },
  {
   "cell_type": "code",
   "execution_count": 108,
   "id": "8259259b",
   "metadata": {},
   "outputs": [
    {
     "name": "stdout",
     "output_type": "stream",
     "text": [
      "<re.Match object; span=(1, 23), match='https://www.google.com'>\n",
      "<re.Match object; span=(24, 42), match='http://coreyms.com'>\n",
      "<re.Match object; span=(43, 62), match='https://youtube.com'>\n",
      "<re.Match object; span=(63, 83), match='https://www.nasa.gov'>\n"
     ]
    }
   ],
   "source": [
    "pattern = re.compile(r\"https?://(www\\.)?(\\w+)(\\.\\w+)\")  #first method\n",
    "matches = pattern.finditer(urls)\n",
    "\n",
    "for match in matches:\n",
    "    print(match)"
   ]
  },
  {
   "cell_type": "code",
   "execution_count": 106,
   "id": "79bc6f26",
   "metadata": {},
   "outputs": [
    {
     "name": "stdout",
     "output_type": "stream",
     "text": [
      "<re.Match object; span=(1, 23), match='https://www.google.com'>\n",
      "<re.Match object; span=(24, 42), match='http://coreyms.com'>\n",
      "<re.Match object; span=(43, 62), match='https://youtube.com'>\n",
      "<re.Match object; span=(63, 83), match='https://www.nasa.gov'>\n"
     ]
    }
   ],
   "source": [
    "pattern = re.compile(r\"https?://(www\\.)?(\\w+)(\\.\\w+)\")   #Second method\n",
    "matches = pattern.finditer(urls)\n",
    "\n",
    "for match in matches:\n",
    "    print(match)"
   ]
  },
  {
   "cell_type": "code",
   "execution_count": 109,
   "id": "26501075",
   "metadata": {},
   "outputs": [
    {
     "name": "stdout",
     "output_type": "stream",
     "text": [
      "https://www.google.com\n",
      "http://coreyms.com\n",
      "https://youtube.com\n",
      "https://www.nasa.gov\n"
     ]
    }
   ],
   "source": [
    "pattern = re.compile(r\"https?://(www\\.)?(\\w+)(\\.\\w+)\")\n",
    "matches = pattern.finditer(urls)\n",
    "\n",
    "for match in matches:\n",
    "    print(match.group(0))   # Group 0"
   ]
  },
  {
   "cell_type": "code",
   "execution_count": 110,
   "id": "56221d30",
   "metadata": {},
   "outputs": [
    {
     "name": "stdout",
     "output_type": "stream",
     "text": [
      "www.\n",
      "None\n",
      "None\n",
      "www.\n"
     ]
    }
   ],
   "source": [
    "pattern = re.compile(r\"https?://(www\\.)?(\\w+)(\\.\\w+)\")\n",
    "matches = pattern.finditer(urls)\n",
    "\n",
    "for match in matches:\n",
    "    print(match.group(1))   #Group 1\n"
   ]
  },
  {
   "cell_type": "code",
   "execution_count": 113,
   "id": "52f70b2b",
   "metadata": {},
   "outputs": [
    {
     "name": "stdout",
     "output_type": "stream",
     "text": [
      "google\n",
      "coreyms\n",
      "youtube\n",
      "nasa\n"
     ]
    }
   ],
   "source": [
    "pattern = re.compile(r\"https?://(www\\.)?(\\w+)(\\.\\w+)\")\n",
    "matches = pattern.finditer(urls)\n",
    "\n",
    "for match in matches:\n",
    "    print(match.group(2))  #Group 2"
   ]
  },
  {
   "cell_type": "code",
   "execution_count": 114,
   "id": "da53cb70",
   "metadata": {},
   "outputs": [
    {
     "name": "stdout",
     "output_type": "stream",
     "text": [
      ".com\n",
      ".com\n",
      ".com\n",
      ".gov\n"
     ]
    }
   ],
   "source": [
    "pattern = re.compile(r\"https?://(www\\.)?(\\w+)(\\.\\w+)\")\n",
    "matches = pattern.finditer(urls)\n",
    "\n",
    "for match in matches:\n",
    "    print(match.group(3))   #Group 3"
   ]
  },
  {
   "cell_type": "markdown",
   "id": "d3dbcfc0",
   "metadata": {},
   "source": [
    "#### sub() function"
   ]
  },
  {
   "cell_type": "code",
   "execution_count": 117,
   "id": "fcd4158b",
   "metadata": {},
   "outputs": [
    {
     "name": "stdout",
     "output_type": "stream",
     "text": [
      "\n",
      "google.com\n",
      "coreyms.com\n",
      "youtube.com\n",
      "nasa.gov\n",
      "\n"
     ]
    }
   ],
   "source": [
    "pattern = re.compile(r\"https?://(www\\.)?(\\w+)(\\.\\w+)\")\n",
    "subbed_urls = pattern.sub(r\"\\2\\3\", urls)\n",
    "\n",
    "print(subbed_urls)\n",
    "\n"
   ]
  },
  {
   "cell_type": "markdown",
   "id": "6a117a74",
   "metadata": {},
   "source": [
    "#### findall() function"
   ]
  },
  {
   "cell_type": "code",
   "execution_count": 121,
   "id": "d9bb6291",
   "metadata": {},
   "outputs": [
    {
     "name": "stdout",
     "output_type": "stream",
     "text": [
      "('www.', 'google', '.com')\n",
      "('', 'coreyms', '.com')\n",
      "('', 'youtube', '.com')\n",
      "('www.', 'nasa', '.gov')\n"
     ]
    }
   ],
   "source": [
    "pattern = re.compile(r\"https?://(www\\.)?(\\w+)(\\.\\w+)\")  #with multiples group it returns tuple\n",
    "matches = pattern.findall(urls) \n",
    "\n",
    "for match in matches:\n",
    "    print(match)"
   ]
  },
  {
   "cell_type": "code",
   "execution_count": 124,
   "id": "70282cb3",
   "metadata": {},
   "outputs": [
    {
     "name": "stdout",
     "output_type": "stream",
     "text": [
      "Mr\n",
      "Mr\n",
      "Ms\n",
      "Mrs\n",
      "Mr\n"
     ]
    }
   ],
   "source": [
    "pattern = re.compile(r\"(Mr|Ms|Mrs)\\.?\\s[A-Z]\\w*\")  #we i can use (Mr|Ms|Mrs)\n",
    "matches = pattern.findall(text_to_search)         #if there's no group then it'll return a list of strings\n",
    "\n",
    "for match in matches:\n",
    "    print(match)"
   ]
  },
  {
   "cell_type": "code",
   "execution_count": 126,
   "id": "7dde5982",
   "metadata": {},
   "outputs": [
    {
     "name": "stdout",
     "output_type": "stream",
     "text": [
      "321-555-4321\n",
      "123.555.1234\n",
      "123*555*1234\n",
      "800-555-1234\n",
      "900-555-1234\n"
     ]
    }
   ],
   "source": [
    "pattern = re.compile(r\"\\d{3}.\\d{3}.\\d{4}\")  #we i can use (Mr|Ms|Mrs)\n",
    "matches = pattern.findall(text_to_search)\n",
    "\n",
    "for match in matches:\n",
    "    print(match)"
   ]
  },
  {
   "cell_type": "markdown",
   "id": "9cd05104",
   "metadata": {},
   "source": [
    "#### match() method"
   ]
  },
  {
   "cell_type": "code",
   "execution_count": 136,
   "id": "f52ccedd",
   "metadata": {},
   "outputs": [
    {
     "name": "stdout",
     "output_type": "stream",
     "text": [
      "<re.Match object; span=(0, 5), match='Start'>\n"
     ]
    }
   ],
   "source": [
    "pattern = re.compile(r\"Start\")  \n",
    "matches = pattern.match(sentence)   # match() only search the start of the string\n",
    "\n",
    "print(matches)"
   ]
  },
  {
   "cell_type": "code",
   "execution_count": 142,
   "id": "8caa5574",
   "metadata": {},
   "outputs": [
    {
     "name": "stdout",
     "output_type": "stream",
     "text": [
      "<re.Match object; span=(8, 16), match='sentence'>\n"
     ]
    }
   ],
   "source": [
    "pattern = re.compile(r\"sentence\")\n",
    "matches = pattern.search(sentence)  #search method find the word charcter anywhere in the string\n",
    "\n",
    "print(matches)"
   ]
  },
  {
   "cell_type": "markdown",
   "id": "3e7dde03",
   "metadata": {},
   "source": [
    "#### flags"
   ]
  },
  {
   "cell_type": "code",
   "execution_count": 143,
   "id": "4f9e9bb7",
   "metadata": {},
   "outputs": [
    {
     "name": "stdout",
     "output_type": "stream",
     "text": [
      "<re.Match object; span=(0, 5), match='Start'>\n"
     ]
    }
   ],
   "source": [
    "pattern = re.compile(r\"start\", re.IGNORECASE)  #we can also use re.I\n",
    "matches = pattern.search(sentence)\n",
    "\n",
    "print(matches)"
   ]
  },
  {
   "cell_type": "code",
   "execution_count": 145,
   "id": "18db804c",
   "metadata": {},
   "outputs": [
    {
     "name": "stdout",
     "output_type": "stream",
     "text": [
      "<re.Match object; span=(25, 29), match='Here'>\n"
     ]
    }
   ],
   "source": [
    "sentc = \"This is a Test sentence.\\nHere is another line.\"\n",
    "\n",
    "pattern = re.compile(r\"^Here\", re.MULTILINE)\n",
    "matches = pattern.search(sentc)\n",
    " \n",
    "print(matches)\n"
   ]
  },
  {
   "cell_type": "code",
   "execution_count": 146,
   "id": "7838e96d",
   "metadata": {},
   "outputs": [
    {
     "name": "stdout",
     "output_type": "stream",
     "text": [
      "<re.Match object; span=(0, 5), match='This '>\n"
     ]
    }
   ],
   "source": [
    "pattern = re.compile(\"\"\"\n",
    "^        #start of the string\n",
    "This     # the Word \"This\"\n",
    "\\s       #white space character\n",
    "\"\"\", re.VERBOSE)\n",
    "matches = pattern.search(sentc)\n",
    "\n",
    "print(matches)"
   ]
  },
  {
   "cell_type": "code",
   "execution_count": null,
   "id": "7a15259f",
   "metadata": {},
   "outputs": [],
   "source": []
  }
 ],
 "metadata": {
  "kernelspec": {
   "display_name": "Python 3 (ipykernel)",
   "language": "python",
   "name": "python3"
  },
  "language_info": {
   "codemirror_mode": {
    "name": "ipython",
    "version": 3
   },
   "file_extension": ".py",
   "mimetype": "text/x-python",
   "name": "python",
   "nbconvert_exporter": "python",
   "pygments_lexer": "ipython3",
   "version": "3.11.5"
  }
 },
 "nbformat": 4,
 "nbformat_minor": 5
}
