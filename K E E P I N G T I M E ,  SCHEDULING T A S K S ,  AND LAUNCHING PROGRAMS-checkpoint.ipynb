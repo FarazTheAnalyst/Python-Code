{
 "cells": [
  {
   "cell_type": "code",
   "execution_count": 1,
   "id": "0aac167f",
   "metadata": {},
   "outputs": [
    {
     "data": {
      "text/plain": [
       "1662570073.4549978"
      ]
     },
     "execution_count": 1,
     "metadata": {},
     "output_type": "execute_result"
    }
   ],
   "source": [
    "# The time.time() Function\n",
    "import time\n",
    "time.time()"
   ]
  },
  {
   "cell_type": "code",
   "execution_count": 27,
   "id": "90ccf26f",
   "metadata": {},
   "outputs": [
    {
     "name": "stdout",
     "output_type": "stream",
     "text": [
      "The result is 456569 digits long.\n",
      "Took 3.4567155838012695 seconds to calculate.\n"
     ]
    }
   ],
   "source": [
    "import time\n",
    "def calcProd():\n",
    "    \n",
    "    # Calculate the product of the first 100,000 numbers.\n",
    "    product = 1\n",
    "    for i in range(1, 100000):\n",
    "        product = product * i\n",
    "    return product\n",
    "    \n",
    "    \n",
    "startTime = time.time()\n",
    "prod = calcProd()\n",
    "endTime = time.time()\n",
    "print('The result is %s digits long.' % (len(str(prod))))\n",
    "print('Took %s seconds to calculate.' % (endTime - startTime))"
   ]
  },
  {
   "cell_type": "code",
   "execution_count": 31,
   "id": "e2fbc6ef",
   "metadata": {},
   "outputs": [
    {
     "data": {
      "text/plain": [
       "'Wed Sep  7 09:31:29 2022'"
      ]
     },
     "execution_count": 31,
     "metadata": {},
     "output_type": "execute_result"
    }
   ],
   "source": [
    "import time\n",
    "time.ctime()"
   ]
  },
  {
   "cell_type": "code",
   "execution_count": 32,
   "id": "7f770fce",
   "metadata": {},
   "outputs": [],
   "source": [
    "thisMoment = time.time()"
   ]
  },
  {
   "cell_type": "code",
   "execution_count": 33,
   "id": "535149c0",
   "metadata": {},
   "outputs": [
    {
     "data": {
      "text/plain": [
       "'Wed Sep  7 09:31:32 2022'"
      ]
     },
     "execution_count": 33,
     "metadata": {},
     "output_type": "execute_result"
    }
   ],
   "source": [
    "time.ctime(thisMoment)"
   ]
  },
  {
   "cell_type": "code",
   "execution_count": 42,
   "id": "8c85591d",
   "metadata": {},
   "outputs": [
    {
     "name": "stdout",
     "output_type": "stream",
     "text": [
      "Tick\n",
      "Tock\n",
      "Tick\n",
      "Tock\n",
      "Tick\n",
      "Tock\n"
     ]
    }
   ],
   "source": [
    "# The time.sleep() Function\n",
    "for i in range(3):\n",
    "    print('Tick')\n",
    "    time.sleep(1)\n",
    "    print('Tock')\n",
    "    time.sleep(1)\n",
    "    time.sleep(5)"
   ]
  },
  {
   "cell_type": "code",
   "execution_count": null,
   "id": "70c4f710",
   "metadata": {},
   "outputs": [],
   "source": [
    "# Rounding Numbers\n",
    "import time\n",
    "now = time.time()\n",
    "now"
   ]
  },
  {
   "cell_type": "code",
   "execution_count": null,
   "id": "89dd79f6",
   "metadata": {},
   "outputs": [],
   "source": [
    "round(now, 2)"
   ]
  },
  {
   "cell_type": "code",
   "execution_count": null,
   "id": "5bdb4584",
   "metadata": {},
   "outputs": [],
   "source": [
    "round(now, 4)"
   ]
  },
  {
   "cell_type": "code",
   "execution_count": null,
   "id": "63dd1c0d",
   "metadata": {},
   "outputs": [],
   "source": [
    "round(now)"
   ]
  },
  {
   "cell_type": "code",
   "execution_count": null,
   "id": "28c6c8cc",
   "metadata": {},
   "outputs": [
    {
     "name": "stdout",
     "output_type": "stream",
     "text": [
      "Press ENTER to begin. Afterward, press ENTER to \"click\" the stopwatch. Press CTRL-C to quit.\n",
      "\n",
      "Started.\n",
      "\n",
      "Lap #1: 2.61 (2.61)m\n",
      "Lap #2: 18.98 (16.37)m\n",
      "Lap #3: 19.8 (0.82)m\n",
      "Lap #4: 134.58 (114.79)m\n",
      "Lap #5: 141.41 (6.83)m\n",
      "Lap #6: 142.33 (0.92)m\n",
      "Lap #7: 161.92 (19.58)m\n",
      "Lap #8: 163.01 (1.09)m\n",
      "Lap #9: 210.74 (47.73)m\n",
      "Lap #10: 453.73 (242.98)m\n",
      "Lap #11: 455.06 (1.33)m\n",
      "Lap #12: 513.74 (58.68)m\n",
      "Lap #13: 514.85 (1.12)m\n",
      "Lap #14: 515.81 (0.96)m\n",
      "Lap #15: 516.82 (1.01)m\n",
      "Lap #16: 519.12 (2.3)m\n",
      "Lap #17: 520.03 (0.92)m\n",
      "Lap #18: 819.24 (299.21)m\n",
      "Lap #19: 819.65 (0.41)m\n",
      "Lap #20: 828.29 (8.64)m\n",
      "Lap #21: 829.18 (0.89)m\n",
      "Lap #22: 838.36 (9.18)m"
     ]
    }
   ],
   "source": [
    "# project: Super Stopwatch\n",
    "\n",
    "import time\n",
    "\n",
    "# Display the program's instructions.\n",
    "print('Press ENTER to begin. Afterward, press ENTER to \"click\" the stopwatch. Press CTRL-C to quit.')\n",
    "input()  # Press Enter to begin\n",
    "print('Started.')\n",
    "startTime = time.time()  # get the first lap's start time\n",
    "lastTime = startTime\n",
    "lapNum = 1\n",
    "\n",
    "# Start tracking the lap times.\n",
    "try:\n",
    "    while True:\n",
    "        input()\n",
    "        lapTime = round(time.time() - lastTime, 2)\n",
    "        totalTime = round(time.time() - startTime, 2)\n",
    "        print('Lap #%s: %s (%s)' % (lapNum, totalTime, lapTime), end='')\n",
    "        lapNum += 1\n",
    "        lastTime = time.time()  # reset the last lap time\n",
    "except keboardInterrupt:\n",
    "      # Handle the Ctrl-C exception to keep its error message from displaying.\n",
    "    print('\\nDone.')"
   ]
  },
  {
   "cell_type": "code",
   "execution_count": 2,
   "id": "9430569f",
   "metadata": {},
   "outputs": [],
   "source": [
    "# datetime Module\n",
    "import datetime"
   ]
  },
  {
   "cell_type": "code",
   "execution_count": 3,
   "id": "0b82cf30",
   "metadata": {},
   "outputs": [
    {
     "data": {
      "text/plain": [
       "datetime.datetime(2022, 9, 7, 11, 44, 58, 738034)"
      ]
     },
     "execution_count": 3,
     "metadata": {},
     "output_type": "execute_result"
    }
   ],
   "source": [
    "datetime.datetime.now() # returns year, month, day, hour, minute seconds, microsecond"
   ]
  },
  {
   "cell_type": "code",
   "execution_count": 4,
   "id": "f3cb1b2a",
   "metadata": {},
   "outputs": [],
   "source": [
    "dt = datetime.datetime(2019, 10, 21, 16, 29, 0)"
   ]
  },
  {
   "cell_type": "code",
   "execution_count": 5,
   "id": "59d4d7df",
   "metadata": {},
   "outputs": [
    {
     "data": {
      "text/plain": [
       "(2019, 10, 21)"
      ]
     },
     "execution_count": 5,
     "metadata": {},
     "output_type": "execute_result"
    }
   ],
   "source": [
    "dt.year, dt.month, dt.day"
   ]
  },
  {
   "cell_type": "code",
   "execution_count": 6,
   "id": "4b1f7692",
   "metadata": {},
   "outputs": [
    {
     "data": {
      "text/plain": [
       "(16, 29, 0)"
      ]
     },
     "execution_count": 6,
     "metadata": {},
     "output_type": "execute_result"
    }
   ],
   "source": [
    "dt.hour, dt.minute, dt.second"
   ]
  },
  {
   "cell_type": "code",
   "execution_count": 7,
   "id": "3f3148d3",
   "metadata": {},
   "outputs": [
    {
     "data": {
      "text/plain": [
       "datetime.datetime(1970, 1, 12, 5, 46, 40)"
      ]
     },
     "execution_count": 7,
     "metadata": {},
     "output_type": "execute_result"
    }
   ],
   "source": [
    "import datetime, time\n",
    "datetime.datetime.fromtimestamp(1000000)"
   ]
  },
  {
   "cell_type": "code",
   "execution_count": 10,
   "id": "0ef83e2b",
   "metadata": {},
   "outputs": [
    {
     "data": {
      "text/plain": [
       "datetime.datetime(2022, 9, 7, 11, 52, 58, 853290)"
      ]
     },
     "execution_count": 10,
     "metadata": {},
     "output_type": "execute_result"
    }
   ],
   "source": [
    "datetime.datetime.fromtimestamp(time.time())  # Same result"
   ]
  },
  {
   "cell_type": "code",
   "execution_count": 11,
   "id": "67e132b9",
   "metadata": {},
   "outputs": [
    {
     "data": {
      "text/plain": [
       "datetime.datetime(2022, 9, 7, 11, 52, 59, 576753)"
      ]
     },
     "execution_count": 11,
     "metadata": {},
     "output_type": "execute_result"
    }
   ],
   "source": [
    "datetime.datetime.now()   # same result"
   ]
  },
  {
   "cell_type": "code",
   "execution_count": 12,
   "id": "06ba6549",
   "metadata": {},
   "outputs": [],
   "source": [
    "halloween2019 = datetime.datetime(2019, 10, 31, 0, 0, 0)"
   ]
  },
  {
   "cell_type": "code",
   "execution_count": 13,
   "id": "b98ada62",
   "metadata": {},
   "outputs": [],
   "source": [
    "newyears2020 = datetime.datetime(2020, 1, 1, 0, 0, 0)"
   ]
  },
  {
   "cell_type": "code",
   "execution_count": 14,
   "id": "ce7e2dd7",
   "metadata": {},
   "outputs": [],
   "source": [
    "oct31_2019 = datetime.datetime(2019, 10, 31, 0, 0, 0)"
   ]
  },
  {
   "cell_type": "code",
   "execution_count": 16,
   "id": "f80f835b",
   "metadata": {},
   "outputs": [
    {
     "data": {
      "text/plain": [
       "True"
      ]
     },
     "execution_count": 16,
     "metadata": {},
     "output_type": "execute_result"
    }
   ],
   "source": [
    "halloween2019 == oct31_2019"
   ]
  },
  {
   "cell_type": "code",
   "execution_count": 17,
   "id": "b688f902",
   "metadata": {},
   "outputs": [
    {
     "data": {
      "text/plain": [
       "False"
      ]
     },
     "execution_count": 17,
     "metadata": {},
     "output_type": "execute_result"
    }
   ],
   "source": [
    "halloween2019 > newyears2020"
   ]
  },
  {
   "cell_type": "code",
   "execution_count": 18,
   "id": "9bfbe991",
   "metadata": {},
   "outputs": [
    {
     "data": {
      "text/plain": [
       "True"
      ]
     },
     "execution_count": 18,
     "metadata": {},
     "output_type": "execute_result"
    }
   ],
   "source": [
    "newyears2020 > halloween2019"
   ]
  },
  {
   "cell_type": "code",
   "execution_count": 19,
   "id": "e192d2a5",
   "metadata": {},
   "outputs": [],
   "source": [
    "# The timedelts Data Type \n",
    "delta = datetime.timedelta(days=11, hours=10, minutes=9, seconds=8)"
   ]
  },
  {
   "cell_type": "code",
   "execution_count": 21,
   "id": "7f38b61a",
   "metadata": {},
   "outputs": [
    {
     "data": {
      "text/plain": [
       "(11, 36548, 0)"
      ]
     },
     "execution_count": 21,
     "metadata": {},
     "output_type": "execute_result"
    }
   ],
   "source": [
    "delta.days, delta.seconds, delta.microseconds"
   ]
  },
  {
   "cell_type": "code",
   "execution_count": 22,
   "id": "a8e016ed",
   "metadata": {},
   "outputs": [
    {
     "data": {
      "text/plain": [
       "986948.0"
      ]
     },
     "execution_count": 22,
     "metadata": {},
     "output_type": "execute_result"
    }
   ],
   "source": [
    "delta.total_seconds()  #11days, 10hours, 9 minutes, 8seconds"
   ]
  },
  {
   "cell_type": "code",
   "execution_count": 23,
   "id": "8778bc50",
   "metadata": {},
   "outputs": [
    {
     "data": {
      "text/plain": [
       "'11 days, 10:09:08'"
      ]
     },
     "execution_count": 23,
     "metadata": {},
     "output_type": "execute_result"
    }
   ],
   "source": [
    "str(delta)"
   ]
  },
  {
   "cell_type": "code",
   "execution_count": 24,
   "id": "15448c0b",
   "metadata": {},
   "outputs": [
    {
     "data": {
      "text/plain": [
       "datetime.datetime(2022, 9, 7, 12, 19, 38, 359978)"
      ]
     },
     "execution_count": 24,
     "metadata": {},
     "output_type": "execute_result"
    }
   ],
   "source": [
    "# arithmatic operators\n",
    "dt = datetime.datetime.now()\n",
    "dt"
   ]
  },
  {
   "cell_type": "code",
   "execution_count": 33,
   "id": "6ad53742",
   "metadata": {},
   "outputs": [],
   "source": [
    "thousandDays = datetime.timedelta(days=1000)"
   ]
  },
  {
   "cell_type": "code",
   "execution_count": 34,
   "id": "f10779dd",
   "metadata": {},
   "outputs": [
    {
     "data": {
      "text/plain": [
       "datetime.datetime(2025, 6, 3, 12, 19, 38, 359978)"
      ]
     },
     "execution_count": 34,
     "metadata": {},
     "output_type": "execute_result"
    }
   ],
   "source": [
    "dt + thousandDays"
   ]
  },
  {
   "cell_type": "code",
   "execution_count": 35,
   "id": "1041df2d",
   "metadata": {},
   "outputs": [],
   "source": [
    "oct21st = datetime.datetime(2019, 10, 21, 16, 29, 0)"
   ]
  },
  {
   "cell_type": "code",
   "execution_count": 40,
   "id": "d3d97903",
   "metadata": {},
   "outputs": [],
   "source": [
    "aboutThirtyYears = datetime.timedelta(days=365*30)"
   ]
  },
  {
   "cell_type": "code",
   "execution_count": 41,
   "id": "e466dbab",
   "metadata": {},
   "outputs": [
    {
     "data": {
      "text/plain": [
       "datetime.datetime(2019, 10, 21, 16, 29)"
      ]
     },
     "execution_count": 41,
     "metadata": {},
     "output_type": "execute_result"
    }
   ],
   "source": [
    "oct21st"
   ]
  },
  {
   "cell_type": "code",
   "execution_count": 42,
   "id": "f101ae77",
   "metadata": {},
   "outputs": [
    {
     "data": {
      "text/plain": [
       "datetime.datetime(1989, 10, 28, 16, 29)"
      ]
     },
     "execution_count": 42,
     "metadata": {},
     "output_type": "execute_result"
    }
   ],
   "source": [
    "oct21st - aboutThirtyYears"
   ]
  },
  {
   "cell_type": "code",
   "execution_count": 44,
   "id": "22f20a52",
   "metadata": {},
   "outputs": [
    {
     "data": {
      "text/plain": [
       "datetime.datetime(1959, 11, 5, 16, 29)"
      ]
     },
     "execution_count": 44,
     "metadata": {},
     "output_type": "execute_result"
    }
   ],
   "source": [
    "oct21st - (2 * aboutThirtyYears)"
   ]
  },
  {
   "cell_type": "code",
   "execution_count": 2,
   "id": "170b3ffd",
   "metadata": {},
   "outputs": [],
   "source": [
    "import datetime\n",
    "import time\n",
    "halloween2016 = datetime.datetime(2016, 10, 31, 0, 0, 0)\n",
    "while datetime.datetime.now() < halloween2016:\n",
    "    time.sleep(1)\n",
    "    "
   ]
  },
  {
   "cell_type": "code",
   "execution_count": 3,
   "id": "b54433e3",
   "metadata": {},
   "outputs": [
    {
     "data": {
      "text/plain": [
       "datetime.datetime(2022, 9, 8, 7, 1, 14, 603264)"
      ]
     },
     "execution_count": 3,
     "metadata": {},
     "output_type": "execute_result"
    }
   ],
   "source": [
    "datetime.datetime.now()"
   ]
  },
  {
   "cell_type": "code",
   "execution_count": 4,
   "id": "6b72ad5e",
   "metadata": {},
   "outputs": [
    {
     "data": {
      "text/plain": [
       "'2019/10/21 16:19:00'"
      ]
     },
     "execution_count": 4,
     "metadata": {},
     "output_type": "execute_result"
    }
   ],
   "source": [
    "oct21st = datetime.datetime(2019, 10, 21, 16, 19, 0)\n",
    "oct21st.strftime('%Y/%m/%d %H:%M:%S')"
   ]
  },
  {
   "cell_type": "code",
   "execution_count": 8,
   "id": "0f04be2a",
   "metadata": {},
   "outputs": [
    {
     "data": {
      "text/plain": [
       "'04:19:00 PM'"
      ]
     },
     "execution_count": 8,
     "metadata": {},
     "output_type": "execute_result"
    }
   ],
   "source": [
    "oct21st.strftime('%I:%M:%S %p')"
   ]
  },
  {
   "cell_type": "code",
   "execution_count": 9,
   "id": "476c52d3",
   "metadata": {},
   "outputs": [
    {
     "data": {
      "text/plain": [
       "\"October of '19 PM\""
      ]
     },
     "execution_count": 9,
     "metadata": {},
     "output_type": "execute_result"
    }
   ],
   "source": [
    "oct21st.strftime(\"%B of '%y %p\")"
   ]
  },
  {
   "cell_type": "code",
   "execution_count": 12,
   "id": "a796f2eb",
   "metadata": {},
   "outputs": [
    {
     "data": {
      "text/plain": [
       "datetime.datetime(2019, 10, 21, 0, 0)"
      ]
     },
     "execution_count": 12,
     "metadata": {},
     "output_type": "execute_result"
    }
   ],
   "source": [
    "#  Converting Strings into datetime Objects\n",
    "datetime.datetime.strptime('October 21, 2019', '%B %d, %Y')"
   ]
  },
  {
   "cell_type": "code",
   "execution_count": 21,
   "id": "b349c5bd",
   "metadata": {},
   "outputs": [
    {
     "data": {
      "text/plain": [
       "datetime.datetime(2019, 10, 21, 16, 29)"
      ]
     },
     "execution_count": 21,
     "metadata": {},
     "output_type": "execute_result"
    }
   ],
   "source": [
    "datetime.datetime.strptime('2019/10/21 16:29:00', '%Y/%m/%d %H:%M:%S')"
   ]
  },
  {
   "cell_type": "code",
   "execution_count": 23,
   "id": "60dbb3ff",
   "metadata": {},
   "outputs": [
    {
     "data": {
      "text/plain": [
       "datetime.datetime(2019, 10, 1, 0, 0)"
      ]
     },
     "execution_count": 23,
     "metadata": {},
     "output_type": "execute_result"
    }
   ],
   "source": [
    "datetime.datetime.strptime(\"October of '19\", \"%B of '%y\")"
   ]
  },
  {
   "cell_type": "code",
   "execution_count": 28,
   "id": "841415a9",
   "metadata": {},
   "outputs": [
    {
     "data": {
      "text/plain": [
       "datetime.datetime(2063, 11, 1, 0, 0)"
      ]
     },
     "execution_count": 28,
     "metadata": {},
     "output_type": "execute_result"
    }
   ],
   "source": [
    "datetime.datetime.strptime(\"November of '63\", \"%B of '%y\")"
   ]
  },
  {
   "cell_type": "code",
   "execution_count": 29,
   "id": "a14e7a02",
   "metadata": {},
   "outputs": [
    {
     "name": "stdout",
     "output_type": "stream",
     "text": [
      "Program now starting on Halloween 2029\n"
     ]
    }
   ],
   "source": [
    "# Multithreading\n",
    "import time, datetime\n",
    "startTime = datetime.datetime(2019, 10, 31, 0, 0, 0)\n",
    "while datetime.datetime.now() < startTime:\n",
    "    time.sleep(1)\n",
    "print('Program now starting on Halloween 2029')"
   ]
  },
  {
   "cell_type": "code",
   "execution_count": 30,
   "id": "f92c98aa",
   "metadata": {},
   "outputs": [
    {
     "name": "stdout",
     "output_type": "stream",
     "text": [
      "Start of program.\n",
      "End of program.\n",
      "wakeup!\n"
     ]
    }
   ],
   "source": [
    "# To make a separate thread, i first need to make a thread object by calling the threading.Thread() function.\n",
    "import threading, time\n",
    "print('Start of program.')\n",
    "def takeANap():\n",
    "    time.sleep(5)\n",
    "    print('wakeup!')\n",
    "    \n",
    "threadObj = threading.Thread(target=takeANap)\n",
    "threadObj.start()\n",
    "\n",
    "print('End of program.')"
   ]
  },
  {
   "cell_type": "code",
   "execution_count": 35,
   "id": "b7727fef",
   "metadata": {},
   "outputs": [
    {
     "name": "stdout",
     "output_type": "stream",
     "text": [
      "Cats&Dogs&Frogs\n"
     ]
    }
   ],
   "source": [
    "# Passing Argumensts to the Thread's Target Function\n",
    "print('Cats', 'Dogs', 'Frogs', sep='&')"
   ]
  },
  {
   "cell_type": "code",
   "execution_count": 36,
   "id": "57a1021b",
   "metadata": {},
   "outputs": [],
   "source": [
    "import threading \n",
    "threadObj = threading.Thread(target=print, args=['Cats', 'Dogs', 'Frogs'], kwargs={'sep': '&'})"
   ]
  },
  {
   "cell_type": "code",
   "execution_count": 37,
   "id": "0852e077",
   "metadata": {},
   "outputs": [
    {
     "name": "stdout",
     "output_type": "stream",
     "text": [
      "Cats&Dogs&Frogs\n"
     ]
    }
   ],
   "source": [
    "threadObj.start()"
   ]
  },
  {
   "cell_type": "code",
   "execution_count": 44,
   "id": "1b25e807",
   "metadata": {},
   "outputs": [
    {
     "data": {
      "text/plain": [
       "<Popen: returncode: None args: 'C:\\\\Windows\\\\System32\\\\calc.exe'>"
      ]
     },
     "execution_count": 44,
     "metadata": {},
     "output_type": "execute_result"
    }
   ],
   "source": [
    "import subprocess\n",
    "subprocess.Popen('C:\\\\Windows\\\\System32\\\\calc.exe')"
   ]
  },
  {
   "cell_type": "code",
   "execution_count": 54,
   "id": "95439a80",
   "metadata": {},
   "outputs": [],
   "source": [
    "import subprocess\n",
    "paintProc = subprocess.Popen('c:\\\\windows\\\\system32\\\\mspaint.exe')"
   ]
  },
  {
   "cell_type": "code",
   "execution_count": 52,
   "id": "f635a7cd",
   "metadata": {},
   "outputs": [
    {
     "data": {
      "text/plain": [
       "True"
      ]
     },
     "execution_count": 52,
     "metadata": {},
     "output_type": "execute_result"
    }
   ],
   "source": [
    "paintProc.poll() == None  # while its running it will return True"
   ]
  },
  {
   "cell_type": "code",
   "execution_count": 53,
   "id": "1a6722f3",
   "metadata": {},
   "outputs": [
    {
     "data": {
      "text/plain": [
       "0"
      ]
     },
     "execution_count": 53,
     "metadata": {},
     "output_type": "execute_result"
    }
   ],
   "source": [
    "paintProc.wait()  # Does't return untill MS Paint closes."
   ]
  },
  {
   "cell_type": "code",
   "execution_count": 57,
   "id": "8e6a0779",
   "metadata": {},
   "outputs": [
    {
     "data": {
      "text/plain": [
       "0"
      ]
     },
     "execution_count": 57,
     "metadata": {},
     "output_type": "execute_result"
    }
   ],
   "source": [
    "paintProc.poll()"
   ]
  },
  {
   "cell_type": "code",
   "execution_count": 63,
   "id": "5c997358",
   "metadata": {},
   "outputs": [
    {
     "data": {
      "text/plain": [
       "<Popen: returncode: None args: ['C:\\\\windows\\\\notepad.exe', 'C:\\\\Users\\\\Dell...>"
      ]
     },
     "execution_count": 63,
     "metadata": {},
     "output_type": "execute_result"
    }
   ],
   "source": [
    "# Passing Command Line Arguments to the Popen() Function\n",
    "import subprocess\n",
    "subprocess.Popen(['C:\\\\windows\\\\notepad.exe', 'C:\\\\Users\\Dell\\\\hello.txt'])"
   ]
  },
  {
   "cell_type": "code",
   "execution_count": 72,
   "id": "7557432a",
   "metadata": {},
   "outputs": [
    {
     "data": {
      "text/plain": [
       "13"
      ]
     },
     "execution_count": 72,
     "metadata": {},
     "output_type": "execute_result"
    }
   ],
   "source": [
    "# Opening Files with Default Applications\n",
    "fileObj = open('hello.txt', 'w')\n",
    "fileObj.write('Hello, world!')"
   ]
  },
  {
   "cell_type": "code",
   "execution_count": 73,
   "id": "b1480508",
   "metadata": {},
   "outputs": [],
   "source": [
    "fileObj.close()"
   ]
  },
  {
   "cell_type": "code",
   "execution_count": 76,
   "id": "82c00d9e",
   "metadata": {},
   "outputs": [
    {
     "data": {
      "text/plain": [
       "<Popen: returncode: None args: ['start', 'hello.txt']>"
      ]
     },
     "execution_count": 76,
     "metadata": {},
     "output_type": "execute_result"
    }
   ],
   "source": [
    "import subprocess\n",
    "subprocess.Popen(['start', 'hello.txt'], shell=True)"
   ]
  },
  {
   "cell_type": "code",
   "execution_count": 85,
   "id": "2f39edd7",
   "metadata": {},
   "outputs": [
    {
     "name": "stdout",
     "output_type": "stream",
     "text": [
      "654321"
     ]
    },
    {
     "data": {
      "text/plain": [
       "<Popen: returncode: None args: ['start', 'alarm.wav']>"
      ]
     },
     "execution_count": 85,
     "metadata": {},
     "output_type": "execute_result"
    }
   ],
   "source": [
    "# Project: Simple Countdown Program\n",
    "\n",
    "import time, subprocess\n",
    "timeleft = 6\n",
    "while timeleft > 0:\n",
    "    print(timeleft, end='')\n",
    "    time.sleep(1)\n",
    "    timeleft = timeleft - 1\n",
    "# At the end of the coundown, play a sound file.\n",
    "subprocess.Popen(['start', 'alarm.wav'], shell=True)"
   ]
  },
  {
   "cell_type": "code",
   "execution_count": null,
   "id": "288adc3d",
   "metadata": {},
   "outputs": [],
   "source": []
  }
 ],
 "metadata": {
  "kernelspec": {
   "display_name": "Python 3 (ipykernel)",
   "language": "python",
   "name": "python3"
  },
  "language_info": {
   "codemirror_mode": {
    "name": "ipython",
    "version": 3
   },
   "file_extension": ".py",
   "mimetype": "text/x-python",
   "name": "python",
   "nbconvert_exporter": "python",
   "pygments_lexer": "ipython3",
   "version": "3.9.12"
  }
 },
 "nbformat": 4,
 "nbformat_minor": 5
}
