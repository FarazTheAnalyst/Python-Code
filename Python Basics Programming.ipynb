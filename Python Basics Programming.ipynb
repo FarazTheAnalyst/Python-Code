{
 "cells": [
  {
   "cell_type": "code",
   "execution_count": 2,
   "id": "3582d2af",
   "metadata": {},
   "outputs": [
    {
     "name": "stdout",
     "output_type": "stream",
     "text": [
      "What is your name?\n",
      "Faraz\n",
      "it is good to meet you, Faraz\n",
      "The length of your name\n",
      "5\n",
      "What is your age? \n",
      "29\n",
      "You will be 30 in a year\n"
     ]
    }
   ],
   "source": [
    "# This Program says hello and asks for my name.\n",
    "\n",
    "print('What is your name?')    #ask for their name\n",
    "myName = input()      #input() always return a string, even you enters a number\n",
    "print('it is good to meet you, ' + myName)\n",
    "print('The length of your name')\n",
    "print(len(myName))     #print integer value of the number of character\n",
    "print('What is your age? ')    #ask for their age\n",
    "myAge = input()\n",
    "print('You will be ' + str(int(myAge) + 1) +\n",
    "      ' in a year')"
   ]
  },
  {
   "cell_type": "code",
   "execution_count": 6,
   "id": "f4cc4a62",
   "metadata": {},
   "outputs": [
    {
     "name": "stdout",
     "output_type": "stream",
     "text": [
      "i love data science\n",
      "\n",
      "i love to be a data analyst\n"
     ]
    }
   ],
   "source": [
    "#You can also use this function to put a blank line on the screen; just call print() \n",
    "# with nothing in between the parentheses\n",
    "\n",
    "print('i love data science')\n",
    "print()\n",
    "print('i love to be a data analyst')"
   ]
  },
  {
   "cell_type": "code",
   "execution_count": 7,
   "id": "a148a029",
   "metadata": {},
   "outputs": [
    {
     "data": {
      "text/plain": [
       "5"
      ]
     },
     "execution_count": 7,
     "metadata": {},
     "output_type": "execute_result"
    }
   ],
   "source": [
    "len('hello')"
   ]
  },
  {
   "cell_type": "code",
   "execution_count": 8,
   "id": "d49bf1b8",
   "metadata": {},
   "outputs": [
    {
     "data": {
      "text/plain": [
       "46"
      ]
     },
     "execution_count": 8,
     "metadata": {},
     "output_type": "execute_result"
    }
   ],
   "source": [
    "len('My very energetic monster just scarfed nachos.')"
   ]
  },
  {
   "cell_type": "code",
   "execution_count": 9,
   "id": "8117ba6c",
   "metadata": {},
   "outputs": [
    {
     "data": {
      "text/plain": [
       "0"
      ]
     },
     "execution_count": 9,
     "metadata": {},
     "output_type": "execute_result"
    }
   ],
   "source": [
    "len('')"
   ]
  },
  {
   "cell_type": "code",
   "execution_count": 10,
   "id": "67f8d424",
   "metadata": {},
   "outputs": [
    {
     "data": {
      "text/plain": [
       "'29'"
      ]
     },
     "execution_count": 10,
     "metadata": {},
     "output_type": "execute_result"
    }
   ],
   "source": [
    "# The str(), int(), and float() Functions\n",
    "\n",
    "str(29)    #returns a string\n"
   ]
  },
  {
   "cell_type": "code",
   "execution_count": 13,
   "id": "672ec8e3",
   "metadata": {},
   "outputs": [
    {
     "name": "stdout",
     "output_type": "stream",
     "text": [
      "I am 29 years old.\n"
     ]
    }
   ],
   "source": [
    "print('I am ' + str(29) + ' years old.')"
   ]
  },
  {
   "cell_type": "code",
   "execution_count": 14,
   "id": "33500350",
   "metadata": {},
   "outputs": [
    {
     "data": {
      "text/plain": [
       "'0'"
      ]
     },
     "execution_count": 14,
     "metadata": {},
     "output_type": "execute_result"
    }
   ],
   "source": [
    "str(0)"
   ]
  },
  {
   "cell_type": "code",
   "execution_count": 15,
   "id": "0a2e7e1f",
   "metadata": {},
   "outputs": [
    {
     "data": {
      "text/plain": [
       "'-3.14'"
      ]
     },
     "execution_count": 15,
     "metadata": {},
     "output_type": "execute_result"
    }
   ],
   "source": [
    "str(-3.14)"
   ]
  },
  {
   "cell_type": "code",
   "execution_count": 22,
   "id": "06239d92",
   "metadata": {},
   "outputs": [
    {
     "data": {
      "text/plain": [
       "82"
      ]
     },
     "execution_count": 22,
     "metadata": {},
     "output_type": "execute_result"
    }
   ],
   "source": [
    "int('82')"
   ]
  },
  {
   "cell_type": "code",
   "execution_count": 23,
   "id": "608304d2",
   "metadata": {},
   "outputs": [
    {
     "data": {
      "text/plain": [
       "-98"
      ]
     },
     "execution_count": 23,
     "metadata": {},
     "output_type": "execute_result"
    }
   ],
   "source": [
    "int('-98')"
   ]
  },
  {
   "cell_type": "code",
   "execution_count": 24,
   "id": "7a5b6482",
   "metadata": {},
   "outputs": [
    {
     "data": {
      "text/plain": [
       "1"
      ]
     },
     "execution_count": 24,
     "metadata": {},
     "output_type": "execute_result"
    }
   ],
   "source": [
    "int(1.25)"
   ]
  },
  {
   "cell_type": "code",
   "execution_count": 25,
   "id": "c662a4fa",
   "metadata": {},
   "outputs": [
    {
     "data": {
      "text/plain": [
       "1"
      ]
     },
     "execution_count": 25,
     "metadata": {},
     "output_type": "execute_result"
    }
   ],
   "source": [
    "int(1.99)"
   ]
  },
  {
   "cell_type": "code",
   "execution_count": 26,
   "id": "de674c88",
   "metadata": {},
   "outputs": [
    {
     "data": {
      "text/plain": [
       "2.45"
      ]
     },
     "execution_count": 26,
     "metadata": {},
     "output_type": "execute_result"
    }
   ],
   "source": [
    "float('2.45')"
   ]
  },
  {
   "cell_type": "code",
   "execution_count": 21,
   "id": "e8c1b14c",
   "metadata": {},
   "outputs": [
    {
     "data": {
      "text/plain": [
       "30.0"
      ]
     },
     "execution_count": 21,
     "metadata": {},
     "output_type": "execute_result"
    }
   ],
   "source": [
    "float(30)"
   ]
  },
  {
   "cell_type": "code",
   "execution_count": 29,
   "id": "0d0ccfb1",
   "metadata": {},
   "outputs": [
    {
     "name": "stdout",
     "output_type": "stream",
     "text": [
      "203\n"
     ]
    }
   ],
   "source": [
    "bam = input()    #returns string"
   ]
  },
  {
   "cell_type": "code",
   "execution_count": 31,
   "id": "f2402da6",
   "metadata": {},
   "outputs": [
    {
     "data": {
      "text/plain": [
       "'203'"
      ]
     },
     "execution_count": 31,
     "metadata": {},
     "output_type": "execute_result"
    }
   ],
   "source": [
    "bam"
   ]
  },
  {
   "cell_type": "markdown",
   "id": "55030807",
   "metadata": {},
   "source": [
    "bam = int(bam)"
   ]
  },
  {
   "cell_type": "code",
   "execution_count": 32,
   "id": "1284fd3a",
   "metadata": {},
   "outputs": [],
   "source": [
    "bam = int(bam)   #returns integer"
   ]
  },
  {
   "cell_type": "code",
   "execution_count": 33,
   "id": "38b484e3",
   "metadata": {},
   "outputs": [
    {
     "data": {
      "text/plain": [
       "203"
      ]
     },
     "execution_count": 33,
     "metadata": {},
     "output_type": "execute_result"
    }
   ],
   "source": [
    "bam"
   ]
  },
  {
   "cell_type": "code",
   "execution_count": 34,
   "id": "83525a36",
   "metadata": {},
   "outputs": [
    {
     "data": {
      "text/plain": [
       "2283.75"
      ]
     },
     "execution_count": 34,
     "metadata": {},
     "output_type": "execute_result"
    }
   ],
   "source": [
    "bam * 45 / 4"
   ]
  },
  {
   "cell_type": "code",
   "execution_count": 36,
   "id": "f642e229",
   "metadata": {},
   "outputs": [
    {
     "data": {
      "text/plain": [
       "44"
      ]
     },
     "execution_count": 36,
     "metadata": {},
     "output_type": "execute_result"
    }
   ],
   "source": [
    "int(44.34)     #int() is useful for rounding a floating-point number\n"
   ]
  },
  {
   "cell_type": "code",
   "execution_count": 37,
   "id": "f67559b9",
   "metadata": {},
   "outputs": [
    {
     "data": {
      "text/plain": [
       "4"
      ]
     },
     "execution_count": 37,
     "metadata": {},
     "output_type": "execute_result"
    }
   ],
   "source": [
    "int(3.3) + 1"
   ]
  },
  {
   "cell_type": "code",
   "execution_count": 38,
   "id": "b866385d",
   "metadata": {},
   "outputs": [
    {
     "ename": "ValueError",
     "evalue": "invalid literal for int() with base 10: '99.88'",
     "output_type": "error",
     "traceback": [
      "\u001b[1;31m---------------------------------------------------------------------------\u001b[0m",
      "\u001b[1;31mValueError\u001b[0m                                Traceback (most recent call last)",
      "Input \u001b[1;32mIn [38]\u001b[0m, in \u001b[0;36m<cell line: 1>\u001b[1;34m()\u001b[0m\n\u001b[1;32m----> 1\u001b[0m \u001b[38;5;28;43mint\u001b[39;49m\u001b[43m(\u001b[49m\u001b[38;5;124;43m'\u001b[39;49m\u001b[38;5;124;43m99.88\u001b[39;49m\u001b[38;5;124;43m'\u001b[39;49m\u001b[43m)\u001b[49m\n",
      "\u001b[1;31mValueError\u001b[0m: invalid literal for int() with base 10: '99.88'"
     ]
    }
   ],
   "source": [
    "int('99.88')   #this will show an error"
   ]
  },
  {
   "cell_type": "code",
   "execution_count": null,
   "id": "0987549d",
   "metadata": {},
   "outputs": [],
   "source": []
  }
 ],
 "metadata": {
  "kernelspec": {
   "display_name": "Python 3 (ipykernel)",
   "language": "python",
   "name": "python3"
  },
  "language_info": {
   "codemirror_mode": {
    "name": "ipython",
    "version": 3
   },
   "file_extension": ".py",
   "mimetype": "text/x-python",
   "name": "python",
   "nbconvert_exporter": "python",
   "pygments_lexer": "ipython3",
   "version": "3.9.12"
  }
 },
 "nbformat": 4,
 "nbformat_minor": 5
}
