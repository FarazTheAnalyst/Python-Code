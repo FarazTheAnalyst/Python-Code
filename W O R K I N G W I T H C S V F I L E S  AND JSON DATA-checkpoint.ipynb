{
 "cells": [
  {
   "cell_type": "code",
   "execution_count": 3,
   "id": "0676389a",
   "metadata": {},
   "outputs": [
    {
     "data": {
      "text/plain": [
       "[['4/5/2014 13:34', 'Apples', '73'],\n",
       " ['4/5/2014 3:41', 'Cherries', '85'],\n",
       " ['4/6/2014 12:46', 'Pears', '14'],\n",
       " ['4/8/2014 8:59', 'Oranges', '52'],\n",
       " ['4/10/2014 2:07', 'Apples', '152'],\n",
       " ['4/10/2014 18:10', 'Bananas', '23'],\n",
       " ['4/10/2014 2:40', 'Strawberries', '98']]"
      ]
     },
     "execution_count": 3,
     "metadata": {},
     "output_type": "execute_result"
    }
   ],
   "source": [
    "# CSV Module\n",
    "# reader Object\n",
    "import csv\n",
    "exampleFile = open('example.csv')\n",
    "exampleReader = csv.reader(exampleFile)\n",
    "exampleData = list(exampleReader)\n",
    "exampleData"
   ]
  },
  {
   "cell_type": "code",
   "execution_count": 4,
   "id": "2b8ba6a4",
   "metadata": {},
   "outputs": [
    {
     "data": {
      "text/plain": [
       "'4/5/2014 13:34'"
      ]
     },
     "execution_count": 4,
     "metadata": {},
     "output_type": "execute_result"
    }
   ],
   "source": [
    "# Now we have the CSV file as list of lists\n",
    "# we can access the value at a partivular row and column with the expression\n",
    "# exampleData[row][col],\n",
    "\n",
    "exampleData[0][0]       # row is the index of one of the lists in exampleData\n",
    "# and col is the index of the item  you from that list."
   ]
  },
  {
   "cell_type": "code",
   "execution_count": 5,
   "id": "c22b0f90",
   "metadata": {},
   "outputs": [
    {
     "data": {
      "text/plain": [
       "'Apples'"
      ]
     },
     "execution_count": 5,
     "metadata": {},
     "output_type": "execute_result"
    }
   ],
   "source": [
    "exampleData[0][1]"
   ]
  },
  {
   "cell_type": "code",
   "execution_count": 6,
   "id": "102696cf",
   "metadata": {},
   "outputs": [
    {
     "data": {
      "text/plain": [
       "'73'"
      ]
     },
     "execution_count": 6,
     "metadata": {},
     "output_type": "execute_result"
    }
   ],
   "source": [
    "exampleData[0][2]"
   ]
  },
  {
   "cell_type": "code",
   "execution_count": 7,
   "id": "c03dec1a",
   "metadata": {},
   "outputs": [
    {
     "data": {
      "text/plain": [
       "'4/5/2014 3:41'"
      ]
     },
     "execution_count": 7,
     "metadata": {},
     "output_type": "execute_result"
    }
   ],
   "source": [
    "exampleData[1][0]"
   ]
  },
  {
   "cell_type": "code",
   "execution_count": 8,
   "id": "6d0c1270",
   "metadata": {},
   "outputs": [
    {
     "data": {
      "text/plain": [
       "'Strawberries'"
      ]
     },
     "execution_count": 8,
     "metadata": {},
     "output_type": "execute_result"
    }
   ],
   "source": [
    "exampleData[6][1]"
   ]
  },
  {
   "cell_type": "code",
   "execution_count": 9,
   "id": "b93affe8",
   "metadata": {},
   "outputs": [
    {
     "name": "stdout",
     "output_type": "stream",
     "text": [
      "Row #1 ['4/5/2014 13:34', 'Apples', '73']\n",
      "Row #2 ['4/5/2014 3:41', 'Cherries', '85']\n",
      "Row #3 ['4/6/2014 12:46', 'Pears', '14']\n",
      "Row #4 ['4/8/2014 8:59', 'Oranges', '52']\n",
      "Row #5 ['4/10/2014 2:07', 'Apples', '152']\n",
      "Row #6 ['4/10/2014 18:10', 'Bananas', '23']\n",
      "Row #7 ['4/10/2014 2:40', 'Strawberries', '98']\n"
     ]
    }
   ],
   "source": [
    "# Rreading Data from reader Objects in a for loop\n",
    "import csv\n",
    "exampleFile = open('example.csv')\n",
    "exampleReader = csv.reader(exampleFile)\n",
    "\n",
    "for row in exampleReader:\n",
    "    print('Row #' + str(exampleReader.line_num) + ' ' + str(row))"
   ]
  },
  {
   "cell_type": "code",
   "execution_count": 12,
   "id": "4e5b0d01",
   "metadata": {},
   "outputs": [],
   "source": [
    "# Writer Objects\n",
    "import csv\n",
    "outputFile = open('output.csv', 'w', newline = '')   #if you forget to set the newline argument, the rows in output.csv # will be double-spaced\n",
    "outputWriter = csv.writer(outputFile)\n",
    "outputWriter.writerow(['spam', 'eggs', 'bacon', 'ham'])\n",
    "\n",
    "outputWriter.writerow(['Hello, world!', 'eggs', 'bacon', 'ham'])\n",
    "\n",
    "outputWriter.writerow([1, 2, 3.141592, 4])\n",
    "outputFile.close()"
   ]
  },
  {
   "cell_type": "code",
   "execution_count": 13,
   "id": "c552876d",
   "metadata": {},
   "outputs": [],
   "source": [
    "# The delimeiter and lineterminator Keyword Arguments\n",
    "import csv\n",
    "csvFile = open('example.tsv', 'w', newline='')\n",
    "csvWriter = csv.writer(csvFile, delimiter='\\t', lineterminator='\\n\\n')\n",
    "csvWriter.writerow(['apples', 'oranges', 'grapes'])\n",
    "\n",
    "csvWriter.writerow(['eggs', 'bacon', 'ham'])\n",
    "\n",
    "csvWriter.writerow(['spam', 'spam', 'spam', 'spam', 'spam', 'spam'])\n",
    "\n",
    "csvFile.close()"
   ]
  },
  {
   "cell_type": "code",
   "execution_count": 14,
   "id": "0d6b1561",
   "metadata": {},
   "outputs": [
    {
     "name": "stdout",
     "output_type": "stream",
     "text": [
      "4/5/2014 13:34 Apples 73\n",
      "4/5/2014 3:41 Cherries 85\n",
      "4/6/2014 12:46 Pears 14\n",
      "4/8/2014 8:59 Oranges 52\n",
      "4/10/2014 2:07 Apples 152\n",
      "4/10/2014 18:10 Bananas 23\n",
      "4/10/2014 2:40 Strawberries 98\n"
     ]
    }
   ],
   "source": [
    "#  DictReader and DictWrier CSV Objects\n",
    "import csv\n",
    "exampleFile = open('exampleWithHeader.csv')\n",
    "exampleDictReader = csv.DictReader(exampleFile)\n",
    "for row in exampleDictReader:\n",
    "    print(row['Timestamp'], row['Fruit'], row['Quantity'])"
   ]
  },
  {
   "cell_type": "code",
   "execution_count": 15,
   "id": "342fa92d",
   "metadata": {},
   "outputs": [
    {
     "name": "stdout",
     "output_type": "stream",
     "text": [
      "Timestamp Fruit Quantity\n",
      "4/5/2014 13:34 Apples 73\n",
      "4/5/2014 3:41 Cherries 85\n",
      "4/6/2014 12:46 Pears 14\n",
      "4/8/2014 8:59 Oranges 52\n",
      "4/10/2014 2:07 Apples 152\n",
      "4/10/2014 18:10 Bananas 23\n",
      "4/10/2014 2:40 Strawberries 98\n"
     ]
    }
   ],
   "source": [
    "# Trying DictReader objects with example.csv, which doesn't have column headers in the first row.\n",
    "import csv\n",
    "exampleFile = open('example.csv')   # No HEADER in this file\n",
    "exampleDictReader = csv.DictReader(exampleFile, ['time', 'name', 'amount'])\n",
    "\n",
    "for row in exampleDictReader:\n",
    "    print(row['time'], row['name'], row['amount'])"
   ]
  },
  {
   "cell_type": "code",
   "execution_count": 20,
   "id": "6fcf9d62",
   "metadata": {},
   "outputs": [],
   "source": [
    "# DictWriter objects use dictionaries to create CSV files.\n",
    "import csv\n",
    "outputFile = open('output.csv', 'w', newline='')\n",
    "outputDictWriter = csv.DictWriter(outputFile, ['Name', 'Pet', 'Phone'])\n",
    "outputDictWriter.writeheader()\n",
    "\n",
    "outputDictWriter.writerow({'Name': 'Alice', 'Pet': 'Cat', 'Phone': '555-1234'})\n",
    "outputDictWriter.writerow({'Name': 'Bob', 'Phone': '555-9999'})\n",
    "outputDictWriter.writerow({'Phone': '555-555', 'Name': 'Carol', 'Pet': 'dog'})\n",
    "\n",
    "outputFile.close()"
   ]
  },
  {
   "cell_type": "code",
   "execution_count": 25,
   "id": "fb1dd6c8",
   "metadata": {},
   "outputs": [
    {
     "name": "stdout",
     "output_type": "stream",
     "text": [
      "Removing header fromexample.csv....\n",
      "Removing header fromexampleWithHeader.csv....\n",
      "Removing header fromNAICS_data_1048.csv....\n",
      "Removing header fromNAICS_data_1218.csv....\n",
      "Removing header fromNAICS_data_1657.csv....\n",
      "Removing header fromNAICS_data_1751.csv....\n",
      "Removing header fromNAICS_data_1814.csv....\n",
      "Removing header fromNAICS_data_1817.csv....\n",
      "Removing header fromNAICS_data_1889.csv....\n",
      "Removing header fromNAICS_data_1952.csv....\n",
      "Removing header fromNAICS_data_1973.csv....\n",
      "Removing header fromNAICS_data_2066.csv....\n",
      "Removing header fromNAICS_data_2092.csv....\n",
      "Removing header fromNAICS_data_2183.csv....\n",
      "Removing header fromNAICS_data_2346.csv....\n",
      "Removing header fromNAICS_data_2427.csv....\n",
      "Removing header fromNAICS_data_2648.csv....\n",
      "Removing header fromNAICS_data_2799.csv....\n",
      "Removing header fromNAICS_data_2828.csv....\n",
      "Removing header fromNAICS_data_2959.csv....\n",
      "Removing header fromNAICS_data_2988.csv....\n",
      "Removing header fromNAICS_data_2993.csv....\n",
      "Removing header fromNAICS_data_2994.csv....\n",
      "Removing header fromNAICS_data_3044.csv....\n",
      "Removing header fromNAICS_data_3073.csv....\n",
      "Removing header fromNAICS_data_3075.csv....\n",
      "Removing header fromNAICS_data_3144.csv....\n",
      "Removing header fromNAICS_data_3197.csv....\n",
      "Removing header fromNAICS_data_3237.csv....\n",
      "Removing header fromNAICS_data_3494.csv....\n",
      "Removing header fromNAICS_data_3495.csv....\n",
      "Removing header fromNAICS_data_3731.csv....\n",
      "Removing header fromNAICS_data_4031.csv....\n",
      "Removing header fromNAICS_data_4125.csv....\n",
      "Removing header fromNAICS_data_4213.csv....\n",
      "Removing header fromNAICS_data_4215.csv....\n",
      "Removing header fromNAICS_data_4329.csv....\n",
      "Removing header fromNAICS_data_4436.csv....\n",
      "Removing header fromNAICS_data_4525.csv....\n",
      "Removing header fromNAICS_data_4610.csv....\n",
      "Removing header fromNAICS_data_4618.csv....\n",
      "Removing header fromNAICS_data_4699.csv....\n",
      "Removing header fromNAICS_data_4896.csv....\n",
      "Removing header fromNAICS_data_4938.csv....\n",
      "Removing header fromNAICS_data_5060.csv....\n",
      "Removing header fromNAICS_data_5092.csv....\n",
      "Removing header fromNAICS_data_5305.csv....\n",
      "Removing header fromNAICS_data_5341.csv....\n",
      "Removing header fromNAICS_data_5364.csv....\n",
      "Removing header fromNAICS_data_5631.csv....\n",
      "Removing header fromNAICS_data_5890.csv....\n",
      "Removing header fromNAICS_data_5899.csv....\n",
      "Removing header fromNAICS_data_5992.csv....\n",
      "Removing header fromNAICS_data_6161.csv....\n",
      "Removing header fromNAICS_data_6181.csv....\n",
      "Removing header fromNAICS_data_6329.csv....\n",
      "Removing header fromNAICS_data_6335.csv....\n",
      "Removing header fromNAICS_data_6397.csv....\n",
      "Removing header fromNAICS_data_6493.csv....\n",
      "Removing header fromNAICS_data_6637.csv....\n",
      "Removing header fromNAICS_data_6700.csv....\n",
      "Removing header fromNAICS_data_6842.csv....\n",
      "Removing header fromNAICS_data_6904.csv....\n",
      "Removing header fromNAICS_data_7028.csv....\n",
      "Removing header fromNAICS_data_7102.csv....\n",
      "Removing header fromNAICS_data_7138.csv....\n",
      "Removing header fromNAICS_data_7226.csv....\n",
      "Removing header fromNAICS_data_7338.csv....\n",
      "Removing header fromNAICS_data_7383.csv....\n",
      "Removing header fromNAICS_data_7388.csv....\n",
      "Removing header fromNAICS_data_7427.csv....\n",
      "Removing header fromNAICS_data_7535.csv....\n",
      "Removing header fromNAICS_data_7642.csv....\n",
      "Removing header fromNAICS_data_7677.csv....\n",
      "Removing header fromNAICS_data_7765.csv....\n",
      "Removing header fromNAICS_data_7830.csv....\n",
      "Removing header fromNAICS_data_7833.csv....\n",
      "Removing header fromNAICS_data_7845.csv....\n",
      "Removing header fromNAICS_data_7913.csv....\n",
      "Removing header fromNAICS_data_8015.csv....\n",
      "Removing header fromNAICS_data_8085.csv....\n",
      "Removing header fromNAICS_data_8131.csv....\n",
      "Removing header fromNAICS_data_8196.csv....\n",
      "Removing header fromNAICS_data_8397.csv....\n",
      "Removing header fromNAICS_data_8403.csv....\n",
      "Removing header fromNAICS_data_8499.csv....\n",
      "Removing header fromNAICS_data_8522.csv....\n",
      "Removing header fromNAICS_data_8545.csv....\n",
      "Removing header fromNAICS_data_8700.csv....\n",
      "Removing header fromNAICS_data_8749.csv....\n",
      "Removing header fromNAICS_data_8760.csv....\n",
      "Removing header fromNAICS_data_8832.csv....\n",
      "Removing header fromNAICS_data_9012.csv....\n",
      "Removing header fromNAICS_data_9066.csv....\n",
      "Removing header fromNAICS_data_9103.csv....\n",
      "Removing header fromNAICS_data_9139.csv....\n",
      "Removing header fromNAICS_data_9165.csv....\n",
      "Removing header fromNAICS_data_9250.csv....\n",
      "Removing header fromNAICS_data_9448.csv....\n",
      "Removing header fromNAICS_data_9825.csv....\n",
      "Removing header fromNAICS_data_9834.csv....\n",
      "Removing header fromNAICS_data_9986.csv....\n",
      "Removing header fromouput.csv....\n",
      "Removing header fromoutput.csv....\n"
     ]
    }
   ],
   "source": [
    "# Project: Removing the Header from CSV Files\n",
    "# Removes the header form all Csv files in the current working directory\n",
    "\n",
    "import csv, os\n",
    "os.makedirs('headerRemoved', exist_ok=True)\n",
    "\n",
    "# Loop through every file in the current working directory.\n",
    "for csvFilename in os.listdir('.'):\n",
    "    if not  csvFilename.endswith('.csv'):\n",
    "        continue    # skip non- csv files\n",
    "        \n",
    "    print('Removing header from' + csvFilename + '....')\n",
    "    \n",
    "    # Read the Csv file() in (skipping first row).\n",
    "    csvRows = []\n",
    "    csvFileObj = open(csvFilename)\n",
    "    readerObj = csv.reader(csvFileObj)\n",
    "    for row in readerObj:\n",
    "        if readerObj.line_num == 1:\n",
    "            continue   # skip first row\n",
    "        csvRows.append(row)\n",
    "    csvFileObj.close()\n",
    "    \n",
    "    # Write out the CSV file.\n",
    "    csvFileObj = open(os.path.join('headerRemoved', csvFilename), 'w', newline='')\n",
    "    csvWriter = csv.writer(csvFileObj)\n",
    "    for row in csvRows:\n",
    "        csvWriter.writerow(row)   #we loop over the sublists stored in csvRows and write each sublist to the file.\n",
    "    csvFileObj.close()"
   ]
  },
  {
   "cell_type": "code",
   "execution_count": 12,
   "id": "598e36a9",
   "metadata": {},
   "outputs": [],
   "source": [
    "# The json Module\n",
    "# Reading JSON with the loads() Function\n",
    "stringOfJsonData = '{\"name\": \"Zophie\", \"isCat\": true, \"miceCaught\": 0, \"felineIQ\": null}'"
   ]
  },
  {
   "cell_type": "code",
   "execution_count": 13,
   "id": "4eb889ee",
   "metadata": {},
   "outputs": [
    {
     "data": {
      "text/plain": [
       "{'name': 'Zophie', 'isCat': True, 'miceCaught': 0, 'felineIQ': None}"
      ]
     },
     "execution_count": 13,
     "metadata": {},
     "output_type": "execute_result"
    }
   ],
   "source": [
    "import json\n",
    "jsonDataAsPythonValue = json.loads(stringOfJsonData)\n",
    "jsonDataAsPythonValue"
   ]
  },
  {
   "cell_type": "code",
   "execution_count": 19,
   "id": "857124ee",
   "metadata": {},
   "outputs": [],
   "source": [
    "# writing JSON with dumps() Function\n",
    "pythonValue = {'cat': True, 'miceCaught': 0, 'name': 'zophie', 'felinIQ': None}"
   ]
  },
  {
   "cell_type": "code",
   "execution_count": 21,
   "id": "fef992fe",
   "metadata": {},
   "outputs": [
    {
     "data": {
      "text/plain": [
       "'{\"cat\": true, \"miceCaught\": 0, \"name\": \"zophie\", \"felinIQ\": null}'"
      ]
     },
     "execution_count": 21,
     "metadata": {},
     "output_type": "execute_result"
    }
   ],
   "source": [
    "import json \n",
    "stringOfJsonData = json.dumps(pythonValue)\n",
    "stringOfJsonData"
   ]
  },
  {
   "cell_type": "code",
   "execution_count": 27,
   "id": "db31efd8",
   "metadata": {},
   "outputs": [
    {
     "ename": "HTTPError",
     "evalue": "401 Client Error: Unauthorized for url: https://api.openweathermap.org/data/2.5/forecast/?q=-f%20C:%5CUsers%5CDELL%5CAppData%5CRoaming%5Cjupyter%5Cruntime%5Ckernel-ab0d1199-0144-4193-992c-d4a9a7802d93.json&APPID=YOUR_APPID_HERE",
     "output_type": "error",
     "traceback": [
      "\u001b[1;31m---------------------------------------------------------------------------\u001b[0m",
      "\u001b[1;31mHTTPError\u001b[0m                                 Traceback (most recent call last)",
      "Input \u001b[1;32mIn [27]\u001b[0m, in \u001b[0;36m<cell line: 14>\u001b[1;34m()\u001b[0m\n\u001b[0;32m     12\u001b[0m url \u001b[38;5;241m=\u001b[39m\u001b[38;5;124m'\u001b[39m\u001b[38;5;124mhttps://api.openweathermap.org/data/2.5/forecast/?q=\u001b[39m\u001b[38;5;132;01m%s\u001b[39;00m\u001b[38;5;124m&APPID=\u001b[39m\u001b[38;5;132;01m%s\u001b[39;00m\u001b[38;5;124m'\u001b[39m \u001b[38;5;241m%\u001b[39m (location, APPID)\n\u001b[0;32m     13\u001b[0m response \u001b[38;5;241m=\u001b[39m requests\u001b[38;5;241m.\u001b[39mget(url)\n\u001b[1;32m---> 14\u001b[0m \u001b[43mresponse\u001b[49m\u001b[38;5;241;43m.\u001b[39;49m\u001b[43mraise_for_status\u001b[49m\u001b[43m(\u001b[49m\u001b[43m)\u001b[49m\n\u001b[0;32m     15\u001b[0m \u001b[38;5;66;03m# Uncomment to see the raw JSON text:\u001b[39;00m\n\u001b[0;32m     16\u001b[0m \u001b[38;5;66;03m# print(response.text)\u001b[39;00m\n\u001b[0;32m     17\u001b[0m \n\u001b[0;32m     18\u001b[0m \u001b[38;5;66;03m# Load JSON data into a Python variable.\u001b[39;00m\n\u001b[0;32m     19\u001b[0m weatherData \u001b[38;5;241m=\u001b[39m json\u001b[38;5;241m.\u001b[39mloads(response\u001b[38;5;241m.\u001b[39mtext)\n",
      "File \u001b[1;32m~\\anaconda3\\lib\\site-packages\\requests\\models.py:960\u001b[0m, in \u001b[0;36mResponse.raise_for_status\u001b[1;34m(self)\u001b[0m\n\u001b[0;32m    957\u001b[0m     http_error_msg \u001b[38;5;241m=\u001b[39m \u001b[38;5;124mu\u001b[39m\u001b[38;5;124m'\u001b[39m\u001b[38;5;132;01m%s\u001b[39;00m\u001b[38;5;124m Server Error: \u001b[39m\u001b[38;5;132;01m%s\u001b[39;00m\u001b[38;5;124m for url: \u001b[39m\u001b[38;5;132;01m%s\u001b[39;00m\u001b[38;5;124m'\u001b[39m \u001b[38;5;241m%\u001b[39m (\u001b[38;5;28mself\u001b[39m\u001b[38;5;241m.\u001b[39mstatus_code, reason, \u001b[38;5;28mself\u001b[39m\u001b[38;5;241m.\u001b[39murl)\n\u001b[0;32m    959\u001b[0m \u001b[38;5;28;01mif\u001b[39;00m http_error_msg:\n\u001b[1;32m--> 960\u001b[0m     \u001b[38;5;28;01mraise\u001b[39;00m HTTPError(http_error_msg, response\u001b[38;5;241m=\u001b[39m\u001b[38;5;28mself\u001b[39m)\n",
      "\u001b[1;31mHTTPError\u001b[0m: 401 Client Error: Unauthorized for url: https://api.openweathermap.org/data/2.5/forecast/?q=-f%20C:%5CUsers%5CDELL%5CAppData%5CRoaming%5Cjupyter%5Cruntime%5Ckernel-ab0d1199-0144-4193-992c-d4a9a7802d93.json&APPID=YOUR_APPID_HERE"
     ]
    }
   ],
   "source": [
    "# Get Location from the Command Line Argument\n",
    "\n",
    "APPID = 'YOUR_APPID_HERE'\n",
    "import json, requests, sys\n",
    "# Compute location from command line arguments.\n",
    "if len(sys.argv) < 2:\n",
    " print('Usage: getOpenWeather.py city_name, 2-letter_country_code')\n",
    " sys.exit()\n",
    "location = ' '.join(sys.argv[1:])\n",
    "\n",
    "# Download the JSON data from OpenWeatherMap.org's API.\n",
    "url ='https://api.openweathermap.org/data/2.5/forecast/?q=%s&APPID=%s' % (location, APPID)\n",
    "response = requests.get(url)\n",
    "response.raise_for_status()\n",
    "# Uncomment to see the raw JSON text:\n",
    "# print(response.text)\n",
    "\n",
    "# Load JSON data into a Python variable.\n",
    "weatherData = json.loads(response.text)\n",
    "# Print weather descriptions.\n",
    "w = weatherData['list']\n",
    "print('Current weather in %s:' % (location))\n",
    "print(w[0]['weather'][0]['main'], '-', w[0]['weather'][0]['description'])\n",
    "print()\n",
    "print('Tomorrow:')\n",
    "print(w[1]['weather'][0]['main'], '-', w[1]['weather'][0]['description'])\n",
    "print()\n",
    "print('Day after tomorrow:')\n",
    "print(w[2]['weather'][0]['main'], '-', w[2]['weather'][0]['description'])"
   ]
  },
  {
   "cell_type": "code",
   "execution_count": null,
   "id": "0ebb26e2",
   "metadata": {},
   "outputs": [],
   "source": []
  }
 ],
 "metadata": {
  "kernelspec": {
   "display_name": "Python 3 (ipykernel)",
   "language": "python",
   "name": "python3"
  },
  "language_info": {
   "codemirror_mode": {
    "name": "ipython",
    "version": 3
   },
   "file_extension": ".py",
   "mimetype": "text/x-python",
   "name": "python",
   "nbconvert_exporter": "python",
   "pygments_lexer": "ipython3",
   "version": "3.9.12"
  }
 },
 "nbformat": 4,
 "nbformat_minor": 5
}
